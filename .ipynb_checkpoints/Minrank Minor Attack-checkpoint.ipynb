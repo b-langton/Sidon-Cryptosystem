{
 "cells": [
  {
   "cell_type": "code",
   "execution_count": 1,
   "metadata": {},
   "outputs": [],
   "source": [
    "load('sidon_cryptosystem.sage')\n",
    "def getLinearizedCoeff(y, x, k, r, matrixList, c_matrix):\n",
    "    if y % 100 == 0 and x == 0: \n",
    "        print(y)\n",
    "    t1,a1,t2,a2,d,lx,ly,jx,jy = getIndices(y,x,k,r)\n",
    "\n",
    "    if t1*r*k + a1 > t2*r*k + a2: \n",
    "      \n",
    "        return 0\n",
    "    c = c_matrix[a1][a2][d]\n",
    "    coeff = c*(matrixList[t1][jy][ly]*matrixList[t2][jx][lx] - matrixList[t1][jy][lx]*matrixList[t2][jx][ly])\n",
    "\n",
    "    coeff2 = 0\n",
    "    if t1*r*k + a1 != t2*r*k + a2:\n",
    "        \n",
    "        temp = t1\n",
    "        t1 = t2\n",
    "        t2 = temp\n",
    "\n",
    "        temp = a1\n",
    "        a1 = a2\n",
    "        a2 = temp\n",
    "        \n",
    "        c2 = c_matrix[a1][a2][d]\n",
    "        coeff2 = c2*(matrixList[t1][jy][ly]*matrixList[t2][jx][lx] - matrixList[t1][jy][lx]*matrixList[t2][jx][ly])\n",
    "           \n",
    "    return coeff + coeff2\n",
    "def getIndices(y,x, k, r): \n",
    "    y = int(y)\n",
    "    x = int(x)\n",
    "    rk  = r*k\n",
    "    t1 = x//rk^3\n",
    "    rem = x% rk^3 \n",
    "    a1 = rem//rk^2\n",
    "    rem = rem%rk^2\n",
    "    t2 = rem//rk\n",
    "    rem = rem%rk\n",
    "    a2= rem \n",
    "    \n",
    "    \n",
    "    d = y//((k^2-k)*(k^2 - k)/4)\n",
    "    rem = y%((k^2-k)*(k^2 - k)/4)\n",
    "    l = rem//int(((k^2 - k)/2)) + 1\n",
    "    rem = rem%((k^2 - k)/2)\n",
    "    j = rem + 1 \n",
    "    \n",
    "   \n",
    "    lx  = 1\n",
    "    jx = 1\n",
    "    ly = 0\n",
    "    jy = 0\n",
    "    continuel = True\n",
    "    continuej = True\n",
    "    startl = k*(k-1)/2\n",
    "    startj = k*(k-1)/2\n",
    "    for i in range(k-1):\n",
    "        if continuel == True:\n",
    "            startl -= k-1 - i\n",
    "            if l> startl:\n",
    "                lx = k-1 - i \n",
    "                ly = l - startl - 1\n",
    "                continuel = False\n",
    "        if continuej == True:\n",
    "            startj -= k-1 - i\n",
    "            if j> startj:\n",
    "                jx = k-1 - i \n",
    "                jy = j - startj - 1\n",
    "                continuej = False\n",
    "    return int(t1), int(a1), int(t2), int(a2), int(d), int(lx), int(ly), int(jx), int(jy)\n",
    "            "
   ]
  },
  {
   "cell_type": "code",
   "execution_count": 3,
   "metadata": {},
   "outputs": [
    {
     "name": "stdout",
     "output_type": "stream",
     "text": [
      "[4 2 2 4 2 6]\n",
      "[3 6 3 5 6 5]\n",
      "[3 6 5 2 1 1]\n",
      "[2 3 1 0 4 1]\n",
      "[4 1 1 0 0 6]\n",
      "[1 4 1 4 1 6]\n"
     ]
    }
   ],
   "source": [
    "q =  7\n",
    "basefield = GF(q)\n",
    "k = 3\n",
    "r = 2\n",
    "rk = r*k\n",
    "y, F, F_r, d, c = ConstructSidon2k(q, k)\n",
    "matrixList, sidonbasis, mult_table, F_r_basis , origbasis = publicKey(y,q,F,F_r)\n",
    "basefield = GF(q)\n",
    "\n",
    "##Construct a random basis for F_r \n",
    "F_r_basis_new = Matrix(basefield, rk, lambda i,j: basefield.random_element())\n",
    "while F_r_basis_new.is_invertible() == False: \n",
    "     F_r_basis_new = Matrix(basefield, rk, lambda i,j: basefield.random_element())\n",
    "cob_matrix = F_r_basis_new.inverse()\n",
    "basiselements = []\n",
    "for i in range(rk): \n",
    "    basiselements += [convertFromLong(F_r_basis_new[i], F, F_r)]\n",
    "c_matrix = [[0 for i in range(rk)] for j in range(rk)]\n",
    "new_mult_table = [[i*j for i in basiselements] for j in basiselements]\n",
    "for i in range(rk): \n",
    "    for j in range(rk): \n",
    "        element = convertToLong(new_mult_table[i][j])\n",
    "        c_matrix[i][j] = element*cob_matrix"
   ]
  },
  {
   "cell_type": "code",
   "execution_count": null,
   "metadata": {},
   "outputs": [],
   "source": [
    "eqn_mat = Matrix(basefield, (k^3*(k-1)^2)/2, rk^4, lambda i,j: getLinearizedCoeff(i,j, k, r, matrixList, c_matrix))"
   ]
  },
  {
   "cell_type": "code",
   "execution_count": 4,
   "metadata": {},
   "outputs": [
    {
     "ename": "ValueError",
     "evalue": "variable name '[x1' is not alphanumeric",
     "output_type": "error",
     "traceback": [
      "\u001b[0;31m---------------------------------------------------------------------------\u001b[0m",
      "\u001b[0;31mValueError\u001b[0m                                Traceback (most recent call last)",
      "\u001b[0;32m<ipython-input-4-f2cd0ac79106>\u001b[0m in \u001b[0;36m<module>\u001b[0;34m()\u001b[0m\n\u001b[0;32m----> 1\u001b[0;31m \u001b[0mR\u001b[0m \u001b[0;34m=\u001b[0m \u001b[0mPolynomialRing\u001b[0m\u001b[0;34m(\u001b[0m\u001b[0mQQ\u001b[0m\u001b[0;34m,\u001b[0m \u001b[0mnames\u001b[0m\u001b[0;34m=\u001b[0m\u001b[0;34m(\u001b[0m\u001b[0;34m'[x1'\u001b[0m\u001b[0;34m,\u001b[0m \u001b[0;34m'x2]'\u001b[0m\u001b[0;34m,\u001b[0m\u001b[0;34m)\u001b[0m\u001b[0;34m)\u001b[0m\u001b[0;34m;\u001b[0m \u001b[0;34m(\u001b[0m\u001b[0;34m[\u001b[0m\u001b[0mx1\u001b[0m\u001b[0;34m,\u001b[0m \u001b[0mx2\u001b[0m\u001b[0;34m]\u001b[0m\u001b[0;34m,\u001b[0m\u001b[0;34m)\u001b[0m \u001b[0;34m=\u001b[0m \u001b[0mR\u001b[0m\u001b[0;34m.\u001b[0m\u001b[0m_first_ngens\u001b[0m\u001b[0;34m(\u001b[0m\u001b[0;36m2\u001b[0m\u001b[0;34m)\u001b[0m\u001b[0;34m\u001b[0m\u001b[0;34m\u001b[0m\u001b[0m\n\u001b[0m",
      "\u001b[0;32m/opt/sagemath-9.0/local/lib/python3.7/site-packages/sage/rings/polynomial/polynomial_ring_constructor.py\u001b[0m in \u001b[0;36mPolynomialRing\u001b[0;34m(base_ring, *args, **kwds)\u001b[0m\n\u001b[1;32m    631\u001b[0m             \u001b[0;32mraise\u001b[0m \u001b[0mTypeError\u001b[0m\u001b[0;34m(\u001b[0m\u001b[0;34m\"you must specify the names of the variables\"\u001b[0m\u001b[0;34m)\u001b[0m\u001b[0;34m\u001b[0m\u001b[0;34m\u001b[0m\u001b[0m\n\u001b[1;32m    632\u001b[0m \u001b[0;34m\u001b[0m\u001b[0m\n\u001b[0;32m--> 633\u001b[0;31m     \u001b[0mnames\u001b[0m \u001b[0;34m=\u001b[0m \u001b[0mnormalize_names\u001b[0m\u001b[0;34m(\u001b[0m\u001b[0mn\u001b[0m\u001b[0;34m,\u001b[0m \u001b[0mnames\u001b[0m\u001b[0;34m)\u001b[0m\u001b[0;34m\u001b[0m\u001b[0;34m\u001b[0m\u001b[0m\n\u001b[0m\u001b[1;32m    634\u001b[0m \u001b[0;34m\u001b[0m\u001b[0m\n\u001b[1;32m    635\u001b[0m     \u001b[0;31m# At this point, we have only handled the \"names\" keyword if it was\u001b[0m\u001b[0;34m\u001b[0m\u001b[0;34m\u001b[0m\u001b[0;34m\u001b[0m\u001b[0m\n",
      "\u001b[0;32m/opt/sagemath-9.0/local/lib/python3.7/site-packages/sage/structure/category_object.pyx\u001b[0m in \u001b[0;36msage.structure.category_object.normalize_names (build/cythonized/sage/structure/category_object.c:8424)\u001b[0;34m()\u001b[0m\n\u001b[1;32m    922\u001b[0m \u001b[0;34m\u001b[0m\u001b[0m\n\u001b[1;32m    923\u001b[0m \u001b[0;34m\u001b[0m\u001b[0m\n\u001b[0;32m--> 924\u001b[0;31m \u001b[0mcpdef\u001b[0m \u001b[0mnormalize_names\u001b[0m\u001b[0;34m(\u001b[0m\u001b[0mPy_ssize_t\u001b[0m \u001b[0mngens\u001b[0m\u001b[0;34m,\u001b[0m \u001b[0mnames\u001b[0m\u001b[0;34m)\u001b[0m\u001b[0;34m:\u001b[0m\u001b[0;34m\u001b[0m\u001b[0;34m\u001b[0m\u001b[0m\n\u001b[0m\u001b[1;32m    925\u001b[0m     r\"\"\"\n\u001b[1;32m    926\u001b[0m     \u001b[0mReturn\u001b[0m \u001b[0ma\u001b[0m \u001b[0mtuple\u001b[0m \u001b[0mof\u001b[0m \u001b[0mstrings\u001b[0m \u001b[0mof\u001b[0m \u001b[0mvariable\u001b[0m \u001b[0mnames\u001b[0m \u001b[0mof\u001b[0m \u001b[0mlength\u001b[0m \u001b[0mngens\u001b[0m \u001b[0mgiven\u001b[0m\u001b[0;34m\u001b[0m\u001b[0;34m\u001b[0m\u001b[0m\n",
      "\u001b[0;32m/opt/sagemath-9.0/local/lib/python3.7/site-packages/sage/structure/category_object.pyx\u001b[0m in \u001b[0;36msage.structure.category_object.normalize_names (build/cythonized/sage/structure/category_object.c:8272)\u001b[0;34m()\u001b[0m\n\u001b[1;32m   1040\u001b[0m                 \u001b[0mnames\u001b[0m \u001b[0;34m=\u001b[0m \u001b[0msage\u001b[0m\u001b[0;34m.\u001b[0m\u001b[0mmisc\u001b[0m\u001b[0;34m.\u001b[0m\u001b[0mdefaults\u001b[0m\u001b[0;34m.\u001b[0m\u001b[0mvariable_names\u001b[0m\u001b[0;34m(\u001b[0m\u001b[0mngens\u001b[0m\u001b[0;34m,\u001b[0m \u001b[0mnames\u001b[0m\u001b[0;34m)\u001b[0m\u001b[0;34m\u001b[0m\u001b[0;34m\u001b[0m\u001b[0m\n\u001b[1;32m   1041\u001b[0m \u001b[0;34m\u001b[0m\u001b[0m\n\u001b[0;32m-> 1042\u001b[0;31m     \u001b[0mcertify_names\u001b[0m\u001b[0;34m(\u001b[0m\u001b[0mnames\u001b[0m\u001b[0;34m)\u001b[0m\u001b[0;34m\u001b[0m\u001b[0;34m\u001b[0m\u001b[0m\n\u001b[0m\u001b[1;32m   1043\u001b[0m     \u001b[0;32mif\u001b[0m \u001b[0mngens\u001b[0m \u001b[0;34m>=\u001b[0m \u001b[0;36m0\u001b[0m \u001b[0;32mand\u001b[0m \u001b[0mlen\u001b[0m\u001b[0;34m(\u001b[0m\u001b[0mnames\u001b[0m\u001b[0;34m)\u001b[0m \u001b[0;34m!=\u001b[0m \u001b[0mngens\u001b[0m\u001b[0;34m:\u001b[0m\u001b[0;34m\u001b[0m\u001b[0;34m\u001b[0m\u001b[0m\n\u001b[1;32m   1044\u001b[0m        \u001b[0;32mraise\u001b[0m \u001b[0mIndexError\u001b[0m\u001b[0;34m(\u001b[0m\u001b[0;34m\"the number of names must equal the number of generators\"\u001b[0m\u001b[0;34m)\u001b[0m\u001b[0;34m\u001b[0m\u001b[0;34m\u001b[0m\u001b[0m\n",
      "\u001b[0;32m/opt/sagemath-9.0/local/lib/python3.7/site-packages/sage/structure/category_object.pyx\u001b[0m in \u001b[0;36msage.structure.category_object.certify_names (build/cythonized/sage/structure/category_object.c:8707)\u001b[0;34m()\u001b[0m\n\u001b[1;32m   1090\u001b[0m         \u001b[0;32mif\u001b[0m \u001b[0;32mnot\u001b[0m \u001b[0mN\u001b[0m\u001b[0;34m.\u001b[0m\u001b[0mreplace\u001b[0m\u001b[0;34m(\u001b[0m\u001b[0;34m\"_\"\u001b[0m\u001b[0;34m,\u001b[0m \u001b[0;34m\"\"\u001b[0m\u001b[0;34m)\u001b[0m\u001b[0;34m.\u001b[0m\u001b[0misalnum\u001b[0m\u001b[0;34m(\u001b[0m\u001b[0;34m)\u001b[0m\u001b[0;34m:\u001b[0m\u001b[0;34m\u001b[0m\u001b[0;34m\u001b[0m\u001b[0m\n\u001b[1;32m   1091\u001b[0m             \u001b[0;31m# We must be alphanumeric, but we make an exception for non-leading '_' characters.\u001b[0m\u001b[0;34m\u001b[0m\u001b[0;34m\u001b[0m\u001b[0;34m\u001b[0m\u001b[0m\n\u001b[0;32m-> 1092\u001b[0;31m             \u001b[0;32mraise\u001b[0m \u001b[0mValueError\u001b[0m\u001b[0;34m(\u001b[0m\u001b[0;34m\"variable name {!r} is not alphanumeric\"\u001b[0m\u001b[0;34m.\u001b[0m\u001b[0mformat\u001b[0m\u001b[0;34m(\u001b[0m\u001b[0mN\u001b[0m\u001b[0;34m)\u001b[0m\u001b[0;34m)\u001b[0m\u001b[0;34m\u001b[0m\u001b[0;34m\u001b[0m\u001b[0m\n\u001b[0m\u001b[1;32m   1093\u001b[0m         \u001b[0;32mif\u001b[0m \u001b[0;32mnot\u001b[0m \u001b[0mN\u001b[0m\u001b[0;34m[\u001b[0m\u001b[0;36m0\u001b[0m\u001b[0;34m]\u001b[0m\u001b[0;34m.\u001b[0m\u001b[0misalpha\u001b[0m\u001b[0;34m(\u001b[0m\u001b[0;34m)\u001b[0m\u001b[0;34m:\u001b[0m\u001b[0;34m\u001b[0m\u001b[0;34m\u001b[0m\u001b[0m\n\u001b[1;32m   1094\u001b[0m             \u001b[0;32mraise\u001b[0m \u001b[0mValueError\u001b[0m\u001b[0;34m(\u001b[0m\u001b[0;34m\"variable name {!r} does not start with a letter\"\u001b[0m\u001b[0;34m.\u001b[0m\u001b[0mformat\u001b[0m\u001b[0;34m(\u001b[0m\u001b[0mN\u001b[0m\u001b[0;34m)\u001b[0m\u001b[0;34m)\u001b[0m\u001b[0;34m\u001b[0m\u001b[0;34m\u001b[0m\u001b[0m\n",
      "\u001b[0;31mValueError\u001b[0m: variable name '[x1' is not alphanumeric"
     ]
    }
   ],
   "source": [
    "R.<[x1,x2]> = PolynomialRing(QQ)"
   ]
  },
  {
   "cell_type": "code",
   "execution_count": null,
   "metadata": {},
   "outputs": [],
   "source": []
  }
 ],
 "metadata": {
  "kernelspec": {
   "display_name": "SageMath 9.0",
   "language": "sage",
   "name": "sagemath"
  },
  "language_info": {
   "codemirror_mode": {
    "name": "ipython",
    "version": 3
   },
   "file_extension": ".py",
   "mimetype": "text/x-python",
   "name": "python",
   "nbconvert_exporter": "python",
   "pygments_lexer": "ipython3",
   "version": "3.7.3"
  }
 },
 "nbformat": 4,
 "nbformat_minor": 2
}
