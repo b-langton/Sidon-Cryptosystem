{
 "cells": [
  {
   "cell_type": "code",
   "execution_count": 1,
   "metadata": {},
   "outputs": [],
   "source": [
    "load('sidon_cryptosystem.sage')"
   ]
  },
  {
   "cell_type": "code",
   "execution_count": null,
   "metadata": {},
   "outputs": [],
   "source": []
  },
  {
   "cell_type": "code",
   "execution_count": null,
   "metadata": {},
   "outputs": [],
   "source": []
  },
  {
   "cell_type": "code",
   "execution_count": null,
   "metadata": {},
   "outputs": [],
   "source": []
  },
  {
   "cell_type": "code",
   "execution_count": 3,
   "metadata": {},
   "outputs": [
    {
     "name": "stdout",
     "output_type": "stream",
     "text": [
      "5\n",
      "(0, 4, 5, 0, 1)\n",
      "10 10\n",
      "[5 5 5 5 5 0 0 0 0 0]\n",
      "[2 1 2 3 6 0 0 0 0 0]\n",
      "[6 6 1 6 2 0 0 0 0 0]\n",
      "[5 2 2 2 3 0 0 0 0 0]\n",
      "[5 1 1 0 1 0 0 0 0 0]\n",
      "[2 3 5 4 3 2 2 2 2 2]\n",
      "[3 6 5 4 6 5 6 5 4 1]\n",
      "[4 0 3 4 0 1 1 6 1 5]\n",
      "[4 5 0 6 2 2 5 5 5 4]\n",
      "[6 4 6 0 1 2 6 6 0 6]\n"
     ]
    }
   ],
   "source": [
    "##minrank minor attack on the sidon cryptosystem. \n",
    "##Construct the cryptosystem\n",
    "\n",
    "q = 7\n",
    "basefield = GF(q)\n",
    "k = 5\n",
    "r = 2\n",
    "rk = r*k\n",
    "y, F, F_r, d, c = ConstructSidon2k(q, k)\n",
    "matrixList, sidonbasis, mult_table, F_r_basis , origbasis = fakePublicKey(y,q,F,F_r)\n",
    "basefield = GF(q)\n",
    "\n",
    "##Construct a random basis for F_r \n",
    "F_r_basis_new = Matrix(basefield, rk, lambda i,j: basefield.random_element())\n",
    "while F_r_basis_new.is_invertible() == False: \n",
    "     F_r_basis_new = Matrix(basefield, rk, lambda i,j: basefield.random_element())\n",
    "cob_matrix = F_r_basis_new.inverse()\n",
    "basiselements = []\n",
    "for i in range(rk): \n",
    "    basiselements += [convertFromLong(F_r_basis_new[i], F, F_r)]\n",
    "    "
   ]
  },
  {
   "cell_type": "code",
   "execution_count": null,
   "metadata": {},
   "outputs": [],
   "source": [
    "vector(basiselements)"
   ]
  },
  {
   "cell_type": "code",
   "execution_count": 26,
   "metadata": {},
   "outputs": [],
   "source": [
    "def fakePublicKey(y,q, F, F_r): \n",
    "    ##Generates the public key (and associated private key) using info from the given sidon space \n",
    "    p = F.characteristic()\n",
    "    k = len(F.modulus().list()) - 1\n",
    "    print(k)\n",
    "    r = len(F_r.modulus().list()) - 1\n",
    "\n",
    "    rk = (len(F_r.modulus().list()) - 1)*k\n",
    "    basefield = GF(q)\n",
    "    iterations = 0\n",
    "    iterations2 = 0\n",
    "    \n",
    "    ##Construct bases for the sidon space as well as F_r\n",
    "    sidonbasis = Matrix(basefield, k, lambda i,j: basefield.random_element()*0)\n",
    "    while sidonbasis.is_invertible() == False and iterations < 500:\n",
    "        element = F.random_element()\n",
    "        sidonbasis = Matrix([list(vector(element^(q^i))) for i in range(k)])\n",
    "        iterations += 1\n",
    "   \n",
    "    \n",
    "    ##Get the multiplication table from the basis of the sidon space\n",
    "    print(sidonbasis[0])\n",
    "    v = [F(list(sidonbasis[i])) for i in range(k)]\n",
    "    origbasis = sidonbasis\n",
    "    ##sidonbasis = [j + j^q*y for  j in v]\n",
    "    ##sidonbasis = [j + j^q*y for  j in v]\n",
    "    sidonbasis = [F_r.random_element()*y*y^-1 for j in v]\n",
    "    \n",
    "    mult_table = vector(sidonbasis).column()*vector(sidonbasis).row()\n",
    "\n",
    "   \n",
    "\n",
    "    extended_basis = [[j*y^i for j in v] for i in range(r)]\n",
    "    vec_extended_basis  = []\n",
    "    for j in extended_basis:\n",
    "        vec_extended_basis += j\n",
    "    extended_basis  = Matrix([convertToLong(i) for i in vec_extended_basis])\n",
    "    assert(extended_basis.is_invertible() == True)\n",
    "    print(extended_basis.nrows(), extended_basis.ncols())\n",
    "    F_r_basis = extended_basis\n",
    "    assert(iterations<500 and iterations2<500)\n",
    "    cob_matrix = F_r_basis.inverse()\n",
    "    print(cob_matrix)\n",
    "    vec_list = [[0 for i in range(k)] for j in range(k)]\n",
    "\n",
    "    ##Generate the public key M(V,B)\n",
    "    for i in range(k): \n",
    "        for j in range(k):\n",
    "            element = mult_table[i][j]\n",
    "            long_representation = convertToLong(element)\n",
    "            vec_list[i][j] = list(long_representation*cob_matrix) \n",
    "    matrixlist = [0 for i in range(rk)]\n",
    "    \n",
    "    ##Return the public key \n",
    "    for i in range(rk): \n",
    "        matrixlist[i] = Matrix(basefield, k, lambda l,j: vec_list[l][j][i])\n",
    "    return matrixlist, sidonbasis, mult_table, F_r_basis, origbasis"
   ]
  },
  {
   "cell_type": "code",
   "execution_count": null,
   "metadata": {},
   "outputs": [],
   "source": [
    "new_mult_table"
   ]
  },
  {
   "cell_type": "code",
   "execution_count": 29,
   "metadata": {},
   "outputs": [],
   "source": [
    "c_matrix = [[0 for i in range(rk)] for j in range(rk)]\n",
    "new_mult_table = [[i*j for i in basiselements] for j in basiselements]\n",
    "for i in range(rk): \n",
    "    for j in range(rk): \n",
    "        element = convertToLong(new_mult_table[i][j])\n",
    "        c_matrix[i][j] = element*cob_matrix"
   ]
  },
  {
   "cell_type": "code",
   "execution_count": 40,
   "metadata": {},
   "outputs": [
    {
     "data": {
      "text/plain": [
       "[(11, 14, 6, 2, 3, 6),\n",
       " (0, 3, 20, 4, 14, 5),\n",
       " (6, 4, 16, 21, 6, 18),\n",
       " (1, 3, 18, 13, 4, 0),\n",
       " (7, 0, 22, 8, 15, 22),\n",
       " (0, 19, 14, 19, 9, 11)]"
      ]
     },
     "execution_count": 40,
     "metadata": {},
     "output_type": "execute_result"
    }
   ],
   "source": [
    "c_matrix[0]"
   ]
  },
  {
   "cell_type": "code",
   "execution_count": 52,
   "metadata": {},
   "outputs": [
    {
     "data": {
      "text/plain": [
       "[5 4 4 6 0]\n",
       "[4 5 3 2 0]\n",
       "[4 3 5 2 5]\n",
       "[6 2 2 5 4]\n",
       "[0 0 5 4 6]"
      ]
     },
     "execution_count": 52,
     "metadata": {},
     "output_type": "execute_result"
    }
   ],
   "source": [
    "matrixList[0]"
   ]
  },
  {
   "cell_type": "code",
   "execution_count": 4,
   "metadata": {},
   "outputs": [],
   "source": [
    "def getIndices(y,x, k, r): \n",
    "    y = int(y)\n",
    "    x = int(x)\n",
    "    rk  = r*k\n",
    "    t1 = x//rk^3\n",
    "    rem = x% rk^3 \n",
    "    a1 = rem//rk^2\n",
    "    rem = rem%rk^2\n",
    "    t2 = rem//rk\n",
    "    rem = rem%rk\n",
    "    a2= rem \n",
    "    \n",
    "    \n",
    "    d = y//((k^2-k)*(k^2 - k)/4)\n",
    "    rem = y%((k^2-k)*(k^2 - k)/4)\n",
    "    l = rem//int(((k^2 - k)/2)) + 1\n",
    "    rem = rem%((k^2 - k)/2)\n",
    "    j = rem + 1 \n",
    "    \n",
    "   \n",
    "    lx  = 1\n",
    "    jx = 1\n",
    "    ly = 0\n",
    "    jy = 0\n",
    "    continuel = True\n",
    "    continuej = True\n",
    "    startl = k*(k-1)/2\n",
    "    startj = k*(k-1)/2\n",
    "    for i in range(k-1):\n",
    "        if continuel == True:\n",
    "            startl -= k-1 - i\n",
    "            if l> startl:\n",
    "                lx = k-1 - i \n",
    "                ly = l - startl - 1\n",
    "                continuel = False\n",
    "        if continuej == True:\n",
    "            startj -= k-1 - i\n",
    "            if j> startj:\n",
    "                jx = k-1 - i \n",
    "                jy = j - startj - 1\n",
    "                continuej = False\n",
    "    return int(t1), int(a1), int(t2), int(a2), int(d), int(lx), int(ly), int(jx), int(jy)\n",
    "            \n",
    "            \n",
    "        \n",
    "    \n",
    "    "
   ]
  },
  {
   "cell_type": "code",
   "execution_count": null,
   "metadata": {},
   "outputs": [],
   "source": [
    "print([i for i in range(5)])"
   ]
  },
  {
   "cell_type": "code",
   "execution_count": 23,
   "metadata": {},
   "outputs": [],
   "source": [
    "## j = jx, i = jy, r = lx, l = ly\n",
    "\n",
    "def getSimpleCoeff(y,x,k, r, matrixList):\n",
    "    t1, a1, t2, a2, d, lx, ly, jx, jy = getIndices(y,x,k,r)\n",
    "    ##if(lx*k^2 + ly*k > jx * k^2 + jy*k): \n",
    "       ## return 0\n",
    "    if x < r*k:\n",
    "       \n",
    "        return matrixList[x][jy][ly]*matrixList[x][jx][lx] - matrixList[x][jy][lx]*matrixList[x][jx][ly]\n",
    "    else: \n",
    "      \n",
    "        x = (rk+1)*(rk)/2 - x\n",
    "        ##x = x - rk\n",
    "        start = r*k*(r*k-1)/2\n",
    "        x1 = 1\n",
    "        x2 = 0\n",
    "        for i in range(r*k-1):\n",
    "            start -= r*k-1 - i\n",
    "            if x> start:\n",
    "                x1 = r*k-1 - i \n",
    "                x2 = x - start - 1\n",
    "                break\n",
    "        ##print(x1, x2)\n",
    "        return matrixList[x1][jy][ly]*matrixList[x2][jx][lx] - matrixList[x1][jy][lx]*matrixList[x2][jx][ly] + matrixList[x2][jy][ly]*matrixList[x1][jx][lx] - matrixList[x2][jy][lx]*matrixList[x1][jx][ly]\n",
    "            \n",
    "               "
   ]
  },
  {
   "cell_type": "code",
   "execution_count": 21,
   "metadata": {},
   "outputs": [],
   "source": [
    "def getLinearizedCoeff(y, x, k, r, matrixList, c_matrix):\n",
    "    if y % 100 == 0 and x == 0: \n",
    "        print(y)\n",
    "    t1,a1,t2,a2,d,lx,ly,jx,jy = getIndices(y,x,k,r)\n",
    "\n",
    "    if t1*r*k + a1 > t2*r*k + a2: \n",
    "      \n",
    "        return 0\n",
    "    c = c_matrix[a1][a2][d]\n",
    "    coeff = c*(matrixList[t1][jy][ly]*matrixList[t2][jx][lx] - matrixList[t1][jy][lx]*matrixList[t2][jx][ly])\n",
    "\n",
    "    coeff2 = 0\n",
    "    if t1*r*k + a1 != t2*r*k + a2:\n",
    "        \n",
    "        temp = t1\n",
    "        t1 = t2\n",
    "        t2 = temp\n",
    "\n",
    "        temp = a1\n",
    "        a1 = a2\n",
    "        a2 = temp\n",
    "        \n",
    "        c2 = c_matrix[a1][a2][d]\n",
    "        coeff2 = c2*(matrixList[t1][jy][ly]*matrixList[t2][jx][lx] - matrixList[t1][jy][lx]*matrixList[t2][jx][ly])\n",
    "           \n",
    "    return coeff + coeff2\n",
    "    "
   ]
  },
  {
   "cell_type": "code",
   "execution_count": 131,
   "metadata": {},
   "outputs": [],
   "source": [
    "k = 6\n",
    "r = 3\n",
    "rk = r*k\n",
    "matrixList = [0 for i in range(rk)]\n",
    "for i in range(rk): \n",
    "    c = Matrix(basefield, k, lambda i, j:basefield.random_element())\n",
    "    c2 = c+ c.transpose() \n",
    "    matrixList[i] = c2"
   ]
  },
  {
   "cell_type": "code",
   "execution_count": 39,
   "metadata": {},
   "outputs": [
    {
     "name": "stdout",
     "output_type": "stream",
     "text": [
      "[1 0 0 1 1 2 1 2 1 2 2 1]\n",
      "[1 0 0 1 2 2 2 0 2 2 0 2]\n",
      "[1 1 1 2 2 2 0 2 1 2 1 2]\n",
      "[1 2 2 2 2 1 0 2 2 0 0 0]\n",
      "[2 0 2 1 1 2 1 0 0 0 0 2]\n",
      "[1 0 0 1 1 1 2 0 1 1 1 2]\n",
      "[1 1 2 0 1 0 1 1 0 1 1 1]\n",
      "[1 2 0 0 1 2 1 2 0 0 1 0]\n",
      "[2 1 1 1 1 1 0 0 0 2 2 2]\n",
      "[0 2 1 0 1 2 0 2 0 0 2 2]\n",
      "[2 0 2 0 1 0 1 0 1 0 1 2]\n",
      "[1 2 2 2 1 0 0 2 2 1 2 2]\n"
     ]
    }
   ],
   "source": [
    "q = 3\n",
    "basefield = GF(q)\n",
    "k = 6\n",
    "r = 2\n",
    "rk = r*k\n",
    "y, F, F_r, c, d = ConstructSidon2k(q, k)\n",
    "matrixList, sidonbasis, mult_table, F_r_basis , origbasis = publicKey(y,q,F,F_r)\n",
    "basefield = GF(q)\n",
    "\n",
    "##Construct a random basis for F_r \n",
    "F_r_basis_new = Matrix(basefield, rk, lambda i,j: basefield.random_element())\n",
    "while F_r_basis_new.is_invertible() == False: \n",
    "     F_r_basis_new = Matrix(basefield, rk, lambda i,j: basefield.random_element())\n",
    "cob_matrix = F_r_basis_new.inverse()\n",
    "basiselements = []\n",
    "for i in range(rk): \n",
    "    basiselements += [convertFromLong(F_r_basis_new[i], F, F_r)]"
   ]
  },
  {
   "cell_type": "code",
   "execution_count": 40,
   "metadata": {},
   "outputs": [],
   "source": [
    "##matrixList = matrixList[0:3]\n",
    "\n",
    "\n",
    "simple_mat = Matrix(basefield, (k*(k-1)/2)^2, (rk+1)*(rk)/2, lambda i, j: getSimpleCoeff(i,j,k,r,matrixList))"
   ]
  },
  {
   "cell_type": "code",
   "execution_count": 41,
   "metadata": {},
   "outputs": [
    {
     "data": {
      "text/plain": [
       "54"
      ]
     },
     "execution_count": 41,
     "metadata": {},
     "output_type": "execute_result"
    }
   ],
   "source": [
    "simple_mat.rank()"
   ]
  },
  {
   "cell_type": "code",
   "execution_count": null,
   "metadata": {},
   "outputs": [],
   "source": [
    "simple_mat_basis = (simple_mat.transpose().matrix_from_rows(simple_mat.transpose().pivot_rows()))\n",
    "kernel1 = simple_mat.kernel().basis()\n",
    "cob_mat = simple_mat_basis.stack(Matrix(kernel1)).transpose().inverse()"
   ]
  },
  {
   "cell_type": "code",
   "execution_count": 240,
   "metadata": {
    "scrolled": false
   },
   "outputs": [
    {
     "data": {
      "text/plain": [
       "(0, 1, 3)"
      ]
     },
     "execution_count": 240,
     "metadata": {},
     "output_type": "execute_result"
    }
   ],
   "source": [
    "simple_mat.transpose().pivot_rows()"
   ]
  },
  {
   "cell_type": "code",
   "execution_count": 248,
   "metadata": {},
   "outputs": [
    {
     "name": "stdout",
     "output_type": "stream",
     "text": [
      "[\n",
      "(1, 0, 0, 1, 1, 0),\n",
      "(0, 1, 0, 0, 1, 1),\n",
      "(0, 0, 1, 1, 0, 1)\n",
      "]\n"
     ]
    }
   ],
   "source": [
    "print(simple_mat.transpose().kernel().basis())"
   ]
  },
  {
   "cell_type": "code",
   "execution_count": 241,
   "metadata": {},
   "outputs": [],
   "source": [
    "dependencies = (cob_mat*simple_mat).transpose()"
   ]
  },
  {
   "cell_type": "code",
   "execution_count": 242,
   "metadata": {},
   "outputs": [
    {
     "data": {
      "text/plain": [
       "(1, 1, 0, 0, 0, 0, 0, 0, 0)"
      ]
     },
     "execution_count": 242,
     "metadata": {},
     "output_type": "execute_result"
    }
   ],
   "source": [
    "dependencies[4]                           #  #  #  #  #           #  #  #  #  #        #  #  #  #  #"
   ]
  },
  {
   "cell_type": "code",
   "execution_count": 182,
   "metadata": {},
   "outputs": [
    {
     "data": {
      "text/plain": [
       "3"
      ]
     },
     "execution_count": 182,
     "metadata": {},
     "output_type": "execute_result"
    }
   ],
   "source": [
    "#14,15,16,17,18\n",
    "#22,23,24,25,26\n",
    "#29,30,31,32,33\n",
    "\n",
    "simple_mat.rank()\n",
    "\n",
    "## 94 - 90, 84-80, 74-70 form a space for 64 - 50"
   ]
  },
  {
   "cell_type": "code",
   "execution_count": 207,
   "metadata": {},
   "outputs": [
    {
     "data": {
      "text/plain": [
       "(6*z^2 + 5*z + 3)*a"
      ]
     },
     "execution_count": 207,
     "metadata": {},
     "output_type": "execute_result"
    }
   ],
   "source": [
    "y"
   ]
  },
  {
   "cell_type": "code",
   "execution_count": 105,
   "metadata": {},
   "outputs": [
    {
     "name": "stdout",
     "output_type": "stream",
     "text": [
      "5 0\n"
     ]
    },
    {
     "data": {
      "text/plain": [
       "1"
      ]
     },
     "execution_count": 105,
     "metadata": {},
     "output_type": "execute_result"
    }
   ],
   "source": [
    "getSimpleCoeff(0,44,k,r,matrixList)"
   ]
  },
  {
   "cell_type": "code",
   "execution_count": 236,
   "metadata": {},
   "outputs": [
    {
     "name": "stdout",
     "output_type": "stream",
     "text": [
      "0\n"
     ]
    }
   ],
   "source": [
    "eqn_mat = Matrix(basefield, (k^3*(k-1)^2)/2, rk^4, lambda i,j: getLinearizedCoeff(i,j, k, r, matrixList, c_matrix))"
   ]
  },
  {
   "cell_type": "code",
   "execution_count": 211,
   "metadata": {},
   "outputs": [
    {
     "name": "stdout",
     "output_type": "stream",
     "text": [
      "2 1\n"
     ]
    },
    {
     "data": {
      "text/plain": [
       "0"
      ]
     },
     "execution_count": 211,
     "metadata": {},
     "output_type": "execute_result"
    }
   ],
   "source": [
    "getSimpleCoeff(0,3,k,r,matrixList)"
   ]
  },
  {
   "cell_type": "code",
   "execution_count": 72,
   "metadata": {},
   "outputs": [
    {
     "data": {
      "text/plain": [
       "(4, 6, 4, 3, 5, 6, 3, 2, 2, 3, 4, 4, 2, 3, 0, 5, 1, 5, 2, 6, 5, 6, 1, 4, 6, 1, 3, 0, 0, 1, 2, 0, 6, 4, 6, 4, 4, 3, 2, 0, 1, 6, 4, 3, 0, 0, 1, 5, 4, 3, 6, 6, 0, 3, 5)"
      ]
     },
     "execution_count": 72,
     "metadata": {},
     "output_type": "execute_result"
    }
   ],
   "source": [
    "simple_mat[11]"
   ]
  },
  {
   "cell_type": "code",
   "execution_count": 214,
   "metadata": {},
   "outputs": [
    {
     "data": {
      "text/plain": [
       "35"
      ]
     },
     "execution_count": 214,
     "metadata": {},
     "output_type": "execute_result"
    }
   ],
   "source": [
    "simple_mat.rank()"
   ]
  },
  {
   "cell_type": "code",
   "execution_count": 18,
   "metadata": {},
   "outputs": [
    {
     "name": "stdout",
     "output_type": "stream",
     "text": [
      "100 120\n"
     ]
    }
   ],
   "source": [
    "print(simple_mat.nrows(), simple_mat.ncols())"
   ]
  },
  {
   "cell_type": "code",
   "execution_count": null,
   "metadata": {},
   "outputs": [],
   "source": [
    "eqn_mat[1]"
   ]
  },
  {
   "cell_type": "code",
   "execution_count": 23,
   "metadata": {},
   "outputs": [
    {
     "data": {
      "text/plain": [
       "6174"
      ]
     },
     "execution_count": 23,
     "metadata": {},
     "output_type": "execute_result"
    }
   ],
   "source": [
    "eqn_mat.nrows()"
   ]
  },
  {
   "cell_type": "code",
   "execution_count": 24,
   "metadata": {},
   "outputs": [
    {
     "data": {
      "text/plain": [
       "1078"
      ]
     },
     "execution_count": 24,
     "metadata": {},
     "output_type": "execute_result"
    }
   ],
   "source": [
    "eqn_mat.rank()"
   ]
  },
  {
   "cell_type": "code",
   "execution_count": 165,
   "metadata": {},
   "outputs": [],
   "source": [
    "kernel = simple_mat.transpose().kernel()"
   ]
  },
  {
   "cell_type": "code",
   "execution_count": 166,
   "metadata": {},
   "outputs": [],
   "source": [
    "basis = kernel.basis()"
   ]
  },
  {
   "cell_type": "code",
   "execution_count": 167,
   "metadata": {},
   "outputs": [],
   "source": [
    "null_mat = Matrix(basis)"
   ]
  },
  {
   "cell_type": "code",
   "execution_count": 151,
   "metadata": {},
   "outputs": [
    {
     "data": {
      "text/plain": [
       "3"
      ]
     },
     "execution_count": 151,
     "metadata": {},
     "output_type": "execute_result"
    }
   ],
   "source": [
    "null_mat.rank()"
   ]
  },
  {
   "cell_type": "code",
   "execution_count": 168,
   "metadata": {},
   "outputs": [],
   "source": [
    "independent_equations = simple_mat.matrix_from_rows(simple_mat.pivot_rows())"
   ]
  },
  {
   "cell_type": "code",
   "execution_count": 169,
   "metadata": {},
   "outputs": [
    {
     "data": {
      "text/plain": [
       "3"
      ]
     },
     "execution_count": 169,
     "metadata": {},
     "output_type": "execute_result"
    }
   ],
   "source": [
    "independent_equations.nrows()"
   ]
  },
  {
   "cell_type": "code",
   "execution_count": 170,
   "metadata": {},
   "outputs": [],
   "source": [
    "cob = independent_equations.stack(null_mat)"
   ]
  },
  {
   "cell_type": "code",
   "execution_count": 129,
   "metadata": {},
   "outputs": [],
   "source": [
    "b = cob.kernel().basis()"
   ]
  },
  {
   "cell_type": "code",
   "execution_count": 130,
   "metadata": {},
   "outputs": [],
   "source": [
    "cob = cob.matrix_from_rows(cob.pivot_rows())"
   ]
  },
  {
   "cell_type": "code",
   "execution_count": 34,
   "metadata": {},
   "outputs": [
    {
     "data": {
      "text/plain": [
       "9998"
      ]
     },
     "execution_count": 34,
     "metadata": {},
     "output_type": "execute_result"
    }
   ],
   "source": [
    "cob.nrows()"
   ]
  },
  {
   "cell_type": "code",
   "execution_count": 36,
   "metadata": {},
   "outputs": [],
   "source": [
    "b = Matrix(b)\n",
    "cob = cob.stack(b)"
   ]
  },
  {
   "cell_type": "code",
   "execution_count": 171,
   "metadata": {},
   "outputs": [],
   "source": [
    "cob = cob.inverse()\n",
    "rep = simple_mat*cob"
   ]
  },
  {
   "cell_type": "code",
   "execution_count": 172,
   "metadata": {},
   "outputs": [
    {
     "data": {
      "text/plain": [
       "(0, 1, 2)"
      ]
     },
     "execution_count": 172,
     "metadata": {},
     "output_type": "execute_result"
    }
   ],
   "source": [
    "simple_mat.pivot_rows()"
   ]
  },
  {
   "cell_type": "code",
   "execution_count": 178,
   "metadata": {},
   "outputs": [
    {
     "data": {
      "text/plain": [
       "(4, 1, 3, 0, 0, 0)"
      ]
     },
     "execution_count": 178,
     "metadata": {},
     "output_type": "execute_result"
    }
   ],
   "source": [
    "rep[8]"
   ]
  },
  {
   "cell_type": "code",
   "execution_count": 17,
   "metadata": {},
   "outputs": [
    {
     "data": {
      "text/plain": [
       "(0, 0, 5, 10, 0, 1, 0, 1, 0)"
      ]
     },
     "execution_count": 17,
     "metadata": {},
     "output_type": "execute_result"
    }
   ],
   "source": [
    "getIndices(0, 85, k, r)"
   ]
  },
  {
   "cell_type": "code",
   "execution_count": 56,
   "metadata": {},
   "outputs": [
    {
     "data": {
      "text/plain": [
       "0"
      ]
     },
     "execution_count": 56,
     "metadata": {},
     "output_type": "execute_result"
    }
   ],
   "source": [
    "t1,a1,t2,a2,d,lx,ly,jx,jy = getIndices(1,6,k,r)\n",
    "c = c_matrix[a1][a2][d]\n",
    "matrixList[t1][jy][lx]*matrixList[t2][jx][ly]\n"
   ]
  },
  {
   "cell_type": "code",
   "execution_count": 183,
   "metadata": {},
   "outputs": [
    {
     "ename": "NameError",
     "evalue": "name 't1' is not defined",
     "output_type": "error",
     "traceback": [
      "\u001b[0;31m---------------------------------------------------------------------------\u001b[0m",
      "\u001b[0;31mNameError\u001b[0m                                 Traceback (most recent call last)",
      "\u001b[0;32m<ipython-input-183-d3b6ba9877b0>\u001b[0m in \u001b[0;36m<module>\u001b[0;34m()\u001b[0m\n\u001b[0;32m----> 1\u001b[0;31m \u001b[0mgetIndices\u001b[0m\u001b[0;34m(\u001b[0m\u001b[0mmatrixList\u001b[0m\u001b[0;34m[\u001b[0m\u001b[0mt1\u001b[0m\u001b[0;34m]\u001b[0m\u001b[0;34m[\u001b[0m\u001b[0mjy\u001b[0m\u001b[0;34m]\u001b[0m\u001b[0;34m[\u001b[0m\u001b[0mly\u001b[0m\u001b[0;34m]\u001b[0m\u001b[0;34m*\u001b[0m\u001b[0mmatrixList\u001b[0m\u001b[0;34m[\u001b[0m\u001b[0mt2\u001b[0m\u001b[0;34m]\u001b[0m\u001b[0;34m[\u001b[0m\u001b[0mjx\u001b[0m\u001b[0;34m]\u001b[0m\u001b[0;34m[\u001b[0m\u001b[0mlx\u001b[0m\u001b[0;34m]\u001b[0m \u001b[0;34m-\u001b[0m \u001b[0mmatrixList\u001b[0m\u001b[0;34m[\u001b[0m\u001b[0mt1\u001b[0m\u001b[0;34m]\u001b[0m\u001b[0;34m[\u001b[0m\u001b[0mjy\u001b[0m\u001b[0;34m]\u001b[0m\u001b[0;34m[\u001b[0m\u001b[0mlx\u001b[0m\u001b[0;34m]\u001b[0m\u001b[0;34m*\u001b[0m\u001b[0mmatrixList\u001b[0m\u001b[0;34m[\u001b[0m\u001b[0mt2\u001b[0m\u001b[0;34m]\u001b[0m\u001b[0;34m[\u001b[0m\u001b[0mjx\u001b[0m\u001b[0;34m]\u001b[0m\u001b[0;34m[\u001b[0m\u001b[0mly\u001b[0m\u001b[0;34m]\u001b[0m\u001b[0;34m,\u001b[0m\u001b[0mInteger\u001b[0m\u001b[0;34m(\u001b[0m\u001b[0;36m1\u001b[0m\u001b[0;34m)\u001b[0m\u001b[0;34m,\u001b[0m \u001b[0mk\u001b[0m\u001b[0;34m,\u001b[0m \u001b[0mr\u001b[0m\u001b[0;34m)\u001b[0m\u001b[0;34m\u001b[0m\u001b[0;34m\u001b[0m\u001b[0m\n\u001b[0m",
      "\u001b[0;31mNameError\u001b[0m: name 't1' is not defined"
     ]
    }
   ],
   "source": [
    "getIndices(matrixList[t1][jy][ly]*matrixList[t2][jx][lx] - matrixList[t1][jy][lx]*matrixList[t2][jx][ly],1, k, r)"
   ]
  },
  {
   "cell_type": "code",
   "execution_count": 14,
   "metadata": {},
   "outputs": [
    {
     "ename": "NameError",
     "evalue": "name 'c_matrix' is not defined",
     "output_type": "error",
     "traceback": [
      "\u001b[0;31m---------------------------------------------------------------------------\u001b[0m",
      "\u001b[0;31mNameError\u001b[0m                                 Traceback (most recent call last)",
      "\u001b[0;32m<ipython-input-14-e3d748abb0cb>\u001b[0m in \u001b[0;36m<module>\u001b[0;34m()\u001b[0m\n\u001b[0;32m----> 1\u001b[0;31m \u001b[0mgetSimpleCoeff\u001b[0m\u001b[0;34m(\u001b[0m\u001b[0mInteger\u001b[0m\u001b[0;34m(\u001b[0m\u001b[0;36m1\u001b[0m\u001b[0;34m)\u001b[0m\u001b[0;34m,\u001b[0m\u001b[0mInteger\u001b[0m\u001b[0;34m(\u001b[0m\u001b[0;36m85\u001b[0m\u001b[0;34m)\u001b[0m\u001b[0;34m,\u001b[0m\u001b[0mk\u001b[0m\u001b[0;34m,\u001b[0m\u001b[0mr\u001b[0m\u001b[0;34m,\u001b[0m\u001b[0mmatrixList\u001b[0m\u001b[0;34m,\u001b[0m \u001b[0mc_matrix\u001b[0m\u001b[0;34m)\u001b[0m\u001b[0;34m\u001b[0m\u001b[0;34m\u001b[0m\u001b[0m\n\u001b[0m",
      "\u001b[0;31mNameError\u001b[0m: name 'c_matrix' is not defined"
     ]
    }
   ],
   "source": [
    "getSimpleCoeff(1,85,k,r,matrixList, c_matrix)"
   ]
  },
  {
   "cell_type": "code",
   "execution_count": 73,
   "metadata": {},
   "outputs": [
    {
     "data": {
      "text/plain": [
       "[22,\n",
       " 22,\n",
       " 7,\n",
       " 22,\n",
       " 7,\n",
       " 10,\n",
       " 7,\n",
       " 7,\n",
       " 10,\n",
       " 0,\n",
       " 0,\n",
       " 0,\n",
       " 0,\n",
       " 0,\n",
       " 0,\n",
       " 0,\n",
       " 0,\n",
       " 0,\n",
       " 10,\n",
       " 10,\n",
       " 22,\n",
       " 10,\n",
       " 22,\n",
       " 15,\n",
       " 22,\n",
       " 22,\n",
       " 15,\n",
       " 12,\n",
       " 12,\n",
       " 8,\n",
       " 12,\n",
       " 8,\n",
       " 18,\n",
       " 8,\n",
       " 8,\n",
       " 18,\n",
       " 11,\n",
       " 11,\n",
       " 15,\n",
       " 11,\n",
       " 15,\n",
       " 5,\n",
       " 15,\n",
       " 15,\n",
       " 5,\n",
       " 10,\n",
       " 10,\n",
       " 22,\n",
       " 10,\n",
       " 22,\n",
       " 15,\n",
       " 22,\n",
       " 22,\n",
       " 15]"
      ]
     },
     "execution_count": 73,
     "metadata": {},
     "output_type": "execute_result"
    }
   ],
   "source": [
    "[eqn_mat[i][4] for i in range(54)]"
   ]
  },
  {
   "cell_type": "code",
   "execution_count": 66,
   "metadata": {},
   "outputs": [
    {
     "data": {
      "text/plain": [
       "0"
      ]
     },
     "execution_count": 66,
     "metadata": {},
     "output_type": "execute_result"
    }
   ],
   "source": [
    "1//3"
   ]
  },
  {
   "cell_type": "code",
   "execution_count": 114,
   "metadata": {},
   "outputs": [
    {
     "name": "stdout",
     "output_type": "stream",
     "text": [
      "1 0 1 0\n",
      "1 0 2 0\n",
      "1 0 2 1\n",
      "2 0 1 0\n",
      "2 0 2 0\n",
      "2 0 2 1\n",
      "2 1 1 0\n",
      "2 1 2 0\n",
      "2 1 2 1\n",
      "1 0 1 0\n",
      "1 0 2 0\n",
      "1 0 2 1\n",
      "2 0 1 0\n",
      "2 0 2 0\n",
      "2 0 2 1\n",
      "2 1 1 0\n",
      "2 1 2 0\n",
      "2 1 2 1\n",
      "1 0 1 0\n",
      "1 0 2 0\n",
      "1 0 2 1\n",
      "2 0 1 0\n",
      "2 0 2 0\n",
      "2 0 2 1\n",
      "2 1 1 0\n",
      "2 1 2 0\n",
      "2 1 2 1\n",
      "1 0 1 0\n",
      "1 0 2 0\n",
      "1 0 2 1\n",
      "2 0 1 0\n",
      "2 0 2 0\n",
      "2 0 2 1\n",
      "2 1 1 0\n",
      "2 1 2 0\n",
      "2 1 2 1\n",
      "1 0 1 0\n",
      "1 0 2 0\n",
      "1 0 2 1\n",
      "2 0 1 0\n",
      "2 0 2 0\n",
      "2 0 2 1\n",
      "2 1 1 0\n",
      "2 1 2 0\n",
      "2 1 2 1\n",
      "1 0 1 0\n",
      "1 0 2 0\n",
      "1 0 2 1\n",
      "2 0 1 0\n",
      "2 0 2 0\n",
      "2 0 2 1\n",
      "2 1 1 0\n",
      "2 1 2 0\n",
      "2 1 2 1\n",
      "1 0 1 0\n",
      "1 0 2 0\n",
      "1 0 2 1\n",
      "2 0 1 0\n",
      "2 0 2 0\n",
      "2 0 2 1\n",
      "2 1 1 0\n",
      "2 1 2 0\n",
      "2 1 2 1\n",
      "1 0 1 0\n",
      "1 0 2 0\n",
      "1 0 2 1\n",
      "2 0 1 0\n",
      "2 0 2 0\n",
      "2 0 2 1\n",
      "2 1 1 0\n",
      "2 1 2 0\n",
      "2 1 2 1\n",
      "1 0 1 0\n",
      "1 0 2 0\n",
      "1 0 2 1\n",
      "2 0 1 0\n",
      "2 0 2 0\n",
      "2 0 2 1\n",
      "2 1 1 0\n",
      "2 1 2 0\n",
      "2 1 2 1\n",
      "1 0 1 0\n",
      "1 0 2 0\n",
      "1 0 2 1\n",
      "2 0 1 0\n",
      "2 0 2 0\n",
      "2 0 2 1\n",
      "2 1 1 0\n",
      "2 1 2 0\n",
      "2 1 2 1\n",
      "1 0 1 0\n",
      "1 0 2 0\n",
      "1 0 2 1\n",
      "2 0 1 0\n",
      "2 0 2 0\n",
      "2 0 2 1\n",
      "2 1 1 0\n",
      "2 1 2 0\n",
      "2 1 2 1\n",
      "1 0 1 0\n",
      "1 0 2 0\n",
      "1 0 2 1\n",
      "2 0 1 0\n",
      "2 0 2 0\n",
      "2 0 2 1\n",
      "2 1 1 0\n",
      "2 1 2 0\n",
      "2 1 2 1\n",
      "1 0 1 0\n",
      "1 0 2 0\n",
      "1 0 2 1\n",
      "2 0 1 0\n",
      "2 0 2 0\n",
      "2 0 2 1\n",
      "2 1 1 0\n",
      "2 1 2 0\n",
      "2 1 2 1\n",
      "1 0 1 0\n",
      "1 0 2 0\n",
      "1 0 2 1\n",
      "2 0 1 0\n",
      "2 0 2 0\n",
      "2 0 2 1\n",
      "2 1 1 0\n",
      "2 1 2 0\n",
      "2 1 2 1\n",
      "1 0 1 0\n",
      "1 0 2 0\n",
      "1 0 2 1\n",
      "2 0 1 0\n",
      "2 0 2 0\n",
      "2 0 2 1\n",
      "2 1 1 0\n",
      "2 1 2 0\n",
      "2 1 2 1\n",
      "1 0 1 0\n",
      "1 0 2 0\n",
      "1 0 2 1\n",
      "2 0 1 0\n",
      "2 0 2 0\n",
      "2 0 2 1\n",
      "2 1 1 0\n",
      "2 1 2 0\n",
      "2 1 2 1\n",
      "1 0 1 0\n",
      "1 0 2 0\n",
      "1 0 2 1\n",
      "2 0 1 0\n",
      "2 0 2 0\n",
      "2 0 2 1\n",
      "2 1 1 0\n",
      "2 1 2 0\n",
      "2 1 2 1\n",
      "1 0 1 0\n",
      "1 0 2 0\n",
      "1 0 2 1\n",
      "2 0 1 0\n",
      "2 0 2 0\n",
      "2 0 2 1\n",
      "2 1 1 0\n",
      "2 1 2 0\n",
      "2 1 2 1\n",
      "1 0 1 0\n",
      "1 0 2 0\n",
      "1 0 2 1\n",
      "2 0 1 0\n",
      "2 0 2 0\n",
      "2 0 2 1\n",
      "2 1 1 0\n",
      "2 1 2 0\n",
      "2 1 2 1\n",
      "1 0 1 0\n",
      "1 0 2 0\n",
      "1 0 2 1\n",
      "2 0 1 0\n",
      "2 0 2 0\n",
      "2 0 2 1\n",
      "2 1 1 0\n",
      "2 1 2 0\n",
      "2 1 2 1\n",
      "1 0 1 0\n",
      "1 0 2 0\n",
      "1 0 2 1\n",
      "2 0 1 0\n",
      "2 0 2 0\n",
      "2 0 2 1\n",
      "2 1 1 0\n",
      "2 1 2 0\n",
      "2 1 2 1\n",
      "1 0 1 0\n",
      "1 0 2 0\n",
      "1 0 2 1\n",
      "2 0 1 0\n",
      "2 0 2 0\n",
      "2 0 2 1\n",
      "2 1 1 0\n",
      "2 1 2 0\n",
      "2 1 2 1\n",
      "1 0 1 0\n",
      "1 0 2 0\n",
      "1 0 2 1\n",
      "2 0 1 0\n",
      "2 0 2 0\n",
      "2 0 2 1\n",
      "2 1 1 0\n",
      "2 1 2 0\n",
      "2 1 2 1\n",
      "1 0 1 0\n",
      "1 0 2 0\n",
      "1 0 2 1\n",
      "2 0 1 0\n",
      "2 0 2 0\n",
      "2 0 2 1\n",
      "2 1 1 0\n",
      "2 1 2 0\n",
      "2 1 2 1\n",
      "1 0 1 0\n",
      "1 0 2 0\n",
      "1 0 2 1\n",
      "2 0 1 0\n",
      "2 0 2 0\n",
      "2 0 2 1\n",
      "2 1 1 0\n",
      "2 1 2 0\n",
      "2 1 2 1\n",
      "1 0 1 0\n",
      "1 0 2 0\n",
      "1 0 2 1\n",
      "2 0 1 0\n",
      "2 0 2 0\n",
      "2 0 2 1\n",
      "2 1 1 0\n",
      "2 1 2 0\n",
      "2 1 2 1\n",
      "1 0 1 0\n",
      "1 0 2 0\n",
      "1 0 2 1\n",
      "2 0 1 0\n",
      "2 0 2 0\n",
      "2 0 2 1\n",
      "2 1 1 0\n",
      "2 1 2 0\n",
      "2 1 2 1\n",
      "1 0 1 0\n",
      "1 0 2 0\n",
      "1 0 2 1\n",
      "2 0 1 0\n",
      "2 0 2 0\n",
      "2 0 2 1\n",
      "2 1 1 0\n",
      "2 1 2 0\n",
      "2 1 2 1\n",
      "1 0 1 0\n",
      "1 0 2 0\n",
      "1 0 2 1\n",
      "2 0 1 0\n",
      "2 0 2 0\n",
      "2 0 2 1\n",
      "2 1 1 0\n",
      "2 1 2 0\n",
      "2 1 2 1\n",
      "1 0 1 0\n",
      "1 0 2 0\n",
      "1 0 2 1\n",
      "2 0 1 0\n",
      "2 0 2 0\n",
      "2 0 2 1\n",
      "2 1 1 0\n",
      "2 1 2 0\n",
      "2 1 2 1\n",
      "1 0 1 0\n",
      "1 0 2 0\n",
      "1 0 2 1\n",
      "2 0 1 0\n",
      "2 0 2 0\n",
      "2 0 2 1\n",
      "2 1 1 0\n",
      "2 1 2 0\n",
      "2 1 2 1\n",
      "1 0 1 0\n",
      "1 0 2 0\n",
      "1 0 2 1\n",
      "2 0 1 0\n",
      "2 0 2 0\n",
      "2 0 2 1\n",
      "2 1 1 0\n",
      "2 1 2 0\n",
      "2 1 2 1\n",
      "1 0 1 0\n",
      "1 0 2 0\n",
      "1 0 2 1\n",
      "2 0 1 0\n",
      "2 0 2 0\n",
      "2 0 2 1\n",
      "2 1 1 0\n",
      "2 1 2 0\n",
      "2 1 2 1\n",
      "1 0 1 0\n",
      "1 0 2 0\n",
      "1 0 2 1\n",
      "2 0 1 0\n",
      "2 0 2 0\n",
      "2 0 2 1\n",
      "2 1 1 0\n",
      "2 1 2 0\n",
      "2 1 2 1\n",
      "1 0 1 0\n",
      "1 0 2 0\n",
      "1 0 2 1\n",
      "2 0 1 0\n",
      "2 0 2 0\n",
      "2 0 2 1\n",
      "2 1 1 0\n",
      "2 1 2 0\n",
      "2 1 2 1\n",
      "1 0 1 0\n",
      "1 0 2 0\n",
      "1 0 2 1\n",
      "2 0 1 0\n",
      "2 0 2 0\n",
      "2 0 2 1\n",
      "2 1 1 0\n",
      "2 1 2 0\n",
      "2 1 2 1\n",
      "1 0 1 0\n",
      "1 0 2 0\n",
      "1 0 2 1\n",
      "2 0 1 0\n",
      "2 0 2 0\n",
      "2 0 2 1\n",
      "2 1 1 0\n",
      "2 1 2 0\n",
      "2 1 2 1\n",
      "1 0 1 0\n",
      "1 0 2 0\n",
      "1 0 2 1\n",
      "2 0 1 0\n",
      "2 0 2 0\n",
      "2 0 2 1\n",
      "2 1 1 0\n",
      "2 1 2 0\n",
      "2 1 2 1\n",
      "1 0 1 0\n",
      "1 0 2 0\n",
      "1 0 2 1\n",
      "2 0 1 0\n",
      "2 0 2 0\n",
      "2 0 2 1\n",
      "2 1 1 0\n",
      "2 1 2 0\n",
      "2 1 2 1\n",
      "1 0 1 0\n",
      "1 0 2 0\n",
      "1 0 2 1\n",
      "2 0 1 0\n",
      "2 0 2 0\n",
      "2 0 2 1\n",
      "2 1 1 0\n",
      "2 1 2 0\n",
      "2 1 2 1\n",
      "1 0 1 0\n",
      "1 0 2 0\n",
      "1 0 2 1\n",
      "2 0 1 0\n",
      "2 0 2 0\n",
      "2 0 2 1\n",
      "2 1 1 0\n",
      "2 1 2 0\n",
      "2 1 2 1\n",
      "1 0 1 0\n",
      "1 0 2 0\n",
      "1 0 2 1\n",
      "2 0 1 0\n",
      "2 0 2 0\n",
      "2 0 2 1\n",
      "2 1 1 0\n",
      "2 1 2 0\n",
      "2 1 2 1\n",
      "1 0 1 0\n",
      "1 0 2 0\n",
      "1 0 2 1\n",
      "2 0 1 0\n",
      "2 0 2 0\n",
      "2 0 2 1\n",
      "2 1 1 0\n",
      "2 1 2 0\n",
      "2 1 2 1\n",
      "1 0 1 0\n",
      "1 0 2 0\n",
      "1 0 2 1\n",
      "2 0 1 0\n",
      "2 0 2 0\n",
      "2 0 2 1\n",
      "2 1 1 0\n",
      "2 1 2 0\n",
      "2 1 2 1\n",
      "1 0 1 0\n",
      "1 0 2 0\n",
      "1 0 2 1\n",
      "2 0 1 0\n",
      "2 0 2 0\n",
      "2 0 2 1\n",
      "2 1 1 0\n",
      "2 1 2 0\n",
      "2 1 2 1\n",
      "1 0 1 0\n",
      "1 0 2 0\n",
      "1 0 2 1\n",
      "2 0 1 0\n",
      "2 0 2 0\n",
      "2 0 2 1\n",
      "2 1 1 0\n",
      "2 1 2 0\n",
      "2 1 2 1\n",
      "1 0 1 0\n",
      "1 0 2 0\n",
      "1 0 2 1\n",
      "2 0 1 0\n",
      "2 0 2 0\n",
      "2 0 2 1\n",
      "2 1 1 0\n",
      "2 1 2 0\n",
      "2 1 2 1\n",
      "1 0 1 0\n",
      "1 0 2 0\n",
      "1 0 2 1\n",
      "2 0 1 0\n",
      "2 0 2 0\n",
      "2 0 2 1\n",
      "2 1 1 0\n",
      "2 1 2 0\n",
      "2 1 2 1\n",
      "1 0 1 0\n",
      "1 0 2 0\n",
      "1 0 2 1\n",
      "2 0 1 0\n",
      "2 0 2 0\n",
      "2 0 2 1\n",
      "2 1 1 0\n",
      "2 1 2 0\n",
      "2 1 2 1\n",
      "1 0 1 0\n",
      "1 0 2 0\n",
      "1 0 2 1\n",
      "2 0 1 0\n",
      "2 0 2 0\n",
      "2 0 2 1\n",
      "2 1 1 0\n",
      "2 1 2 0\n",
      "2 1 2 1\n",
      "1 0 1 0\n",
      "1 0 2 0\n",
      "1 0 2 1\n",
      "2 0 1 0\n",
      "2 0 2 0\n",
      "2 0 2 1\n",
      "2 1 1 0\n",
      "2 1 2 0\n",
      "2 1 2 1\n",
      "1 0 1 0\n",
      "1 0 2 0\n",
      "1 0 2 1\n",
      "2 0 1 0\n",
      "2 0 2 0\n",
      "2 0 2 1\n",
      "2 1 1 0\n",
      "2 1 2 0\n",
      "2 1 2 1\n",
      "1 0 1 0\n",
      "1 0 2 0\n",
      "1 0 2 1\n",
      "2 0 1 0\n",
      "2 0 2 0\n",
      "2 0 2 1\n",
      "2 1 1 0\n",
      "2 1 2 0\n",
      "2 1 2 1\n",
      "1 0 1 0\n",
      "1 0 2 0\n",
      "1 0 2 1\n",
      "2 0 1 0\n",
      "2 0 2 0\n",
      "2 0 2 1\n",
      "2 1 1 0\n",
      "2 1 2 0\n",
      "2 1 2 1\n",
      "1 0 1 0\n",
      "1 0 2 0\n",
      "1 0 2 1\n",
      "2 0 1 0\n",
      "2 0 2 0\n",
      "2 0 2 1\n",
      "2 1 1 0\n",
      "2 1 2 0\n",
      "2 1 2 1\n",
      "1 0 1 0\n",
      "1 0 2 0\n",
      "1 0 2 1\n",
      "2 0 1 0\n",
      "2 0 2 0\n",
      "2 0 2 1\n",
      "2 1 1 0\n",
      "2 1 2 0\n",
      "2 1 2 1\n",
      "1 0 1 0\n",
      "1 0 2 0\n",
      "1 0 2 1\n",
      "2 0 1 0\n",
      "2 0 2 0\n",
      "2 0 2 1\n",
      "2 1 1 0\n",
      "2 1 2 0\n",
      "2 1 2 1\n",
      "1 0 1 0\n",
      "1 0 2 0\n",
      "1 0 2 1\n",
      "2 0 1 0\n",
      "2 0 2 0\n",
      "2 0 2 1\n",
      "2 1 1 0\n",
      "2 1 2 0\n",
      "2 1 2 1\n",
      "1 0 1 0\n",
      "1 0 2 0\n",
      "1 0 2 1\n",
      "2 0 1 0\n",
      "2 0 2 0\n",
      "2 0 2 1\n",
      "2 1 1 0\n",
      "2 1 2 0\n",
      "2 1 2 1\n",
      "1 0 1 0\n",
      "1 0 2 0\n",
      "1 0 2 1\n",
      "2 0 1 0\n",
      "2 0 2 0\n",
      "2 0 2 1\n",
      "2 1 1 0\n",
      "2 1 2 0\n",
      "2 1 2 1\n",
      "1 0 1 0\n",
      "1 0 2 0\n",
      "1 0 2 1\n",
      "2 0 1 0\n",
      "2 0 2 0\n",
      "2 0 2 1\n",
      "2 1 1 0\n",
      "2 1 2 0\n",
      "2 1 2 1\n",
      "1 0 1 0\n",
      "1 0 2 0\n",
      "1 0 2 1\n",
      "2 0 1 0\n",
      "2 0 2 0\n",
      "2 0 2 1\n",
      "2 1 1 0\n",
      "2 1 2 0\n",
      "2 1 2 1\n",
      "1 0 1 0\n",
      "1 0 2 0\n",
      "1 0 2 1\n",
      "2 0 1 0\n",
      "2 0 2 0\n",
      "2 0 2 1\n",
      "2 1 1 0\n",
      "2 1 2 0\n",
      "2 1 2 1\n",
      "1 0 1 0\n",
      "1 0 2 0\n",
      "1 0 2 1\n",
      "2 0 1 0\n",
      "2 0 2 0\n",
      "2 0 2 1\n",
      "2 1 1 0\n",
      "2 1 2 0\n",
      "2 1 2 1\n",
      "1 0 1 0\n",
      "1 0 2 0\n",
      "1 0 2 1\n",
      "2 0 1 0\n",
      "2 0 2 0\n",
      "2 0 2 1\n",
      "2 1 1 0\n",
      "2 1 2 0\n",
      "2 1 2 1\n",
      "1 0 1 0\n",
      "1 0 2 0\n",
      "1 0 2 1\n",
      "2 0 1 0\n",
      "2 0 2 0\n",
      "2 0 2 1\n",
      "2 1 1 0\n",
      "2 1 2 0\n",
      "2 1 2 1\n",
      "1 0 1 0\n",
      "1 0 2 0\n",
      "1 0 2 1\n",
      "2 0 1 0\n",
      "2 0 2 0\n",
      "2 0 2 1\n",
      "2 1 1 0\n",
      "2 1 2 0\n",
      "2 1 2 1\n",
      "1 0 1 0\n",
      "1 0 2 0\n",
      "1 0 2 1\n",
      "2 0 1 0\n",
      "2 0 2 0\n",
      "2 0 2 1\n",
      "2 1 1 0\n",
      "2 1 2 0\n",
      "2 1 2 1\n",
      "1 0 1 0\n",
      "1 0 2 0\n",
      "1 0 2 1\n",
      "2 0 1 0\n",
      "2 0 2 0\n",
      "2 0 2 1\n",
      "2 1 1 0\n",
      "2 1 2 0\n",
      "2 1 2 1\n",
      "1 0 1 0\n",
      "1 0 2 0\n",
      "1 0 2 1\n",
      "2 0 1 0\n",
      "2 0 2 0\n",
      "2 0 2 1\n",
      "2 1 1 0\n",
      "2 1 2 0\n",
      "2 1 2 1\n",
      "1 0 1 0\n",
      "1 0 2 0\n",
      "1 0 2 1\n",
      "2 0 1 0\n",
      "2 0 2 0\n",
      "2 0 2 1\n",
      "2 1 1 0\n",
      "2 1 2 0\n",
      "2 1 2 1\n",
      "1 0 1 0\n",
      "1 0 2 0\n",
      "1 0 2 1\n",
      "2 0 1 0\n",
      "2 0 2 0\n",
      "2 0 2 1\n",
      "2 1 1 0\n",
      "2 1 2 0\n",
      "2 1 2 1\n",
      "1 0 1 0\n",
      "1 0 2 0\n",
      "1 0 2 1\n",
      "2 0 1 0\n",
      "2 0 2 0\n",
      "2 0 2 1\n",
      "2 1 1 0\n",
      "2 1 2 0\n",
      "2 1 2 1\n",
      "1 0 1 0\n",
      "1 0 2 0\n",
      "1 0 2 1\n",
      "2 0 1 0\n",
      "2 0 2 0\n",
      "2 0 2 1\n",
      "2 1 1 0\n",
      "2 1 2 0\n",
      "2 1 2 1\n",
      "1 0 1 0\n",
      "1 0 2 0\n",
      "1 0 2 1\n",
      "2 0 1 0\n",
      "2 0 2 0\n",
      "2 0 2 1\n",
      "2 1 1 0\n",
      "2 1 2 0\n",
      "2 1 2 1\n",
      "1 0 1 0\n",
      "1 0 2 0\n",
      "1 0 2 1\n",
      "2 0 1 0\n",
      "2 0 2 0\n",
      "2 0 2 1\n",
      "2 1 1 0\n",
      "2 1 2 0\n",
      "2 1 2 1\n",
      "1 0 1 0\n",
      "1 0 2 0\n",
      "1 0 2 1\n",
      "2 0 1 0\n",
      "2 0 2 0\n",
      "2 0 2 1\n",
      "2 1 1 0\n",
      "2 1 2 0\n",
      "2 1 2 1\n",
      "1 0 1 0\n",
      "1 0 2 0\n",
      "1 0 2 1\n",
      "2 0 1 0\n",
      "2 0 2 0\n",
      "2 0 2 1\n",
      "2 1 1 0\n",
      "2 1 2 0\n",
      "2 1 2 1\n",
      "1 0 1 0\n",
      "1 0 2 0\n",
      "1 0 2 1\n",
      "2 0 1 0\n",
      "2 0 2 0\n",
      "2 0 2 1\n",
      "2 1 1 0\n",
      "2 1 2 0\n",
      "2 1 2 1\n",
      "1 0 1 0\n",
      "1 0 2 0\n",
      "1 0 2 1\n",
      "2 0 1 0\n",
      "2 0 2 0\n",
      "2 0 2 1\n",
      "2 1 1 0\n",
      "2 1 2 0\n",
      "2 1 2 1\n",
      "1 0 1 0\n",
      "1 0 2 0\n",
      "1 0 2 1\n",
      "2 0 1 0\n",
      "2 0 2 0\n",
      "2 0 2 1\n",
      "2 1 1 0\n",
      "2 1 2 0\n",
      "2 1 2 1\n",
      "1 0 1 0\n",
      "1 0 2 0\n",
      "1 0 2 1\n",
      "2 0 1 0\n",
      "2 0 2 0\n",
      "2 0 2 1\n",
      "2 1 1 0\n",
      "2 1 2 0\n",
      "2 1 2 1\n",
      "1 0 1 0\n",
      "1 0 2 0\n",
      "1 0 2 1\n",
      "2 0 1 0\n",
      "2 0 2 0\n",
      "2 0 2 1\n",
      "2 1 1 0\n",
      "2 1 2 0\n",
      "2 1 2 1\n",
      "1 0 1 0\n",
      "1 0 2 0\n",
      "1 0 2 1\n",
      "2 0 1 0\n",
      "2 0 2 0\n",
      "2 0 2 1\n",
      "2 1 1 0\n",
      "2 1 2 0\n",
      "2 1 2 1\n",
      "1 0 1 0\n",
      "1 0 2 0\n",
      "1 0 2 1\n",
      "2 0 1 0\n",
      "2 0 2 0\n",
      "2 0 2 1\n",
      "2 1 1 0\n",
      "2 1 2 0\n",
      "2 1 2 1\n",
      "1 0 1 0\n",
      "1 0 2 0\n",
      "1 0 2 1\n",
      "2 0 1 0\n",
      "2 0 2 0\n",
      "2 0 2 1\n",
      "2 1 1 0\n",
      "2 1 2 0\n",
      "2 1 2 1\n",
      "1 0 1 0\n",
      "1 0 2 0\n",
      "1 0 2 1\n",
      "2 0 1 0\n",
      "2 0 2 0\n",
      "2 0 2 1\n",
      "2 1 1 0\n",
      "2 1 2 0\n",
      "2 1 2 1\n",
      "1 0 1 0\n",
      "1 0 2 0\n",
      "1 0 2 1\n",
      "2 0 1 0\n",
      "2 0 2 0\n",
      "2 0 2 1\n",
      "2 1 1 0\n",
      "2 1 2 0\n",
      "2 1 2 1\n",
      "1 0 1 0\n",
      "1 0 2 0\n",
      "1 0 2 1\n",
      "2 0 1 0\n",
      "2 0 2 0\n",
      "2 0 2 1\n",
      "2 1 1 0\n",
      "2 1 2 0\n",
      "2 1 2 1\n",
      "1 0 1 0\n",
      "1 0 2 0\n",
      "1 0 2 1\n",
      "2 0 1 0\n",
      "2 0 2 0\n",
      "2 0 2 1\n",
      "2 1 1 0\n",
      "2 1 2 0\n",
      "2 1 2 1\n",
      "1 0 1 0\n",
      "1 0 2 0\n",
      "1 0 2 1\n",
      "2 0 1 0\n",
      "2 0 2 0\n",
      "2 0 2 1\n",
      "2 1 1 0\n",
      "2 1 2 0\n",
      "2 1 2 1\n",
      "1 0 1 0\n",
      "1 0 2 0\n",
      "1 0 2 1\n",
      "2 0 1 0\n",
      "2 0 2 0\n",
      "2 0 2 1\n",
      "2 1 1 0\n",
      "2 1 2 0\n",
      "2 1 2 1\n",
      "1 0 1 0\n",
      "1 0 2 0\n",
      "1 0 2 1\n",
      "2 0 1 0\n",
      "2 0 2 0\n",
      "2 0 2 1\n",
      "2 1 1 0\n",
      "2 1 2 0\n",
      "2 1 2 1\n",
      "1 0 1 0\n",
      "1 0 2 0\n",
      "1 0 2 1\n",
      "2 0 1 0\n",
      "2 0 2 0\n",
      "2 0 2 1\n",
      "2 1 1 0\n",
      "2 1 2 0\n",
      "2 1 2 1\n",
      "1 0 1 0\n",
      "1 0 2 0\n",
      "1 0 2 1\n",
      "2 0 1 0\n",
      "2 0 2 0\n",
      "2 0 2 1\n",
      "2 1 1 0\n",
      "2 1 2 0\n",
      "2 1 2 1\n",
      "1 0 1 0\n",
      "1 0 2 0\n",
      "1 0 2 1\n",
      "2 0 1 0\n",
      "2 0 2 0\n",
      "2 0 2 1\n",
      "2 1 1 0\n",
      "2 1 2 0\n",
      "2 1 2 1\n",
      "1 0 1 0\n",
      "1 0 2 0\n",
      "1 0 2 1\n",
      "2 0 1 0\n",
      "2 0 2 0\n",
      "2 0 2 1\n",
      "2 1 1 0\n",
      "2 1 2 0\n",
      "2 1 2 1\n",
      "1 0 1 0\n",
      "1 0 2 0\n",
      "1 0 2 1\n",
      "2 0 1 0\n",
      "2 0 2 0\n",
      "2 0 2 1\n",
      "2 1 1 0\n",
      "2 1 2 0\n",
      "2 1 2 1\n",
      "1 0 1 0\n",
      "1 0 2 0\n",
      "1 0 2 1\n",
      "2 0 1 0\n",
      "2 0 2 0\n",
      "2 0 2 1\n",
      "2 1 1 0\n",
      "2 1 2 0\n",
      "2 1 2 1\n",
      "1 0 1 0\n",
      "1 0 2 0\n",
      "1 0 2 1\n",
      "2 0 1 0\n",
      "2 0 2 0\n",
      "2 0 2 1\n",
      "2 1 1 0\n",
      "2 1 2 0\n",
      "2 1 2 1\n",
      "1 0 1 0\n",
      "1 0 2 0\n",
      "1 0 2 1\n",
      "2 0 1 0\n",
      "2 0 2 0\n",
      "2 0 2 1\n",
      "2 1 1 0\n",
      "2 1 2 0\n",
      "2 1 2 1\n",
      "1 0 1 0\n",
      "1 0 2 0\n",
      "1 0 2 1\n",
      "2 0 1 0\n",
      "2 0 2 0\n",
      "2 0 2 1\n",
      "2 1 1 0\n",
      "2 1 2 0\n",
      "2 1 2 1\n",
      "1 0 1 0\n",
      "1 0 2 0\n",
      "1 0 2 1\n",
      "2 0 1 0\n",
      "2 0 2 0\n",
      "2 0 2 1\n",
      "2 1 1 0\n",
      "2 1 2 0\n",
      "2 1 2 1\n",
      "1 0 1 0\n",
      "1 0 2 0\n",
      "1 0 2 1\n",
      "2 0 1 0\n",
      "2 0 2 0\n",
      "2 0 2 1\n",
      "2 1 1 0\n",
      "2 1 2 0\n",
      "2 1 2 1\n",
      "1 0 1 0\n",
      "1 0 2 0\n",
      "1 0 2 1\n",
      "2 0 1 0\n",
      "2 0 2 0\n",
      "2 0 2 1\n",
      "2 1 1 0\n",
      "2 1 2 0\n",
      "2 1 2 1\n",
      "1 0 1 0\n",
      "1 0 2 0\n",
      "1 0 2 1\n",
      "2 0 1 0\n",
      "2 0 2 0\n",
      "2 0 2 1\n",
      "2 1 1 0\n",
      "2 1 2 0\n",
      "2 1 2 1\n",
      "1 0 1 0\n",
      "1 0 2 0\n",
      "1 0 2 1\n",
      "2 0 1 0\n",
      "2 0 2 0\n",
      "2 0 2 1\n",
      "2 1 1 0\n",
      "2 1 2 0\n",
      "2 1 2 1\n",
      "1 0 1 0\n",
      "1 0 2 0\n",
      "1 0 2 1\n",
      "2 0 1 0\n",
      "2 0 2 0\n",
      "2 0 2 1\n",
      "2 1 1 0\n",
      "2 1 2 0\n",
      "2 1 2 1\n",
      "1 0 1 0\n",
      "1 0 2 0\n",
      "1 0 2 1\n",
      "2 0 1 0\n",
      "2 0 2 0\n",
      "2 0 2 1\n",
      "2 1 1 0\n",
      "2 1 2 0\n",
      "2 1 2 1\n",
      "1 0 1 0\n",
      "1 0 2 0\n",
      "1 0 2 1\n",
      "2 0 1 0\n",
      "2 0 2 0\n",
      "2 0 2 1\n",
      "2 1 1 0\n",
      "2 1 2 0\n",
      "2 1 2 1\n",
      "1 0 1 0\n",
      "1 0 2 0\n",
      "1 0 2 1\n",
      "2 0 1 0\n",
      "2 0 2 0\n",
      "2 0 2 1\n",
      "2 1 1 0\n",
      "2 1 2 0\n",
      "2 1 2 1\n",
      "1 0 1 0\n",
      "1 0 2 0\n",
      "1 0 2 1\n",
      "2 0 1 0\n",
      "2 0 2 0\n",
      "2 0 2 1\n",
      "2 1 1 0\n",
      "2 1 2 0\n",
      "2 1 2 1\n",
      "1 0 1 0\n",
      "1 0 2 0\n",
      "1 0 2 1\n",
      "2 0 1 0\n",
      "2 0 2 0\n",
      "2 0 2 1\n",
      "2 1 1 0\n",
      "2 1 2 0\n",
      "2 1 2 1\n",
      "1 0 1 0\n",
      "1 0 2 0\n",
      "1 0 2 1\n",
      "2 0 1 0\n",
      "2 0 2 0\n",
      "2 0 2 1\n",
      "2 1 1 0\n",
      "2 1 2 0\n",
      "2 1 2 1\n",
      "1 0 1 0\n",
      "1 0 2 0\n",
      "1 0 2 1\n",
      "2 0 1 0\n",
      "2 0 2 0\n",
      "2 0 2 1\n",
      "2 1 1 0\n",
      "2 1 2 0\n",
      "2 1 2 1\n",
      "1 0 1 0\n",
      "1 0 2 0\n",
      "1 0 2 1\n",
      "2 0 1 0\n",
      "2 0 2 0\n",
      "2 0 2 1\n",
      "2 1 1 0\n",
      "2 1 2 0\n",
      "2 1 2 1\n",
      "1 0 1 0\n",
      "1 0 2 0\n",
      "1 0 2 1\n",
      "2 0 1 0\n",
      "2 0 2 0\n",
      "2 0 2 1\n",
      "2 1 1 0\n",
      "2 1 2 0\n",
      "2 1 2 1\n",
      "1 0 1 0\n",
      "1 0 2 0\n",
      "1 0 2 1\n",
      "2 0 1 0\n",
      "2 0 2 0\n",
      "2 0 2 1\n",
      "2 1 1 0\n",
      "2 1 2 0\n",
      "2 1 2 1\n",
      "1 0 1 0\n",
      "1 0 2 0\n",
      "1 0 2 1\n",
      "2 0 1 0\n",
      "2 0 2 0\n",
      "2 0 2 1\n",
      "2 1 1 0\n",
      "2 1 2 0\n",
      "2 1 2 1\n",
      "1 0 1 0\n",
      "1 0 2 0\n",
      "1 0 2 1\n",
      "2 0 1 0\n",
      "2 0 2 0\n",
      "2 0 2 1\n",
      "2 1 1 0\n",
      "2 1 2 0\n",
      "2 1 2 1\n",
      "1 0 1 0\n",
      "1 0 2 0\n",
      "1 0 2 1\n",
      "2 0 1 0\n",
      "2 0 2 0\n",
      "2 0 2 1\n",
      "2 1 1 0\n",
      "2 1 2 0\n",
      "2 1 2 1\n",
      "1 0 1 0\n",
      "1 0 2 0\n",
      "1 0 2 1\n",
      "2 0 1 0\n",
      "2 0 2 0\n",
      "2 0 2 1\n",
      "2 1 1 0\n",
      "2 1 2 0\n",
      "2 1 2 1\n",
      "1 0 1 0\n",
      "1 0 2 0\n",
      "1 0 2 1\n",
      "2 0 1 0\n",
      "2 0 2 0\n",
      "2 0 2 1\n",
      "2 1 1 0\n",
      "2 1 2 0\n",
      "2 1 2 1\n",
      "1 0 1 0\n",
      "1 0 2 0\n",
      "1 0 2 1\n",
      "2 0 1 0\n",
      "2 0 2 0\n",
      "2 0 2 1\n",
      "2 1 1 0\n",
      "2 1 2 0\n",
      "2 1 2 1\n",
      "1 0 1 0\n",
      "1 0 2 0\n",
      "1 0 2 1\n",
      "2 0 1 0\n",
      "2 0 2 0\n",
      "2 0 2 1\n",
      "2 1 1 0\n",
      "2 1 2 0\n",
      "2 1 2 1\n",
      "1 0 1 0\n",
      "1 0 2 0\n",
      "1 0 2 1\n",
      "2 0 1 0\n",
      "2 0 2 0\n"
     ]
    },
    {
     "name": "stdout",
     "output_type": "stream",
     "text": [
      "2 0 2 1\n",
      "2 1 1 0\n",
      "2 1 2 0\n",
      "2 1 2 1\n",
      "1 0 1 0\n",
      "1 0 2 0\n",
      "1 0 2 1\n",
      "2 0 1 0\n",
      "2 0 2 0\n",
      "2 0 2 1\n",
      "2 1 1 0\n",
      "2 1 2 0\n",
      "2 1 2 1\n",
      "1 0 1 0\n",
      "1 0 2 0\n",
      "1 0 2 1\n",
      "2 0 1 0\n",
      "2 0 2 0\n",
      "2 0 2 1\n",
      "2 1 1 0\n",
      "2 1 2 0\n",
      "2 1 2 1\n",
      "1 0 1 0\n",
      "1 0 2 0\n",
      "1 0 2 1\n",
      "2 0 1 0\n",
      "2 0 2 0\n",
      "2 0 2 1\n",
      "2 1 1 0\n",
      "2 1 2 0\n",
      "2 1 2 1\n",
      "1 0 1 0\n",
      "1 0 2 0\n",
      "1 0 2 1\n",
      "2 0 1 0\n",
      "2 0 2 0\n",
      "2 0 2 1\n",
      "2 1 1 0\n",
      "2 1 2 0\n",
      "2 1 2 1\n",
      "1 0 1 0\n",
      "1 0 2 0\n",
      "1 0 2 1\n",
      "2 0 1 0\n",
      "2 0 2 0\n",
      "2 0 2 1\n",
      "2 1 1 0\n",
      "2 1 2 0\n",
      "2 1 2 1\n",
      "1 0 1 0\n",
      "1 0 2 0\n",
      "1 0 2 1\n",
      "2 0 1 0\n",
      "2 0 2 0\n",
      "2 0 2 1\n",
      "2 1 1 0\n",
      "2 1 2 0\n",
      "2 1 2 1\n",
      "1 0 1 0\n",
      "1 0 2 0\n",
      "1 0 2 1\n",
      "2 0 1 0\n",
      "2 0 2 0\n",
      "2 0 2 1\n",
      "2 1 1 0\n",
      "2 1 2 0\n",
      "2 1 2 1\n",
      "1 0 1 0\n",
      "1 0 2 0\n",
      "1 0 2 1\n",
      "2 0 1 0\n",
      "2 0 2 0\n",
      "2 0 2 1\n",
      "2 1 1 0\n",
      "2 1 2 0\n",
      "2 1 2 1\n",
      "1 0 1 0\n",
      "1 0 2 0\n",
      "1 0 2 1\n",
      "2 0 1 0\n",
      "2 0 2 0\n",
      "2 0 2 1\n",
      "2 1 1 0\n",
      "2 1 2 0\n",
      "2 1 2 1\n",
      "1 0 1 0\n",
      "1 0 2 0\n",
      "1 0 2 1\n",
      "2 0 1 0\n",
      "2 0 2 0\n",
      "2 0 2 1\n",
      "2 1 1 0\n",
      "2 1 2 0\n",
      "2 1 2 1\n",
      "1 0 1 0\n",
      "1 0 2 0\n",
      "1 0 2 1\n",
      "2 0 1 0\n",
      "2 0 2 0\n",
      "2 0 2 1\n",
      "2 1 1 0\n",
      "2 1 2 0\n",
      "2 1 2 1\n",
      "1 0 1 0\n",
      "1 0 2 0\n",
      "1 0 2 1\n",
      "2 0 1 0\n",
      "2 0 2 0\n",
      "2 0 2 1\n",
      "2 1 1 0\n",
      "2 1 2 0\n",
      "2 1 2 1\n",
      "1 0 1 0\n",
      "1 0 2 0\n",
      "1 0 2 1\n",
      "2 0 1 0\n",
      "2 0 2 0\n",
      "2 0 2 1\n",
      "2 1 1 0\n",
      "2 1 2 0\n",
      "2 1 2 1\n",
      "1 0 1 0\n",
      "1 0 2 0\n",
      "1 0 2 1\n",
      "2 0 1 0\n",
      "2 0 2 0\n",
      "2 0 2 1\n",
      "2 1 1 0\n",
      "2 1 2 0\n",
      "2 1 2 1\n",
      "1 0 1 0\n",
      "1 0 2 0\n",
      "1 0 2 1\n",
      "2 0 1 0\n",
      "2 0 2 0\n",
      "2 0 2 1\n",
      "2 1 1 0\n",
      "2 1 2 0\n",
      "2 1 2 1\n",
      "1 0 1 0\n",
      "1 0 2 0\n",
      "1 0 2 1\n",
      "2 0 1 0\n",
      "2 0 2 0\n",
      "2 0 2 1\n",
      "2 1 1 0\n",
      "2 1 2 0\n",
      "2 1 2 1\n",
      "1 0 1 0\n",
      "1 0 2 0\n",
      "1 0 2 1\n",
      "2 0 1 0\n",
      "2 0 2 0\n",
      "2 0 2 1\n",
      "2 1 1 0\n",
      "2 1 2 0\n",
      "2 1 2 1\n",
      "1 0 1 0\n",
      "1 0 2 0\n",
      "1 0 2 1\n",
      "2 0 1 0\n",
      "2 0 2 0\n",
      "2 0 2 1\n",
      "2 1 1 0\n",
      "2 1 2 0\n",
      "2 1 2 1\n"
     ]
    }
   ],
   "source": [
    "for x in range(16*81): \n",
    "    x1,x2,x3,x4,d,lx,ly,jx,jy = getIndices(x,0,3,r)\n",
    "    print(lx,ly,jx,jy)"
   ]
  },
  {
   "cell_type": "code",
   "execution_count": 146,
   "metadata": {},
   "outputs": [
    {
     "data": {
      "text/plain": [
       "4"
      ]
     },
     "execution_count": 146,
     "metadata": {},
     "output_type": "execute_result"
    }
   ],
   "source": [
    "Matrix(matrixList[2]).rank()"
   ]
  },
  {
   "cell_type": "code",
   "execution_count": 1,
   "metadata": {},
   "outputs": [
    {
     "ename": "NameError",
     "evalue": "name 'c_matrix' is not defined",
     "output_type": "error",
     "traceback": [
      "\u001b[0;31m---------------------------------------------------------------------------\u001b[0m",
      "\u001b[0;31mNameError\u001b[0m                                 Traceback (most recent call last)",
      "\u001b[0;32m<ipython-input-1-46322566990f>\u001b[0m in \u001b[0;36m<module>\u001b[0;34m()\u001b[0m\n\u001b[0;32m----> 1\u001b[0;31m \u001b[0mc_matrix\u001b[0m\u001b[0;34m[\u001b[0m\u001b[0mInteger\u001b[0m\u001b[0;34m(\u001b[0m\u001b[0;36m0\u001b[0m\u001b[0;34m)\u001b[0m\u001b[0;34m]\u001b[0m\u001b[0;34m\u001b[0m\u001b[0;34m\u001b[0m\u001b[0m\n\u001b[0m",
      "\u001b[0;31mNameError\u001b[0m: name 'c_matrix' is not defined"
     ]
    }
   ],
   "source": [
    "c_matrix[0]"
   ]
  },
  {
   "cell_type": "code",
   "execution_count": 34,
   "metadata": {},
   "outputs": [
    {
     "data": {
      "text/plain": [
       "[z^4 + 4*z^3 + z^2 + z + 1,\n",
       " z^4 + 6*z^3 + z^2 + 5*z + 6,\n",
       " 2*z^4 + 4*z^3 + 3*z^2 + 4*z + 6,\n",
       " 5*z^4 + 5*z^3 + 2*z^2 + z + 4,\n",
       " 5*z^4 + 5*z^3 + 5*z^2 + 5*z + 3]"
      ]
     },
     "execution_count": 34,
     "metadata": {},
     "output_type": "execute_result"
    }
   ],
   "source": [
    "sidonbasis"
   ]
  },
  {
   "cell_type": "code",
   "execution_count": 172,
   "metadata": {},
   "outputs": [
    {
     "data": {
      "text/plain": [
       "16"
      ]
     },
     "execution_count": 172,
     "metadata": {},
     "output_type": "execute_result"
    }
   ],
   "source": [
    "2^3*2"
   ]
  },
  {
   "cell_type": "code",
   "execution_count": 247,
   "metadata": {},
   "outputs": [
    {
     "ename": "KeyboardInterrupt",
     "evalue": "",
     "output_type": "error",
     "traceback": [
      "\u001b[0;31m---------------------------------------------------------------------------\u001b[0m",
      "\u001b[0;31mKeyboardInterrupt\u001b[0m                         Traceback (most recent call last)",
      "\u001b[0;32m<ipython-input-247-6ec5dd7a9eb3>\u001b[0m in \u001b[0;36m<module>\u001b[0;34m()\u001b[0m\n\u001b[1;32m      7\u001b[0m     \u001b[0;32mfor\u001b[0m \u001b[0mi\u001b[0m \u001b[0;32min\u001b[0m \u001b[0mrange\u001b[0m\u001b[0;34m(\u001b[0m\u001b[0mrk\u001b[0m\u001b[0;34m**\u001b[0m\u001b[0mInteger\u001b[0m\u001b[0;34m(\u001b[0m\u001b[0;36m2\u001b[0m\u001b[0;34m)\u001b[0m\u001b[0;34m)\u001b[0m\u001b[0;34m:\u001b[0m\u001b[0;34m\u001b[0m\u001b[0;34m\u001b[0m\u001b[0m\n\u001b[1;32m      8\u001b[0m         \u001b[0mtestVecList\u001b[0m \u001b[0;34m+=\u001b[0m \u001b[0mlist\u001b[0m\u001b[0;34m(\u001b[0m\u001b[0mtestMatrix\u001b[0m\u001b[0;34m[\u001b[0m\u001b[0mi\u001b[0m\u001b[0;34m]\u001b[0m\u001b[0;34m)\u001b[0m\u001b[0;34m\u001b[0m\u001b[0;34m\u001b[0m\u001b[0m\n\u001b[0;32m----> 9\u001b[0;31m     \u001b[0mtestVec\u001b[0m \u001b[0;34m=\u001b[0m \u001b[0mvector\u001b[0m\u001b[0;34m(\u001b[0m\u001b[0mtestVecList\u001b[0m\u001b[0;34m)\u001b[0m\u001b[0;34m\u001b[0m\u001b[0;34m\u001b[0m\u001b[0m\n\u001b[0m\u001b[1;32m     10\u001b[0m     \u001b[0mans\u001b[0m \u001b[0;34m=\u001b[0m \u001b[0meqn_mat\u001b[0m\u001b[0;34m*\u001b[0m\u001b[0mtestVec\u001b[0m\u001b[0;34m.\u001b[0m\u001b[0mcolumn\u001b[0m\u001b[0;34m(\u001b[0m\u001b[0;34m)\u001b[0m\u001b[0;34m\u001b[0m\u001b[0;34m\u001b[0m\u001b[0m\n\u001b[1;32m     11\u001b[0m \u001b[0;34m\u001b[0m\u001b[0m\n",
      "\u001b[0;32m/opt/sagemath-9.0/local/lib/python3.7/site-packages/sage/modules/free_module_element.pyx\u001b[0m in \u001b[0;36msage.modules.free_module_element.vector (build/cythonized/sage/modules/free_module_element.c:6016)\u001b[0;34m()\u001b[0m\n\u001b[1;32m    509\u001b[0m             \u001b[0msparse\u001b[0m \u001b[0;34m=\u001b[0m \u001b[0;32mFalse\u001b[0m\u001b[0;34m\u001b[0m\u001b[0;34m\u001b[0m\u001b[0m\n\u001b[1;32m    510\u001b[0m \u001b[0;34m\u001b[0m\u001b[0m\n\u001b[0;32m--> 511\u001b[0;31m     \u001b[0mv\u001b[0m\u001b[0;34m,\u001b[0m \u001b[0mR\u001b[0m \u001b[0;34m=\u001b[0m \u001b[0mprepare\u001b[0m\u001b[0;34m(\u001b[0m\u001b[0mv\u001b[0m\u001b[0;34m,\u001b[0m \u001b[0mR\u001b[0m\u001b[0;34m,\u001b[0m \u001b[0mdegree\u001b[0m\u001b[0;34m)\u001b[0m\u001b[0;34m\u001b[0m\u001b[0;34m\u001b[0m\u001b[0m\n\u001b[0m\u001b[1;32m    512\u001b[0m \u001b[0;34m\u001b[0m\u001b[0m\n\u001b[1;32m    513\u001b[0m     \u001b[0;32mif\u001b[0m \u001b[0msparse\u001b[0m\u001b[0;34m:\u001b[0m\u001b[0;34m\u001b[0m\u001b[0;34m\u001b[0m\u001b[0m\n",
      "\u001b[0;32m/opt/sagemath-9.0/local/lib/python3.7/site-packages/sage/modules/free_module_element.pyx\u001b[0m in \u001b[0;36msage.modules.free_module_element.prepare (build/cythonized/sage/modules/free_module_element.c:6566)\u001b[0;34m()\u001b[0m\n\u001b[1;32m    608\u001b[0m         \u001b[0;32mexcept\u001b[0m \u001b[0mTypeError\u001b[0m\u001b[0;34m:\u001b[0m\u001b[0;34m\u001b[0m\u001b[0;34m\u001b[0m\u001b[0m\n\u001b[1;32m    609\u001b[0m             \u001b[0;32mpass\u001b[0m\u001b[0;34m\u001b[0m\u001b[0;34m\u001b[0m\u001b[0m\n\u001b[0;32m--> 610\u001b[0;31m     \u001b[0mv\u001b[0m \u001b[0;34m=\u001b[0m \u001b[0mSequence\u001b[0m\u001b[0;34m(\u001b[0m\u001b[0mv\u001b[0m\u001b[0;34m,\u001b[0m \u001b[0muniverse\u001b[0m\u001b[0;34m=\u001b[0m\u001b[0mR\u001b[0m\u001b[0;34m,\u001b[0m \u001b[0muse_sage_types\u001b[0m\u001b[0;34m=\u001b[0m\u001b[0;32mTrue\u001b[0m\u001b[0;34m)\u001b[0m\u001b[0;34m\u001b[0m\u001b[0;34m\u001b[0m\u001b[0m\n\u001b[0m\u001b[1;32m    611\u001b[0m     \u001b[0mring\u001b[0m \u001b[0;34m=\u001b[0m \u001b[0mv\u001b[0m\u001b[0;34m.\u001b[0m\u001b[0muniverse\u001b[0m\u001b[0;34m(\u001b[0m\u001b[0;34m)\u001b[0m\u001b[0;34m\u001b[0m\u001b[0;34m\u001b[0m\u001b[0m\n\u001b[1;32m    612\u001b[0m     \u001b[0;32mif\u001b[0m \u001b[0;32mnot\u001b[0m \u001b[0mis_Ring\u001b[0m\u001b[0;34m(\u001b[0m\u001b[0mring\u001b[0m\u001b[0;34m)\u001b[0m\u001b[0;34m:\u001b[0m\u001b[0;34m\u001b[0m\u001b[0;34m\u001b[0m\u001b[0m\n",
      "\u001b[0;32m/opt/sagemath-9.0/local/lib/python3.7/site-packages/sage/structure/sequence.py\u001b[0m in \u001b[0;36mSequence\u001b[0;34m(x, universe, check, immutable, cr, cr_str, use_sage_types)\u001b[0m\n\u001b[1;32m    262\u001b[0m         \u001b[0;32mreturn\u001b[0m \u001b[0mPolynomialSequence\u001b[0m\u001b[0;34m(\u001b[0m\u001b[0mx\u001b[0m\u001b[0;34m,\u001b[0m \u001b[0muniverse\u001b[0m\u001b[0;34m,\u001b[0m \u001b[0mimmutable\u001b[0m\u001b[0;34m=\u001b[0m\u001b[0mimmutable\u001b[0m\u001b[0;34m,\u001b[0m \u001b[0mcr\u001b[0m\u001b[0;34m=\u001b[0m\u001b[0mcr\u001b[0m\u001b[0;34m,\u001b[0m \u001b[0mcr_str\u001b[0m\u001b[0;34m=\u001b[0m\u001b[0mcr_str\u001b[0m\u001b[0;34m)\u001b[0m\u001b[0;34m\u001b[0m\u001b[0;34m\u001b[0m\u001b[0m\n\u001b[1;32m    263\u001b[0m     \u001b[0;32melse\u001b[0m\u001b[0;34m:\u001b[0m\u001b[0;34m\u001b[0m\u001b[0;34m\u001b[0m\u001b[0m\n\u001b[0;32m--> 264\u001b[0;31m         \u001b[0;32mreturn\u001b[0m \u001b[0mSequence_generic\u001b[0m\u001b[0;34m(\u001b[0m\u001b[0mx\u001b[0m\u001b[0;34m,\u001b[0m \u001b[0muniverse\u001b[0m\u001b[0;34m,\u001b[0m \u001b[0mcheck\u001b[0m\u001b[0;34m,\u001b[0m \u001b[0mimmutable\u001b[0m\u001b[0;34m,\u001b[0m \u001b[0mcr\u001b[0m\u001b[0;34m,\u001b[0m \u001b[0mcr_str\u001b[0m\u001b[0;34m,\u001b[0m \u001b[0muse_sage_types\u001b[0m\u001b[0;34m)\u001b[0m\u001b[0;34m\u001b[0m\u001b[0;34m\u001b[0m\u001b[0m\n\u001b[0m\u001b[1;32m    265\u001b[0m \u001b[0;34m\u001b[0m\u001b[0m\n\u001b[1;32m    266\u001b[0m \u001b[0;34m\u001b[0m\u001b[0m\n",
      "\u001b[0;32m/opt/sagemath-9.0/local/lib/python3.7/site-packages/sage/structure/sequence.py\u001b[0m in \u001b[0;36m__init__\u001b[0;34m(self, x, universe, check, immutable, cr, cr_str, use_sage_types)\u001b[0m\n\u001b[1;32m    447\u001b[0m             \u001b[0;32mfor\u001b[0m \u001b[0mi\u001b[0m \u001b[0;32min\u001b[0m \u001b[0mrange\u001b[0m\u001b[0;34m(\u001b[0m\u001b[0mlen\u001b[0m\u001b[0;34m(\u001b[0m\u001b[0mx\u001b[0m\u001b[0;34m)\u001b[0m\u001b[0;34m)\u001b[0m\u001b[0;34m:\u001b[0m\u001b[0;34m\u001b[0m\u001b[0;34m\u001b[0m\u001b[0m\n\u001b[1;32m    448\u001b[0m                 \u001b[0;32mtry\u001b[0m\u001b[0;34m:\u001b[0m\u001b[0;34m\u001b[0m\u001b[0;34m\u001b[0m\u001b[0m\n\u001b[0;32m--> 449\u001b[0;31m                     \u001b[0mx\u001b[0m\u001b[0;34m[\u001b[0m\u001b[0mi\u001b[0m\u001b[0;34m]\u001b[0m \u001b[0;34m=\u001b[0m \u001b[0muniverse\u001b[0m\u001b[0;34m(\u001b[0m\u001b[0mx\u001b[0m\u001b[0;34m[\u001b[0m\u001b[0mi\u001b[0m\u001b[0;34m]\u001b[0m\u001b[0;34m)\u001b[0m\u001b[0;34m\u001b[0m\u001b[0;34m\u001b[0m\u001b[0m\n\u001b[0m\u001b[1;32m    450\u001b[0m                 \u001b[0;32mexcept\u001b[0m \u001b[0mTypeError\u001b[0m\u001b[0;34m:\u001b[0m\u001b[0;34m\u001b[0m\u001b[0;34m\u001b[0m\u001b[0m\n\u001b[1;32m    451\u001b[0m                     raise TypeError(\"unable to convert {} to an element of {}\"\n",
      "\u001b[0;32msrc/cysignals/signals.pyx\u001b[0m in \u001b[0;36mcysignals.signals.python_check_interrupt\u001b[0;34m()\u001b[0m\n",
      "\u001b[0;31mKeyboardInterrupt\u001b[0m: "
     ]
    }
   ],
   "source": [
    "zeroVector = vector([0 for i in range((k^3*(k-1)^2)/2)])\n",
    "ans = 1\n",
    "while ans!=zeroVector.column():\n",
    "    randomVec = vector([basefield.random_element() for i in range(rk^2) ])\n",
    "    testMatrix = randomVec.column()*randomVec.row()\n",
    "    testVecList = []\n",
    "    for i in range(rk^2): \n",
    "        testVecList += list(testMatrix[i])\n",
    "    testVec = vector(testVecList)\n",
    "    ans = eqn_mat*testVec.column()\n",
    "    "
   ]
  },
  {
   "cell_type": "code",
   "execution_count": 234,
   "metadata": {},
   "outputs": [
    {
     "data": {
      "text/plain": [
       "(0, 0, 0, 0, 0, 0)"
      ]
     },
     "execution_count": 234,
     "metadata": {},
     "output_type": "execute_result"
    }
   ],
   "source": []
  },
  {
   "cell_type": "code",
   "execution_count": 38,
   "metadata": {},
   "outputs": [
    {
     "data": {
      "text/plain": [
       "(z^4 + 4*z^3 + z^2 + z + 1, 0)"
      ]
     },
     "execution_count": 38,
     "metadata": {},
     "output_type": "execute_result"
    }
   ],
   "source": [
    "vector(sidonbasis[0])"
   ]
  },
  {
   "cell_type": "code",
   "execution_count": 13,
   "metadata": {},
   "outputs": [
    {
     "data": {
      "text/plain": [
       "[4, 1, 3, 5, 1]"
      ]
     },
     "execution_count": 13,
     "metadata": {},
     "output_type": "execute_result"
    }
   ],
   "source": [
    "list(vector(F.random_element()))"
   ]
  },
  {
   "cell_type": "code",
   "execution_count": 102,
   "metadata": {},
   "outputs": [
    {
     "data": {
      "text/plain": [
       "[6 0 1 5 2]\n",
       "[0 3 2 6 3]\n",
       "[1 2 2 3 6]\n",
       "[5 6 3 2 5]\n",
       "[2 3 6 5 3]"
      ]
     },
     "execution_count": 102,
     "metadata": {},
     "output_type": "execute_result"
    }
   ],
   "source": [
    "matrixList[10]"
   ]
  },
  {
   "cell_type": "code",
   "execution_count": 103,
   "metadata": {},
   "outputs": [
    {
     "data": {
      "text/plain": [
       "[6 0 1 5 2]\n",
       "[0 3 2 6 3]\n",
       "[1 2 2 3 6]\n",
       "[5 6 3 2 5]\n",
       "[2 3 6 5 3]"
      ]
     },
     "execution_count": 103,
     "metadata": {},
     "output_type": "execute_result"
    }
   ],
   "source": [
    "matrixList[4]"
   ]
  },
  {
   "cell_type": "code",
   "execution_count": null,
   "metadata": {},
   "outputs": [],
   "source": []
  },
  {
   "cell_type": "code",
   "execution_count": 1,
   "metadata": {},
   "outputs": [
    {
     "data": {
      "text/plain": [
       "'[1, 2]'"
      ]
     },
     "execution_count": 1,
     "metadata": {},
     "output_type": "execute_result"
    }
   ],
   "source": []
  },
  {
   "cell_type": "code",
   "execution_count": null,
   "metadata": {},
   "outputs": [],
   "source": []
  }
 ],
 "metadata": {
  "kernelspec": {
   "display_name": "SageMath 9.0",
   "language": "sage",
   "name": "sagemath"
  },
  "language_info": {
   "codemirror_mode": {
    "name": "ipython",
    "version": 3
   },
   "file_extension": ".py",
   "mimetype": "text/x-python",
   "name": "python",
   "nbconvert_exporter": "python",
   "pygments_lexer": "ipython3",
   "version": "3.7.3"
  }
 },
 "nbformat": 4,
 "nbformat_minor": 2
}
