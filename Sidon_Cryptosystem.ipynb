{
 "cells": [
  {
   "cell_type": "code",
   "execution_count": 190,
   "metadata": {},
   "outputs": [],
   "source": [
    "def ConstructSidon(q, k, r): \n",
    "    ##Constructs a Sidon Space in Gq(rk, k) for r > 2 \n",
    "    \n",
    "    ##Define the field F_p^k and the polynomial ring over that field\n",
    "    assert(r!=2)\n",
    "    F.<z> = GF(q^k)\n",
    "    R.<a> = F[]\n",
    "    \n",
    "    ##Construct another extension field of degree r over this ring using an irreducible polynomial of degree r over F_q^k\n",
    "    irred_poly1 = R.irreducible_element(r)\n",
    "    irred_poly2 = R.irreducible_element(r)\n",
    "    F_r.<x> = F.extension(irred_poly1)[]\n",
    "    F_ = F.extension(irred_poly1)\n",
    "    ##find a root of this in F_q^rk\n",
    "    roots = irred_poly2(x).roots()\n",
    "\n",
    "    y = roots[0][0]\n",
    "    \n",
    "    ##returns a tuple containing y, the subfield F_q^k and the field F_q^rk\n",
    "    ##The Sidon space is defined as u + u^p*y for u in F \n",
    "    return y, F, F_"
   ]
  },
  {
   "cell_type": "code",
   "execution_count": 191,
   "metadata": {},
   "outputs": [],
   "source": [
    "def ConstructSidon2k(q, k): \n",
    "    ##Constructs a Sidon Space in Gq(2k, k), q cannot equal 2 \n",
    "    assert(q!=2)\n",
    "    \n",
    "    ##Define the field F_p^k and the polynomial ring\n",
    "    F.<z> = GF(q^k) \n",
    "    R.<a> = F[] \n",
    "    \n",
    "    p = F.characteristic()\n",
    "    ##Find and irreducible polynomial of degree 2 with the constant term not in W_q-1 \n",
    "    irred_poly = R.irreducible_element(2)\n",
    "    iterations = 0\n",
    "   \n",
    "    while irred_poly.list()[0]^((q^k - 1)/(q-1)) == 1 and iterations < 100: \n",
    "        irred_poly = R.irreducible_element(2)\n",
    "        iterations += 1\n",
    "    \n",
    "    assert(iterations != 100)\n",
    "    \n",
    "  \n",
    "    ##Construct the second extension field as a polynomial ring over the first modded out by this irreducible element\n",
    "    X  = F.extension(irred_poly)\n",
    "    F_2k.<x> = F.extension(irred_poly)[]\n",
    "    roots = irred_poly(x).roots() \n",
    "    \n",
    "    ##Return a root of the polynomial as well as info about the two fields \n",
    "    y = roots[0][0]\n",
    "    \n",
    "    return y, F, X, irred_poly.list()[1], irred_poly.list()[0]\n",
    "    \n",
    "    \n",
    "    "
   ]
  },
  {
   "cell_type": "code",
   "execution_count": 182,
   "metadata": {},
   "outputs": [],
   "source": [
    "def factor(product, y, q, F, F_r): \n",
    "    ##Factoring algorithm for Sidon spaces with r > 2 \n",
    "    r = len(list(F_r.modulus())) - 1 \n",
    "    p = F.characteristic()\n",
    "    assert(r > 2)\n",
    "    \n",
    "    ##construct a basis from y \n",
    "    basis = [vector(y^n) for n in range(r)]\n",
    "    mat = matrix(basis)\n",
    "    \n",
    "    ##calculate the change of basis matrix to go from the standard basis to our new basis, and compute \n",
    "    ##the representation of the product in that basis \n",
    "    cob_mat = mat.inverse() \n",
    "    product_representation = vector(product)*cob_mat\n",
    "    \n",
    "    ##Find the roots of the polynomial we derive from product_represntation, and then compute the original u and v\n",
    "    assert(i == 0 for i in product_representation[3:])\n",
    "    product_representation = product_representation[0:3]\n",
    "    F_.<x> = F[]\n",
    "    poly = F_(list(product_representation))\n",
    "    roots = poly.roots()\n",
    "    \n",
    "    ##returns u and v up to multiplication from F_p, not the original things multiplied \n",
    "    if len(roots) == 1: \n",
    "        ans1 = (-1*1/roots[0][0]).nth_root(q - 1)\n",
    "        ans2 = (-1*1/roots[0][0]).nth_root(q - 1)\n",
    "        \n",
    "    else: \n",
    "        ans1 = (-1*1/roots[0][0]).nth_root(F.characteristic() - 1)\n",
    "        ans2 = (-1*1/roots[1][0]).nth_root(F.characteristic() - 1)\n",
    "    \n",
    "    if product/((ans1 + ans1^q*y)*(ans2 + ans2^q*y)) != 1: \n",
    "        ans1 = ans1*product/((ans1 + ans1^q*y)*(ans2 + ans2^q*y))\n",
    "    return ans1, ans2"
   ]
  },
  {
   "cell_type": "code",
   "execution_count": 183,
   "metadata": {},
   "outputs": [],
   "source": [
    "def factor2(product, y,q,F, F_r, b, c): \n",
    "    ##factoring algorithm for Sidon space with r = 2 \n",
    "    p = F.characteristic()\n",
    "    k = len(F.modulus().list()) - 1\n",
    "    \n",
    "    ##construct a basis for F_r that we will use to extract usefull info\n",
    "    basis = [vector(y^n) for n in (0, 1)]\n",
    "    mat = matrix(basis)\n",
    "    cob_mat = mat.inverse() \n",
    "    product_representation = vector(product)*cob_mat\n",
    "    \n",
    "    \n",
    "    ##Figure out the linear transformation x - cx^q \n",
    "    basis_transf = []\n",
    "    identity = matrix.identity(k)\n",
    "    \n",
    "    for i in range(k): \n",
    "        transformed = vector(F(list(identity[i])) - c*F(list(identity[i]))^q)\n",
    "        basis_transf += [transformed]\n",
    "        \n",
    "    transformation = matrix(basis_transf).inverse() \n",
    "    \n",
    "    ##invert this transformation and use it to calculate uv     \n",
    "    uv = vector(product_representation[0])*transformation\n",
    "    uv = F(uv)\n",
    " \n",
    "    ##Calculate the last two terms and create a quadratic polynomial\n",
    "    F_.<s> = F[] \n",
    "    second_term = product_representation[1] + b*(uv)^q\n",
    "    third_term = uv^q\n",
    "    poly = F_([vector(uv), vector(second_term), vector(third_term)])\n",
    "    \n",
    "    ##get the roots of the polynomial and extract u and v\n",
    "    roots = poly.roots()\n",
    "    \n",
    "    ##returns u and v up to multiplication from F_q, not the original things multiplied \n",
    "    if len(roots) == 1: \n",
    "        ans1 = (-1*1/roots[0][0]).nth_root(q - 1)\n",
    "        ans2 = (-1*1/roots[0][0]).nth_root(q - 1)\n",
    "        \n",
    "    else: \n",
    "        ans1 = (-1*1/roots[0][0]).nth_root(q - 1)\n",
    "        ans2 = (-1*1/roots[1][0]).nth_root(q - 1)\n",
    "    \n",
    "    if product/((ans1 + ans1^q*y)*(ans2 + ans2^q*y)) != 1: \n",
    "        ans1 = ans1*product/((ans1 + ans1^q*y)*(ans2 + ans2^q*y))\n",
    "    return ans1, ans2\n",
    "    "
   ]
  },
  {
   "cell_type": "code",
   "execution_count": 184,
   "metadata": {},
   "outputs": [],
   "source": [
    "def publicKey(y,q, F, F_r): \n",
    "    ##Generates the public key (and associated private key) using info from the given sidon space \n",
    "    p = F.characteristic()\n",
    "    k = len(F.modulus().list()) - 1\n",
    "    rk = (len(F_r.modulus().list()) - 1)*k\n",
    "    basefield = GF(q)\n",
    "    iterations = 0\n",
    "    iterations2 = 0\n",
    "    \n",
    "    ##Construct bases for the sidon space as well as F_r\n",
    "    sidonbasis = Matrix(basefield, k, lambda i,j: basefield.random_element())\n",
    "    while sidonbasis.is_invertible() == False and iterations < 100:\n",
    "        sidonbasis = Matrix(basefield, k, lambda i,j: basefield.random_element())\n",
    "        iterations += 1\n",
    "    F_r_basis = Matrix(basefield, rk, lambda i,j: basefield.random_element())\n",
    "    while F_r_basis.is_invertible() == False and iterations2 < 100: \n",
    "         F_r_basis = Matrix(basefield, rk, lambda i,j: basefield.random_element())\n",
    "         iterations2 += 1\n",
    "    \n",
    "    assert(iterations<100 and iterations2<100)\n",
    "    \n",
    "    ##Get the multiplication table from the basis of the sidon space\n",
    "    v = [F(list(sidonbasis[i])) for i in range(k)]\n",
    "    origbasis = sidonbasis\n",
    "    sidonbasis = [j + j^q*y for j in v]\n",
    "    mult_table = vector(sidonbasis).column()*vector(sidonbasis).row()\n",
    "    cob_matrix = F_r_basis.inverse()\n",
    "    print(cob_matrix)\n",
    "    vec_list = [[0 for i in range(k)] for j in range(k)]\n",
    "    \n",
    "    ##Generate the public key M(V,B)\n",
    "    for i in range(k): \n",
    "        for j in range(k):\n",
    "            element = mult_table[i][j]\n",
    "            long_representation = convertToLong(element)\n",
    "            vec_list[i][j] = list(long_representation*cob_matrix) \n",
    "    matrixlist = [0 for i in range(rk)]\n",
    "    \n",
    "    ##Return the public key \n",
    "    for i in range(rk): \n",
    "        matrixlist[i] = Matrix(basefield, k, lambda l,j: vec_list[l][j][i])\n",
    "    return matrixlist, sidonbasis, mult_table, F_r_basis, origbasis\n",
    "def convertToLong(element):\n",
    "    ##Converts an element from a vector over F to a vector over F_q\n",
    "    long_representation = []\n",
    "    print(list(element))\n",
    "    for l in range(len(list(element))): \n",
    "        long_representation += list(vector(list(element)[l]))\n",
    "    long_representation = vector(long_representation)\n",
    "    long_representation\n",
    "    return long_representation\n",
    "\n",
    "def convertFromLong(element, F, F_r):\n",
    "    ##Converts an element from F_r represented as a vector over F_q to a vector over F\n",
    "    \n",
    "    k = len(F.modulus().list()) - 1\n",
    "    r = len(F_r.modulus().list()) - 1\n",
    "    final_list = []\n",
    "    \n",
    "    for i in range(r): \n",
    "        final_list += [F(list(element)[i*k:(i+1)*k])]\n",
    "    return(F_r(final_list))\n",
    "    \n",
    "    "
   ]
  },
  {
   "cell_type": "code",
   "execution_count": 185,
   "metadata": {},
   "outputs": [],
   "source": [
    "def encrypt(a,b, matrixlist): \n",
    "    ##Uses the public key to send the encrypted message\n",
    "    anslist = []\n",
    "    print(a,b,matrixlist)\n",
    "    for i in matrixlist: \n",
    "        anslist += a.row()*i*b.column()\n",
    "    return anslist \n",
    "\n",
    "\n",
    "def decrypt(anslist, y, q, F, F_r, F_r_basis, sidonbasis, origbasis, b = None, c = None): \n",
    "    ##Decrpyts the message anslist\n",
    "    ##Calculate the original product in the sidon space\n",
    "    product = (anslist[0]*convertFromLong(F_r_basis[0],F,F_r))\n",
    "    \n",
    "    for i in range(len(anslist) - 1): \n",
    "        product += anslist[i+1]*convertFromLong(F_r_basis[i+1], F, F_r)\n",
    "    r = len(F_r.modulus().list()) - 1 \n",
    "    \n",
    "    ##Factor the product\n",
    "    if r == 2: \n",
    "        u,v = factor2(product[0], y,q, F, F_r, b, c)\n",
    "    else: \n",
    "        u,v = factor(product[0], y,q, F, F_r)\n",
    "    print(product)\n",
    "    print((u + u^q*y)*(v + v^q*y))\n",
    "    \n",
    "    ##Represent the product over the sidon space basis\n",
    "    cob_matrix = origbasis.inverse() \n",
    "  \n",
    "    u = vector(F(str(u)))*origbasis.inverse()\n",
    "    v = vector(F(str(v)))*origbasis.inverse() \n",
    "    \n",
    "   \n",
    "    return u.column()*v.row()\n",
    "\n",
    "\n",
    "        "
   ]
  },
  {
   "cell_type": "code",
   "execution_count": 186,
   "metadata": {},
   "outputs": [
    {
     "name": "stdout",
     "output_type": "stream",
     "text": [
      "[3 1 1 1 1 1]\n",
      "[4 0 2 3 4 1]\n",
      "[1 4 1 2 0 1]\n",
      "[1 4 0 0 0 1]\n",
      "[4 1 1 2 4 4]\n",
      "[2 4 4 1 3 2]\n",
      "[3*z^2 + 2*z, z^2 + 4*z + 3]\n",
      "[z^2 + 4*z + 1, 4*z + 1]\n",
      "[3*z + 3, 2*z + 1]\n",
      "[z^2 + 4*z + 1, 4*z + 1]\n",
      "[3*z^2 + 1, 2*z^2 + 3*z]\n",
      "[4*z^2, 2*z^2 + 3*z + 1]\n",
      "[3*z + 3, 2*z + 1]\n",
      "[4*z^2, 2*z^2 + 3*z + 1]\n",
      "[4*z^2 + 4*z + 2, z^2 + z + 2]\n"
     ]
    }
   ],
   "source": [
    "##demonstration\n",
    "q = 5\n",
    "k = 3\n",
    "r = 4\n",
    "y, F, F_r, d, c = ConstructSidon2k(q, k)\n",
    "matrixlist, sidonbasis, mult_table, F_r_basis , origbasis = publicKey(y,q,F,F_r)\n",
    "a = vector(GF(q), [2,2,0])\n",
    "b = vector(GF(q), [1,1,3])\n"
   ]
  },
  {
   "cell_type": "code",
   "execution_count": 187,
   "metadata": {},
   "outputs": [
    {
     "name": "stdout",
     "output_type": "stream",
     "text": [
      "(2, 2, 0) (1, 1, 3) [[2 2 0]\n",
      "[2 2 1]\n",
      "[0 1 4], [2 3 4]\n",
      "[3 4 1]\n",
      "[4 1 1], [0 4 1]\n",
      "[4 0 0]\n",
      "[1 0 4], [1 3 1]\n",
      "[3 0 1]\n",
      "[1 1 0], [2 3 3]\n",
      "[3 4 3]\n",
      "[3 3 0], [1 3 0]\n",
      "[3 0 1]\n",
      "[0 1 3]]\n"
     ]
    }
   ],
   "source": [
    "anslist = encrypt(a,b, matrixlist)"
   ]
  },
  {
   "cell_type": "code",
   "execution_count": 189,
   "metadata": {},
   "outputs": [
    {
     "name": "stdout",
     "output_type": "stream",
     "text": [
      "((3*z^2 + 2)*a + 3*z + 4)\n",
      "(3*z^2 + 2)*a + 3*z + 4\n"
     ]
    },
    {
     "data": {
      "text/plain": [
       "[2 2 0]\n",
       "[2 2 0]\n",
       "[1 1 0]"
      ]
     },
     "execution_count": 189,
     "metadata": {},
     "output_type": "execute_result"
    }
   ],
   "source": [
    "decrypt(anslist, y,q, F, F_r, F_r_basis, sidonbasis, origbasis, d,c)"
   ]
  },
  {
   "cell_type": "code",
   "execution_count": 47,
   "metadata": {},
   "outputs": [
    {
     "data": {
      "text/plain": [
       "[(2), (1), (1), (1), (1), (2), (2), (1), (1), (1), (1), (1)]"
      ]
     },
     "execution_count": 47,
     "metadata": {},
     "output_type": "execute_result"
    }
   ],
   "source": [
    "anslist"
   ]
  },
  {
   "cell_type": "code",
   "execution_count": 41,
   "metadata": {},
   "outputs": [
    {
     "data": {
      "text/plain": [
       "(2)"
      ]
     },
     "execution_count": 41,
     "metadata": {},
     "output_type": "execute_result"
    }
   ],
   "source": [
    "anslist[0]"
   ]
  },
  {
   "cell_type": "code",
   "execution_count": 147,
   "metadata": {},
   "outputs": [
    {
     "data": {
      "text/plain": [
       "[2 2 0]\n",
       "[2 2 0]\n",
       "[2 2 0]"
      ]
     },
     "execution_count": 147,
     "metadata": {},
     "output_type": "execute_result"
    }
   ],
   "source": [
    "b.column()*a.row()"
   ]
  },
  {
   "cell_type": "code",
   "execution_count": 92,
   "metadata": {},
   "outputs": [
    {
     "data": {
      "text/plain": [
       "(1, 1, 1)"
      ]
     },
     "execution_count": 92,
     "metadata": {},
     "output_type": "execute_result"
    }
   ],
   "source": [
    "b"
   ]
  },
  {
   "cell_type": "code",
   "execution_count": null,
   "metadata": {},
   "outputs": [],
   "source": []
  }
 ],
 "metadata": {
  "kernelspec": {
   "display_name": "SageMath 9.0",
   "language": "sage",
   "name": "sagemath"
  },
  "language_info": {
   "codemirror_mode": {
    "name": "ipython",
    "version": 3
   },
   "file_extension": ".py",
   "mimetype": "text/x-python",
   "name": "python",
   "nbconvert_exporter": "python",
   "pygments_lexer": "ipython3",
   "version": "3.7.3"
  }
 },
 "nbformat": 4,
 "nbformat_minor": 2
}
