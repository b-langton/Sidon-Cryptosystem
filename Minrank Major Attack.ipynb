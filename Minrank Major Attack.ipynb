{
 "cells": [
  {
   "cell_type": "code",
   "execution_count": 1,
   "metadata": {},
   "outputs": [],
   "source": [
    "load('sidon_cryptosystem.sage')"
   ]
  },
  {
   "cell_type": "code",
   "execution_count": 2,
   "metadata": {},
   "outputs": [
    {
     "name": "stdout",
     "output_type": "stream",
     "text": [
      "[0 5 2 3 1 0]\n",
      "[5 0 5 0 2 1]\n",
      "[5 0 4 1 5 5]\n",
      "[2 2 3 3 1 3]\n",
      "[4 2 5 1 0 5]\n",
      "[4 2 3 1 5 0]\n"
     ]
    }
   ],
   "source": [
    "##Implementation of the first minrank attack in sidon cryptosystem paper\n",
    "##We first define the sidon space we are trying to break\n",
    "q = 7\n",
    "basefield = GF(q)\n",
    "k = 3\n",
    "r = 2\n",
    "rk = r*k\n",
    "y, F, F_r, d, c = ConstructSidon2k(q, k)\n",
    "##Construct the attacker's F_r\n",
    "y2, F2, F_r2, d2, c2 = ConstructSidon2k(q, k)\n",
    "matrixList, sidonbasis, mult_table, F_r_basis , origbasis = publicKey(y,q,F,F_r)"
   ]
  },
  {
   "cell_type": "code",
   "execution_count": 88,
   "metadata": {},
   "outputs": [
    {
     "name": "stdout",
     "output_type": "stream",
     "text": [
      "6 6 6\n"
     ]
    }
   ],
   "source": [
    "##Construct the attacker's basis of F and F_r\n",
    "iterations = 0\n",
    "sidonbasis = Matrix(basefield, k, lambda i,j: basefield.random_element()*0)\n",
    "##basis of F\n",
    "while sidonbasis.is_invertible() == False and iterations < 500:\n",
    "    element = F.random_element()\n",
    "    sidonbasis = Matrix([list(vector(element^(q^i))) for i in range(k)])\n",
    "    iterations += 1\n",
    "v = [F2(list(sidonbasis[i])) for i in range(k)]\n",
    "sidonbasis = [j*y2*y2^-1 for  j in v]\n",
    "sidonbasismat = Matrix([convertToLong(i) for i in sidonbasis])\n",
    "##Extend F to F_r\n",
    "F_r2basis = Matrix(basefield, k, lambda i,j: basefield.random_element()*0)\n",
    "while F_r2basis.is_invertible() == False and iterations < 500:\n",
    "    F_r2basis = sidonbasismat\n",
    "    stackmat = Matrix(basefield, rk - k, rk, lambda i, j: basefield.random_element())\n",
    "    F_r2basis = F_r2basis.stack(stackmat)\n",
    "    iterations += 1\n",
    "    print(F_r2basis.rank(), F_r2basis.nrows(), F_r2basis.ncols())"
   ]
  },
  {
   "cell_type": "code",
   "execution_count": 89,
   "metadata": {},
   "outputs": [],
   "source": [
    "F_r2basisels =  [convertFromLong(F_r2basis[i], F2, F_r2) for i in range(rk)]"
   ]
  },
  {
   "cell_type": "code",
   "execution_count": 90,
   "metadata": {
    "scrolled": true
   },
   "outputs": [],
   "source": [
    "##define variables\n",
    "g = ['g' + str(i) for i in range(rk)]"
   ]
  },
  {
   "cell_type": "code",
   "execution_count": 130,
   "metadata": {},
   "outputs": [
    {
     "name": "stdout",
     "output_type": "stream",
     "text": [
      "Defining g0, g1, g2, g3, g4, g5, b00, b01, b02, b03, b04, b05, b10, b11, b12, b13, b14, b15, b20, b21, b22, b23, b24, b25, b30, b31, b32, b33, b34, b35, b40, b41, b42, b43, b44, b45, b50, b51, b52, b53, b54, b55, u00, u10, u20, u01, u11, u21, u02, u12, u22\n"
     ]
    }
   ],
   "source": [
    "##create a polynomial ring over the variabels in order to do symbolic calculations \n",
    "b = [[\"b\" + str(j) + str(i) for i in range(rk)] for j in range(rk)]\n",
    "u = [[\"u\" + str(j) + str(i) for i in range(k) for j in range(k)]]\n",
    "bvec = []\n",
    "uvec = []\n",
    "for i in b: \n",
    "    bvec += i\n",
    "for i in u: \n",
    "    uvec += i\n",
    "R = PolynomialRing(F_r2, g + bvec + uvec)\n",
    "indeterminates = R.gens()\n",
    "R.inject_variables()\n",
    "\n",
    "for i in range(rk): \n",
    "    g[i] = R(g[i])\n",
    "for i in range(k*k): \n",
    "    uvec[i] = R(uvec[i])\n",
    "for i in range(rk*rk):\n",
    "    bvec[i] = R(bvec[i])\n",
    "y2 = vector(g).row()*vector(F_r2basisels).column()\n",
    "F_r2_q = vector([R(i^q) for i in F_r2basisels])"
   ]
  },
  {
   "cell_type": "code",
   "execution_count": 131,
   "metadata": {},
   "outputs": [],
   "source": [
    "v = [] \n",
    "for i in range(k):\n",
    "    v += vector(uvec[i*k:(i+1)*k]).row()*vector(F_r2basisels[0:k]).column() + y2*vector(uvec[i*k:(i+1)*k]).row()*vector(F_r2_q[0:k]).column() "
   ]
  },
  {
   "cell_type": "code",
   "execution_count": 144,
   "metadata": {},
   "outputs": [],
   "source": [
    "B = [0 for i in range(rk)]\n",
    "for i in range(rk): \n",
    "\n",
    "    for j in range(rk):\n",
    "        B[i] += R(bvec[i*rk + j])*R(F_r2_q[j])"
   ]
  },
  {
   "cell_type": "code",
   "execution_count": 133,
   "metadata": {},
   "outputs": [
    {
     "data": {
      "text/plain": [
       "[b00, b01, b02, b03, b04, b05]"
      ]
     },
     "execution_count": 133,
     "metadata": {},
     "output_type": "execute_result"
    }
   ],
   "source": [
    "bvec[0:rk]"
   ]
  },
  {
   "cell_type": "code",
   "execution_count": 134,
   "metadata": {},
   "outputs": [],
   "source": [
    "v_mult_table =[[v[i]*v[j] for i in range(len(v))] for j in range(len(v))]"
   ]
  },
  {
   "cell_type": "code",
   "execution_count": 171,
   "metadata": {},
   "outputs": [],
   "source": [
    "B_table = [[0 for i in range(k)] for j in range(k)]\n",
    "eq_table = [[0 for i in range(k)] for j in range(k)]\n",
    "for i in range(k): \n",
    "    for j in range(k): \n",
    "        sum1 = 0\n",
    "        for l in range(rk): \n",
    "            sum1 += R(matrixList[l][i][j])*B[l]\n",
    "        B_table[i][j] = sum1  \n",
    "        eq_table[i][j] = R(v_mult_table[i][j])  - sum1"
   ]
  },
  {
   "cell_type": "code",
   "execution_count": 170,
   "metadata": {},
   "outputs": [
    {
     "data": {
      "text/plain": [
       "Multivariate Polynomial Ring in g0, g1, g2, g3, g4, g5, b00, b01, b02, b03, b04, b05, b10, b11, b12, b13, b14, b15, b20, b21, b22, b23, b24, b25, b30, b31, b32, b33, b34, b35, b40, b41, b42, b43, b44, b45, b50, b51, b52, b53, b54, b55, u00, u10, u20, u01, u11, u21, u02, u12, u22 over Univariate Quotient Polynomial Ring in a over Finite Field in z of size 7^3 with modulus a^2 + (z^2 + 3*z + 6)*a + 2*z^2 + 3*z + 2"
      ]
     },
     "execution_count": 170,
     "metadata": {},
     "output_type": "execute_result"
    }
   ],
   "source": [
    "(convertToLong(F_r2(list(eq_table[0][0])[0][0]))*F_r2basis.inverse()*g0).parent()"
   ]
  },
  {
   "cell_type": "code",
   "execution_count": 179,
   "metadata": {},
   "outputs": [],
   "source": [
    "vectorized_eq_table = [[0 for i in range(k)] for j in range(k)]\n",
    "for i in range(k): \n",
    "    for j in range(k): \n",
    "        if i > j: \n",
    "            continue\n",
    "        else: \n",
    "            eqvec = list(eq_table[i][j])\n",
    "            sumvec = vector([0 for l in range(rk)])\n",
    "            for term in eqvec: \n",
    "                coeff = term[0]\n",
    "                monomial = term[1]\n",
    "                coeff = convertToLong(F_r2(coeff))\n",
    "                rep = coeff*F_r2basis.inverse()\n",
    "                sumvec += rep*monomial\n",
    "        vectorized_eq_table[i][j] = sumvec"
   ]
  },
  {
   "cell_type": "code",
   "execution_count": 192,
   "metadata": {},
   "outputs": [
    {
     "data": {
      "text/plain": [
       "[(4, g0^2*u00*u01),\n",
       " (1, g0*g1*u00*u01),\n",
       " (3, g1^2*u00*u01),\n",
       " (6, g1*g2*u00*u01),\n",
       " (6, g0*g3*u00*u01),\n",
       " (1, g1*g3*u00*u01),\n",
       " (1, g2*g3*u00*u01),\n",
       " (4, g3^2*u00*u01),\n",
       " (2, g0*g4*u00*u01),\n",
       " (3, g1*g4*u00*u01),\n",
       " (5, g2*g4*u00*u01),\n",
       " (6, g3*g4*u00*u01),\n",
       " (2, g0*g5*u00*u01),\n",
       " (3, g1*g5*u00*u01),\n",
       " (5, g2*g5*u00*u01),\n",
       " (5, g3*g5*u00*u01),\n",
       " (1, g4*g5*u00*u01),\n",
       " (1, g5^2*u00*u01),\n",
       " (3, g0^2*u10*u01),\n",
       " (3, g1^2*u10*u01),\n",
       " (3, g2^2*u10*u01),\n",
       " (1, g1*g3*u10*u01),\n",
       " (5, g3^2*u10*u01),\n",
       " (5, g1*g4*u10*u01),\n",
       " (5, g2*g4*u10*u01),\n",
       " (5, g3*g4*u10*u01),\n",
       " (1, g4^2*u10*u01),\n",
       " (5, g1*g5*u10*u01),\n",
       " (5, g2*g5*u10*u01),\n",
       " (1, g3*g5*u10*u01),\n",
       " (4, g4*g5*u10*u01),\n",
       " (1, g0^2*u20*u01),\n",
       " (1, g0*g1*u20*u01),\n",
       " (4, g1^2*u20*u01),\n",
       " (6, g0*g2*u20*u01),\n",
       " (6, g0*g3*u20*u01),\n",
       " (6, g1*g3*u20*u01),\n",
       " (4, g3^2*u20*u01),\n",
       " (2, g1*g4*u20*u01),\n",
       " (2, g3*g4*u20*u01),\n",
       " (1, g4^2*u20*u01),\n",
       " (2, g1*g5*u20*u01),\n",
       " (1, g3*g5*u20*u01),\n",
       " (5, g4*g5*u20*u01),\n",
       " (3, g5^2*u20*u01),\n",
       " (3, g0^2*u00*u11),\n",
       " (3, g1^2*u00*u11),\n",
       " (3, g2^2*u00*u11),\n",
       " (1, g1*g3*u00*u11),\n",
       " (5, g3^2*u00*u11),\n",
       " (5, g1*g4*u00*u11),\n",
       " (5, g2*g4*u00*u11),\n",
       " (5, g3*g4*u00*u11),\n",
       " (1, g4^2*u00*u11),\n",
       " (5, g1*g5*u00*u11),\n",
       " (5, g2*g5*u00*u11),\n",
       " (1, g3*g5*u00*u11),\n",
       " (4, g4*g5*u00*u11),\n",
       " (4, g0^2*u10*u11),\n",
       " (1, g0*g2*u10*u11),\n",
       " (6, g1*g2*u10*u11),\n",
       " (1, g2^2*u10*u11),\n",
       " (1, g2*g3*u10*u11),\n",
       " (4, g3^2*u10*u11),\n",
       " (2, g0*g4*u10*u11),\n",
       " (5, g1*g4*u10*u11),\n",
       " (2, g2*g4*u10*u11),\n",
       " (1, g3*g4*u10*u11),\n",
       " (4, g4^2*u10*u11),\n",
       " (2, g0*g5*u10*u11),\n",
       " (5, g1*g5*u10*u11),\n",
       " (2, g2*g5*u10*u11),\n",
       " (2, g3*g5*u10*u11),\n",
       " (2, g4*g5*u10*u11),\n",
       " (5, g5^2*u10*u11),\n",
       " (3, g0^2*u20*u11),\n",
       " (6, g0*g1*u20*u11),\n",
       " (1, g0*g2*u20*u11),\n",
       " (4, g2^2*u20*u11),\n",
       " (1, g0*g3*u20*u11),\n",
       " (5, g3^2*u20*u11),\n",
       " (2, g2*g4*u20*u11),\n",
       " (5, g4^2*u20*u11),\n",
       " (2, g2*g5*u20*u11),\n",
       " (5, g3*g5*u20*u11),\n",
       " (5, g4*g5*u20*u11),\n",
       " (4, g5^2*u20*u11),\n",
       " (1, g0^2*u00*u21),\n",
       " (1, g0*g1*u00*u21),\n",
       " (4, g1^2*u00*u21),\n",
       " (6, g0*g2*u00*u21),\n",
       " (6, g0*g3*u00*u21),\n",
       " (6, g1*g3*u00*u21),\n",
       " (4, g3^2*u00*u21),\n",
       " (2, g1*g4*u00*u21),\n",
       " (2, g3*g4*u00*u21),\n",
       " (1, g4^2*u00*u21),\n",
       " (2, g1*g5*u00*u21),\n",
       " (1, g3*g5*u00*u21),\n",
       " (5, g4*g5*u00*u21),\n",
       " (3, g5^2*u00*u21),\n",
       " (3, g0^2*u10*u21),\n",
       " (6, g0*g1*u10*u21),\n",
       " (1, g0*g2*u10*u21),\n",
       " (4, g2^2*u10*u21),\n",
       " (1, g0*g3*u10*u21),\n",
       " (5, g3^2*u10*u21),\n",
       " (2, g2*g4*u10*u21),\n",
       " (5, g4^2*u10*u21),\n",
       " (2, g2*g5*u10*u21),\n",
       " (5, g3*g5*u10*u21),\n",
       " (5, g4*g5*u10*u21),\n",
       " (4, g5^2*u10*u21),\n",
       " (2, g0^2*u20*u21),\n",
       " (2, g0*g1*u20*u21),\n",
       " (4, g1^2*u20*u21),\n",
       " (6, g0*g2*u20*u21),\n",
       " (6, g1*g2*u20*u21),\n",
       " (4, g2^2*u20*u21),\n",
       " (5, g0*g3*u20*u21),\n",
       " (6, g1*g3*u20*u21),\n",
       " (1, g2*g3*u20*u21),\n",
       " (3, g3^2*u20*u21),\n",
       " (2, g0*g4*u20*u21),\n",
       " (3, g3*g4*u20*u21),\n",
       " (2, g0*g5*u20*u21),\n",
       " (5, g3*g5*u20*u21),\n",
       " (2, g4*g5*u20*u21),\n",
       " (4, g5^2*u20*u21),\n",
       " (1, g0*u00*u01),\n",
       " (1, g1*u00*u01),\n",
       " (3, g2*u00*u01),\n",
       " (6, g3*u00*u01),\n",
       " (1, g4*u00*u01),\n",
       " (1, g5*u00*u01),\n",
       " (2, g0*u10*u01),\n",
       " (3, g1*u10*u01),\n",
       " (2, g2*u10*u01),\n",
       " (4, g3*u10*u01),\n",
       " (3, g4*u10*u01),\n",
       " (3, g5*u10*u01),\n",
       " (1, g0*u20*u01),\n",
       " (2, g1*u20*u01),\n",
       " (3, g2*u20*u01),\n",
       " (5, g3*u20*u01),\n",
       " (3, g4*u20*u01),\n",
       " (3, g5*u20*u01),\n",
       " (2, g0*u00*u11),\n",
       " (3, g1*u00*u11),\n",
       " (2, g2*u00*u11),\n",
       " (4, g3*u00*u11),\n",
       " (3, g4*u00*u11),\n",
       " (3, g5*u00*u11),\n",
       " (3, g0*u10*u11),\n",
       " (3, g1*u10*u11),\n",
       " (3, g2*u10*u11),\n",
       " (4, g3*u10*u11),\n",
       " (5, g4*u10*u11),\n",
       " (5, g5*u10*u11),\n",
       " (1, g0*u20*u11),\n",
       " (2, g1*u20*u11),\n",
       " (2, g2*u20*u11),\n",
       " (5, g3*u20*u11),\n",
       " (1, g4*u20*u11),\n",
       " (1, g5*u20*u11),\n",
       " (1, g0*u00*u21),\n",
       " (2, g1*u00*u21),\n",
       " (3, g2*u00*u21),\n",
       " (5, g3*u00*u21),\n",
       " (3, g4*u00*u21),\n",
       " (3, g5*u00*u21),\n",
       " (1, g0*u10*u21),\n",
       " (2, g1*u10*u21),\n",
       " (2, g2*u10*u21),\n",
       " (5, g3*u10*u21),\n",
       " (1, g4*u10*u21),\n",
       " (1, g5*u10*u21),\n",
       " (3, g0*u20*u21),\n",
       " (3, g1*u20*u21),\n",
       " (1, g2*u20*u21),\n",
       " (4, g3*u20*u21),\n",
       " (1, g4*u20*u21),\n",
       " (1, g5*u20*u21),\n",
       " (6, u00*u01),\n",
       " (3, u10*u01),\n",
       " (3, u00*u11),\n",
       " (4, u20*u11),\n",
       " (4, u10*u21),\n",
       " (3, u20*u21),\n",
       " (5, b02),\n",
       " (5, b03),\n",
       " (4, b04),\n",
       " (6, b12),\n",
       " (6, b13),\n",
       " (2, b14),\n",
       " (1, b22),\n",
       " (1, b23),\n",
       " (5, b24),\n",
       " (6, b32),\n",
       " (6, b33),\n",
       " (2, b34),\n",
       " (4, b42),\n",
       " (4, b43),\n",
       " (6, b44),\n",
       " (4, b52),\n",
       " (4, b53),\n",
       " (6, b54)]"
      ]
     },
     "execution_count": 192,
     "metadata": {},
     "output_type": "execute_result"
    }
   ],
   "source": [
    "list(vectorized_eq_table[0][1][0])"
   ]
  },
  {
   "cell_type": "code",
   "execution_count": null,
   "metadata": {},
   "outputs": [],
   "source": []
  },
  {
   "cell_type": "code",
   "execution_count": 85,
   "metadata": {},
   "outputs": [],
   "source": [
    "##Algebraic attack implementation is also here\n",
    "a = vector([5,1,2])\n",
    "b = vector([2,1,1])\n",
    "rhs = [a.row()*i*b.column() for i in matrixList]"
   ]
  },
  {
   "cell_type": "code",
   "execution_count": 86,
   "metadata": {},
   "outputs": [
    {
     "name": "stdout",
     "output_type": "stream",
     "text": [
      "Defining x0, x1, x2, x3, x4, x5\n"
     ]
    }
   ],
   "source": [
    "R_ = PolynomialRing(GF(q), 'x', 2*k, order = \"lex\")\n",
    "indeterminates = R_.gens()\n",
    "R_.inject_variables()"
   ]
  },
  {
   "cell_type": "code",
   "execution_count": 87,
   "metadata": {},
   "outputs": [],
   "source": [
    "a1 = vector(indeterminates[0:k])\n",
    "b1 = vector(indeterminates[k:])\n",
    "system = [a1.row()*i*b1.column() for i in matrixList]"
   ]
  },
  {
   "cell_type": "code",
   "execution_count": 88,
   "metadata": {},
   "outputs": [],
   "source": [
    "system = [system[i][0][0] for i in range(len(system))]"
   ]
  },
  {
   "cell_type": "code",
   "execution_count": 89,
   "metadata": {},
   "outputs": [],
   "source": [
    "I = ideal(system)"
   ]
  },
  {
   "cell_type": "code",
   "execution_count": 67,
   "metadata": {},
   "outputs": [
    {
     "data": {
      "text/plain": [
       "True"
      ]
     },
     "execution_count": 67,
     "metadata": {},
     "output_type": "execute_result"
    }
   ],
   "source": [
    "R_.is_commutative()"
   ]
  },
  {
   "cell_type": "code",
   "execution_count": 90,
   "metadata": {},
   "outputs": [],
   "source": [
    "gb = I.groebner_basis()"
   ]
  },
  {
   "cell_type": "code",
   "execution_count": 59,
   "metadata": {},
   "outputs": [
    {
     "ename": "TypeError",
     "evalue": "x must have length self.ngens()",
     "output_type": "error",
     "traceback": [
      "\u001b[0;31m---------------------------------------------------------------------------\u001b[0m",
      "\u001b[0;31mTypeError\u001b[0m                                 Traceback (most recent call last)",
      "\u001b[0;32m<ipython-input-59-419a4ffa9642>\u001b[0m in \u001b[0;36m<module>\u001b[0;34m()\u001b[0m\n\u001b[0;32m----> 1\u001b[0;31m \u001b[0msystem\u001b[0m\u001b[0;34m[\u001b[0m\u001b[0mInteger\u001b[0m\u001b[0;34m(\u001b[0m\u001b[0;36m0\u001b[0m\u001b[0;34m)\u001b[0m\u001b[0;34m]\u001b[0m\u001b[0;34m[\u001b[0m\u001b[0mInteger\u001b[0m\u001b[0;34m(\u001b[0m\u001b[0;36m0\u001b[0m\u001b[0;34m)\u001b[0m\u001b[0;34m]\u001b[0m\u001b[0;34m[\u001b[0m\u001b[0mInteger\u001b[0m\u001b[0;34m(\u001b[0m\u001b[0;36m0\u001b[0m\u001b[0;34m)\u001b[0m\u001b[0;34m]\u001b[0m\u001b[0;34m.\u001b[0m\u001b[0mparent\u001b[0m\u001b[0;34m(\u001b[0m\u001b[0;34m)\u001b[0m\u001b[0;34m\u001b[0m\u001b[0;34m\u001b[0m\u001b[0m\n\u001b[0m",
      "\u001b[0;32m/opt/sagemath-9.0/local/lib/python3.7/site-packages/sage/rings/polynomial/multi_polynomial_libsingular.pyx\u001b[0m in \u001b[0;36msage.rings.polynomial.multi_polynomial_libsingular.MPolynomial_libsingular.__getitem__ (build/cythonized/sage/rings/polynomial/multi_polynomial_libsingular.cpp:27123)\u001b[0;34m()\u001b[0m\n\u001b[1;32m   3118\u001b[0m \u001b[0;34m\u001b[0m\u001b[0m\n\u001b[1;32m   3119\u001b[0m         \u001b[0;32mif\u001b[0m \u001b[0mlen\u001b[0m\u001b[0;34m(\u001b[0m\u001b[0mx\u001b[0m\u001b[0;34m)\u001b[0m \u001b[0;34m!=\u001b[0m \u001b[0mself\u001b[0m\u001b[0;34m.\u001b[0m\u001b[0m_parent\u001b[0m\u001b[0;34m.\u001b[0m\u001b[0mngens\u001b[0m\u001b[0;34m(\u001b[0m\u001b[0;34m)\u001b[0m\u001b[0;34m:\u001b[0m\u001b[0;34m\u001b[0m\u001b[0;34m\u001b[0m\u001b[0m\n\u001b[0;32m-> 3120\u001b[0;31m             \u001b[0;32mraise\u001b[0m \u001b[0mTypeError\u001b[0m\u001b[0;34m(\u001b[0m\u001b[0;34m\"x must have length self.ngens()\"\u001b[0m\u001b[0;34m)\u001b[0m\u001b[0;34m\u001b[0m\u001b[0;34m\u001b[0m\u001b[0m\n\u001b[0m\u001b[1;32m   3121\u001b[0m \u001b[0;34m\u001b[0m\u001b[0m\n\u001b[1;32m   3122\u001b[0m         \u001b[0mm\u001b[0m \u001b[0;34m=\u001b[0m \u001b[0mp_ISet\u001b[0m\u001b[0;34m(\u001b[0m\u001b[0;36m1\u001b[0m\u001b[0;34m,\u001b[0m\u001b[0mr\u001b[0m\u001b[0;34m)\u001b[0m\u001b[0;34m\u001b[0m\u001b[0;34m\u001b[0m\u001b[0m\n",
      "\u001b[0;31mTypeError\u001b[0m: x must have length self.ngens()"
     ]
    }
   ],
   "source": [
    "system[0][0][0].parent()"
   ]
  },
  {
   "cell_type": "code",
   "execution_count": 91,
   "metadata": {},
   "outputs": [
    {
     "data": {
      "text/plain": [
       "[x0*x3, x0*x4 + x1*x3, x0*x5 + x2*x3, x1^2*x3, x1*x2*x3, x1*x3^2, x1*x4, x1*x5 + x2*x4, x2^2*x3, x2^2*x4, x2*x3^2, x2*x3*x4, x2*x4^2, x2*x5]"
      ]
     },
     "execution_count": 91,
     "metadata": {},
     "output_type": "execute_result"
    }
   ],
   "source": [
    "gb"
   ]
  },
  {
   "cell_type": "code",
   "execution_count": 52,
   "metadata": {},
   "outputs": [
    {
     "data": {
      "text/plain": [
       "[-3*x0*x3 + 2*x2*x3 + 2*x1*x4 + x2*x4 + 2*x0*x5 + x1*x5 - x2*x5,\n",
       " -x0*x3 - 2*x1*x3 + x2*x3 - 2*x0*x4 - 2*x1*x4 - 2*x2*x4 + x0*x5 - 2*x1*x5 - 3*x2*x5,\n",
       " 3*x0*x3 - 2*x1*x3 + 3*x2*x3 - 2*x0*x4 - x2*x4 + 3*x0*x5 - x1*x5 + x2*x5,\n",
       " -3*x0*x3 - 2*x1*x3 - 2*x2*x3 - 2*x0*x4 + x2*x4 - 2*x0*x5 + x1*x5 - 2*x2*x5,\n",
       " -3*x0*x3 - 2*x1*x3 - 2*x2*x3 - 2*x0*x4 - x1*x4 - 2*x0*x5 + 3*x2*x5,\n",
       " 2*x0*x3 + 3*x1*x3 + x2*x3 + 3*x0*x4 - x1*x4 + 3*x2*x4 + x0*x5 + 3*x1*x5 + x2*x5]"
      ]
     },
     "execution_count": 52,
     "metadata": {},
     "output_type": "execute_result"
    }
   ],
   "source": [
    "system"
   ]
  },
  {
   "cell_type": "code",
   "execution_count": null,
   "metadata": {},
   "outputs": [],
   "source": []
  }
 ],
 "metadata": {
  "kernelspec": {
   "display_name": "SageMath 9.0",
   "language": "sage",
   "name": "sagemath"
  },
  "language_info": {
   "codemirror_mode": {
    "name": "ipython",
    "version": 3
   },
   "file_extension": ".py",
   "mimetype": "text/x-python",
   "name": "python",
   "nbconvert_exporter": "python",
   "pygments_lexer": "ipython3",
   "version": "3.7.3"
  }
 },
 "nbformat": 4,
 "nbformat_minor": 2
}
