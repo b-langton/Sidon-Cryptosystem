{
 "cells": [
  {
   "cell_type": "code",
   "execution_count": 1,
   "metadata": {},
   "outputs": [],
   "source": [
    "load('sidon_cryptosystem.sage')"
   ]
  },
  {
   "cell_type": "code",
   "execution_count": 2,
   "metadata": {},
   "outputs": [
    {
     "name": "stdout",
     "output_type": "stream",
     "text": [
      "[2 6 0 6 2 4]\n",
      "[5 1 4 0 3 3]\n",
      "[0 2 0 4 1 4]\n",
      "[2 6 1 2 0 1]\n",
      "[6 3 6 3 6 3]\n",
      "[5 6 2 3 4 4]\n"
     ]
    }
   ],
   "source": [
    "##Implementation of the first minrank attack in sidon cryptosystem paper\n",
    "##We first define the sidon space we are trying to break\n",
    "q = 7\n",
    "basefield = GF(q)\n",
    "k = 3\n",
    "r = 2\n",
    "rk = r*k\n",
    "y, F, F_r, d, c = ConstructSidon2k(q, k)\n",
    "##Construct the attacker's F_r\n",
    "y2, F2, F_r2, d2, c2 = ConstructSidon2k(q, k)\n",
    "matrixList, sidonbasis, mult_table, F_r_basis , origbasis = publicKey(y,q,F,F_r)"
   ]
  },
  {
   "cell_type": "code",
   "execution_count": 88,
   "metadata": {},
   "outputs": [
    {
     "name": "stdout",
     "output_type": "stream",
     "text": [
      "6 6 6\n"
     ]
    }
   ],
   "source": [
    "##Construct the attacker's basis of F and F_r\n",
    "iterations = 0\n",
    "sidonbasis = Matrix(basefield, k, lambda i,j: basefield.random_element()*0)\n",
    "##basis of F\n",
    "while sidonbasis.is_invertible() == False and iterations < 500:\n",
    "    element = F.random_element()\n",
    "    sidonbasis = Matrix([list(vector(element^(q^i))) for i in range(k)])\n",
    "    iterations += 1\n",
    "v = [F2(list(sidonbasis[i])) for i in range(k)]\n",
    "sidonbasis = [j*y2*y2^-1 for  j in v]\n",
    "sidonbasismat = Matrix([convertToLong(i) for i in sidonbasis])\n",
    "##Extend F to F_r\n",
    "F_r2basis = Matrix(basefield, k, lambda i,j: basefield.random_element()*0)\n",
    "while F_r2basis.is_invertible() == False and iterations < 500:\n",
    "    F_r2basis = sidonbasismat\n",
    "    stackmat = Matrix(basefield, rk - k, rk, lambda i, j: basefield.random_element())\n",
    "    F_r2basis = F_r2basis.stack(stackmat)\n",
    "    iterations += 1\n",
    "    print(F_r2basis.rank(), F_r2basis.nrows(), F_r2basis.ncols())"
   ]
  },
  {
   "cell_type": "code",
   "execution_count": 89,
   "metadata": {},
   "outputs": [],
   "source": [
    "F_r2basisels =  [convertFromLong(F_r2basis[i], F2, F_r2) for i in range(rk)]"
   ]
  },
  {
   "cell_type": "code",
   "execution_count": 90,
   "metadata": {
    "scrolled": true
   },
   "outputs": [],
   "source": [
    "##define variables\n",
    "g = ['g' + str(i) for i in range(rk)]"
   ]
  },
  {
   "cell_type": "code",
   "execution_count": 130,
   "metadata": {},
   "outputs": [
    {
     "name": "stdout",
     "output_type": "stream",
     "text": [
      "Defining g0, g1, g2, g3, g4, g5, b00, b01, b02, b03, b04, b05, b10, b11, b12, b13, b14, b15, b20, b21, b22, b23, b24, b25, b30, b31, b32, b33, b34, b35, b40, b41, b42, b43, b44, b45, b50, b51, b52, b53, b54, b55, u00, u10, u20, u01, u11, u21, u02, u12, u22\n"
     ]
    }
   ],
   "source": [
    "##create a polynomial ring over the variabels in order to do symbolic calculations \n",
    "b = [[\"b\" + str(j) + str(i) for i in range(rk)] for j in range(rk)]\n",
    "u = [[\"u\" + str(j) + str(i) for i in range(k) for j in range(k)]]\n",
    "bvec = []\n",
    "uvec = []\n",
    "for i in b: \n",
    "    bvec += i\n",
    "for i in u: \n",
    "    uvec += i\n",
    "R = PolynomialRing(F_r2, g + bvec + uvec)\n",
    "indeterminates = R.gens()\n",
    "R.inject_variables()\n",
    "\n",
    "for i in range(rk): \n",
    "    g[i] = R(g[i])\n",
    "for i in range(k*k): \n",
    "    uvec[i] = R(uvec[i])\n",
    "for i in range(rk*rk):\n",
    "    bvec[i] = R(bvec[i])\n",
    "y2 = vector(g).row()*vector(F_r2basisels).column()\n",
    "F_r2_q = vector([R(i^q) for i in F_r2basisels])"
   ]
  },
  {
   "cell_type": "code",
   "execution_count": 131,
   "metadata": {},
   "outputs": [],
   "source": [
    "v = [] \n",
    "for i in range(k):\n",
    "    v += vector(uvec[i*k:(i+1)*k]).row()*vector(F_r2basisels[0:k]).column() + y2*vector(uvec[i*k:(i+1)*k]).row()*vector(F_r2_q[0:k]).column() "
   ]
  },
  {
   "cell_type": "code",
   "execution_count": 144,
   "metadata": {},
   "outputs": [],
   "source": [
    "B = [0 for i in range(rk)]\n",
    "for i in range(rk): \n",
    "\n",
    "    for j in range(rk):\n",
    "        B[i] += R(bvec[i*rk + j])*R(F_r2_q[j])"
   ]
  },
  {
   "cell_type": "code",
   "execution_count": 133,
   "metadata": {},
   "outputs": [
    {
     "data": {
      "text/plain": [
       "[b00, b01, b02, b03, b04, b05]"
      ]
     },
     "execution_count": 133,
     "metadata": {},
     "output_type": "execute_result"
    }
   ],
   "source": [
    "bvec[0:rk]"
   ]
  },
  {
   "cell_type": "code",
   "execution_count": 134,
   "metadata": {},
   "outputs": [],
   "source": [
    "v_mult_table =[[v[i]*v[j] for i in range(len(v))] for j in range(len(v))]"
   ]
  },
  {
   "cell_type": "code",
   "execution_count": 171,
   "metadata": {},
   "outputs": [],
   "source": [
    "B_table = [[0 for i in range(k)] for j in range(k)]\n",
    "eq_table = [[0 for i in range(k)] for j in range(k)]\n",
    "for i in range(k): \n",
    "    for j in range(k): \n",
    "        sum1 = 0\n",
    "        for l in range(rk): \n",
    "            sum1 += R(matrixList[l][i][j])*B[l]\n",
    "        B_table[i][j] = sum1  \n",
    "        eq_table[i][j] = R(v_mult_table[i][j])  - sum1"
   ]
  },
  {
   "cell_type": "code",
   "execution_count": 170,
   "metadata": {},
   "outputs": [
    {
     "data": {
      "text/plain": [
       "Multivariate Polynomial Ring in g0, g1, g2, g3, g4, g5, b00, b01, b02, b03, b04, b05, b10, b11, b12, b13, b14, b15, b20, b21, b22, b23, b24, b25, b30, b31, b32, b33, b34, b35, b40, b41, b42, b43, b44, b45, b50, b51, b52, b53, b54, b55, u00, u10, u20, u01, u11, u21, u02, u12, u22 over Univariate Quotient Polynomial Ring in a over Finite Field in z of size 7^3 with modulus a^2 + (z^2 + 3*z + 6)*a + 2*z^2 + 3*z + 2"
      ]
     },
     "execution_count": 170,
     "metadata": {},
     "output_type": "execute_result"
    }
   ],
   "source": [
    "(convertToLong(F_r2(list(eq_table[0][0])[0][0]))*F_r2basis.inverse()*g0).parent()"
   ]
  },
  {
   "cell_type": "code",
   "execution_count": 179,
   "metadata": {},
   "outputs": [],
   "source": [
    "vectorized_eq_table = [[0 for i in range(k)] for j in range(k)]\n",
    "for i in range(k): \n",
    "    for j in range(k): \n",
    "        if i > j: \n",
    "            continue\n",
    "        else: \n",
    "            eqvec = list(eq_table[i][j])\n",
    "            sumvec = vector([0 for l in range(rk)])\n",
    "            for term in eqvec: \n",
    "                coeff = term[0]\n",
    "                monomial = term[1]\n",
    "                coeff = convertToLong(F_r2(coeff))\n",
    "                rep = coeff*F_r2basis.inverse()\n",
    "                sumvec += rep*monomial\n",
    "        vectorized_eq_table[i][j] = sumvec"
   ]
  },
  {
   "cell_type": "code",
   "execution_count": 192,
   "metadata": {},
   "outputs": [
    {
     "data": {
      "text/plain": [
       "[(4, g0^2*u00*u01),\n",
       " (1, g0*g1*u00*u01),\n",
       " (3, g1^2*u00*u01),\n",
       " (6, g1*g2*u00*u01),\n",
       " (6, g0*g3*u00*u01),\n",
       " (1, g1*g3*u00*u01),\n",
       " (1, g2*g3*u00*u01),\n",
       " (4, g3^2*u00*u01),\n",
       " (2, g0*g4*u00*u01),\n",
       " (3, g1*g4*u00*u01),\n",
       " (5, g2*g4*u00*u01),\n",
       " (6, g3*g4*u00*u01),\n",
       " (2, g0*g5*u00*u01),\n",
       " (3, g1*g5*u00*u01),\n",
       " (5, g2*g5*u00*u01),\n",
       " (5, g3*g5*u00*u01),\n",
       " (1, g4*g5*u00*u01),\n",
       " (1, g5^2*u00*u01),\n",
       " (3, g0^2*u10*u01),\n",
       " (3, g1^2*u10*u01),\n",
       " (3, g2^2*u10*u01),\n",
       " (1, g1*g3*u10*u01),\n",
       " (5, g3^2*u10*u01),\n",
       " (5, g1*g4*u10*u01),\n",
       " (5, g2*g4*u10*u01),\n",
       " (5, g3*g4*u10*u01),\n",
       " (1, g4^2*u10*u01),\n",
       " (5, g1*g5*u10*u01),\n",
       " (5, g2*g5*u10*u01),\n",
       " (1, g3*g5*u10*u01),\n",
       " (4, g4*g5*u10*u01),\n",
       " (1, g0^2*u20*u01),\n",
       " (1, g0*g1*u20*u01),\n",
       " (4, g1^2*u20*u01),\n",
       " (6, g0*g2*u20*u01),\n",
       " (6, g0*g3*u20*u01),\n",
       " (6, g1*g3*u20*u01),\n",
       " (4, g3^2*u20*u01),\n",
       " (2, g1*g4*u20*u01),\n",
       " (2, g3*g4*u20*u01),\n",
       " (1, g4^2*u20*u01),\n",
       " (2, g1*g5*u20*u01),\n",
       " (1, g3*g5*u20*u01),\n",
       " (5, g4*g5*u20*u01),\n",
       " (3, g5^2*u20*u01),\n",
       " (3, g0^2*u00*u11),\n",
       " (3, g1^2*u00*u11),\n",
       " (3, g2^2*u00*u11),\n",
       " (1, g1*g3*u00*u11),\n",
       " (5, g3^2*u00*u11),\n",
       " (5, g1*g4*u00*u11),\n",
       " (5, g2*g4*u00*u11),\n",
       " (5, g3*g4*u00*u11),\n",
       " (1, g4^2*u00*u11),\n",
       " (5, g1*g5*u00*u11),\n",
       " (5, g2*g5*u00*u11),\n",
       " (1, g3*g5*u00*u11),\n",
       " (4, g4*g5*u00*u11),\n",
       " (4, g0^2*u10*u11),\n",
       " (1, g0*g2*u10*u11),\n",
       " (6, g1*g2*u10*u11),\n",
       " (1, g2^2*u10*u11),\n",
       " (1, g2*g3*u10*u11),\n",
       " (4, g3^2*u10*u11),\n",
       " (2, g0*g4*u10*u11),\n",
       " (5, g1*g4*u10*u11),\n",
       " (2, g2*g4*u10*u11),\n",
       " (1, g3*g4*u10*u11),\n",
       " (4, g4^2*u10*u11),\n",
       " (2, g0*g5*u10*u11),\n",
       " (5, g1*g5*u10*u11),\n",
       " (2, g2*g5*u10*u11),\n",
       " (2, g3*g5*u10*u11),\n",
       " (2, g4*g5*u10*u11),\n",
       " (5, g5^2*u10*u11),\n",
       " (3, g0^2*u20*u11),\n",
       " (6, g0*g1*u20*u11),\n",
       " (1, g0*g2*u20*u11),\n",
       " (4, g2^2*u20*u11),\n",
       " (1, g0*g3*u20*u11),\n",
       " (5, g3^2*u20*u11),\n",
       " (2, g2*g4*u20*u11),\n",
       " (5, g4^2*u20*u11),\n",
       " (2, g2*g5*u20*u11),\n",
       " (5, g3*g5*u20*u11),\n",
       " (5, g4*g5*u20*u11),\n",
       " (4, g5^2*u20*u11),\n",
       " (1, g0^2*u00*u21),\n",
       " (1, g0*g1*u00*u21),\n",
       " (4, g1^2*u00*u21),\n",
       " (6, g0*g2*u00*u21),\n",
       " (6, g0*g3*u00*u21),\n",
       " (6, g1*g3*u00*u21),\n",
       " (4, g3^2*u00*u21),\n",
       " (2, g1*g4*u00*u21),\n",
       " (2, g3*g4*u00*u21),\n",
       " (1, g4^2*u00*u21),\n",
       " (2, g1*g5*u00*u21),\n",
       " (1, g3*g5*u00*u21),\n",
       " (5, g4*g5*u00*u21),\n",
       " (3, g5^2*u00*u21),\n",
       " (3, g0^2*u10*u21),\n",
       " (6, g0*g1*u10*u21),\n",
       " (1, g0*g2*u10*u21),\n",
       " (4, g2^2*u10*u21),\n",
       " (1, g0*g3*u10*u21),\n",
       " (5, g3^2*u10*u21),\n",
       " (2, g2*g4*u10*u21),\n",
       " (5, g4^2*u10*u21),\n",
       " (2, g2*g5*u10*u21),\n",
       " (5, g3*g5*u10*u21),\n",
       " (5, g4*g5*u10*u21),\n",
       " (4, g5^2*u10*u21),\n",
       " (2, g0^2*u20*u21),\n",
       " (2, g0*g1*u20*u21),\n",
       " (4, g1^2*u20*u21),\n",
       " (6, g0*g2*u20*u21),\n",
       " (6, g1*g2*u20*u21),\n",
       " (4, g2^2*u20*u21),\n",
       " (5, g0*g3*u20*u21),\n",
       " (6, g1*g3*u20*u21),\n",
       " (1, g2*g3*u20*u21),\n",
       " (3, g3^2*u20*u21),\n",
       " (2, g0*g4*u20*u21),\n",
       " (3, g3*g4*u20*u21),\n",
       " (2, g0*g5*u20*u21),\n",
       " (5, g3*g5*u20*u21),\n",
       " (2, g4*g5*u20*u21),\n",
       " (4, g5^2*u20*u21),\n",
       " (1, g0*u00*u01),\n",
       " (1, g1*u00*u01),\n",
       " (3, g2*u00*u01),\n",
       " (6, g3*u00*u01),\n",
       " (1, g4*u00*u01),\n",
       " (1, g5*u00*u01),\n",
       " (2, g0*u10*u01),\n",
       " (3, g1*u10*u01),\n",
       " (2, g2*u10*u01),\n",
       " (4, g3*u10*u01),\n",
       " (3, g4*u10*u01),\n",
       " (3, g5*u10*u01),\n",
       " (1, g0*u20*u01),\n",
       " (2, g1*u20*u01),\n",
       " (3, g2*u20*u01),\n",
       " (5, g3*u20*u01),\n",
       " (3, g4*u20*u01),\n",
       " (3, g5*u20*u01),\n",
       " (2, g0*u00*u11),\n",
       " (3, g1*u00*u11),\n",
       " (2, g2*u00*u11),\n",
       " (4, g3*u00*u11),\n",
       " (3, g4*u00*u11),\n",
       " (3, g5*u00*u11),\n",
       " (3, g0*u10*u11),\n",
       " (3, g1*u10*u11),\n",
       " (3, g2*u10*u11),\n",
       " (4, g3*u10*u11),\n",
       " (5, g4*u10*u11),\n",
       " (5, g5*u10*u11),\n",
       " (1, g0*u20*u11),\n",
       " (2, g1*u20*u11),\n",
       " (2, g2*u20*u11),\n",
       " (5, g3*u20*u11),\n",
       " (1, g4*u20*u11),\n",
       " (1, g5*u20*u11),\n",
       " (1, g0*u00*u21),\n",
       " (2, g1*u00*u21),\n",
       " (3, g2*u00*u21),\n",
       " (5, g3*u00*u21),\n",
       " (3, g4*u00*u21),\n",
       " (3, g5*u00*u21),\n",
       " (1, g0*u10*u21),\n",
       " (2, g1*u10*u21),\n",
       " (2, g2*u10*u21),\n",
       " (5, g3*u10*u21),\n",
       " (1, g4*u10*u21),\n",
       " (1, g5*u10*u21),\n",
       " (3, g0*u20*u21),\n",
       " (3, g1*u20*u21),\n",
       " (1, g2*u20*u21),\n",
       " (4, g3*u20*u21),\n",
       " (1, g4*u20*u21),\n",
       " (1, g5*u20*u21),\n",
       " (6, u00*u01),\n",
       " (3, u10*u01),\n",
       " (3, u00*u11),\n",
       " (4, u20*u11),\n",
       " (4, u10*u21),\n",
       " (3, u20*u21),\n",
       " (5, b02),\n",
       " (5, b03),\n",
       " (4, b04),\n",
       " (6, b12),\n",
       " (6, b13),\n",
       " (2, b14),\n",
       " (1, b22),\n",
       " (1, b23),\n",
       " (5, b24),\n",
       " (6, b32),\n",
       " (6, b33),\n",
       " (2, b34),\n",
       " (4, b42),\n",
       " (4, b43),\n",
       " (6, b44),\n",
       " (4, b52),\n",
       " (4, b53),\n",
       " (6, b54)]"
      ]
     },
     "execution_count": 192,
     "metadata": {},
     "output_type": "execute_result"
    }
   ],
   "source": [
    "list(vectorized_eq_table[0][1][0])"
   ]
  },
  {
   "cell_type": "code",
   "execution_count": null,
   "metadata": {},
   "outputs": [],
   "source": []
  },
  {
   "cell_type": "code",
   "execution_count": 149,
   "metadata": {},
   "outputs": [],
   "source": [
    "##Algebraic attack implementation is also here\n",
    "def algebraicAttack(q,k,a,b):\n",
    "    basefield = GF(q)\n",
    "    rk = 2*k\n",
    "    y, F, F_r, d, c = ConstructSidon2k(q, k)\n",
    "    ##Construct the attacker's F_r\n",
    "    y2, F2, F_r2, d2, c2 = ConstructSidon2k(q, k)\n",
    "    matrixList, sidonbasis, mult_table, F_r_basis , origbasis = publicKey(y,q,F,F_r)\n",
    "    rhs = [a.row()*i*b.column() for i in matrixList]\n",
    "    R_ = PolynomialRing(GF(q), ['x' + str(i) for i in range(2*k)] + ['xn'], order = \"lex\")\n",
    "    indeterminates = R_.gens()[:-1]\n",
    "    xn = R_.gens()[-1]\n",
    "    R_.inject_variables()\n",
    "    a1 = vector(indeterminates[0:k])\n",
    "    b1 = vector(indeterminates[k:])\n",
    "    system = [a1.row()*i*b1.column() for i in matrixList]\n",
    "    system = [system[i][0][0] - rhs[i][0][0]*xn^2 for i in range(len(system))]\n",
    "    I = ideal(system)\n",
    "    gb = I.groebner_basis()\n",
    "    I = ideal(gb)\n",
    "    I  = I.subs(x0 = 1)\n",
    "    I = I.subs(xn= 1)\n",
    "    R_  = R_.remove_var(xn)\n",
    "    R_  = R_.remove_var(x0)\n",
    "    gens = [R_(i) for i in I.gens()]\n",
    "    I = ideal(gens)\n",
    "    I = I.groebner_basis()\n",
    "    I = I.ideal()\n",
    "    return I.variety(), matrixList"
   ]
  },
  {
   "cell_type": "code",
   "execution_count": 156,
   "metadata": {},
   "outputs": [
    {
     "name": "stdout",
     "output_type": "stream",
     "text": [
      "[4 5 1 4 6 5 1 1]\n",
      "[3 4 3 2 5 3 0 2]\n",
      "[2 6 3 5 1 4 6 1]\n",
      "[1 0 0 6 4 1 6 0]\n",
      "[3 1 3 6 4 1 0 5]\n",
      "[2 0 1 6 2 1 6 0]\n",
      "[3 0 6 4 0 4 3 6]\n",
      "[4 0 1 1 2 3 1 4]\n",
      "Defining x0, x1, x2, x3, x4, x5, x6, x7, xn\n"
     ]
    }
   ],
   "source": [
    "q = 7\n",
    "k = 4\n",
    "a = vector([5,1,2,1])\n",
    "b = vector([1,2,1,4])\n",
    "c, d = algebraicAttack(q,k,a,b)"
   ]
  },
  {
   "cell_type": "code",
   "execution_count": 52,
   "metadata": {},
   "outputs": [],
   "source": [
    "a1 = vector(indeterminates[0:k])\n",
    "b1 = vector(indeterminates[k:])\n",
    "system = [a1.row()*i*b1.column() for i in matrixList]"
   ]
  },
  {
   "cell_type": "code",
   "execution_count": 151,
   "metadata": {},
   "outputs": [
    {
     "data": {
      "text/plain": [
       "[{x5: 5, x4: 3, x3: 5, x2: 6, x1: 3}, {x5: 2, x4: 1, x3: 5, x2: 1, x1: 2}]"
      ]
     },
     "execution_count": 151,
     "metadata": {},
     "output_type": "execute_result"
    }
   ],
   "source": [
    "c"
   ]
  },
  {
   "cell_type": "code",
   "execution_count": 153,
   "metadata": {},
   "outputs": [
    {
     "name": "stdout",
     "output_type": "stream",
     "text": [
      "[[6], [4], [4], [6], [3], [3]]\n",
      "[[6], [4], [4], [6], [3], [3]]\n"
     ]
    }
   ],
   "source": []
  },
  {
   "cell_type": "code",
   "execution_count": 67,
   "metadata": {},
   "outputs": [
    {
     "data": {
      "text/plain": [
       "True"
      ]
     },
     "execution_count": 67,
     "metadata": {},
     "output_type": "execute_result"
    }
   ],
   "source": [
    "R_.is_commutative()"
   ]
  },
  {
   "cell_type": "code",
   "execution_count": 55,
   "metadata": {},
   "outputs": [],
   "source": []
  },
  {
   "cell_type": "code",
   "execution_count": 59,
   "metadata": {},
   "outputs": [
    {
     "ename": "TypeError",
     "evalue": "x must have length self.ngens()",
     "output_type": "error",
     "traceback": [
      "\u001b[0;31m---------------------------------------------------------------------------\u001b[0m",
      "\u001b[0;31mTypeError\u001b[0m                                 Traceback (most recent call last)",
      "\u001b[0;32m<ipython-input-59-419a4ffa9642>\u001b[0m in \u001b[0;36m<module>\u001b[0;34m()\u001b[0m\n\u001b[0;32m----> 1\u001b[0;31m \u001b[0msystem\u001b[0m\u001b[0;34m[\u001b[0m\u001b[0mInteger\u001b[0m\u001b[0;34m(\u001b[0m\u001b[0;36m0\u001b[0m\u001b[0;34m)\u001b[0m\u001b[0;34m]\u001b[0m\u001b[0;34m[\u001b[0m\u001b[0mInteger\u001b[0m\u001b[0;34m(\u001b[0m\u001b[0;36m0\u001b[0m\u001b[0;34m)\u001b[0m\u001b[0;34m]\u001b[0m\u001b[0;34m[\u001b[0m\u001b[0mInteger\u001b[0m\u001b[0;34m(\u001b[0m\u001b[0;36m0\u001b[0m\u001b[0;34m)\u001b[0m\u001b[0;34m]\u001b[0m\u001b[0;34m.\u001b[0m\u001b[0mparent\u001b[0m\u001b[0;34m(\u001b[0m\u001b[0;34m)\u001b[0m\u001b[0;34m\u001b[0m\u001b[0;34m\u001b[0m\u001b[0m\n\u001b[0m",
      "\u001b[0;32m/opt/sagemath-9.0/local/lib/python3.7/site-packages/sage/rings/polynomial/multi_polynomial_libsingular.pyx\u001b[0m in \u001b[0;36msage.rings.polynomial.multi_polynomial_libsingular.MPolynomial_libsingular.__getitem__ (build/cythonized/sage/rings/polynomial/multi_polynomial_libsingular.cpp:27123)\u001b[0;34m()\u001b[0m\n\u001b[1;32m   3118\u001b[0m \u001b[0;34m\u001b[0m\u001b[0m\n\u001b[1;32m   3119\u001b[0m         \u001b[0;32mif\u001b[0m \u001b[0mlen\u001b[0m\u001b[0;34m(\u001b[0m\u001b[0mx\u001b[0m\u001b[0;34m)\u001b[0m \u001b[0;34m!=\u001b[0m \u001b[0mself\u001b[0m\u001b[0;34m.\u001b[0m\u001b[0m_parent\u001b[0m\u001b[0;34m.\u001b[0m\u001b[0mngens\u001b[0m\u001b[0;34m(\u001b[0m\u001b[0;34m)\u001b[0m\u001b[0;34m:\u001b[0m\u001b[0;34m\u001b[0m\u001b[0;34m\u001b[0m\u001b[0m\n\u001b[0;32m-> 3120\u001b[0;31m             \u001b[0;32mraise\u001b[0m \u001b[0mTypeError\u001b[0m\u001b[0;34m(\u001b[0m\u001b[0;34m\"x must have length self.ngens()\"\u001b[0m\u001b[0;34m)\u001b[0m\u001b[0;34m\u001b[0m\u001b[0;34m\u001b[0m\u001b[0m\n\u001b[0m\u001b[1;32m   3121\u001b[0m \u001b[0;34m\u001b[0m\u001b[0m\n\u001b[1;32m   3122\u001b[0m         \u001b[0mm\u001b[0m \u001b[0;34m=\u001b[0m \u001b[0mp_ISet\u001b[0m\u001b[0;34m(\u001b[0m\u001b[0;36m1\u001b[0m\u001b[0;34m,\u001b[0m\u001b[0mr\u001b[0m\u001b[0;34m)\u001b[0m\u001b[0;34m\u001b[0m\u001b[0;34m\u001b[0m\u001b[0m\n",
      "\u001b[0;31mTypeError\u001b[0m: x must have length self.ngens()"
     ]
    }
   ],
   "source": [
    "system[0][0][0].parent()"
   ]
  },
  {
   "cell_type": "code",
   "execution_count": 119,
   "metadata": {},
   "outputs": [
    {
     "data": {
      "text/plain": [
       "x"
      ]
     },
     "execution_count": 119,
     "metadata": {},
     "output_type": "execute_result"
    }
   ],
   "source": []
  },
  {
   "cell_type": "code",
   "execution_count": 114,
   "metadata": {},
   "outputs": [
    {
     "ename": "KeyError",
     "evalue": "'xn'",
     "output_type": "error",
     "traceback": [
      "\u001b[0;31m---------------------------------------------------------------------------\u001b[0m",
      "\u001b[0;31mKeyError\u001b[0m                                  Traceback (most recent call last)",
      "\u001b[0;32m<ipython-input-114-0758ee9bf1e2>\u001b[0m in \u001b[0;36m<module>\u001b[0;34m()\u001b[0m\n\u001b[0;32m----> 1\u001b[0;31m \u001b[0mI\u001b[0m  \u001b[0;34m=\u001b[0m \u001b[0mI\u001b[0m\u001b[0;34m.\u001b[0m\u001b[0msubs\u001b[0m\u001b[0;34m(\u001b[0m\u001b[0mxn\u001b[0m\u001b[0;34m=\u001b[0m \u001b[0mInteger\u001b[0m\u001b[0;34m(\u001b[0m\u001b[0;36m1\u001b[0m\u001b[0;34m)\u001b[0m\u001b[0;34m,\u001b[0m \u001b[0mx0\u001b[0m \u001b[0;34m=\u001b[0m \u001b[0mInteger\u001b[0m\u001b[0;34m(\u001b[0m\u001b[0;36m1\u001b[0m\u001b[0;34m)\u001b[0m\u001b[0;34m)\u001b[0m\u001b[0;34m\u001b[0m\u001b[0;34m\u001b[0m\u001b[0m\n\u001b[0m",
      "\u001b[0;32m/opt/sagemath-9.0/local/lib/python3.7/site-packages/sage/rings/polynomial/multi_polynomial_ideal.py\u001b[0m in \u001b[0;36msubs\u001b[0;34m(self, in_dict, **kwds)\u001b[0m\n\u001b[1;32m   4367\u001b[0m         \"\"\"\n\u001b[1;32m   4368\u001b[0m         \u001b[0mring\u001b[0m \u001b[0;34m=\u001b[0m \u001b[0mself\u001b[0m\u001b[0;34m.\u001b[0m\u001b[0mring\u001b[0m\u001b[0;34m(\u001b[0m\u001b[0;34m)\u001b[0m\u001b[0;34m\u001b[0m\u001b[0;34m\u001b[0m\u001b[0m\n\u001b[0;32m-> 4369\u001b[0;31m         \u001b[0mgenerators\u001b[0m \u001b[0;34m=\u001b[0m \u001b[0;34m[\u001b[0m\u001b[0mf\u001b[0m\u001b[0;34m.\u001b[0m\u001b[0msubs\u001b[0m\u001b[0;34m(\u001b[0m\u001b[0min_dict\u001b[0m\u001b[0;34m,\u001b[0m \u001b[0;34m**\u001b[0m\u001b[0mkwds\u001b[0m\u001b[0;34m)\u001b[0m \u001b[0;32mfor\u001b[0m \u001b[0mf\u001b[0m \u001b[0;32min\u001b[0m \u001b[0mself\u001b[0m\u001b[0;34m.\u001b[0m\u001b[0mgens\u001b[0m\u001b[0;34m(\u001b[0m\u001b[0;34m)\u001b[0m\u001b[0;34m]\u001b[0m\u001b[0;34m\u001b[0m\u001b[0;34m\u001b[0m\u001b[0m\n\u001b[0m\u001b[1;32m   4370\u001b[0m         \u001b[0;32mif\u001b[0m \u001b[0;32mnot\u001b[0m \u001b[0mall\u001b[0m\u001b[0;34m(\u001b[0m\u001b[0mgen\u001b[0m \u001b[0;32min\u001b[0m \u001b[0mring\u001b[0m \u001b[0;32mfor\u001b[0m \u001b[0mgen\u001b[0m \u001b[0;32min\u001b[0m \u001b[0mgenerators\u001b[0m\u001b[0;34m)\u001b[0m\u001b[0;34m:\u001b[0m\u001b[0;34m\u001b[0m\u001b[0;34m\u001b[0m\u001b[0m\n\u001b[1;32m   4371\u001b[0m             \u001b[0mring\u001b[0m \u001b[0;34m=\u001b[0m \u001b[0mSequence\u001b[0m\u001b[0;34m(\u001b[0m\u001b[0mgenerators\u001b[0m\u001b[0;34m)\u001b[0m\u001b[0;34m.\u001b[0m\u001b[0muniverse\u001b[0m\u001b[0;34m(\u001b[0m\u001b[0;34m)\u001b[0m\u001b[0;34m\u001b[0m\u001b[0;34m\u001b[0m\u001b[0m\n",
      "\u001b[0;32m/opt/sagemath-9.0/local/lib/python3.7/site-packages/sage/rings/polynomial/multi_polynomial_ideal.py\u001b[0m in \u001b[0;36m<listcomp>\u001b[0;34m(.0)\u001b[0m\n\u001b[1;32m   4367\u001b[0m         \"\"\"\n\u001b[1;32m   4368\u001b[0m         \u001b[0mring\u001b[0m \u001b[0;34m=\u001b[0m \u001b[0mself\u001b[0m\u001b[0;34m.\u001b[0m\u001b[0mring\u001b[0m\u001b[0;34m(\u001b[0m\u001b[0;34m)\u001b[0m\u001b[0;34m\u001b[0m\u001b[0;34m\u001b[0m\u001b[0m\n\u001b[0;32m-> 4369\u001b[0;31m         \u001b[0mgenerators\u001b[0m \u001b[0;34m=\u001b[0m \u001b[0;34m[\u001b[0m\u001b[0mf\u001b[0m\u001b[0;34m.\u001b[0m\u001b[0msubs\u001b[0m\u001b[0;34m(\u001b[0m\u001b[0min_dict\u001b[0m\u001b[0;34m,\u001b[0m \u001b[0;34m**\u001b[0m\u001b[0mkwds\u001b[0m\u001b[0;34m)\u001b[0m \u001b[0;32mfor\u001b[0m \u001b[0mf\u001b[0m \u001b[0;32min\u001b[0m \u001b[0mself\u001b[0m\u001b[0;34m.\u001b[0m\u001b[0mgens\u001b[0m\u001b[0;34m(\u001b[0m\u001b[0;34m)\u001b[0m\u001b[0;34m]\u001b[0m\u001b[0;34m\u001b[0m\u001b[0;34m\u001b[0m\u001b[0m\n\u001b[0m\u001b[1;32m   4370\u001b[0m         \u001b[0;32mif\u001b[0m \u001b[0;32mnot\u001b[0m \u001b[0mall\u001b[0m\u001b[0;34m(\u001b[0m\u001b[0mgen\u001b[0m \u001b[0;32min\u001b[0m \u001b[0mring\u001b[0m \u001b[0;32mfor\u001b[0m \u001b[0mgen\u001b[0m \u001b[0;32min\u001b[0m \u001b[0mgenerators\u001b[0m\u001b[0;34m)\u001b[0m\u001b[0;34m:\u001b[0m\u001b[0;34m\u001b[0m\u001b[0;34m\u001b[0m\u001b[0m\n\u001b[1;32m   4371\u001b[0m             \u001b[0mring\u001b[0m \u001b[0;34m=\u001b[0m \u001b[0mSequence\u001b[0m\u001b[0;34m(\u001b[0m\u001b[0mgenerators\u001b[0m\u001b[0;34m)\u001b[0m\u001b[0;34m.\u001b[0m\u001b[0muniverse\u001b[0m\u001b[0;34m(\u001b[0m\u001b[0;34m)\u001b[0m\u001b[0;34m\u001b[0m\u001b[0;34m\u001b[0m\u001b[0m\n",
      "\u001b[0;32m/opt/sagemath-9.0/local/lib/python3.7/site-packages/sage/rings/polynomial/multi_polynomial_libsingular.pyx\u001b[0m in \u001b[0;36msage.rings.polynomial.multi_polynomial_libsingular.MPolynomial_libsingular.subs (build/cythonized/sage/rings/polynomial/multi_polynomial_libsingular.cpp:29147)\u001b[0;34m()\u001b[0m\n\u001b[1;32m   3485\u001b[0m             \u001b[0mgd\u001b[0m \u001b[0;34m=\u001b[0m \u001b[0mparent\u001b[0m\u001b[0;34m.\u001b[0m\u001b[0mgens_dict\u001b[0m\u001b[0;34m(\u001b[0m\u001b[0mcopy\u001b[0m\u001b[0;34m=\u001b[0m\u001b[0;32mFalse\u001b[0m\u001b[0;34m)\u001b[0m\u001b[0;34m\u001b[0m\u001b[0;34m\u001b[0m\u001b[0m\n\u001b[1;32m   3486\u001b[0m             \u001b[0;32mfor\u001b[0m \u001b[0mm\u001b[0m\u001b[0;34m,\u001b[0m\u001b[0mv\u001b[0m \u001b[0;32min\u001b[0m \u001b[0mkw\u001b[0m\u001b[0;34m.\u001b[0m\u001b[0miteritems\u001b[0m\u001b[0;34m(\u001b[0m\u001b[0;34m)\u001b[0m\u001b[0;34m:\u001b[0m\u001b[0;34m\u001b[0m\u001b[0;34m\u001b[0m\u001b[0m\n\u001b[0;32m-> 3487\u001b[0;31m                 \u001b[0mm\u001b[0m \u001b[0;34m=\u001b[0m \u001b[0mgd\u001b[0m\u001b[0;34m[\u001b[0m\u001b[0mm\u001b[0m\u001b[0;34m]\u001b[0m\u001b[0;34m\u001b[0m\u001b[0;34m\u001b[0m\u001b[0m\n\u001b[0m\u001b[1;32m   3488\u001b[0m                 \u001b[0;32mfor\u001b[0m \u001b[0mi\u001b[0m \u001b[0;32mfrom\u001b[0m \u001b[0;36m0\u001b[0m \u001b[0;34m<\u001b[0m \u001b[0mi\u001b[0m \u001b[0;34m<=\u001b[0m \u001b[0m_ring\u001b[0m\u001b[0;34m.\u001b[0m\u001b[0mN\u001b[0m\u001b[0;34m:\u001b[0m\u001b[0;34m\u001b[0m\u001b[0;34m\u001b[0m\u001b[0m\n\u001b[1;32m   3489\u001b[0m                     \u001b[0;32mif\u001b[0m \u001b[0mp_GetExp\u001b[0m\u001b[0;34m(\u001b[0m\u001b[0;34m(\u001b[0m\u001b[0;34m<\u001b[0m\u001b[0mMPolynomial_libsingular\u001b[0m\u001b[0;34m>\u001b[0m\u001b[0mm\u001b[0m\u001b[0;34m)\u001b[0m\u001b[0;34m.\u001b[0m\u001b[0m_poly\u001b[0m\u001b[0;34m,\u001b[0m \u001b[0mi\u001b[0m\u001b[0;34m,\u001b[0m \u001b[0m_ring\u001b[0m\u001b[0;34m)\u001b[0m \u001b[0;34m!=\u001b[0m \u001b[0;36m0\u001b[0m\u001b[0;34m:\u001b[0m\u001b[0;34m\u001b[0m\u001b[0;34m\u001b[0m\u001b[0m\n",
      "\u001b[0;31mKeyError\u001b[0m: 'xn'"
     ]
    }
   ],
   "source": [
    "I  = I.subs(xn= 1, x0 = 1)"
   ]
  },
  {
   "cell_type": "code",
   "execution_count": 58,
   "metadata": {},
   "outputs": [
    {
     "data": {
      "text/plain": [
       "2"
      ]
     },
     "execution_count": 58,
     "metadata": {},
     "output_type": "execute_result"
    }
   ],
   "source": [
    "I.dimension()"
   ]
  },
  {
   "cell_type": "code",
   "execution_count": 59,
   "metadata": {},
   "outputs": [],
   "source": [
    "I = I.groebner_basis()"
   ]
  },
  {
   "cell_type": "code",
   "execution_count": 60,
   "metadata": {},
   "outputs": [],
   "source": [
    "I = ideal(I)"
   ]
  },
  {
   "cell_type": "code",
   "execution_count": 85,
   "metadata": {},
   "outputs": [],
   "source": [
    "v = I.subs(x0 = 5, x1 = 1, x2 = 2)\n",
    "v = v.subs(x3 = 2,x4  = 1, x5 = 1)"
   ]
  },
  {
   "cell_type": "code",
   "execution_count": 87,
   "metadata": {},
   "outputs": [
    {
     "ename": "ValueError",
     "evalue": "The dimension of the ideal is 7, but it should be 0",
     "output_type": "error",
     "traceback": [
      "\u001b[0;31m---------------------------------------------------------------------------\u001b[0m",
      "\u001b[0;31mValueError\u001b[0m                                Traceback (most recent call last)",
      "\u001b[0;32m<ipython-input-87-44262a205491>\u001b[0m in \u001b[0;36m<module>\u001b[0;34m()\u001b[0m\n\u001b[0;32m----> 1\u001b[0;31m \u001b[0mv\u001b[0m\u001b[0;34m.\u001b[0m\u001b[0mvariety\u001b[0m\u001b[0;34m(\u001b[0m\u001b[0;34m)\u001b[0m\u001b[0;34m\u001b[0m\u001b[0;34m\u001b[0m\u001b[0m\n\u001b[0m",
      "\u001b[0;32m/opt/sagemath-9.0/local/lib/python3.7/site-packages/sage/rings/polynomial/multi_polynomial_ideal.py\u001b[0m in \u001b[0;36m__call__\u001b[0;34m(self, *args, **kwds)\u001b[0m\n\u001b[1;32m    297\u001b[0m         \u001b[0;32mif\u001b[0m \u001b[0;32mnot\u001b[0m \u001b[0mR\u001b[0m\u001b[0;34m.\u001b[0m\u001b[0mbase_ring\u001b[0m\u001b[0;34m(\u001b[0m\u001b[0;34m)\u001b[0m\u001b[0;34m.\u001b[0m\u001b[0mis_field\u001b[0m\u001b[0;34m(\u001b[0m\u001b[0;34m)\u001b[0m\u001b[0;34m:\u001b[0m\u001b[0;34m\u001b[0m\u001b[0;34m\u001b[0m\u001b[0m\n\u001b[1;32m    298\u001b[0m             \u001b[0;32mraise\u001b[0m \u001b[0mValueError\u001b[0m\u001b[0;34m(\u001b[0m\u001b[0;34m\"Coefficient ring must be a field for function '%s'.\"\u001b[0m\u001b[0;34m%\u001b[0m\u001b[0;34m(\u001b[0m\u001b[0mself\u001b[0m\u001b[0;34m.\u001b[0m\u001b[0mf\u001b[0m\u001b[0;34m.\u001b[0m\u001b[0m__name__\u001b[0m\u001b[0;34m)\u001b[0m\u001b[0;34m)\u001b[0m\u001b[0;34m\u001b[0m\u001b[0;34m\u001b[0m\u001b[0m\n\u001b[0;32m--> 299\u001b[0;31m         \u001b[0;32mreturn\u001b[0m \u001b[0mself\u001b[0m\u001b[0;34m.\u001b[0m\u001b[0mf\u001b[0m\u001b[0;34m(\u001b[0m\u001b[0mself\u001b[0m\u001b[0;34m.\u001b[0m\u001b[0m_instance\u001b[0m\u001b[0;34m,\u001b[0m \u001b[0;34m*\u001b[0m\u001b[0margs\u001b[0m\u001b[0;34m,\u001b[0m \u001b[0;34m**\u001b[0m\u001b[0mkwds\u001b[0m\u001b[0;34m)\u001b[0m\u001b[0;34m\u001b[0m\u001b[0;34m\u001b[0m\u001b[0m\n\u001b[0m\u001b[1;32m    300\u001b[0m \u001b[0;34m\u001b[0m\u001b[0m\n\u001b[1;32m    301\u001b[0m \u001b[0mrequire_field\u001b[0m \u001b[0;34m=\u001b[0m \u001b[0mRequireField\u001b[0m\u001b[0;34m\u001b[0m\u001b[0;34m\u001b[0m\u001b[0m\n",
      "\u001b[0;32m/opt/sagemath-9.0/local/lib/python3.7/site-packages/sage/rings/polynomial/multi_polynomial_ideal.py\u001b[0m in \u001b[0;36mvariety\u001b[0;34m(self, ring)\u001b[0m\n\u001b[1;32m   2542\u001b[0m         \u001b[0md\u001b[0m \u001b[0;34m=\u001b[0m \u001b[0mself\u001b[0m\u001b[0;34m.\u001b[0m\u001b[0mdimension\u001b[0m\u001b[0;34m(\u001b[0m\u001b[0;34m)\u001b[0m\u001b[0;34m\u001b[0m\u001b[0;34m\u001b[0m\u001b[0m\n\u001b[1;32m   2543\u001b[0m         \u001b[0;32mif\u001b[0m \u001b[0md\u001b[0m \u001b[0;34m>\u001b[0m \u001b[0;36m0\u001b[0m\u001b[0;34m:\u001b[0m\u001b[0;34m\u001b[0m\u001b[0;34m\u001b[0m\u001b[0m\n\u001b[0;32m-> 2544\u001b[0;31m             \u001b[0;32mraise\u001b[0m \u001b[0mValueError\u001b[0m\u001b[0;34m(\u001b[0m\u001b[0;34m\"The dimension of the ideal is %s, but it should be 0\"\u001b[0m\u001b[0;34m%\u001b[0m\u001b[0md\u001b[0m\u001b[0;34m)\u001b[0m\u001b[0;34m\u001b[0m\u001b[0;34m\u001b[0m\u001b[0m\n\u001b[0m\u001b[1;32m   2545\u001b[0m         \u001b[0;32mif\u001b[0m \u001b[0md\u001b[0m \u001b[0;34m==\u001b[0m \u001b[0;34m-\u001b[0m\u001b[0;36m1\u001b[0m\u001b[0;34m:\u001b[0m\u001b[0;34m\u001b[0m\u001b[0;34m\u001b[0m\u001b[0m\n\u001b[1;32m   2546\u001b[0m             \u001b[0;32mreturn\u001b[0m \u001b[0;34m[\u001b[0m\u001b[0;34m]\u001b[0m\u001b[0;34m\u001b[0m\u001b[0;34m\u001b[0m\u001b[0m\n",
      "\u001b[0;31mValueError\u001b[0m: The dimension of the ideal is 7, but it should be 0"
     ]
    }
   ],
   "source": [
    "v.variety()"
   ]
  },
  {
   "cell_type": "code",
   "execution_count": 86,
   "metadata": {},
   "outputs": [
    {
     "data": {
      "text/plain": [
       "7"
      ]
     },
     "execution_count": 86,
     "metadata": {},
     "output_type": "execute_result"
    }
   ],
   "source": [
    "v.dimension()"
   ]
  },
  {
   "cell_type": "code",
   "execution_count": 64,
   "metadata": {},
   "outputs": [
    {
     "data": {
      "text/plain": [
       "2"
      ]
     },
     "execution_count": 64,
     "metadata": {},
     "output_type": "execute_result"
    }
   ],
   "source": [
    "I.dimension()"
   ]
  },
  {
   "cell_type": "code",
   "execution_count": 88,
   "metadata": {},
   "outputs": [
    {
     "data": {
      "text/plain": [
       "Ideal (0, 0, 0, 0, 0) of Multivariate Polynomial Ring in x0, x1, x2, x3, x4, x5, x6 over Finite Field of size 7"
      ]
     },
     "execution_count": 88,
     "metadata": {},
     "output_type": "execute_result"
    }
   ],
   "source": [
    "v"
   ]
  },
  {
   "cell_type": "code",
   "execution_count": 89,
   "metadata": {},
   "outputs": [
    {
     "ename": "AttributeError",
     "evalue": "'MPolynomialIdeal' object has no attribute 'remove_variable'",
     "output_type": "error",
     "traceback": [
      "\u001b[0;31m---------------------------------------------------------------------------\u001b[0m",
      "\u001b[0;31mAttributeError\u001b[0m                            Traceback (most recent call last)",
      "\u001b[0;32m<ipython-input-89-0b6e4e0b2ccd>\u001b[0m in \u001b[0;36m<module>\u001b[0;34m()\u001b[0m\n\u001b[0;32m----> 1\u001b[0;31m \u001b[0mI\u001b[0m\u001b[0;34m.\u001b[0m\u001b[0mremove_variable\u001b[0m\u001b[0;34m(\u001b[0m\u001b[0mxn\u001b[0m\u001b[0;34m)\u001b[0m\u001b[0;34m\u001b[0m\u001b[0;34m\u001b[0m\u001b[0m\n\u001b[0m",
      "\u001b[0;32m/opt/sagemath-9.0/local/lib/python3.7/site-packages/sage/structure/element.pyx\u001b[0m in \u001b[0;36msage.structure.element.Element.__getattr__ (build/cythonized/sage/structure/element.c:4609)\u001b[0;34m()\u001b[0m\n\u001b[1;32m    485\u001b[0m             \u001b[0mAttributeError\u001b[0m\u001b[0;34m:\u001b[0m \u001b[0;34m'LeftZeroSemigroup_with_category.element_class'\u001b[0m \u001b[0mobject\u001b[0m \u001b[0mhas\u001b[0m \u001b[0mno\u001b[0m \u001b[0mattribute\u001b[0m \u001b[0;34m'blah_blah'\u001b[0m\u001b[0;34m\u001b[0m\u001b[0;34m\u001b[0m\u001b[0m\n\u001b[1;32m    486\u001b[0m         \"\"\"\n\u001b[0;32m--> 487\u001b[0;31m         \u001b[0;32mreturn\u001b[0m \u001b[0mself\u001b[0m\u001b[0;34m.\u001b[0m\u001b[0mgetattr_from_category\u001b[0m\u001b[0;34m(\u001b[0m\u001b[0mname\u001b[0m\u001b[0;34m)\u001b[0m\u001b[0;34m\u001b[0m\u001b[0;34m\u001b[0m\u001b[0m\n\u001b[0m\u001b[1;32m    488\u001b[0m \u001b[0;34m\u001b[0m\u001b[0m\n\u001b[1;32m    489\u001b[0m     \u001b[0mcdef\u001b[0m \u001b[0mgetattr_from_category\u001b[0m\u001b[0;34m(\u001b[0m\u001b[0mself\u001b[0m\u001b[0;34m,\u001b[0m \u001b[0mname\u001b[0m\u001b[0;34m)\u001b[0m\u001b[0;34m:\u001b[0m\u001b[0;34m\u001b[0m\u001b[0;34m\u001b[0m\u001b[0m\n",
      "\u001b[0;32m/opt/sagemath-9.0/local/lib/python3.7/site-packages/sage/structure/element.pyx\u001b[0m in \u001b[0;36msage.structure.element.Element.getattr_from_category (build/cythonized/sage/structure/element.c:4718)\u001b[0;34m()\u001b[0m\n\u001b[1;32m    498\u001b[0m         \u001b[0;32melse\u001b[0m\u001b[0;34m:\u001b[0m\u001b[0;34m\u001b[0m\u001b[0;34m\u001b[0m\u001b[0m\n\u001b[1;32m    499\u001b[0m             \u001b[0mcls\u001b[0m \u001b[0;34m=\u001b[0m \u001b[0mP\u001b[0m\u001b[0;34m.\u001b[0m\u001b[0m_abstract_element_class\u001b[0m\u001b[0;34m\u001b[0m\u001b[0;34m\u001b[0m\u001b[0m\n\u001b[0;32m--> 500\u001b[0;31m         \u001b[0;32mreturn\u001b[0m \u001b[0mgetattr_from_other_class\u001b[0m\u001b[0;34m(\u001b[0m\u001b[0mself\u001b[0m\u001b[0;34m,\u001b[0m \u001b[0mcls\u001b[0m\u001b[0;34m,\u001b[0m \u001b[0mname\u001b[0m\u001b[0;34m)\u001b[0m\u001b[0;34m\u001b[0m\u001b[0;34m\u001b[0m\u001b[0m\n\u001b[0m\u001b[1;32m    501\u001b[0m \u001b[0;34m\u001b[0m\u001b[0m\n\u001b[1;32m    502\u001b[0m     \u001b[0;32mdef\u001b[0m \u001b[0m__dir__\u001b[0m\u001b[0;34m(\u001b[0m\u001b[0mself\u001b[0m\u001b[0;34m)\u001b[0m\u001b[0;34m:\u001b[0m\u001b[0;34m\u001b[0m\u001b[0;34m\u001b[0m\u001b[0m\n",
      "\u001b[0;32m/opt/sagemath-9.0/local/lib/python3.7/site-packages/sage/cpython/getattr.pyx\u001b[0m in \u001b[0;36msage.cpython.getattr.getattr_from_other_class (build/cythonized/sage/cpython/getattr.c:2614)\u001b[0;34m()\u001b[0m\n\u001b[1;32m    392\u001b[0m         \u001b[0mdummy_error_message\u001b[0m\u001b[0;34m.\u001b[0m\u001b[0mcls\u001b[0m \u001b[0;34m=\u001b[0m \u001b[0mtype\u001b[0m\u001b[0;34m(\u001b[0m\u001b[0mself\u001b[0m\u001b[0;34m)\u001b[0m\u001b[0;34m\u001b[0m\u001b[0;34m\u001b[0m\u001b[0m\n\u001b[1;32m    393\u001b[0m         \u001b[0mdummy_error_message\u001b[0m\u001b[0;34m.\u001b[0m\u001b[0mname\u001b[0m \u001b[0;34m=\u001b[0m \u001b[0mname\u001b[0m\u001b[0;34m\u001b[0m\u001b[0;34m\u001b[0m\u001b[0m\n\u001b[0;32m--> 394\u001b[0;31m         \u001b[0;32mraise\u001b[0m \u001b[0mAttributeError\u001b[0m\u001b[0;34m(\u001b[0m\u001b[0mdummy_error_message\u001b[0m\u001b[0;34m)\u001b[0m\u001b[0;34m\u001b[0m\u001b[0;34m\u001b[0m\u001b[0m\n\u001b[0m\u001b[1;32m    395\u001b[0m     \u001b[0mattribute\u001b[0m \u001b[0;34m=\u001b[0m \u001b[0;34m<\u001b[0m\u001b[0mobject\u001b[0m\u001b[0;34m>\u001b[0m\u001b[0mattr\u001b[0m\u001b[0;34m\u001b[0m\u001b[0;34m\u001b[0m\u001b[0m\n\u001b[1;32m    396\u001b[0m     \u001b[0;31m# Check for a descriptor (__get__ in Python)\u001b[0m\u001b[0;34m\u001b[0m\u001b[0;34m\u001b[0m\u001b[0;34m\u001b[0m\u001b[0m\n",
      "\u001b[0;31mAttributeError\u001b[0m: 'MPolynomialIdeal' object has no attribute 'remove_variable'"
     ]
    }
   ],
   "source": [
    "I.remove_variable(xn)"
   ]
  },
  {
   "cell_type": "code",
   "execution_count": 93,
   "metadata": {},
   "outputs": [],
   "source": [
    "R_  = R_.remove_var(xn)"
   ]
  },
  {
   "cell_type": "code",
   "execution_count": 97,
   "metadata": {},
   "outputs": [],
   "source": [
    "gens = [R_(i) for i in I.gens()]"
   ]
  },
  {
   "cell_type": "code",
   "execution_count": 104,
   "metadata": {},
   "outputs": [],
   "source": [
    "v = ideal(gens)"
   ]
  },
  {
   "cell_type": "code",
   "execution_count": 105,
   "metadata": {},
   "outputs": [
    {
     "data": {
      "text/plain": [
       "0"
      ]
     },
     "execution_count": 105,
     "metadata": {},
     "output_type": "execute_result"
    }
   ],
   "source": [
    "v.dimension()"
   ]
  },
  {
   "cell_type": "code",
   "execution_count": 101,
   "metadata": {},
   "outputs": [],
   "source": [
    "v = v.subs(x0 = 5)"
   ]
  },
  {
   "cell_type": "code",
   "execution_count": 102,
   "metadata": {},
   "outputs": [],
   "source": [
    "R_  = R_.remove_var(x0)"
   ]
  },
  {
   "cell_type": "code",
   "execution_count": 103,
   "metadata": {},
   "outputs": [],
   "source": [
    "gens = [R_(i) for i in v.gens()]"
   ]
  },
  {
   "cell_type": "code",
   "execution_count": 106,
   "metadata": {},
   "outputs": [
    {
     "data": {
      "text/plain": [
       "[{x5: 1, x4: 1, x3: 2, x2: 2, x1: 1}, {x5: 5, x4: 6, x3: 2, x2: 6, x1: 6}]"
      ]
     },
     "execution_count": 106,
     "metadata": {},
     "output_type": "execute_result"
    }
   ],
   "source": [
    "v.variety()"
   ]
  },
  {
   "cell_type": "code",
   "execution_count": null,
   "metadata": {},
   "outputs": [],
   "source": []
  }
 ],
 "metadata": {
  "kernelspec": {
   "display_name": "SageMath 9.0",
   "language": "sage",
   "name": "sagemath"
  },
  "language_info": {
   "codemirror_mode": {
    "name": "ipython",
    "version": 3
   },
   "file_extension": ".py",
   "mimetype": "text/x-python",
   "name": "python",
   "nbconvert_exporter": "python",
   "pygments_lexer": "ipython3",
   "version": "3.7.3"
  }
 },
 "nbformat": 4,
 "nbformat_minor": 2
}
