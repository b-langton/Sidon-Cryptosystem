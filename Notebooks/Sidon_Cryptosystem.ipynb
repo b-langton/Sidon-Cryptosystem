{
 "cells": [
  {
   "cell_type": "code",
   "execution_count": 1,
   "metadata": {},
   "outputs": [],
   "source": [
    "def ConstructSidon(q, k, r): \n",
    "    ##Constructs a Sidon Space in Gq(rk, k) for r > 2 \n",
    "    \n",
    "    ##Define the field F_p^k and the polynomial ring over that field\n",
    "    assert(r!=2)\n",
    "    F.<z> = GF(q^k)\n",
    "    R.<a> = F[]\n",
    "    \n",
    "    ##Construct another extension field of degree r over this ring using an irreducible polynomial of degree r over F_q^k\n",
    "    irred_poly1 = R.irreducible_element(r)\n",
    "    irred_poly2 = R.irreducible_element(r)\n",
    "    F_r.<x> = F.extension(irred_poly1)[]\n",
    "    F_ = F.extension(irred_poly1)\n",
    "    ##find a root of this in F_q^rk\n",
    "    roots = irred_poly2(x).roots()\n",
    "\n",
    "    y = roots[0][0]\n",
    "    \n",
    "    ##returns a tuple containing y, the subfield F_q^k and the field F_q^rk\n",
    "    ##The Sidon space is defined as u + u^p*y for u in F \n",
    "    return y, F, F_"
   ]
  },
  {
   "cell_type": "code",
   "execution_count": 2,
   "metadata": {},
   "outputs": [],
   "source": [
    "def ConstructSidon2k(q, k): \n",
    "    ##Constructs a Sidon Space in Gq(2k, k), q cannot equal 2 \n",
    "    assert(q!=2)\n",
    "    \n",
    "    ##Define the field F_q^k and the polynomial ring\n",
    "    \n",
    "    F.<z> = GF(q^k) \n",
    "    R.<a> = F[] \n",
    "    \n",
    "    p = F.characteristic()\n",
    "    ##Find and irreducible polynomial of degree 2 with the constant term not in W_q-1 \n",
    "    irred_poly = R.irreducible_element(2)\n",
    "    iterations = 0\n",
    "   \n",
    "    while irred_poly.list()[0]^((q^k - 1)/(q-1)) == 1 and iterations < 100: \n",
    "        irred_poly = R.irreducible_element(2)\n",
    "        iterations += 1\n",
    "    \n",
    "    assert(iterations != 100)\n",
    "    \n",
    "  \n",
    "    ##Construct the second extension field as a polynomial ring over the first modded out by this irreducible element\n",
    "    X  = F.extension(irred_poly)\n",
    "    F_2k.<x> = F.extension(irred_poly)[]\n",
    "    roots = irred_poly(x).roots() \n",
    "    \n",
    "    ##Return a root of the polynomial as well as info about the two fields \n",
    "    y = roots[0][0]\n",
    "    \n",
    "    return y, F, X, irred_poly.list()[1], irred_poly.list()[0]\n",
    "    \n",
    "    \n",
    "    "
   ]
  },
  {
   "cell_type": "code",
   "execution_count": 3,
   "metadata": {},
   "outputs": [],
   "source": [
    "def factor(product, y, q, F, F_r): \n",
    "    ##Factoring algorithm for Sidon spaces with r > 2 \n",
    "    r = len(list(F_r.modulus())) - 1 \n",
    "    p = F.characteristic()\n",
    "    assert(r > 2)\n",
    "    \n",
    "    ##construct a basis from y \n",
    "    basis = [vector(y^n) for n in range(r)]\n",
    "    mat = matrix(basis)\n",
    "    \n",
    "    ##calculate the change of basis matrix to go from the standard basis to our new basis, and compute \n",
    "    ##the representation of the product in that basis \n",
    "    cob_mat = mat.inverse() \n",
    "    product_representation = vector(product)*cob_mat\n",
    "    \n",
    "    ##Find the roots of the polynomial we derive from product_represntation, and then compute the original u and v\n",
    "    assert(i == 0 for i in product_representation[3:])\n",
    "    product_representation = product_representation[0:3]\n",
    "    F_.<x> = F[]\n",
    "    poly = F_(list(product_representation))\n",
    "    roots = poly.roots()\n",
    "    \n",
    "    ##returns u and v up to multiplication from F_p, not the original things multiplied \n",
    "    if len(roots) == 1: \n",
    "        ans1 = (-1*1/roots[0][0]).nth_root(q - 1)\n",
    "        ans2 = (-1*1/roots[0][0]).nth_root(q - 1)\n",
    "        \n",
    "    else: \n",
    "        ans1 = (-1*1/roots[0][0]).nth_root(F.characteristic() - 1)\n",
    "        ans2 = (-1*1/roots[1][0]).nth_root(F.characteristic() - 1)\n",
    "    \n",
    "    if product/((ans1 + ans1^q*y)*(ans2 + ans2^q*y)) != 1: \n",
    "        ans1 = ans1*product/((ans1 + ans1^q*y)*(ans2 + ans2^q*y))\n",
    "    return ans1, ans2"
   ]
  },
  {
   "cell_type": "code",
   "execution_count": 4,
   "metadata": {},
   "outputs": [],
   "source": [
    "def factor2(product, y,q,F, F_r, b, c): \n",
    "    ##factoring algorithm for Sidon space with r = 2 \n",
    "    p = F.characteristic()\n",
    "    k = len(F.modulus().list()) - 1\n",
    "    \n",
    "    ##construct a basis for F_r that we will use to extract usefull info\n",
    "    basis = [vector(y^n) for n in (0, 1)]\n",
    "    mat = matrix(basis)\n",
    "    cob_mat = mat.inverse() \n",
    "    product_representation = vector(product)*cob_mat\n",
    "    \n",
    "    \n",
    "    ##Figure out the linear transformation x - cx^q \n",
    "    basis_transf = []\n",
    "    identity = matrix.identity(k)\n",
    "    \n",
    "    for i in range(k): \n",
    "        transformed = vector(F(list(identity[i])) - c*F(list(identity[i]))^q)\n",
    "        basis_transf += [transformed]\n",
    "        \n",
    "    transformation = matrix(basis_transf).inverse() \n",
    "    \n",
    "    ##invert this transformation and use it to calculate uv     \n",
    "    uv = vector(product_representation[0])*transformation\n",
    "    uv = F(uv)\n",
    " \n",
    "    ##Calculate the last two terms and create a quadratic polynomial\n",
    "    F_.<s> = F[] \n",
    "    second_term = product_representation[1] + b*(uv)^q\n",
    "    third_term = uv^q\n",
    "    poly = F_([vector(uv), vector(second_term), vector(third_term)])\n",
    "    \n",
    "    ##get the roots of the polynomial and extract u and v\n",
    "    roots = poly.roots()\n",
    "    \n",
    "    ##returns u and v up to multiplication from F_q, not the original things multiplied \n",
    "    if len(roots) == 1: \n",
    "        ans1 = (-1*1/roots[0][0]).nth_root(q - 1)\n",
    "        ans2 = (-1*1/roots[0][0]).nth_root(q - 1)\n",
    "        \n",
    "    else: \n",
    "        ans1 = (-1*1/roots[0][0]).nth_root(q - 1)\n",
    "        ans2 = (-1*1/roots[1][0]).nth_root(q - 1)\n",
    "    \n",
    "    if product/((ans1 + ans1^q*y)*(ans2 + ans2^q*y)) != 1: \n",
    "        ans1 = ans1*product/((ans1 + ans1^q*y)*(ans2 + ans2^q*y))\n",
    "    return ans1, ans2\n",
    "    "
   ]
  },
  {
   "cell_type": "code",
   "execution_count": 10,
   "metadata": {},
   "outputs": [],
   "source": [
    "def publicKey(y,q, F, F_r): \n",
    "    ##Generates the public key (and associated private key) using info from the given sidon space \n",
    "    p = F.characteristic()\n",
    "    k = len(F.modulus().list()) - 1\n",
    "    print(k)\n",
    "    rk = (len(F_r.modulus().list()) - 1)*k\n",
    "    basefield = GF(q)\n",
    "    iterations = 0\n",
    "    iterations2 = 0\n",
    "    \n",
    "    ##Construct bases for the sidon space as well as F_r\n",
    "    sidonbasis = Matrix(basefield, k, lambda i,j: basefield.random_element())\n",
    "    while sidonbasis.is_invertible() == False and iterations < 100:\n",
    "        sidonbasis = Matrix(basefield, k, lambda i,j: basefield.random_element())\n",
    "        iterations += 1\n",
    "    F_r_basis = Matrix(basefield, rk, lambda i,j: basefield.random_element())\n",
    "    while F_r_basis.is_invertible() == False and iterations2 < 100: \n",
    "         F_r_basis = Matrix(basefield, rk, lambda i,j: basefield.random_element())\n",
    "         iterations2 += 1\n",
    "    \n",
    "    assert(iterations<100 and iterations2<100)\n",
    "    \n",
    "    ##Get the multiplication table from the basis of the sidon space\n",
    "    print(sidonbasis[0])\n",
    "    v = [F(list(sidonbasis[i])) for i in range(k)]\n",
    "    origbasis = sidonbasis\n",
    "    sidonbasis = [j + j^q*y for j in v]\n",
    "    mult_table = vector(sidonbasis).column()*vector(sidonbasis).row()\n",
    "    cob_matrix = F_r_basis.inverse()\n",
    "    print(cob_matrix)\n",
    "    vec_list = [[0 for i in range(k)] for j in range(k)]\n",
    "    \n",
    "    ##Generate the public key M(V,B)\n",
    "    for i in range(k): \n",
    "        for j in range(k):\n",
    "            element = mult_table[i][j]\n",
    "            long_representation = convertToLong(element)\n",
    "            vec_list[i][j] = list(long_representation*cob_matrix) \n",
    "    matrixlist = [0 for i in range(rk)]\n",
    "    \n",
    "    ##Return the public key \n",
    "    for i in range(rk): \n",
    "        matrixlist[i] = Matrix(basefield, k, lambda l,j: vec_list[l][j][i])\n",
    "    return matrixlist, sidonbasis, mult_table, F_r_basis, origbasis\n",
    "def convertToLong(element):\n",
    "    ##Converts an element from a vector over F to a vector over F_q\n",
    "    long_representation = []\n",
    "    print(list(element))\n",
    "    for l in range(len(list(element))): \n",
    "        long_representation += list(vector(list(element)[l]))\n",
    "    long_representation = vector(long_representation)\n",
    "    long_representation\n",
    "    return long_representation\n",
    "\n",
    "def convertFromLong(element, F, F_r):\n",
    "    ##Converts an element from F_r represented as a vector over F_q to a vector over F\n",
    "    \n",
    "    k = len(F.modulus().list()) - 1\n",
    "    r = len(F_r.modulus().list()) - 1\n",
    "    final_list = []\n",
    "    \n",
    "    for i in range(r): \n",
    "        final_list += [F(list(element)[i*k:(i+1)*k])]\n",
    "    return(F_r(final_list))\n",
    "    \n",
    "    "
   ]
  },
  {
   "cell_type": "code",
   "execution_count": 6,
   "metadata": {},
   "outputs": [],
   "source": [
    "def encrypt(a,b, matrixlist): \n",
    "    ##Uses the public key to send the encrypted message\n",
    "    anslist = []\n",
    "    print(a,b,matrixlist)\n",
    "    for i in matrixlist: \n",
    "        anslist += a.row()*i*b.column()\n",
    "    return anslist \n",
    "\n",
    "\n",
    "def decrypt(anslist, y, q, F, F_r, F_r_basis, sidonbasis, origbasis, b = None, c = None): \n",
    "    ##Decrpyts the message anslist\n",
    "    ##Calculate the original product in the sidon space\n",
    "    product = (anslist[0]*convertFromLong(F_r_basis[0],F,F_r))\n",
    "    \n",
    "    for i in range(len(anslist) - 1): \n",
    "        product += anslist[i+1]*convertFromLong(F_r_basis[i+1], F, F_r)\n",
    "    r = len(F_r.modulus().list()) - 1 \n",
    "    \n",
    "    ##Factor the product\n",
    "    if r == 2: \n",
    "        u,v = factor2(product[0], y,q, F, F_r, b, c)\n",
    "    else: \n",
    "        u,v = factor(product[0], y,q, F, F_r)\n",
    "    print(product)\n",
    "    print((u + u^q*y)*(v + v^q*y))\n",
    "    \n",
    "    ##Represent the product over the sidon space basis\n",
    "    cob_matrix = origbasis.inverse() \n",
    "  \n",
    "    u = vector(F(str(u)))*origbasis.inverse()\n",
    "    v = vector(F(str(v)))*origbasis.inverse() \n",
    "    \n",
    "   \n",
    "    return u.column()*v.row()\n",
    "\n",
    "\n",
    "        "
   ]
  },
  {
   "cell_type": "code",
   "execution_count": 3,
   "metadata": {},
   "outputs": [
    {
     "ename": "NameError",
     "evalue": "name 'publicKey' is not defined",
     "output_type": "error",
     "traceback": [
      "\u001b[0;31m---------------------------------------------------------------------------\u001b[0m",
      "\u001b[0;31mNameError\u001b[0m                                 Traceback (most recent call last)",
      "\u001b[0;32m<ipython-input-3-f665f3d3f98a>\u001b[0m in \u001b[0;36m<module>\u001b[0;34m()\u001b[0m\n\u001b[1;32m      4\u001b[0m \u001b[0mr\u001b[0m \u001b[0;34m=\u001b[0m \u001b[0mInteger\u001b[0m\u001b[0;34m(\u001b[0m\u001b[0;36m4\u001b[0m\u001b[0;34m)\u001b[0m\u001b[0;34m\u001b[0m\u001b[0;34m\u001b[0m\u001b[0m\n\u001b[1;32m      5\u001b[0m \u001b[0my\u001b[0m\u001b[0;34m,\u001b[0m \u001b[0mF\u001b[0m\u001b[0;34m,\u001b[0m \u001b[0mF_r\u001b[0m\u001b[0;34m,\u001b[0m \u001b[0md\u001b[0m\u001b[0;34m,\u001b[0m \u001b[0mc\u001b[0m \u001b[0;34m=\u001b[0m \u001b[0mConstructSidon2k\u001b[0m\u001b[0;34m(\u001b[0m\u001b[0mq\u001b[0m\u001b[0;34m,\u001b[0m \u001b[0mk\u001b[0m\u001b[0;34m)\u001b[0m\u001b[0;34m\u001b[0m\u001b[0;34m\u001b[0m\u001b[0m\n\u001b[0;32m----> 6\u001b[0;31m \u001b[0mmatrixlist\u001b[0m\u001b[0;34m,\u001b[0m \u001b[0msidonbasis\u001b[0m\u001b[0;34m,\u001b[0m \u001b[0mmult_table\u001b[0m\u001b[0;34m,\u001b[0m \u001b[0mF_r_basis\u001b[0m \u001b[0;34m,\u001b[0m \u001b[0morigbasis\u001b[0m \u001b[0;34m=\u001b[0m \u001b[0mpublicKey\u001b[0m\u001b[0;34m(\u001b[0m\u001b[0my\u001b[0m\u001b[0;34m,\u001b[0m\u001b[0mq\u001b[0m\u001b[0;34m,\u001b[0m\u001b[0mF\u001b[0m\u001b[0;34m,\u001b[0m\u001b[0mF_r\u001b[0m\u001b[0;34m)\u001b[0m\u001b[0;34m\u001b[0m\u001b[0;34m\u001b[0m\u001b[0m\n\u001b[0m\u001b[1;32m      7\u001b[0m \u001b[0ma\u001b[0m \u001b[0;34m=\u001b[0m \u001b[0mvector\u001b[0m\u001b[0;34m(\u001b[0m\u001b[0mGF\u001b[0m\u001b[0;34m(\u001b[0m\u001b[0mq\u001b[0m\u001b[0;34m)\u001b[0m\u001b[0;34m,\u001b[0m \u001b[0;34m[\u001b[0m\u001b[0mInteger\u001b[0m\u001b[0;34m(\u001b[0m\u001b[0;36m2\u001b[0m\u001b[0;34m)\u001b[0m\u001b[0;34m,\u001b[0m\u001b[0mInteger\u001b[0m\u001b[0;34m(\u001b[0m\u001b[0;36m2\u001b[0m\u001b[0;34m)\u001b[0m\u001b[0;34m,\u001b[0m\u001b[0mInteger\u001b[0m\u001b[0;34m(\u001b[0m\u001b[0;36m0\u001b[0m\u001b[0;34m)\u001b[0m\u001b[0;34m]\u001b[0m\u001b[0;34m)\u001b[0m\u001b[0;34m\u001b[0m\u001b[0;34m\u001b[0m\u001b[0m\n\u001b[1;32m      8\u001b[0m \u001b[0mb\u001b[0m \u001b[0;34m=\u001b[0m \u001b[0mvector\u001b[0m\u001b[0;34m(\u001b[0m\u001b[0mGF\u001b[0m\u001b[0;34m(\u001b[0m\u001b[0mq\u001b[0m\u001b[0;34m)\u001b[0m\u001b[0;34m,\u001b[0m \u001b[0;34m[\u001b[0m\u001b[0mInteger\u001b[0m\u001b[0;34m(\u001b[0m\u001b[0;36m1\u001b[0m\u001b[0;34m)\u001b[0m\u001b[0;34m,\u001b[0m\u001b[0mInteger\u001b[0m\u001b[0;34m(\u001b[0m\u001b[0;36m1\u001b[0m\u001b[0;34m)\u001b[0m\u001b[0;34m,\u001b[0m\u001b[0mInteger\u001b[0m\u001b[0;34m(\u001b[0m\u001b[0;36m3\u001b[0m\u001b[0;34m)\u001b[0m\u001b[0;34m]\u001b[0m\u001b[0;34m)\u001b[0m\u001b[0;34m\u001b[0m\u001b[0;34m\u001b[0m\u001b[0m\n",
      "\u001b[0;31mNameError\u001b[0m: name 'publicKey' is not defined"
     ]
    }
   ],
   "source": [
    "##demonstration\n",
    "q = 7\n",
    "k = 3\n",
    "r = 4\n",
    "y, F, F_r, d, c = ConstructSidon2k(q, k)\n",
    "matrixlist, sidonbasis, mult_table, F_r_basis , origbasis = publicKey(y,q,F,F_r)\n",
    "a = vector(GF(q), [2,2,0])\n",
    "b = vector(GF(q), [1,1,3])\n"
   ]
  },
  {
   "cell_type": "code",
   "execution_count": 187,
   "metadata": {},
   "outputs": [
    {
     "name": "stdout",
     "output_type": "stream",
     "text": [
      "(2, 2, 0) (1, 1, 3) [[2 2 0]\n",
      "[2 2 1]\n",
      "[0 1 4], [2 3 4]\n",
      "[3 4 1]\n",
      "[4 1 1], [0 4 1]\n",
      "[4 0 0]\n",
      "[1 0 4], [1 3 1]\n",
      "[3 0 1]\n",
      "[1 1 0], [2 3 3]\n",
      "[3 4 3]\n",
      "[3 3 0], [1 3 0]\n",
      "[3 0 1]\n",
      "[0 1 3]]\n"
     ]
    }
   ],
   "source": [
    "anslist = encrypt(a,b, matrixlist)"
   ]
  },
  {
   "cell_type": "code",
   "execution_count": 189,
   "metadata": {},
   "outputs": [
    {
     "name": "stdout",
     "output_type": "stream",
     "text": [
      "((3*z^2 + 2)*a + 3*z + 4)\n",
      "(3*z^2 + 2)*a + 3*z + 4\n"
     ]
    },
    {
     "data": {
      "text/plain": [
       "[2 2 0]\n",
       "[2 2 0]\n",
       "[1 1 0]"
      ]
     },
     "execution_count": 189,
     "metadata": {},
     "output_type": "execute_result"
    }
   ],
   "source": [
    "decrypt(anslist, y,q, F, F_r, F_r_basis, sidonbasis, origbasis, d,c)"
   ]
  },
  {
   "cell_type": "code",
   "execution_count": 47,
   "metadata": {},
   "outputs": [
    {
     "data": {
      "text/plain": [
       "[(2), (1), (1), (1), (1), (2), (2), (1), (1), (1), (1), (1)]"
      ]
     },
     "execution_count": 47,
     "metadata": {},
     "output_type": "execute_result"
    }
   ],
   "source": [
    "anslist"
   ]
  },
  {
   "cell_type": "code",
   "execution_count": 41,
   "metadata": {},
   "outputs": [
    {
     "data": {
      "text/plain": [
       "(2)"
      ]
     },
     "execution_count": 41,
     "metadata": {},
     "output_type": "execute_result"
    }
   ],
   "source": [
    "anslist[0]"
   ]
  },
  {
   "cell_type": "code",
   "execution_count": 147,
   "metadata": {},
   "outputs": [
    {
     "data": {
      "text/plain": [
       "[2 2 0]\n",
       "[2 2 0]\n",
       "[2 2 0]"
      ]
     },
     "execution_count": 147,
     "metadata": {},
     "output_type": "execute_result"
    }
   ],
   "source": [
    "b.column()*a.row()"
   ]
  },
  {
   "cell_type": "code",
   "execution_count": 92,
   "metadata": {},
   "outputs": [
    {
     "data": {
      "text/plain": [
       "(1, 1, 1)"
      ]
     },
     "execution_count": 92,
     "metadata": {},
     "output_type": "execute_result"
    }
   ],
   "source": [
    "b"
   ]
  },
  {
   "cell_type": "code",
   "execution_count": 12,
   "metadata": {},
   "outputs": [
    {
     "data": {
      "text/plain": [
       "x^6 + x^4 + 4*x^3 + x^2 + 2"
      ]
     },
     "execution_count": 12,
     "metadata": {},
     "output_type": "execute_result"
    }
   ],
   "source": [
    "F.modulus()"
   ]
  },
  {
   "cell_type": "code",
   "execution_count": 16,
   "metadata": {},
   "outputs": [],
   "source": [
    "a = GF(25)"
   ]
  },
  {
   "cell_type": "code",
   "execution_count": 17,
   "metadata": {},
   "outputs": [
    {
     "ename": "AttributeError",
     "evalue": "'FiniteField_givaro_with_category' object has no attribute 'irreducible_element'",
     "output_type": "error",
     "traceback": [
      "\u001b[0;31m---------------------------------------------------------------------------\u001b[0m",
      "\u001b[0;31mKeyError\u001b[0m                                  Traceback (most recent call last)",
      "\u001b[0;32m/opt/sagemath-9.0/local/lib/python3.7/site-packages/sage/structure/category_object.pyx\u001b[0m in \u001b[0;36msage.structure.category_object.CategoryObject.getattr_from_category (build/cythonized/sage/structure/category_object.c:6958)\u001b[0;34m()\u001b[0m\n\u001b[1;32m    837\u001b[0m         \u001b[0;32mtry\u001b[0m\u001b[0;34m:\u001b[0m\u001b[0;34m\u001b[0m\u001b[0;34m\u001b[0m\u001b[0m\n\u001b[0;32m--> 838\u001b[0;31m             \u001b[0;32mreturn\u001b[0m \u001b[0mself\u001b[0m\u001b[0;34m.\u001b[0m\u001b[0m__cached_methods\u001b[0m\u001b[0;34m[\u001b[0m\u001b[0mname\u001b[0m\u001b[0;34m]\u001b[0m\u001b[0;34m\u001b[0m\u001b[0;34m\u001b[0m\u001b[0m\n\u001b[0m\u001b[1;32m    839\u001b[0m         \u001b[0;32mexcept\u001b[0m \u001b[0mKeyError\u001b[0m\u001b[0;34m:\u001b[0m\u001b[0;34m\u001b[0m\u001b[0;34m\u001b[0m\u001b[0m\n",
      "\u001b[0;31mKeyError\u001b[0m: 'irreducible_element'",
      "\nDuring handling of the above exception, another exception occurred:\n",
      "\u001b[0;31mAttributeError\u001b[0m                            Traceback (most recent call last)",
      "\u001b[0;32m<ipython-input-17-6d6786869cf4>\u001b[0m in \u001b[0;36m<module>\u001b[0;34m()\u001b[0m\n\u001b[0;32m----> 1\u001b[0;31m \u001b[0ma\u001b[0m\u001b[0;34m.\u001b[0m\u001b[0mirreducible_element\u001b[0m\u001b[0;34m(\u001b[0m\u001b[0;34m)\u001b[0m\u001b[0;34m\u001b[0m\u001b[0;34m\u001b[0m\u001b[0m\n\u001b[0m",
      "\u001b[0;32m/opt/sagemath-9.0/local/lib/python3.7/site-packages/sage/structure/category_object.pyx\u001b[0m in \u001b[0;36msage.structure.category_object.CategoryObject.__getattr__ (build/cythonized/sage/structure/category_object.c:6880)\u001b[0;34m()\u001b[0m\n\u001b[1;32m    830\u001b[0m             \u001b[0mAttributeError\u001b[0m\u001b[0;34m:\u001b[0m \u001b[0;34m'PrimeNumbers_with_category'\u001b[0m \u001b[0mobject\u001b[0m \u001b[0mhas\u001b[0m \u001b[0mno\u001b[0m \u001b[0mattribute\u001b[0m \u001b[0;34m'sadfasdf'\u001b[0m\u001b[0;34m\u001b[0m\u001b[0;34m\u001b[0m\u001b[0m\n\u001b[1;32m    831\u001b[0m         \"\"\"\n\u001b[0;32m--> 832\u001b[0;31m         \u001b[0;32mreturn\u001b[0m \u001b[0mself\u001b[0m\u001b[0;34m.\u001b[0m\u001b[0mgetattr_from_category\u001b[0m\u001b[0;34m(\u001b[0m\u001b[0mname\u001b[0m\u001b[0;34m)\u001b[0m\u001b[0;34m\u001b[0m\u001b[0;34m\u001b[0m\u001b[0m\n\u001b[0m\u001b[1;32m    833\u001b[0m \u001b[0;34m\u001b[0m\u001b[0m\n\u001b[1;32m    834\u001b[0m     \u001b[0mcdef\u001b[0m \u001b[0mgetattr_from_category\u001b[0m\u001b[0;34m(\u001b[0m\u001b[0mself\u001b[0m\u001b[0;34m,\u001b[0m \u001b[0mname\u001b[0m\u001b[0;34m)\u001b[0m\u001b[0;34m:\u001b[0m\u001b[0;34m\u001b[0m\u001b[0;34m\u001b[0m\u001b[0m\n",
      "\u001b[0;32m/opt/sagemath-9.0/local/lib/python3.7/site-packages/sage/structure/category_object.pyx\u001b[0m in \u001b[0;36msage.structure.category_object.CategoryObject.getattr_from_category (build/cythonized/sage/structure/category_object.c:7043)\u001b[0;34m()\u001b[0m\n\u001b[1;32m    845\u001b[0m                 \u001b[0mcls\u001b[0m \u001b[0;34m=\u001b[0m \u001b[0mself\u001b[0m\u001b[0;34m.\u001b[0m\u001b[0m_category\u001b[0m\u001b[0;34m.\u001b[0m\u001b[0mparent_class\u001b[0m\u001b[0;34m\u001b[0m\u001b[0;34m\u001b[0m\u001b[0m\n\u001b[1;32m    846\u001b[0m \u001b[0;34m\u001b[0m\u001b[0m\n\u001b[0;32m--> 847\u001b[0;31m             \u001b[0mattr\u001b[0m \u001b[0;34m=\u001b[0m \u001b[0mgetattr_from_other_class\u001b[0m\u001b[0;34m(\u001b[0m\u001b[0mself\u001b[0m\u001b[0;34m,\u001b[0m \u001b[0mcls\u001b[0m\u001b[0;34m,\u001b[0m \u001b[0mname\u001b[0m\u001b[0;34m)\u001b[0m\u001b[0;34m\u001b[0m\u001b[0;34m\u001b[0m\u001b[0m\n\u001b[0m\u001b[1;32m    848\u001b[0m             \u001b[0mself\u001b[0m\u001b[0;34m.\u001b[0m\u001b[0m__cached_methods\u001b[0m\u001b[0;34m[\u001b[0m\u001b[0mname\u001b[0m\u001b[0;34m]\u001b[0m \u001b[0;34m=\u001b[0m \u001b[0mattr\u001b[0m\u001b[0;34m\u001b[0m\u001b[0;34m\u001b[0m\u001b[0m\n\u001b[1;32m    849\u001b[0m             \u001b[0;32mreturn\u001b[0m \u001b[0mattr\u001b[0m\u001b[0;34m\u001b[0m\u001b[0;34m\u001b[0m\u001b[0m\n",
      "\u001b[0;32m/opt/sagemath-9.0/local/lib/python3.7/site-packages/sage/cpython/getattr.pyx\u001b[0m in \u001b[0;36msage.cpython.getattr.getattr_from_other_class (build/cythonized/sage/cpython/getattr.c:2547)\u001b[0;34m()\u001b[0m\n\u001b[1;32m    387\u001b[0m         \u001b[0mdummy_error_message\u001b[0m\u001b[0;34m.\u001b[0m\u001b[0mcls\u001b[0m \u001b[0;34m=\u001b[0m \u001b[0mtype\u001b[0m\u001b[0;34m(\u001b[0m\u001b[0mself\u001b[0m\u001b[0;34m)\u001b[0m\u001b[0;34m\u001b[0m\u001b[0;34m\u001b[0m\u001b[0m\n\u001b[1;32m    388\u001b[0m         \u001b[0mdummy_error_message\u001b[0m\u001b[0;34m.\u001b[0m\u001b[0mname\u001b[0m \u001b[0;34m=\u001b[0m \u001b[0mname\u001b[0m\u001b[0;34m\u001b[0m\u001b[0;34m\u001b[0m\u001b[0m\n\u001b[0;32m--> 389\u001b[0;31m         \u001b[0;32mraise\u001b[0m \u001b[0mAttributeError\u001b[0m\u001b[0;34m(\u001b[0m\u001b[0mdummy_error_message\u001b[0m\u001b[0;34m)\u001b[0m\u001b[0;34m\u001b[0m\u001b[0;34m\u001b[0m\u001b[0m\n\u001b[0m\u001b[1;32m    390\u001b[0m     \u001b[0mcdef\u001b[0m \u001b[0mPyObject\u001b[0m\u001b[0;34m*\u001b[0m \u001b[0mattr\u001b[0m \u001b[0;34m=\u001b[0m \u001b[0minstance_getattr\u001b[0m\u001b[0;34m(\u001b[0m\u001b[0mcls\u001b[0m\u001b[0;34m,\u001b[0m \u001b[0mname\u001b[0m\u001b[0;34m)\u001b[0m\u001b[0;34m\u001b[0m\u001b[0;34m\u001b[0m\u001b[0m\n\u001b[1;32m    391\u001b[0m     \u001b[0;32mif\u001b[0m \u001b[0mattr\u001b[0m \u001b[0;32mis\u001b[0m \u001b[0mNULL\u001b[0m\u001b[0;34m:\u001b[0m\u001b[0;34m\u001b[0m\u001b[0;34m\u001b[0m\u001b[0m\n",
      "\u001b[0;31mAttributeError\u001b[0m: 'FiniteField_givaro_with_category' object has no attribute 'irreducible_element'"
     ]
    }
   ],
   "source": [
    "a.irreducible_element()"
   ]
  },
  {
   "cell_type": "code",
   "execution_count": 6,
   "metadata": {},
   "outputs": [
    {
     "ename": "KeyboardInterrupt",
     "evalue": "",
     "output_type": "error",
     "traceback": [
      "\u001b[0;31m---------------------------------------------------------------------------\u001b[0m",
      "\u001b[0;31mKeyboardInterrupt\u001b[0m                         Traceback (most recent call last)",
      "\u001b[0;32m<ipython-input-6-486d8765b4dd>\u001b[0m in \u001b[0;36m<module>\u001b[0;34m()\u001b[0m\n\u001b[0;32m----> 1\u001b[0;31m \u001b[0mConstructSidon\u001b[0m\u001b[0;34m(\u001b[0m\u001b[0mInteger\u001b[0m\u001b[0;34m(\u001b[0m\u001b[0;36m2\u001b[0m\u001b[0;34m)\u001b[0m\u001b[0;34m,\u001b[0m\u001b[0mInteger\u001b[0m\u001b[0;34m(\u001b[0m\u001b[0;36m5\u001b[0m\u001b[0;34m)\u001b[0m\u001b[0;34m,\u001b[0m\u001b[0mInteger\u001b[0m\u001b[0;34m(\u001b[0m\u001b[0;36m4\u001b[0m\u001b[0;34m)\u001b[0m\u001b[0;34m)\u001b[0m\u001b[0;34m\u001b[0m\u001b[0;34m\u001b[0m\u001b[0m\n\u001b[0m",
      "\u001b[0;32m<ipython-input-1-802f6cb8a351>\u001b[0m in \u001b[0;36mConstructSidon\u001b[0;34m(q, k, r)\u001b[0m\n\u001b[1;32m     13\u001b[0m     \u001b[0mF_\u001b[0m \u001b[0;34m=\u001b[0m \u001b[0mF\u001b[0m\u001b[0;34m.\u001b[0m\u001b[0mextension\u001b[0m\u001b[0;34m(\u001b[0m\u001b[0mirred_poly1\u001b[0m\u001b[0;34m)\u001b[0m\u001b[0;34m\u001b[0m\u001b[0;34m\u001b[0m\u001b[0m\n\u001b[1;32m     14\u001b[0m     \u001b[0;31m##find a root of this in F_q^rk\u001b[0m\u001b[0;34m\u001b[0m\u001b[0;34m\u001b[0m\u001b[0;34m\u001b[0m\u001b[0m\n\u001b[0;32m---> 15\u001b[0;31m     \u001b[0mroots\u001b[0m \u001b[0;34m=\u001b[0m \u001b[0mirred_poly2\u001b[0m\u001b[0;34m(\u001b[0m\u001b[0mx\u001b[0m\u001b[0;34m)\u001b[0m\u001b[0;34m.\u001b[0m\u001b[0mroots\u001b[0m\u001b[0;34m(\u001b[0m\u001b[0;34m)\u001b[0m\u001b[0;34m\u001b[0m\u001b[0;34m\u001b[0m\u001b[0m\n\u001b[0m\u001b[1;32m     16\u001b[0m \u001b[0;34m\u001b[0m\u001b[0m\n\u001b[1;32m     17\u001b[0m     \u001b[0my\u001b[0m \u001b[0;34m=\u001b[0m \u001b[0mroots\u001b[0m\u001b[0;34m[\u001b[0m\u001b[0mInteger\u001b[0m\u001b[0;34m(\u001b[0m\u001b[0;36m0\u001b[0m\u001b[0;34m)\u001b[0m\u001b[0;34m]\u001b[0m\u001b[0;34m[\u001b[0m\u001b[0mInteger\u001b[0m\u001b[0;34m(\u001b[0m\u001b[0;36m0\u001b[0m\u001b[0;34m)\u001b[0m\u001b[0;34m]\u001b[0m\u001b[0;34m\u001b[0m\u001b[0;34m\u001b[0m\u001b[0m\n",
      "\u001b[0;32m/opt/sagemath-9.0/local/lib/python3.7/site-packages/sage/rings/polynomial/polynomial_element.pyx\u001b[0m in \u001b[0;36msage.rings.polynomial.polynomial_element.Polynomial.roots (build/cythonized/sage/rings/polynomial/polynomial_element.c:63084)\u001b[0;34m()\u001b[0m\n\u001b[1;32m   7839\u001b[0m                     \u001b[0;32mexcept\u001b[0m \u001b[0mAttributeError\u001b[0m\u001b[0;34m:\u001b[0m\u001b[0;34m\u001b[0m\u001b[0;34m\u001b[0m\u001b[0m\n\u001b[1;32m   7840\u001b[0m                         \u001b[0;32mpass\u001b[0m\u001b[0;34m\u001b[0m\u001b[0;34m\u001b[0m\u001b[0m\n\u001b[0;32m-> 7841\u001b[0;31m                 \u001b[0;32mreturn\u001b[0m \u001b[0mself\u001b[0m\u001b[0;34m.\u001b[0m\u001b[0m_roots_from_factorization\u001b[0m\u001b[0;34m(\u001b[0m\u001b[0mself\u001b[0m\u001b[0;34m.\u001b[0m\u001b[0mfactor\u001b[0m\u001b[0;34m(\u001b[0m\u001b[0;34m)\u001b[0m\u001b[0;34m,\u001b[0m \u001b[0mmultiplicities\u001b[0m\u001b[0;34m)\u001b[0m\u001b[0;34m\u001b[0m\u001b[0;34m\u001b[0m\u001b[0m\n\u001b[0m\u001b[1;32m   7842\u001b[0m             \u001b[0;32melse\u001b[0m\u001b[0;34m:\u001b[0m\u001b[0;34m\u001b[0m\u001b[0;34m\u001b[0m\u001b[0m\n\u001b[1;32m   7843\u001b[0m                 \u001b[0;32mraise\u001b[0m \u001b[0mNotImplementedError\u001b[0m\u001b[0;34m\u001b[0m\u001b[0;34m\u001b[0m\u001b[0m\n",
      "\u001b[0;32m/opt/sagemath-9.0/local/lib/python3.7/site-packages/sage/rings/polynomial/polynomial_element.pyx\u001b[0m in \u001b[0;36msage.rings.polynomial.polynomial_element.Polynomial.factor (build/cythonized/sage/rings/polynomial/polynomial_element.c:35771)\u001b[0;34m()\u001b[0m\n\u001b[1;32m   4331\u001b[0m         \u001b[0mR\u001b[0m \u001b[0;34m=\u001b[0m \u001b[0mself\u001b[0m\u001b[0;34m.\u001b[0m\u001b[0m_parent\u001b[0m\u001b[0;34m.\u001b[0m\u001b[0mbase_ring\u001b[0m\u001b[0;34m(\u001b[0m\u001b[0;34m)\u001b[0m\u001b[0;34m\u001b[0m\u001b[0;34m\u001b[0m\u001b[0m\n\u001b[1;32m   4332\u001b[0m         \u001b[0;32mif\u001b[0m \u001b[0mhasattr\u001b[0m\u001b[0;34m(\u001b[0m\u001b[0mR\u001b[0m\u001b[0;34m,\u001b[0m \u001b[0;34m'_factor_univariate_polynomial'\u001b[0m\u001b[0;34m)\u001b[0m\u001b[0;34m:\u001b[0m\u001b[0;34m\u001b[0m\u001b[0;34m\u001b[0m\u001b[0m\n\u001b[0;32m-> 4333\u001b[0;31m             \u001b[0;32mreturn\u001b[0m \u001b[0mR\u001b[0m\u001b[0;34m.\u001b[0m\u001b[0m_factor_univariate_polynomial\u001b[0m\u001b[0;34m(\u001b[0m\u001b[0mself\u001b[0m\u001b[0;34m,\u001b[0m \u001b[0;34m**\u001b[0m\u001b[0mkwargs\u001b[0m\u001b[0;34m)\u001b[0m\u001b[0;34m\u001b[0m\u001b[0;34m\u001b[0m\u001b[0m\n\u001b[0m\u001b[1;32m   4334\u001b[0m \u001b[0;34m\u001b[0m\u001b[0m\n\u001b[1;32m   4335\u001b[0m         \u001b[0mG\u001b[0m \u001b[0;34m=\u001b[0m \u001b[0;32mNone\u001b[0m\u001b[0;34m\u001b[0m\u001b[0;34m\u001b[0m\u001b[0m\n",
      "\u001b[0;32m/opt/sagemath-9.0/local/lib/python3.7/site-packages/sage/rings/polynomial/polynomial_quotient_ring.py\u001b[0m in \u001b[0;36m_factor_univariate_polynomial\u001b[0;34m(self, f)\u001b[0m\n\u001b[1;32m   1725\u001b[0m             \u001b[0;32mreturn\u001b[0m \u001b[0mFactorization\u001b[0m\u001b[0;34m(\u001b[0m\u001b[0;34m[\u001b[0m\u001b[0;34m(\u001b[0m\u001b[0mf\u001b[0m\u001b[0;34m,\u001b[0m\u001b[0;36m1\u001b[0m\u001b[0;34m)\u001b[0m\u001b[0;34m]\u001b[0m\u001b[0;34m,\u001b[0m \u001b[0munit\u001b[0m\u001b[0;34m=\u001b[0m\u001b[0munit\u001b[0m\u001b[0;34m)\u001b[0m\u001b[0;34m\u001b[0m\u001b[0;34m\u001b[0m\u001b[0m\n\u001b[1;32m   1726\u001b[0m         \u001b[0;32melse\u001b[0m\u001b[0;34m:\u001b[0m\u001b[0;34m\u001b[0m\u001b[0;34m\u001b[0m\u001b[0m\n\u001b[0;32m-> 1727\u001b[0;31m             \u001b[0mfrom_isomorphic_ring\u001b[0m\u001b[0;34m,\u001b[0m \u001b[0mto_isomorphic_ring\u001b[0m\u001b[0;34m,\u001b[0m \u001b[0misomorphic_ring\u001b[0m \u001b[0;34m=\u001b[0m \u001b[0mself\u001b[0m\u001b[0;34m.\u001b[0m\u001b[0m_isomorphic_ring\u001b[0m\u001b[0;34m(\u001b[0m\u001b[0;34m)\u001b[0m\u001b[0;34m\u001b[0m\u001b[0;34m\u001b[0m\u001b[0m\n\u001b[0m\u001b[1;32m   1728\u001b[0m             \u001b[0mg\u001b[0m \u001b[0;34m=\u001b[0m \u001b[0mf\u001b[0m\u001b[0;34m.\u001b[0m\u001b[0mmap_coefficients\u001b[0m\u001b[0;34m(\u001b[0m\u001b[0mto_isomorphic_ring\u001b[0m\u001b[0;34m)\u001b[0m\u001b[0;34m\u001b[0m\u001b[0;34m\u001b[0m\u001b[0m\n\u001b[1;32m   1729\u001b[0m             \u001b[0mF\u001b[0m \u001b[0;34m=\u001b[0m \u001b[0mg\u001b[0m\u001b[0;34m.\u001b[0m\u001b[0mfactor\u001b[0m\u001b[0;34m(\u001b[0m\u001b[0;34m)\u001b[0m\u001b[0;34m\u001b[0m\u001b[0;34m\u001b[0m\u001b[0m\n",
      "\u001b[0;32m/opt/sagemath-9.0/local/lib/python3.7/site-packages/sage/misc/cachefunc.pyx\u001b[0m in \u001b[0;36msage.misc.cachefunc.CachedMethodCallerNoArgs.__call__ (build/cythonized/sage/misc/cachefunc.c:12712)\u001b[0;34m()\u001b[0m\n\u001b[1;32m   2308\u001b[0m         \u001b[0;32mif\u001b[0m \u001b[0mself\u001b[0m\u001b[0;34m.\u001b[0m\u001b[0mcache\u001b[0m \u001b[0;32mis\u001b[0m \u001b[0;32mNone\u001b[0m\u001b[0;34m:\u001b[0m\u001b[0;34m\u001b[0m\u001b[0;34m\u001b[0m\u001b[0m\n\u001b[1;32m   2309\u001b[0m             \u001b[0mf\u001b[0m \u001b[0;34m=\u001b[0m \u001b[0mself\u001b[0m\u001b[0;34m.\u001b[0m\u001b[0mf\u001b[0m\u001b[0;34m\u001b[0m\u001b[0;34m\u001b[0m\u001b[0m\n\u001b[0;32m-> 2310\u001b[0;31m             \u001b[0mself\u001b[0m\u001b[0;34m.\u001b[0m\u001b[0mcache\u001b[0m \u001b[0;34m=\u001b[0m \u001b[0mf\u001b[0m\u001b[0;34m(\u001b[0m\u001b[0mself\u001b[0m\u001b[0;34m.\u001b[0m\u001b[0m_instance\u001b[0m\u001b[0;34m)\u001b[0m\u001b[0;34m\u001b[0m\u001b[0;34m\u001b[0m\u001b[0m\n\u001b[0m\u001b[1;32m   2311\u001b[0m         \u001b[0;32mreturn\u001b[0m \u001b[0mself\u001b[0m\u001b[0;34m.\u001b[0m\u001b[0mcache\u001b[0m\u001b[0;34m\u001b[0m\u001b[0;34m\u001b[0m\u001b[0m\n\u001b[1;32m   2312\u001b[0m \u001b[0;34m\u001b[0m\u001b[0m\n",
      "\u001b[0;32m/opt/sagemath-9.0/local/lib/python3.7/site-packages/sage/rings/polynomial/polynomial_quotient_ring.py\u001b[0m in \u001b[0;36m_isomorphic_ring\u001b[0;34m(self)\u001b[0m\n\u001b[1;32m   1835\u001b[0m \u001b[0;34m\u001b[0m\u001b[0m\n\u001b[1;32m   1836\u001b[0m             \u001b[0;31m# the map to GF(N) maps our generator to a root of our modulus in the isomorphic_ring\u001b[0m\u001b[0;34m\u001b[0m\u001b[0;34m\u001b[0m\u001b[0;34m\u001b[0m\u001b[0m\n\u001b[0;32m-> 1837\u001b[0;31m             \u001b[0mbase_image\u001b[0m \u001b[0;34m=\u001b[0m \u001b[0mself\u001b[0m\u001b[0;34m.\u001b[0m\u001b[0mbase_ring\u001b[0m\u001b[0;34m(\u001b[0m\u001b[0;34m)\u001b[0m\u001b[0;34m.\u001b[0m\u001b[0mmodulus\u001b[0m\u001b[0;34m(\u001b[0m\u001b[0;34m)\u001b[0m\u001b[0;34m.\u001b[0m\u001b[0mchange_ring\u001b[0m\u001b[0;34m(\u001b[0m\u001b[0misomorphic_ring\u001b[0m\u001b[0;34m)\u001b[0m\u001b[0;34m.\u001b[0m\u001b[0many_root\u001b[0m\u001b[0;34m(\u001b[0m\u001b[0;34m)\u001b[0m\u001b[0;34m\u001b[0m\u001b[0;34m\u001b[0m\u001b[0m\n\u001b[0m\u001b[1;32m   1838\u001b[0m             \u001b[0mbase_to_isomorphic_ring\u001b[0m \u001b[0;34m=\u001b[0m \u001b[0mself\u001b[0m\u001b[0;34m.\u001b[0m\u001b[0mbase_ring\u001b[0m\u001b[0;34m(\u001b[0m\u001b[0;34m)\u001b[0m\u001b[0;34m.\u001b[0m\u001b[0mhom\u001b[0m\u001b[0;34m(\u001b[0m\u001b[0;34m[\u001b[0m\u001b[0misomorphic_ring\u001b[0m\u001b[0;34m(\u001b[0m\u001b[0mbase_image\u001b[0m\u001b[0;34m)\u001b[0m\u001b[0;34m]\u001b[0m\u001b[0;34m)\u001b[0m\u001b[0;34m\u001b[0m\u001b[0;34m\u001b[0m\u001b[0m\n\u001b[1;32m   1839\u001b[0m             \u001b[0mmodulus\u001b[0m \u001b[0;34m=\u001b[0m \u001b[0mself\u001b[0m\u001b[0;34m.\u001b[0m\u001b[0mmodulus\u001b[0m\u001b[0;34m(\u001b[0m\u001b[0;34m)\u001b[0m\u001b[0;34m.\u001b[0m\u001b[0mmap_coefficients\u001b[0m\u001b[0;34m(\u001b[0m\u001b[0mbase_to_isomorphic_ring\u001b[0m\u001b[0;34m)\u001b[0m\u001b[0;34m\u001b[0m\u001b[0;34m\u001b[0m\u001b[0m\n",
      "\u001b[0;32m/opt/sagemath-9.0/local/lib/python3.7/site-packages/sage/rings/polynomial/polynomial_element.pyx\u001b[0m in \u001b[0;36msage.rings.polynomial.polynomial_element.Polynomial.any_root (build/cythonized/sage/rings/polynomial/polynomial_element.c:19627)\u001b[0;34m()\u001b[0m\n\u001b[1;32m   2011\u001b[0m                 \u001b[0;32mfor\u001b[0m \u001b[0mf\u001b[0m\u001b[0;34m,\u001b[0m \u001b[0me\u001b[0m \u001b[0;32min\u001b[0m \u001b[0mSFD\u001b[0m\u001b[0;34m:\u001b[0m\u001b[0;34m\u001b[0m\u001b[0;34m\u001b[0m\u001b[0m\n\u001b[1;32m   2012\u001b[0m                     \u001b[0;32mtry\u001b[0m\u001b[0;34m:\u001b[0m\u001b[0;34m\u001b[0m\u001b[0;34m\u001b[0m\u001b[0m\n\u001b[0;32m-> 2013\u001b[0;31m                         \u001b[0;32mreturn\u001b[0m \u001b[0mf\u001b[0m\u001b[0;34m.\u001b[0m\u001b[0many_root\u001b[0m\u001b[0;34m(\u001b[0m\u001b[0mring\u001b[0m\u001b[0;34m,\u001b[0m \u001b[0mdegree\u001b[0m\u001b[0;34m,\u001b[0m \u001b[0;32mTrue\u001b[0m\u001b[0;34m)\u001b[0m\u001b[0;34m\u001b[0m\u001b[0;34m\u001b[0m\u001b[0m\n\u001b[0m\u001b[1;32m   2014\u001b[0m                     \u001b[0;32mexcept\u001b[0m \u001b[0mValueError\u001b[0m\u001b[0;34m:\u001b[0m\u001b[0;34m\u001b[0m\u001b[0;34m\u001b[0m\u001b[0m\n\u001b[1;32m   2015\u001b[0m                         \u001b[0;32mpass\u001b[0m\u001b[0;34m\u001b[0m\u001b[0;34m\u001b[0m\u001b[0m\n",
      "\u001b[0;32m/opt/sagemath-9.0/local/lib/python3.7/site-packages/sage/rings/polynomial/polynomial_element.pyx\u001b[0m in \u001b[0;36msage.rings.polynomial.polynomial_element.Polynomial.any_root (build/cythonized/sage/rings/polynomial/polynomial_element.c:21892)\u001b[0;34m()\u001b[0m\n\u001b[1;32m   2125\u001b[0m             \u001b[0;32mif\u001b[0m \u001b[0mq\u001b[0m \u001b[0;34m%\u001b[0m \u001b[0;36m2\u001b[0m \u001b[0;34m==\u001b[0m \u001b[0;36m0\u001b[0m\u001b[0;34m:\u001b[0m\u001b[0;34m\u001b[0m\u001b[0;34m\u001b[0m\u001b[0m\n\u001b[1;32m   2126\u001b[0m                 \u001b[0;32mwhile\u001b[0m \u001b[0;32mTrue\u001b[0m\u001b[0;34m:\u001b[0m\u001b[0;34m\u001b[0m\u001b[0;34m\u001b[0m\u001b[0m\n\u001b[0;32m-> 2127\u001b[0;31m                     \u001b[0mT\u001b[0m \u001b[0;34m=\u001b[0m \u001b[0mR\u001b[0m\u001b[0;34m.\u001b[0m\u001b[0mrandom_element\u001b[0m\u001b[0;34m(\u001b[0m\u001b[0;36m2\u001b[0m\u001b[0;34m*\u001b[0m\u001b[0mdegree\u001b[0m\u001b[0;34m-\u001b[0m\u001b[0;36m1\u001b[0m\u001b[0;34m)\u001b[0m\u001b[0;34m\u001b[0m\u001b[0;34m\u001b[0m\u001b[0m\n\u001b[0m\u001b[1;32m   2128\u001b[0m                     \u001b[0;32mif\u001b[0m \u001b[0mT\u001b[0m \u001b[0;34m==\u001b[0m \u001b[0;36m0\u001b[0m\u001b[0;34m:\u001b[0m\u001b[0;34m\u001b[0m\u001b[0;34m\u001b[0m\u001b[0m\n\u001b[1;32m   2129\u001b[0m                         \u001b[0;32mcontinue\u001b[0m\u001b[0;34m\u001b[0m\u001b[0;34m\u001b[0m\u001b[0m\n",
      "\u001b[0;32m/opt/sagemath-9.0/local/lib/python3.7/site-packages/sage/rings/polynomial/polynomial_ring.py\u001b[0m in \u001b[0;36mrandom_element\u001b[0;34m(self, degree, *args, **kwds)\u001b[0m\n\u001b[1;32m   1316\u001b[0m         \u001b[0;32mreturn\u001b[0m \u001b[0;36m1\u001b[0m\u001b[0;34m\u001b[0m\u001b[0;34m\u001b[0m\u001b[0m\n\u001b[1;32m   1317\u001b[0m \u001b[0;34m\u001b[0m\u001b[0m\n\u001b[0;32m-> 1318\u001b[0;31m     \u001b[0;32mdef\u001b[0m \u001b[0mrandom_element\u001b[0m\u001b[0;34m(\u001b[0m\u001b[0mself\u001b[0m\u001b[0;34m,\u001b[0m \u001b[0mdegree\u001b[0m\u001b[0;34m=\u001b[0m\u001b[0;34m(\u001b[0m\u001b[0;34m-\u001b[0m\u001b[0;36m1\u001b[0m\u001b[0;34m,\u001b[0m\u001b[0;36m2\u001b[0m\u001b[0;34m)\u001b[0m\u001b[0;34m,\u001b[0m \u001b[0;34m*\u001b[0m\u001b[0margs\u001b[0m\u001b[0;34m,\u001b[0m \u001b[0;34m**\u001b[0m\u001b[0mkwds\u001b[0m\u001b[0;34m)\u001b[0m\u001b[0;34m:\u001b[0m\u001b[0;34m\u001b[0m\u001b[0;34m\u001b[0m\u001b[0m\n\u001b[0m\u001b[1;32m   1319\u001b[0m         r\"\"\"\n\u001b[1;32m   1320\u001b[0m         \u001b[0mReturn\u001b[0m \u001b[0ma\u001b[0m \u001b[0mrandom\u001b[0m \u001b[0mpolynomial\u001b[0m \u001b[0mof\u001b[0m \u001b[0mgiven\u001b[0m \u001b[0mdegree\u001b[0m \u001b[0;32mor\u001b[0m \u001b[0;32mwith\u001b[0m \u001b[0mgiven\u001b[0m \u001b[0mdegree\u001b[0m \u001b[0mbounds\u001b[0m\u001b[0;34m.\u001b[0m\u001b[0;34m\u001b[0m\u001b[0;34m\u001b[0m\u001b[0m\n",
      "\u001b[0;32msrc/cysignals/signals.pyx\u001b[0m in \u001b[0;36mcysignals.signals.python_check_interrupt\u001b[0;34m()\u001b[0m\n",
      "\u001b[0;31mKeyboardInterrupt\u001b[0m: "
     ]
    }
   ],
   "source": [
    "ConstructSidon(2,5,4)"
   ]
  },
  {
   "cell_type": "code",
   "execution_count": null,
   "metadata": {},
   "outputs": [],
   "source": []
  }
 ],
 "metadata": {
  "kernelspec": {
   "display_name": "SageMath 9.0",
   "language": "sage",
   "name": "sagemath"
  },
  "language_info": {
   "codemirror_mode": {
    "name": "ipython",
    "version": 3
   },
   "file_extension": ".py",
   "mimetype": "text/x-python",
   "name": "python",
   "nbconvert_exporter": "python",
   "pygments_lexer": "ipython3",
   "version": "3.7.3"
  }
 },
 "nbformat": 4,
 "nbformat_minor": 2
}
