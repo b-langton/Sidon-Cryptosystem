{
 "cells": [
  {
   "cell_type": "code",
   "execution_count": 16,
   "metadata": {},
   "outputs": [],
   "source": [
    "load('../Sage Code/sidon_cryptosystem.sage')"
   ]
  },
  {
   "cell_type": "code",
   "execution_count": 17,
   "metadata": {},
   "outputs": [
    {
     "name": "stdout",
     "output_type": "stream",
     "text": [
      "[6 4 5 6 2 6]\n",
      "[3 1 2 3 3 6]\n",
      "[6 1 5 1 6 2]\n",
      "[4 0 5 2 6 6]\n",
      "[6 3 1 1 5 2]\n",
      "[6 2 6 2 2 4]\n"
     ]
    }
   ],
   "source": [
    "##Implementation of the first minrank attack in sidon cryptosystem paper\n",
    "##We first define the sidon space we are trying to break\n",
    "q = 7\n",
    "basefield = GF(q)\n",
    "k = 3\n",
    "r = 2\n",
    "rk = r*k\n",
    "y, F, F_r, d, c = ConstructSidon2k(q, k)\n",
    "##Construct the attacker's F_r\n",
    "y2, F2, F_r2, d2, c2 = ConstructSidon2k(q, k)\n",
    "matrixList, sidonbasis, mult_table, F_r_basis , origbasis = publicKey(y,q,F,F_r)"
   ]
  },
  {
   "cell_type": "code",
   "execution_count": 18,
   "metadata": {},
   "outputs": [
    {
     "name": "stdout",
     "output_type": "stream",
     "text": [
      "6 6 6\n"
     ]
    }
   ],
   "source": [
    "##Construct the attacker's basis of F and F_r\n",
    "iterations = 0\n",
    "sidonbasis = Matrix(basefield, k, lambda i,j: basefield.random_element()*0)\n",
    "##basis of F\n",
    "while sidonbasis.is_invertible() == False and iterations < 500:\n",
    "    element = F.random_element()\n",
    "    sidonbasis = Matrix([list(vector(element^(q^i))) for i in range(k)])\n",
    "    iterations += 1\n",
    "v = [F2(list(sidonbasis[i])) for i in range(k)]\n",
    "sidonbasis = [j*y2*y2^-1 for  j in v]\n",
    "sidonbasismat = Matrix([convertToLong(i) for i in sidonbasis])\n",
    "##Extend F to F_r\n",
    "F_r2basis = Matrix(basefield, k, lambda i,j: basefield.random_element()*0)\n",
    "while F_r2basis.is_invertible() == False and iterations < 500:\n",
    "    F_r2basis = sidonbasismat\n",
    "    stackmat = Matrix(basefield, rk - k, rk, lambda i, j: basefield.random_element())\n",
    "    F_r2basis = F_r2basis.stack(stackmat)\n",
    "    iterations += 1\n",
    "    print(F_r2basis.rank(), F_r2basis.nrows(), F_r2basis.ncols())"
   ]
  },
  {
   "cell_type": "code",
   "execution_count": 19,
   "metadata": {},
   "outputs": [],
   "source": [
    "F_r2basisels =  [convertFromLong(F_r2basis[i], F2, F_r2) for i in range(rk)]"
   ]
  },
  {
   "cell_type": "code",
   "execution_count": 20,
   "metadata": {
    "scrolled": true
   },
   "outputs": [],
   "source": [
    "##define variables\n",
    "g = ['g' + str(i) for i in range(rk)]"
   ]
  },
  {
   "cell_type": "code",
   "execution_count": 21,
   "metadata": {},
   "outputs": [
    {
     "name": "stdout",
     "output_type": "stream",
     "text": [
      "Defining g0, g1, g2, g3, g4, g5, b00, b01, b02, b03, b04, b05, b10, b11, b12, b13, b14, b15, b20, b21, b22, b23, b24, b25, b30, b31, b32, b33, b34, b35, b40, b41, b42, b43, b44, b45, b50, b51, b52, b53, b54, b55, u00, u10, u20, u01, u11, u21, u02, u12, u22\n"
     ]
    }
   ],
   "source": [
    "##create a polynomial ring over the variables in order to do symbolic calculations \n",
    "b = [[\"b\" + str(j) + str(i) for i in range(rk)] for j in range(rk)]\n",
    "u = [[\"u\" + str(j) + str(i) for i in range(k) for j in range(k)]]\n",
    "bvec = []\n",
    "uvec = []\n",
    "for i in b: \n",
    "    bvec += i\n",
    "for i in u: \n",
    "    uvec += i\n",
    "R = PolynomialRing(F_r2, g + bvec + uvec)\n",
    "indeterminates = R.gens()\n",
    "R.inject_variables()\n",
    "\n",
    "for i in range(rk): \n",
    "    g[i] = R(g[i])\n",
    "for i in range(k*k): \n",
    "    uvec[i] = R(uvec[i])\n",
    "for i in range(rk*rk):\n",
    "    bvec[i] = R(bvec[i])\n",
    "y2 = vector(g).row()*vector(F_r2basisels).column()\n",
    "F_r2_q = vector([R(i^q) for i in F_r2basisels])"
   ]
  },
  {
   "cell_type": "code",
   "execution_count": 22,
   "metadata": {},
   "outputs": [],
   "source": [
    "v = [] \n",
    "for i in range(k):\n",
    "    v += vector(uvec[i*k:(i+1)*k]).row()*vector(F_r2basisels[0:k]).column() + y2*vector(uvec[i*k:(i+1)*k]).row()*vector(F_r2_q[0:k]).column() "
   ]
  },
  {
   "cell_type": "code",
   "execution_count": 23,
   "metadata": {},
   "outputs": [],
   "source": [
    "B = [0 for i in range(rk)]\n",
    "for i in range(rk): \n",
    "\n",
    "    for j in range(rk):\n",
    "        B[i] += R(bvec[i*rk + j])*R(F_r2_q[j])"
   ]
  },
  {
   "cell_type": "code",
   "execution_count": 24,
   "metadata": {},
   "outputs": [
    {
     "data": {
      "text/plain": [
       "[b00, b01, b02, b03, b04, b05]"
      ]
     },
     "execution_count": 24,
     "metadata": {},
     "output_type": "execute_result"
    }
   ],
   "source": [
    "bvec[0:rk]"
   ]
  },
  {
   "cell_type": "code",
   "execution_count": 25,
   "metadata": {},
   "outputs": [],
   "source": [
    "v_mult_table =[[v[i]*v[j] for i in range(len(v))] for j in range(len(v))]"
   ]
  },
  {
   "cell_type": "code",
   "execution_count": 26,
   "metadata": {},
   "outputs": [],
   "source": [
    "B_table = [[0 for i in range(k)] for j in range(k)]\n",
    "eq_table = [[0 for i in range(k)] for j in range(k)]\n",
    "for i in range(k): \n",
    "    for j in range(k): \n",
    "        sum1 = 0\n",
    "        for l in range(rk): \n",
    "            sum1 += R(matrixList[l][i][j])*B[l]\n",
    "        B_table[i][j] = sum1  \n",
    "        eq_table[i][j] = R(v_mult_table[i][j])  - sum1"
   ]
  },
  {
   "cell_type": "code",
   "execution_count": 27,
   "metadata": {},
   "outputs": [
    {
     "data": {
      "text/plain": [
       "Ambient free module of rank 6 over the integral domain Multivariate Polynomial Ring in g0, g1, g2, g3, g4, g5, b00, b01, b02, b03, b04, b05, b10, b11, b12, b13, b14, b15, b20, b21, b22, b23, b24, b25, b30, b31, b32, b33, b34, b35, b40, b41, b42, b43, b44, b45, b50, b51, b52, b53, b54, b55, u00, u10, u20, u01, u11, u21, u02, u12, u22 over Univariate Quotient Polynomial Ring in a over Finite Field in z of size 7^3 with modulus a^2 + 6*z^2 + 6"
      ]
     },
     "execution_count": 27,
     "metadata": {},
     "output_type": "execute_result"
    }
   ],
   "source": [
    "(convertToLong(F_r2(list(eq_table[0][0])[0][0]))*F_r2basis.inverse()*g0).parent()"
   ]
  },
  {
   "cell_type": "code",
   "execution_count": 28,
   "metadata": {},
   "outputs": [],
   "source": [
    "vectorized_eq_table = [[0 for i in range(k)] for j in range(k)]\n",
    "for i in range(k): \n",
    "    for j in range(k): \n",
    "        if i > j: \n",
    "            continue\n",
    "        else: \n",
    "            eqvec = list(eq_table[i][j])\n",
    "            sumvec = vector([0 for l in range(rk)])\n",
    "            for term in eqvec: \n",
    "                coeff = term[0]\n",
    "                monomial = term[1]\n",
    "                coeff = convertToLong(F_r2(coeff))\n",
    "                rep = coeff*F_r2basis.inverse()\n",
    "                sumvec += rep*monomial\n",
    "        vectorized_eq_table[i][j] = sumvec"
   ]
  },
  {
   "cell_type": "code",
   "execution_count": 32,
   "metadata": {},
   "outputs": [
    {
     "data": {
      "text/plain": [
       "5*g0^2*u00*u01 - g0*g1*u00*u01 - g1^2*u00*u01 + 5*g1*g2*u00*u01 + 4*g2^2*u00*u01 + 4*g0*g3*u00*u01 + g1*g3*u00*u01 + 4*g2*g3*u00*u01 + 5*g3^2*u00*u01 + g0*g4*u00*u01 + 2*g1*g4*u00*u01 - g2*g4*u00*u01 + 2*g3*g4*u00*u01 + 4*g0*g5*u00*u01 + g1*g5*u00*u01 + 2*g3*g5*u00*u01 + g4*g5*u00*u01 + g5^2*u00*u01 - g1^2*u10*u01 - g0*g2*u10*u01 + g1*g2*u10*u01 + g2^2*u10*u01 + 4*g1*g3*u10*u01 + 2*g2*g3*u10*u01 - g3^2*u10*u01 - g1*g4*u10*u01 + 2*g3*g4*u10*u01 + 4*g4^2*u10*u01 + g2*g5*u10*u01 + 4*g3*g5*u10*u01 + 3*g4*g5*u10*u01 - g5^2*u10*u01 + 3*g0*g1*u20*u01 + 3*g1^2*u20*u01 + 3*g2^2*u20*u01 + g0*g3*u20*u01 + 4*g1*g3*u20*u01 + g3^2*u20*u01 + 5*g0*g4*u20*u01 + g1*g4*u20*u01 + 4*g3*g4*u20*u01 - g4^2*u20*u01 + 4*g1*g5*u20*u01 + 5*g3*g5*u20*u01 + 2*g5^2*u20*u01 - g1^2*u00*u11 - g0*g2*u00*u11 + g1*g2*u00*u11 + g2^2*u00*u11 + 4*g1*g3*u00*u11 + 2*g2*g3*u00*u11 - g3^2*u00*u11 - g1*g4*u00*u11 + 2*g3*g4*u00*u11 + 4*g4^2*u00*u11 + g2*g5*u00*u11 + 4*g3*g5*u00*u11 + 3*g4*g5*u00*u11 - g5^2*u00*u11 - g0*g1*u10*u11 + 4*g1^2*u10*u11 + 5*g0*g2*u10*u11 + 2*g1*g2*u10*u11 + g2^2*u10*u11 + 2*g0*g3*u10*u11 + 2*g1*g3*u10*u11 + 4*g2*g3*u10*u11 + 3*g0*g4*u10*u11 + 5*g3*g4*u10*u11 - g4^2*u10*u11 + g1*g5*u10*u11 + 2*g2*g5*u10*u11 + 4*g3*g5*u10*u11 - g4*g5*u10*u11 + 2*g5^2*u10*u11 - g0^2*u20*u11 - g1*g2*u20*u11 - g2^2*u20*u11 + g0*g3*u20*u11 + 2*g2*g3*u20*u11 + 5*g3^2*u20*u11 - g0*g4*u20*u11 + 3*g2*g4*u20*u11 + 4*g3*g4*u20*u11 + g4^2*u20*u11 + 2*g0*g5*u20*u11 + 3*g3*g5*u20*u11 + 4*g4*g5*u20*u11 + 2*g5^2*u20*u11 + 3*g0*g1*u00*u21 + 3*g1^2*u00*u21 + 3*g2^2*u00*u21 + g0*g3*u00*u21 + 4*g1*g3*u00*u21 + g3^2*u00*u21 + 5*g0*g4*u00*u21 + g1*g4*u00*u21 + 4*g3*g4*u00*u21 - g4^2*u00*u21 + 4*g1*g5*u00*u21 + 5*g3*g5*u00*u21 + 2*g5^2*u00*u21 - g0^2*u10*u21 - g1*g2*u10*u21 - g2^2*u10*u21 + g0*g3*u10*u21 + 2*g2*g3*u10*u21 + 5*g3^2*u10*u21 - g0*g4*u10*u21 + 3*g2*g4*u10*u21 + 4*g3*g4*u10*u21 + g4^2*u10*u21 + 2*g0*g5*u10*u21 + 3*g3*g5*u10*u21 + 4*g4*g5*u10*u21 + 2*g5^2*u10*u21 + 5*g0^2*u20*u21 + 5*g1^2*u20*u21 + 5*g0*g2*u20*u21 + 2*g0*g3*u20*u21 + g1*g3*u20*u21 + g2*g3*u20*u21 + g3^2*u20*u21 + 5*g0*g4*u20*u21 + 5*g1*g4*u20*u21 - g2*g4*u20*u21 + 5*g3*g4*u20*u21 + 3*g4^2*u20*u21 + 4*g0*g5*u20*u21 + 2*g2*g5*u20*u21 + 2*g5^2*u20*u21 + 3*g0*u00*u01 + 2*g1*u00*u01 - g2*u00*u01 + 5*g3*u00*u01 - g4*u00*u01 + 4*g5*u00*u01 + 4*g1*u10*u01 + 5*g2*u10*u01 - g3*u10*u01 + 2*g4*u10*u01 + g1*u20*u01 + 5*g3*u20*u01 + 4*g4*u20*u01 + 4*g1*u00*u11 + 5*g2*u00*u11 - g3*u00*u11 + 2*g4*u00*u11 - g0*u10*u11 - g1*u10*u11 + 2*g2*u10*u11 - g3*u10*u11 - g4*u10*u11 + g5*u10*u11 + 2*g1*u20*u11 + 4*g2*u20*u11 + 3*g3*u20*u11 + g4*u20*u11 + g1*u00*u21 + 5*g3*u00*u21 + 4*g4*u00*u21 + 2*g1*u10*u21 + 4*g2*u10*u21 + 3*g3*u10*u21 + g4*u10*u21 + 5*g0*u20*u21 - g1*u20*u21 + 4*g2*u20*u21 + 3*g3*u20*u21 + 2*g4*u20*u21 + 2*g5*u20*u21 + u00*u01 + 2*u10*u01 + 4*u20*u01 + 2*u00*u11 + 5*u10*u11 + 4*u00*u21 + 4*u20*u21 + b11 - b13 - b14 + 5*b15 - b21 + b23 + b24 + 2*b25 + 3*b31 + 4*b33 + 4*b34 + b35"
      ]
     },
     "execution_count": 32,
     "metadata": {},
     "output_type": "execute_result"
    }
   ],
   "source": [
    "vectorized_eq_table[0][1][2]"
   ]
  },
  {
   "cell_type": "code",
   "execution_count": null,
   "metadata": {},
   "outputs": [],
   "source": []
  },
  {
   "cell_type": "code",
   "execution_count": 2,
   "metadata": {},
   "outputs": [],
   "source": [
    "##Algebraic attack implementation is also here\n",
    "def makePublicKey(q,k):\n",
    "    basefield = GF(q)\n",
    "    rk = 2*k\n",
    "    y, F, F_r, d, c = ConstructSidon2k(q, k)\n",
    "    ##Construct the attacker's F_r\n",
    "    y2, F2, F_r2, d2, c2 = ConstructSidon2k(q, k)\n",
    "    matrixList, sidonbasis, mult_table, F_r_basis , origbasis = publicKey(y,q,F,F_r)\n",
    "    return matrixList\n",
    "def algebraicAttack(q,k,a,b, matrixList):\n",
    "    rhs = [a.row()*i*b.column() for i in matrixList]\n",
    "    R_ = PolynomialRing(GF(q), ['x' + str(i) for i in range(2*k)] + ['xn'], order = \"degrevlex\")\n",
    "    indeterminates = R_.gens()[:-1]\n",
    "    xn = R_.gens()[-1]\n",
    "    R_.inject_variables()\n",
    "    a1 = vector(indeterminates[0:k])\n",
    "    b1 = vector(indeterminates[k:])\n",
    "    system = [a1.row()*i*b1.column() for i in matrixList]\n",
    "    system = [system[i][0][0] - rhs[i][0][0]*xn^2 for i in range(len(system))]\n",
    "    I = ideal(system)\n",
    "    gb = I.groebner_basis()\n",
    "    I = ideal(gb)\n",
    "    I  = I.subs(x0 = 1)\n",
    "    I = I.subs(xn= 1)\n",
    "    R_  = R_.remove_var(xn)\n",
    "    R_  = R_.remove_var(x0)\n",
    "    gens = [R_(i) for i in I.gens()]\n",
    "    I = ideal(gens)\n",
    "    I = I.groebner_basis()\n",
    "    I = I.ideal()\n",
    "    return I, matrixList"
   ]
  },
  {
   "cell_type": "code",
   "execution_count": null,
   "metadata": {},
   "outputs": [],
   "source": [
    "q = 7\n",
    "k = 4\n",
    "a = vector([5,1,2,1])\n",
    "b = vector([1,2,1,4])\n",
    "makePublicKey(q,k)\n",
    "c, d = algebraicAttack(q,k,a,b, matrixList)"
   ]
  },
  {
   "cell_type": "code",
   "execution_count": null,
   "metadata": {},
   "outputs": [],
   "source": [
    "a1 = vector(indeterminates[0:k])\n",
    "b1 = vector(indeterminates[k:])\n",
    "system = [a1.row()*i*b1.column() for i in matrixList]"
   ]
  },
  {
   "cell_type": "code",
   "execution_count": null,
   "metadata": {},
   "outputs": [],
   "source": [
    "c"
   ]
  },
  {
   "cell_type": "code",
   "execution_count": null,
   "metadata": {},
   "outputs": [],
   "source": []
  },
  {
   "cell_type": "code",
   "execution_count": null,
   "metadata": {},
   "outputs": [],
   "source": [
    "R_.is_commutative()"
   ]
  },
  {
   "cell_type": "code",
   "execution_count": null,
   "metadata": {},
   "outputs": [],
   "source": []
  },
  {
   "cell_type": "code",
   "execution_count": null,
   "metadata": {},
   "outputs": [],
   "source": [
    "system[0][0][0].parent()"
   ]
  },
  {
   "cell_type": "code",
   "execution_count": 3,
   "metadata": {},
   "outputs": [
    {
     "name": "stdout",
     "output_type": "stream",
     "text": [
      "[3 3 4 0 6 4 4 2 6 4 5 3 0 0]\n",
      "[0 4 5 4 2 1 6 5 0 5 2 3 6 3]\n",
      "[0 1 2 6 6 5 6 1 6 1 1 1 4 1]\n",
      "[3 0 2 1 6 1 6 0 2 5 6 0 3 1]\n",
      "[0 4 5 0 0 2 2 3 3 3 3 3 4 6]\n",
      "[1 6 4 2 2 1 3 6 4 1 0 6 3 0]\n",
      "[6 6 6 4 1 1 2 4 3 6 4 3 2 5]\n",
      "[5 1 3 6 5 5 0 3 0 5 0 2 1 0]\n",
      "[0 6 6 3 3 1 1 4 0 6 6 6 2 4]\n",
      "[3 4 1 2 3 1 2 1 5 2 3 6 1 2]\n",
      "[0 6 1 2 3 6 5 2 3 3 5 4 6 4]\n",
      "[5 4 6 5 2 4 0 4 6 3 6 5 5 5]\n",
      "[4 1 6 3 6 1 6 5 4 2 1 6 0 0]\n",
      "[1 1 5 0 2 3 6 1 4 6 1 2 3 4]\n",
      "Defining x0, x1, x2, x3, x4, x5, x6, x7, x8, x9, x10, x11, x12, x13, xn\n"
     ]
    },
    {
     "ename": "KeyboardInterrupt",
     "evalue": "",
     "output_type": "error",
     "traceback": [
      "\u001b[0;31m---------------------------------------------------------------------------\u001b[0m",
      "\u001b[0;31mKeyError\u001b[0m                                  Traceback (most recent call last)",
      "\u001b[0;32m/opt/sagemath-9.0/local/lib/python3.7/site-packages/sage/misc/cachefunc.pyx\u001b[0m in \u001b[0;36msage.misc.cachefunc.CachedMethodCaller.__call__ (build/cythonized/sage/misc/cachefunc.c:10139)\u001b[0;34m()\u001b[0m\n\u001b[1;32m   1942\u001b[0m             \u001b[0;32mtry\u001b[0m\u001b[0;34m:\u001b[0m\u001b[0;34m\u001b[0m\u001b[0;34m\u001b[0m\u001b[0m\n\u001b[0;32m-> 1943\u001b[0;31m                 \u001b[0;32mreturn\u001b[0m \u001b[0mcache\u001b[0m\u001b[0;34m[\u001b[0m\u001b[0mk\u001b[0m\u001b[0;34m]\u001b[0m\u001b[0;34m\u001b[0m\u001b[0;34m\u001b[0m\u001b[0m\n\u001b[0m\u001b[1;32m   1944\u001b[0m             \u001b[0;32mexcept\u001b[0m \u001b[0mTypeError\u001b[0m\u001b[0;34m:\u001b[0m  \u001b[0;31m# k is not hashable\u001b[0m\u001b[0;34m\u001b[0m\u001b[0;34m\u001b[0m\u001b[0m\n",
      "\u001b[0;31mKeyError\u001b[0m: (('', None, None, False), ())",
      "\nDuring handling of the above exception, another exception occurred:\n",
      "\u001b[0;31mKeyboardInterrupt\u001b[0m                         Traceback (most recent call last)",
      "\u001b[0;32m<ipython-input-3-8a59e686b73d>\u001b[0m in \u001b[0;36m<module>\u001b[0;34m()\u001b[0m\n\u001b[1;32m      2\u001b[0m \u001b[0ma\u001b[0m \u001b[0;34m=\u001b[0m \u001b[0mvector\u001b[0m\u001b[0;34m(\u001b[0m\u001b[0;34m[\u001b[0m\u001b[0mInteger\u001b[0m\u001b[0;34m(\u001b[0m\u001b[0;36m1\u001b[0m\u001b[0;34m)\u001b[0m\u001b[0;34m,\u001b[0m\u001b[0mInteger\u001b[0m\u001b[0;34m(\u001b[0m\u001b[0;36m2\u001b[0m\u001b[0;34m)\u001b[0m\u001b[0;34m,\u001b[0m\u001b[0mInteger\u001b[0m\u001b[0;34m(\u001b[0m\u001b[0;36m3\u001b[0m\u001b[0;34m)\u001b[0m\u001b[0;34m,\u001b[0m\u001b[0mInteger\u001b[0m\u001b[0;34m(\u001b[0m\u001b[0;36m4\u001b[0m\u001b[0;34m)\u001b[0m\u001b[0;34m,\u001b[0m\u001b[0mInteger\u001b[0m\u001b[0;34m(\u001b[0m\u001b[0;36m5\u001b[0m\u001b[0;34m)\u001b[0m\u001b[0;34m,\u001b[0m\u001b[0mInteger\u001b[0m\u001b[0;34m(\u001b[0m\u001b[0;36m6\u001b[0m\u001b[0;34m)\u001b[0m\u001b[0;34m,\u001b[0m\u001b[0mInteger\u001b[0m\u001b[0;34m(\u001b[0m\u001b[0;36m0\u001b[0m\u001b[0;34m)\u001b[0m\u001b[0;34m]\u001b[0m\u001b[0;34m)\u001b[0m\u001b[0;34m\u001b[0m\u001b[0;34m\u001b[0m\u001b[0m\n\u001b[1;32m      3\u001b[0m \u001b[0mb\u001b[0m \u001b[0;34m=\u001b[0m \u001b[0mvector\u001b[0m\u001b[0;34m(\u001b[0m\u001b[0;34m[\u001b[0m\u001b[0mInteger\u001b[0m\u001b[0;34m(\u001b[0m\u001b[0;36m0\u001b[0m\u001b[0;34m)\u001b[0m\u001b[0;34m,\u001b[0m\u001b[0mInteger\u001b[0m\u001b[0;34m(\u001b[0m\u001b[0;36m1\u001b[0m\u001b[0;34m)\u001b[0m\u001b[0;34m,\u001b[0m\u001b[0mInteger\u001b[0m\u001b[0;34m(\u001b[0m\u001b[0;36m2\u001b[0m\u001b[0;34m)\u001b[0m\u001b[0;34m,\u001b[0m\u001b[0mInteger\u001b[0m\u001b[0;34m(\u001b[0m\u001b[0;36m3\u001b[0m\u001b[0;34m)\u001b[0m\u001b[0;34m,\u001b[0m\u001b[0mInteger\u001b[0m\u001b[0;34m(\u001b[0m\u001b[0;36m4\u001b[0m\u001b[0;34m)\u001b[0m\u001b[0;34m,\u001b[0m\u001b[0mInteger\u001b[0m\u001b[0;34m(\u001b[0m\u001b[0;36m5\u001b[0m\u001b[0;34m)\u001b[0m\u001b[0;34m,\u001b[0m\u001b[0mInteger\u001b[0m\u001b[0;34m(\u001b[0m\u001b[0;36m6\u001b[0m\u001b[0;34m)\u001b[0m\u001b[0;34m]\u001b[0m\u001b[0;34m)\u001b[0m\u001b[0;34m\u001b[0m\u001b[0;34m\u001b[0m\u001b[0m\n\u001b[0;32m----> 4\u001b[0;31m \u001b[0mi1\u001b[0m\u001b[0;34m,\u001b[0m \u001b[0mm\u001b[0m \u001b[0;34m=\u001b[0m \u001b[0malgebraicAttack\u001b[0m\u001b[0;34m(\u001b[0m\u001b[0mInteger\u001b[0m\u001b[0;34m(\u001b[0m\u001b[0;36m7\u001b[0m\u001b[0;34m)\u001b[0m\u001b[0;34m,\u001b[0m\u001b[0mInteger\u001b[0m\u001b[0;34m(\u001b[0m\u001b[0;36m7\u001b[0m\u001b[0;34m)\u001b[0m\u001b[0;34m,\u001b[0m\u001b[0ma\u001b[0m\u001b[0;34m,\u001b[0m\u001b[0mb\u001b[0m\u001b[0;34m,\u001b[0m\u001b[0mmatrixList\u001b[0m\u001b[0;34m)\u001b[0m\u001b[0;34m\u001b[0m\u001b[0;34m\u001b[0m\u001b[0m\n\u001b[0m",
      "\u001b[0;32m<ipython-input-2-4a584b51bb21>\u001b[0m in \u001b[0;36malgebraicAttack\u001b[0;34m(q, k, a, b, matrixList)\u001b[0m\n\u001b[1;32m     19\u001b[0m     \u001b[0msystem\u001b[0m \u001b[0;34m=\u001b[0m \u001b[0;34m[\u001b[0m\u001b[0msystem\u001b[0m\u001b[0;34m[\u001b[0m\u001b[0mi\u001b[0m\u001b[0;34m]\u001b[0m\u001b[0;34m[\u001b[0m\u001b[0mInteger\u001b[0m\u001b[0;34m(\u001b[0m\u001b[0;36m0\u001b[0m\u001b[0;34m)\u001b[0m\u001b[0;34m]\u001b[0m\u001b[0;34m[\u001b[0m\u001b[0mInteger\u001b[0m\u001b[0;34m(\u001b[0m\u001b[0;36m0\u001b[0m\u001b[0;34m)\u001b[0m\u001b[0;34m]\u001b[0m \u001b[0;34m-\u001b[0m \u001b[0mrhs\u001b[0m\u001b[0;34m[\u001b[0m\u001b[0mi\u001b[0m\u001b[0;34m]\u001b[0m\u001b[0;34m[\u001b[0m\u001b[0mInteger\u001b[0m\u001b[0;34m(\u001b[0m\u001b[0;36m0\u001b[0m\u001b[0;34m)\u001b[0m\u001b[0;34m]\u001b[0m\u001b[0;34m[\u001b[0m\u001b[0mInteger\u001b[0m\u001b[0;34m(\u001b[0m\u001b[0;36m0\u001b[0m\u001b[0;34m)\u001b[0m\u001b[0;34m]\u001b[0m\u001b[0;34m*\u001b[0m\u001b[0mxn\u001b[0m\u001b[0;34m**\u001b[0m\u001b[0mInteger\u001b[0m\u001b[0;34m(\u001b[0m\u001b[0;36m2\u001b[0m\u001b[0;34m)\u001b[0m \u001b[0;32mfor\u001b[0m \u001b[0mi\u001b[0m \u001b[0;32min\u001b[0m \u001b[0mrange\u001b[0m\u001b[0;34m(\u001b[0m\u001b[0mlen\u001b[0m\u001b[0;34m(\u001b[0m\u001b[0msystem\u001b[0m\u001b[0;34m)\u001b[0m\u001b[0;34m)\u001b[0m\u001b[0;34m]\u001b[0m\u001b[0;34m\u001b[0m\u001b[0;34m\u001b[0m\u001b[0m\n\u001b[1;32m     20\u001b[0m     \u001b[0mI\u001b[0m \u001b[0;34m=\u001b[0m \u001b[0mideal\u001b[0m\u001b[0;34m(\u001b[0m\u001b[0msystem\u001b[0m\u001b[0;34m)\u001b[0m\u001b[0;34m\u001b[0m\u001b[0;34m\u001b[0m\u001b[0m\n\u001b[0;32m---> 21\u001b[0;31m     \u001b[0mgb\u001b[0m \u001b[0;34m=\u001b[0m \u001b[0mI\u001b[0m\u001b[0;34m.\u001b[0m\u001b[0mgroebner_basis\u001b[0m\u001b[0;34m(\u001b[0m\u001b[0;34m)\u001b[0m\u001b[0;34m\u001b[0m\u001b[0;34m\u001b[0m\u001b[0m\n\u001b[0m\u001b[1;32m     22\u001b[0m     \u001b[0mI\u001b[0m \u001b[0;34m=\u001b[0m \u001b[0mideal\u001b[0m\u001b[0;34m(\u001b[0m\u001b[0mgb\u001b[0m\u001b[0;34m)\u001b[0m\u001b[0;34m\u001b[0m\u001b[0;34m\u001b[0m\u001b[0m\n\u001b[1;32m     23\u001b[0m     \u001b[0mI\u001b[0m  \u001b[0;34m=\u001b[0m \u001b[0mI\u001b[0m\u001b[0;34m.\u001b[0m\u001b[0msubs\u001b[0m\u001b[0;34m(\u001b[0m\u001b[0mx0\u001b[0m \u001b[0;34m=\u001b[0m \u001b[0mInteger\u001b[0m\u001b[0;34m(\u001b[0m\u001b[0;36m1\u001b[0m\u001b[0;34m)\u001b[0m\u001b[0;34m)\u001b[0m\u001b[0;34m\u001b[0m\u001b[0;34m\u001b[0m\u001b[0m\n",
      "\u001b[0;32m/opt/sagemath-9.0/local/lib/python3.7/site-packages/sage/misc/cachefunc.pyx\u001b[0m in \u001b[0;36msage.misc.cachefunc.CachedMethodCaller.__call__ (build/cythonized/sage/misc/cachefunc.c:10273)\u001b[0;34m()\u001b[0m\n\u001b[1;32m   1946\u001b[0m                 \u001b[0;32mreturn\u001b[0m \u001b[0mcache\u001b[0m\u001b[0;34m[\u001b[0m\u001b[0mk\u001b[0m\u001b[0;34m]\u001b[0m\u001b[0;34m\u001b[0m\u001b[0;34m\u001b[0m\u001b[0m\n\u001b[1;32m   1947\u001b[0m         \u001b[0;32mexcept\u001b[0m \u001b[0mKeyError\u001b[0m\u001b[0;34m:\u001b[0m\u001b[0;34m\u001b[0m\u001b[0;34m\u001b[0m\u001b[0m\n\u001b[0;32m-> 1948\u001b[0;31m             \u001b[0mw\u001b[0m \u001b[0;34m=\u001b[0m \u001b[0mself\u001b[0m\u001b[0;34m.\u001b[0m\u001b[0m_instance_call\u001b[0m\u001b[0;34m(\u001b[0m\u001b[0;34m*\u001b[0m\u001b[0margs\u001b[0m\u001b[0;34m,\u001b[0m \u001b[0;34m**\u001b[0m\u001b[0mkwds\u001b[0m\u001b[0;34m)\u001b[0m\u001b[0;34m\u001b[0m\u001b[0;34m\u001b[0m\u001b[0m\n\u001b[0m\u001b[1;32m   1949\u001b[0m             \u001b[0mcache\u001b[0m\u001b[0;34m[\u001b[0m\u001b[0mk\u001b[0m\u001b[0;34m]\u001b[0m \u001b[0;34m=\u001b[0m \u001b[0mw\u001b[0m\u001b[0;34m\u001b[0m\u001b[0;34m\u001b[0m\u001b[0m\n\u001b[1;32m   1950\u001b[0m             \u001b[0;32mreturn\u001b[0m \u001b[0mw\u001b[0m\u001b[0;34m\u001b[0m\u001b[0;34m\u001b[0m\u001b[0m\n",
      "\u001b[0;32m/opt/sagemath-9.0/local/lib/python3.7/site-packages/sage/misc/cachefunc.pyx\u001b[0m in \u001b[0;36msage.misc.cachefunc.CachedMethodCaller._instance_call (build/cythonized/sage/misc/cachefunc.c:9758)\u001b[0;34m()\u001b[0m\n\u001b[1;32m   1822\u001b[0m             \u001b[0;32mTrue\u001b[0m\u001b[0;34m\u001b[0m\u001b[0;34m\u001b[0m\u001b[0m\n\u001b[1;32m   1823\u001b[0m         \"\"\"\n\u001b[0;32m-> 1824\u001b[0;31m         \u001b[0;32mreturn\u001b[0m \u001b[0mself\u001b[0m\u001b[0;34m.\u001b[0m\u001b[0mf\u001b[0m\u001b[0;34m(\u001b[0m\u001b[0mself\u001b[0m\u001b[0;34m.\u001b[0m\u001b[0m_instance\u001b[0m\u001b[0;34m,\u001b[0m \u001b[0;34m*\u001b[0m\u001b[0margs\u001b[0m\u001b[0;34m,\u001b[0m \u001b[0;34m**\u001b[0m\u001b[0mkwds\u001b[0m\u001b[0;34m)\u001b[0m\u001b[0;34m\u001b[0m\u001b[0;34m\u001b[0m\u001b[0m\n\u001b[0m\u001b[1;32m   1825\u001b[0m \u001b[0;34m\u001b[0m\u001b[0m\n\u001b[1;32m   1826\u001b[0m     \u001b[0mcdef\u001b[0m \u001b[0mfix_args_kwds\u001b[0m\u001b[0;34m(\u001b[0m\u001b[0mself\u001b[0m\u001b[0;34m,\u001b[0m \u001b[0mtuple\u001b[0m \u001b[0margs\u001b[0m\u001b[0;34m,\u001b[0m \u001b[0mdict\u001b[0m \u001b[0mkwds\u001b[0m\u001b[0;34m)\u001b[0m\u001b[0;34m:\u001b[0m\u001b[0;34m\u001b[0m\u001b[0;34m\u001b[0m\u001b[0m\n",
      "\u001b[0;32m/opt/sagemath-9.0/local/lib/python3.7/site-packages/sage/rings/qqbar_decorators.py\u001b[0m in \u001b[0;36mwrapper\u001b[0;34m(*args, **kwds)\u001b[0m\n\u001b[1;32m     68\u001b[0m         if not any([isinstance(a, (Polynomial, MPolynomial, Ideal_generic))\n\u001b[1;32m     69\u001b[0m                     and isinstance(a.base_ring(), AlgebraicField_common) for a in args]):\n\u001b[0;32m---> 70\u001b[0;31m             \u001b[0;32mreturn\u001b[0m \u001b[0mfunc\u001b[0m\u001b[0;34m(\u001b[0m\u001b[0;34m*\u001b[0m\u001b[0margs\u001b[0m\u001b[0;34m,\u001b[0m \u001b[0;34m**\u001b[0m\u001b[0mkwds\u001b[0m\u001b[0;34m)\u001b[0m\u001b[0;34m\u001b[0m\u001b[0;34m\u001b[0m\u001b[0m\n\u001b[0m\u001b[1;32m     71\u001b[0m \u001b[0;34m\u001b[0m\u001b[0m\n\u001b[1;32m     72\u001b[0m         \u001b[0mpolynomials\u001b[0m \u001b[0;34m=\u001b[0m \u001b[0;34m[\u001b[0m\u001b[0;34m]\u001b[0m\u001b[0;34m\u001b[0m\u001b[0;34m\u001b[0m\u001b[0m\n",
      "\u001b[0;32m/opt/sagemath-9.0/local/lib/python3.7/site-packages/sage/rings/polynomial/multi_polynomial_ideal.py\u001b[0m in \u001b[0;36mgroebner_basis\u001b[0;34m(self, algorithm, deg_bound, mult_bound, prot, *args, **kwds)\u001b[0m\n\u001b[1;32m   4178\u001b[0m         \u001b[0;32mif\u001b[0m \u001b[0;32mnot\u001b[0m \u001b[0malgorithm\u001b[0m\u001b[0;34m:\u001b[0m\u001b[0;34m\u001b[0m\u001b[0;34m\u001b[0m\u001b[0m\n\u001b[1;32m   4179\u001b[0m             \u001b[0;32mtry\u001b[0m\u001b[0;34m:\u001b[0m\u001b[0;34m\u001b[0m\u001b[0;34m\u001b[0m\u001b[0m\n\u001b[0;32m-> 4180\u001b[0;31m                 \u001b[0mgb\u001b[0m \u001b[0;34m=\u001b[0m \u001b[0mself\u001b[0m\u001b[0;34m.\u001b[0m\u001b[0m_groebner_basis_libsingular\u001b[0m\u001b[0;34m(\u001b[0m\u001b[0;34m\"groebner\"\u001b[0m\u001b[0;34m,\u001b[0m \u001b[0mdeg_bound\u001b[0m\u001b[0;34m=\u001b[0m\u001b[0mdeg_bound\u001b[0m\u001b[0;34m,\u001b[0m \u001b[0mmult_bound\u001b[0m\u001b[0;34m=\u001b[0m\u001b[0mmult_bound\u001b[0m\u001b[0;34m,\u001b[0m \u001b[0;34m*\u001b[0m\u001b[0margs\u001b[0m\u001b[0;34m,\u001b[0m \u001b[0;34m**\u001b[0m\u001b[0mkwds\u001b[0m\u001b[0;34m)\u001b[0m\u001b[0;34m\u001b[0m\u001b[0;34m\u001b[0m\u001b[0m\n\u001b[0m\u001b[1;32m   4181\u001b[0m             \u001b[0;32mexcept\u001b[0m \u001b[0;34m(\u001b[0m\u001b[0mTypeError\u001b[0m\u001b[0;34m,\u001b[0m \u001b[0mNameError\u001b[0m\u001b[0;34m)\u001b[0m\u001b[0;34m:\u001b[0m \u001b[0;31m# conversion to Singular not supported\u001b[0m\u001b[0;34m\u001b[0m\u001b[0;34m\u001b[0m\u001b[0m\n\u001b[1;32m   4182\u001b[0m                 \u001b[0;32mtry\u001b[0m\u001b[0;34m:\u001b[0m\u001b[0;34m\u001b[0m\u001b[0;34m\u001b[0m\u001b[0m\n",
      "\u001b[0;32m/opt/sagemath-9.0/local/lib/python3.7/site-packages/sage/libs/singular/standard_options.py\u001b[0m in \u001b[0;36mwrapper\u001b[0;34m(*args, **kwds)\u001b[0m\n\u001b[1;32m    139\u001b[0m         \"\"\"\n\u001b[1;32m    140\u001b[0m         \u001b[0;32mwith\u001b[0m \u001b[0mLibSingularGBDefaultContext\u001b[0m\u001b[0;34m(\u001b[0m\u001b[0;34m)\u001b[0m\u001b[0;34m:\u001b[0m\u001b[0;34m\u001b[0m\u001b[0;34m\u001b[0m\u001b[0m\n\u001b[0;32m--> 141\u001b[0;31m             \u001b[0;32mreturn\u001b[0m \u001b[0mfunc\u001b[0m\u001b[0;34m(\u001b[0m\u001b[0;34m*\u001b[0m\u001b[0margs\u001b[0m\u001b[0;34m,\u001b[0m \u001b[0;34m**\u001b[0m\u001b[0mkwds\u001b[0m\u001b[0;34m)\u001b[0m\u001b[0;34m\u001b[0m\u001b[0;34m\u001b[0m\u001b[0m\n\u001b[0m\u001b[1;32m    142\u001b[0m     \u001b[0;32mreturn\u001b[0m \u001b[0mwrapper\u001b[0m\u001b[0;34m\u001b[0m\u001b[0;34m\u001b[0m\u001b[0m\n",
      "\u001b[0;32m/opt/sagemath-9.0/local/lib/python3.7/site-packages/sage/rings/polynomial/multi_polynomial_ideal.py\u001b[0m in \u001b[0;36m_groebner_basis_libsingular\u001b[0;34m(self, algorithm, *args, **kwds)\u001b[0m\n\u001b[1;32m    539\u001b[0m             \u001b[0mS\u001b[0m \u001b[0;34m=\u001b[0m \u001b[0mslimgb_libsingular\u001b[0m\u001b[0;34m(\u001b[0m\u001b[0mself\u001b[0m\u001b[0;34m)\u001b[0m\u001b[0;34m\u001b[0m\u001b[0;34m\u001b[0m\u001b[0m\n\u001b[1;32m    540\u001b[0m         \u001b[0;32melif\u001b[0m \u001b[0malgorithm\u001b[0m \u001b[0;34m==\u001b[0m \u001b[0;34m\"groebner\"\u001b[0m\u001b[0;34m:\u001b[0m\u001b[0;34m\u001b[0m\u001b[0;34m\u001b[0m\u001b[0m\n\u001b[0;32m--> 541\u001b[0;31m             \u001b[0mS\u001b[0m \u001b[0;34m=\u001b[0m \u001b[0mgroebner\u001b[0m\u001b[0;34m(\u001b[0m\u001b[0mself\u001b[0m\u001b[0;34m)\u001b[0m\u001b[0;34m\u001b[0m\u001b[0;34m\u001b[0m\u001b[0m\n\u001b[0m\u001b[1;32m    542\u001b[0m         \u001b[0;32melse\u001b[0m\u001b[0;34m:\u001b[0m\u001b[0;34m\u001b[0m\u001b[0;34m\u001b[0m\u001b[0m\n\u001b[1;32m    543\u001b[0m             \u001b[0;32mtry\u001b[0m\u001b[0;34m:\u001b[0m\u001b[0;34m\u001b[0m\u001b[0;34m\u001b[0m\u001b[0m\n",
      "\u001b[0;32m/opt/sagemath-9.0/local/lib/python3.7/site-packages/sage/libs/singular/function.pyx\u001b[0m in \u001b[0;36msage.libs.singular.function.SingularFunction.__call__ (build/cythonized/sage/libs/singular/function.cpp:14976)\u001b[0;34m()\u001b[0m\n\u001b[1;32m   1332\u001b[0m         \u001b[0;32mif\u001b[0m \u001b[0;32mnot\u001b[0m \u001b[0;34m(\u001b[0m\u001b[0misinstance\u001b[0m\u001b[0;34m(\u001b[0m\u001b[0mring\u001b[0m\u001b[0;34m,\u001b[0m \u001b[0mMPolynomialRing_libsingular\u001b[0m\u001b[0;34m)\u001b[0m \u001b[0;32mor\u001b[0m \u001b[0misinstance\u001b[0m\u001b[0;34m(\u001b[0m\u001b[0mring\u001b[0m\u001b[0;34m,\u001b[0m \u001b[0mNCPolynomialRing_plural\u001b[0m\u001b[0;34m)\u001b[0m\u001b[0;34m)\u001b[0m\u001b[0;34m:\u001b[0m\u001b[0;34m\u001b[0m\u001b[0;34m\u001b[0m\u001b[0m\n\u001b[1;32m   1333\u001b[0m             \u001b[0;32mraise\u001b[0m \u001b[0mTypeError\u001b[0m\u001b[0;34m(\u001b[0m\u001b[0;34m\"Cannot call Singular function '%s' with ring parameter of type '%s'\"\u001b[0m\u001b[0;34m%\u001b[0m\u001b[0;34m(\u001b[0m\u001b[0mself\u001b[0m\u001b[0;34m.\u001b[0m\u001b[0m_name\u001b[0m\u001b[0;34m,\u001b[0m\u001b[0mtype\u001b[0m\u001b[0;34m(\u001b[0m\u001b[0mring\u001b[0m\u001b[0;34m)\u001b[0m\u001b[0;34m)\u001b[0m\u001b[0;34m)\u001b[0m\u001b[0;34m\u001b[0m\u001b[0;34m\u001b[0m\u001b[0m\n\u001b[0;32m-> 1334\u001b[0;31m         \u001b[0;32mreturn\u001b[0m \u001b[0mcall_function\u001b[0m\u001b[0;34m(\u001b[0m\u001b[0mself\u001b[0m\u001b[0;34m,\u001b[0m \u001b[0margs\u001b[0m\u001b[0;34m,\u001b[0m \u001b[0mring\u001b[0m\u001b[0;34m,\u001b[0m \u001b[0minterruptible\u001b[0m\u001b[0;34m,\u001b[0m \u001b[0mattributes\u001b[0m\u001b[0;34m)\u001b[0m\u001b[0;34m\u001b[0m\u001b[0;34m\u001b[0m\u001b[0m\n\u001b[0m\u001b[1;32m   1335\u001b[0m \u001b[0;34m\u001b[0m\u001b[0m\n\u001b[1;32m   1336\u001b[0m     \u001b[0;32mdef\u001b[0m \u001b[0m_instancedoc_\u001b[0m\u001b[0;34m(\u001b[0m\u001b[0mself\u001b[0m\u001b[0;34m)\u001b[0m\u001b[0;34m:\u001b[0m\u001b[0;34m\u001b[0m\u001b[0;34m\u001b[0m\u001b[0m\n",
      "\u001b[0;32m/opt/sagemath-9.0/local/lib/python3.7/site-packages/sage/libs/singular/function.pyx\u001b[0m in \u001b[0;36msage.libs.singular.function.call_function (build/cythonized/sage/libs/singular/function.cpp:16808)\u001b[0;34m()\u001b[0m\n\u001b[1;32m   1514\u001b[0m         \u001b[0merror_messages\u001b[0m\u001b[0;34m.\u001b[0m\u001b[0mpop\u001b[0m\u001b[0;34m(\u001b[0m\u001b[0;34m)\u001b[0m\u001b[0;34m\u001b[0m\u001b[0;34m\u001b[0m\u001b[0m\n\u001b[1;32m   1515\u001b[0m \u001b[0;34m\u001b[0m\u001b[0m\n\u001b[0;32m-> 1516\u001b[0;31m     \u001b[0;32mwith\u001b[0m \u001b[0mopt_ctx\u001b[0m\u001b[0;34m:\u001b[0m \u001b[0;31m# we are preserving the global options state here\u001b[0m\u001b[0;34m\u001b[0m\u001b[0;34m\u001b[0m\u001b[0m\n\u001b[0m\u001b[1;32m   1517\u001b[0m         \u001b[0;32mif\u001b[0m \u001b[0msignal_handler\u001b[0m\u001b[0;34m:\u001b[0m\u001b[0;34m\u001b[0m\u001b[0;34m\u001b[0m\u001b[0m\n\u001b[1;32m   1518\u001b[0m             \u001b[0msig_on\u001b[0m\u001b[0;34m(\u001b[0m\u001b[0;34m)\u001b[0m\u001b[0;34m\u001b[0m\u001b[0;34m\u001b[0m\u001b[0m\n",
      "\u001b[0;32m/opt/sagemath-9.0/local/lib/python3.7/site-packages/sage/libs/singular/function.pyx\u001b[0m in \u001b[0;36msage.libs.singular.function.call_function (build/cythonized/sage/libs/singular/function.cpp:16720)\u001b[0;34m()\u001b[0m\n\u001b[1;32m   1516\u001b[0m     \u001b[0;32mwith\u001b[0m \u001b[0mopt_ctx\u001b[0m\u001b[0;34m:\u001b[0m \u001b[0;31m# we are preserving the global options state here\u001b[0m\u001b[0;34m\u001b[0m\u001b[0;34m\u001b[0m\u001b[0m\n\u001b[1;32m   1517\u001b[0m         \u001b[0;32mif\u001b[0m \u001b[0msignal_handler\u001b[0m\u001b[0;34m:\u001b[0m\u001b[0;34m\u001b[0m\u001b[0;34m\u001b[0m\u001b[0m\n\u001b[0;32m-> 1518\u001b[0;31m             \u001b[0msig_on\u001b[0m\u001b[0;34m(\u001b[0m\u001b[0;34m)\u001b[0m\u001b[0;34m\u001b[0m\u001b[0;34m\u001b[0m\u001b[0m\n\u001b[0m\u001b[1;32m   1519\u001b[0m             \u001b[0m_res\u001b[0m \u001b[0;34m=\u001b[0m \u001b[0mself\u001b[0m\u001b[0;34m.\u001b[0m\u001b[0mcall_handler\u001b[0m\u001b[0;34m.\u001b[0m\u001b[0mhandle_call\u001b[0m\u001b[0;34m(\u001b[0m\u001b[0margument_list\u001b[0m\u001b[0;34m,\u001b[0m \u001b[0msi_ring\u001b[0m\u001b[0;34m)\u001b[0m\u001b[0;34m\u001b[0m\u001b[0;34m\u001b[0m\u001b[0m\n\u001b[1;32m   1520\u001b[0m             \u001b[0msig_off\u001b[0m\u001b[0;34m(\u001b[0m\u001b[0;34m)\u001b[0m\u001b[0;34m\u001b[0m\u001b[0;34m\u001b[0m\u001b[0m\n",
      "\u001b[0;31mKeyboardInterrupt\u001b[0m: "
     ]
    }
   ],
   "source": [
    "matrixList = makePublicKey(7,7)\n",
    "a = vector([1,2,3,4,5,6,0])\n",
    "b = vector([0,1,2,3,4,5,6])\n",
    "i1, m = algebraicAttack(7,7,a,b,matrixList)"
   ]
  },
  {
   "cell_type": "code",
   "execution_count": null,
   "metadata": {},
   "outputs": [],
   "source": [
    "I  = I.subs(xn= 1, x0 = 1)"
   ]
  },
  {
   "cell_type": "code",
   "execution_count": null,
   "metadata": {},
   "outputs": [],
   "source": [
    "I.dimension()"
   ]
  },
  {
   "cell_type": "code",
   "execution_count": null,
   "metadata": {},
   "outputs": [],
   "source": [
    "I = I.groebner_basis()"
   ]
  },
  {
   "cell_type": "code",
   "execution_count": null,
   "metadata": {},
   "outputs": [],
   "source": [
    "I = ideal(I)"
   ]
  },
  {
   "cell_type": "code",
   "execution_count": null,
   "metadata": {},
   "outputs": [],
   "source": [
    "v = I.subs(x0 = 5, x1 = 1, x2 = 2)\n",
    "v = v.subs(x3 = 2,x4  = 1, x5 = 1)"
   ]
  },
  {
   "cell_type": "code",
   "execution_count": null,
   "metadata": {},
   "outputs": [],
   "source": [
    "v.variety()"
   ]
  },
  {
   "cell_type": "code",
   "execution_count": null,
   "metadata": {},
   "outputs": [],
   "source": [
    "v.dimension()"
   ]
  },
  {
   "cell_type": "code",
   "execution_count": null,
   "metadata": {},
   "outputs": [],
   "source": [
    "I.dimension()"
   ]
  },
  {
   "cell_type": "code",
   "execution_count": null,
   "metadata": {},
   "outputs": [],
   "source": [
    "I"
   ]
  },
  {
   "cell_type": "code",
   "execution_count": null,
   "metadata": {},
   "outputs": [],
   "source": [
    "I.remove_variable(xn)"
   ]
  },
  {
   "cell_type": "code",
   "execution_count": null,
   "metadata": {},
   "outputs": [],
   "source": [
    "R_  = R_.remove_var(xn)"
   ]
  },
  {
   "cell_type": "code",
   "execution_count": null,
   "metadata": {},
   "outputs": [],
   "source": [
    "gens = [R_(i) for i in I.gens()]"
   ]
  },
  {
   "cell_type": "code",
   "execution_count": null,
   "metadata": {},
   "outputs": [],
   "source": [
    "v = ideal(gens)"
   ]
  },
  {
   "cell_type": "code",
   "execution_count": null,
   "metadata": {},
   "outputs": [],
   "source": [
    "v.dimension()"
   ]
  },
  {
   "cell_type": "code",
   "execution_count": null,
   "metadata": {},
   "outputs": [],
   "source": [
    "v = v.subs(x0 = 5)"
   ]
  },
  {
   "cell_type": "code",
   "execution_count": null,
   "metadata": {},
   "outputs": [],
   "source": [
    "R_  = R_.remove_var(x0)"
   ]
  },
  {
   "cell_type": "code",
   "execution_count": null,
   "metadata": {},
   "outputs": [],
   "source": [
    "gens = [R_(i) for i in v.gens()]"
   ]
  },
  {
   "cell_type": "code",
   "execution_count": null,
   "metadata": {},
   "outputs": [],
   "source": [
    "v.variety()"
   ]
  },
  {
   "cell_type": "code",
   "execution_count": 3,
   "metadata": {},
   "outputs": [],
   "source": [
    "def algebraicAttackSystem(q,k,a,b, matrixList):\n",
    "    rhs = [a.row()*i*b.column() for i in matrixList]\n",
    "    R_ = PolynomialRing(GF(q), ['x' + str(i) for i in range(2*k)] + ['xn'], order = \"degrevlex\")\n",
    "    indeterminates = R_.gens()[:-1]\n",
    "    xn = R_.gens()[-1]\n",
    "    R_.inject_variables()\n",
    "    a1 = vector(indeterminates[0:k])\n",
    "    b1 = vector(indeterminates[k:])\n",
    "    system = [a1.row()*i*b1.column() for i in matrixList]\n",
    "    system = [system[i][0][0] - rhs[i][0][0]*xn^2 for i in range(len(system))]\n",
    "    return system, R_\n",
    "# implementation of Arri's algorithm to compute a Groebner basis\n",
    "# \"The F5 Criterion revised\"\n",
    "# paper submitted to JSC in 2009, accepted conditionally in 2010 subject to revision,\n",
    "# resubmitted 2010\n",
    "# http://arxiv.org/abs/1012.3664\n",
    "\n",
    "# usage: f5_arri(F) where F is a list of polynomials\n",
    "# result: groebner basis of F, with signatures\n",
    "# example:\n",
    "#   sage: R = PolynomialRing(GF(32003),x,5)\n",
    "#   sage: I = sage.rings.ideal.Cyclic(R,5).homogenize()\n",
    "#   sage: F = list(I.gens())\n",
    "#   sage: B = f5_arri(F)\n",
    "#   >> There were 0 reductions to zero.\n",
    "#   sage: len(B)\n",
    "#   >> 166\n",
    "#   sage: F.reverse()\n",
    "#   sage: B = f5_arri(F)\n",
    "#   >> There were 0 reductions to zero.\n",
    "#   sage: len(B)\n",
    "#   >> 39\n",
    "# as with all incremental algorithms, efficiency depends on the ordering of F\n",
    "\n",
    "verbose_zero_reduction = 0\n",
    "\n",
    "verbose_generation = 1\n",
    "verbose_reduction = 1\n",
    "\n",
    "verbose_rejection = 1\n",
    "\n",
    "# polysort\n",
    "# used to sort polynomials by increasing signature\n",
    "# inputs: (f,S(f)) and (g,S(g)), labeled polynomials\n",
    "# outputs: 1 if (f,S(f)) > (g,S(g))\n",
    "#        -1 if (f,S(f)) < (g,S(g))\n",
    "#         0 if (f,S(f)) = (g,S(g))\n",
    "def polysort(f,g):\n",
    "  fp,Sf = f\n",
    "  gp,Sg = g\n",
    "  sigord = sigsort(Sf,Sg)\n",
    "  if sigord != 0:\n",
    "    return sigord\n",
    "  else:\n",
    "    if fp.lm() > gp.lm():\n",
    "      return 1\n",
    "    else:\n",
    "      return -1\n",
    "  return 0\n",
    "\n",
    "# sigsort\n",
    "# used to sort signatures\n",
    "# inputs: S(f) and S(g), labeled polynomials\n",
    "# outputs: 1 if S(f) > S(g)\n",
    "#        -1 if S(f) < S(g)\n",
    "#         0 if S(f) = S(g)\n",
    "def sigsort(s1,s2):\n",
    "  t1,i1 = s1\n",
    "  t2,i2 = s2\n",
    "  if i1 < i2:\n",
    "    return 1\n",
    "  if i1 > i2:\n",
    "    return -1\n",
    "  if t1 > t2:\n",
    "    return 1\n",
    "  if t1 < t2:\n",
    "    return -1\n",
    "  return 0\n",
    "\n",
    "# is_primitive\n",
    "# tests whether a polynomial is primitive\n",
    "# inputs: polynomial f, S(f), basis G\n",
    "# outputs: whether uf*f is primitive\n",
    "def is_primitive(f, Sf, G):\n",
    "  R = f.parent()\n",
    "  for (h,Sh) in G:\n",
    "    if h != f and Sh[1] == Sf[1] and R.monomial_divides(Sh[0],Sf[0]):\n",
    "      t = R.monomial_quotient(Sf[0],Sh[0])\n",
    "      if t*h.lm() == f.lm():\n",
    "        return False\n",
    "  return True\n",
    "\n",
    "# prune_rewritables\n",
    "# removes rewritable elements from B\n",
    "# this is NOT the same as Faugere's rewritable algorithm;\n",
    "# see the paper for details\n",
    "# inputs: polynomial ring R, wokring basis G, S-polynomials B\n",
    "# outputs: (probably) smaller B\n",
    "def prune_rewritables(R,G,B):\n",
    "  Bnew = set()\n",
    "  for (f,Sf) in B:\n",
    "    rewritable = False\n",
    "    t = f.lm()\n",
    "    for (g,Sg) in B:\n",
    "      if Sg[1] == Sf[1] and R.monomial_divides(Sg[0],Sf[0]):\n",
    "        u = R.monomial_quotient(Sf[0],Sg[0])\n",
    "        if u*g.lm() < t:\n",
    "          rewritable = True\n",
    "          continue\n",
    "    if not rewritable:\n",
    "      for (g,Sg) in G:\n",
    "        if Sg[1] == Sf[1] and R.monomial_divides(Sg[0],Sf[0]):\n",
    "          u = R.monomial_quotient(Sf[0],Sg[0])\n",
    "          if u*g.lm() < t:\n",
    "            rewritable = True\n",
    "            continue\n",
    "      if not rewritable:\n",
    "        Bnew.add((f,Sf))\n",
    "  return Bnew\n",
    "\n",
    "# is_normal\n",
    "# completes test whether a critical pair is a normal pair in Arri's definition\n",
    "# (beyond inequality of signature)\n",
    "# inputs: polynomials f and g, S(f), S(g) monomials uf and ug, basis G\n",
    "# outputs: whether (f,g) is a normal pair\n",
    "def is_normal(f, Sf, uf, G, B):\n",
    "  R = f.parent()\n",
    "  # Faugere's normal?\n",
    "  if not any(Sh[1]>Sf[1] and R.monomial_divides(h.lm(),uf*Sf[0]) for (h,Sh) in G):\n",
    "    # primitive?\n",
    "    return is_primitive(f,Sf,G) and is_primitive(f,Sf,B)\n",
    "    #return True\n",
    "  # not even Faugere's normal, let alone primitive\n",
    "  return False\n",
    "\n",
    "# Sreduce\n",
    "# inputs: polynomial f, S(f), basis G, rewritings RW\n",
    "# outputs: S-irreducible form of f\n",
    "def Sreduce(f,Sf,G,B):\n",
    "  R = f.parent()\n",
    "  reduced = True\n",
    "  while reduced:\n",
    "    reduced = False\n",
    "    for (g,Sg) in G:\n",
    "      if R.monomial_divides(g.lm(),f.lm()):\n",
    "        t = R.monomial_quotient(f.lm(),g.lm())\n",
    "        if sigsort(Sf,(t*Sg[0],Sg[1])) == 1:\n",
    "          if is_normal(g, Sg, t, G, B) and is_primitive(g, Sg, G) and is_primitive(g, Sg, B):\n",
    "            reduced = True\n",
    "            f -= t*g\n",
    "            if f == 0:\n",
    "              return f\n",
    "            f *= f.lc()**(-1)\n",
    "          else:\n",
    "            verbose(\"reduction of \"+str(Sf)+\" by \"+str(Sg)+\" rejected: not normal\",level=verbose_rejection)\n",
    "        else:\n",
    "          verbose(\"reduction of \"+str(Sf)+\" by \"+str(Sg)+\" rejected: too large\",level=verbose_rejection)\n",
    "  return f\n",
    "\n",
    "# UpdatePairs\n",
    "# inputs: basis G, known new polynomials B, polynomial f, S(f)\n",
    "# outputs: new S-polynomials\n",
    "def UpdatePairs(G,B,f,Sf):\n",
    "  Bnew = set()\n",
    "  if is_primitive(f,Sf,G) and is_primitive(f,Sf,B):\n",
    "    R = f.parent()\n",
    "    for (g,Sg) in G:\n",
    "      tf = f.lm()\n",
    "      tg = g.lm()\n",
    "      t = tf.lcm(tg)\n",
    "      uf = R.monomial_quotient(t,tf)\n",
    "      ug = R.monomial_quotient(t,tg)\n",
    "      # normal pair?\n",
    "      siguf = (uf*Sf[0],Sf[1])\n",
    "      sigug = (ug*Sg[0],Sg[1])\n",
    "      if siguf != sigug:\n",
    "        if is_normal(f,Sf,uf,G,B) and is_normal(g,Sg,ug,G,B):\n",
    "          if sigsort(siguf,sigug) == 1:\n",
    "            sig = siguf\n",
    "          else:\n",
    "            sig = sigug\n",
    "          verbose(\"generating \"+str(sig)+\" from \"+str(Sf)+\" and \"+str(Sg),level=verbose_generation)\n",
    "          S = uf*f - ug*g\n",
    "          S *= S.lc()**(-1)\n",
    "          Bnew.add((S,sig))\n",
    "        else:\n",
    "          verbose(\"pair \"+str(Sf)+\", \"+str(Sg)+\" rejected: not normal\",level=verbose_rejection)\n",
    "      else:\n",
    "        verbose(\"pair \"+str(Sf)+\", \"+str(Sg)+\" rejected: equal signature\",level=verbose_rejection)\n",
    "  return Bnew\n",
    "  \n",
    "# prune_not_normal\n",
    "# prunes polynomials of signature that are not normal\n",
    "# inputs list of polynomials B, list of polynomials G\n",
    "# outputs: pruned version of B\n",
    "def prune_not_normal(B,G):\n",
    "  Bnew = set()\n",
    "  while len(B) != 0:\n",
    "    f,Sf = B.pop()\n",
    "    if is_normal(f,Sf,Integer(1),G,Bnew.union(B)):\n",
    "      Bnew.add((f,Sf))\n",
    "  return list(Bnew)\n",
    "\n",
    "# f5_arri\n",
    "# compute groebner basis\n",
    "# inputs: list of polynomials F\n",
    "# outputs: groebner basis (we hope) of ideal of F\n",
    "def f5_arri(F):\n",
    "  L = set()\n",
    "  G = set()\n",
    "  R = F[0].parent()\n",
    "  B = [(F[i]*F[i].lc()**(-1),(R(1),i)) for i in range(len(F))]\n",
    "  while len(B) != 0:\n",
    "    Bnew = set()\n",
    "    for (f,Sf) in B:\n",
    "      if not any(Sg[1]==Sf[1] and R.monomial_divides(Sg[0],Sf[0]) for Sg in L):\n",
    "        Bnew.add((f,Sf))\n",
    "    B = Bnew\n",
    "    #i = len(B)\n",
    "    B = prune_rewritables(R,G,B)\n",
    "    #if len(B) < i:\n",
    "    #  print \"pruned\", i - len(B)\n",
    "    B = prune_not_normal(B,G)\n",
    "    \n",
    "    B.sort(key =  cmp_to_key(polysort))\n",
    "    if len(B)!= 0:\n",
    "        f,Sf = B.pop(0)\n",
    "    while len(B) != 0 and B[0][1] == Sf:\n",
    "      B.pop(0)\n",
    "    f = Sreduce(f,Sf,G,B)\n",
    "    verbose(\"reduced \"+str(Sf)+\" to \"+str(f.lm()),level=verbose_reduction)\n",
    "    if f != 0:\n",
    "      if is_primitive(f,Sf,G) and is_primitive(f,Sf,B):\n",
    "        B.extend(UpdatePairs(G,B,f,Sf))\n",
    "      G.add((f,Sf))\n",
    "    else:\n",
    "      L.add(Sf)\n",
    "      verbose(\"zero reduction: \"+str(Sf),level=verbose_zero_reduction)\n",
    "  print(\"There were\", len(L), \"reductions to zero.\")\n",
    "  return G\n",
    "def cmp_to_key(mycmp):\n",
    "    'Convert a cmp= function into a key= function'\n",
    "    class K:\n",
    "        def __init__(self, obj, *args):\n",
    "            self.obj = obj\n",
    "        def __lt__(self, other):\n",
    "            return mycmp(self.obj, other.obj) < 0\n",
    "        def __gt__(self, other):\n",
    "            return mycmp(self.obj, other.obj) > 0\n",
    "        def __eq__(self, other):\n",
    "            return mycmp(self.obj, other.obj) == 0\n",
    "        def __le__(self, other):\n",
    "            return mycmp(self.obj, other.obj) <= 0\n",
    "        def __ge__(self, other):\n",
    "            return mycmp(self.obj, other.obj) >= 0\n",
    "        def __ne__(self, other):\n",
    "            return mycmp(self.obj, other.obj) != 0\n",
    "    return K"
   ]
  },
  {
   "cell_type": "code",
   "execution_count": 4,
   "metadata": {},
   "outputs": [
    {
     "name": "stdout",
     "output_type": "stream",
     "text": [
      "[0 6 5 6 4 3 4 0 6 1 0 3 1 1 3 0]\n",
      "[6 3 2 2 2 0 5 3 1 6 2 2 2 6 2 4]\n",
      "[6 3 5 1 5 0 6 0 5 1 0 4 6 3 4 0]\n",
      "[0 2 5 1 6 0 1 0 1 0 0 4 0 0 4 5]\n",
      "[3 3 3 5 2 0 3 2 3 4 1 3 6 5 2 4]\n",
      "[1 5 0 0 0 0 4 1 6 0 4 2 0 2 2 0]\n",
      "[5 2 5 4 2 1 1 4 5 1 2 5 3 1 0 4]\n",
      "[2 2 1 6 5 2 1 1 4 6 2 1 6 5 0 6]\n",
      "[0 3 0 6 6 0 1 5 6 2 0 4 2 1 5 2]\n",
      "[5 1 4 3 4 5 3 2 4 1 5 2 2 0 3 3]\n",
      "[0 4 4 6 3 5 0 5 0 6 1 2 0 3 5 4]\n",
      "[5 3 4 2 4 1 3 6 6 0 2 4 5 4 3 6]\n",
      "[4 5 0 2 4 4 1 2 4 6 1 0 3 3 6 3]\n",
      "[6 0 5 5 1 4 1 2 3 6 2 1 2 3 3 4]\n",
      "[1 1 2 2 5 4 2 6 6 3 3 0 3 4 4 4]\n",
      "[6 0 1 5 2 2 2 5 3 5 3 5 0 2 4 2]\n",
      "Defining x0, x1, x2, x3, x4, x5, x6, x7, x8, x9, x10, x11, x12, x13, x14, x15, xn\n"
     ]
    }
   ],
   "source": [
    "q = 7\n",
    "k = 8\n",
    "a = vector([5,1,2,3,4,2,1,5])\n",
    "b = vector([1,2,1,0,6,4,4,2])\n",
    "matrixList = makePublicKey(q,k)\n",
    "system, R_ =  algebraicAttackSystem(q,k,a,b, matrixList)\n"
   ]
  },
  {
   "cell_type": "code",
   "execution_count": 25,
   "metadata": {},
   "outputs": [
    {
     "data": {
      "text/plain": [
       "{(x4^2*xn^2 + x4*x5*xn^2 + x5^2*xn^2, (x4^2, 0)),\n",
       " (x4^4*xn^2 - x4^2*x5^2*xn^2 - 2*x4*x5^3*xn^2 - x5^4*xn^2, (x4*x5^3, 0)),\n",
       " (x4^5*xn^2 - x4^4*x5*xn^2 - x4^3*x5^2*xn^2 + 2*x4*x5^4*xn^2 + 2*x5^5*xn^2,\n",
       "  (x5^5, 0)),\n",
       " (x4^6*xn^2 + 2*x4^5*x5*xn^2 - 3*x4^4*x5^2*xn^2 - 3*x4^3*x5^3*xn^2 + x4^2*x5^4*xn^2 - x4*x5^5*xn^2 - 2*x5^6*xn^2,\n",
       "  (x3*x4^5, 1)),\n",
       " (x3*xn^4 + x4*xn^4 - 3*x5*xn^4, (x2*x5^2, 0)),\n",
       " (x3*x5*xn^2 - 3*x4^2*xn^2 - 2*x4*x5*xn^2 + x5^2*xn^2, (x3*x4, 0)),\n",
       " (x3*x5^2*xn^2 - 2*x4^3*xn^2 - 2*x4^2*x5*xn^2 - x4*x5^2*xn^2 - 3*x5^3*xn^2,\n",
       "  (x4*x5^2, 0)),\n",
       " (x3*x5^3*xn^2 - 2*x4^4*xn^2 - 2*x4^3*x5*xn^2 + 3*x4*x5^3*xn^2 - x5^4*xn^2,\n",
       "  (x3*x4^3, 1)),\n",
       " (x3*x4*xn^2 - x3*x5*xn^2 + x4^2*xn^2 + 3*x4*x5*xn^2 + 3*x5^2*xn^2,\n",
       "  (x4*x5, 0)),\n",
       " (x3*x4*x5*xn^2 - 2*x3*x5^2*xn^2 + 2*x4^3*xn^2 + 3*x4^2*x5*xn^2 - 3*x4*x5^2*xn^2 - x5^3*xn^2,\n",
       "  (x5^3, 0)),\n",
       " (x3*x4^2*xn^2 + x3*x4*x5*xn^2 + 3*x3*x5^2*xn^2 - 2*x4^3*xn^2 - 3*x4^2*x5*xn^2 - x4*x5^2*xn^2,\n",
       "  (x3*x4^2, 1)),\n",
       " (x3*x4^3*xn^2 + 3*x3*x4^2*x5*xn^2 - 2*x3*x4*x5^2*xn^2 - 3*x3*x5^3*xn^2 + 2*x4^4*xn^2 - 3*x4^3*x5*xn^2 - x4*x5^3*xn^2 + 2*x5^4*xn^2,\n",
       "  (x3*x4*x5^2, 1)),\n",
       " (x3*x4^4*xn^2 - 2*x3*x4^2*x5^2*xn^2 - 2*x3*x4*x5^3*xn^2 + x3*x5^4*xn^2 + 2*x4^5*xn^2 - 2*x4^4*x5*xn^2 - 2*x4^3*x5^2*xn^2 + 3*x4*x5^4*xn^2 + x5^5*xn^2,\n",
       "  (x3*x5^4, 1)),\n",
       " (x3*x4^5*xn^2 - 3*x3*x4^4*x5*xn^2 - x3*x4^3*x5^2*xn^2 - 2*x3*x4*x5^4*xn^2 + x3*x5^5*xn^2 + 2*x4^6*xn^2 - x4^5*x5*xn^2 - x4^4*x5^2*xn^2 + 3*x4^3*x5^3*xn^2 + 3*x4^2*x5^4*xn^2 - 2*x4*x5^5*xn^2 - x5^6*xn^2,\n",
       "  (x4^6, 1)),\n",
       " (x3^2*xn^2 + 3*x3*x4*xn^2 - x3*x5*xn^2 + x4^2*xn^2 + 2*x4*x5*xn^2, (x5^2, 0)),\n",
       " (x3^2*x5*xn^2 + 3*x3*x4^2*xn^2 - 2*x3*x4*x5*xn^2 + 3*x3*x5^2*xn^2 - x4^3*xn^2 + 3*x4^2*x5*xn^2 + 2*x4*x5^2*xn^2 + x5^3*xn^2,\n",
       "  (x3^2*x5, 1)),\n",
       " (x3^2*x4*xn^2 + x3^2*x5*xn^2 + 2*x3*x4^2*xn^2 + 3*x3*x4*x5*xn^2 - 2*x4^3*xn^2 + 3*x4^2*x5*xn^2 + 3*x4*x5^2*xn^2 + 2*x5^3*xn^2,\n",
       "  (x3^3, 2)),\n",
       " (x3^3*xn^2 + 3*x3^2*x4*xn^2 - x3^2*x5*xn^2 - 3*x3*x4^2*xn^2 + 3*x3*x4*x5*xn^2 + 2*x3*x5^2*xn^2 - 2*x4^3*xn^2 + x4^2*x5*xn^2 + x4*x5^2*xn^2 + x5^3*xn^2,\n",
       "  (x3^3, 1)),\n",
       " (x2*x5 - 2*xn^2, (1, 0)),\n",
       " (x2*x5^3 + x3^2*xn^2 + 3*x3*x4*xn^2 - x3*x5*xn^2 + x4^2*xn^2 + 2*x4*x5*xn^2 - 2*x5^2*xn^2,\n",
       "  (x3^2, 1)),\n",
       " (x2*x5^4 - 3*x3*x4^2*xn^2 - 2*x3*x4*x5*xn^2 + 3*x3*x5^2*xn^2 + x4^3*xn^2 - 2*x4^2*x5*xn^2 - 3*x5^3*xn^2,\n",
       "  (x3*x4*x5, 1)),\n",
       " (x2*x5^5 - 3*x3*x4^3*xn^2 + 2*x3*x4^2*x5*xn^2 - 3*x3*x4*x5^2*xn^2 - 2*x3*x5^3*xn^2 + x4^4*xn^2 + 3*x4^3*x5*xn^2 - 2*x4^2*x5^2*xn^2 + 3*x4*x5^3*xn^2 - 2*x5^4*xn^2,\n",
       "  (x3*x5^3, 1)),\n",
       " (x2*x5^6 - 3*x3*x4^4*xn^2 - 3*x3*x4^3*x5*xn^2 + x3*x4^2*x5^2*xn^2 + 3*x3*x4*x5^3*xn^2 + 2*x3*x5^4*xn^2 + x4^5*xn^2 + 2*x4^3*x5^2*xn^2 - 2*x4^2*x5^3*xn^2 + x4*x5^4*xn^2 + 2*x5^5*xn^2,\n",
       "  (x4^5, 1)),\n",
       " (x2*x4*x5^2 + 2*x2*x5^3 - x3*x4*xn^2 + x3*x5*xn^2 - x4^2*xn^2 + 2*x4*x5*xn^2,\n",
       "  (x3*x4, 1)),\n",
       " (x2*x4*x5^3 - 3*x2*x5^4 + x3*x4^2*xn^2 + 2*x3*x4*x5*xn^2 + 2*x4^3*xn^2 + 2*x4^2*x5*xn^2 + 2*x4*x5^2*xn^2 + x5^3*xn^2,\n",
       "  (x3*x5^2, 1)),\n",
       " (x2*x4*x5^4 + 3*x2*x5^5 + 3*x3*x4^3*xn^2 - x3*x4^2*x5*xn^2 - 2*x3*x4*x5^2*xn^2 + 2*x3*x5^3*xn^2 - x4^4*xn^2 - x4^3*x5*xn^2 - 3*x4^2*x5^2*xn^2 - x4*x5^3*xn^2 + 3*x5^4*xn^2,\n",
       "  (x4^4, 1)),\n",
       " (x2*x4^2 + 2*x2*x4*x5 - 2*x2*x5^2 - 2*x4*xn^2 - x5*xn^2, (x4, 1)),\n",
       " (x2*x4^5 - x2*x4^4*x5 - 2*x2*x4^2*x5^3 + 2*x2*x5^5 + 3*x3*x4^3*xn^2 - x3*x4^2*x5*xn^2 - 2*x3*x4*x5^2*xn^2 + 2*x3*x5^3*xn^2 - 3*x4^4*xn^2 - 3*x4^3*x5*xn^2 - 2*x4^2*x5^2*xn^2 - 3*x4*x5^3*xn^2 - x5^4*xn^2,\n",
       "  (x5^4, 1)),\n",
       " (x2*x4^6 + 3*x2*x4^5*x5 + 3*x2*x4^4*x5^2 - 2*x2*x4^3*x5^3 - 3*x2*x4*x5^5 - x2*x5^6 + 3*x3*x4^4*xn^2 - 3*x3*x4^3*x5*xn^2 + x3*x4^2*x5^2*xn^2 + x3*x4*x5^3*xn^2 + x3*x5^4*xn^2 - 3*x4^5*xn^2 - x4^4*x5*xn^2 + 3*x4^2*x5^3*xn^2 - x4*x5^4*xn^2 + 2*x5^5*xn^2,\n",
       "  (x3^2*x4^3, 2)),\n",
       " (x2*x3*xn^2 + x2*x4*xn^2 - x2*x5*xn^2 + 3*xn^4, (x2*x3, 0)),\n",
       " (x2*x3*x5^2 + 2*x2*x4^3 + 3*x2*x4^2*x5 - x2*x4*x5^2 - x3*x4*xn^2 - x3*x5*xn^2 + x4^2*xn^2 + x5^2*xn^2,\n",
       "  (x5^2, 1)),\n",
       " (x2*x3*x5^4 - 2*x2*x4^5 + 2*x2*x4^4*x5 + 2*x2*x4^3*x5^2 - x2*x4*x5^4 + 3*x2*x5^5 + x3*x4^3*xn^2 + 2*x3*x4^2*x5*xn^2 + 3*x3*x4*x5^2*xn^2 + 2*x3*x5^3*xn^2 - x4^4*xn^2 - x4^3*x5*xn^2 - 2*x4^2*x5^2*xn^2 - x4*x5^3*xn^2 + 3*x5^4*xn^2,\n",
       "  (x3^2*x4^2, 2)),\n",
       " (x2*x3*x4 + x2*x3*x5 - 3*x2*x4^2 + 2*x2*x4*x5 - 3*x2*x5^2 - x3*xn^2 - 3*x4*xn^2 + 2*x5*xn^2,\n",
       "  (x3, 1)),\n",
       " (x2*x3*x4*x5^2 - 3*x2*x3*x5^3 + 2*x2*x4^4 - 3*x2*x4^3*x5 - x2*x4^2*x5^2 + 3*x2*x5^4 - x3*x4^2*xn^2 + 2*x3*x4*x5*xn^2 + 3*x3*x5^2*xn^2 + x4^3*xn^2 - 3*x4^2*x5*xn^2 - 3*x4*x5^2*xn^2 + 2*x5^3*xn^2,\n",
       "  (x3^2*x4, 2)),\n",
       " (x2*x3*x4^2 + x2*x3*x4*x5 + 3*x2*x3*x5^2 + 3*x2*x4^3 + 3*x2*x4^2*x5 + 2*x2*x4*x5^2 + x2*x5^3 - 3*x4^2*xn^2 + 3*x4*x5*xn^2 - 3*x5^2*xn^2,\n",
       "  (x3*x5, 2)),\n",
       " (x2*x3^2 - x2*x3*x4 + x2*x3*x5 + 2*x2*x4^2 + 3*x2*x4*x5 + 2*x2*x5^2 - 3*x3*xn^2 - 2*x4*xn^2 + 3*x5*xn^2,\n",
       "  (x5, 1)),\n",
       " (x2*x3^2*x5 - 3*x2*x3*x4^2 + 3*x2*x3*x4*x5 + 3*x2*x4^2*x5 + 3*x2*x4*x5^2 - x2*x5^3 - x3*x4*xn^2 + 3*x3*x5*xn^2 + 3*x4^2*xn^2 + 3*x4*x5*xn^2 - x5^2*xn^2,\n",
       "  (x3^2, 2)),\n",
       " (x2*x3^2*x4 - 3*x2*x3^2*x5 - x2*x3*x4^2 - 3*x2*x3*x4*x5 - 3*x2*x3*x5^2 + 2*x2*x4^3 + 2*x2*x4^2*x5 + 3*x2*x4*x5^2 - 2*x2*x5^3 - 3*x3*x4*xn^2 + 2*x3*x5*xn^2 - 2*x4^2*xn^2 - x4*x5*xn^2,\n",
       "  (x3*x4, 2)),\n",
       " (x2*x3^2*x4*x5 - 3*x2*x3^2*x5^2 - x2*x3*x4^3 + x2*x3*x4^2*x5 - 3*x2*x3*x4*x5^2 - x2*x3*x5^3 - 3*x2*x4^4 + x2*x4^3*x5 + 2*x2*x4^2*x5^2 + x2*x4*x5^3 + x2*x5^4 - 3*x3*x4*x5*xn^2 + 2*x3*x5^2*xn^2 + 3*x4^3*xn^2 - 3*x4*x5^2*xn^2 - 2*x5^3*xn^2,\n",
       "  (x4^3, 2)),\n",
       " (x2*x3^3 + 2*x2*x3*x4^2 + 2*x2*x3*x4*x5 - x2*x3*x5^2 + 3*x2*x4^3 + 3*x2*x4*x5^2 + 2*x2*x5^3 - 3*x3^2*xn^2 + 3*x3*x4*xn^2 - 3*x3*x5*xn^2 + x4^2*xn^2 - 3*x4*x5*xn^2 - 2*x5^2*xn^2,\n",
       "  (x3^2, 3)),\n",
       " (x2^2*x3*x5 - 2*x2^2*x4^2 + 2*x2^2*x5^2 - 2*x2*x4*xn^2 - 3*x2*x5*xn^2 - xn^4,\n",
       "  (x1*x3, 1)),\n",
       " (x2^3*x3 + x2^3*x4 + 2*x2^3*x5 - 3*x2^2*xn^2, (x0*x1, 0)),\n",
       " (x2^4*x3 + x2^4*x4 + x2^4*x5 - x2^3*xn^2, (x1^3, 0)),\n",
       " (x1*xn^2 - 3*x2^2*x4 + x2^2*x5 - x2*xn^2, (x1, 0)),\n",
       " (x1*xn^4 - 3*x2^3*x3*x4 + 3*x2^3*x3*x5 + 2*x2^3*x5^2 + 2*x2^2*x3*xn^2 + x2^2*x4*xn^2 - x2*xn^4,\n",
       "  (x1^2*x5, 1)),\n",
       " (x1*x5 + x2*x4 + 2*x2*x5 - 2*xn^2, (1, 1)),\n",
       " (x1*x5^2 + 3*x2*x3^2 - 3*x2*x3*x4 + 3*x2*x3*x5 - x2*x4^2 + 3*x2*x4*x5 + x2*x5^2 - 2*x3*xn^2 + x4*xn^2,\n",
       "  (x3, 2)),\n",
       " (x1*x5^3 + 3*x2*x3^2*x5 - 3*x2*x3*x4^2 + x2*x3*x4*x5 + x2*x3*x5^2 - 2*x2*x4^3 - 3*x2*x4^2*x5 - 3*x2*x4*x5^2 - 2*x2*x5^3 - 2*x3*x5*xn^2 + 2*x4^2*xn^2 - x4*x5*xn^2 + 2*x5^2*xn^2,\n",
       "  (x4^2, 2)),\n",
       " (x1*x4 - 3*x1*x5 - 3*x2*x4 + 3*x2*x5, (1, 2)),\n",
       " (x1*x4^3 + 3*x1*x4^2*x5 - 2*x1*x4*x5^2 - x1*x5^3 + x2*x3^2*x5 - x2*x3*x4^2 - 2*x2*x3*x4*x5 - 2*x2*x3*x5^2 + x2*x4^3 - 2*x2*x4^2*x5 - 3*x2*x4*x5^2 + 3*x2*x5^3 - 3*x3*x5*xn^2 + 3*x4^2*xn^2 + 2*x4*x5*xn^2 + 3*x5^2*xn^2,\n",
       "  (x3*x5, 3)),\n",
       " (x1*x3*xn^2 + 3*x1*x4*xn^2 - x1*x5*xn^2 + 3*x2^2*x3^2 - 2*x2^2*x3*x4 - 2*x2^2*x3*x5 - 2*x2^2*x4^2 - 3*x2^2*x4*x5 + 3*x2^2*x5^2 - 3*x2*x3*xn^2 - x2*x4*xn^2 + 2*x2*x5*xn^2,\n",
       "  (x1*x5, 1)),\n",
       " (x1*x3*x5 + x1*x4^2 + 2*x1*x4*x5 + 2*x1*x5^2 - x2*x3*x4 + x2*x4^2 - 3*x2*x4*x5 + 3*x2*x5^2 + 3*x4*xn^2 - x5*xn^2,\n",
       "  (x4, 3)),\n",
       " (x1*x3*x4 + x1*x3*x5 - x1*x4*x5 + 3*x1*x5^2 - x2*x3^2 + x2*x3*x4 + 2*x2*x3*x5 + 3*x2*x4*x5 + 3*x3*xn^2 + 3*x5*xn^2,\n",
       "  (x3, 3)),\n",
       " (x1*x3^2 + x1*x3*x5 + x1*x4^2 - 2*x1*x4*x5 - 3*x1*x5^2 + x2*x3^2 + x2*x3*x4 + x2*x3*x5 - 3*x2*x4^2 - 3*x2*x4*x5 + 3*x3*xn^2 - 3*x4*xn^2 - 3*x5*xn^2,\n",
       "  (x3, 4)),\n",
       " (x1*x2*x3 - 2*x1*x2*x5 - 2*x1*xn^2 - 3*x2^2*x3 - 3*x2^2*x4 - 3*x2^2*x5 - 2*x2*xn^2,\n",
       "  (x0, 0)),\n",
       " (x1*x2^2*x3 - 3*x1*x2^2*x4 + x1*x2^2*x5 - 3*x2^3*x3 + x2^3*x4 - x2^2*xn^2,\n",
       "  (x1^2, 0)),\n",
       " (x1^2*xn^2 - 2*x1*x2^2*x3 + 3*x1*x2^2*x4 - x1*x2^2*x5 - x1*x2*xn^2 - x2^3*x3 - 2*x2^3*x4 + 2*x2^2*xn^2,\n",
       "  (x0*x1, 1)),\n",
       " (x1^2*x3 - 3*x1^2*x4 - 2*x1^2*x5 + x1*x2*x3 - x1*x2*x4 + x1*xn^2 + 3*x2^2*x3 - 2*x2^2*x4 - x2^2*x5 + x2*xn^2,\n",
       "  (x0, 2)),\n",
       " (x0*xn^2 + 3*x1^2*x4 + 3*x1^2*x5 + x1*x2*x3 - x1*x2*x4 - x1*x2*x5 + 2*x1*xn^2 + x2^2*x3 + 3*x2^2*x5,\n",
       "  (x0, 1)),\n",
       " (x0*x5 - x1*x4 - x1*x5 + x2*x3 - x2*x4 - 2*x2*x5 - 3*xn^2, (1, 3)),\n",
       " (x0*x4 + x0*x5 + x1*x3 + x1*x5 + x2*x3 + x2*x4 + x2*x5 + 3*xn^2, (1, 4)),\n",
       " (x0*x3 + 2*x0*x4 + 2*x0*x5 + 2*x1*x3 - x1*x4 - 2*x1*x5 + 2*x2*x3 - 2*x2*x4 + 2*x2*x5 + 2*xn^2,\n",
       "  (1, 5)),\n",
       " (x0*x1*xn^2 + 3*x0*x2^2*x3 + 3*x0*x2^2*x4 + x0*x2^2*x5 + x0*x2*xn^2 + 3*x1^3*x3 + 2*x1^3*x4 + x1^3*x5 - 2*x1^2*x2*x4 + 3*x1^2*x2*x5 + 2*x1^2*xn^2 + 2*x1*x2^2*x3 - 2*x1*x2^2*x4 - 3*x1*x2^2*x5,\n",
       "  (x0^2, 2))}"
      ]
     },
     "execution_count": 25,
     "metadata": {},
     "output_type": "execute_result"
    }
   ],
   "source": [
    "gb"
   ]
  },
  {
   "cell_type": "code",
   "execution_count": 5,
   "metadata": {},
   "outputs": [],
   "source": [
    "singular.lib('f5_library_new.lib')"
   ]
  },
  {
   "cell_type": "code",
   "execution_count": null,
   "metadata": {},
   "outputs": [],
   "source": []
  },
  {
   "cell_type": "code",
   "execution_count": 6,
   "metadata": {},
   "outputs": [],
   "source": [
    "R2 = R_._singular_()\n",
    "i2 = singular.ideal([str(i) for i in system])"
   ]
  },
  {
   "cell_type": "code",
   "execution_count": 12,
   "metadata": {},
   "outputs": [
    {
     "data": {
      "text/plain": [
       "(x0, x1, x2, x3, x4, x5, xn)"
      ]
     },
     "execution_count": 12,
     "metadata": {},
     "output_type": "execute_result"
    }
   ],
   "source": [
    "R_.gens()"
   ]
  },
  {
   "cell_type": "code",
   "execution_count": 14,
   "metadata": {},
   "outputs": [],
   "source": []
  },
  {
   "cell_type": "code",
   "execution_count": 15,
   "metadata": {},
   "outputs": [
    {
     "data": {
      "text/plain": [
       "polynomial ring, over a field, global ordering\n",
       "// coefficients: ZZ/7\n",
       "// number of vars : 7\n",
       "//        block   1 : ordering dp\n",
       "//                  : names    x0 x1 x2 x3 x4 x5 xn\n",
       "//        block   2 : ordering C"
      ]
     },
     "execution_count": 15,
     "metadata": {},
     "output_type": "execute_result"
    }
   ],
   "source": [
    "R2"
   ]
  },
  {
   "cell_type": "code",
   "execution_count": 7,
   "metadata": {},
   "outputs": [
    {
     "name": "stdout",
     "output_type": "stream",
     "text": [
      "Interrupting Singular...\n"
     ]
    },
    {
     "ename": "KeyboardInterrupt",
     "evalue": "Restarting Singular (WARNING: all variables defined in previous session are now invalid)",
     "output_type": "error",
     "traceback": [
      "\u001b[0;31m---------------------------------------------------------------------------\u001b[0m",
      "\u001b[0;31mKeyboardInterrupt\u001b[0m                         Traceback (most recent call last)",
      "\u001b[0;32m/opt/sagemath-9.0/local/lib/python3.7/site-packages/sage/interfaces/expect.py\u001b[0m in \u001b[0;36m_eval_line\u001b[0;34m(self, line, allow_use_file, wait_for_prompt, restart_if_needed)\u001b[0m\n\u001b[1;32m    985\u001b[0m                     \u001b[0;32melse\u001b[0m\u001b[0;34m:\u001b[0m\u001b[0;34m\u001b[0m\u001b[0;34m\u001b[0m\u001b[0m\n\u001b[0;32m--> 986\u001b[0;31m                         \u001b[0mE\u001b[0m\u001b[0;34m.\u001b[0m\u001b[0mexpect\u001b[0m\u001b[0;34m(\u001b[0m\u001b[0mself\u001b[0m\u001b[0;34m.\u001b[0m\u001b[0m_prompt\u001b[0m\u001b[0;34m)\u001b[0m\u001b[0;34m\u001b[0m\u001b[0;34m\u001b[0m\u001b[0m\n\u001b[0m\u001b[1;32m    987\u001b[0m                 \u001b[0;32mexcept\u001b[0m \u001b[0mpexpect\u001b[0m\u001b[0;34m.\u001b[0m\u001b[0mEOF\u001b[0m \u001b[0;32mas\u001b[0m \u001b[0mmsg\u001b[0m\u001b[0;34m:\u001b[0m\u001b[0;34m\u001b[0m\u001b[0;34m\u001b[0m\u001b[0m\n",
      "\u001b[0;32m/opt/sagemath-9.0/local/lib/python3.7/site-packages/pexpect/spawnbase.py\u001b[0m in \u001b[0;36mexpect\u001b[0;34m(self, pattern, timeout, searchwindowsize, async_, **kw)\u001b[0m\n\u001b[1;32m    340\u001b[0m         return self.expect_list(compiled_pattern_list,\n\u001b[0;32m--> 341\u001b[0;31m                 timeout, searchwindowsize, async_)\n\u001b[0m\u001b[1;32m    342\u001b[0m \u001b[0;34m\u001b[0m\u001b[0m\n",
      "\u001b[0;32m/opt/sagemath-9.0/local/lib/python3.7/site-packages/pexpect/spawnbase.py\u001b[0m in \u001b[0;36mexpect_list\u001b[0;34m(self, pattern_list, timeout, searchwindowsize, async_, **kw)\u001b[0m\n\u001b[1;32m    368\u001b[0m         \u001b[0;32melse\u001b[0m\u001b[0;34m:\u001b[0m\u001b[0;34m\u001b[0m\u001b[0;34m\u001b[0m\u001b[0m\n\u001b[0;32m--> 369\u001b[0;31m             \u001b[0;32mreturn\u001b[0m \u001b[0mexp\u001b[0m\u001b[0;34m.\u001b[0m\u001b[0mexpect_loop\u001b[0m\u001b[0;34m(\u001b[0m\u001b[0mtimeout\u001b[0m\u001b[0;34m)\u001b[0m\u001b[0;34m\u001b[0m\u001b[0;34m\u001b[0m\u001b[0m\n\u001b[0m\u001b[1;32m    370\u001b[0m \u001b[0;34m\u001b[0m\u001b[0m\n",
      "\u001b[0;32m/opt/sagemath-9.0/local/lib/python3.7/site-packages/pexpect/expect.py\u001b[0m in \u001b[0;36mexpect_loop\u001b[0;34m(self, timeout)\u001b[0m\n\u001b[1;32m    110\u001b[0m                 \u001b[0;31m# Still have time left, so read more data\u001b[0m\u001b[0;34m\u001b[0m\u001b[0;34m\u001b[0m\u001b[0;34m\u001b[0m\u001b[0m\n\u001b[0;32m--> 111\u001b[0;31m                 \u001b[0mincoming\u001b[0m \u001b[0;34m=\u001b[0m \u001b[0mspawn\u001b[0m\u001b[0;34m.\u001b[0m\u001b[0mread_nonblocking\u001b[0m\u001b[0;34m(\u001b[0m\u001b[0mspawn\u001b[0m\u001b[0;34m.\u001b[0m\u001b[0mmaxread\u001b[0m\u001b[0;34m,\u001b[0m \u001b[0mtimeout\u001b[0m\u001b[0;34m)\u001b[0m\u001b[0;34m\u001b[0m\u001b[0;34m\u001b[0m\u001b[0m\n\u001b[0m\u001b[1;32m    112\u001b[0m                 \u001b[0;32mif\u001b[0m \u001b[0mself\u001b[0m\u001b[0;34m.\u001b[0m\u001b[0mspawn\u001b[0m\u001b[0;34m.\u001b[0m\u001b[0mdelayafterread\u001b[0m \u001b[0;32mis\u001b[0m \u001b[0;32mnot\u001b[0m \u001b[0;32mNone\u001b[0m\u001b[0;34m:\u001b[0m\u001b[0;34m\u001b[0m\u001b[0;34m\u001b[0m\u001b[0m\n",
      "\u001b[0;32m/opt/sagemath-9.0/local/lib/python3.7/site-packages/pexpect/pty_spawn.py\u001b[0m in \u001b[0;36mread_nonblocking\u001b[0;34m(self, size, timeout)\u001b[0m\n\u001b[1;32m    498\u001b[0m         \u001b[0;31m# (possibly timeout=None), we call select() with a timeout.\u001b[0m\u001b[0;34m\u001b[0m\u001b[0;34m\u001b[0m\u001b[0;34m\u001b[0m\u001b[0m\n\u001b[0;32m--> 499\u001b[0;31m         \u001b[0;32mif\u001b[0m \u001b[0;34m(\u001b[0m\u001b[0mtimeout\u001b[0m \u001b[0;34m!=\u001b[0m \u001b[0;36m0\u001b[0m\u001b[0;34m)\u001b[0m \u001b[0;32mand\u001b[0m \u001b[0mselect\u001b[0m\u001b[0;34m(\u001b[0m\u001b[0mtimeout\u001b[0m\u001b[0;34m)\u001b[0m\u001b[0;34m:\u001b[0m\u001b[0;34m\u001b[0m\u001b[0;34m\u001b[0m\u001b[0m\n\u001b[0m\u001b[1;32m    500\u001b[0m             \u001b[0;32mreturn\u001b[0m \u001b[0msuper\u001b[0m\u001b[0;34m(\u001b[0m\u001b[0mspawn\u001b[0m\u001b[0;34m,\u001b[0m \u001b[0mself\u001b[0m\u001b[0;34m)\u001b[0m\u001b[0;34m.\u001b[0m\u001b[0mread_nonblocking\u001b[0m\u001b[0;34m(\u001b[0m\u001b[0msize\u001b[0m\u001b[0;34m)\u001b[0m\u001b[0;34m\u001b[0m\u001b[0;34m\u001b[0m\u001b[0m\n",
      "\u001b[0;32m/opt/sagemath-9.0/local/lib/python3.7/site-packages/pexpect/pty_spawn.py\u001b[0m in \u001b[0;36mselect\u001b[0;34m(timeout)\u001b[0m\n\u001b[1;32m    448\u001b[0m             \u001b[0;32mdef\u001b[0m \u001b[0mselect\u001b[0m\u001b[0;34m(\u001b[0m\u001b[0mtimeout\u001b[0m\u001b[0;34m)\u001b[0m\u001b[0;34m:\u001b[0m\u001b[0;34m\u001b[0m\u001b[0;34m\u001b[0m\u001b[0m\n\u001b[0;32m--> 449\u001b[0;31m                 \u001b[0;32mreturn\u001b[0m \u001b[0mselect_ignore_interrupts\u001b[0m\u001b[0;34m(\u001b[0m\u001b[0;34m[\u001b[0m\u001b[0mself\u001b[0m\u001b[0;34m.\u001b[0m\u001b[0mchild_fd\u001b[0m\u001b[0;34m]\u001b[0m\u001b[0;34m,\u001b[0m \u001b[0;34m[\u001b[0m\u001b[0;34m]\u001b[0m\u001b[0;34m,\u001b[0m \u001b[0;34m[\u001b[0m\u001b[0;34m]\u001b[0m\u001b[0;34m,\u001b[0m \u001b[0mtimeout\u001b[0m\u001b[0;34m)\u001b[0m\u001b[0;34m[\u001b[0m\u001b[0;36m0\u001b[0m\u001b[0;34m]\u001b[0m\u001b[0;34m\u001b[0m\u001b[0;34m\u001b[0m\u001b[0m\n\u001b[0m\u001b[1;32m    450\u001b[0m \u001b[0;34m\u001b[0m\u001b[0m\n",
      "\u001b[0;32m/opt/sagemath-9.0/local/lib/python3.7/site-packages/pexpect/utils.py\u001b[0m in \u001b[0;36mselect_ignore_interrupts\u001b[0;34m(iwtd, owtd, ewtd, timeout)\u001b[0m\n\u001b[1;32m    142\u001b[0m         \u001b[0;32mtry\u001b[0m\u001b[0;34m:\u001b[0m\u001b[0;34m\u001b[0m\u001b[0;34m\u001b[0m\u001b[0m\n\u001b[0;32m--> 143\u001b[0;31m             \u001b[0;32mreturn\u001b[0m \u001b[0mselect\u001b[0m\u001b[0;34m.\u001b[0m\u001b[0mselect\u001b[0m\u001b[0;34m(\u001b[0m\u001b[0miwtd\u001b[0m\u001b[0;34m,\u001b[0m \u001b[0mowtd\u001b[0m\u001b[0;34m,\u001b[0m \u001b[0mewtd\u001b[0m\u001b[0;34m,\u001b[0m \u001b[0mtimeout\u001b[0m\u001b[0;34m)\u001b[0m\u001b[0;34m\u001b[0m\u001b[0;34m\u001b[0m\u001b[0m\n\u001b[0m\u001b[1;32m    144\u001b[0m         \u001b[0;32mexcept\u001b[0m \u001b[0mInterruptedError\u001b[0m\u001b[0;34m:\u001b[0m\u001b[0;34m\u001b[0m\u001b[0;34m\u001b[0m\u001b[0m\n",
      "\u001b[0;32msrc/cysignals/signals.pyx\u001b[0m in \u001b[0;36mcysignals.signals.python_check_interrupt\u001b[0;34m()\u001b[0m\n",
      "\u001b[0;31mKeyboardInterrupt\u001b[0m: ",
      "\nDuring handling of the above exception, another exception occurred:\n",
      "\u001b[0;31mKeyboardInterrupt\u001b[0m                         Traceback (most recent call last)",
      "\u001b[0;32m<ipython-input-7-9c36f593906b>\u001b[0m in \u001b[0;36m<module>\u001b[0;34m()\u001b[0m\n\u001b[0;32m----> 1\u001b[0;31m \u001b[0ma\u001b[0m \u001b[0;34m=\u001b[0m \u001b[0msingular\u001b[0m\u001b[0;34m.\u001b[0m\u001b[0mbasis_r\u001b[0m\u001b[0;34m(\u001b[0m\u001b[0mi2\u001b[0m\u001b[0;34m)\u001b[0m\u001b[0;34m\u001b[0m\u001b[0;34m\u001b[0m\u001b[0m\n\u001b[0m",
      "\u001b[0;32m/opt/sagemath-9.0/local/lib/python3.7/site-packages/sage/interfaces/interface.py\u001b[0m in \u001b[0;36m__call__\u001b[0;34m(self, *args, **kwds)\u001b[0m\n\u001b[1;32m    652\u001b[0m \u001b[0;34m\u001b[0m\u001b[0m\n\u001b[1;32m    653\u001b[0m     \u001b[0;32mdef\u001b[0m \u001b[0m__call__\u001b[0m\u001b[0;34m(\u001b[0m\u001b[0mself\u001b[0m\u001b[0;34m,\u001b[0m \u001b[0;34m*\u001b[0m\u001b[0margs\u001b[0m\u001b[0;34m,\u001b[0m \u001b[0;34m**\u001b[0m\u001b[0mkwds\u001b[0m\u001b[0;34m)\u001b[0m\u001b[0;34m:\u001b[0m\u001b[0;34m\u001b[0m\u001b[0;34m\u001b[0m\u001b[0m\n\u001b[0;32m--> 654\u001b[0;31m         \u001b[0;32mreturn\u001b[0m \u001b[0mself\u001b[0m\u001b[0;34m.\u001b[0m\u001b[0m_parent\u001b[0m\u001b[0;34m.\u001b[0m\u001b[0mfunction_call\u001b[0m\u001b[0;34m(\u001b[0m\u001b[0mself\u001b[0m\u001b[0;34m.\u001b[0m\u001b[0m_name\u001b[0m\u001b[0;34m,\u001b[0m \u001b[0mlist\u001b[0m\u001b[0;34m(\u001b[0m\u001b[0margs\u001b[0m\u001b[0;34m)\u001b[0m\u001b[0;34m,\u001b[0m \u001b[0mkwds\u001b[0m\u001b[0;34m)\u001b[0m\u001b[0;34m\u001b[0m\u001b[0;34m\u001b[0m\u001b[0m\n\u001b[0m\u001b[1;32m    655\u001b[0m \u001b[0;34m\u001b[0m\u001b[0m\n\u001b[1;32m    656\u001b[0m     \u001b[0;32mdef\u001b[0m \u001b[0m_instancedoc_\u001b[0m\u001b[0;34m(\u001b[0m\u001b[0mself\u001b[0m\u001b[0;34m)\u001b[0m\u001b[0;34m:\u001b[0m\u001b[0;34m\u001b[0m\u001b[0;34m\u001b[0m\u001b[0m\n",
      "\u001b[0;32m/opt/sagemath-9.0/local/lib/python3.7/site-packages/sage/interfaces/interface.py\u001b[0m in \u001b[0;36mfunction_call\u001b[0;34m(self, function, args, kwds)\u001b[0m\n\u001b[1;32m    599\u001b[0m                                        \u001b[0;34m[\u001b[0m\u001b[0ms\u001b[0m\u001b[0;34m.\u001b[0m\u001b[0mname\u001b[0m\u001b[0;34m(\u001b[0m\u001b[0;34m)\u001b[0m \u001b[0;32mfor\u001b[0m \u001b[0ms\u001b[0m \u001b[0;32min\u001b[0m \u001b[0margs\u001b[0m\u001b[0;34m]\u001b[0m\u001b[0;34m,\u001b[0m\u001b[0;34m\u001b[0m\u001b[0;34m\u001b[0m\u001b[0m\n\u001b[1;32m    600\u001b[0m                                        ['%s=%s'%(key,value.name()) for key, value in kwds.items()])\n\u001b[0;32m--> 601\u001b[0;31m         \u001b[0;32mreturn\u001b[0m \u001b[0mself\u001b[0m\u001b[0;34m.\u001b[0m\u001b[0mnew\u001b[0m\u001b[0;34m(\u001b[0m\u001b[0ms\u001b[0m\u001b[0;34m)\u001b[0m\u001b[0;34m\u001b[0m\u001b[0;34m\u001b[0m\u001b[0m\n\u001b[0m\u001b[1;32m    602\u001b[0m \u001b[0;34m\u001b[0m\u001b[0m\n\u001b[1;32m    603\u001b[0m     \u001b[0;32mdef\u001b[0m \u001b[0m_function_call_string\u001b[0m\u001b[0;34m(\u001b[0m\u001b[0mself\u001b[0m\u001b[0;34m,\u001b[0m \u001b[0mfunction\u001b[0m\u001b[0;34m,\u001b[0m \u001b[0margs\u001b[0m\u001b[0;34m,\u001b[0m \u001b[0mkwds\u001b[0m\u001b[0;34m)\u001b[0m\u001b[0;34m:\u001b[0m\u001b[0;34m\u001b[0m\u001b[0;34m\u001b[0m\u001b[0m\n",
      "\u001b[0;32m/opt/sagemath-9.0/local/lib/python3.7/site-packages/sage/interfaces/interface.py\u001b[0m in \u001b[0;36mnew\u001b[0;34m(self, code)\u001b[0m\n\u001b[1;32m    368\u001b[0m \u001b[0;34m\u001b[0m\u001b[0m\n\u001b[1;32m    369\u001b[0m     \u001b[0;32mdef\u001b[0m \u001b[0mnew\u001b[0m\u001b[0;34m(\u001b[0m\u001b[0mself\u001b[0m\u001b[0;34m,\u001b[0m \u001b[0mcode\u001b[0m\u001b[0;34m)\u001b[0m\u001b[0;34m:\u001b[0m\u001b[0;34m\u001b[0m\u001b[0;34m\u001b[0m\u001b[0m\n\u001b[0;32m--> 370\u001b[0;31m         \u001b[0;32mreturn\u001b[0m \u001b[0mself\u001b[0m\u001b[0;34m(\u001b[0m\u001b[0mcode\u001b[0m\u001b[0;34m)\u001b[0m\u001b[0;34m\u001b[0m\u001b[0;34m\u001b[0m\u001b[0m\n\u001b[0m\u001b[1;32m    371\u001b[0m \u001b[0;34m\u001b[0m\u001b[0m\n\u001b[1;32m    372\u001b[0m     \u001b[0;31m###################################################################\u001b[0m\u001b[0;34m\u001b[0m\u001b[0;34m\u001b[0m\u001b[0;34m\u001b[0m\u001b[0m\n",
      "\u001b[0;32m/opt/sagemath-9.0/local/lib/python3.7/site-packages/sage/interfaces/singular.py\u001b[0m in \u001b[0;36m__call__\u001b[0;34m(self, x, type)\u001b[0m\n\u001b[1;32m    795\u001b[0m             \u001b[0mx\u001b[0m \u001b[0;34m=\u001b[0m \u001b[0mstr\u001b[0m\u001b[0;34m(\u001b[0m\u001b[0mx\u001b[0m\u001b[0;34m)\u001b[0m\u001b[0;34m[\u001b[0m\u001b[0;36m1\u001b[0m\u001b[0;34m:\u001b[0m\u001b[0;34m-\u001b[0m\u001b[0;36m1\u001b[0m\u001b[0;34m]\u001b[0m\u001b[0;34m\u001b[0m\u001b[0;34m\u001b[0m\u001b[0m\n\u001b[1;32m    796\u001b[0m \u001b[0;34m\u001b[0m\u001b[0m\n\u001b[0;32m--> 797\u001b[0;31m         \u001b[0;32mreturn\u001b[0m \u001b[0mSingularElement\u001b[0m\u001b[0;34m(\u001b[0m\u001b[0mself\u001b[0m\u001b[0;34m,\u001b[0m \u001b[0mtype\u001b[0m\u001b[0;34m,\u001b[0m \u001b[0mx\u001b[0m\u001b[0;34m,\u001b[0m \u001b[0;32mFalse\u001b[0m\u001b[0;34m)\u001b[0m\u001b[0;34m\u001b[0m\u001b[0;34m\u001b[0m\u001b[0m\n\u001b[0m\u001b[1;32m    798\u001b[0m \u001b[0;34m\u001b[0m\u001b[0m\n\u001b[1;32m    799\u001b[0m     \u001b[0;32mdef\u001b[0m \u001b[0m_coerce_map_from_\u001b[0m\u001b[0;34m(\u001b[0m\u001b[0mself\u001b[0m\u001b[0;34m,\u001b[0m \u001b[0mS\u001b[0m\u001b[0;34m)\u001b[0m\u001b[0;34m:\u001b[0m\u001b[0;34m\u001b[0m\u001b[0;34m\u001b[0m\u001b[0m\n",
      "\u001b[0;32m/opt/sagemath-9.0/local/lib/python3.7/site-packages/sage/interfaces/singular.py\u001b[0m in \u001b[0;36m__init__\u001b[0;34m(self, parent, type, value, is_name)\u001b[0m\n\u001b[1;32m   1276\u001b[0m         \u001b[0;32mif\u001b[0m \u001b[0;32mnot\u001b[0m \u001b[0mis_name\u001b[0m\u001b[0;34m:\u001b[0m\u001b[0;34m\u001b[0m\u001b[0;34m\u001b[0m\u001b[0m\n\u001b[1;32m   1277\u001b[0m             \u001b[0;32mtry\u001b[0m\u001b[0;34m:\u001b[0m\u001b[0;34m\u001b[0m\u001b[0;34m\u001b[0m\u001b[0m\n\u001b[0;32m-> 1278\u001b[0;31m                 \u001b[0mself\u001b[0m\u001b[0;34m.\u001b[0m\u001b[0m_name\u001b[0m \u001b[0;34m=\u001b[0m \u001b[0mparent\u001b[0m\u001b[0;34m.\u001b[0m\u001b[0m_create\u001b[0m\u001b[0;34m(\u001b[0m\u001b[0mvalue\u001b[0m\u001b[0;34m,\u001b[0m \u001b[0mtype\u001b[0m\u001b[0;34m)\u001b[0m\u001b[0;34m\u001b[0m\u001b[0;34m\u001b[0m\u001b[0m\n\u001b[0m\u001b[1;32m   1279\u001b[0m             \u001b[0;31m# Convert SingularError to TypeError for\u001b[0m\u001b[0;34m\u001b[0m\u001b[0;34m\u001b[0m\u001b[0;34m\u001b[0m\u001b[0m\n\u001b[1;32m   1280\u001b[0m             \u001b[0;31m# coercion to work properly.\u001b[0m\u001b[0;34m\u001b[0m\u001b[0;34m\u001b[0m\u001b[0;34m\u001b[0m\u001b[0m\n",
      "\u001b[0;32m/opt/sagemath-9.0/local/lib/python3.7/site-packages/sage/interfaces/singular.py\u001b[0m in \u001b[0;36m_create\u001b[0;34m(self, value, type)\u001b[0m\n\u001b[1;32m    756\u001b[0m         \"\"\"\n\u001b[1;32m    757\u001b[0m         \u001b[0mname\u001b[0m \u001b[0;34m=\u001b[0m \u001b[0mself\u001b[0m\u001b[0;34m.\u001b[0m\u001b[0m_next_var_name\u001b[0m\u001b[0;34m(\u001b[0m\u001b[0;34m)\u001b[0m\u001b[0;34m\u001b[0m\u001b[0;34m\u001b[0m\u001b[0m\n\u001b[0;32m--> 758\u001b[0;31m         \u001b[0mself\u001b[0m\u001b[0;34m.\u001b[0m\u001b[0mset\u001b[0m\u001b[0;34m(\u001b[0m\u001b[0mtype\u001b[0m\u001b[0;34m,\u001b[0m \u001b[0mname\u001b[0m\u001b[0;34m,\u001b[0m \u001b[0mvalue\u001b[0m\u001b[0;34m)\u001b[0m\u001b[0;34m\u001b[0m\u001b[0;34m\u001b[0m\u001b[0m\n\u001b[0m\u001b[1;32m    759\u001b[0m         \u001b[0;32mreturn\u001b[0m \u001b[0mname\u001b[0m\u001b[0;34m\u001b[0m\u001b[0;34m\u001b[0m\u001b[0m\n\u001b[1;32m    760\u001b[0m \u001b[0;34m\u001b[0m\u001b[0m\n",
      "\u001b[0;32m/opt/sagemath-9.0/local/lib/python3.7/site-packages/sage/interfaces/singular.py\u001b[0m in \u001b[0;36mset\u001b[0;34m(self, type, name, value)\u001b[0m\n\u001b[1;32m    699\u001b[0m         \u001b[0mcmd\u001b[0m \u001b[0;34m+=\u001b[0m \u001b[0;34m'%s %s=%s;'\u001b[0m\u001b[0;34m%\u001b[0m\u001b[0;34m(\u001b[0m\u001b[0mtype\u001b[0m\u001b[0;34m,\u001b[0m \u001b[0mname\u001b[0m\u001b[0;34m,\u001b[0m \u001b[0mvalue\u001b[0m\u001b[0;34m)\u001b[0m\u001b[0;34m\u001b[0m\u001b[0;34m\u001b[0m\u001b[0m\n\u001b[1;32m    700\u001b[0m         \u001b[0mself\u001b[0m\u001b[0;34m.\u001b[0m\u001b[0m__to_clear\u001b[0m \u001b[0;34m=\u001b[0m \u001b[0;34m[\u001b[0m\u001b[0;34m]\u001b[0m\u001b[0;34m\u001b[0m\u001b[0;34m\u001b[0m\u001b[0m\n\u001b[0;32m--> 701\u001b[0;31m         \u001b[0mself\u001b[0m\u001b[0;34m.\u001b[0m\u001b[0meval\u001b[0m\u001b[0;34m(\u001b[0m\u001b[0mcmd\u001b[0m\u001b[0;34m)\u001b[0m\u001b[0;34m\u001b[0m\u001b[0;34m\u001b[0m\u001b[0m\n\u001b[0m\u001b[1;32m    702\u001b[0m \u001b[0;34m\u001b[0m\u001b[0m\n\u001b[1;32m    703\u001b[0m     \u001b[0;32mdef\u001b[0m \u001b[0mget\u001b[0m\u001b[0;34m(\u001b[0m\u001b[0mself\u001b[0m\u001b[0;34m,\u001b[0m \u001b[0mvar\u001b[0m\u001b[0;34m)\u001b[0m\u001b[0;34m:\u001b[0m\u001b[0;34m\u001b[0m\u001b[0;34m\u001b[0m\u001b[0m\n",
      "\u001b[0;32m/opt/sagemath-9.0/local/lib/python3.7/site-packages/sage/interfaces/singular.py\u001b[0m in \u001b[0;36meval\u001b[0;34m(self, x, allow_semicolon, strip, **kwds)\u001b[0m\n\u001b[1;32m    652\u001b[0m             \u001b[0mx\u001b[0m \u001b[0;34m+=\u001b[0m \u001b[0;34m';'\u001b[0m\u001b[0;34m\u001b[0m\u001b[0;34m\u001b[0m\u001b[0m\n\u001b[1;32m    653\u001b[0m \u001b[0;34m\u001b[0m\u001b[0m\n\u001b[0;32m--> 654\u001b[0;31m         \u001b[0ms\u001b[0m \u001b[0;34m=\u001b[0m \u001b[0mExpect\u001b[0m\u001b[0;34m.\u001b[0m\u001b[0meval\u001b[0m\u001b[0;34m(\u001b[0m\u001b[0mself\u001b[0m\u001b[0;34m,\u001b[0m \u001b[0mx\u001b[0m\u001b[0;34m,\u001b[0m \u001b[0;34m**\u001b[0m\u001b[0mkwds\u001b[0m\u001b[0;34m)\u001b[0m\u001b[0;34m\u001b[0m\u001b[0;34m\u001b[0m\u001b[0m\n\u001b[0m\u001b[1;32m    655\u001b[0m \u001b[0;34m\u001b[0m\u001b[0m\n\u001b[1;32m    656\u001b[0m         \u001b[0;31m# \"Segment fault\" is not a typo:\u001b[0m\u001b[0;34m\u001b[0m\u001b[0;34m\u001b[0m\u001b[0;34m\u001b[0m\u001b[0m\n",
      "\u001b[0;32m/opt/sagemath-9.0/local/lib/python3.7/site-packages/sage/interfaces/expect.py\u001b[0m in \u001b[0;36meval\u001b[0;34m(self, code, strip, synchronize, locals, allow_use_file, split_lines, **kwds)\u001b[0m\n\u001b[1;32m   1383\u001b[0m                 \u001b[0;32melif\u001b[0m \u001b[0msplit_lines\u001b[0m\u001b[0;34m:\u001b[0m\u001b[0;34m\u001b[0m\u001b[0;34m\u001b[0m\u001b[0m\n\u001b[1;32m   1384\u001b[0m                     return '\\n'.join([self._eval_line(L, allow_use_file=allow_use_file, **kwds)\n\u001b[0;32m-> 1385\u001b[0;31m                                         for L in code.split('\\n') if L != ''])\n\u001b[0m\u001b[1;32m   1386\u001b[0m                 \u001b[0;32melse\u001b[0m\u001b[0;34m:\u001b[0m\u001b[0;34m\u001b[0m\u001b[0;34m\u001b[0m\u001b[0m\n\u001b[1;32m   1387\u001b[0m                     \u001b[0;32mreturn\u001b[0m \u001b[0mself\u001b[0m\u001b[0;34m.\u001b[0m\u001b[0m_eval_line\u001b[0m\u001b[0;34m(\u001b[0m\u001b[0mcode\u001b[0m\u001b[0;34m,\u001b[0m \u001b[0mallow_use_file\u001b[0m\u001b[0;34m=\u001b[0m\u001b[0mallow_use_file\u001b[0m\u001b[0;34m,\u001b[0m \u001b[0;34m**\u001b[0m\u001b[0mkwds\u001b[0m\u001b[0;34m)\u001b[0m\u001b[0;34m\u001b[0m\u001b[0;34m\u001b[0m\u001b[0m\n",
      "\u001b[0;32m/opt/sagemath-9.0/local/lib/python3.7/site-packages/sage/interfaces/expect.py\u001b[0m in \u001b[0;36m<listcomp>\u001b[0;34m(.0)\u001b[0m\n\u001b[1;32m   1383\u001b[0m                 \u001b[0;32melif\u001b[0m \u001b[0msplit_lines\u001b[0m\u001b[0;34m:\u001b[0m\u001b[0;34m\u001b[0m\u001b[0;34m\u001b[0m\u001b[0m\n\u001b[1;32m   1384\u001b[0m                     return '\\n'.join([self._eval_line(L, allow_use_file=allow_use_file, **kwds)\n\u001b[0;32m-> 1385\u001b[0;31m                                         for L in code.split('\\n') if L != ''])\n\u001b[0m\u001b[1;32m   1386\u001b[0m                 \u001b[0;32melse\u001b[0m\u001b[0;34m:\u001b[0m\u001b[0;34m\u001b[0m\u001b[0;34m\u001b[0m\u001b[0m\n\u001b[1;32m   1387\u001b[0m                     \u001b[0;32mreturn\u001b[0m \u001b[0mself\u001b[0m\u001b[0;34m.\u001b[0m\u001b[0m_eval_line\u001b[0m\u001b[0;34m(\u001b[0m\u001b[0mcode\u001b[0m\u001b[0;34m,\u001b[0m \u001b[0mallow_use_file\u001b[0m\u001b[0;34m=\u001b[0m\u001b[0mallow_use_file\u001b[0m\u001b[0;34m,\u001b[0m \u001b[0;34m**\u001b[0m\u001b[0mkwds\u001b[0m\u001b[0;34m)\u001b[0m\u001b[0;34m\u001b[0m\u001b[0;34m\u001b[0m\u001b[0m\n",
      "\u001b[0;32m/opt/sagemath-9.0/local/lib/python3.7/site-packages/sage/interfaces/expect.py\u001b[0m in \u001b[0;36m_eval_line\u001b[0;34m(self, line, allow_use_file, wait_for_prompt, restart_if_needed)\u001b[0m\n\u001b[1;32m   1015\u001b[0m                     \u001b[0mout\u001b[0m \u001b[0;34m=\u001b[0m \u001b[0;34m''\u001b[0m\u001b[0;34m\u001b[0m\u001b[0;34m\u001b[0m\u001b[0m\n\u001b[1;32m   1016\u001b[0m         \u001b[0;32mexcept\u001b[0m \u001b[0mKeyboardInterrupt\u001b[0m\u001b[0;34m:\u001b[0m\u001b[0;34m\u001b[0m\u001b[0;34m\u001b[0m\u001b[0m\n\u001b[0;32m-> 1017\u001b[0;31m             \u001b[0mself\u001b[0m\u001b[0;34m.\u001b[0m\u001b[0m_keyboard_interrupt\u001b[0m\u001b[0;34m(\u001b[0m\u001b[0;34m)\u001b[0m\u001b[0;34m\u001b[0m\u001b[0;34m\u001b[0m\u001b[0m\n\u001b[0m\u001b[1;32m   1018\u001b[0m             \u001b[0;32mraise\u001b[0m \u001b[0mKeyboardInterrupt\u001b[0m\u001b[0;34m(\u001b[0m\u001b[0;34m\"Ctrl-c pressed while running %s\"\u001b[0m \u001b[0;34m%\u001b[0m \u001b[0mself\u001b[0m\u001b[0;34m)\u001b[0m\u001b[0;34m\u001b[0m\u001b[0;34m\u001b[0m\u001b[0m\n\u001b[1;32m   1019\u001b[0m         \u001b[0;32mif\u001b[0m \u001b[0mself\u001b[0m\u001b[0;34m.\u001b[0m\u001b[0m_terminal_echo\u001b[0m\u001b[0;34m:\u001b[0m\u001b[0;34m\u001b[0m\u001b[0;34m\u001b[0m\u001b[0m\n",
      "\u001b[0;32m/opt/sagemath-9.0/local/lib/python3.7/site-packages/sage/interfaces/singular.py\u001b[0m in \u001b[0;36m_keyboard_interrupt\u001b[0;34m(self)\u001b[0m\n\u001b[1;32m   1258\u001b[0m             \u001b[0;32mraise\u001b[0m \u001b[0mpexpect\u001b[0m\u001b[0;34m.\u001b[0m\u001b[0mExceptionPexpect\u001b[0m\u001b[0;34m(\u001b[0m\u001b[0;34m\"THIS IS A BUG -- PLEASE REPORT. This should never happen.\\n\"\u001b[0m \u001b[0;34m+\u001b[0m \u001b[0mmsg\u001b[0m\u001b[0;34m)\u001b[0m\u001b[0;34m\u001b[0m\u001b[0;34m\u001b[0m\u001b[0m\n\u001b[1;32m   1259\u001b[0m         \u001b[0mself\u001b[0m\u001b[0;34m.\u001b[0m\u001b[0m_start\u001b[0m\u001b[0;34m(\u001b[0m\u001b[0;34m)\u001b[0m\u001b[0;34m\u001b[0m\u001b[0;34m\u001b[0m\u001b[0m\n\u001b[0;32m-> 1260\u001b[0;31m         \u001b[0;32mraise\u001b[0m \u001b[0mKeyboardInterrupt\u001b[0m\u001b[0;34m(\u001b[0m\u001b[0;34m\"Restarting %s (WARNING: all variables defined in previous session are now invalid)\"\u001b[0m \u001b[0;34m%\u001b[0m \u001b[0mself\u001b[0m\u001b[0;34m)\u001b[0m\u001b[0;34m\u001b[0m\u001b[0;34m\u001b[0m\u001b[0m\n\u001b[0m\u001b[1;32m   1261\u001b[0m \u001b[0;34m\u001b[0m\u001b[0m\n\u001b[1;32m   1262\u001b[0m \u001b[0;34m\u001b[0m\u001b[0m\n",
      "\u001b[0;31mKeyboardInterrupt\u001b[0m: Restarting Singular (WARNING: all variables defined in previous session are now invalid)"
     ]
    }
   ],
   "source": [
    "a = singular.basis_r(i2)"
   ]
  },
  {
   "cell_type": "code",
   "execution_count": 19,
   "metadata": {},
   "outputs": [],
   "source": [
    "b = a.sage()"
   ]
  },
  {
   "cell_type": "code",
   "execution_count": 16,
   "metadata": {},
   "outputs": [],
   "source": [
    "a = b.groebner_basis()"
   ]
  },
  {
   "cell_type": "code",
   "execution_count": 20,
   "metadata": {},
   "outputs": [],
   "source": [
    "b = ideal(b)"
   ]
  },
  {
   "cell_type": "code",
   "execution_count": 21,
   "metadata": {},
   "outputs": [
    {
     "data": {
      "text/plain": [
       "Polynomial Sequence with 26 Polynomials in 7 Variables"
      ]
     },
     "execution_count": 21,
     "metadata": {},
     "output_type": "execute_result"
    }
   ],
   "source": [
    "b.groebner_basis()"
   ]
  },
  {
   "cell_type": "code",
   "execution_count": 22,
   "metadata": {},
   "outputs": [],
   "source": [
    "I = ideal(system)"
   ]
  },
  {
   "cell_type": "code",
   "execution_count": 24,
   "metadata": {},
   "outputs": [],
   "source": [
    "I = I.subs(xn = 1)"
   ]
  },
  {
   "cell_type": "code",
   "execution_count": 25,
   "metadata": {},
   "outputs": [
    {
     "data": {
      "text/plain": [
       "[x1*x5^2 + 2*x4 + 2*x5, x1^2 + x1*x2 + x2^2, x1*x4 - 2, x2*x4 + x1*x5 + 2, x4^2 + x4*x5 + x5^2, x2*x5 - 2, x0 + x1 - 3*x2, x3 + x4 - 3*x5]"
      ]
     },
     "execution_count": 25,
     "metadata": {},
     "output_type": "execute_result"
    }
   ],
   "source": [
    "I.groebner_basis()"
   ]
  },
  {
   "cell_type": "code",
   "execution_count": 26,
   "metadata": {},
   "outputs": [
    {
     "data": {
      "text/plain": [
       "-3*x1*x3-3*x2*x3-3*x0*x4-x1*x4-3*x2*x4-3*x0*x5-3*x1*x5-3*x2*x5,\n",
       "2*x0*x3-x1*x3-x0*x4-3*x2*x5,\n",
       "-2*x0*x3-3*x2*x3-2*x1*x4-2*x2*x4-3*x0*x5-2*x1*x5+2*x2*x5-1,\n",
       "3*x0*x3-2*x2*x3+2*x1*x4-x2*x4-2*x0*x5-x1*x5+2*x2*x5+3,\n",
       "x0*x3-x1*x3-x2*x3-x0*x4+3*x1*x4-x0*x5+x2*x5-2,\n",
       "x0*x3-3*x1*x3+2*x2*x3-3*x0*x4+3*x1*x4-2*x2*x4+2*x0*x5-2*x1*x5+x2*x5+2"
      ]
     },
     "execution_count": 26,
     "metadata": {},
     "output_type": "execute_result"
    }
   ],
   "source": []
  },
  {
   "cell_type": "code",
   "execution_count": null,
   "metadata": {},
   "outputs": [],
   "source": []
  }
 ],
 "metadata": {
  "kernelspec": {
   "display_name": "SageMath 9.0",
   "language": "sage",
   "name": "sagemath"
  },
  "language_info": {
   "codemirror_mode": {
    "name": "ipython",
    "version": 3
   },
   "file_extension": ".py",
   "mimetype": "text/x-python",
   "name": "python",
   "nbconvert_exporter": "python",
   "pygments_lexer": "ipython3",
   "version": "3.7.3"
  }
 },
 "nbformat": 4,
 "nbformat_minor": 2
}
