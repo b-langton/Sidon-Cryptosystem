{
 "cells": [
  {
   "cell_type": "code",
   "execution_count": 4,
   "metadata": {
    "scrolled": true
   },
   "outputs": [],
   "source": [
    "load('../Sage Code/sidon_cryptosystem.sage')"
   ]
  },
  {
   "cell_type": "code",
   "execution_count": null,
   "metadata": {},
   "outputs": [],
   "source": []
  },
  {
   "cell_type": "code",
   "execution_count": null,
   "metadata": {},
   "outputs": [],
   "source": []
  },
  {
   "cell_type": "code",
   "execution_count": null,
   "metadata": {},
   "outputs": [],
   "source": []
  },
  {
   "cell_type": "code",
   "execution_count": 5,
   "metadata": {},
   "outputs": [
    {
     "ename": "NameError",
     "evalue": "name 'fakePublicKey' is not defined",
     "output_type": "error",
     "traceback": [
      "\u001b[0;31m---------------------------------------------------------------------------\u001b[0m",
      "\u001b[0;31mNameError\u001b[0m                                 Traceback (most recent call last)",
      "\u001b[0;32m<ipython-input-5-92097135ab58>\u001b[0m in \u001b[0;36m<module>\u001b[0;34m()\u001b[0m\n\u001b[1;32m      8\u001b[0m \u001b[0mrk\u001b[0m \u001b[0;34m=\u001b[0m \u001b[0mr\u001b[0m\u001b[0;34m*\u001b[0m\u001b[0mk\u001b[0m\u001b[0;34m\u001b[0m\u001b[0;34m\u001b[0m\u001b[0m\n\u001b[1;32m      9\u001b[0m \u001b[0my\u001b[0m\u001b[0;34m,\u001b[0m \u001b[0mF\u001b[0m\u001b[0;34m,\u001b[0m \u001b[0mF_r\u001b[0m\u001b[0;34m,\u001b[0m \u001b[0md\u001b[0m\u001b[0;34m,\u001b[0m \u001b[0mc\u001b[0m \u001b[0;34m=\u001b[0m \u001b[0mConstructSidon2k\u001b[0m\u001b[0;34m(\u001b[0m\u001b[0mq\u001b[0m\u001b[0;34m,\u001b[0m \u001b[0mk\u001b[0m\u001b[0;34m)\u001b[0m\u001b[0;34m\u001b[0m\u001b[0;34m\u001b[0m\u001b[0m\n\u001b[0;32m---> 10\u001b[0;31m \u001b[0mmatrixList\u001b[0m\u001b[0;34m,\u001b[0m \u001b[0msidonbasis\u001b[0m\u001b[0;34m,\u001b[0m \u001b[0mmult_table\u001b[0m\u001b[0;34m,\u001b[0m \u001b[0mF_r_basis\u001b[0m \u001b[0;34m,\u001b[0m \u001b[0morigbasis\u001b[0m \u001b[0;34m=\u001b[0m \u001b[0mfakePublicKey\u001b[0m\u001b[0;34m(\u001b[0m\u001b[0my\u001b[0m\u001b[0;34m,\u001b[0m\u001b[0mq\u001b[0m\u001b[0;34m,\u001b[0m\u001b[0mF\u001b[0m\u001b[0;34m,\u001b[0m\u001b[0mF_r\u001b[0m\u001b[0;34m)\u001b[0m\u001b[0;34m\u001b[0m\u001b[0;34m\u001b[0m\u001b[0m\n\u001b[0m\u001b[1;32m     11\u001b[0m \u001b[0mbasefield\u001b[0m \u001b[0;34m=\u001b[0m \u001b[0mGF\u001b[0m\u001b[0;34m(\u001b[0m\u001b[0mq\u001b[0m\u001b[0;34m)\u001b[0m\u001b[0;34m\u001b[0m\u001b[0;34m\u001b[0m\u001b[0m\n\u001b[1;32m     12\u001b[0m \u001b[0;34m\u001b[0m\u001b[0m\n",
      "\u001b[0;31mNameError\u001b[0m: name 'fakePublicKey' is not defined"
     ]
    }
   ],
   "source": [
    "##minrank minor attack on the sidon cryptosystem. \n",
    "##Construct the cryptosystem\n",
    "\n",
    "q = 7\n",
    "basefield = GF(q)\n",
    "k = 5\n",
    "r = 2\n",
    "rk = r*k\n",
    "y, F, F_r, d, c = ConstructSidon2k(q, k)\n",
    "matrixList, sidonbasis, mult_table, F_r_basis , origbasis = fakePublicKey(y,q,F,F_r)\n",
    "basefield = GF(q)\n",
    "\n",
    "##Construct a random basis for F_r \n",
    "F_r_basis_new = Matrix(basefield, rk, lambda i,j: basefield.random_element())\n",
    "while F_r_basis_new.is_invertible() == False: \n",
    "     F_r_basis_new = Matrix(basefield, rk, lambda i,j: basefield.random_element())\n",
    "cob_matrix = F_r_basis_new.inverse()\n",
    "basiselements = []\n",
    "for i in range(rk): \n",
    "    basiselements += [convertFromLong(F_r_basis_new[i], F, F_r)]\n",
    "    "
   ]
  },
  {
   "cell_type": "code",
   "execution_count": null,
   "metadata": {},
   "outputs": [],
   "source": [
    "vector(basiselements)"
   ]
  },
  {
   "cell_type": "code",
   "execution_count": 1,
   "metadata": {},
   "outputs": [],
   "source": [
    "def fakePublicKey(y,q, F, F_r): \n",
    "    ##Generates the public key (and associated private key) using info from the given sidon space \n",
    "    p = F.characteristic()\n",
    "    k = len(F.modulus().list()) - 1\n",
    "    print(k)\n",
    "    r = len(F_r.modulus().list()) - 1\n",
    "\n",
    "    rk = (len(F_r.modulus().list()) - 1)*k\n",
    "    basefield = GF(q)\n",
    "    iterations = 0\n",
    "    iterations2 = 0\n",
    "    \n",
    "    ##Construct bases for the sidon space as well as F_r\n",
    "    sidonbasis = Matrix(basefield, k, lambda i,j: basefield.random_element()*0)\n",
    "    while sidonbasis.is_invertible() == False and iterations < 500:\n",
    "        element = F.random_element()\n",
    "        sidonbasis = Matrix([list(vector(element^(q^i))) for i in range(k)])\n",
    "        iterations += 1\n",
    "   \n",
    "    \n",
    "    ##Get the multiplication table from the basis of the sidon space\n",
    "    print(sidonbasis[0])\n",
    "    v = [F(list(sidonbasis[i])) for i in range(k)]\n",
    "    origbasis = sidonbasis\n",
    "    ##sidonbasis = [j + j^q*y for  j in v]\n",
    "    sidonbasis = [j + j^q*y for  j in v]\n",
    "    ##sidonbasis = [j*y*y^-1 for j in v]\n",
    "    \n",
    "    mult_table = vector(sidonbasis).column()*vector(sidonbasis).row()\n",
    "\n",
    "   \n",
    "    ##extension = [convertToLong(F_r.random_element()) for i in range(k)]\n",
    "    ##mat = Matrix([convertToLong(i) for i in sidonbasis] + extension)\n",
    "    ##while mat.is_invertible() == False: \n",
    "      ##  extension = [convertToLong(F_r.random_element()) for i in range(k)]\n",
    "     ##   mat = Matrix([convertToLong(i) for i in sidonbasis] + extension)\n",
    "   \n",
    "    ##F_r_basis = mat\n",
    "    extended_basis = [[j*y^i for j in v] for i in range(r)]\n",
    "    vec_extended_basis  = []\n",
    "    for j in extended_basis:\n",
    "        vec_extended_basis += j\n",
    "    extended_basis  = Matrix([convertToLong(i) for i in vec_extended_basis])\n",
    "    assert(extended_basis.is_invertible() == True)\n",
    "    print(extended_basis.nrows(), extended_basis.ncols())\n",
    "    F_r_basis = extended_basis\n",
    "    assert(iterations<500 and iterations2<500)\n",
    "    cob_matrix = F_r_basis.inverse()\n",
    "    print(cob_matrix)\n",
    "    vec_list = [[0 for i in range(k)] for j in range(k)]\n",
    "\n",
    "    ##Generate the public key M(V,B)\n",
    "    for i in range(k): \n",
    "        for j in range(k):\n",
    "            element = mult_table[i][j]\n",
    "            long_representation = convertToLong(element)\n",
    "            vec_list[i][j] = list(long_representation*cob_matrix) \n",
    "    matrixlist = [0 for i in range(rk)]\n",
    "    \n",
    "    ##Return the public key \n",
    "    for i in range(rk): \n",
    "        matrixlist[i] = Matrix(basefield, k, lambda l,j: vec_list[l][j][i])\n",
    "    return matrixlist, sidonbasis, mult_table, F_r_basis, origbasis"
   ]
  },
  {
   "cell_type": "code",
   "execution_count": null,
   "metadata": {},
   "outputs": [],
   "source": [
    "new_mult_table"
   ]
  },
  {
   "cell_type": "code",
   "execution_count": 29,
   "metadata": {},
   "outputs": [],
   "source": [
    "c_matrix = [[0 for i in range(rk)] for j in range(rk)]\n",
    "new_mult_table = [[i*j for i in basiselements] for j in basiselements]\n",
    "for i in range(rk): \n",
    "    for j in range(rk): \n",
    "        element = convertToLong(new_mult_table[i][j])\n",
    "        c_matrix[i][j] = element*cob_matrix"
   ]
  },
  {
   "cell_type": "code",
   "execution_count": 40,
   "metadata": {},
   "outputs": [
    {
     "data": {
      "text/plain": [
       "[(11, 14, 6, 2, 3, 6),\n",
       " (0, 3, 20, 4, 14, 5),\n",
       " (6, 4, 16, 21, 6, 18),\n",
       " (1, 3, 18, 13, 4, 0),\n",
       " (7, 0, 22, 8, 15, 22),\n",
       " (0, 19, 14, 19, 9, 11)]"
      ]
     },
     "execution_count": 40,
     "metadata": {},
     "output_type": "execute_result"
    }
   ],
   "source": [
    "c_matrix[0]"
   ]
  },
  {
   "cell_type": "code",
   "execution_count": 52,
   "metadata": {},
   "outputs": [
    {
     "data": {
      "text/plain": [
       "[5 4 4 6 0]\n",
       "[4 5 3 2 0]\n",
       "[4 3 5 2 5]\n",
       "[6 2 2 5 4]\n",
       "[0 0 5 4 6]"
      ]
     },
     "execution_count": 52,
     "metadata": {},
     "output_type": "execute_result"
    }
   ],
   "source": []
  },
  {
   "cell_type": "code",
   "execution_count": 6,
   "metadata": {},
   "outputs": [],
   "source": [
    "def getIndices(y,x, k, r): \n",
    "    y = int(y)\n",
    "    x = int(x)\n",
    "    rk  = r*k\n",
    "    t1 = x//rk^3\n",
    "    rem = x% rk^3 \n",
    "    a1 = rem//rk^2\n",
    "    rem = rem%rk^2\n",
    "    t2 = rem//rk\n",
    "    rem = rem%rk\n",
    "    a2= rem \n",
    "    \n",
    "    \n",
    "    d = y//((k^2-k)*(k^2 - k)/4)\n",
    "    rem = y%((k^2-k)*(k^2 - k)/4)\n",
    "    l = rem//int(((k^2 - k)/2)) + 1\n",
    "    rem = rem%((k^2 - k)/2)\n",
    "    j = rem + 1 \n",
    "    \n",
    "   \n",
    "    lx  = 1\n",
    "    jx = 1\n",
    "    ly = 0\n",
    "    jy = 0\n",
    "    continuel = True\n",
    "    continuej = True\n",
    "    startl = k*(k-1)/2\n",
    "    startj = k*(k-1)/2\n",
    "    for i in range(k-1):\n",
    "        if continuel == True:\n",
    "            startl -= k-1 - i\n",
    "            if l> startl:\n",
    "                lx = k-1 - i \n",
    "                ly = l - startl - 1\n",
    "                continuel = False\n",
    "        if continuej == True:\n",
    "            startj -= k-1 - i\n",
    "            if j> startj:\n",
    "                jx = k-1 - i \n",
    "                jy = j - startj - 1\n",
    "                continuej = False\n",
    "    return int(t1), int(a1), int(t2), int(a2), int(d), int(lx), int(ly), int(jx), int(jy)\n",
    "            \n",
    "            \n",
    "        \n",
    "    \n",
    "    "
   ]
  },
  {
   "cell_type": "code",
   "execution_count": 7,
   "metadata": {},
   "outputs": [
    {
     "name": "stdout",
     "output_type": "stream",
     "text": [
      "[0, 1, 2, 3, 4]\n"
     ]
    }
   ],
   "source": [
    "print([i for i in range(5)])"
   ]
  },
  {
   "cell_type": "code",
   "execution_count": 37,
   "metadata": {},
   "outputs": [],
   "source": [
    "## j = jx, i = jy, r = lx, l = ly\n",
    "\n",
    "def getSimpleCoeff(y,x,k, r, matrixList):\n",
    "    t1, a1, t2, a2, d, lx, ly, jx, jy = getIndices(y,x,k,r)\n",
    "    ##if(lx*k^2 + ly*k > jx * k^2 + jy*k): \n",
    "       ## return 0\n",
    "    if x < r*k:\n",
    "       \n",
    "        return matrixList[x][jy][ly]*matrixList[x][jx][lx] - matrixList[x][jy][lx]*matrixList[x][jx][ly]\n",
    "    else: \n",
    "      \n",
    "        x = (rk+1)*(rk)/2 - x\n",
    "        ##x = x - rk\n",
    "        start = r*k*(r*k-1)/2\n",
    "        x1 = 1\n",
    "        x2 = 0\n",
    "        for i in range(r*k-1):\n",
    "            start -= r*k-1 - i\n",
    "            if x> start:\n",
    "                x1 = r*k-1 - i \n",
    "                x2 = x - start - 1\n",
    "                break\n",
    "       \n",
    "        return matrixList[x1][jy][ly]*matrixList[x2][jx][lx] - matrixList[x1][jy][lx]*matrixList[x2][jx][ly] + matrixList[x2][jy][ly]*matrixList[x1][jx][lx] - matrixList[x2][jy][lx]*matrixList[x1][jx][ly]\n",
    "def getMonomialOrder(y,x,k, r, matrixList):\n",
    "    t1, a1, t2, a2, d, lx, ly, jx, jy = getIndices(y,x,k,r)\n",
    "    ##if(lx*k^2 + ly*k > jx * k^2 + jy*k): \n",
    "       ## return 0\n",
    "    if x < r*k:\n",
    "       \n",
    "        return (x,x)\n",
    "    else: \n",
    "      \n",
    "        x = (rk+1)*(rk)/2 - x\n",
    "        ##x = x - rk\n",
    "        start = r*k*(r*k-1)/2\n",
    "        x1 = 1\n",
    "        x2 = 0\n",
    "        for i in range(r*k-1):\n",
    "            start -= r*k-1 - i\n",
    "            if x> start:\n",
    "                x1 = r*k-1 - i \n",
    "                x2 = x - start - 1\n",
    "                break\n",
    "       \n",
    "        return (x1,x2)\n",
    "            \n",
    "               \n",
    "               "
   ]
  },
  {
   "cell_type": "code",
   "execution_count": 9,
   "metadata": {},
   "outputs": [],
   "source": [
    "def getLinearizedCoeff(y, x, k, r, matrixList, c_matrix):\n",
    "    if y % 100 == 0 and x == 0: \n",
    "        print(y)\n",
    "    t1,a1,t2,a2,d,lx,ly,jx,jy = getIndices(y,x,k,r)\n",
    "\n",
    "    if t1*r*k + a1 > t2*r*k + a2: \n",
    "      \n",
    "        return 0\n",
    "    c = c_matrix[a1][a2][d]\n",
    "    coeff = c*(matrixList[t1][jy][ly]*matrixList[t2][jx][lx] - matrixList[t1][jy][lx]*matrixList[t2][jx][ly])\n",
    "\n",
    "    coeff2 = 0\n",
    "    if t1*r*k + a1 != t2*r*k + a2:\n",
    "        \n",
    "        temp = t1\n",
    "        t1 = t2\n",
    "        t2 = temp\n",
    "\n",
    "        temp = a1\n",
    "        a1 = a2\n",
    "        a2 = temp\n",
    "        \n",
    "        c2 = c_matrix[a1][a2][d]\n",
    "        coeff2 = c2*(matrixList[t1][jy][ly]*matrixList[t2][jx][lx] - matrixList[t1][jy][lx]*matrixList[t2][jx][ly])\n",
    "           \n",
    "    return coeff + coeff2\n",
    "    "
   ]
  },
  {
   "cell_type": "code",
   "execution_count": 131,
   "metadata": {},
   "outputs": [],
   "source": [
    "k = 6\n",
    "r = 3\n",
    "rk = r*k\n",
    "matrixList = [0 for i in range(rk)]\n",
    "for i in range(rk): \n",
    "    c = Matrix(basefield, k, lambda i, j:basefield.random_element())\n",
    "    c2 = c+ c.transpose() \n",
    "    matrixList[i] = c2"
   ]
  },
  {
   "cell_type": "code",
   "execution_count": 359,
   "metadata": {},
   "outputs": [
    {
     "name": "stdout",
     "output_type": "stream",
     "text": [
      "[2 1 1 1 0 1 0 2]\n",
      "[2 2 2 2 2 1 0 1]\n",
      "[1 2 1 1 1 2 0 1]\n",
      "[1 2 2 0 1 2 1 1]\n",
      "[1 1 1 2 1 2 1 0]\n",
      "[2 1 1 2 2 2 1 1]\n",
      "[2 1 1 1 0 1 1 2]\n",
      "[1 2 0 0 1 1 2 1]\n"
     ]
    }
   ],
   "source": [
    "q = 3\n",
    "basefield = GF(q)\n",
    "k = 4\n",
    "r = 2\n",
    "rk = r*k\n",
    "y, F, F_r, c, d = ConstructSidon2k(q, k)\n",
    "matrixList, sidonbasis, mult_table, F_r_basis , origbasis = publicKey(y,q,F,F_r)\n",
    "basefield = GF(q)\n",
    "\n",
    "##Construct a random basis for F_r \n",
    "F_r_basis_new = Matrix(basefield, rk, lambda i,j: basefield.random_element())\n",
    "while F_r_basis_new.is_invertible() == False: \n",
    "     F_r_basis_new = Matrix(basefield, rk, lambda i,j: basefield.random_element())\n",
    "cob_matrix = F_r_basis_new.inverse()\n",
    "basiselements = []\n",
    "for i in range(rk): \n",
    "    basiselements += [convertFromLong(F_r_basis_new[i], F, F_r)]"
   ]
  },
  {
   "cell_type": "code",
   "execution_count": 236,
   "metadata": {},
   "outputs": [],
   "source": [
    "F_r_invertible = Matrix(F_r, 15, lambda i, j: F_r.random_element())"
   ]
  },
  {
   "cell_type": "code",
   "execution_count": 237,
   "metadata": {},
   "outputs": [],
   "source": [
    "while F_r_invertible.is_invertible() == False: \n",
    "     F_r_invertible = Matrix(basefield, 2*rk, lambda i,j: F_r_invertible.random_element())"
   ]
  },
  {
   "cell_type": "code",
   "execution_count": 238,
   "metadata": {},
   "outputs": [],
   "source": [
    "simple_mat = Matrix(basefield, (k*(k-1)/2)^2, (rk+1)*(rk)/2, lambda i, j: getSimpleCoeff(i,j,k,r,matrixList))"
   ]
  },
  {
   "cell_type": "code",
   "execution_count": 239,
   "metadata": {},
   "outputs": [],
   "source": [
    "basis2 = simple_mat.transpose().kernel().basis()"
   ]
  },
  {
   "cell_type": "code",
   "execution_count": 240,
   "metadata": {},
   "outputs": [],
   "source": [
    "newbasis2 = F_r_invertible*Matrix(basis2)\n",
    "newmatlist = [0 for i in range(2*r*k)]\n",
    "for i in range(2*r*k): \n",
    "    newmat = [[0 for j in range(rk)] for l in range(rk)]\n",
    "    for j in range(len(newbasis2[i])): \n",
    "        y,x = getMonomialOrder(0,j,k,r,matrixList)\n",
    "        \n",
    "        newmat[y][x] = newbasis2[i][j]\n",
    "        newmat[x][y] = newbasis2[i][j]\n",
    "    newmatlist[i] = Matrix(newmat)\n",
    "\n",
    "\n",
    "\n",
    "\n",
    "\n",
    "\n",
    "\n",
    "\n",
    "\n",
    "\n",
    "\n",
    "\n",
    "\n",
    "\n",
    "\n",
    "\n",
    "\n",
    "\n",
    "\n",
    "\n",
    "\n",
    "\n",
    "\n",
    "\n",
    "\n",
    "\n",
    "\n"
   ]
  },
  {
   "cell_type": "code",
   "execution_count": 360,
   "metadata": {},
   "outputs": [
    {
     "ename": "KeyboardInterrupt",
     "evalue": "",
     "output_type": "error",
     "traceback": [
      "\u001b[0;31m---------------------------------------------------------------------------\u001b[0m",
      "\u001b[0;31mKeyboardInterrupt\u001b[0m                         Traceback (most recent call last)",
      "\u001b[0;32m<ipython-input-360-e7e3cb5550fb>\u001b[0m in \u001b[0;36m<module>\u001b[0;34m()\u001b[0m\n\u001b[1;32m      1\u001b[0m \u001b[0;34m\u001b[0m\u001b[0m\n\u001b[0;32m----> 2\u001b[0;31m \u001b[0momega_mat\u001b[0m \u001b[0;34m=\u001b[0m \u001b[0mMatrix\u001b[0m\u001b[0;34m(\u001b[0m\u001b[0mF_r\u001b[0m\u001b[0;34m,\u001b[0m \u001b[0;34m(\u001b[0m\u001b[0mInteger\u001b[0m\u001b[0;34m(\u001b[0m\u001b[0;36m2\u001b[0m\u001b[0;34m)\u001b[0m\u001b[0;34m*\u001b[0m\u001b[0mk\u001b[0m\u001b[0;34m*\u001b[0m\u001b[0;34m(\u001b[0m\u001b[0mInteger\u001b[0m\u001b[0;34m(\u001b[0m\u001b[0;36m2\u001b[0m\u001b[0;34m)\u001b[0m\u001b[0;34m*\u001b[0m\u001b[0mk\u001b[0m\u001b[0;34m-\u001b[0m\u001b[0mInteger\u001b[0m\u001b[0;34m(\u001b[0m\u001b[0;36m1\u001b[0m\u001b[0;34m)\u001b[0m\u001b[0;34m)\u001b[0m\u001b[0;34m/\u001b[0m\u001b[0mInteger\u001b[0m\u001b[0;34m(\u001b[0m\u001b[0;36m2\u001b[0m\u001b[0;34m)\u001b[0m\u001b[0;34m)\u001b[0m\u001b[0;34m**\u001b[0m\u001b[0mInteger\u001b[0m\u001b[0;34m(\u001b[0m\u001b[0;36m2\u001b[0m\u001b[0;34m)\u001b[0m\u001b[0;34m,\u001b[0m \u001b[0;34m(\u001b[0m\u001b[0mInteger\u001b[0m\u001b[0;34m(\u001b[0m\u001b[0;36m2\u001b[0m\u001b[0;34m)\u001b[0m\u001b[0;34m*\u001b[0m\u001b[0mrk\u001b[0m\u001b[0;34m+\u001b[0m\u001b[0mInteger\u001b[0m\u001b[0;34m(\u001b[0m\u001b[0;36m1\u001b[0m\u001b[0;34m)\u001b[0m\u001b[0;34m)\u001b[0m\u001b[0;34m*\u001b[0m\u001b[0;34m(\u001b[0m\u001b[0mInteger\u001b[0m\u001b[0;34m(\u001b[0m\u001b[0;36m2\u001b[0m\u001b[0;34m)\u001b[0m\u001b[0;34m*\u001b[0m\u001b[0mrk\u001b[0m\u001b[0;34m)\u001b[0m\u001b[0;34m/\u001b[0m\u001b[0mInteger\u001b[0m\u001b[0;34m(\u001b[0m\u001b[0;36m2\u001b[0m\u001b[0;34m)\u001b[0m\u001b[0;34m,\u001b[0m \u001b[0;32mlambda\u001b[0m \u001b[0mi\u001b[0m\u001b[0;34m,\u001b[0m \u001b[0mj\u001b[0m\u001b[0;34m:\u001b[0m \u001b[0mgetSimpleCoeff\u001b[0m\u001b[0;34m(\u001b[0m\u001b[0mi\u001b[0m\u001b[0;34m,\u001b[0m\u001b[0mj\u001b[0m\u001b[0;34m,\u001b[0m\u001b[0mk\u001b[0m\u001b[0;34m,\u001b[0m\u001b[0mr\u001b[0m\u001b[0;34m,\u001b[0m\u001b[0mmatrixList\u001b[0m\u001b[0;34m)\u001b[0m\u001b[0;34m)\u001b[0m\u001b[0;34m\u001b[0m\u001b[0;34m\u001b[0m\u001b[0m\n\u001b[0m",
      "\u001b[0;32m/opt/sagemath-9.0/local/lib/python3.7/site-packages/sage/matrix/constructor.pyx\u001b[0m in \u001b[0;36msage.matrix.constructor.matrix (build/cythonized/sage/matrix/constructor.c:2424)\u001b[0;34m()\u001b[0m\n\u001b[1;32m    621\u001b[0m       \u001b[0;34m:\u001b[0m\u001b[0;32mclass\u001b[0m\u001b[0;34m:\u001b[0m\u001b[0;31m`\u001b[0m\u001b[0mMatrixArgs\u001b[0m\u001b[0;31m`\u001b[0m\u001b[0;34m,\u001b[0m \u001b[0msee\u001b[0m \u001b[0;34m:\u001b[0m\u001b[0mtrac\u001b[0m\u001b[0;34m:\u001b[0m\u001b[0;31m`\u001b[0m\u001b[0;36m24742\u001b[0m\u001b[0;31m`\u001b[0m\u001b[0;34m\u001b[0m\u001b[0;34m\u001b[0m\u001b[0m\n\u001b[1;32m    622\u001b[0m     \"\"\"\n\u001b[0;32m--> 623\u001b[0;31m     \u001b[0;32mreturn\u001b[0m \u001b[0mMatrixArgs\u001b[0m\u001b[0;34m(\u001b[0m\u001b[0;34m*\u001b[0m\u001b[0margs\u001b[0m\u001b[0;34m,\u001b[0m \u001b[0;34m**\u001b[0m\u001b[0mkwds\u001b[0m\u001b[0;34m)\u001b[0m\u001b[0;34m.\u001b[0m\u001b[0mmatrix\u001b[0m\u001b[0;34m(\u001b[0m\u001b[0;34m)\u001b[0m\u001b[0;34m\u001b[0m\u001b[0;34m\u001b[0m\u001b[0m\n\u001b[0m\u001b[1;32m    624\u001b[0m \u001b[0;34m\u001b[0m\u001b[0m\n\u001b[1;32m    625\u001b[0m \u001b[0;34m\u001b[0m\u001b[0m\n",
      "\u001b[0;32m/opt/sagemath-9.0/local/lib/python3.7/site-packages/sage/matrix/args.pyx\u001b[0m in \u001b[0;36msage.matrix.args.MatrixArgs.matrix (build/cythonized/sage/matrix/args.c:7847)\u001b[0;34m()\u001b[0m\n\u001b[1;32m    660\u001b[0m                     \u001b[0;32mbreak\u001b[0m\u001b[0;34m\u001b[0m\u001b[0;34m\u001b[0m\u001b[0m\n\u001b[1;32m    661\u001b[0m         \u001b[0;32melse\u001b[0m\u001b[0;34m:\u001b[0m\u001b[0;34m\u001b[0m\u001b[0;34m\u001b[0m\u001b[0m\n\u001b[0;32m--> 662\u001b[0;31m             \u001b[0mM\u001b[0m \u001b[0;34m=\u001b[0m \u001b[0mself\u001b[0m\u001b[0;34m.\u001b[0m\u001b[0mspace\u001b[0m\u001b[0;34m(\u001b[0m\u001b[0mself\u001b[0m\u001b[0;34m,\u001b[0m \u001b[0mcoerce\u001b[0m\u001b[0;34m=\u001b[0m\u001b[0mconvert\u001b[0m\u001b[0;34m)\u001b[0m\u001b[0;34m\u001b[0m\u001b[0;34m\u001b[0m\u001b[0m\n\u001b[0m\u001b[1;32m    663\u001b[0m \u001b[0;34m\u001b[0m\u001b[0m\n\u001b[1;32m    664\u001b[0m         \u001b[0;31m# Also store the matrix to support multiple calls of matrix()\u001b[0m\u001b[0;34m\u001b[0m\u001b[0;34m\u001b[0m\u001b[0;34m\u001b[0m\u001b[0m\n",
      "\u001b[0;32m/opt/sagemath-9.0/local/lib/python3.7/site-packages/sage/matrix/matrix_space.py\u001b[0m in \u001b[0;36m__call__\u001b[0;34m(self, entries, coerce, copy)\u001b[0m\n\u001b[1;32m    814\u001b[0m             \u001b[0;34m[\u001b[0m\u001b[0mt\u001b[0m\u001b[0;34m]\u001b[0m\u001b[0;34m\u001b[0m\u001b[0;34m\u001b[0m\u001b[0m\n\u001b[1;32m    815\u001b[0m         \"\"\"\n\u001b[0;32m--> 816\u001b[0;31m         \u001b[0;32mreturn\u001b[0m \u001b[0mself\u001b[0m\u001b[0;34m.\u001b[0m\u001b[0melement_class\u001b[0m\u001b[0;34m(\u001b[0m\u001b[0mself\u001b[0m\u001b[0;34m,\u001b[0m \u001b[0mentries\u001b[0m\u001b[0;34m,\u001b[0m \u001b[0mcopy\u001b[0m\u001b[0;34m,\u001b[0m \u001b[0mcoerce\u001b[0m\u001b[0;34m)\u001b[0m\u001b[0;34m\u001b[0m\u001b[0;34m\u001b[0m\u001b[0m\n\u001b[0m\u001b[1;32m    817\u001b[0m \u001b[0;34m\u001b[0m\u001b[0m\n\u001b[1;32m    818\u001b[0m     \u001b[0;32mdef\u001b[0m \u001b[0mchange_ring\u001b[0m\u001b[0;34m(\u001b[0m\u001b[0mself\u001b[0m\u001b[0;34m,\u001b[0m \u001b[0mR\u001b[0m\u001b[0;34m)\u001b[0m\u001b[0;34m:\u001b[0m\u001b[0;34m\u001b[0m\u001b[0;34m\u001b[0m\u001b[0m\n",
      "\u001b[0;32m/opt/sagemath-9.0/local/lib/python3.7/site-packages/sage/matrix/matrix_generic_dense.pyx\u001b[0m in \u001b[0;36msage.matrix.matrix_generic_dense.Matrix_generic_dense.__init__ (build/cythonized/sage/matrix/matrix_generic_dense.c:2805)\u001b[0;34m()\u001b[0m\n\u001b[1;32m     82\u001b[0m         \"\"\"\n\u001b[1;32m     83\u001b[0m         \u001b[0mma\u001b[0m \u001b[0;34m=\u001b[0m \u001b[0mMatrixArgs_init\u001b[0m\u001b[0;34m(\u001b[0m\u001b[0mparent\u001b[0m\u001b[0;34m,\u001b[0m \u001b[0mentries\u001b[0m\u001b[0;34m)\u001b[0m\u001b[0;34m\u001b[0m\u001b[0;34m\u001b[0m\u001b[0m\n\u001b[0;32m---> 84\u001b[0;31m         \u001b[0mself\u001b[0m\u001b[0;34m.\u001b[0m\u001b[0m_entries\u001b[0m \u001b[0;34m=\u001b[0m \u001b[0mma\u001b[0m\u001b[0;34m.\u001b[0m\u001b[0mlist\u001b[0m\u001b[0;34m(\u001b[0m\u001b[0mcoerce\u001b[0m\u001b[0;34m)\u001b[0m\u001b[0;34m\u001b[0m\u001b[0;34m\u001b[0m\u001b[0m\n\u001b[0m\u001b[1;32m     85\u001b[0m \u001b[0;34m\u001b[0m\u001b[0m\n\u001b[1;32m     86\u001b[0m     \u001b[0mcdef\u001b[0m \u001b[0mMatrix_generic_dense\u001b[0m \u001b[0m_new\u001b[0m\u001b[0;34m(\u001b[0m\u001b[0mself\u001b[0m\u001b[0;34m,\u001b[0m \u001b[0mPy_ssize_t\u001b[0m \u001b[0mnrows\u001b[0m\u001b[0;34m,\u001b[0m \u001b[0mPy_ssize_t\u001b[0m \u001b[0mncols\u001b[0m\u001b[0;34m)\u001b[0m\u001b[0;34m:\u001b[0m\u001b[0;34m\u001b[0m\u001b[0;34m\u001b[0m\u001b[0m\n",
      "\u001b[0;32m/opt/sagemath-9.0/local/lib/python3.7/site-packages/sage/matrix/args.pyx\u001b[0m in \u001b[0;36msage.matrix.args.MatrixArgs.list (build/cythonized/sage/matrix/args.c:8242)\u001b[0;34m()\u001b[0m\n\u001b[1;32m    724\u001b[0m                     \u001b[0mL\u001b[0m \u001b[0;34m=\u001b[0m \u001b[0mL\u001b[0m\u001b[0;34m[\u001b[0m\u001b[0;34m:\u001b[0m\u001b[0;34m]\u001b[0m\u001b[0;34m\u001b[0m\u001b[0;34m\u001b[0m\u001b[0m\n\u001b[1;32m    725\u001b[0m         \u001b[0;32melse\u001b[0m\u001b[0;34m:\u001b[0m\u001b[0;34m\u001b[0m\u001b[0;34m\u001b[0m\u001b[0m\n\u001b[0;32m--> 726\u001b[0;31m             \u001b[0mL\u001b[0m \u001b[0;34m=\u001b[0m \u001b[0mlist\u001b[0m\u001b[0;34m(\u001b[0m\u001b[0mself\u001b[0m\u001b[0;34m.\u001b[0m\u001b[0miter\u001b[0m\u001b[0;34m(\u001b[0m\u001b[0mconvert\u001b[0m\u001b[0;34m)\u001b[0m\u001b[0;34m)\u001b[0m\u001b[0;34m\u001b[0m\u001b[0;34m\u001b[0m\u001b[0m\n\u001b[0m\u001b[1;32m    727\u001b[0m \u001b[0;34m\u001b[0m\u001b[0m\n\u001b[1;32m    728\u001b[0m         \u001b[0mcdef\u001b[0m \u001b[0mlong\u001b[0m \u001b[0mN\u001b[0m \u001b[0;34m=\u001b[0m \u001b[0mself\u001b[0m\u001b[0;34m.\u001b[0m\u001b[0mnrows\u001b[0m \u001b[0;34m*\u001b[0m \u001b[0mself\u001b[0m\u001b[0;34m.\u001b[0m\u001b[0mncols\u001b[0m\u001b[0;34m\u001b[0m\u001b[0;34m\u001b[0m\u001b[0m\n",
      "\u001b[0;32m/opt/sagemath-9.0/local/lib/python3.7/site-packages/sage/matrix/args.pyx\u001b[0m in \u001b[0;36miter (build/cythonized/sage/matrix/args.c:7039)\u001b[0;34m()\u001b[0m\n\u001b[1;32m    546\u001b[0m                 \u001b[0;32mfor\u001b[0m \u001b[0mj\u001b[0m \u001b[0;32min\u001b[0m \u001b[0mrange\u001b[0m\u001b[0;34m(\u001b[0m\u001b[0mself\u001b[0m\u001b[0;34m.\u001b[0m\u001b[0mncols\u001b[0m\u001b[0;34m)\u001b[0m\u001b[0;34m:\u001b[0m\u001b[0;34m\u001b[0m\u001b[0;34m\u001b[0m\u001b[0m\n\u001b[1;32m    547\u001b[0m                     \u001b[0msig_check\u001b[0m\u001b[0;34m(\u001b[0m\u001b[0;34m)\u001b[0m\u001b[0;34m\u001b[0m\u001b[0;34m\u001b[0m\u001b[0m\n\u001b[0;32m--> 548\u001b[0;31m                     \u001b[0mx\u001b[0m \u001b[0;34m=\u001b[0m \u001b[0mf\u001b[0m\u001b[0;34m(\u001b[0m\u001b[0mi\u001b[0m\u001b[0;34m,\u001b[0m \u001b[0mj\u001b[0m\u001b[0;34m)\u001b[0m\u001b[0;34m\u001b[0m\u001b[0;34m\u001b[0m\u001b[0m\n\u001b[0m\u001b[1;32m    549\u001b[0m                     \u001b[0;32mif\u001b[0m \u001b[0mconvert\u001b[0m \u001b[0;32mand\u001b[0m \u001b[0mself\u001b[0m\u001b[0;34m.\u001b[0m\u001b[0mneed_to_convert\u001b[0m\u001b[0;34m(\u001b[0m\u001b[0mx\u001b[0m\u001b[0;34m)\u001b[0m\u001b[0;34m:\u001b[0m\u001b[0;34m\u001b[0m\u001b[0;34m\u001b[0m\u001b[0m\n\u001b[1;32m    550\u001b[0m                         \u001b[0mx\u001b[0m \u001b[0;34m=\u001b[0m \u001b[0mself\u001b[0m\u001b[0;34m.\u001b[0m\u001b[0mbase\u001b[0m\u001b[0;34m(\u001b[0m\u001b[0mx\u001b[0m\u001b[0;34m)\u001b[0m\u001b[0;34m\u001b[0m\u001b[0;34m\u001b[0m\u001b[0m\n",
      "\u001b[0;32m<ipython-input-360-e7e3cb5550fb>\u001b[0m in \u001b[0;36m<lambda>\u001b[0;34m(i, j)\u001b[0m\n\u001b[1;32m      1\u001b[0m \u001b[0;34m\u001b[0m\u001b[0m\n\u001b[0;32m----> 2\u001b[0;31m \u001b[0momega_mat\u001b[0m \u001b[0;34m=\u001b[0m \u001b[0mMatrix\u001b[0m\u001b[0;34m(\u001b[0m\u001b[0mF_r\u001b[0m\u001b[0;34m,\u001b[0m \u001b[0;34m(\u001b[0m\u001b[0mInteger\u001b[0m\u001b[0;34m(\u001b[0m\u001b[0;36m2\u001b[0m\u001b[0;34m)\u001b[0m\u001b[0;34m*\u001b[0m\u001b[0mk\u001b[0m\u001b[0;34m*\u001b[0m\u001b[0;34m(\u001b[0m\u001b[0mInteger\u001b[0m\u001b[0;34m(\u001b[0m\u001b[0;36m2\u001b[0m\u001b[0;34m)\u001b[0m\u001b[0;34m*\u001b[0m\u001b[0mk\u001b[0m\u001b[0;34m-\u001b[0m\u001b[0mInteger\u001b[0m\u001b[0;34m(\u001b[0m\u001b[0;36m1\u001b[0m\u001b[0;34m)\u001b[0m\u001b[0;34m)\u001b[0m\u001b[0;34m/\u001b[0m\u001b[0mInteger\u001b[0m\u001b[0;34m(\u001b[0m\u001b[0;36m2\u001b[0m\u001b[0;34m)\u001b[0m\u001b[0;34m)\u001b[0m\u001b[0;34m**\u001b[0m\u001b[0mInteger\u001b[0m\u001b[0;34m(\u001b[0m\u001b[0;36m2\u001b[0m\u001b[0;34m)\u001b[0m\u001b[0;34m,\u001b[0m \u001b[0;34m(\u001b[0m\u001b[0mInteger\u001b[0m\u001b[0;34m(\u001b[0m\u001b[0;36m2\u001b[0m\u001b[0;34m)\u001b[0m\u001b[0;34m*\u001b[0m\u001b[0mrk\u001b[0m\u001b[0;34m+\u001b[0m\u001b[0mInteger\u001b[0m\u001b[0;34m(\u001b[0m\u001b[0;36m1\u001b[0m\u001b[0;34m)\u001b[0m\u001b[0;34m)\u001b[0m\u001b[0;34m*\u001b[0m\u001b[0;34m(\u001b[0m\u001b[0mInteger\u001b[0m\u001b[0;34m(\u001b[0m\u001b[0;36m2\u001b[0m\u001b[0;34m)\u001b[0m\u001b[0;34m*\u001b[0m\u001b[0mrk\u001b[0m\u001b[0;34m)\u001b[0m\u001b[0;34m/\u001b[0m\u001b[0mInteger\u001b[0m\u001b[0;34m(\u001b[0m\u001b[0;36m2\u001b[0m\u001b[0;34m)\u001b[0m\u001b[0;34m,\u001b[0m \u001b[0;32mlambda\u001b[0m \u001b[0mi\u001b[0m\u001b[0;34m,\u001b[0m \u001b[0mj\u001b[0m\u001b[0;34m:\u001b[0m \u001b[0mgetSimpleCoeff\u001b[0m\u001b[0;34m(\u001b[0m\u001b[0mi\u001b[0m\u001b[0;34m,\u001b[0m\u001b[0mj\u001b[0m\u001b[0;34m,\u001b[0m\u001b[0mk\u001b[0m\u001b[0;34m,\u001b[0m\u001b[0mr\u001b[0m\u001b[0;34m,\u001b[0m\u001b[0mmatrixList\u001b[0m\u001b[0;34m)\u001b[0m\u001b[0;34m)\u001b[0m\u001b[0;34m\u001b[0m\u001b[0;34m\u001b[0m\u001b[0m\n\u001b[0m",
      "\u001b[0;32m<ipython-input-37-4472e0dc45d5>\u001b[0m in \u001b[0;36mgetSimpleCoeff\u001b[0;34m(y, x, k, r, matrixList)\u001b[0m\n\u001b[1;32m     22\u001b[0m                 \u001b[0;32mbreak\u001b[0m\u001b[0;34m\u001b[0m\u001b[0;34m\u001b[0m\u001b[0m\n\u001b[1;32m     23\u001b[0m \u001b[0;34m\u001b[0m\u001b[0m\n\u001b[0;32m---> 24\u001b[0;31m         \u001b[0;32mreturn\u001b[0m \u001b[0mmatrixList\u001b[0m\u001b[0;34m[\u001b[0m\u001b[0mx1\u001b[0m\u001b[0;34m]\u001b[0m\u001b[0;34m[\u001b[0m\u001b[0mjy\u001b[0m\u001b[0;34m]\u001b[0m\u001b[0;34m[\u001b[0m\u001b[0mly\u001b[0m\u001b[0;34m]\u001b[0m\u001b[0;34m*\u001b[0m\u001b[0mmatrixList\u001b[0m\u001b[0;34m[\u001b[0m\u001b[0mx2\u001b[0m\u001b[0;34m]\u001b[0m\u001b[0;34m[\u001b[0m\u001b[0mjx\u001b[0m\u001b[0;34m]\u001b[0m\u001b[0;34m[\u001b[0m\u001b[0mlx\u001b[0m\u001b[0;34m]\u001b[0m \u001b[0;34m-\u001b[0m \u001b[0mmatrixList\u001b[0m\u001b[0;34m[\u001b[0m\u001b[0mx1\u001b[0m\u001b[0;34m]\u001b[0m\u001b[0;34m[\u001b[0m\u001b[0mjy\u001b[0m\u001b[0;34m]\u001b[0m\u001b[0;34m[\u001b[0m\u001b[0mlx\u001b[0m\u001b[0;34m]\u001b[0m\u001b[0;34m*\u001b[0m\u001b[0mmatrixList\u001b[0m\u001b[0;34m[\u001b[0m\u001b[0mx2\u001b[0m\u001b[0;34m]\u001b[0m\u001b[0;34m[\u001b[0m\u001b[0mjx\u001b[0m\u001b[0;34m]\u001b[0m\u001b[0;34m[\u001b[0m\u001b[0mly\u001b[0m\u001b[0;34m]\u001b[0m \u001b[0;34m+\u001b[0m \u001b[0mmatrixList\u001b[0m\u001b[0;34m[\u001b[0m\u001b[0mx2\u001b[0m\u001b[0;34m]\u001b[0m\u001b[0;34m[\u001b[0m\u001b[0mjy\u001b[0m\u001b[0;34m]\u001b[0m\u001b[0;34m[\u001b[0m\u001b[0mly\u001b[0m\u001b[0;34m]\u001b[0m\u001b[0;34m*\u001b[0m\u001b[0mmatrixList\u001b[0m\u001b[0;34m[\u001b[0m\u001b[0mx1\u001b[0m\u001b[0;34m]\u001b[0m\u001b[0;34m[\u001b[0m\u001b[0mjx\u001b[0m\u001b[0;34m]\u001b[0m\u001b[0;34m[\u001b[0m\u001b[0mlx\u001b[0m\u001b[0;34m]\u001b[0m \u001b[0;34m-\u001b[0m \u001b[0mmatrixList\u001b[0m\u001b[0;34m[\u001b[0m\u001b[0mx2\u001b[0m\u001b[0;34m]\u001b[0m\u001b[0;34m[\u001b[0m\u001b[0mjy\u001b[0m\u001b[0;34m]\u001b[0m\u001b[0;34m[\u001b[0m\u001b[0mlx\u001b[0m\u001b[0;34m]\u001b[0m\u001b[0;34m*\u001b[0m\u001b[0mmatrixList\u001b[0m\u001b[0;34m[\u001b[0m\u001b[0mx1\u001b[0m\u001b[0;34m]\u001b[0m\u001b[0;34m[\u001b[0m\u001b[0mjx\u001b[0m\u001b[0;34m]\u001b[0m\u001b[0;34m[\u001b[0m\u001b[0mly\u001b[0m\u001b[0;34m]\u001b[0m\u001b[0;34m\u001b[0m\u001b[0;34m\u001b[0m\u001b[0m\n\u001b[0m\u001b[1;32m     25\u001b[0m \u001b[0;32mdef\u001b[0m \u001b[0mgetMonomialOrder\u001b[0m\u001b[0;34m(\u001b[0m\u001b[0my\u001b[0m\u001b[0;34m,\u001b[0m\u001b[0mx\u001b[0m\u001b[0;34m,\u001b[0m\u001b[0mk\u001b[0m\u001b[0;34m,\u001b[0m \u001b[0mr\u001b[0m\u001b[0;34m,\u001b[0m \u001b[0mmatrixList\u001b[0m\u001b[0;34m)\u001b[0m\u001b[0;34m:\u001b[0m\u001b[0;34m\u001b[0m\u001b[0;34m\u001b[0m\u001b[0m\n\u001b[1;32m     26\u001b[0m     \u001b[0mt1\u001b[0m\u001b[0;34m,\u001b[0m \u001b[0ma1\u001b[0m\u001b[0;34m,\u001b[0m \u001b[0mt2\u001b[0m\u001b[0;34m,\u001b[0m \u001b[0ma2\u001b[0m\u001b[0;34m,\u001b[0m \u001b[0md\u001b[0m\u001b[0;34m,\u001b[0m \u001b[0mlx\u001b[0m\u001b[0;34m,\u001b[0m \u001b[0mly\u001b[0m\u001b[0;34m,\u001b[0m \u001b[0mjx\u001b[0m\u001b[0;34m,\u001b[0m \u001b[0mjy\u001b[0m \u001b[0;34m=\u001b[0m \u001b[0mgetIndices\u001b[0m\u001b[0;34m(\u001b[0m\u001b[0my\u001b[0m\u001b[0;34m,\u001b[0m\u001b[0mx\u001b[0m\u001b[0;34m,\u001b[0m\u001b[0mk\u001b[0m\u001b[0;34m,\u001b[0m\u001b[0mr\u001b[0m\u001b[0;34m)\u001b[0m\u001b[0;34m\u001b[0m\u001b[0;34m\u001b[0m\u001b[0m\n",
      "\u001b[0;32m/opt/sagemath-9.0/local/lib/python3.7/site-packages/sage/matrix/matrix0.pyx\u001b[0m in \u001b[0;36msage.matrix.matrix0.Matrix.__getitem__ (build/cythonized/sage/matrix/matrix0.c:8097)\u001b[0;34m()\u001b[0m\n\u001b[1;32m   1022\u001b[0m             \u001b[0;32mif\u001b[0m \u001b[0mrow\u001b[0m \u001b[0;34m<\u001b[0m \u001b[0;36m0\u001b[0m \u001b[0;32mor\u001b[0m \u001b[0mrow\u001b[0m \u001b[0;34m>=\u001b[0m \u001b[0mnrows\u001b[0m\u001b[0;34m:\u001b[0m\u001b[0;34m\u001b[0m\u001b[0;34m\u001b[0m\u001b[0m\n\u001b[1;32m   1023\u001b[0m                 \u001b[0;32mraise\u001b[0m \u001b[0mIndexError\u001b[0m\u001b[0;34m(\u001b[0m\u001b[0;34m\"matrix index out of range\"\u001b[0m\u001b[0;34m)\u001b[0m\u001b[0;34m\u001b[0m\u001b[0;34m\u001b[0m\u001b[0m\n\u001b[0;32m-> 1024\u001b[0;31m             \u001b[0mr\u001b[0m \u001b[0;34m=\u001b[0m \u001b[0mself\u001b[0m\u001b[0;34m.\u001b[0m\u001b[0mrow\u001b[0m\u001b[0;34m(\u001b[0m\u001b[0mrow\u001b[0m\u001b[0;34m)\u001b[0m\u001b[0;34m\u001b[0m\u001b[0;34m\u001b[0m\u001b[0m\n\u001b[0m\u001b[1;32m   1025\u001b[0m \u001b[0;34m\u001b[0m\u001b[0m\n\u001b[1;32m   1026\u001b[0m         \u001b[0mr\u001b[0m\u001b[0;34m.\u001b[0m\u001b[0mset_immutable\u001b[0m\u001b[0;34m(\u001b[0m\u001b[0;34m)\u001b[0m\u001b[0;34m\u001b[0m\u001b[0;34m\u001b[0m\u001b[0m\n",
      "\u001b[0;32m/opt/sagemath-9.0/local/lib/python3.7/site-packages/sage/matrix/matrix1.pyx\u001b[0m in \u001b[0;36msage.matrix.matrix1.Matrix.row (build/cythonized/sage/matrix/matrix1.c:12740)\u001b[0;34m()\u001b[0m\n\u001b[1;32m   1248\u001b[0m                                       self._ncols, sparse=self.is_sparse())\n\u001b[1;32m   1249\u001b[0m         \u001b[0mtmp\u001b[0m \u001b[0;34m=\u001b[0m \u001b[0;34m[\u001b[0m\u001b[0mself\u001b[0m\u001b[0;34m.\u001b[0m\u001b[0mget_unsafe\u001b[0m\u001b[0;34m(\u001b[0m\u001b[0mi\u001b[0m\u001b[0;34m,\u001b[0m\u001b[0mj\u001b[0m\u001b[0;34m)\u001b[0m \u001b[0;32mfor\u001b[0m \u001b[0mj\u001b[0m \u001b[0;32min\u001b[0m \u001b[0mrange\u001b[0m\u001b[0;34m(\u001b[0m\u001b[0mself\u001b[0m\u001b[0;34m.\u001b[0m\u001b[0m_ncols\u001b[0m\u001b[0;34m)\u001b[0m\u001b[0;34m]\u001b[0m\u001b[0;34m\u001b[0m\u001b[0;34m\u001b[0m\u001b[0m\n\u001b[0;32m-> 1250\u001b[0;31m         \u001b[0;32mreturn\u001b[0m \u001b[0mV\u001b[0m\u001b[0;34m(\u001b[0m\u001b[0mtmp\u001b[0m\u001b[0;34m,\u001b[0m \u001b[0mcoerce\u001b[0m\u001b[0;34m=\u001b[0m\u001b[0;32mFalse\u001b[0m\u001b[0;34m,\u001b[0m \u001b[0mcopy\u001b[0m\u001b[0;34m=\u001b[0m\u001b[0;32mFalse\u001b[0m\u001b[0;34m,\u001b[0m \u001b[0mcheck\u001b[0m\u001b[0;34m=\u001b[0m\u001b[0;32mFalse\u001b[0m\u001b[0;34m)\u001b[0m\u001b[0;34m\u001b[0m\u001b[0;34m\u001b[0m\u001b[0m\n\u001b[0m\u001b[1;32m   1251\u001b[0m \u001b[0;34m\u001b[0m\u001b[0m\n\u001b[1;32m   1252\u001b[0m \u001b[0;34m\u001b[0m\u001b[0m\n",
      "\u001b[0;32m/opt/sagemath-9.0/local/lib/python3.7/site-packages/sage/structure/parent.pyx\u001b[0m in \u001b[0;36msage.structure.parent.Parent.__call__ (build/cythonized/sage/structure/parent.c:9245)\u001b[0;34m()\u001b[0m\n\u001b[1;32m    900\u001b[0m                 \u001b[0;32mreturn\u001b[0m \u001b[0mmor\u001b[0m\u001b[0;34m.\u001b[0m\u001b[0m_call_\u001b[0m\u001b[0;34m(\u001b[0m\u001b[0mx\u001b[0m\u001b[0;34m)\u001b[0m\u001b[0;34m\u001b[0m\u001b[0;34m\u001b[0m\u001b[0m\n\u001b[1;32m    901\u001b[0m             \u001b[0;32melse\u001b[0m\u001b[0;34m:\u001b[0m\u001b[0;34m\u001b[0m\u001b[0;34m\u001b[0m\u001b[0m\n\u001b[0;32m--> 902\u001b[0;31m                 \u001b[0;32mreturn\u001b[0m \u001b[0mmor\u001b[0m\u001b[0;34m.\u001b[0m\u001b[0m_call_with_args\u001b[0m\u001b[0;34m(\u001b[0m\u001b[0mx\u001b[0m\u001b[0;34m,\u001b[0m \u001b[0margs\u001b[0m\u001b[0;34m,\u001b[0m \u001b[0mkwds\u001b[0m\u001b[0;34m)\u001b[0m\u001b[0;34m\u001b[0m\u001b[0;34m\u001b[0m\u001b[0m\n\u001b[0m\u001b[1;32m    903\u001b[0m \u001b[0;34m\u001b[0m\u001b[0m\n\u001b[1;32m    904\u001b[0m         \u001b[0;32mraise\u001b[0m \u001b[0mTypeError\u001b[0m\u001b[0;34m(\u001b[0m\u001b[0m_LazyString\u001b[0m\u001b[0;34m(\u001b[0m\u001b[0m_lazy_format\u001b[0m\u001b[0;34m,\u001b[0m \u001b[0;34m(\u001b[0m\u001b[0;34m\"No conversion defined from %s to %s\"\u001b[0m\u001b[0;34m,\u001b[0m \u001b[0mR\u001b[0m\u001b[0;34m,\u001b[0m \u001b[0mself\u001b[0m\u001b[0;34m)\u001b[0m\u001b[0;34m,\u001b[0m \u001b[0;34m{\u001b[0m\u001b[0;34m}\u001b[0m\u001b[0;34m)\u001b[0m\u001b[0;34m)\u001b[0m\u001b[0;34m\u001b[0m\u001b[0;34m\u001b[0m\u001b[0m\n",
      "\u001b[0;32m/opt/sagemath-9.0/local/lib/python3.7/site-packages/sage/structure/coerce_maps.pyx\u001b[0m in \u001b[0;36msage.structure.coerce_maps.DefaultConvertMap_unique._call_with_args (build/cythonized/sage/structure/coerce_maps.c:4871)\u001b[0;34m()\u001b[0m\n\u001b[1;32m    168\u001b[0m                     \u001b[0;32mreturn\u001b[0m \u001b[0mC\u001b[0m\u001b[0;34m.\u001b[0m\u001b[0m_element_constructor\u001b[0m\u001b[0;34m(\u001b[0m\u001b[0mx\u001b[0m\u001b[0;34m)\u001b[0m\u001b[0;34m\u001b[0m\u001b[0;34m\u001b[0m\u001b[0m\n\u001b[1;32m    169\u001b[0m                 \u001b[0;32melse\u001b[0m\u001b[0;34m:\u001b[0m\u001b[0;34m\u001b[0m\u001b[0;34m\u001b[0m\u001b[0m\n\u001b[0;32m--> 170\u001b[0;31m                     \u001b[0;32mreturn\u001b[0m \u001b[0mC\u001b[0m\u001b[0;34m.\u001b[0m\u001b[0m_element_constructor\u001b[0m\u001b[0;34m(\u001b[0m\u001b[0mx\u001b[0m\u001b[0;34m,\u001b[0m \u001b[0;34m**\u001b[0m\u001b[0mkwds\u001b[0m\u001b[0;34m)\u001b[0m\u001b[0;34m\u001b[0m\u001b[0;34m\u001b[0m\u001b[0m\n\u001b[0m\u001b[1;32m    171\u001b[0m             \u001b[0;32melse\u001b[0m\u001b[0;34m:\u001b[0m\u001b[0;34m\u001b[0m\u001b[0;34m\u001b[0m\u001b[0m\n\u001b[1;32m    172\u001b[0m                 \u001b[0;32mif\u001b[0m \u001b[0mlen\u001b[0m\u001b[0;34m(\u001b[0m\u001b[0mkwds\u001b[0m\u001b[0;34m)\u001b[0m \u001b[0;34m==\u001b[0m \u001b[0;36m0\u001b[0m\u001b[0;34m:\u001b[0m\u001b[0;34m\u001b[0m\u001b[0;34m\u001b[0m\u001b[0m\n",
      "\u001b[0;32m/opt/sagemath-9.0/local/lib/python3.7/site-packages/sage/modules/free_module.py\u001b[0m in \u001b[0;36m_element_constructor_\u001b[0;34m(self, e, *args, **kwds)\u001b[0m\n\u001b[1;32m   5575\u001b[0m         \u001b[0;32mreturn\u001b[0m \u001b[0mself\u001b[0m\u001b[0;34m.\u001b[0m\u001b[0mbase_ring\u001b[0m\u001b[0;34m(\u001b[0m\u001b[0;34m)\u001b[0m\u001b[0;34m\u001b[0m\u001b[0;34m\u001b[0m\u001b[0m\n\u001b[1;32m   5576\u001b[0m \u001b[0;34m\u001b[0m\u001b[0m\n\u001b[0;32m-> 5577\u001b[0;31m     \u001b[0;32mdef\u001b[0m \u001b[0m_element_constructor_\u001b[0m\u001b[0;34m(\u001b[0m\u001b[0mself\u001b[0m\u001b[0;34m,\u001b[0m \u001b[0me\u001b[0m\u001b[0;34m,\u001b[0m \u001b[0;34m*\u001b[0m\u001b[0margs\u001b[0m\u001b[0;34m,\u001b[0m \u001b[0;34m**\u001b[0m\u001b[0mkwds\u001b[0m\u001b[0;34m)\u001b[0m\u001b[0;34m:\u001b[0m\u001b[0;34m\u001b[0m\u001b[0;34m\u001b[0m\u001b[0m\n\u001b[0m\u001b[1;32m   5578\u001b[0m         \"\"\"\n\u001b[1;32m   5579\u001b[0m         \u001b[0mCreate\u001b[0m \u001b[0man\u001b[0m \u001b[0melement\u001b[0m \u001b[0mof\u001b[0m \u001b[0mthis\u001b[0m \u001b[0mvector\u001b[0m \u001b[0mspace\u001b[0m\u001b[0;34m.\u001b[0m\u001b[0;34m\u001b[0m\u001b[0;34m\u001b[0m\u001b[0m\n",
      "\u001b[0;32msrc/cysignals/signals.pyx\u001b[0m in \u001b[0;36mcysignals.signals.python_check_interrupt\u001b[0;34m()\u001b[0m\n",
      "\u001b[0;31mKeyboardInterrupt\u001b[0m: "
     ]
    }
   ],
   "source": [
    "\n",
    "omega_mat = Matrix(F_r, (2*k*(2*k-1)/2)^2, (2*rk+1)*(2*rk)/2, lambda i, j: getSimpleCoeff(i,j,k,r,matrixList))"
   ]
  },
  {
   "cell_type": "code",
   "execution_count": 344,
   "metadata": {},
   "outputs": [
    {
     "data": {
      "text/plain": [
       "104"
      ]
     },
     "execution_count": 344,
     "metadata": {},
     "output_type": "execute_result"
    }
   ],
   "source": [
    "omega_mat.rank()"
   ]
  },
  {
   "cell_type": "code",
   "execution_count": null,
   "metadata": {},
   "outputs": [],
   "source": []
  },
  {
   "cell_type": "code",
   "execution_count": 361,
   "metadata": {},
   "outputs": [],
   "source": [
    "\n",
    "omega_mat = Matrix(F_r, (k*(k-1)/2)^2, (rk+1)*(rk)/2, lambda i, j: getSimpleCoeff(i,j,k,r,matrixList))"
   ]
  },
  {
   "cell_type": "code",
   "execution_count": 362,
   "metadata": {},
   "outputs": [],
   "source": [
    "omega_mat = omega_mat.matrix_from_rows(omega_mat.pivot_rows())"
   ]
  },
  {
   "cell_type": "code",
   "execution_count": 363,
   "metadata": {},
   "outputs": [
    {
     "name": "stdout",
     "output_type": "stream",
     "text": [
      "Defining x0, x1, x2, x3, x4, x5, x6, x7\n"
     ]
    }
   ],
   "source": [
    "R = PolynomialRing(F_r,'x', 8, order = \"degrevlex\")\n",
    "indeterminates = R.gens()\n",
    "R.inject_variables()\n",
    "monomial_order = []\n",
    "for i in range(omega_mat.ncols()): \n",
    "    x1, x2 = getMonomialOrder(0,i,k,r,matrixList)\n",
    "    monomial_order +=[indeterminates[x1]*indeterminates[x2]]"
   ]
  },
  {
   "cell_type": "code",
   "execution_count": 364,
   "metadata": {},
   "outputs": [],
   "source": [
    "ideal1 = omega_mat*vector(monomial_order).column()"
   ]
  },
  {
   "cell_type": "code",
   "execution_count": 365,
   "metadata": {},
   "outputs": [],
   "source": [
    "ideal1 = list(ideal1)\n",
    "for i in range(len(ideal1)):\n",
    "    ideal1[i] = ideal1[i][0]"
   ]
  },
  {
   "cell_type": "code",
   "execution_count": 366,
   "metadata": {},
   "outputs": [
    {
     "data": {
      "text/plain": [
       "3"
      ]
     },
     "execution_count": 366,
     "metadata": {},
     "output_type": "execute_result"
    }
   ],
   "source": [
    "ideal1 = ideal(ideal1)\n",
    "ideal1.degree_of_semi_regularity()"
   ]
  },
  {
   "cell_type": "code",
   "execution_count": 368,
   "metadata": {},
   "outputs": [],
   "source": [
    "a = ideal1.groebner_basis()"
   ]
  },
  {
   "cell_type": "code",
   "execution_count": 369,
   "metadata": {},
   "outputs": [],
   "source": [
    "a = ideal(a)"
   ]
  },
  {
   "cell_type": "code",
   "execution_count": 370,
   "metadata": {},
   "outputs": [
    {
     "data": {
      "text/plain": [
       "3"
      ]
     },
     "execution_count": 370,
     "metadata": {},
     "output_type": "execute_result"
    }
   ],
   "source": [
    "a.degree_of_semi_regularity()"
   ]
  },
  {
   "cell_type": "code",
   "execution_count": 380,
   "metadata": {},
   "outputs": [],
   "source": [
    "a2 = a.subs(x0 = 1)"
   ]
  },
  {
   "cell_type": "code",
   "execution_count": 381,
   "metadata": {},
   "outputs": [
    {
     "name": "stdout",
     "output_type": "stream",
     "text": [
      "verbose 0 (3722: multi_polynomial_ideal.py, groebner_basis) Warning: falling back to very slow toy implementation.\n",
      "verbose 0 (1083: multi_polynomial_ideal.py, dimension) Warning: falling back to very slow toy implementation.\n"
     ]
    },
    {
     "data": {
      "text/plain": [
       "2"
      ]
     },
     "execution_count": 381,
     "metadata": {},
     "output_type": "execute_result"
    }
   ],
   "source": [
    "a2 = a2.subs(x2 = 0)\n",
    "a2.dimension()"
   ]
  },
  {
   "cell_type": "code",
   "execution_count": 308,
   "metadata": {},
   "outputs": [
    {
     "name": "stdout",
     "output_type": "stream",
     "text": [
      "verbose 0 (1083: multi_polynomial_ideal.py, dimension) Warning: falling back to very slow toy implementation.\n"
     ]
    },
    {
     "data": {
      "text/plain": [
       "2"
      ]
     },
     "execution_count": 308,
     "metadata": {},
     "output_type": "execute_result"
    }
   ],
   "source": [
    "##a2 = a2.subs(x3 = 1)\n",
    "a2.dimension()"
   ]
  },
  {
   "cell_type": "code",
   "execution_count": 382,
   "metadata": {},
   "outputs": [],
   "source": [
    "R2 = R.remove_var(x0)"
   ]
  },
  {
   "cell_type": "code",
   "execution_count": 383,
   "metadata": {},
   "outputs": [
    {
     "name": "stdout",
     "output_type": "stream",
     "text": [
      "Defining x1, x2, x3, x4, x5, x6, x7\n"
     ]
    }
   ],
   "source": [
    "R2.inject_variables()"
   ]
  },
  {
   "cell_type": "code",
   "execution_count": 266,
   "metadata": {},
   "outputs": [],
   "source": [
    "R2 = R2.remove_var(x1)"
   ]
  },
  {
   "cell_type": "code",
   "execution_count": 384,
   "metadata": {},
   "outputs": [],
   "source": [
    "R2 = R2.remove_var(x2)"
   ]
  },
  {
   "cell_type": "code",
   "execution_count": 385,
   "metadata": {},
   "outputs": [
    {
     "ename": "TypeError",
     "evalue": "not a constant polynomial",
     "output_type": "error",
     "traceback": [
      "\u001b[0;31m---------------------------------------------------------------------------\u001b[0m",
      "\u001b[0;31mTypeError\u001b[0m                                 Traceback (most recent call last)",
      "\u001b[0;32m<ipython-input-385-665afeaacbb8>\u001b[0m in \u001b[0;36m<module>\u001b[0;34m()\u001b[0m\n\u001b[0;32m----> 1\u001b[0;31m \u001b[0ma2\u001b[0m \u001b[0;34m=\u001b[0m \u001b[0mideal\u001b[0m\u001b[0;34m(\u001b[0m\u001b[0;34m[\u001b[0m\u001b[0mR2\u001b[0m\u001b[0;34m(\u001b[0m\u001b[0mi\u001b[0m\u001b[0;34m)\u001b[0m \u001b[0;32mfor\u001b[0m \u001b[0mi\u001b[0m \u001b[0;32min\u001b[0m \u001b[0ma2\u001b[0m\u001b[0;34m.\u001b[0m\u001b[0mgens\u001b[0m\u001b[0;34m(\u001b[0m\u001b[0;34m)\u001b[0m\u001b[0;34m]\u001b[0m\u001b[0;34m)\u001b[0m\u001b[0;34m\u001b[0m\u001b[0;34m\u001b[0m\u001b[0m\n\u001b[0m",
      "\u001b[0;32m<ipython-input-385-665afeaacbb8>\u001b[0m in \u001b[0;36m<listcomp>\u001b[0;34m(.0)\u001b[0m\n\u001b[0;32m----> 1\u001b[0;31m \u001b[0ma2\u001b[0m \u001b[0;34m=\u001b[0m \u001b[0mideal\u001b[0m\u001b[0;34m(\u001b[0m\u001b[0;34m[\u001b[0m\u001b[0mR2\u001b[0m\u001b[0;34m(\u001b[0m\u001b[0mi\u001b[0m\u001b[0;34m)\u001b[0m \u001b[0;32mfor\u001b[0m \u001b[0mi\u001b[0m \u001b[0;32min\u001b[0m \u001b[0ma2\u001b[0m\u001b[0;34m.\u001b[0m\u001b[0mgens\u001b[0m\u001b[0;34m(\u001b[0m\u001b[0;34m)\u001b[0m\u001b[0;34m]\u001b[0m\u001b[0;34m)\u001b[0m\u001b[0;34m\u001b[0m\u001b[0;34m\u001b[0m\u001b[0m\n\u001b[0m",
      "\u001b[0;32m/opt/sagemath-9.0/local/lib/python3.7/site-packages/sage/rings/polynomial/multi_polynomial_ring.py\u001b[0m in \u001b[0;36m__call__\u001b[0;34m(self, x, check)\u001b[0m\n\u001b[1;32m    454\u001b[0m                 \u001b[0;32mreturn\u001b[0m \u001b[0mMPolynomial_polydict\u001b[0m\u001b[0;34m(\u001b[0m\u001b[0mself\u001b[0m\u001b[0;34m,\u001b[0m \u001b[0mself\u001b[0m\u001b[0;34m.\u001b[0m\u001b[0m_extract_polydict\u001b[0m\u001b[0;34m(\u001b[0m\u001b[0mx\u001b[0m\u001b[0;34m)\u001b[0m\u001b[0;34m)\u001b[0m\u001b[0;34m\u001b[0m\u001b[0;34m\u001b[0m\u001b[0m\n\u001b[1;32m    455\u001b[0m             \u001b[0;32melse\u001b[0m\u001b[0;34m:\u001b[0m\u001b[0;34m\u001b[0m\u001b[0;34m\u001b[0m\u001b[0m\n\u001b[0;32m--> 456\u001b[0;31m                 \u001b[0;32mreturn\u001b[0m \u001b[0mMPolynomial_polydict\u001b[0m\u001b[0;34m(\u001b[0m\u001b[0mself\u001b[0m\u001b[0;34m,\u001b[0m \u001b[0mx\u001b[0m\u001b[0;34m.\u001b[0m\u001b[0m_mpoly_dict_recursive\u001b[0m\u001b[0;34m(\u001b[0m\u001b[0mself\u001b[0m\u001b[0;34m.\u001b[0m\u001b[0mvariable_names\u001b[0m\u001b[0;34m(\u001b[0m\u001b[0;34m)\u001b[0m\u001b[0;34m,\u001b[0m \u001b[0mself\u001b[0m\u001b[0;34m.\u001b[0m\u001b[0mbase_ring\u001b[0m\u001b[0;34m(\u001b[0m\u001b[0;34m)\u001b[0m\u001b[0;34m)\u001b[0m\u001b[0;34m)\u001b[0m\u001b[0;34m\u001b[0m\u001b[0;34m\u001b[0m\u001b[0m\n\u001b[0m\u001b[1;32m    457\u001b[0m \u001b[0;34m\u001b[0m\u001b[0m\n\u001b[1;32m    458\u001b[0m         \u001b[0;32melif\u001b[0m \u001b[0misinstance\u001b[0m\u001b[0;34m(\u001b[0m\u001b[0mx\u001b[0m\u001b[0;34m,\u001b[0m \u001b[0mMPolynomial_libsingular\u001b[0m\u001b[0;34m)\u001b[0m\u001b[0;34m:\u001b[0m\u001b[0;34m\u001b[0m\u001b[0;34m\u001b[0m\u001b[0m\n",
      "\u001b[0;32m/opt/sagemath-9.0/local/lib/python3.7/site-packages/sage/rings/polynomial/multi_polynomial.pyx\u001b[0m in \u001b[0;36msage.rings.polynomial.multi_polynomial.MPolynomial._mpoly_dict_recursive (build/cythonized/sage/rings/polynomial/multi_polynomial.c:10188)\u001b[0;34m()\u001b[0m\n\u001b[1;32m    494\u001b[0m         \u001b[0;32mreturn\u001b[0m \u001b[0mring\u001b[0m\u001b[0;34m(\u001b[0m\u001b[0mv\u001b[0m\u001b[0;34m)\u001b[0m\u001b[0;34m\u001b[0m\u001b[0;34m\u001b[0m\u001b[0m\n\u001b[1;32m    495\u001b[0m \u001b[0;34m\u001b[0m\u001b[0m\n\u001b[0;32m--> 496\u001b[0;31m     \u001b[0mcpdef\u001b[0m \u001b[0mdict\u001b[0m \u001b[0m_mpoly_dict_recursive\u001b[0m\u001b[0;34m(\u001b[0m\u001b[0mself\u001b[0m\u001b[0;34m,\u001b[0m \u001b[0mtuple\u001b[0m \u001b[0mvars\u001b[0m\u001b[0;34m=\u001b[0m\u001b[0;32mNone\u001b[0m\u001b[0;34m,\u001b[0m \u001b[0mbase_ring\u001b[0m\u001b[0;34m=\u001b[0m\u001b[0;32mNone\u001b[0m\u001b[0;34m)\u001b[0m\u001b[0;34m:\u001b[0m\u001b[0;34m\u001b[0m\u001b[0;34m\u001b[0m\u001b[0m\n\u001b[0m\u001b[1;32m    497\u001b[0m         r\"\"\"\n\u001b[1;32m    498\u001b[0m         \u001b[0mReturn\u001b[0m \u001b[0ma\u001b[0m\u001b[0;31m \u001b[0m\u001b[0;31m`\u001b[0m\u001b[0;31m`\u001b[0m\u001b[0mdict\u001b[0m\u001b[0;31m`\u001b[0m\u001b[0;31m`\u001b[0m \u001b[0mof\u001b[0m \u001b[0mcoefficient\u001b[0m \u001b[0mentries\u001b[0m \u001b[0msuitable\u001b[0m \u001b[0;32mfor\u001b[0m \u001b[0mconstruction\u001b[0m\u001b[0;34m\u001b[0m\u001b[0;34m\u001b[0m\u001b[0m\n",
      "\u001b[0;32m/opt/sagemath-9.0/local/lib/python3.7/site-packages/sage/rings/polynomial/multi_polynomial.pyx\u001b[0m in \u001b[0;36msage.rings.polynomial.multi_polynomial.MPolynomial._mpoly_dict_recursive (build/cythonized/sage/rings/polynomial/multi_polynomial.c:9351)\u001b[0;34m()\u001b[0m\n\u001b[1;32m    550\u001b[0m             \u001b[0;32mif\u001b[0m \u001b[0;32mnot\u001b[0m \u001b[0misinstance\u001b[0m\u001b[0;34m(\u001b[0m\u001b[0mp\u001b[0m\u001b[0;34m,\u001b[0m \u001b[0mMPolynomial\u001b[0m\u001b[0;34m)\u001b[0m\u001b[0;34m:\u001b[0m\u001b[0;34m\u001b[0m\u001b[0;34m\u001b[0m\u001b[0m\n\u001b[1;32m    551\u001b[0m                 \u001b[0;31m# Not a multivariate polynomial, so it must be a univariate\u001b[0m\u001b[0;34m\u001b[0m\u001b[0;34m\u001b[0m\u001b[0;34m\u001b[0m\u001b[0m\n\u001b[0;32m--> 552\u001b[0;31m                 \u001b[0;32mreturn\u001b[0m \u001b[0;34m(\u001b[0m\u001b[0;34m<\u001b[0m\u001b[0mPolynomial\u001b[0m\u001b[0;34m>\u001b[0m \u001b[0mp\u001b[0m\u001b[0;34m)\u001b[0m\u001b[0;34m.\u001b[0m\u001b[0m_mpoly_dict_recursive\u001b[0m\u001b[0;34m(\u001b[0m\u001b[0mvars\u001b[0m\u001b[0;34m,\u001b[0m \u001b[0mbase_ring\u001b[0m\u001b[0;34m)\u001b[0m\u001b[0;34m\u001b[0m\u001b[0;34m\u001b[0m\u001b[0m\n\u001b[0m\u001b[1;32m    553\u001b[0m             \u001b[0;32mreturn\u001b[0m \u001b[0;34m(\u001b[0m\u001b[0;34m<\u001b[0m\u001b[0mMPolynomial\u001b[0m\u001b[0;34m>\u001b[0m \u001b[0mp\u001b[0m\u001b[0;34m)\u001b[0m\u001b[0;34m.\u001b[0m\u001b[0m_mpoly_dict_recursive\u001b[0m\u001b[0;34m(\u001b[0m\u001b[0mvars\u001b[0m\u001b[0;34m,\u001b[0m \u001b[0mbase_ring\u001b[0m\u001b[0;34m)\u001b[0m\u001b[0;34m\u001b[0m\u001b[0;34m\u001b[0m\u001b[0m\n\u001b[1;32m    554\u001b[0m \u001b[0;34m\u001b[0m\u001b[0m\n",
      "\u001b[0;32m/opt/sagemath-9.0/local/lib/python3.7/site-packages/sage/rings/polynomial/polynomial_element.pyx\u001b[0m in \u001b[0;36msage.rings.polynomial.polynomial_element.Polynomial._mpoly_dict_recursive (build/cythonized/sage/rings/polynomial/polynomial_element.c:31878)\u001b[0;34m()\u001b[0m\n\u001b[1;32m   3303\u001b[0m         \u001b[0;32mif\u001b[0m \u001b[0mprev_variables\u001b[0m\u001b[0;34m:\u001b[0m\u001b[0;34m\u001b[0m\u001b[0;34m\u001b[0m\u001b[0m\n\u001b[1;32m   3304\u001b[0m             \u001b[0;32mtry\u001b[0m\u001b[0;34m:\u001b[0m\u001b[0;34m\u001b[0m\u001b[0;34m\u001b[0m\u001b[0m\n\u001b[0;32m-> 3305\u001b[0;31m                 mpolys = [a._mpoly_dict_recursive(prev_variables, base_ring)\n\u001b[0m\u001b[1;32m   3306\u001b[0m                           for a in self]\n\u001b[1;32m   3307\u001b[0m             \u001b[0;32mexcept\u001b[0m \u001b[0mAttributeError\u001b[0m\u001b[0;34m:\u001b[0m\u001b[0;34m\u001b[0m\u001b[0;34m\u001b[0m\u001b[0m\n",
      "\u001b[0;32m/opt/sagemath-9.0/local/lib/python3.7/site-packages/sage/rings/polynomial/multi_polynomial.pyx\u001b[0m in \u001b[0;36msage.rings.polynomial.multi_polynomial.MPolynomial._mpoly_dict_recursive (build/cythonized/sage/rings/polynomial/multi_polynomial.c:10188)\u001b[0;34m()\u001b[0m\n\u001b[1;32m    494\u001b[0m         \u001b[0;32mreturn\u001b[0m \u001b[0mring\u001b[0m\u001b[0;34m(\u001b[0m\u001b[0mv\u001b[0m\u001b[0;34m)\u001b[0m\u001b[0;34m\u001b[0m\u001b[0;34m\u001b[0m\u001b[0m\n\u001b[1;32m    495\u001b[0m \u001b[0;34m\u001b[0m\u001b[0m\n\u001b[0;32m--> 496\u001b[0;31m     \u001b[0mcpdef\u001b[0m \u001b[0mdict\u001b[0m \u001b[0m_mpoly_dict_recursive\u001b[0m\u001b[0;34m(\u001b[0m\u001b[0mself\u001b[0m\u001b[0;34m,\u001b[0m \u001b[0mtuple\u001b[0m \u001b[0mvars\u001b[0m\u001b[0;34m=\u001b[0m\u001b[0;32mNone\u001b[0m\u001b[0;34m,\u001b[0m \u001b[0mbase_ring\u001b[0m\u001b[0;34m=\u001b[0m\u001b[0;32mNone\u001b[0m\u001b[0;34m)\u001b[0m\u001b[0;34m:\u001b[0m\u001b[0;34m\u001b[0m\u001b[0;34m\u001b[0m\u001b[0m\n\u001b[0m\u001b[1;32m    497\u001b[0m         r\"\"\"\n\u001b[1;32m    498\u001b[0m         \u001b[0mReturn\u001b[0m \u001b[0ma\u001b[0m\u001b[0;31m \u001b[0m\u001b[0;31m`\u001b[0m\u001b[0;31m`\u001b[0m\u001b[0mdict\u001b[0m\u001b[0;31m`\u001b[0m\u001b[0;31m`\u001b[0m \u001b[0mof\u001b[0m \u001b[0mcoefficient\u001b[0m \u001b[0mentries\u001b[0m \u001b[0msuitable\u001b[0m \u001b[0;32mfor\u001b[0m \u001b[0mconstruction\u001b[0m\u001b[0;34m\u001b[0m\u001b[0;34m\u001b[0m\u001b[0m\n",
      "\u001b[0;32m/opt/sagemath-9.0/local/lib/python3.7/site-packages/sage/rings/polynomial/multi_polynomial.pyx\u001b[0m in \u001b[0;36msage.rings.polynomial.multi_polynomial.MPolynomial._mpoly_dict_recursive (build/cythonized/sage/rings/polynomial/multi_polynomial.c:9351)\u001b[0;34m()\u001b[0m\n\u001b[1;32m    550\u001b[0m             \u001b[0;32mif\u001b[0m \u001b[0;32mnot\u001b[0m \u001b[0misinstance\u001b[0m\u001b[0;34m(\u001b[0m\u001b[0mp\u001b[0m\u001b[0;34m,\u001b[0m \u001b[0mMPolynomial\u001b[0m\u001b[0;34m)\u001b[0m\u001b[0;34m:\u001b[0m\u001b[0;34m\u001b[0m\u001b[0;34m\u001b[0m\u001b[0m\n\u001b[1;32m    551\u001b[0m                 \u001b[0;31m# Not a multivariate polynomial, so it must be a univariate\u001b[0m\u001b[0;34m\u001b[0m\u001b[0;34m\u001b[0m\u001b[0;34m\u001b[0m\u001b[0m\n\u001b[0;32m--> 552\u001b[0;31m                 \u001b[0;32mreturn\u001b[0m \u001b[0;34m(\u001b[0m\u001b[0;34m<\u001b[0m\u001b[0mPolynomial\u001b[0m\u001b[0;34m>\u001b[0m \u001b[0mp\u001b[0m\u001b[0;34m)\u001b[0m\u001b[0;34m.\u001b[0m\u001b[0m_mpoly_dict_recursive\u001b[0m\u001b[0;34m(\u001b[0m\u001b[0mvars\u001b[0m\u001b[0;34m,\u001b[0m \u001b[0mbase_ring\u001b[0m\u001b[0;34m)\u001b[0m\u001b[0;34m\u001b[0m\u001b[0;34m\u001b[0m\u001b[0m\n\u001b[0m\u001b[1;32m    553\u001b[0m             \u001b[0;32mreturn\u001b[0m \u001b[0;34m(\u001b[0m\u001b[0;34m<\u001b[0m\u001b[0mMPolynomial\u001b[0m\u001b[0;34m>\u001b[0m \u001b[0mp\u001b[0m\u001b[0;34m)\u001b[0m\u001b[0;34m.\u001b[0m\u001b[0m_mpoly_dict_recursive\u001b[0m\u001b[0;34m(\u001b[0m\u001b[0mvars\u001b[0m\u001b[0;34m,\u001b[0m \u001b[0mbase_ring\u001b[0m\u001b[0;34m)\u001b[0m\u001b[0;34m\u001b[0m\u001b[0;34m\u001b[0m\u001b[0m\n\u001b[1;32m    554\u001b[0m \u001b[0;34m\u001b[0m\u001b[0m\n",
      "\u001b[0;32m/opt/sagemath-9.0/local/lib/python3.7/site-packages/sage/rings/polynomial/polynomial_element.pyx\u001b[0m in \u001b[0;36msage.rings.polynomial.polynomial_element.Polynomial._mpoly_dict_recursive (build/cythonized/sage/rings/polynomial/polynomial_element.c:31878)\u001b[0;34m()\u001b[0m\n\u001b[1;32m   3303\u001b[0m         \u001b[0;32mif\u001b[0m \u001b[0mprev_variables\u001b[0m\u001b[0;34m:\u001b[0m\u001b[0;34m\u001b[0m\u001b[0;34m\u001b[0m\u001b[0m\n\u001b[1;32m   3304\u001b[0m             \u001b[0;32mtry\u001b[0m\u001b[0;34m:\u001b[0m\u001b[0;34m\u001b[0m\u001b[0;34m\u001b[0m\u001b[0m\n\u001b[0;32m-> 3305\u001b[0;31m                 mpolys = [a._mpoly_dict_recursive(prev_variables, base_ring)\n\u001b[0m\u001b[1;32m   3306\u001b[0m                           for a in self]\n\u001b[1;32m   3307\u001b[0m             \u001b[0;32mexcept\u001b[0m \u001b[0mAttributeError\u001b[0m\u001b[0;34m:\u001b[0m\u001b[0;34m\u001b[0m\u001b[0;34m\u001b[0m\u001b[0m\n",
      "\u001b[0;32m/opt/sagemath-9.0/local/lib/python3.7/site-packages/sage/rings/polynomial/multi_polynomial.pyx\u001b[0m in \u001b[0;36msage.rings.polynomial.multi_polynomial.MPolynomial._mpoly_dict_recursive (build/cythonized/sage/rings/polynomial/multi_polynomial.c:10188)\u001b[0;34m()\u001b[0m\n\u001b[1;32m    494\u001b[0m         \u001b[0;32mreturn\u001b[0m \u001b[0mring\u001b[0m\u001b[0;34m(\u001b[0m\u001b[0mv\u001b[0m\u001b[0;34m)\u001b[0m\u001b[0;34m\u001b[0m\u001b[0;34m\u001b[0m\u001b[0m\n\u001b[1;32m    495\u001b[0m \u001b[0;34m\u001b[0m\u001b[0m\n\u001b[0;32m--> 496\u001b[0;31m     \u001b[0mcpdef\u001b[0m \u001b[0mdict\u001b[0m \u001b[0m_mpoly_dict_recursive\u001b[0m\u001b[0;34m(\u001b[0m\u001b[0mself\u001b[0m\u001b[0;34m,\u001b[0m \u001b[0mtuple\u001b[0m \u001b[0mvars\u001b[0m\u001b[0;34m=\u001b[0m\u001b[0;32mNone\u001b[0m\u001b[0;34m,\u001b[0m \u001b[0mbase_ring\u001b[0m\u001b[0;34m=\u001b[0m\u001b[0;32mNone\u001b[0m\u001b[0;34m)\u001b[0m\u001b[0;34m:\u001b[0m\u001b[0;34m\u001b[0m\u001b[0;34m\u001b[0m\u001b[0m\n\u001b[0m\u001b[1;32m    497\u001b[0m         r\"\"\"\n\u001b[1;32m    498\u001b[0m         \u001b[0mReturn\u001b[0m \u001b[0ma\u001b[0m\u001b[0;31m \u001b[0m\u001b[0;31m`\u001b[0m\u001b[0;31m`\u001b[0m\u001b[0mdict\u001b[0m\u001b[0;31m`\u001b[0m\u001b[0;31m`\u001b[0m \u001b[0mof\u001b[0m \u001b[0mcoefficient\u001b[0m \u001b[0mentries\u001b[0m \u001b[0msuitable\u001b[0m \u001b[0;32mfor\u001b[0m \u001b[0mconstruction\u001b[0m\u001b[0;34m\u001b[0m\u001b[0;34m\u001b[0m\u001b[0m\n",
      "\u001b[0;32m/opt/sagemath-9.0/local/lib/python3.7/site-packages/sage/rings/polynomial/multi_polynomial.pyx\u001b[0m in \u001b[0;36msage.rings.polynomial.multi_polynomial.MPolynomial._mpoly_dict_recursive (build/cythonized/sage/rings/polynomial/multi_polynomial.c:9351)\u001b[0;34m()\u001b[0m\n\u001b[1;32m    550\u001b[0m             \u001b[0;32mif\u001b[0m \u001b[0;32mnot\u001b[0m \u001b[0misinstance\u001b[0m\u001b[0;34m(\u001b[0m\u001b[0mp\u001b[0m\u001b[0;34m,\u001b[0m \u001b[0mMPolynomial\u001b[0m\u001b[0;34m)\u001b[0m\u001b[0;34m:\u001b[0m\u001b[0;34m\u001b[0m\u001b[0;34m\u001b[0m\u001b[0m\n\u001b[1;32m    551\u001b[0m                 \u001b[0;31m# Not a multivariate polynomial, so it must be a univariate\u001b[0m\u001b[0;34m\u001b[0m\u001b[0;34m\u001b[0m\u001b[0;34m\u001b[0m\u001b[0m\n\u001b[0;32m--> 552\u001b[0;31m                 \u001b[0;32mreturn\u001b[0m \u001b[0;34m(\u001b[0m\u001b[0;34m<\u001b[0m\u001b[0mPolynomial\u001b[0m\u001b[0;34m>\u001b[0m \u001b[0mp\u001b[0m\u001b[0;34m)\u001b[0m\u001b[0;34m.\u001b[0m\u001b[0m_mpoly_dict_recursive\u001b[0m\u001b[0;34m(\u001b[0m\u001b[0mvars\u001b[0m\u001b[0;34m,\u001b[0m \u001b[0mbase_ring\u001b[0m\u001b[0;34m)\u001b[0m\u001b[0;34m\u001b[0m\u001b[0;34m\u001b[0m\u001b[0m\n\u001b[0m\u001b[1;32m    553\u001b[0m             \u001b[0;32mreturn\u001b[0m \u001b[0;34m(\u001b[0m\u001b[0;34m<\u001b[0m\u001b[0mMPolynomial\u001b[0m\u001b[0;34m>\u001b[0m \u001b[0mp\u001b[0m\u001b[0;34m)\u001b[0m\u001b[0;34m.\u001b[0m\u001b[0m_mpoly_dict_recursive\u001b[0m\u001b[0;34m(\u001b[0m\u001b[0mvars\u001b[0m\u001b[0;34m,\u001b[0m \u001b[0mbase_ring\u001b[0m\u001b[0;34m)\u001b[0m\u001b[0;34m\u001b[0m\u001b[0;34m\u001b[0m\u001b[0m\n\u001b[1;32m    554\u001b[0m \u001b[0;34m\u001b[0m\u001b[0m\n",
      "\u001b[0;32m/opt/sagemath-9.0/local/lib/python3.7/site-packages/sage/rings/polynomial/polynomial_element.pyx\u001b[0m in \u001b[0;36msage.rings.polynomial.polynomial_element.Polynomial._mpoly_dict_recursive (build/cythonized/sage/rings/polynomial/polynomial_element.c:31878)\u001b[0;34m()\u001b[0m\n\u001b[1;32m   3303\u001b[0m         \u001b[0;32mif\u001b[0m \u001b[0mprev_variables\u001b[0m\u001b[0;34m:\u001b[0m\u001b[0;34m\u001b[0m\u001b[0;34m\u001b[0m\u001b[0m\n\u001b[1;32m   3304\u001b[0m             \u001b[0;32mtry\u001b[0m\u001b[0;34m:\u001b[0m\u001b[0;34m\u001b[0m\u001b[0;34m\u001b[0m\u001b[0m\n\u001b[0;32m-> 3305\u001b[0;31m                 mpolys = [a._mpoly_dict_recursive(prev_variables, base_ring)\n\u001b[0m\u001b[1;32m   3306\u001b[0m                           for a in self]\n\u001b[1;32m   3307\u001b[0m             \u001b[0;32mexcept\u001b[0m \u001b[0mAttributeError\u001b[0m\u001b[0;34m:\u001b[0m\u001b[0;34m\u001b[0m\u001b[0;34m\u001b[0m\u001b[0m\n",
      "\u001b[0;32m/opt/sagemath-9.0/local/lib/python3.7/site-packages/sage/rings/polynomial/multi_polynomial.pyx\u001b[0m in \u001b[0;36msage.rings.polynomial.multi_polynomial.MPolynomial._mpoly_dict_recursive (build/cythonized/sage/rings/polynomial/multi_polynomial.c:10188)\u001b[0;34m()\u001b[0m\n\u001b[1;32m    494\u001b[0m         \u001b[0;32mreturn\u001b[0m \u001b[0mring\u001b[0m\u001b[0;34m(\u001b[0m\u001b[0mv\u001b[0m\u001b[0;34m)\u001b[0m\u001b[0;34m\u001b[0m\u001b[0;34m\u001b[0m\u001b[0m\n\u001b[1;32m    495\u001b[0m \u001b[0;34m\u001b[0m\u001b[0m\n\u001b[0;32m--> 496\u001b[0;31m     \u001b[0mcpdef\u001b[0m \u001b[0mdict\u001b[0m \u001b[0m_mpoly_dict_recursive\u001b[0m\u001b[0;34m(\u001b[0m\u001b[0mself\u001b[0m\u001b[0;34m,\u001b[0m \u001b[0mtuple\u001b[0m \u001b[0mvars\u001b[0m\u001b[0;34m=\u001b[0m\u001b[0;32mNone\u001b[0m\u001b[0;34m,\u001b[0m \u001b[0mbase_ring\u001b[0m\u001b[0;34m=\u001b[0m\u001b[0;32mNone\u001b[0m\u001b[0;34m)\u001b[0m\u001b[0;34m:\u001b[0m\u001b[0;34m\u001b[0m\u001b[0;34m\u001b[0m\u001b[0m\n\u001b[0m\u001b[1;32m    497\u001b[0m         r\"\"\"\n\u001b[1;32m    498\u001b[0m         \u001b[0mReturn\u001b[0m \u001b[0ma\u001b[0m\u001b[0;31m \u001b[0m\u001b[0;31m`\u001b[0m\u001b[0;31m`\u001b[0m\u001b[0mdict\u001b[0m\u001b[0;31m`\u001b[0m\u001b[0;31m`\u001b[0m \u001b[0mof\u001b[0m \u001b[0mcoefficient\u001b[0m \u001b[0mentries\u001b[0m \u001b[0msuitable\u001b[0m \u001b[0;32mfor\u001b[0m \u001b[0mconstruction\u001b[0m\u001b[0;34m\u001b[0m\u001b[0;34m\u001b[0m\u001b[0m\n",
      "\u001b[0;32m/opt/sagemath-9.0/local/lib/python3.7/site-packages/sage/rings/polynomial/multi_polynomial.pyx\u001b[0m in \u001b[0;36msage.rings.polynomial.multi_polynomial.MPolynomial._mpoly_dict_recursive (build/cythonized/sage/rings/polynomial/multi_polynomial.c:9351)\u001b[0;34m()\u001b[0m\n\u001b[1;32m    550\u001b[0m             \u001b[0;32mif\u001b[0m \u001b[0;32mnot\u001b[0m \u001b[0misinstance\u001b[0m\u001b[0;34m(\u001b[0m\u001b[0mp\u001b[0m\u001b[0;34m,\u001b[0m \u001b[0mMPolynomial\u001b[0m\u001b[0;34m)\u001b[0m\u001b[0;34m:\u001b[0m\u001b[0;34m\u001b[0m\u001b[0;34m\u001b[0m\u001b[0m\n\u001b[1;32m    551\u001b[0m                 \u001b[0;31m# Not a multivariate polynomial, so it must be a univariate\u001b[0m\u001b[0;34m\u001b[0m\u001b[0;34m\u001b[0m\u001b[0;34m\u001b[0m\u001b[0m\n\u001b[0;32m--> 552\u001b[0;31m                 \u001b[0;32mreturn\u001b[0m \u001b[0;34m(\u001b[0m\u001b[0;34m<\u001b[0m\u001b[0mPolynomial\u001b[0m\u001b[0;34m>\u001b[0m \u001b[0mp\u001b[0m\u001b[0;34m)\u001b[0m\u001b[0;34m.\u001b[0m\u001b[0m_mpoly_dict_recursive\u001b[0m\u001b[0;34m(\u001b[0m\u001b[0mvars\u001b[0m\u001b[0;34m,\u001b[0m \u001b[0mbase_ring\u001b[0m\u001b[0;34m)\u001b[0m\u001b[0;34m\u001b[0m\u001b[0;34m\u001b[0m\u001b[0m\n\u001b[0m\u001b[1;32m    553\u001b[0m             \u001b[0;32mreturn\u001b[0m \u001b[0;34m(\u001b[0m\u001b[0;34m<\u001b[0m\u001b[0mMPolynomial\u001b[0m\u001b[0;34m>\u001b[0m \u001b[0mp\u001b[0m\u001b[0;34m)\u001b[0m\u001b[0;34m.\u001b[0m\u001b[0m_mpoly_dict_recursive\u001b[0m\u001b[0;34m(\u001b[0m\u001b[0mvars\u001b[0m\u001b[0;34m,\u001b[0m \u001b[0mbase_ring\u001b[0m\u001b[0;34m)\u001b[0m\u001b[0;34m\u001b[0m\u001b[0;34m\u001b[0m\u001b[0m\n\u001b[1;32m    554\u001b[0m \u001b[0;34m\u001b[0m\u001b[0m\n",
      "\u001b[0;32m/opt/sagemath-9.0/local/lib/python3.7/site-packages/sage/rings/polynomial/polynomial_element.pyx\u001b[0m in \u001b[0;36msage.rings.polynomial.polynomial_element.Polynomial._mpoly_dict_recursive (build/cythonized/sage/rings/polynomial/polynomial_element.c:31878)\u001b[0;34m()\u001b[0m\n\u001b[1;32m   3303\u001b[0m         \u001b[0;32mif\u001b[0m \u001b[0mprev_variables\u001b[0m\u001b[0;34m:\u001b[0m\u001b[0;34m\u001b[0m\u001b[0;34m\u001b[0m\u001b[0m\n\u001b[1;32m   3304\u001b[0m             \u001b[0;32mtry\u001b[0m\u001b[0;34m:\u001b[0m\u001b[0;34m\u001b[0m\u001b[0;34m\u001b[0m\u001b[0m\n\u001b[0;32m-> 3305\u001b[0;31m                 mpolys = [a._mpoly_dict_recursive(prev_variables, base_ring)\n\u001b[0m\u001b[1;32m   3306\u001b[0m                           for a in self]\n\u001b[1;32m   3307\u001b[0m             \u001b[0;32mexcept\u001b[0m \u001b[0mAttributeError\u001b[0m\u001b[0;34m:\u001b[0m\u001b[0;34m\u001b[0m\u001b[0;34m\u001b[0m\u001b[0m\n",
      "\u001b[0;32m/opt/sagemath-9.0/local/lib/python3.7/site-packages/sage/rings/polynomial/multi_polynomial.pyx\u001b[0m in \u001b[0;36msage.rings.polynomial.multi_polynomial.MPolynomial._mpoly_dict_recursive (build/cythonized/sage/rings/polynomial/multi_polynomial.c:10188)\u001b[0;34m()\u001b[0m\n\u001b[1;32m    494\u001b[0m         \u001b[0;32mreturn\u001b[0m \u001b[0mring\u001b[0m\u001b[0;34m(\u001b[0m\u001b[0mv\u001b[0m\u001b[0;34m)\u001b[0m\u001b[0;34m\u001b[0m\u001b[0;34m\u001b[0m\u001b[0m\n\u001b[1;32m    495\u001b[0m \u001b[0;34m\u001b[0m\u001b[0m\n\u001b[0;32m--> 496\u001b[0;31m     \u001b[0mcpdef\u001b[0m \u001b[0mdict\u001b[0m \u001b[0m_mpoly_dict_recursive\u001b[0m\u001b[0;34m(\u001b[0m\u001b[0mself\u001b[0m\u001b[0;34m,\u001b[0m \u001b[0mtuple\u001b[0m \u001b[0mvars\u001b[0m\u001b[0;34m=\u001b[0m\u001b[0;32mNone\u001b[0m\u001b[0;34m,\u001b[0m \u001b[0mbase_ring\u001b[0m\u001b[0;34m=\u001b[0m\u001b[0;32mNone\u001b[0m\u001b[0;34m)\u001b[0m\u001b[0;34m:\u001b[0m\u001b[0;34m\u001b[0m\u001b[0;34m\u001b[0m\u001b[0m\n\u001b[0m\u001b[1;32m    497\u001b[0m         r\"\"\"\n\u001b[1;32m    498\u001b[0m         \u001b[0mReturn\u001b[0m \u001b[0ma\u001b[0m\u001b[0;31m \u001b[0m\u001b[0;31m`\u001b[0m\u001b[0;31m`\u001b[0m\u001b[0mdict\u001b[0m\u001b[0;31m`\u001b[0m\u001b[0;31m`\u001b[0m \u001b[0mof\u001b[0m \u001b[0mcoefficient\u001b[0m \u001b[0mentries\u001b[0m \u001b[0msuitable\u001b[0m \u001b[0;32mfor\u001b[0m \u001b[0mconstruction\u001b[0m\u001b[0;34m\u001b[0m\u001b[0;34m\u001b[0m\u001b[0m\n",
      "\u001b[0;32m/opt/sagemath-9.0/local/lib/python3.7/site-packages/sage/rings/polynomial/multi_polynomial.pyx\u001b[0m in \u001b[0;36msage.rings.polynomial.multi_polynomial.MPolynomial._mpoly_dict_recursive (build/cythonized/sage/rings/polynomial/multi_polynomial.c:9351)\u001b[0;34m()\u001b[0m\n\u001b[1;32m    550\u001b[0m             \u001b[0;32mif\u001b[0m \u001b[0;32mnot\u001b[0m \u001b[0misinstance\u001b[0m\u001b[0;34m(\u001b[0m\u001b[0mp\u001b[0m\u001b[0;34m,\u001b[0m \u001b[0mMPolynomial\u001b[0m\u001b[0;34m)\u001b[0m\u001b[0;34m:\u001b[0m\u001b[0;34m\u001b[0m\u001b[0;34m\u001b[0m\u001b[0m\n\u001b[1;32m    551\u001b[0m                 \u001b[0;31m# Not a multivariate polynomial, so it must be a univariate\u001b[0m\u001b[0;34m\u001b[0m\u001b[0;34m\u001b[0m\u001b[0;34m\u001b[0m\u001b[0m\n\u001b[0;32m--> 552\u001b[0;31m                 \u001b[0;32mreturn\u001b[0m \u001b[0;34m(\u001b[0m\u001b[0;34m<\u001b[0m\u001b[0mPolynomial\u001b[0m\u001b[0;34m>\u001b[0m \u001b[0mp\u001b[0m\u001b[0;34m)\u001b[0m\u001b[0;34m.\u001b[0m\u001b[0m_mpoly_dict_recursive\u001b[0m\u001b[0;34m(\u001b[0m\u001b[0mvars\u001b[0m\u001b[0;34m,\u001b[0m \u001b[0mbase_ring\u001b[0m\u001b[0;34m)\u001b[0m\u001b[0;34m\u001b[0m\u001b[0;34m\u001b[0m\u001b[0m\n\u001b[0m\u001b[1;32m    553\u001b[0m             \u001b[0;32mreturn\u001b[0m \u001b[0;34m(\u001b[0m\u001b[0;34m<\u001b[0m\u001b[0mMPolynomial\u001b[0m\u001b[0;34m>\u001b[0m \u001b[0mp\u001b[0m\u001b[0;34m)\u001b[0m\u001b[0;34m.\u001b[0m\u001b[0m_mpoly_dict_recursive\u001b[0m\u001b[0;34m(\u001b[0m\u001b[0mvars\u001b[0m\u001b[0;34m,\u001b[0m \u001b[0mbase_ring\u001b[0m\u001b[0;34m)\u001b[0m\u001b[0;34m\u001b[0m\u001b[0;34m\u001b[0m\u001b[0m\n\u001b[1;32m    554\u001b[0m \u001b[0;34m\u001b[0m\u001b[0m\n",
      "\u001b[0;32m/opt/sagemath-9.0/local/lib/python3.7/site-packages/sage/rings/polynomial/polynomial_element.pyx\u001b[0m in \u001b[0;36msage.rings.polynomial.polynomial_element.Polynomial._mpoly_dict_recursive (build/cythonized/sage/rings/polynomial/polynomial_element.c:31878)\u001b[0;34m()\u001b[0m\n\u001b[1;32m   3303\u001b[0m         \u001b[0;32mif\u001b[0m \u001b[0mprev_variables\u001b[0m\u001b[0;34m:\u001b[0m\u001b[0;34m\u001b[0m\u001b[0;34m\u001b[0m\u001b[0m\n\u001b[1;32m   3304\u001b[0m             \u001b[0;32mtry\u001b[0m\u001b[0;34m:\u001b[0m\u001b[0;34m\u001b[0m\u001b[0;34m\u001b[0m\u001b[0m\n\u001b[0;32m-> 3305\u001b[0;31m                 mpolys = [a._mpoly_dict_recursive(prev_variables, base_ring)\n\u001b[0m\u001b[1;32m   3306\u001b[0m                           for a in self]\n\u001b[1;32m   3307\u001b[0m             \u001b[0;32mexcept\u001b[0m \u001b[0mAttributeError\u001b[0m\u001b[0;34m:\u001b[0m\u001b[0;34m\u001b[0m\u001b[0;34m\u001b[0m\u001b[0m\n",
      "\u001b[0;32m/opt/sagemath-9.0/local/lib/python3.7/site-packages/sage/rings/polynomial/multi_polynomial.pyx\u001b[0m in \u001b[0;36msage.rings.polynomial.multi_polynomial.MPolynomial._mpoly_dict_recursive (build/cythonized/sage/rings/polynomial/multi_polynomial.c:10188)\u001b[0;34m()\u001b[0m\n\u001b[1;32m    494\u001b[0m         \u001b[0;32mreturn\u001b[0m \u001b[0mring\u001b[0m\u001b[0;34m(\u001b[0m\u001b[0mv\u001b[0m\u001b[0;34m)\u001b[0m\u001b[0;34m\u001b[0m\u001b[0;34m\u001b[0m\u001b[0m\n\u001b[1;32m    495\u001b[0m \u001b[0;34m\u001b[0m\u001b[0m\n\u001b[0;32m--> 496\u001b[0;31m     \u001b[0mcpdef\u001b[0m \u001b[0mdict\u001b[0m \u001b[0m_mpoly_dict_recursive\u001b[0m\u001b[0;34m(\u001b[0m\u001b[0mself\u001b[0m\u001b[0;34m,\u001b[0m \u001b[0mtuple\u001b[0m \u001b[0mvars\u001b[0m\u001b[0;34m=\u001b[0m\u001b[0;32mNone\u001b[0m\u001b[0;34m,\u001b[0m \u001b[0mbase_ring\u001b[0m\u001b[0;34m=\u001b[0m\u001b[0;32mNone\u001b[0m\u001b[0;34m)\u001b[0m\u001b[0;34m:\u001b[0m\u001b[0;34m\u001b[0m\u001b[0;34m\u001b[0m\u001b[0m\n\u001b[0m\u001b[1;32m    497\u001b[0m         r\"\"\"\n\u001b[1;32m    498\u001b[0m         \u001b[0mReturn\u001b[0m \u001b[0ma\u001b[0m\u001b[0;31m \u001b[0m\u001b[0;31m`\u001b[0m\u001b[0;31m`\u001b[0m\u001b[0mdict\u001b[0m\u001b[0;31m`\u001b[0m\u001b[0;31m`\u001b[0m \u001b[0mof\u001b[0m \u001b[0mcoefficient\u001b[0m \u001b[0mentries\u001b[0m \u001b[0msuitable\u001b[0m \u001b[0;32mfor\u001b[0m \u001b[0mconstruction\u001b[0m\u001b[0;34m\u001b[0m\u001b[0;34m\u001b[0m\u001b[0m\n",
      "\u001b[0;32m/opt/sagemath-9.0/local/lib/python3.7/site-packages/sage/rings/polynomial/multi_polynomial.pyx\u001b[0m in \u001b[0;36msage.rings.polynomial.multi_polynomial.MPolynomial._mpoly_dict_recursive (build/cythonized/sage/rings/polynomial/multi_polynomial.c:9182)\u001b[0;34m()\u001b[0m\n\u001b[1;32m    542\u001b[0m             \u001b[0;32mreturn\u001b[0m \u001b[0;34m<\u001b[0m\u001b[0mdict\u001b[0m\u001b[0;34m>\u001b[0m \u001b[0mself\u001b[0m\u001b[0;34m.\u001b[0m\u001b[0mdict\u001b[0m\u001b[0;34m(\u001b[0m\u001b[0;34m)\u001b[0m\u001b[0;34m\u001b[0m\u001b[0;34m\u001b[0m\u001b[0m\n\u001b[1;32m    543\u001b[0m         \u001b[0;32melif\u001b[0m \u001b[0mmy_vars\u001b[0m\u001b[0;34m[\u001b[0m\u001b[0;34m-\u001b[0m\u001b[0;36m1\u001b[0m\u001b[0;34m]\u001b[0m \u001b[0;32mnot\u001b[0m \u001b[0;32min\u001b[0m \u001b[0mvars\u001b[0m\u001b[0;34m:\u001b[0m\u001b[0;34m\u001b[0m\u001b[0;34m\u001b[0m\u001b[0m\n\u001b[0;32m--> 544\u001b[0;31m             \u001b[0mx\u001b[0m \u001b[0;34m=\u001b[0m \u001b[0mbase_ring\u001b[0m\u001b[0;34m(\u001b[0m\u001b[0mself\u001b[0m\u001b[0;34m)\u001b[0m \u001b[0;32mif\u001b[0m \u001b[0mbase_ring\u001b[0m \u001b[0;32mis\u001b[0m \u001b[0;32mnot\u001b[0m \u001b[0;32mNone\u001b[0m \u001b[0;32melse\u001b[0m \u001b[0mself\u001b[0m\u001b[0;34m\u001b[0m\u001b[0;34m\u001b[0m\u001b[0m\n\u001b[0m\u001b[1;32m    545\u001b[0m             \u001b[0mconst_ix\u001b[0m \u001b[0;34m=\u001b[0m \u001b[0mETuple\u001b[0m\u001b[0;34m(\u001b[0m\u001b[0;34m(\u001b[0m\u001b[0;36m0\u001b[0m\u001b[0;34m,\u001b[0m\u001b[0;34m)\u001b[0m\u001b[0;34m*\u001b[0m\u001b[0mlen\u001b[0m\u001b[0;34m(\u001b[0m\u001b[0mvars\u001b[0m\u001b[0;34m)\u001b[0m\u001b[0;34m)\u001b[0m\u001b[0;34m\u001b[0m\u001b[0;34m\u001b[0m\u001b[0m\n\u001b[1;32m    546\u001b[0m             \u001b[0;32mreturn\u001b[0m \u001b[0;34m{\u001b[0m \u001b[0mconst_ix\u001b[0m\u001b[0;34m:\u001b[0m \u001b[0mx\u001b[0m \u001b[0;34m}\u001b[0m\u001b[0;34m\u001b[0m\u001b[0;34m\u001b[0m\u001b[0m\n",
      "\u001b[0;32m/opt/sagemath-9.0/local/lib/python3.7/site-packages/sage/structure/parent.pyx\u001b[0m in \u001b[0;36msage.structure.parent.Parent.__call__ (build/cythonized/sage/structure/parent.c:9218)\u001b[0;34m()\u001b[0m\n\u001b[1;32m    898\u001b[0m         \u001b[0;32mif\u001b[0m \u001b[0mmor\u001b[0m \u001b[0;32mis\u001b[0m \u001b[0;32mnot\u001b[0m \u001b[0;32mNone\u001b[0m\u001b[0;34m:\u001b[0m\u001b[0;34m\u001b[0m\u001b[0;34m\u001b[0m\u001b[0m\n\u001b[1;32m    899\u001b[0m             \u001b[0;32mif\u001b[0m \u001b[0mno_extra_args\u001b[0m\u001b[0;34m:\u001b[0m\u001b[0;34m\u001b[0m\u001b[0;34m\u001b[0m\u001b[0m\n\u001b[0;32m--> 900\u001b[0;31m                 \u001b[0;32mreturn\u001b[0m \u001b[0mmor\u001b[0m\u001b[0;34m.\u001b[0m\u001b[0m_call_\u001b[0m\u001b[0;34m(\u001b[0m\u001b[0mx\u001b[0m\u001b[0;34m)\u001b[0m\u001b[0;34m\u001b[0m\u001b[0;34m\u001b[0m\u001b[0m\n\u001b[0m\u001b[1;32m    901\u001b[0m             \u001b[0;32melse\u001b[0m\u001b[0;34m:\u001b[0m\u001b[0;34m\u001b[0m\u001b[0;34m\u001b[0m\u001b[0m\n\u001b[1;32m    902\u001b[0m                 \u001b[0;32mreturn\u001b[0m \u001b[0mmor\u001b[0m\u001b[0;34m.\u001b[0m\u001b[0m_call_with_args\u001b[0m\u001b[0;34m(\u001b[0m\u001b[0mx\u001b[0m\u001b[0;34m,\u001b[0m \u001b[0margs\u001b[0m\u001b[0;34m,\u001b[0m \u001b[0mkwds\u001b[0m\u001b[0;34m)\u001b[0m\u001b[0;34m\u001b[0m\u001b[0;34m\u001b[0m\u001b[0m\n",
      "\u001b[0;32m/opt/sagemath-9.0/local/lib/python3.7/site-packages/sage/rings/polynomial/polynomial_element.pyx\u001b[0m in \u001b[0;36msage.rings.polynomial.polynomial_element.ConstantPolynomialSection._call_ (build/cythonized/sage/rings/polynomial/polynomial_element.c:93897)\u001b[0;34m()\u001b[0m\n\u001b[1;32m  11540\u001b[0m                 \u001b[0;32mreturn\u001b[0m \u001b[0;34m<\u001b[0m\u001b[0mElement\u001b[0m\u001b[0;34m>\u001b[0m\u001b[0;34m(\u001b[0m\u001b[0;34m(\u001b[0m\u001b[0;34m<\u001b[0m\u001b[0mPolynomial\u001b[0m\u001b[0;34m>\u001b[0m\u001b[0mx\u001b[0m\u001b[0;34m)\u001b[0m\u001b[0;34m.\u001b[0m\u001b[0mconstant_coefficient\u001b[0m\u001b[0;34m(\u001b[0m\u001b[0;34m)\u001b[0m\u001b[0;34m)\u001b[0m\u001b[0;34m\u001b[0m\u001b[0;34m\u001b[0m\u001b[0m\n\u001b[1;32m  11541\u001b[0m         \u001b[0;32melse\u001b[0m\u001b[0;34m:\u001b[0m\u001b[0;34m\u001b[0m\u001b[0;34m\u001b[0m\u001b[0m\n\u001b[0;32m> 11542\u001b[0;31m             \u001b[0;32mraise\u001b[0m \u001b[0mTypeError\u001b[0m\u001b[0;34m(\u001b[0m\u001b[0;34m\"not a constant polynomial\"\u001b[0m\u001b[0;34m)\u001b[0m\u001b[0;34m\u001b[0m\u001b[0;34m\u001b[0m\u001b[0m\n\u001b[0m\u001b[1;32m  11543\u001b[0m \u001b[0;34m\u001b[0m\u001b[0m\n\u001b[1;32m  11544\u001b[0m \u001b[0mcdef\u001b[0m \u001b[0;32mclass\u001b[0m \u001b[0mPolynomialBaseringInjection\u001b[0m\u001b[0;34m(\u001b[0m\u001b[0mMorphism\u001b[0m\u001b[0;34m)\u001b[0m\u001b[0;34m:\u001b[0m\u001b[0;34m\u001b[0m\u001b[0;34m\u001b[0m\u001b[0m\n",
      "\u001b[0;31mTypeError\u001b[0m: not a constant polynomial"
     ]
    }
   ],
   "source": [
    "a2 = ideal([R2(i) for i in a2.gens()])"
   ]
  },
  {
   "cell_type": "code",
   "execution_count": 377,
   "metadata": {},
   "outputs": [
    {
     "name": "stdout",
     "output_type": "stream",
     "text": [
      "verbose 0 (3722: multi_polynomial_ideal.py, groebner_basis) Warning: falling back to very slow toy implementation.\n",
      "verbose 0 (1083: multi_polynomial_ideal.py, dimension) Warning: falling back to very slow toy implementation.\n"
     ]
    },
    {
     "data": {
      "text/plain": [
       "2"
      ]
     },
     "execution_count": 377,
     "metadata": {},
     "output_type": "execute_result"
    }
   ],
   "source": [
    "ideal(a2).dimension()"
   ]
  },
  {
   "cell_type": "code",
   "execution_count": 269,
   "metadata": {},
   "outputs": [
    {
     "name": "stdout",
     "output_type": "stream",
     "text": [
      "verbose 0 (3722: multi_polynomial_ideal.py, groebner_basis) Warning: falling back to very slow toy implementation.\n"
     ]
    }
   ],
   "source": [
    "a3 = ideal(a3).groebner_basis()"
   ]
  },
  {
   "cell_type": "code",
   "execution_count": 317,
   "metadata": {},
   "outputs": [
    {
     "name": "stdout",
     "output_type": "stream",
     "text": [
      "verbose 0 (3722: multi_polynomial_ideal.py, groebner_basis) Warning: falling back to very slow toy implementation.\n",
      "verbose 0 (1083: multi_polynomial_ideal.py, dimension) Warning: falling back to very slow toy implementation.\n",
      "verbose 0 (2260: multi_polynomial_ideal.py, variety) Warning: falling back to very slow toy implementation.\n",
      "verbose 0 (3722: multi_polynomial_ideal.py, groebner_basis) Warning: falling back to very slow toy implementation.\n",
      "verbose 0 (3722: multi_polynomial_ideal.py, groebner_basis) Warning: falling back to very slow toy implementation.\n",
      "verbose 0 (3722: multi_polynomial_ideal.py, groebner_basis) Warning: falling back to very slow toy implementation.\n"
     ]
    },
    {
     "ename": "IndexError",
     "evalue": "tuple index out of range",
     "output_type": "error",
     "traceback": [
      "\u001b[0;31m---------------------------------------------------------------------------\u001b[0m",
      "\u001b[0;31mKeyError\u001b[0m                                  Traceback (most recent call last)",
      "\u001b[0;32m/opt/sagemath-9.0/local/lib/python3.7/site-packages/sage/misc/cachefunc.pyx\u001b[0m in \u001b[0;36msage.misc.cachefunc.CachedMethodCaller.__call__ (build/cythonized/sage/misc/cachefunc.c:10139)\u001b[0;34m()\u001b[0m\n\u001b[1;32m   1942\u001b[0m             \u001b[0;32mtry\u001b[0m\u001b[0;34m:\u001b[0m\u001b[0;34m\u001b[0m\u001b[0;34m\u001b[0m\u001b[0m\n\u001b[0;32m-> 1943\u001b[0;31m                 \u001b[0;32mreturn\u001b[0m \u001b[0mcache\u001b[0m\u001b[0;34m[\u001b[0m\u001b[0mk\u001b[0m\u001b[0;34m]\u001b[0m\u001b[0;34m\u001b[0m\u001b[0;34m\u001b[0m\u001b[0m\n\u001b[0m\u001b[1;32m   1944\u001b[0m             \u001b[0;32mexcept\u001b[0m \u001b[0mTypeError\u001b[0m\u001b[0;34m:\u001b[0m  \u001b[0;31m# k is not hashable\u001b[0m\u001b[0;34m\u001b[0m\u001b[0;34m\u001b[0m\u001b[0m\n",
      "\u001b[0;31mKeyError\u001b[0m: ((Singular,), ())",
      "\nDuring handling of the above exception, another exception occurred:\n",
      "\u001b[0;31mTypeError\u001b[0m                                 Traceback (most recent call last)",
      "\u001b[0;32m/opt/sagemath-9.0/local/lib/python3.7/site-packages/sage/rings/polynomial/multi_polynomial_ideal.py\u001b[0m in \u001b[0;36mbasis_is_groebner\u001b[0;34m(self, singular)\u001b[0m\n\u001b[1;32m   1938\u001b[0m             \u001b[0;32mwith\u001b[0m \u001b[0mopt_verb_ctx\u001b[0m\u001b[0;34m(\u001b[0m\u001b[0mnotWarnSB\u001b[0m\u001b[0;34m=\u001b[0m\u001b[0;32mTrue\u001b[0m\u001b[0;34m)\u001b[0m\u001b[0;34m:\u001b[0m\u001b[0;34m\u001b[0m\u001b[0;34m\u001b[0m\u001b[0m\n\u001b[0;32m-> 1939\u001b[0;31m                 \u001b[0mM\u001b[0m \u001b[0;34m=\u001b[0m \u001b[0mF\u001b[0m \u001b[0;34m*\u001b[0m \u001b[0mmatrix\u001b[0m\u001b[0;34m(\u001b[0m\u001b[0mR\u001b[0m\u001b[0;34m,\u001b[0m \u001b[0msyz\u001b[0m\u001b[0;34m(\u001b[0m\u001b[0mLTF\u001b[0m\u001b[0;34m)\u001b[0m\u001b[0;34m)\u001b[0m\u001b[0;34m.\u001b[0m\u001b[0mtranspose\u001b[0m\u001b[0;34m(\u001b[0m\u001b[0;34m)\u001b[0m\u001b[0;34m\u001b[0m\u001b[0;34m\u001b[0m\u001b[0m\n\u001b[0m\u001b[1;32m   1940\u001b[0m                 \u001b[0mM\u001b[0m\u001b[0;34m.\u001b[0m\u001b[0mset_immutable\u001b[0m\u001b[0;34m(\u001b[0m\u001b[0;34m)\u001b[0m\u001b[0;34m\u001b[0m\u001b[0;34m\u001b[0m\u001b[0m\n",
      "\u001b[0;32m/opt/sagemath-9.0/local/lib/python3.7/site-packages/sage/libs/singular/function.pyx\u001b[0m in \u001b[0;36msage.libs.singular.function.SingularFunction.__call__ (build/cythonized/sage/libs/singular/function.cpp:14954)\u001b[0;34m()\u001b[0m\n\u001b[1;32m   1332\u001b[0m         \u001b[0;32mif\u001b[0m \u001b[0;32mnot\u001b[0m \u001b[0;34m(\u001b[0m\u001b[0misinstance\u001b[0m\u001b[0;34m(\u001b[0m\u001b[0mring\u001b[0m\u001b[0;34m,\u001b[0m \u001b[0mMPolynomialRing_libsingular\u001b[0m\u001b[0;34m)\u001b[0m \u001b[0;32mor\u001b[0m \u001b[0misinstance\u001b[0m\u001b[0;34m(\u001b[0m\u001b[0mring\u001b[0m\u001b[0;34m,\u001b[0m \u001b[0mNCPolynomialRing_plural\u001b[0m\u001b[0;34m)\u001b[0m\u001b[0;34m)\u001b[0m\u001b[0;34m:\u001b[0m\u001b[0;34m\u001b[0m\u001b[0;34m\u001b[0m\u001b[0m\n\u001b[0;32m-> 1333\u001b[0;31m             \u001b[0;32mraise\u001b[0m \u001b[0mTypeError\u001b[0m\u001b[0;34m(\u001b[0m\u001b[0;34m\"Cannot call Singular function '%s' with ring parameter of type '%s'\"\u001b[0m\u001b[0;34m%\u001b[0m\u001b[0;34m(\u001b[0m\u001b[0mself\u001b[0m\u001b[0;34m.\u001b[0m\u001b[0m_name\u001b[0m\u001b[0;34m,\u001b[0m\u001b[0mtype\u001b[0m\u001b[0;34m(\u001b[0m\u001b[0mring\u001b[0m\u001b[0;34m)\u001b[0m\u001b[0;34m)\u001b[0m\u001b[0;34m)\u001b[0m\u001b[0;34m\u001b[0m\u001b[0;34m\u001b[0m\u001b[0m\n\u001b[0m\u001b[1;32m   1334\u001b[0m         \u001b[0;32mreturn\u001b[0m \u001b[0mcall_function\u001b[0m\u001b[0;34m(\u001b[0m\u001b[0mself\u001b[0m\u001b[0;34m,\u001b[0m \u001b[0margs\u001b[0m\u001b[0;34m,\u001b[0m \u001b[0mring\u001b[0m\u001b[0;34m,\u001b[0m \u001b[0minterruptible\u001b[0m\u001b[0;34m,\u001b[0m \u001b[0mattributes\u001b[0m\u001b[0;34m)\u001b[0m\u001b[0;34m\u001b[0m\u001b[0;34m\u001b[0m\u001b[0m\n",
      "\u001b[0;31mTypeError\u001b[0m: Cannot call Singular function 'syz' with ring parameter of type '<class 'sage.rings.polynomial.multi_polynomial_ring.MPolynomialRing_polydict_domain_with_category'>'",
      "\nDuring handling of the above exception, another exception occurred:\n",
      "\u001b[0;31mKeyError\u001b[0m                                  Traceback (most recent call last)",
      "\u001b[0;32m/opt/sagemath-9.0/local/lib/python3.7/site-packages/sage/structure/category_object.pyx\u001b[0m in \u001b[0;36msage.structure.category_object.CategoryObject.getattr_from_category (build/cythonized/sage/structure/category_object.c:6958)\u001b[0;34m()\u001b[0m\n\u001b[1;32m    837\u001b[0m         \u001b[0;32mtry\u001b[0m\u001b[0;34m:\u001b[0m\u001b[0;34m\u001b[0m\u001b[0;34m\u001b[0m\u001b[0m\n\u001b[0;32m--> 838\u001b[0;31m             \u001b[0;32mreturn\u001b[0m \u001b[0mself\u001b[0m\u001b[0;34m.\u001b[0m\u001b[0m__cached_methods\u001b[0m\u001b[0;34m[\u001b[0m\u001b[0mname\u001b[0m\u001b[0;34m]\u001b[0m\u001b[0;34m\u001b[0m\u001b[0;34m\u001b[0m\u001b[0m\n\u001b[0m\u001b[1;32m    839\u001b[0m         \u001b[0;32mexcept\u001b[0m \u001b[0mKeyError\u001b[0m\u001b[0;34m:\u001b[0m\u001b[0;34m\u001b[0m\u001b[0;34m\u001b[0m\u001b[0m\n",
      "\u001b[0;31mKeyError\u001b[0m: '_PolynomialRing_singular_repr__singular'",
      "\nDuring handling of the above exception, another exception occurred:\n",
      "\u001b[0;31mAttributeError\u001b[0m                            Traceback (most recent call last)",
      "\u001b[0;32m/opt/sagemath-9.0/local/lib/python3.7/site-packages/sage/rings/polynomial/polynomial_singular_interface.py\u001b[0m in \u001b[0;36m_singular_\u001b[0;34m(self, singular)\u001b[0m\n\u001b[1;32m    214\u001b[0m         \u001b[0;32mtry\u001b[0m\u001b[0;34m:\u001b[0m\u001b[0;34m\u001b[0m\u001b[0;34m\u001b[0m\u001b[0m\n\u001b[0;32m--> 215\u001b[0;31m             \u001b[0mR\u001b[0m \u001b[0;34m=\u001b[0m \u001b[0mself\u001b[0m\u001b[0;34m.\u001b[0m\u001b[0m__singular\u001b[0m\u001b[0;34m\u001b[0m\u001b[0;34m\u001b[0m\u001b[0m\n\u001b[0m\u001b[1;32m    216\u001b[0m             \u001b[0;32mif\u001b[0m \u001b[0;32mnot\u001b[0m \u001b[0;34m(\u001b[0m\u001b[0mR\u001b[0m\u001b[0;34m.\u001b[0m\u001b[0mparent\u001b[0m\u001b[0;34m(\u001b[0m\u001b[0;34m)\u001b[0m \u001b[0;32mis\u001b[0m \u001b[0msingular\u001b[0m\u001b[0;34m)\u001b[0m\u001b[0;34m:\u001b[0m\u001b[0;34m\u001b[0m\u001b[0;34m\u001b[0m\u001b[0m\n",
      "\u001b[0;32m/opt/sagemath-9.0/local/lib/python3.7/site-packages/sage/structure/category_object.pyx\u001b[0m in \u001b[0;36msage.structure.category_object.CategoryObject.__getattr__ (build/cythonized/sage/structure/category_object.c:6880)\u001b[0;34m()\u001b[0m\n\u001b[1;32m    831\u001b[0m         \"\"\"\n\u001b[0;32m--> 832\u001b[0;31m         \u001b[0;32mreturn\u001b[0m \u001b[0mself\u001b[0m\u001b[0;34m.\u001b[0m\u001b[0mgetattr_from_category\u001b[0m\u001b[0;34m(\u001b[0m\u001b[0mname\u001b[0m\u001b[0;34m)\u001b[0m\u001b[0;34m\u001b[0m\u001b[0;34m\u001b[0m\u001b[0m\n\u001b[0m\u001b[1;32m    833\u001b[0m \u001b[0;34m\u001b[0m\u001b[0m\n",
      "\u001b[0;32m/opt/sagemath-9.0/local/lib/python3.7/site-packages/sage/structure/category_object.pyx\u001b[0m in \u001b[0;36msage.structure.category_object.CategoryObject.getattr_from_category (build/cythonized/sage/structure/category_object.c:7043)\u001b[0;34m()\u001b[0m\n\u001b[1;32m    846\u001b[0m \u001b[0;34m\u001b[0m\u001b[0m\n\u001b[0;32m--> 847\u001b[0;31m             \u001b[0mattr\u001b[0m \u001b[0;34m=\u001b[0m \u001b[0mgetattr_from_other_class\u001b[0m\u001b[0;34m(\u001b[0m\u001b[0mself\u001b[0m\u001b[0;34m,\u001b[0m \u001b[0mcls\u001b[0m\u001b[0;34m,\u001b[0m \u001b[0mname\u001b[0m\u001b[0;34m)\u001b[0m\u001b[0;34m\u001b[0m\u001b[0;34m\u001b[0m\u001b[0m\n\u001b[0m\u001b[1;32m    848\u001b[0m             \u001b[0mself\u001b[0m\u001b[0;34m.\u001b[0m\u001b[0m__cached_methods\u001b[0m\u001b[0;34m[\u001b[0m\u001b[0mname\u001b[0m\u001b[0;34m]\u001b[0m \u001b[0;34m=\u001b[0m \u001b[0mattr\u001b[0m\u001b[0;34m\u001b[0m\u001b[0;34m\u001b[0m\u001b[0m\n",
      "\u001b[0;32m/opt/sagemath-9.0/local/lib/python3.7/site-packages/sage/cpython/getattr.pyx\u001b[0m in \u001b[0;36msage.cpython.getattr.getattr_from_other_class (build/cythonized/sage/cpython/getattr.c:2547)\u001b[0;34m()\u001b[0m\n\u001b[1;32m    388\u001b[0m         \u001b[0mdummy_error_message\u001b[0m\u001b[0;34m.\u001b[0m\u001b[0mname\u001b[0m \u001b[0;34m=\u001b[0m \u001b[0mname\u001b[0m\u001b[0;34m\u001b[0m\u001b[0;34m\u001b[0m\u001b[0m\n\u001b[0;32m--> 389\u001b[0;31m         \u001b[0;32mraise\u001b[0m \u001b[0mAttributeError\u001b[0m\u001b[0;34m(\u001b[0m\u001b[0mdummy_error_message\u001b[0m\u001b[0;34m)\u001b[0m\u001b[0;34m\u001b[0m\u001b[0;34m\u001b[0m\u001b[0m\n\u001b[0m\u001b[1;32m    390\u001b[0m     \u001b[0mcdef\u001b[0m \u001b[0mPyObject\u001b[0m\u001b[0;34m*\u001b[0m \u001b[0mattr\u001b[0m \u001b[0;34m=\u001b[0m \u001b[0minstance_getattr\u001b[0m\u001b[0;34m(\u001b[0m\u001b[0mcls\u001b[0m\u001b[0;34m,\u001b[0m \u001b[0mname\u001b[0m\u001b[0;34m)\u001b[0m\u001b[0;34m\u001b[0m\u001b[0;34m\u001b[0m\u001b[0m\n",
      "\u001b[0;31mAttributeError\u001b[0m: 'MPolynomial_polydict' object has no attribute '_MPolynomial_polydict__exponents'",
      "\nDuring handling of the above exception, another exception occurred:\n",
      "\u001b[0;31mTypeError\u001b[0m                                 Traceback (most recent call last)",
      "\u001b[0;32m/opt/sagemath-9.0/local/lib/python3.7/site-packages/sage/rings/polynomial/multi_polynomial_ideal.py\u001b[0m in \u001b[0;36mvariety\u001b[0;34m(self, ring)\u001b[0m\n\u001b[1;32m   2553\u001b[0m         \u001b[0;32mtry\u001b[0m\u001b[0;34m:\u001b[0m\u001b[0;34m\u001b[0m\u001b[0;34m\u001b[0m\u001b[0m\n\u001b[0;32m-> 2554\u001b[0;31m           \u001b[0mTI\u001b[0m \u001b[0;34m=\u001b[0m \u001b[0mself\u001b[0m\u001b[0;34m.\u001b[0m\u001b[0mtriangular_decomposition\u001b[0m\u001b[0;34m(\u001b[0m\u001b[0;34m'singular:triangLfak'\u001b[0m\u001b[0;34m)\u001b[0m\u001b[0;34m\u001b[0m\u001b[0;34m\u001b[0m\u001b[0m\n\u001b[0m\u001b[1;32m   2555\u001b[0m           \u001b[0mT\u001b[0m \u001b[0;34m=\u001b[0m \u001b[0;34m[\u001b[0m\u001b[0mlist\u001b[0m\u001b[0;34m(\u001b[0m\u001b[0meach\u001b[0m\u001b[0;34m.\u001b[0m\u001b[0mgens\u001b[0m\u001b[0;34m(\u001b[0m\u001b[0;34m)\u001b[0m\u001b[0;34m)\u001b[0m \u001b[0;32mfor\u001b[0m \u001b[0meach\u001b[0m \u001b[0;32min\u001b[0m \u001b[0mTI\u001b[0m\u001b[0;34m]\u001b[0m\u001b[0;34m\u001b[0m\u001b[0;34m\u001b[0m\u001b[0m\n",
      "\u001b[0;32m/opt/sagemath-9.0/local/lib/python3.7/site-packages/sage/rings/polynomial/multi_polynomial_ideal.py\u001b[0m in \u001b[0;36m__call__\u001b[0;34m(self, *args, **kwds)\u001b[0m\n\u001b[1;32m    298\u001b[0m             \u001b[0;32mraise\u001b[0m \u001b[0mValueError\u001b[0m\u001b[0;34m(\u001b[0m\u001b[0;34m\"Coefficient ring must be a field for function '%s'.\"\u001b[0m\u001b[0;34m%\u001b[0m\u001b[0;34m(\u001b[0m\u001b[0mself\u001b[0m\u001b[0;34m.\u001b[0m\u001b[0mf\u001b[0m\u001b[0;34m.\u001b[0m\u001b[0m__name__\u001b[0m\u001b[0;34m)\u001b[0m\u001b[0;34m)\u001b[0m\u001b[0;34m\u001b[0m\u001b[0;34m\u001b[0m\u001b[0m\n\u001b[0;32m--> 299\u001b[0;31m         \u001b[0;32mreturn\u001b[0m \u001b[0mself\u001b[0m\u001b[0;34m.\u001b[0m\u001b[0mf\u001b[0m\u001b[0;34m(\u001b[0m\u001b[0mself\u001b[0m\u001b[0;34m.\u001b[0m\u001b[0m_instance\u001b[0m\u001b[0;34m,\u001b[0m \u001b[0;34m*\u001b[0m\u001b[0margs\u001b[0m\u001b[0;34m,\u001b[0m \u001b[0;34m**\u001b[0m\u001b[0mkwds\u001b[0m\u001b[0;34m)\u001b[0m\u001b[0;34m\u001b[0m\u001b[0;34m\u001b[0m\u001b[0m\n\u001b[0m\u001b[1;32m    300\u001b[0m \u001b[0;34m\u001b[0m\u001b[0m\n",
      "\u001b[0;32m/opt/sagemath-9.0/local/lib/python3.7/site-packages/sage/rings/qqbar_decorators.py\u001b[0m in \u001b[0;36mwrapper\u001b[0;34m(*args, **kwds)\u001b[0m\n\u001b[1;32m     69\u001b[0m                     and isinstance(a.base_ring(), AlgebraicField_common) for a in args]):\n\u001b[0;32m---> 70\u001b[0;31m             \u001b[0;32mreturn\u001b[0m \u001b[0mfunc\u001b[0m\u001b[0;34m(\u001b[0m\u001b[0;34m*\u001b[0m\u001b[0margs\u001b[0m\u001b[0;34m,\u001b[0m \u001b[0;34m**\u001b[0m\u001b[0mkwds\u001b[0m\u001b[0;34m)\u001b[0m\u001b[0;34m\u001b[0m\u001b[0;34m\u001b[0m\u001b[0m\n\u001b[0m\u001b[1;32m     71\u001b[0m \u001b[0;34m\u001b[0m\u001b[0m\n",
      "\u001b[0;32m/opt/sagemath-9.0/local/lib/python3.7/site-packages/sage/interfaces/singular.py\u001b[0m in \u001b[0;36mwrapper\u001b[0;34m(*args, **kwds)\u001b[0m\n\u001b[1;32m   2696\u001b[0m         \u001b[0;32mwith\u001b[0m \u001b[0mSingularGBDefaultContext\u001b[0m\u001b[0;34m(\u001b[0m\u001b[0;34m)\u001b[0m\u001b[0;34m:\u001b[0m\u001b[0;34m\u001b[0m\u001b[0;34m\u001b[0m\u001b[0m\n\u001b[0;32m-> 2697\u001b[0;31m             \u001b[0;32mreturn\u001b[0m \u001b[0mfunc\u001b[0m\u001b[0;34m(\u001b[0m\u001b[0;34m*\u001b[0m\u001b[0margs\u001b[0m\u001b[0;34m,\u001b[0m \u001b[0;34m**\u001b[0m\u001b[0mkwds\u001b[0m\u001b[0;34m)\u001b[0m\u001b[0;34m\u001b[0m\u001b[0;34m\u001b[0m\u001b[0m\n\u001b[0m\u001b[1;32m   2698\u001b[0m     \u001b[0;32mreturn\u001b[0m \u001b[0mwrapper\u001b[0m\u001b[0;34m\u001b[0m\u001b[0;34m\u001b[0m\u001b[0m\n",
      "\u001b[0;32m/opt/sagemath-9.0/local/lib/python3.7/site-packages/sage/libs/singular/standard_options.py\u001b[0m in \u001b[0;36mwrapper\u001b[0;34m(*args, **kwds)\u001b[0m\n\u001b[1;32m    140\u001b[0m         \u001b[0;32mwith\u001b[0m \u001b[0mLibSingularGBDefaultContext\u001b[0m\u001b[0;34m(\u001b[0m\u001b[0;34m)\u001b[0m\u001b[0;34m:\u001b[0m\u001b[0;34m\u001b[0m\u001b[0;34m\u001b[0m\u001b[0m\n\u001b[0;32m--> 141\u001b[0;31m             \u001b[0;32mreturn\u001b[0m \u001b[0mfunc\u001b[0m\u001b[0;34m(\u001b[0m\u001b[0;34m*\u001b[0m\u001b[0margs\u001b[0m\u001b[0;34m,\u001b[0m \u001b[0;34m**\u001b[0m\u001b[0mkwds\u001b[0m\u001b[0;34m)\u001b[0m\u001b[0;34m\u001b[0m\u001b[0;34m\u001b[0m\u001b[0m\n\u001b[0m\u001b[1;32m    142\u001b[0m     \u001b[0;32mreturn\u001b[0m \u001b[0mwrapper\u001b[0m\u001b[0;34m\u001b[0m\u001b[0;34m\u001b[0m\u001b[0m\n",
      "\u001b[0;32m/opt/sagemath-9.0/local/lib/python3.7/site-packages/sage/rings/polynomial/multi_polynomial_ideal.py\u001b[0m in \u001b[0;36mtriangular_decomposition\u001b[0;34m(self, algorithm, singular)\u001b[0m\n\u001b[1;32m   1039\u001b[0m \u001b[0;34m\u001b[0m\u001b[0m\n\u001b[0;32m-> 1040\u001b[0;31m         \u001b[0mis_groebner\u001b[0m \u001b[0;34m=\u001b[0m \u001b[0mself\u001b[0m\u001b[0;34m.\u001b[0m\u001b[0mbasis_is_groebner\u001b[0m\u001b[0;34m(\u001b[0m\u001b[0;34m)\u001b[0m\u001b[0;34m\u001b[0m\u001b[0;34m\u001b[0m\u001b[0m\n\u001b[0m\u001b[1;32m   1041\u001b[0m \u001b[0;34m\u001b[0m\u001b[0m\n",
      "\u001b[0;32m/opt/sagemath-9.0/local/lib/python3.7/site-packages/sage/misc/cachefunc.pyx\u001b[0m in \u001b[0;36msage.misc.cachefunc.CachedMethodCaller.__call__ (build/cythonized/sage/misc/cachefunc.c:10273)\u001b[0;34m()\u001b[0m\n\u001b[1;32m   1947\u001b[0m         \u001b[0;32mexcept\u001b[0m \u001b[0mKeyError\u001b[0m\u001b[0;34m:\u001b[0m\u001b[0;34m\u001b[0m\u001b[0;34m\u001b[0m\u001b[0m\n\u001b[0;32m-> 1948\u001b[0;31m             \u001b[0mw\u001b[0m \u001b[0;34m=\u001b[0m \u001b[0mself\u001b[0m\u001b[0;34m.\u001b[0m\u001b[0m_instance_call\u001b[0m\u001b[0;34m(\u001b[0m\u001b[0;34m*\u001b[0m\u001b[0margs\u001b[0m\u001b[0;34m,\u001b[0m \u001b[0;34m**\u001b[0m\u001b[0mkwds\u001b[0m\u001b[0;34m)\u001b[0m\u001b[0;34m\u001b[0m\u001b[0;34m\u001b[0m\u001b[0m\n\u001b[0m\u001b[1;32m   1949\u001b[0m             \u001b[0mcache\u001b[0m\u001b[0;34m[\u001b[0m\u001b[0mk\u001b[0m\u001b[0;34m]\u001b[0m \u001b[0;34m=\u001b[0m \u001b[0mw\u001b[0m\u001b[0;34m\u001b[0m\u001b[0;34m\u001b[0m\u001b[0m\n",
      "\u001b[0;32m/opt/sagemath-9.0/local/lib/python3.7/site-packages/sage/misc/cachefunc.pyx\u001b[0m in \u001b[0;36msage.misc.cachefunc.CachedMethodCaller._instance_call (build/cythonized/sage/misc/cachefunc.c:9758)\u001b[0;34m()\u001b[0m\n\u001b[1;32m   1823\u001b[0m         \"\"\"\n\u001b[0;32m-> 1824\u001b[0;31m         \u001b[0;32mreturn\u001b[0m \u001b[0mself\u001b[0m\u001b[0;34m.\u001b[0m\u001b[0mf\u001b[0m\u001b[0;34m(\u001b[0m\u001b[0mself\u001b[0m\u001b[0;34m.\u001b[0m\u001b[0m_instance\u001b[0m\u001b[0;34m,\u001b[0m \u001b[0;34m*\u001b[0m\u001b[0margs\u001b[0m\u001b[0;34m,\u001b[0m \u001b[0;34m**\u001b[0m\u001b[0mkwds\u001b[0m\u001b[0;34m)\u001b[0m\u001b[0;34m\u001b[0m\u001b[0;34m\u001b[0m\u001b[0m\n\u001b[0m\u001b[1;32m   1825\u001b[0m \u001b[0;34m\u001b[0m\u001b[0m\n",
      "\u001b[0;32m/opt/sagemath-9.0/local/lib/python3.7/site-packages/sage/rings/qqbar_decorators.py\u001b[0m in \u001b[0;36mwrapper\u001b[0;34m(*args, **kwds)\u001b[0m\n\u001b[1;32m     69\u001b[0m                     and isinstance(a.base_ring(), AlgebraicField_common) for a in args]):\n\u001b[0;32m---> 70\u001b[0;31m             \u001b[0;32mreturn\u001b[0m \u001b[0mfunc\u001b[0m\u001b[0;34m(\u001b[0m\u001b[0;34m*\u001b[0m\u001b[0margs\u001b[0m\u001b[0;34m,\u001b[0m \u001b[0;34m**\u001b[0m\u001b[0mkwds\u001b[0m\u001b[0;34m)\u001b[0m\u001b[0;34m\u001b[0m\u001b[0;34m\u001b[0m\u001b[0m\n\u001b[0m\u001b[1;32m     71\u001b[0m \u001b[0;34m\u001b[0m\u001b[0m\n",
      "\u001b[0;32m/opt/sagemath-9.0/local/lib/python3.7/site-packages/sage/interfaces/singular.py\u001b[0m in \u001b[0;36mwrapper\u001b[0;34m(*args, **kwds)\u001b[0m\n\u001b[1;32m   2696\u001b[0m         \u001b[0;32mwith\u001b[0m \u001b[0mSingularGBDefaultContext\u001b[0m\u001b[0;34m(\u001b[0m\u001b[0;34m)\u001b[0m\u001b[0;34m:\u001b[0m\u001b[0;34m\u001b[0m\u001b[0;34m\u001b[0m\u001b[0m\n\u001b[0;32m-> 2697\u001b[0;31m             \u001b[0;32mreturn\u001b[0m \u001b[0mfunc\u001b[0m\u001b[0;34m(\u001b[0m\u001b[0;34m*\u001b[0m\u001b[0margs\u001b[0m\u001b[0;34m,\u001b[0m \u001b[0;34m**\u001b[0m\u001b[0mkwds\u001b[0m\u001b[0;34m)\u001b[0m\u001b[0;34m\u001b[0m\u001b[0;34m\u001b[0m\u001b[0m\n\u001b[0m\u001b[1;32m   2698\u001b[0m     \u001b[0;32mreturn\u001b[0m \u001b[0mwrapper\u001b[0m\u001b[0;34m\u001b[0m\u001b[0;34m\u001b[0m\u001b[0m\n",
      "\u001b[0;32m/opt/sagemath-9.0/local/lib/python3.7/site-packages/sage/rings/polynomial/multi_polynomial_ideal.py\u001b[0m in \u001b[0;36mbasis_is_groebner\u001b[0;34m(self, singular)\u001b[0m\n\u001b[1;32m   1946\u001b[0m         \u001b[0;32mexcept\u001b[0m \u001b[0mTypeError\u001b[0m\u001b[0;34m:\u001b[0m\u001b[0;34m\u001b[0m\u001b[0;34m\u001b[0m\u001b[0m\n\u001b[0;32m-> 1947\u001b[0;31m             \u001b[0mR\u001b[0m\u001b[0;34m.\u001b[0m\u001b[0m_singular_\u001b[0m\u001b[0;34m(\u001b[0m\u001b[0;34m)\u001b[0m\u001b[0;34m.\u001b[0m\u001b[0mset_ring\u001b[0m\u001b[0;34m(\u001b[0m\u001b[0;34m)\u001b[0m\u001b[0;34m\u001b[0m\u001b[0;34m\u001b[0m\u001b[0m\n\u001b[0m\u001b[1;32m   1948\u001b[0m             \u001b[0mF\u001b[0m \u001b[0;34m=\u001b[0m \u001b[0msingular\u001b[0m\u001b[0;34m(\u001b[0m \u001b[0mtuple\u001b[0m\u001b[0;34m(\u001b[0m\u001b[0mself\u001b[0m\u001b[0;34m.\u001b[0m\u001b[0mgens\u001b[0m\u001b[0;34m(\u001b[0m\u001b[0;34m)\u001b[0m\u001b[0;34m)\u001b[0m\u001b[0;34m,\u001b[0m \u001b[0;34m\"module\"\u001b[0m \u001b[0;34m)\u001b[0m\u001b[0;34m\u001b[0m\u001b[0;34m\u001b[0m\u001b[0m\n",
      "\u001b[0;32m/opt/sagemath-9.0/local/lib/python3.7/site-packages/sage/rings/polynomial/polynomial_singular_interface.py\u001b[0m in \u001b[0;36m_singular_\u001b[0;34m(self, singular)\u001b[0m\n\u001b[1;32m    229\u001b[0m         \u001b[0;32mexcept\u001b[0m \u001b[0;34m(\u001b[0m\u001b[0mAttributeError\u001b[0m\u001b[0;34m,\u001b[0m \u001b[0mValueError\u001b[0m\u001b[0;34m)\u001b[0m\u001b[0;34m:\u001b[0m\u001b[0;34m\u001b[0m\u001b[0;34m\u001b[0m\u001b[0m\n\u001b[0;32m--> 230\u001b[0;31m             \u001b[0;32mreturn\u001b[0m \u001b[0mself\u001b[0m\u001b[0;34m.\u001b[0m\u001b[0m_singular_init_\u001b[0m\u001b[0;34m(\u001b[0m\u001b[0msingular\u001b[0m\u001b[0;34m)\u001b[0m\u001b[0;34m\u001b[0m\u001b[0;34m\u001b[0m\u001b[0m\n\u001b[0m\u001b[1;32m    231\u001b[0m \u001b[0;34m\u001b[0m\u001b[0m\n",
      "\u001b[0;32m/opt/sagemath-9.0/local/lib/python3.7/site-packages/sage/rings/polynomial/polynomial_singular_interface.py\u001b[0m in \u001b[0;36m_singular_init_\u001b[0;34m(self, singular)\u001b[0m\n\u001b[1;32m    246\u001b[0m         \u001b[0;32mif\u001b[0m \u001b[0;32mnot\u001b[0m \u001b[0mcan_convert_to_singular\u001b[0m\u001b[0;34m(\u001b[0m\u001b[0mself\u001b[0m\u001b[0;34m)\u001b[0m\u001b[0;34m:\u001b[0m\u001b[0;34m\u001b[0m\u001b[0;34m\u001b[0m\u001b[0m\n\u001b[0;32m--> 247\u001b[0;31m             \u001b[0;32mraise\u001b[0m \u001b[0mTypeError\u001b[0m\u001b[0;34m(\u001b[0m\u001b[0;34m\"no conversion of this ring to a Singular ring defined\"\u001b[0m\u001b[0;34m)\u001b[0m\u001b[0;34m\u001b[0m\u001b[0;34m\u001b[0m\u001b[0m\n\u001b[0m\u001b[1;32m    248\u001b[0m \u001b[0;34m\u001b[0m\u001b[0m\n",
      "\u001b[0;31mTypeError\u001b[0m: no conversion of this ring to a Singular ring defined",
      "\nDuring handling of the above exception, another exception occurred:\n",
      "\u001b[0;31mIndexError\u001b[0m                                Traceback (most recent call last)",
      "\u001b[0;32m<ipython-input-317-ef454f639159>\u001b[0m in \u001b[0;36m<module>\u001b[0;34m()\u001b[0m\n\u001b[0;32m----> 1\u001b[0;31m \u001b[0mIdeal\u001b[0m\u001b[0;34m(\u001b[0m\u001b[0ma3\u001b[0m\u001b[0;34m)\u001b[0m\u001b[0;34m.\u001b[0m\u001b[0mvariety\u001b[0m\u001b[0;34m(\u001b[0m\u001b[0;34m)\u001b[0m\u001b[0;34m\u001b[0m\u001b[0;34m\u001b[0m\u001b[0m\n\u001b[0m",
      "\u001b[0;32m/opt/sagemath-9.0/local/lib/python3.7/site-packages/sage/rings/polynomial/multi_polynomial_ideal.py\u001b[0m in \u001b[0;36m__call__\u001b[0;34m(self, *args, **kwds)\u001b[0m\n\u001b[1;32m    297\u001b[0m         \u001b[0;32mif\u001b[0m \u001b[0;32mnot\u001b[0m \u001b[0mR\u001b[0m\u001b[0;34m.\u001b[0m\u001b[0mbase_ring\u001b[0m\u001b[0;34m(\u001b[0m\u001b[0;34m)\u001b[0m\u001b[0;34m.\u001b[0m\u001b[0mis_field\u001b[0m\u001b[0;34m(\u001b[0m\u001b[0;34m)\u001b[0m\u001b[0;34m:\u001b[0m\u001b[0;34m\u001b[0m\u001b[0;34m\u001b[0m\u001b[0m\n\u001b[1;32m    298\u001b[0m             \u001b[0;32mraise\u001b[0m \u001b[0mValueError\u001b[0m\u001b[0;34m(\u001b[0m\u001b[0;34m\"Coefficient ring must be a field for function '%s'.\"\u001b[0m\u001b[0;34m%\u001b[0m\u001b[0;34m(\u001b[0m\u001b[0mself\u001b[0m\u001b[0;34m.\u001b[0m\u001b[0mf\u001b[0m\u001b[0;34m.\u001b[0m\u001b[0m__name__\u001b[0m\u001b[0;34m)\u001b[0m\u001b[0;34m)\u001b[0m\u001b[0;34m\u001b[0m\u001b[0;34m\u001b[0m\u001b[0m\n\u001b[0;32m--> 299\u001b[0;31m         \u001b[0;32mreturn\u001b[0m \u001b[0mself\u001b[0m\u001b[0;34m.\u001b[0m\u001b[0mf\u001b[0m\u001b[0;34m(\u001b[0m\u001b[0mself\u001b[0m\u001b[0;34m.\u001b[0m\u001b[0m_instance\u001b[0m\u001b[0;34m,\u001b[0m \u001b[0;34m*\u001b[0m\u001b[0margs\u001b[0m\u001b[0;34m,\u001b[0m \u001b[0;34m**\u001b[0m\u001b[0mkwds\u001b[0m\u001b[0;34m)\u001b[0m\u001b[0;34m\u001b[0m\u001b[0;34m\u001b[0m\u001b[0m\n\u001b[0m\u001b[1;32m    300\u001b[0m \u001b[0;34m\u001b[0m\u001b[0m\n\u001b[1;32m    301\u001b[0m \u001b[0mrequire_field\u001b[0m \u001b[0;34m=\u001b[0m \u001b[0mRequireField\u001b[0m\u001b[0;34m\u001b[0m\u001b[0;34m\u001b[0m\u001b[0m\n",
      "\u001b[0;32m/opt/sagemath-9.0/local/lib/python3.7/site-packages/sage/rings/polynomial/multi_polynomial_ideal.py\u001b[0m in \u001b[0;36mvariety\u001b[0;34m(self, ring)\u001b[0m\n\u001b[1;32m   2557\u001b[0m           \u001b[0;32mif\u001b[0m \u001b[0mself\u001b[0m\u001b[0;34m.\u001b[0m\u001b[0mring\u001b[0m\u001b[0;34m(\u001b[0m\u001b[0;34m)\u001b[0m\u001b[0;34m.\u001b[0m\u001b[0mterm_order\u001b[0m\u001b[0;34m(\u001b[0m\u001b[0;34m)\u001b[0m\u001b[0;34m.\u001b[0m\u001b[0mis_global\u001b[0m\u001b[0;34m(\u001b[0m\u001b[0;34m)\u001b[0m\u001b[0;34m:\u001b[0m\u001b[0;34m\u001b[0m\u001b[0;34m\u001b[0m\u001b[0m\n\u001b[1;32m   2558\u001b[0m             \u001b[0mverbose\u001b[0m\u001b[0;34m(\u001b[0m\u001b[0;34m\"Warning: falling back to very slow toy implementation.\"\u001b[0m\u001b[0;34m,\u001b[0m \u001b[0mlevel\u001b[0m\u001b[0;34m=\u001b[0m\u001b[0;36m0\u001b[0m\u001b[0;34m)\u001b[0m\u001b[0;34m\u001b[0m\u001b[0;34m\u001b[0m\u001b[0m\n\u001b[0;32m-> 2559\u001b[0;31m             \u001b[0mT\u001b[0m \u001b[0;34m=\u001b[0m \u001b[0mtoy_variety\u001b[0m\u001b[0;34m.\u001b[0m\u001b[0mtriangular_factorization\u001b[0m\u001b[0;34m(\u001b[0m\u001b[0mself\u001b[0m\u001b[0;34m.\u001b[0m\u001b[0mgroebner_basis\u001b[0m\u001b[0;34m(\u001b[0m\u001b[0;34m)\u001b[0m\u001b[0;34m)\u001b[0m\u001b[0;34m\u001b[0m\u001b[0;34m\u001b[0m\u001b[0m\n\u001b[0m\u001b[1;32m   2560\u001b[0m           \u001b[0;32melse\u001b[0m\u001b[0;34m:\u001b[0m\u001b[0;34m\u001b[0m\u001b[0;34m\u001b[0m\u001b[0m\n\u001b[1;32m   2561\u001b[0m             \u001b[0;32mraise\u001b[0m \u001b[0mTypeError\u001b[0m\u001b[0;34m(\u001b[0m\u001b[0;34m\"Local/unknown orderings not supported by 'toy_buchberger' implementation.\"\u001b[0m\u001b[0;34m)\u001b[0m\u001b[0;34m\u001b[0m\u001b[0;34m\u001b[0m\u001b[0m\n",
      "\u001b[0;32m/opt/sagemath-9.0/local/lib/python3.7/site-packages/sage/rings/polynomial/toy_variety.py\u001b[0m in \u001b[0;36mtriangular_factorization\u001b[0;34m(B, n)\u001b[0m\n\u001b[1;32m    279\u001b[0m     \u001b[0;32melse\u001b[0m\u001b[0;34m:\u001b[0m\u001b[0;34m\u001b[0m\u001b[0;34m\u001b[0m\u001b[0m\n\u001b[1;32m    280\u001b[0m       \u001b[0mH\u001b[0m \u001b[0;34m=\u001b[0m \u001b[0mI\u001b[0m\u001b[0;34m.\u001b[0m\u001b[0mgroebner_basis\u001b[0m\u001b[0;34m(\u001b[0m\u001b[0;34m)\u001b[0m\u001b[0;34m\u001b[0m\u001b[0;34m\u001b[0m\u001b[0m\n\u001b[0;32m--> 281\u001b[0;31m     \u001b[0mT\u001b[0m \u001b[0;34m=\u001b[0m \u001b[0mtriangular_factorization\u001b[0m\u001b[0;34m(\u001b[0m\u001b[0mlist\u001b[0m\u001b[0;34m(\u001b[0m\u001b[0mH\u001b[0m\u001b[0;34m)\u001b[0m\u001b[0;34m,\u001b[0m\u001b[0mn\u001b[0m\u001b[0;34m-\u001b[0m\u001b[0;36m1\u001b[0m\u001b[0;34m)\u001b[0m\u001b[0;34m\u001b[0m\u001b[0;34m\u001b[0m\u001b[0m\n\u001b[0m\u001b[1;32m    282\u001b[0m     \u001b[0;31m# now add the current factor q of p to the factorization\u001b[0m\u001b[0;34m\u001b[0m\u001b[0;34m\u001b[0m\u001b[0;34m\u001b[0m\u001b[0m\n\u001b[1;32m    283\u001b[0m     \u001b[0;32mfor\u001b[0m \u001b[0meach\u001b[0m \u001b[0;32min\u001b[0m \u001b[0mT\u001b[0m\u001b[0;34m:\u001b[0m\u001b[0;34m\u001b[0m\u001b[0;34m\u001b[0m\u001b[0m\n",
      "\u001b[0;32m/opt/sagemath-9.0/local/lib/python3.7/site-packages/sage/rings/polynomial/toy_variety.py\u001b[0m in \u001b[0;36mtriangular_factorization\u001b[0;34m(B, n)\u001b[0m\n\u001b[1;32m    279\u001b[0m     \u001b[0;32melse\u001b[0m\u001b[0;34m:\u001b[0m\u001b[0;34m\u001b[0m\u001b[0;34m\u001b[0m\u001b[0m\n\u001b[1;32m    280\u001b[0m       \u001b[0mH\u001b[0m \u001b[0;34m=\u001b[0m \u001b[0mI\u001b[0m\u001b[0;34m.\u001b[0m\u001b[0mgroebner_basis\u001b[0m\u001b[0;34m(\u001b[0m\u001b[0;34m)\u001b[0m\u001b[0;34m\u001b[0m\u001b[0;34m\u001b[0m\u001b[0m\n\u001b[0;32m--> 281\u001b[0;31m     \u001b[0mT\u001b[0m \u001b[0;34m=\u001b[0m \u001b[0mtriangular_factorization\u001b[0m\u001b[0;34m(\u001b[0m\u001b[0mlist\u001b[0m\u001b[0;34m(\u001b[0m\u001b[0mH\u001b[0m\u001b[0;34m)\u001b[0m\u001b[0;34m,\u001b[0m\u001b[0mn\u001b[0m\u001b[0;34m-\u001b[0m\u001b[0;36m1\u001b[0m\u001b[0;34m)\u001b[0m\u001b[0;34m\u001b[0m\u001b[0;34m\u001b[0m\u001b[0m\n\u001b[0m\u001b[1;32m    282\u001b[0m     \u001b[0;31m# now add the current factor q of p to the factorization\u001b[0m\u001b[0;34m\u001b[0m\u001b[0;34m\u001b[0m\u001b[0;34m\u001b[0m\u001b[0m\n\u001b[1;32m    283\u001b[0m     \u001b[0;32mfor\u001b[0m \u001b[0meach\u001b[0m \u001b[0;32min\u001b[0m \u001b[0mT\u001b[0m\u001b[0;34m:\u001b[0m\u001b[0;34m\u001b[0m\u001b[0;34m\u001b[0m\u001b[0m\n",
      "\u001b[0;32m/opt/sagemath-9.0/local/lib/python3.7/site-packages/sage/rings/polynomial/toy_variety.py\u001b[0m in \u001b[0;36mtriangular_factorization\u001b[0;34m(B, n)\u001b[0m\n\u001b[1;32m    279\u001b[0m     \u001b[0;32melse\u001b[0m\u001b[0;34m:\u001b[0m\u001b[0;34m\u001b[0m\u001b[0;34m\u001b[0m\u001b[0m\n\u001b[1;32m    280\u001b[0m       \u001b[0mH\u001b[0m \u001b[0;34m=\u001b[0m \u001b[0mI\u001b[0m\u001b[0;34m.\u001b[0m\u001b[0mgroebner_basis\u001b[0m\u001b[0;34m(\u001b[0m\u001b[0;34m)\u001b[0m\u001b[0;34m\u001b[0m\u001b[0;34m\u001b[0m\u001b[0m\n\u001b[0;32m--> 281\u001b[0;31m     \u001b[0mT\u001b[0m \u001b[0;34m=\u001b[0m \u001b[0mtriangular_factorization\u001b[0m\u001b[0;34m(\u001b[0m\u001b[0mlist\u001b[0m\u001b[0;34m(\u001b[0m\u001b[0mH\u001b[0m\u001b[0;34m)\u001b[0m\u001b[0;34m,\u001b[0m\u001b[0mn\u001b[0m\u001b[0;34m-\u001b[0m\u001b[0;36m1\u001b[0m\u001b[0;34m)\u001b[0m\u001b[0;34m\u001b[0m\u001b[0;34m\u001b[0m\u001b[0m\n\u001b[0m\u001b[1;32m    282\u001b[0m     \u001b[0;31m# now add the current factor q of p to the factorization\u001b[0m\u001b[0;34m\u001b[0m\u001b[0;34m\u001b[0m\u001b[0;34m\u001b[0m\u001b[0m\n\u001b[1;32m    283\u001b[0m     \u001b[0;32mfor\u001b[0m \u001b[0meach\u001b[0m \u001b[0;32min\u001b[0m \u001b[0mT\u001b[0m\u001b[0;34m:\u001b[0m\u001b[0;34m\u001b[0m\u001b[0;34m\u001b[0m\u001b[0m\n",
      "\u001b[0;32m/opt/sagemath-9.0/local/lib/python3.7/site-packages/sage/rings/polynomial/toy_variety.py\u001b[0m in \u001b[0;36mtriangular_factorization\u001b[0;34m(B, n)\u001b[0m\n\u001b[1;32m    266\u001b[0m   \u001b[0;31m# first, find the univariate polynomial in the ideal\u001b[0m\u001b[0;34m\u001b[0m\u001b[0;34m\u001b[0m\u001b[0;34m\u001b[0m\u001b[0m\n\u001b[1;32m    267\u001b[0m   \u001b[0;31m# corresponding to the smallest variable under consideration\u001b[0m\u001b[0;34m\u001b[0m\u001b[0;34m\u001b[0m\u001b[0;34m\u001b[0m\u001b[0m\n\u001b[0;32m--> 268\u001b[0;31m   \u001b[0mp\u001b[0m \u001b[0;34m=\u001b[0m \u001b[0melim_pol\u001b[0m\u001b[0;34m(\u001b[0m\u001b[0mG\u001b[0m\u001b[0;34m,\u001b[0m\u001b[0mn\u001b[0m\u001b[0;34m)\u001b[0m\u001b[0;34m\u001b[0m\u001b[0;34m\u001b[0m\u001b[0m\n\u001b[0m\u001b[1;32m    269\u001b[0m   \u001b[0mR\u001b[0m \u001b[0;34m=\u001b[0m \u001b[0mp\u001b[0m\u001b[0;34m.\u001b[0m\u001b[0mparent\u001b[0m\u001b[0;34m(\u001b[0m\u001b[0;34m)\u001b[0m\u001b[0;34m\u001b[0m\u001b[0;34m\u001b[0m\u001b[0m\n\u001b[1;32m    270\u001b[0m   \u001b[0mfamily\u001b[0m \u001b[0;34m=\u001b[0m \u001b[0;34m[\u001b[0m\u001b[0;34m]\u001b[0m\u001b[0;34m\u001b[0m\u001b[0;34m\u001b[0m\u001b[0m\n",
      "\u001b[0;32m/opt/sagemath-9.0/local/lib/python3.7/site-packages/sage/rings/polynomial/toy_variety.py\u001b[0m in \u001b[0;36melim_pol\u001b[0;34m(B, n)\u001b[0m\n\u001b[1;32m    329\u001b[0m \u001b[0;34m\u001b[0m\u001b[0m\n\u001b[1;32m    330\u001b[0m   \u001b[0;31m# setup -- main algorithm\u001b[0m\u001b[0;34m\u001b[0m\u001b[0;34m\u001b[0m\u001b[0;34m\u001b[0m\u001b[0m\n\u001b[0;32m--> 331\u001b[0;31m   \u001b[0mx\u001b[0m \u001b[0;34m=\u001b[0m \u001b[0mG\u001b[0m\u001b[0;34m[\u001b[0m\u001b[0;36m0\u001b[0m\u001b[0;34m]\u001b[0m\u001b[0;34m.\u001b[0m\u001b[0mparent\u001b[0m\u001b[0;34m(\u001b[0m\u001b[0;34m)\u001b[0m\u001b[0;34m.\u001b[0m\u001b[0mgens\u001b[0m\u001b[0;34m(\u001b[0m\u001b[0;34m)\u001b[0m\u001b[0;34m[\u001b[0m\u001b[0mn\u001b[0m\u001b[0;34m]\u001b[0m\u001b[0;34m\u001b[0m\u001b[0;34m\u001b[0m\u001b[0m\n\u001b[0m\u001b[1;32m    332\u001b[0m   \u001b[0mmonom\u001b[0m \u001b[0;34m=\u001b[0m \u001b[0mx\u001b[0m\u001b[0;34m**\u001b[0m\u001b[0;36m0\u001b[0m\u001b[0;34m\u001b[0m\u001b[0;34m\u001b[0m\u001b[0m\n\u001b[1;32m    333\u001b[0m   \u001b[0mnfm\u001b[0m \u001b[0;34m=\u001b[0m \u001b[0mmonom\u001b[0m\u001b[0;34m.\u001b[0m\u001b[0mreduce\u001b[0m\u001b[0;34m(\u001b[0m\u001b[0mG\u001b[0m\u001b[0;34m)\u001b[0m\u001b[0;34m\u001b[0m\u001b[0;34m\u001b[0m\u001b[0m\n",
      "\u001b[0;31mIndexError\u001b[0m: tuple index out of range"
     ]
    }
   ],
   "source": [
    "Ideal(a3).variety()"
   ]
  },
  {
   "cell_type": "code",
   "execution_count": 17,
   "metadata": {},
   "outputs": [],
   "source": [
    "##matrixList = matrixList[0:3]\n",
    "\n",
    "\n",
    "simple_mat = Matrix(basefield, (k*(k-1)/2)^2, (rk+1)*(rk)/2, lambda i, j: getSimpleCoeff(i,j,k,r,matrixList))"
   ]
  },
  {
   "cell_type": "code",
   "execution_count": 20,
   "metadata": {},
   "outputs": [
    {
     "data": {
      "text/plain": [
       "35"
      ]
     },
     "execution_count": 20,
     "metadata": {},
     "output_type": "execute_result"
    }
   ],
   "source": [
    "simple_mat.rank()"
   ]
  },
  {
   "cell_type": "code",
   "execution_count": 22,
   "metadata": {},
   "outputs": [],
   "source": [
    "basis2 = simple_mat.transpose().kernel().basis()"
   ]
  },
  {
   "cell_type": "code",
   "execution_count": null,
   "metadata": {},
   "outputs": [],
   "source": []
  },
  {
   "cell_type": "code",
   "execution_count": null,
   "metadata": {},
   "outputs": [],
   "source": [
    "simple_mat_basis = (simple_mat.transpose().matrix_from_rows(simple_mat.transpose().pivot_rows()))\n",
    "kernel1 = simple_mat.kernel().basis()\n",
    "cob_mat = simple_mat_basis.stack(Matrix(kernel1)).transpose().inverse()"
   ]
  },
  {
   "cell_type": "code",
   "execution_count": 240,
   "metadata": {
    "scrolled": false
   },
   "outputs": [
    {
     "data": {
      "text/plain": [
       "(0, 1, 3)"
      ]
     },
     "execution_count": 240,
     "metadata": {},
     "output_type": "execute_result"
    }
   ],
   "source": [
    "simple_mat.transpose().pivot_rows()"
   ]
  },
  {
   "cell_type": "code",
   "execution_count": 248,
   "metadata": {},
   "outputs": [
    {
     "name": "stdout",
     "output_type": "stream",
     "text": [
      "[\n",
      "(1, 0, 0, 1, 1, 0),\n",
      "(0, 1, 0, 0, 1, 1),\n",
      "(0, 0, 1, 1, 0, 1)\n",
      "]\n"
     ]
    }
   ],
   "source": [
    "print(simple_mat.transpose().kernel().basis())"
   ]
  },
  {
   "cell_type": "code",
   "execution_count": 241,
   "metadata": {},
   "outputs": [],
   "source": [
    "dependencies = (cob_mat*simple_mat).transpose()"
   ]
  },
  {
   "cell_type": "code",
   "execution_count": 242,
   "metadata": {},
   "outputs": [
    {
     "data": {
      "text/plain": [
       "(1, 1, 0, 0, 0, 0, 0, 0, 0)"
      ]
     },
     "execution_count": 242,
     "metadata": {},
     "output_type": "execute_result"
    }
   ],
   "source": [
    "dependencies[4]                           #  #  #  #  #           #  #  #  #  #        #  #  #  #  #"
   ]
  },
  {
   "cell_type": "code",
   "execution_count": 182,
   "metadata": {},
   "outputs": [
    {
     "data": {
      "text/plain": [
       "3"
      ]
     },
     "execution_count": 182,
     "metadata": {},
     "output_type": "execute_result"
    }
   ],
   "source": [
    "#14,15,16,17,18\n",
    "#22,23,24,25,26\n",
    "#29,30,31,32,33\n",
    "\n",
    "simple_mat.rank()\n",
    "\n",
    "## 94 - 90, 84-80, 74-70 form a space for 64 - 50"
   ]
  },
  {
   "cell_type": "code",
   "execution_count": 207,
   "metadata": {},
   "outputs": [
    {
     "data": {
      "text/plain": [
       "(6*z^2 + 5*z + 3)*a"
      ]
     },
     "execution_count": 207,
     "metadata": {},
     "output_type": "execute_result"
    }
   ],
   "source": [
    "y"
   ]
  },
  {
   "cell_type": "code",
   "execution_count": 105,
   "metadata": {},
   "outputs": [
    {
     "name": "stdout",
     "output_type": "stream",
     "text": [
      "5 0\n"
     ]
    },
    {
     "data": {
      "text/plain": [
       "1"
      ]
     },
     "execution_count": 105,
     "metadata": {},
     "output_type": "execute_result"
    }
   ],
   "source": [
    "getSimpleCoeff(0,44,k,r,matrixList)"
   ]
  },
  {
   "cell_type": "code",
   "execution_count": 236,
   "metadata": {},
   "outputs": [
    {
     "name": "stdout",
     "output_type": "stream",
     "text": [
      "0\n"
     ]
    }
   ],
   "source": [
    "eqn_mat = Matrix(basefield, (k^3*(k-1)^2)/2, rk^4, lambda i,j: getLinearizedCoeff(i,j, k, r, matrixList, c_matrix))"
   ]
  },
  {
   "cell_type": "code",
   "execution_count": 211,
   "metadata": {},
   "outputs": [
    {
     "name": "stdout",
     "output_type": "stream",
     "text": [
      "2 1\n"
     ]
    },
    {
     "data": {
      "text/plain": [
       "0"
      ]
     },
     "execution_count": 211,
     "metadata": {},
     "output_type": "execute_result"
    }
   ],
   "source": [
    "getSimpleCoeff(0,3,k,r,matrixList)"
   ]
  },
  {
   "cell_type": "code",
   "execution_count": 72,
   "metadata": {},
   "outputs": [
    {
     "data": {
      "text/plain": [
       "(4, 6, 4, 3, 5, 6, 3, 2, 2, 3, 4, 4, 2, 3, 0, 5, 1, 5, 2, 6, 5, 6, 1, 4, 6, 1, 3, 0, 0, 1, 2, 0, 6, 4, 6, 4, 4, 3, 2, 0, 1, 6, 4, 3, 0, 0, 1, 5, 4, 3, 6, 6, 0, 3, 5)"
      ]
     },
     "execution_count": 72,
     "metadata": {},
     "output_type": "execute_result"
    }
   ],
   "source": [
    "simple_mat[11]"
   ]
  },
  {
   "cell_type": "code",
   "execution_count": 214,
   "metadata": {},
   "outputs": [
    {
     "data": {
      "text/plain": [
       "35"
      ]
     },
     "execution_count": 214,
     "metadata": {},
     "output_type": "execute_result"
    }
   ],
   "source": [
    "simple_mat.rank()"
   ]
  },
  {
   "cell_type": "code",
   "execution_count": 18,
   "metadata": {},
   "outputs": [
    {
     "name": "stdout",
     "output_type": "stream",
     "text": [
      "100 120\n"
     ]
    }
   ],
   "source": [
    "print(simple_mat.nrows(), simple_mat.ncols())"
   ]
  },
  {
   "cell_type": "code",
   "execution_count": null,
   "metadata": {},
   "outputs": [],
   "source": [
    "eqn_mat[1]"
   ]
  },
  {
   "cell_type": "code",
   "execution_count": 23,
   "metadata": {},
   "outputs": [
    {
     "data": {
      "text/plain": [
       "6174"
      ]
     },
     "execution_count": 23,
     "metadata": {},
     "output_type": "execute_result"
    }
   ],
   "source": [
    "eqn_mat.nrows()"
   ]
  },
  {
   "cell_type": "code",
   "execution_count": 24,
   "metadata": {},
   "outputs": [
    {
     "data": {
      "text/plain": [
       "1078"
      ]
     },
     "execution_count": 24,
     "metadata": {},
     "output_type": "execute_result"
    }
   ],
   "source": [
    "eqn_mat.rank()"
   ]
  },
  {
   "cell_type": "code",
   "execution_count": 165,
   "metadata": {},
   "outputs": [],
   "source": [
    "kernel = simple_mat.transpose().kernel()"
   ]
  },
  {
   "cell_type": "code",
   "execution_count": 166,
   "metadata": {},
   "outputs": [],
   "source": [
    "basis = kernel.basis()"
   ]
  },
  {
   "cell_type": "code",
   "execution_count": 167,
   "metadata": {},
   "outputs": [],
   "source": [
    "null_mat = Matrix(basis)"
   ]
  },
  {
   "cell_type": "code",
   "execution_count": 151,
   "metadata": {},
   "outputs": [
    {
     "data": {
      "text/plain": [
       "3"
      ]
     },
     "execution_count": 151,
     "metadata": {},
     "output_type": "execute_result"
    }
   ],
   "source": [
    "null_mat.rank()"
   ]
  },
  {
   "cell_type": "code",
   "execution_count": 168,
   "metadata": {},
   "outputs": [],
   "source": [
    "independent_equations = simple_mat.matrix_from_rows(simple_mat.pivot_rows())"
   ]
  },
  {
   "cell_type": "code",
   "execution_count": 169,
   "metadata": {},
   "outputs": [
    {
     "data": {
      "text/plain": [
       "3"
      ]
     },
     "execution_count": 169,
     "metadata": {},
     "output_type": "execute_result"
    }
   ],
   "source": [
    "independent_equations.nrows()"
   ]
  },
  {
   "cell_type": "code",
   "execution_count": 170,
   "metadata": {},
   "outputs": [],
   "source": [
    "cob = independent_equations.stack(null_mat)"
   ]
  },
  {
   "cell_type": "code",
   "execution_count": 129,
   "metadata": {},
   "outputs": [],
   "source": [
    "b = cob.kernel().basis()"
   ]
  },
  {
   "cell_type": "code",
   "execution_count": 130,
   "metadata": {},
   "outputs": [],
   "source": [
    "cob = cob.matrix_from_rows(cob.pivot_rows())"
   ]
  },
  {
   "cell_type": "code",
   "execution_count": 34,
   "metadata": {},
   "outputs": [
    {
     "data": {
      "text/plain": [
       "9998"
      ]
     },
     "execution_count": 34,
     "metadata": {},
     "output_type": "execute_result"
    }
   ],
   "source": [
    "cob.nrows()"
   ]
  },
  {
   "cell_type": "code",
   "execution_count": 36,
   "metadata": {},
   "outputs": [],
   "source": [
    "b = Matrix(b)\n",
    "cob = cob.stack(b)"
   ]
  },
  {
   "cell_type": "code",
   "execution_count": 171,
   "metadata": {},
   "outputs": [],
   "source": [
    "cob = cob.inverse()\n",
    "rep = simple_mat*cob"
   ]
  },
  {
   "cell_type": "code",
   "execution_count": 172,
   "metadata": {},
   "outputs": [
    {
     "data": {
      "text/plain": [
       "(0, 1, 2)"
      ]
     },
     "execution_count": 172,
     "metadata": {},
     "output_type": "execute_result"
    }
   ],
   "source": [
    "simple_mat.pivot_rows()"
   ]
  },
  {
   "cell_type": "code",
   "execution_count": 178,
   "metadata": {},
   "outputs": [
    {
     "data": {
      "text/plain": [
       "(4, 1, 3, 0, 0, 0)"
      ]
     },
     "execution_count": 178,
     "metadata": {},
     "output_type": "execute_result"
    }
   ],
   "source": [
    "rep[8]"
   ]
  },
  {
   "cell_type": "code",
   "execution_count": 17,
   "metadata": {},
   "outputs": [
    {
     "data": {
      "text/plain": [
       "(0, 0, 5, 10, 0, 1, 0, 1, 0)"
      ]
     },
     "execution_count": 17,
     "metadata": {},
     "output_type": "execute_result"
    }
   ],
   "source": [
    "getIndices(0, 85, k, r)"
   ]
  },
  {
   "cell_type": "code",
   "execution_count": 56,
   "metadata": {},
   "outputs": [
    {
     "data": {
      "text/plain": [
       "0"
      ]
     },
     "execution_count": 56,
     "metadata": {},
     "output_type": "execute_result"
    }
   ],
   "source": [
    "t1,a1,t2,a2,d,lx,ly,jx,jy = getIndices(1,6,k,r)\n",
    "c = c_matrix[a1][a2][d]\n",
    "matrixList[t1][jy][lx]*matrixList[t2][jx][ly]\n"
   ]
  },
  {
   "cell_type": "code",
   "execution_count": 183,
   "metadata": {},
   "outputs": [
    {
     "ename": "NameError",
     "evalue": "name 't1' is not defined",
     "output_type": "error",
     "traceback": [
      "\u001b[0;31m---------------------------------------------------------------------------\u001b[0m",
      "\u001b[0;31mNameError\u001b[0m                                 Traceback (most recent call last)",
      "\u001b[0;32m<ipython-input-183-d3b6ba9877b0>\u001b[0m in \u001b[0;36m<module>\u001b[0;34m()\u001b[0m\n\u001b[0;32m----> 1\u001b[0;31m \u001b[0mgetIndices\u001b[0m\u001b[0;34m(\u001b[0m\u001b[0mmatrixList\u001b[0m\u001b[0;34m[\u001b[0m\u001b[0mt1\u001b[0m\u001b[0;34m]\u001b[0m\u001b[0;34m[\u001b[0m\u001b[0mjy\u001b[0m\u001b[0;34m]\u001b[0m\u001b[0;34m[\u001b[0m\u001b[0mly\u001b[0m\u001b[0;34m]\u001b[0m\u001b[0;34m*\u001b[0m\u001b[0mmatrixList\u001b[0m\u001b[0;34m[\u001b[0m\u001b[0mt2\u001b[0m\u001b[0;34m]\u001b[0m\u001b[0;34m[\u001b[0m\u001b[0mjx\u001b[0m\u001b[0;34m]\u001b[0m\u001b[0;34m[\u001b[0m\u001b[0mlx\u001b[0m\u001b[0;34m]\u001b[0m \u001b[0;34m-\u001b[0m \u001b[0mmatrixList\u001b[0m\u001b[0;34m[\u001b[0m\u001b[0mt1\u001b[0m\u001b[0;34m]\u001b[0m\u001b[0;34m[\u001b[0m\u001b[0mjy\u001b[0m\u001b[0;34m]\u001b[0m\u001b[0;34m[\u001b[0m\u001b[0mlx\u001b[0m\u001b[0;34m]\u001b[0m\u001b[0;34m*\u001b[0m\u001b[0mmatrixList\u001b[0m\u001b[0;34m[\u001b[0m\u001b[0mt2\u001b[0m\u001b[0;34m]\u001b[0m\u001b[0;34m[\u001b[0m\u001b[0mjx\u001b[0m\u001b[0;34m]\u001b[0m\u001b[0;34m[\u001b[0m\u001b[0mly\u001b[0m\u001b[0;34m]\u001b[0m\u001b[0;34m,\u001b[0m\u001b[0mInteger\u001b[0m\u001b[0;34m(\u001b[0m\u001b[0;36m1\u001b[0m\u001b[0;34m)\u001b[0m\u001b[0;34m,\u001b[0m \u001b[0mk\u001b[0m\u001b[0;34m,\u001b[0m \u001b[0mr\u001b[0m\u001b[0;34m)\u001b[0m\u001b[0;34m\u001b[0m\u001b[0;34m\u001b[0m\u001b[0m\n\u001b[0m",
      "\u001b[0;31mNameError\u001b[0m: name 't1' is not defined"
     ]
    }
   ],
   "source": [
    "getIndices(matrixList[t1][jy][ly]*matrixList[t2][jx][lx] - matrixList[t1][jy][lx]*matrixList[t2][jx][ly],1, k, r)"
   ]
  },
  {
   "cell_type": "code",
   "execution_count": 14,
   "metadata": {},
   "outputs": [
    {
     "ename": "NameError",
     "evalue": "name 'c_matrix' is not defined",
     "output_type": "error",
     "traceback": [
      "\u001b[0;31m---------------------------------------------------------------------------\u001b[0m",
      "\u001b[0;31mNameError\u001b[0m                                 Traceback (most recent call last)",
      "\u001b[0;32m<ipython-input-14-e3d748abb0cb>\u001b[0m in \u001b[0;36m<module>\u001b[0;34m()\u001b[0m\n\u001b[0;32m----> 1\u001b[0;31m \u001b[0mgetSimpleCoeff\u001b[0m\u001b[0;34m(\u001b[0m\u001b[0mInteger\u001b[0m\u001b[0;34m(\u001b[0m\u001b[0;36m1\u001b[0m\u001b[0;34m)\u001b[0m\u001b[0;34m,\u001b[0m\u001b[0mInteger\u001b[0m\u001b[0;34m(\u001b[0m\u001b[0;36m85\u001b[0m\u001b[0;34m)\u001b[0m\u001b[0;34m,\u001b[0m\u001b[0mk\u001b[0m\u001b[0;34m,\u001b[0m\u001b[0mr\u001b[0m\u001b[0;34m,\u001b[0m\u001b[0mmatrixList\u001b[0m\u001b[0;34m,\u001b[0m \u001b[0mc_matrix\u001b[0m\u001b[0;34m)\u001b[0m\u001b[0;34m\u001b[0m\u001b[0;34m\u001b[0m\u001b[0m\n\u001b[0m",
      "\u001b[0;31mNameError\u001b[0m: name 'c_matrix' is not defined"
     ]
    }
   ],
   "source": [
    "getSimpleCoeff(1,85,k,r,matrixList, c_matrix)"
   ]
  },
  {
   "cell_type": "code",
   "execution_count": 73,
   "metadata": {},
   "outputs": [
    {
     "data": {
      "text/plain": [
       "[22,\n",
       " 22,\n",
       " 7,\n",
       " 22,\n",
       " 7,\n",
       " 10,\n",
       " 7,\n",
       " 7,\n",
       " 10,\n",
       " 0,\n",
       " 0,\n",
       " 0,\n",
       " 0,\n",
       " 0,\n",
       " 0,\n",
       " 0,\n",
       " 0,\n",
       " 0,\n",
       " 10,\n",
       " 10,\n",
       " 22,\n",
       " 10,\n",
       " 22,\n",
       " 15,\n",
       " 22,\n",
       " 22,\n",
       " 15,\n",
       " 12,\n",
       " 12,\n",
       " 8,\n",
       " 12,\n",
       " 8,\n",
       " 18,\n",
       " 8,\n",
       " 8,\n",
       " 18,\n",
       " 11,\n",
       " 11,\n",
       " 15,\n",
       " 11,\n",
       " 15,\n",
       " 5,\n",
       " 15,\n",
       " 15,\n",
       " 5,\n",
       " 10,\n",
       " 10,\n",
       " 22,\n",
       " 10,\n",
       " 22,\n",
       " 15,\n",
       " 22,\n",
       " 22,\n",
       " 15]"
      ]
     },
     "execution_count": 73,
     "metadata": {},
     "output_type": "execute_result"
    }
   ],
   "source": [
    "[eqn_mat[i][4] for i in range(54)]"
   ]
  },
  {
   "cell_type": "code",
   "execution_count": 66,
   "metadata": {},
   "outputs": [
    {
     "data": {
      "text/plain": [
       "0"
      ]
     },
     "execution_count": 66,
     "metadata": {},
     "output_type": "execute_result"
    }
   ],
   "source": [
    "1//3"
   ]
  },
  {
   "cell_type": "code",
   "execution_count": 114,
   "metadata": {},
   "outputs": [
    {
     "name": "stdout",
     "output_type": "stream",
     "text": [
      "1 0 1 0\n",
      "1 0 2 0\n",
      "1 0 2 1\n",
      "2 0 1 0\n",
      "2 0 2 0\n",
      "2 0 2 1\n",
      "2 1 1 0\n",
      "2 1 2 0\n",
      "2 1 2 1\n",
      "1 0 1 0\n",
      "1 0 2 0\n",
      "1 0 2 1\n",
      "2 0 1 0\n",
      "2 0 2 0\n",
      "2 0 2 1\n",
      "2 1 1 0\n",
      "2 1 2 0\n",
      "2 1 2 1\n",
      "1 0 1 0\n",
      "1 0 2 0\n",
      "1 0 2 1\n",
      "2 0 1 0\n",
      "2 0 2 0\n",
      "2 0 2 1\n",
      "2 1 1 0\n",
      "2 1 2 0\n",
      "2 1 2 1\n",
      "1 0 1 0\n",
      "1 0 2 0\n",
      "1 0 2 1\n",
      "2 0 1 0\n",
      "2 0 2 0\n",
      "2 0 2 1\n",
      "2 1 1 0\n",
      "2 1 2 0\n",
      "2 1 2 1\n",
      "1 0 1 0\n",
      "1 0 2 0\n",
      "1 0 2 1\n",
      "2 0 1 0\n",
      "2 0 2 0\n",
      "2 0 2 1\n",
      "2 1 1 0\n",
      "2 1 2 0\n",
      "2 1 2 1\n",
      "1 0 1 0\n",
      "1 0 2 0\n",
      "1 0 2 1\n",
      "2 0 1 0\n",
      "2 0 2 0\n",
      "2 0 2 1\n",
      "2 1 1 0\n",
      "2 1 2 0\n",
      "2 1 2 1\n",
      "1 0 1 0\n",
      "1 0 2 0\n",
      "1 0 2 1\n",
      "2 0 1 0\n",
      "2 0 2 0\n",
      "2 0 2 1\n",
      "2 1 1 0\n",
      "2 1 2 0\n",
      "2 1 2 1\n",
      "1 0 1 0\n",
      "1 0 2 0\n",
      "1 0 2 1\n",
      "2 0 1 0\n",
      "2 0 2 0\n",
      "2 0 2 1\n",
      "2 1 1 0\n",
      "2 1 2 0\n",
      "2 1 2 1\n",
      "1 0 1 0\n",
      "1 0 2 0\n",
      "1 0 2 1\n",
      "2 0 1 0\n",
      "2 0 2 0\n",
      "2 0 2 1\n",
      "2 1 1 0\n",
      "2 1 2 0\n",
      "2 1 2 1\n",
      "1 0 1 0\n",
      "1 0 2 0\n",
      "1 0 2 1\n",
      "2 0 1 0\n",
      "2 0 2 0\n",
      "2 0 2 1\n",
      "2 1 1 0\n",
      "2 1 2 0\n",
      "2 1 2 1\n",
      "1 0 1 0\n",
      "1 0 2 0\n",
      "1 0 2 1\n",
      "2 0 1 0\n",
      "2 0 2 0\n",
      "2 0 2 1\n",
      "2 1 1 0\n",
      "2 1 2 0\n",
      "2 1 2 1\n",
      "1 0 1 0\n",
      "1 0 2 0\n",
      "1 0 2 1\n",
      "2 0 1 0\n",
      "2 0 2 0\n",
      "2 0 2 1\n",
      "2 1 1 0\n",
      "2 1 2 0\n",
      "2 1 2 1\n",
      "1 0 1 0\n",
      "1 0 2 0\n",
      "1 0 2 1\n",
      "2 0 1 0\n",
      "2 0 2 0\n",
      "2 0 2 1\n",
      "2 1 1 0\n",
      "2 1 2 0\n",
      "2 1 2 1\n",
      "1 0 1 0\n",
      "1 0 2 0\n",
      "1 0 2 1\n",
      "2 0 1 0\n",
      "2 0 2 0\n",
      "2 0 2 1\n",
      "2 1 1 0\n",
      "2 1 2 0\n",
      "2 1 2 1\n",
      "1 0 1 0\n",
      "1 0 2 0\n",
      "1 0 2 1\n",
      "2 0 1 0\n",
      "2 0 2 0\n",
      "2 0 2 1\n",
      "2 1 1 0\n",
      "2 1 2 0\n",
      "2 1 2 1\n",
      "1 0 1 0\n",
      "1 0 2 0\n",
      "1 0 2 1\n",
      "2 0 1 0\n",
      "2 0 2 0\n",
      "2 0 2 1\n",
      "2 1 1 0\n",
      "2 1 2 0\n",
      "2 1 2 1\n",
      "1 0 1 0\n",
      "1 0 2 0\n",
      "1 0 2 1\n",
      "2 0 1 0\n",
      "2 0 2 0\n",
      "2 0 2 1\n",
      "2 1 1 0\n",
      "2 1 2 0\n",
      "2 1 2 1\n",
      "1 0 1 0\n",
      "1 0 2 0\n",
      "1 0 2 1\n",
      "2 0 1 0\n",
      "2 0 2 0\n",
      "2 0 2 1\n",
      "2 1 1 0\n",
      "2 1 2 0\n",
      "2 1 2 1\n",
      "1 0 1 0\n",
      "1 0 2 0\n",
      "1 0 2 1\n",
      "2 0 1 0\n",
      "2 0 2 0\n",
      "2 0 2 1\n",
      "2 1 1 0\n",
      "2 1 2 0\n",
      "2 1 2 1\n",
      "1 0 1 0\n",
      "1 0 2 0\n",
      "1 0 2 1\n",
      "2 0 1 0\n",
      "2 0 2 0\n",
      "2 0 2 1\n",
      "2 1 1 0\n",
      "2 1 2 0\n",
      "2 1 2 1\n",
      "1 0 1 0\n",
      "1 0 2 0\n",
      "1 0 2 1\n",
      "2 0 1 0\n",
      "2 0 2 0\n",
      "2 0 2 1\n",
      "2 1 1 0\n",
      "2 1 2 0\n",
      "2 1 2 1\n",
      "1 0 1 0\n",
      "1 0 2 0\n",
      "1 0 2 1\n",
      "2 0 1 0\n",
      "2 0 2 0\n",
      "2 0 2 1\n",
      "2 1 1 0\n",
      "2 1 2 0\n",
      "2 1 2 1\n",
      "1 0 1 0\n",
      "1 0 2 0\n",
      "1 0 2 1\n",
      "2 0 1 0\n",
      "2 0 2 0\n",
      "2 0 2 1\n",
      "2 1 1 0\n",
      "2 1 2 0\n",
      "2 1 2 1\n",
      "1 0 1 0\n",
      "1 0 2 0\n",
      "1 0 2 1\n",
      "2 0 1 0\n",
      "2 0 2 0\n",
      "2 0 2 1\n",
      "2 1 1 0\n",
      "2 1 2 0\n",
      "2 1 2 1\n",
      "1 0 1 0\n",
      "1 0 2 0\n",
      "1 0 2 1\n",
      "2 0 1 0\n",
      "2 0 2 0\n",
      "2 0 2 1\n",
      "2 1 1 0\n",
      "2 1 2 0\n",
      "2 1 2 1\n",
      "1 0 1 0\n",
      "1 0 2 0\n",
      "1 0 2 1\n",
      "2 0 1 0\n",
      "2 0 2 0\n",
      "2 0 2 1\n",
      "2 1 1 0\n",
      "2 1 2 0\n",
      "2 1 2 1\n",
      "1 0 1 0\n",
      "1 0 2 0\n",
      "1 0 2 1\n",
      "2 0 1 0\n",
      "2 0 2 0\n",
      "2 0 2 1\n",
      "2 1 1 0\n",
      "2 1 2 0\n",
      "2 1 2 1\n",
      "1 0 1 0\n",
      "1 0 2 0\n",
      "1 0 2 1\n",
      "2 0 1 0\n",
      "2 0 2 0\n",
      "2 0 2 1\n",
      "2 1 1 0\n",
      "2 1 2 0\n",
      "2 1 2 1\n",
      "1 0 1 0\n",
      "1 0 2 0\n",
      "1 0 2 1\n",
      "2 0 1 0\n",
      "2 0 2 0\n",
      "2 0 2 1\n",
      "2 1 1 0\n",
      "2 1 2 0\n",
      "2 1 2 1\n",
      "1 0 1 0\n",
      "1 0 2 0\n",
      "1 0 2 1\n",
      "2 0 1 0\n",
      "2 0 2 0\n",
      "2 0 2 1\n",
      "2 1 1 0\n",
      "2 1 2 0\n",
      "2 1 2 1\n",
      "1 0 1 0\n",
      "1 0 2 0\n",
      "1 0 2 1\n",
      "2 0 1 0\n",
      "2 0 2 0\n",
      "2 0 2 1\n",
      "2 1 1 0\n",
      "2 1 2 0\n",
      "2 1 2 1\n",
      "1 0 1 0\n",
      "1 0 2 0\n",
      "1 0 2 1\n",
      "2 0 1 0\n",
      "2 0 2 0\n",
      "2 0 2 1\n",
      "2 1 1 0\n",
      "2 1 2 0\n",
      "2 1 2 1\n",
      "1 0 1 0\n",
      "1 0 2 0\n",
      "1 0 2 1\n",
      "2 0 1 0\n",
      "2 0 2 0\n",
      "2 0 2 1\n",
      "2 1 1 0\n",
      "2 1 2 0\n",
      "2 1 2 1\n",
      "1 0 1 0\n",
      "1 0 2 0\n",
      "1 0 2 1\n",
      "2 0 1 0\n",
      "2 0 2 0\n",
      "2 0 2 1\n",
      "2 1 1 0\n",
      "2 1 2 0\n",
      "2 1 2 1\n",
      "1 0 1 0\n",
      "1 0 2 0\n",
      "1 0 2 1\n",
      "2 0 1 0\n",
      "2 0 2 0\n",
      "2 0 2 1\n",
      "2 1 1 0\n",
      "2 1 2 0\n",
      "2 1 2 1\n",
      "1 0 1 0\n",
      "1 0 2 0\n",
      "1 0 2 1\n",
      "2 0 1 0\n",
      "2 0 2 0\n",
      "2 0 2 1\n",
      "2 1 1 0\n",
      "2 1 2 0\n",
      "2 1 2 1\n",
      "1 0 1 0\n",
      "1 0 2 0\n",
      "1 0 2 1\n",
      "2 0 1 0\n",
      "2 0 2 0\n",
      "2 0 2 1\n",
      "2 1 1 0\n",
      "2 1 2 0\n",
      "2 1 2 1\n",
      "1 0 1 0\n",
      "1 0 2 0\n",
      "1 0 2 1\n",
      "2 0 1 0\n",
      "2 0 2 0\n",
      "2 0 2 1\n",
      "2 1 1 0\n",
      "2 1 2 0\n",
      "2 1 2 1\n",
      "1 0 1 0\n",
      "1 0 2 0\n",
      "1 0 2 1\n",
      "2 0 1 0\n",
      "2 0 2 0\n",
      "2 0 2 1\n",
      "2 1 1 0\n",
      "2 1 2 0\n",
      "2 1 2 1\n",
      "1 0 1 0\n",
      "1 0 2 0\n",
      "1 0 2 1\n",
      "2 0 1 0\n",
      "2 0 2 0\n",
      "2 0 2 1\n",
      "2 1 1 0\n",
      "2 1 2 0\n",
      "2 1 2 1\n",
      "1 0 1 0\n",
      "1 0 2 0\n",
      "1 0 2 1\n",
      "2 0 1 0\n",
      "2 0 2 0\n",
      "2 0 2 1\n",
      "2 1 1 0\n",
      "2 1 2 0\n",
      "2 1 2 1\n",
      "1 0 1 0\n",
      "1 0 2 0\n",
      "1 0 2 1\n",
      "2 0 1 0\n",
      "2 0 2 0\n",
      "2 0 2 1\n",
      "2 1 1 0\n",
      "2 1 2 0\n",
      "2 1 2 1\n",
      "1 0 1 0\n",
      "1 0 2 0\n",
      "1 0 2 1\n",
      "2 0 1 0\n",
      "2 0 2 0\n",
      "2 0 2 1\n",
      "2 1 1 0\n",
      "2 1 2 0\n",
      "2 1 2 1\n",
      "1 0 1 0\n",
      "1 0 2 0\n",
      "1 0 2 1\n",
      "2 0 1 0\n",
      "2 0 2 0\n",
      "2 0 2 1\n",
      "2 1 1 0\n",
      "2 1 2 0\n",
      "2 1 2 1\n",
      "1 0 1 0\n",
      "1 0 2 0\n",
      "1 0 2 1\n",
      "2 0 1 0\n",
      "2 0 2 0\n",
      "2 0 2 1\n",
      "2 1 1 0\n",
      "2 1 2 0\n",
      "2 1 2 1\n",
      "1 0 1 0\n",
      "1 0 2 0\n",
      "1 0 2 1\n",
      "2 0 1 0\n",
      "2 0 2 0\n",
      "2 0 2 1\n",
      "2 1 1 0\n",
      "2 1 2 0\n",
      "2 1 2 1\n",
      "1 0 1 0\n",
      "1 0 2 0\n",
      "1 0 2 1\n",
      "2 0 1 0\n",
      "2 0 2 0\n",
      "2 0 2 1\n",
      "2 1 1 0\n",
      "2 1 2 0\n",
      "2 1 2 1\n",
      "1 0 1 0\n",
      "1 0 2 0\n",
      "1 0 2 1\n",
      "2 0 1 0\n",
      "2 0 2 0\n",
      "2 0 2 1\n",
      "2 1 1 0\n",
      "2 1 2 0\n",
      "2 1 2 1\n",
      "1 0 1 0\n",
      "1 0 2 0\n",
      "1 0 2 1\n",
      "2 0 1 0\n",
      "2 0 2 0\n",
      "2 0 2 1\n",
      "2 1 1 0\n",
      "2 1 2 0\n",
      "2 1 2 1\n",
      "1 0 1 0\n",
      "1 0 2 0\n",
      "1 0 2 1\n",
      "2 0 1 0\n",
      "2 0 2 0\n",
      "2 0 2 1\n",
      "2 1 1 0\n",
      "2 1 2 0\n",
      "2 1 2 1\n",
      "1 0 1 0\n",
      "1 0 2 0\n",
      "1 0 2 1\n",
      "2 0 1 0\n",
      "2 0 2 0\n",
      "2 0 2 1\n",
      "2 1 1 0\n",
      "2 1 2 0\n",
      "2 1 2 1\n",
      "1 0 1 0\n",
      "1 0 2 0\n",
      "1 0 2 1\n",
      "2 0 1 0\n",
      "2 0 2 0\n",
      "2 0 2 1\n",
      "2 1 1 0\n",
      "2 1 2 0\n",
      "2 1 2 1\n",
      "1 0 1 0\n",
      "1 0 2 0\n",
      "1 0 2 1\n",
      "2 0 1 0\n",
      "2 0 2 0\n",
      "2 0 2 1\n",
      "2 1 1 0\n",
      "2 1 2 0\n",
      "2 1 2 1\n",
      "1 0 1 0\n",
      "1 0 2 0\n",
      "1 0 2 1\n",
      "2 0 1 0\n",
      "2 0 2 0\n",
      "2 0 2 1\n",
      "2 1 1 0\n",
      "2 1 2 0\n",
      "2 1 2 1\n",
      "1 0 1 0\n",
      "1 0 2 0\n",
      "1 0 2 1\n",
      "2 0 1 0\n",
      "2 0 2 0\n",
      "2 0 2 1\n",
      "2 1 1 0\n",
      "2 1 2 0\n",
      "2 1 2 1\n",
      "1 0 1 0\n",
      "1 0 2 0\n",
      "1 0 2 1\n",
      "2 0 1 0\n",
      "2 0 2 0\n",
      "2 0 2 1\n",
      "2 1 1 0\n",
      "2 1 2 0\n",
      "2 1 2 1\n",
      "1 0 1 0\n",
      "1 0 2 0\n",
      "1 0 2 1\n",
      "2 0 1 0\n",
      "2 0 2 0\n",
      "2 0 2 1\n",
      "2 1 1 0\n",
      "2 1 2 0\n",
      "2 1 2 1\n",
      "1 0 1 0\n",
      "1 0 2 0\n",
      "1 0 2 1\n",
      "2 0 1 0\n",
      "2 0 2 0\n",
      "2 0 2 1\n",
      "2 1 1 0\n",
      "2 1 2 0\n",
      "2 1 2 1\n",
      "1 0 1 0\n",
      "1 0 2 0\n",
      "1 0 2 1\n",
      "2 0 1 0\n",
      "2 0 2 0\n",
      "2 0 2 1\n",
      "2 1 1 0\n",
      "2 1 2 0\n",
      "2 1 2 1\n",
      "1 0 1 0\n",
      "1 0 2 0\n",
      "1 0 2 1\n",
      "2 0 1 0\n",
      "2 0 2 0\n",
      "2 0 2 1\n",
      "2 1 1 0\n",
      "2 1 2 0\n",
      "2 1 2 1\n",
      "1 0 1 0\n",
      "1 0 2 0\n",
      "1 0 2 1\n",
      "2 0 1 0\n",
      "2 0 2 0\n",
      "2 0 2 1\n",
      "2 1 1 0\n",
      "2 1 2 0\n",
      "2 1 2 1\n",
      "1 0 1 0\n",
      "1 0 2 0\n",
      "1 0 2 1\n",
      "2 0 1 0\n",
      "2 0 2 0\n",
      "2 0 2 1\n",
      "2 1 1 0\n",
      "2 1 2 0\n",
      "2 1 2 1\n",
      "1 0 1 0\n",
      "1 0 2 0\n",
      "1 0 2 1\n",
      "2 0 1 0\n",
      "2 0 2 0\n",
      "2 0 2 1\n",
      "2 1 1 0\n",
      "2 1 2 0\n",
      "2 1 2 1\n",
      "1 0 1 0\n",
      "1 0 2 0\n",
      "1 0 2 1\n",
      "2 0 1 0\n",
      "2 0 2 0\n",
      "2 0 2 1\n",
      "2 1 1 0\n",
      "2 1 2 0\n",
      "2 1 2 1\n",
      "1 0 1 0\n",
      "1 0 2 0\n",
      "1 0 2 1\n",
      "2 0 1 0\n",
      "2 0 2 0\n",
      "2 0 2 1\n",
      "2 1 1 0\n",
      "2 1 2 0\n",
      "2 1 2 1\n",
      "1 0 1 0\n",
      "1 0 2 0\n",
      "1 0 2 1\n",
      "2 0 1 0\n",
      "2 0 2 0\n",
      "2 0 2 1\n",
      "2 1 1 0\n",
      "2 1 2 0\n",
      "2 1 2 1\n",
      "1 0 1 0\n",
      "1 0 2 0\n",
      "1 0 2 1\n",
      "2 0 1 0\n",
      "2 0 2 0\n",
      "2 0 2 1\n",
      "2 1 1 0\n",
      "2 1 2 0\n",
      "2 1 2 1\n",
      "1 0 1 0\n",
      "1 0 2 0\n",
      "1 0 2 1\n",
      "2 0 1 0\n",
      "2 0 2 0\n",
      "2 0 2 1\n",
      "2 1 1 0\n",
      "2 1 2 0\n",
      "2 1 2 1\n",
      "1 0 1 0\n",
      "1 0 2 0\n",
      "1 0 2 1\n",
      "2 0 1 0\n",
      "2 0 2 0\n",
      "2 0 2 1\n",
      "2 1 1 0\n",
      "2 1 2 0\n",
      "2 1 2 1\n",
      "1 0 1 0\n",
      "1 0 2 0\n",
      "1 0 2 1\n",
      "2 0 1 0\n",
      "2 0 2 0\n",
      "2 0 2 1\n",
      "2 1 1 0\n",
      "2 1 2 0\n",
      "2 1 2 1\n",
      "1 0 1 0\n",
      "1 0 2 0\n",
      "1 0 2 1\n",
      "2 0 1 0\n",
      "2 0 2 0\n",
      "2 0 2 1\n",
      "2 1 1 0\n",
      "2 1 2 0\n",
      "2 1 2 1\n",
      "1 0 1 0\n",
      "1 0 2 0\n",
      "1 0 2 1\n",
      "2 0 1 0\n",
      "2 0 2 0\n",
      "2 0 2 1\n",
      "2 1 1 0\n",
      "2 1 2 0\n",
      "2 1 2 1\n",
      "1 0 1 0\n",
      "1 0 2 0\n",
      "1 0 2 1\n",
      "2 0 1 0\n",
      "2 0 2 0\n",
      "2 0 2 1\n",
      "2 1 1 0\n",
      "2 1 2 0\n",
      "2 1 2 1\n",
      "1 0 1 0\n",
      "1 0 2 0\n",
      "1 0 2 1\n",
      "2 0 1 0\n",
      "2 0 2 0\n",
      "2 0 2 1\n",
      "2 1 1 0\n",
      "2 1 2 0\n",
      "2 1 2 1\n",
      "1 0 1 0\n",
      "1 0 2 0\n",
      "1 0 2 1\n",
      "2 0 1 0\n",
      "2 0 2 0\n",
      "2 0 2 1\n",
      "2 1 1 0\n",
      "2 1 2 0\n",
      "2 1 2 1\n",
      "1 0 1 0\n",
      "1 0 2 0\n",
      "1 0 2 1\n",
      "2 0 1 0\n",
      "2 0 2 0\n",
      "2 0 2 1\n",
      "2 1 1 0\n",
      "2 1 2 0\n",
      "2 1 2 1\n",
      "1 0 1 0\n",
      "1 0 2 0\n",
      "1 0 2 1\n",
      "2 0 1 0\n",
      "2 0 2 0\n",
      "2 0 2 1\n",
      "2 1 1 0\n",
      "2 1 2 0\n",
      "2 1 2 1\n",
      "1 0 1 0\n",
      "1 0 2 0\n",
      "1 0 2 1\n",
      "2 0 1 0\n",
      "2 0 2 0\n",
      "2 0 2 1\n",
      "2 1 1 0\n",
      "2 1 2 0\n",
      "2 1 2 1\n",
      "1 0 1 0\n",
      "1 0 2 0\n",
      "1 0 2 1\n",
      "2 0 1 0\n",
      "2 0 2 0\n",
      "2 0 2 1\n",
      "2 1 1 0\n",
      "2 1 2 0\n",
      "2 1 2 1\n",
      "1 0 1 0\n",
      "1 0 2 0\n",
      "1 0 2 1\n",
      "2 0 1 0\n",
      "2 0 2 0\n",
      "2 0 2 1\n",
      "2 1 1 0\n",
      "2 1 2 0\n",
      "2 1 2 1\n",
      "1 0 1 0\n",
      "1 0 2 0\n",
      "1 0 2 1\n",
      "2 0 1 0\n",
      "2 0 2 0\n",
      "2 0 2 1\n",
      "2 1 1 0\n",
      "2 1 2 0\n",
      "2 1 2 1\n",
      "1 0 1 0\n",
      "1 0 2 0\n",
      "1 0 2 1\n",
      "2 0 1 0\n",
      "2 0 2 0\n",
      "2 0 2 1\n",
      "2 1 1 0\n",
      "2 1 2 0\n",
      "2 1 2 1\n",
      "1 0 1 0\n",
      "1 0 2 0\n",
      "1 0 2 1\n",
      "2 0 1 0\n",
      "2 0 2 0\n",
      "2 0 2 1\n",
      "2 1 1 0\n",
      "2 1 2 0\n",
      "2 1 2 1\n",
      "1 0 1 0\n",
      "1 0 2 0\n",
      "1 0 2 1\n",
      "2 0 1 0\n",
      "2 0 2 0\n",
      "2 0 2 1\n",
      "2 1 1 0\n",
      "2 1 2 0\n",
      "2 1 2 1\n",
      "1 0 1 0\n",
      "1 0 2 0\n",
      "1 0 2 1\n",
      "2 0 1 0\n",
      "2 0 2 0\n",
      "2 0 2 1\n",
      "2 1 1 0\n",
      "2 1 2 0\n",
      "2 1 2 1\n",
      "1 0 1 0\n",
      "1 0 2 0\n",
      "1 0 2 1\n",
      "2 0 1 0\n",
      "2 0 2 0\n",
      "2 0 2 1\n",
      "2 1 1 0\n",
      "2 1 2 0\n",
      "2 1 2 1\n",
      "1 0 1 0\n",
      "1 0 2 0\n",
      "1 0 2 1\n",
      "2 0 1 0\n",
      "2 0 2 0\n",
      "2 0 2 1\n",
      "2 1 1 0\n",
      "2 1 2 0\n",
      "2 1 2 1\n",
      "1 0 1 0\n",
      "1 0 2 0\n",
      "1 0 2 1\n",
      "2 0 1 0\n",
      "2 0 2 0\n",
      "2 0 2 1\n",
      "2 1 1 0\n",
      "2 1 2 0\n",
      "2 1 2 1\n",
      "1 0 1 0\n",
      "1 0 2 0\n",
      "1 0 2 1\n",
      "2 0 1 0\n",
      "2 0 2 0\n",
      "2 0 2 1\n",
      "2 1 1 0\n",
      "2 1 2 0\n",
      "2 1 2 1\n",
      "1 0 1 0\n",
      "1 0 2 0\n",
      "1 0 2 1\n",
      "2 0 1 0\n",
      "2 0 2 0\n",
      "2 0 2 1\n",
      "2 1 1 0\n",
      "2 1 2 0\n",
      "2 1 2 1\n",
      "1 0 1 0\n",
      "1 0 2 0\n",
      "1 0 2 1\n",
      "2 0 1 0\n",
      "2 0 2 0\n",
      "2 0 2 1\n",
      "2 1 1 0\n",
      "2 1 2 0\n",
      "2 1 2 1\n",
      "1 0 1 0\n",
      "1 0 2 0\n",
      "1 0 2 1\n",
      "2 0 1 0\n",
      "2 0 2 0\n",
      "2 0 2 1\n",
      "2 1 1 0\n",
      "2 1 2 0\n",
      "2 1 2 1\n",
      "1 0 1 0\n",
      "1 0 2 0\n",
      "1 0 2 1\n",
      "2 0 1 0\n",
      "2 0 2 0\n",
      "2 0 2 1\n",
      "2 1 1 0\n",
      "2 1 2 0\n",
      "2 1 2 1\n",
      "1 0 1 0\n",
      "1 0 2 0\n",
      "1 0 2 1\n",
      "2 0 1 0\n",
      "2 0 2 0\n",
      "2 0 2 1\n",
      "2 1 1 0\n",
      "2 1 2 0\n",
      "2 1 2 1\n",
      "1 0 1 0\n",
      "1 0 2 0\n",
      "1 0 2 1\n",
      "2 0 1 0\n",
      "2 0 2 0\n",
      "2 0 2 1\n",
      "2 1 1 0\n",
      "2 1 2 0\n",
      "2 1 2 1\n",
      "1 0 1 0\n",
      "1 0 2 0\n",
      "1 0 2 1\n",
      "2 0 1 0\n",
      "2 0 2 0\n",
      "2 0 2 1\n",
      "2 1 1 0\n",
      "2 1 2 0\n",
      "2 1 2 1\n",
      "1 0 1 0\n",
      "1 0 2 0\n",
      "1 0 2 1\n",
      "2 0 1 0\n",
      "2 0 2 0\n",
      "2 0 2 1\n",
      "2 1 1 0\n",
      "2 1 2 0\n",
      "2 1 2 1\n",
      "1 0 1 0\n",
      "1 0 2 0\n",
      "1 0 2 1\n",
      "2 0 1 0\n",
      "2 0 2 0\n",
      "2 0 2 1\n",
      "2 1 1 0\n",
      "2 1 2 0\n",
      "2 1 2 1\n",
      "1 0 1 0\n",
      "1 0 2 0\n",
      "1 0 2 1\n",
      "2 0 1 0\n",
      "2 0 2 0\n",
      "2 0 2 1\n",
      "2 1 1 0\n",
      "2 1 2 0\n",
      "2 1 2 1\n",
      "1 0 1 0\n",
      "1 0 2 0\n",
      "1 0 2 1\n",
      "2 0 1 0\n",
      "2 0 2 0\n",
      "2 0 2 1\n",
      "2 1 1 0\n",
      "2 1 2 0\n",
      "2 1 2 1\n",
      "1 0 1 0\n",
      "1 0 2 0\n",
      "1 0 2 1\n",
      "2 0 1 0\n",
      "2 0 2 0\n",
      "2 0 2 1\n",
      "2 1 1 0\n",
      "2 1 2 0\n",
      "2 1 2 1\n",
      "1 0 1 0\n",
      "1 0 2 0\n",
      "1 0 2 1\n",
      "2 0 1 0\n",
      "2 0 2 0\n",
      "2 0 2 1\n",
      "2 1 1 0\n",
      "2 1 2 0\n",
      "2 1 2 1\n",
      "1 0 1 0\n",
      "1 0 2 0\n",
      "1 0 2 1\n",
      "2 0 1 0\n",
      "2 0 2 0\n",
      "2 0 2 1\n",
      "2 1 1 0\n",
      "2 1 2 0\n",
      "2 1 2 1\n",
      "1 0 1 0\n",
      "1 0 2 0\n",
      "1 0 2 1\n",
      "2 0 1 0\n",
      "2 0 2 0\n",
      "2 0 2 1\n",
      "2 1 1 0\n",
      "2 1 2 0\n",
      "2 1 2 1\n",
      "1 0 1 0\n",
      "1 0 2 0\n",
      "1 0 2 1\n",
      "2 0 1 0\n",
      "2 0 2 0\n",
      "2 0 2 1\n",
      "2 1 1 0\n",
      "2 1 2 0\n",
      "2 1 2 1\n",
      "1 0 1 0\n",
      "1 0 2 0\n",
      "1 0 2 1\n",
      "2 0 1 0\n",
      "2 0 2 0\n",
      "2 0 2 1\n",
      "2 1 1 0\n",
      "2 1 2 0\n",
      "2 1 2 1\n",
      "1 0 1 0\n",
      "1 0 2 0\n",
      "1 0 2 1\n",
      "2 0 1 0\n",
      "2 0 2 0\n",
      "2 0 2 1\n",
      "2 1 1 0\n",
      "2 1 2 0\n",
      "2 1 2 1\n",
      "1 0 1 0\n",
      "1 0 2 0\n",
      "1 0 2 1\n",
      "2 0 1 0\n",
      "2 0 2 0\n",
      "2 0 2 1\n",
      "2 1 1 0\n",
      "2 1 2 0\n",
      "2 1 2 1\n",
      "1 0 1 0\n",
      "1 0 2 0\n",
      "1 0 2 1\n",
      "2 0 1 0\n",
      "2 0 2 0\n",
      "2 0 2 1\n",
      "2 1 1 0\n",
      "2 1 2 0\n",
      "2 1 2 1\n",
      "1 0 1 0\n",
      "1 0 2 0\n",
      "1 0 2 1\n",
      "2 0 1 0\n",
      "2 0 2 0\n",
      "2 0 2 1\n",
      "2 1 1 0\n",
      "2 1 2 0\n",
      "2 1 2 1\n",
      "1 0 1 0\n",
      "1 0 2 0\n",
      "1 0 2 1\n",
      "2 0 1 0\n",
      "2 0 2 0\n",
      "2 0 2 1\n",
      "2 1 1 0\n",
      "2 1 2 0\n",
      "2 1 2 1\n",
      "1 0 1 0\n",
      "1 0 2 0\n",
      "1 0 2 1\n",
      "2 0 1 0\n",
      "2 0 2 0\n",
      "2 0 2 1\n",
      "2 1 1 0\n",
      "2 1 2 0\n",
      "2 1 2 1\n",
      "1 0 1 0\n",
      "1 0 2 0\n",
      "1 0 2 1\n",
      "2 0 1 0\n",
      "2 0 2 0\n",
      "2 0 2 1\n",
      "2 1 1 0\n",
      "2 1 2 0\n",
      "2 1 2 1\n",
      "1 0 1 0\n",
      "1 0 2 0\n",
      "1 0 2 1\n",
      "2 0 1 0\n",
      "2 0 2 0\n",
      "2 0 2 1\n",
      "2 1 1 0\n",
      "2 1 2 0\n",
      "2 1 2 1\n",
      "1 0 1 0\n",
      "1 0 2 0\n",
      "1 0 2 1\n",
      "2 0 1 0\n",
      "2 0 2 0\n",
      "2 0 2 1\n",
      "2 1 1 0\n",
      "2 1 2 0\n",
      "2 1 2 1\n",
      "1 0 1 0\n",
      "1 0 2 0\n",
      "1 0 2 1\n",
      "2 0 1 0\n",
      "2 0 2 0\n",
      "2 0 2 1\n",
      "2 1 1 0\n",
      "2 1 2 0\n",
      "2 1 2 1\n",
      "1 0 1 0\n",
      "1 0 2 0\n",
      "1 0 2 1\n",
      "2 0 1 0\n",
      "2 0 2 0\n",
      "2 0 2 1\n",
      "2 1 1 0\n",
      "2 1 2 0\n",
      "2 1 2 1\n",
      "1 0 1 0\n",
      "1 0 2 0\n",
      "1 0 2 1\n",
      "2 0 1 0\n",
      "2 0 2 0\n",
      "2 0 2 1\n",
      "2 1 1 0\n",
      "2 1 2 0\n",
      "2 1 2 1\n",
      "1 0 1 0\n",
      "1 0 2 0\n",
      "1 0 2 1\n",
      "2 0 1 0\n",
      "2 0 2 0\n",
      "2 0 2 1\n",
      "2 1 1 0\n",
      "2 1 2 0\n",
      "2 1 2 1\n",
      "1 0 1 0\n",
      "1 0 2 0\n",
      "1 0 2 1\n",
      "2 0 1 0\n",
      "2 0 2 0\n",
      "2 0 2 1\n",
      "2 1 1 0\n",
      "2 1 2 0\n",
      "2 1 2 1\n",
      "1 0 1 0\n",
      "1 0 2 0\n",
      "1 0 2 1\n",
      "2 0 1 0\n",
      "2 0 2 0\n",
      "2 0 2 1\n",
      "2 1 1 0\n",
      "2 1 2 0\n",
      "2 1 2 1\n",
      "1 0 1 0\n",
      "1 0 2 0\n",
      "1 0 2 1\n",
      "2 0 1 0\n",
      "2 0 2 0\n",
      "2 0 2 1\n",
      "2 1 1 0\n",
      "2 1 2 0\n",
      "2 1 2 1\n",
      "1 0 1 0\n",
      "1 0 2 0\n",
      "1 0 2 1\n",
      "2 0 1 0\n",
      "2 0 2 0\n",
      "2 0 2 1\n",
      "2 1 1 0\n",
      "2 1 2 0\n",
      "2 1 2 1\n",
      "1 0 1 0\n",
      "1 0 2 0\n",
      "1 0 2 1\n",
      "2 0 1 0\n",
      "2 0 2 0\n",
      "2 0 2 1\n",
      "2 1 1 0\n",
      "2 1 2 0\n",
      "2 1 2 1\n",
      "1 0 1 0\n",
      "1 0 2 0\n",
      "1 0 2 1\n",
      "2 0 1 0\n",
      "2 0 2 0\n",
      "2 0 2 1\n",
      "2 1 1 0\n",
      "2 1 2 0\n",
      "2 1 2 1\n",
      "1 0 1 0\n",
      "1 0 2 0\n",
      "1 0 2 1\n",
      "2 0 1 0\n",
      "2 0 2 0\n"
     ]
    },
    {
     "name": "stdout",
     "output_type": "stream",
     "text": [
      "2 0 2 1\n",
      "2 1 1 0\n",
      "2 1 2 0\n",
      "2 1 2 1\n",
      "1 0 1 0\n",
      "1 0 2 0\n",
      "1 0 2 1\n",
      "2 0 1 0\n",
      "2 0 2 0\n",
      "2 0 2 1\n",
      "2 1 1 0\n",
      "2 1 2 0\n",
      "2 1 2 1\n",
      "1 0 1 0\n",
      "1 0 2 0\n",
      "1 0 2 1\n",
      "2 0 1 0\n",
      "2 0 2 0\n",
      "2 0 2 1\n",
      "2 1 1 0\n",
      "2 1 2 0\n",
      "2 1 2 1\n",
      "1 0 1 0\n",
      "1 0 2 0\n",
      "1 0 2 1\n",
      "2 0 1 0\n",
      "2 0 2 0\n",
      "2 0 2 1\n",
      "2 1 1 0\n",
      "2 1 2 0\n",
      "2 1 2 1\n",
      "1 0 1 0\n",
      "1 0 2 0\n",
      "1 0 2 1\n",
      "2 0 1 0\n",
      "2 0 2 0\n",
      "2 0 2 1\n",
      "2 1 1 0\n",
      "2 1 2 0\n",
      "2 1 2 1\n",
      "1 0 1 0\n",
      "1 0 2 0\n",
      "1 0 2 1\n",
      "2 0 1 0\n",
      "2 0 2 0\n",
      "2 0 2 1\n",
      "2 1 1 0\n",
      "2 1 2 0\n",
      "2 1 2 1\n",
      "1 0 1 0\n",
      "1 0 2 0\n",
      "1 0 2 1\n",
      "2 0 1 0\n",
      "2 0 2 0\n",
      "2 0 2 1\n",
      "2 1 1 0\n",
      "2 1 2 0\n",
      "2 1 2 1\n",
      "1 0 1 0\n",
      "1 0 2 0\n",
      "1 0 2 1\n",
      "2 0 1 0\n",
      "2 0 2 0\n",
      "2 0 2 1\n",
      "2 1 1 0\n",
      "2 1 2 0\n",
      "2 1 2 1\n",
      "1 0 1 0\n",
      "1 0 2 0\n",
      "1 0 2 1\n",
      "2 0 1 0\n",
      "2 0 2 0\n",
      "2 0 2 1\n",
      "2 1 1 0\n",
      "2 1 2 0\n",
      "2 1 2 1\n",
      "1 0 1 0\n",
      "1 0 2 0\n",
      "1 0 2 1\n",
      "2 0 1 0\n",
      "2 0 2 0\n",
      "2 0 2 1\n",
      "2 1 1 0\n",
      "2 1 2 0\n",
      "2 1 2 1\n",
      "1 0 1 0\n",
      "1 0 2 0\n",
      "1 0 2 1\n",
      "2 0 1 0\n",
      "2 0 2 0\n",
      "2 0 2 1\n",
      "2 1 1 0\n",
      "2 1 2 0\n",
      "2 1 2 1\n",
      "1 0 1 0\n",
      "1 0 2 0\n",
      "1 0 2 1\n",
      "2 0 1 0\n",
      "2 0 2 0\n",
      "2 0 2 1\n",
      "2 1 1 0\n",
      "2 1 2 0\n",
      "2 1 2 1\n",
      "1 0 1 0\n",
      "1 0 2 0\n",
      "1 0 2 1\n",
      "2 0 1 0\n",
      "2 0 2 0\n",
      "2 0 2 1\n",
      "2 1 1 0\n",
      "2 1 2 0\n",
      "2 1 2 1\n",
      "1 0 1 0\n",
      "1 0 2 0\n",
      "1 0 2 1\n",
      "2 0 1 0\n",
      "2 0 2 0\n",
      "2 0 2 1\n",
      "2 1 1 0\n",
      "2 1 2 0\n",
      "2 1 2 1\n",
      "1 0 1 0\n",
      "1 0 2 0\n",
      "1 0 2 1\n",
      "2 0 1 0\n",
      "2 0 2 0\n",
      "2 0 2 1\n",
      "2 1 1 0\n",
      "2 1 2 0\n",
      "2 1 2 1\n",
      "1 0 1 0\n",
      "1 0 2 0\n",
      "1 0 2 1\n",
      "2 0 1 0\n",
      "2 0 2 0\n",
      "2 0 2 1\n",
      "2 1 1 0\n",
      "2 1 2 0\n",
      "2 1 2 1\n",
      "1 0 1 0\n",
      "1 0 2 0\n",
      "1 0 2 1\n",
      "2 0 1 0\n",
      "2 0 2 0\n",
      "2 0 2 1\n",
      "2 1 1 0\n",
      "2 1 2 0\n",
      "2 1 2 1\n",
      "1 0 1 0\n",
      "1 0 2 0\n",
      "1 0 2 1\n",
      "2 0 1 0\n",
      "2 0 2 0\n",
      "2 0 2 1\n",
      "2 1 1 0\n",
      "2 1 2 0\n",
      "2 1 2 1\n",
      "1 0 1 0\n",
      "1 0 2 0\n",
      "1 0 2 1\n",
      "2 0 1 0\n",
      "2 0 2 0\n",
      "2 0 2 1\n",
      "2 1 1 0\n",
      "2 1 2 0\n",
      "2 1 2 1\n"
     ]
    }
   ],
   "source": [
    "for x in range(16*81): \n",
    "    x1,x2,x3,x4,d,lx,ly,jx,jy = getIndices(x,0,3,r)\n",
    "    print(lx,ly,jx,jy)"
   ]
  },
  {
   "cell_type": "code",
   "execution_count": 146,
   "metadata": {},
   "outputs": [
    {
     "data": {
      "text/plain": [
       "4"
      ]
     },
     "execution_count": 146,
     "metadata": {},
     "output_type": "execute_result"
    }
   ],
   "source": [
    "Matrix(matrixList[2]).rank()"
   ]
  },
  {
   "cell_type": "code",
   "execution_count": 1,
   "metadata": {},
   "outputs": [
    {
     "ename": "NameError",
     "evalue": "name 'c_matrix' is not defined",
     "output_type": "error",
     "traceback": [
      "\u001b[0;31m---------------------------------------------------------------------------\u001b[0m",
      "\u001b[0;31mNameError\u001b[0m                                 Traceback (most recent call last)",
      "\u001b[0;32m<ipython-input-1-46322566990f>\u001b[0m in \u001b[0;36m<module>\u001b[0;34m()\u001b[0m\n\u001b[0;32m----> 1\u001b[0;31m \u001b[0mc_matrix\u001b[0m\u001b[0;34m[\u001b[0m\u001b[0mInteger\u001b[0m\u001b[0;34m(\u001b[0m\u001b[0;36m0\u001b[0m\u001b[0;34m)\u001b[0m\u001b[0;34m]\u001b[0m\u001b[0;34m\u001b[0m\u001b[0;34m\u001b[0m\u001b[0m\n\u001b[0m",
      "\u001b[0;31mNameError\u001b[0m: name 'c_matrix' is not defined"
     ]
    }
   ],
   "source": [
    "c_matrix[0]"
   ]
  },
  {
   "cell_type": "code",
   "execution_count": 34,
   "metadata": {},
   "outputs": [
    {
     "data": {
      "text/plain": [
       "[z^4 + 4*z^3 + z^2 + z + 1,\n",
       " z^4 + 6*z^3 + z^2 + 5*z + 6,\n",
       " 2*z^4 + 4*z^3 + 3*z^2 + 4*z + 6,\n",
       " 5*z^4 + 5*z^3 + 2*z^2 + z + 4,\n",
       " 5*z^4 + 5*z^3 + 5*z^2 + 5*z + 3]"
      ]
     },
     "execution_count": 34,
     "metadata": {},
     "output_type": "execute_result"
    }
   ],
   "source": [
    "sidonbasis"
   ]
  },
  {
   "cell_type": "code",
   "execution_count": 172,
   "metadata": {},
   "outputs": [
    {
     "data": {
      "text/plain": [
       "16"
      ]
     },
     "execution_count": 172,
     "metadata": {},
     "output_type": "execute_result"
    }
   ],
   "source": [
    "2^3*2"
   ]
  },
  {
   "cell_type": "code",
   "execution_count": 247,
   "metadata": {},
   "outputs": [
    {
     "ename": "KeyboardInterrupt",
     "evalue": "",
     "output_type": "error",
     "traceback": [
      "\u001b[0;31m---------------------------------------------------------------------------\u001b[0m",
      "\u001b[0;31mKeyboardInterrupt\u001b[0m                         Traceback (most recent call last)",
      "\u001b[0;32m<ipython-input-247-6ec5dd7a9eb3>\u001b[0m in \u001b[0;36m<module>\u001b[0;34m()\u001b[0m\n\u001b[1;32m      7\u001b[0m     \u001b[0;32mfor\u001b[0m \u001b[0mi\u001b[0m \u001b[0;32min\u001b[0m \u001b[0mrange\u001b[0m\u001b[0;34m(\u001b[0m\u001b[0mrk\u001b[0m\u001b[0;34m**\u001b[0m\u001b[0mInteger\u001b[0m\u001b[0;34m(\u001b[0m\u001b[0;36m2\u001b[0m\u001b[0;34m)\u001b[0m\u001b[0;34m)\u001b[0m\u001b[0;34m:\u001b[0m\u001b[0;34m\u001b[0m\u001b[0;34m\u001b[0m\u001b[0m\n\u001b[1;32m      8\u001b[0m         \u001b[0mtestVecList\u001b[0m \u001b[0;34m+=\u001b[0m \u001b[0mlist\u001b[0m\u001b[0;34m(\u001b[0m\u001b[0mtestMatrix\u001b[0m\u001b[0;34m[\u001b[0m\u001b[0mi\u001b[0m\u001b[0;34m]\u001b[0m\u001b[0;34m)\u001b[0m\u001b[0;34m\u001b[0m\u001b[0;34m\u001b[0m\u001b[0m\n\u001b[0;32m----> 9\u001b[0;31m     \u001b[0mtestVec\u001b[0m \u001b[0;34m=\u001b[0m \u001b[0mvector\u001b[0m\u001b[0;34m(\u001b[0m\u001b[0mtestVecList\u001b[0m\u001b[0;34m)\u001b[0m\u001b[0;34m\u001b[0m\u001b[0;34m\u001b[0m\u001b[0m\n\u001b[0m\u001b[1;32m     10\u001b[0m     \u001b[0mans\u001b[0m \u001b[0;34m=\u001b[0m \u001b[0meqn_mat\u001b[0m\u001b[0;34m*\u001b[0m\u001b[0mtestVec\u001b[0m\u001b[0;34m.\u001b[0m\u001b[0mcolumn\u001b[0m\u001b[0;34m(\u001b[0m\u001b[0;34m)\u001b[0m\u001b[0;34m\u001b[0m\u001b[0;34m\u001b[0m\u001b[0m\n\u001b[1;32m     11\u001b[0m \u001b[0;34m\u001b[0m\u001b[0m\n",
      "\u001b[0;32m/opt/sagemath-9.0/local/lib/python3.7/site-packages/sage/modules/free_module_element.pyx\u001b[0m in \u001b[0;36msage.modules.free_module_element.vector (build/cythonized/sage/modules/free_module_element.c:6016)\u001b[0;34m()\u001b[0m\n\u001b[1;32m    509\u001b[0m             \u001b[0msparse\u001b[0m \u001b[0;34m=\u001b[0m \u001b[0;32mFalse\u001b[0m\u001b[0;34m\u001b[0m\u001b[0;34m\u001b[0m\u001b[0m\n\u001b[1;32m    510\u001b[0m \u001b[0;34m\u001b[0m\u001b[0m\n\u001b[0;32m--> 511\u001b[0;31m     \u001b[0mv\u001b[0m\u001b[0;34m,\u001b[0m \u001b[0mR\u001b[0m \u001b[0;34m=\u001b[0m \u001b[0mprepare\u001b[0m\u001b[0;34m(\u001b[0m\u001b[0mv\u001b[0m\u001b[0;34m,\u001b[0m \u001b[0mR\u001b[0m\u001b[0;34m,\u001b[0m \u001b[0mdegree\u001b[0m\u001b[0;34m)\u001b[0m\u001b[0;34m\u001b[0m\u001b[0;34m\u001b[0m\u001b[0m\n\u001b[0m\u001b[1;32m    512\u001b[0m \u001b[0;34m\u001b[0m\u001b[0m\n\u001b[1;32m    513\u001b[0m     \u001b[0;32mif\u001b[0m \u001b[0msparse\u001b[0m\u001b[0;34m:\u001b[0m\u001b[0;34m\u001b[0m\u001b[0;34m\u001b[0m\u001b[0m\n",
      "\u001b[0;32m/opt/sagemath-9.0/local/lib/python3.7/site-packages/sage/modules/free_module_element.pyx\u001b[0m in \u001b[0;36msage.modules.free_module_element.prepare (build/cythonized/sage/modules/free_module_element.c:6566)\u001b[0;34m()\u001b[0m\n\u001b[1;32m    608\u001b[0m         \u001b[0;32mexcept\u001b[0m \u001b[0mTypeError\u001b[0m\u001b[0;34m:\u001b[0m\u001b[0;34m\u001b[0m\u001b[0;34m\u001b[0m\u001b[0m\n\u001b[1;32m    609\u001b[0m             \u001b[0;32mpass\u001b[0m\u001b[0;34m\u001b[0m\u001b[0;34m\u001b[0m\u001b[0m\n\u001b[0;32m--> 610\u001b[0;31m     \u001b[0mv\u001b[0m \u001b[0;34m=\u001b[0m \u001b[0mSequence\u001b[0m\u001b[0;34m(\u001b[0m\u001b[0mv\u001b[0m\u001b[0;34m,\u001b[0m \u001b[0muniverse\u001b[0m\u001b[0;34m=\u001b[0m\u001b[0mR\u001b[0m\u001b[0;34m,\u001b[0m \u001b[0muse_sage_types\u001b[0m\u001b[0;34m=\u001b[0m\u001b[0;32mTrue\u001b[0m\u001b[0;34m)\u001b[0m\u001b[0;34m\u001b[0m\u001b[0;34m\u001b[0m\u001b[0m\n\u001b[0m\u001b[1;32m    611\u001b[0m     \u001b[0mring\u001b[0m \u001b[0;34m=\u001b[0m \u001b[0mv\u001b[0m\u001b[0;34m.\u001b[0m\u001b[0muniverse\u001b[0m\u001b[0;34m(\u001b[0m\u001b[0;34m)\u001b[0m\u001b[0;34m\u001b[0m\u001b[0;34m\u001b[0m\u001b[0m\n\u001b[1;32m    612\u001b[0m     \u001b[0;32mif\u001b[0m \u001b[0;32mnot\u001b[0m \u001b[0mis_Ring\u001b[0m\u001b[0;34m(\u001b[0m\u001b[0mring\u001b[0m\u001b[0;34m)\u001b[0m\u001b[0;34m:\u001b[0m\u001b[0;34m\u001b[0m\u001b[0;34m\u001b[0m\u001b[0m\n",
      "\u001b[0;32m/opt/sagemath-9.0/local/lib/python3.7/site-packages/sage/structure/sequence.py\u001b[0m in \u001b[0;36mSequence\u001b[0;34m(x, universe, check, immutable, cr, cr_str, use_sage_types)\u001b[0m\n\u001b[1;32m    262\u001b[0m         \u001b[0;32mreturn\u001b[0m \u001b[0mPolynomialSequence\u001b[0m\u001b[0;34m(\u001b[0m\u001b[0mx\u001b[0m\u001b[0;34m,\u001b[0m \u001b[0muniverse\u001b[0m\u001b[0;34m,\u001b[0m \u001b[0mimmutable\u001b[0m\u001b[0;34m=\u001b[0m\u001b[0mimmutable\u001b[0m\u001b[0;34m,\u001b[0m \u001b[0mcr\u001b[0m\u001b[0;34m=\u001b[0m\u001b[0mcr\u001b[0m\u001b[0;34m,\u001b[0m \u001b[0mcr_str\u001b[0m\u001b[0;34m=\u001b[0m\u001b[0mcr_str\u001b[0m\u001b[0;34m)\u001b[0m\u001b[0;34m\u001b[0m\u001b[0;34m\u001b[0m\u001b[0m\n\u001b[1;32m    263\u001b[0m     \u001b[0;32melse\u001b[0m\u001b[0;34m:\u001b[0m\u001b[0;34m\u001b[0m\u001b[0;34m\u001b[0m\u001b[0m\n\u001b[0;32m--> 264\u001b[0;31m         \u001b[0;32mreturn\u001b[0m \u001b[0mSequence_generic\u001b[0m\u001b[0;34m(\u001b[0m\u001b[0mx\u001b[0m\u001b[0;34m,\u001b[0m \u001b[0muniverse\u001b[0m\u001b[0;34m,\u001b[0m \u001b[0mcheck\u001b[0m\u001b[0;34m,\u001b[0m \u001b[0mimmutable\u001b[0m\u001b[0;34m,\u001b[0m \u001b[0mcr\u001b[0m\u001b[0;34m,\u001b[0m \u001b[0mcr_str\u001b[0m\u001b[0;34m,\u001b[0m \u001b[0muse_sage_types\u001b[0m\u001b[0;34m)\u001b[0m\u001b[0;34m\u001b[0m\u001b[0;34m\u001b[0m\u001b[0m\n\u001b[0m\u001b[1;32m    265\u001b[0m \u001b[0;34m\u001b[0m\u001b[0m\n\u001b[1;32m    266\u001b[0m \u001b[0;34m\u001b[0m\u001b[0m\n",
      "\u001b[0;32m/opt/sagemath-9.0/local/lib/python3.7/site-packages/sage/structure/sequence.py\u001b[0m in \u001b[0;36m__init__\u001b[0;34m(self, x, universe, check, immutable, cr, cr_str, use_sage_types)\u001b[0m\n\u001b[1;32m    447\u001b[0m             \u001b[0;32mfor\u001b[0m \u001b[0mi\u001b[0m \u001b[0;32min\u001b[0m \u001b[0mrange\u001b[0m\u001b[0;34m(\u001b[0m\u001b[0mlen\u001b[0m\u001b[0;34m(\u001b[0m\u001b[0mx\u001b[0m\u001b[0;34m)\u001b[0m\u001b[0;34m)\u001b[0m\u001b[0;34m:\u001b[0m\u001b[0;34m\u001b[0m\u001b[0;34m\u001b[0m\u001b[0m\n\u001b[1;32m    448\u001b[0m                 \u001b[0;32mtry\u001b[0m\u001b[0;34m:\u001b[0m\u001b[0;34m\u001b[0m\u001b[0;34m\u001b[0m\u001b[0m\n\u001b[0;32m--> 449\u001b[0;31m                     \u001b[0mx\u001b[0m\u001b[0;34m[\u001b[0m\u001b[0mi\u001b[0m\u001b[0;34m]\u001b[0m \u001b[0;34m=\u001b[0m \u001b[0muniverse\u001b[0m\u001b[0;34m(\u001b[0m\u001b[0mx\u001b[0m\u001b[0;34m[\u001b[0m\u001b[0mi\u001b[0m\u001b[0;34m]\u001b[0m\u001b[0;34m)\u001b[0m\u001b[0;34m\u001b[0m\u001b[0;34m\u001b[0m\u001b[0m\n\u001b[0m\u001b[1;32m    450\u001b[0m                 \u001b[0;32mexcept\u001b[0m \u001b[0mTypeError\u001b[0m\u001b[0;34m:\u001b[0m\u001b[0;34m\u001b[0m\u001b[0;34m\u001b[0m\u001b[0m\n\u001b[1;32m    451\u001b[0m                     raise TypeError(\"unable to convert {} to an element of {}\"\n",
      "\u001b[0;32msrc/cysignals/signals.pyx\u001b[0m in \u001b[0;36mcysignals.signals.python_check_interrupt\u001b[0;34m()\u001b[0m\n",
      "\u001b[0;31mKeyboardInterrupt\u001b[0m: "
     ]
    }
   ],
   "source": [
    "zeroVector = vector([0 for i in range((k^3*(k-1)^2)/2)])\n",
    "ans = 1\n",
    "while ans!=zeroVector.column():\n",
    "    randomVec = vector([basefield.random_element() for i in range(rk^2) ])\n",
    "    testMatrix = randomVec.column()*randomVec.row()\n",
    "    testVecList = []\n",
    "    for i in range(rk^2): \n",
    "        testVecList += list(testMatrix[i])\n",
    "    testVec = vector(testVecList)\n",
    "    ans = eqn_mat*testVec.column()\n",
    "    "
   ]
  },
  {
   "cell_type": "code",
   "execution_count": 234,
   "metadata": {},
   "outputs": [
    {
     "data": {
      "text/plain": [
       "(0, 0, 0, 0, 0, 0)"
      ]
     },
     "execution_count": 234,
     "metadata": {},
     "output_type": "execute_result"
    }
   ],
   "source": []
  },
  {
   "cell_type": "code",
   "execution_count": 38,
   "metadata": {},
   "outputs": [
    {
     "data": {
      "text/plain": [
       "(z^4 + 4*z^3 + z^2 + z + 1, 0)"
      ]
     },
     "execution_count": 38,
     "metadata": {},
     "output_type": "execute_result"
    }
   ],
   "source": [
    "vector(sidonbasis[0])"
   ]
  },
  {
   "cell_type": "code",
   "execution_count": 13,
   "metadata": {},
   "outputs": [
    {
     "data": {
      "text/plain": [
       "[4, 1, 3, 5, 1]"
      ]
     },
     "execution_count": 13,
     "metadata": {},
     "output_type": "execute_result"
    }
   ],
   "source": [
    "list(vector(F.random_element()))"
   ]
  },
  {
   "cell_type": "code",
   "execution_count": 102,
   "metadata": {},
   "outputs": [
    {
     "data": {
      "text/plain": [
       "[6 0 1 5 2]\n",
       "[0 3 2 6 3]\n",
       "[1 2 2 3 6]\n",
       "[5 6 3 2 5]\n",
       "[2 3 6 5 3]"
      ]
     },
     "execution_count": 102,
     "metadata": {},
     "output_type": "execute_result"
    }
   ],
   "source": [
    "matrixList[10]"
   ]
  },
  {
   "cell_type": "code",
   "execution_count": 103,
   "metadata": {},
   "outputs": [
    {
     "data": {
      "text/plain": [
       "[6 0 1 5 2]\n",
       "[0 3 2 6 3]\n",
       "[1 2 2 3 6]\n",
       "[5 6 3 2 5]\n",
       "[2 3 6 5 3]"
      ]
     },
     "execution_count": 103,
     "metadata": {},
     "output_type": "execute_result"
    }
   ],
   "source": [
    "matrixList[4]"
   ]
  },
  {
   "cell_type": "code",
   "execution_count": null,
   "metadata": {},
   "outputs": [],
   "source": []
  },
  {
   "cell_type": "code",
   "execution_count": 1,
   "metadata": {},
   "outputs": [
    {
     "data": {
      "text/plain": [
       "'[1, 2]'"
      ]
     },
     "execution_count": 1,
     "metadata": {},
     "output_type": "execute_result"
    }
   ],
   "source": []
  },
  {
   "cell_type": "code",
   "execution_count": 5,
   "metadata": {},
   "outputs": [],
   "source": [
    "# implementation of Arri's algorithm to compute a Groebner basis\n",
    "# \"The F5 Criterion revised\"\n",
    "# paper submitted to JSC in 2009, accepted conditionally in 2010 subject to revision,\n",
    "# resubmitted 2010\n",
    "# http://arxiv.org/abs/1012.3664\n",
    "\n",
    "# usage: f5_arri(F) where F is a list of polynomials\n",
    "# result: groebner basis of F, with signatures\n",
    "# example:\n",
    "#   sage: R = PolynomialRing(GF(32003),x,5)\n",
    "#   sage: I = sage.rings.ideal.Cyclic(R,5).homogenize()\n",
    "#   sage: F = list(I.gens())\n",
    "#   sage: B = f5_arri(F)\n",
    "#   >> There were 0 reductions to zero.\n",
    "#   sage: len(B)\n",
    "#   >> 166\n",
    "#   sage: F.reverse()\n",
    "#   sage: B = f5_arri(F)\n",
    "#   >> There were 0 reductions to zero.\n",
    "#   sage: len(B)\n",
    "#   >> 39\n",
    "# as with all incremental algorithms, efficiency depends on the ordering of F\n",
    "\n",
    "verbose_zero_reduction = 0\n",
    "\n",
    "verbose_generation = 1\n",
    "verbose_reduction = 1\n",
    "\n",
    "verbose_rejection = 1\n",
    "\n",
    "# polysort\n",
    "# used to sort polynomials by increasing signature\n",
    "# inputs: (f,S(f)) and (g,S(g)), labeled polynomials\n",
    "# outputs: 1 if (f,S(f)) > (g,S(g))\n",
    "#        -1 if (f,S(f)) < (g,S(g))\n",
    "#         0 if (f,S(f)) = (g,S(g))\n",
    "def polysort(f,g):\n",
    "  fp,Sf = f\n",
    "  gp,Sg = g\n",
    "  sigord = sigsort(Sf,Sg)\n",
    "  if sigord != 0:\n",
    "    return sigord\n",
    "  else:\n",
    "    if fp.lm() > gp.lm():\n",
    "      return 1\n",
    "    else:\n",
    "      return -1\n",
    "  return 0\n",
    "\n",
    "# sigsort\n",
    "# used to sort signatures\n",
    "# inputs: S(f) and S(g), labeled polynomials\n",
    "# outputs: 1 if S(f) > S(g)\n",
    "#        -1 if S(f) < S(g)\n",
    "#         0 if S(f) = S(g)\n",
    "def sigsort(s1,s2):\n",
    "  t1,i1 = s1\n",
    "  t2,i2 = s2\n",
    "  if i1 < i2:\n",
    "    return 1\n",
    "  if i1 > i2:\n",
    "    return -1\n",
    "  if t1 > t2:\n",
    "    return 1\n",
    "  if t1 < t2:\n",
    "    return -1\n",
    "  return 0\n",
    "\n",
    "# is_primitive\n",
    "# tests whether a polynomial is primitive\n",
    "# inputs: polynomial f, S(f), basis G\n",
    "# outputs: whether uf*f is primitive\n",
    "def is_primitive(f, Sf, G):\n",
    "  R = f.parent()\n",
    "  for (h,Sh) in G:\n",
    "    if h != f and Sh[1] == Sf[1] and R.monomial_divides(Sh[0],Sf[0]):\n",
    "      t = R.monomial_quotient(Sf[0],Sh[0])\n",
    "      if t*h.lm() == f.lm():\n",
    "        return False\n",
    "  return True\n",
    "\n",
    "# prune_rewritables\n",
    "# removes rewritable elements from B\n",
    "# this is NOT the same as Faugere's rewritable algorithm;\n",
    "# see the paper for details\n",
    "# inputs: polynomial ring R, wokring basis G, S-polynomials B\n",
    "# outputs: (probably) smaller B\n",
    "def prune_rewritables(R,G,B):\n",
    "  Bnew = set()\n",
    "  for (f,Sf) in B:\n",
    "    rewritable = False\n",
    "    t = f.lm()\n",
    "    for (g,Sg) in B:\n",
    "      if Sg[1] == Sf[1] and R.monomial_divides(Sg[0],Sf[0]):\n",
    "        u = R.monomial_quotient(Sf[0],Sg[0])\n",
    "        if u*g.lm() < t:\n",
    "          rewritable = True\n",
    "          continue\n",
    "    if not rewritable:\n",
    "      for (g,Sg) in G:\n",
    "        if Sg[1] == Sf[1] and R.monomial_divides(Sg[0],Sf[0]):\n",
    "          u = R.monomial_quotient(Sf[0],Sg[0])\n",
    "          if u*g.lm() < t:\n",
    "            rewritable = True\n",
    "            continue\n",
    "      if not rewritable:\n",
    "        Bnew.add((f,Sf))\n",
    "  return Bnew\n",
    "\n",
    "# is_normal\n",
    "# completes test whether a critical pair is a normal pair in Arri's definition\n",
    "# (beyond inequality of signature)\n",
    "# inputs: polynomials f and g, S(f), S(g) monomials uf and ug, basis G\n",
    "# outputs: whether (f,g) is a normal pair\n",
    "def is_normal(f, Sf, uf, G, B):\n",
    "  R = f.parent()\n",
    "  # Faugere's normal?\n",
    "  if not any(Sh[1]>Sf[1] and R.monomial_divides(h.lm(),uf*Sf[0]) for (h,Sh) in G):\n",
    "    # primitive?\n",
    "    return is_primitive(f,Sf,G) and is_primitive(f,Sf,B)\n",
    "    #return True\n",
    "  # not even Faugere's normal, let alone primitive\n",
    "  return False\n",
    "\n",
    "# Sreduce\n",
    "# inputs: polynomial f, S(f), basis G, rewritings RW\n",
    "# outputs: S-irreducible form of f\n",
    "def Sreduce(f,Sf,G,B):\n",
    "  R = f.parent()\n",
    "  reduced = True\n",
    "  while reduced:\n",
    "    reduced = False\n",
    "    for (g,Sg) in G:\n",
    "      if R.monomial_divides(g.lm(),f.lm()):\n",
    "        t = R.monomial_quotient(f.lm(),g.lm())\n",
    "        if sigsort(Sf,(t*Sg[0],Sg[1])) == 1:\n",
    "          if is_normal(g, Sg, t, G, B) and is_primitive(g, Sg, G) and is_primitive(g, Sg, B):\n",
    "            reduced = True\n",
    "            f -= t*g\n",
    "            if f == 0:\n",
    "              return f\n",
    "            f *= f.lc()**(-1)\n",
    "          else:\n",
    "            verbose(\"reduction of \"+str(Sf)+\" by \"+str(Sg)+\" rejected: not normal\",level=verbose_rejection)\n",
    "        else:\n",
    "          verbose(\"reduction of \"+str(Sf)+\" by \"+str(Sg)+\" rejected: too large\",level=verbose_rejection)\n",
    "  return f\n",
    "\n",
    "# UpdatePairs\n",
    "# inputs: basis G, known new polynomials B, polynomial f, S(f)\n",
    "# outputs: new S-polynomials\n",
    "def UpdatePairs(G,B,f,Sf):\n",
    "  Bnew = set()\n",
    "  if is_primitive(f,Sf,G) and is_primitive(f,Sf,B):\n",
    "    R = f.parent()\n",
    "    for (g,Sg) in G:\n",
    "      tf = f.lm()\n",
    "      tg = g.lm()\n",
    "      t = tf.lcm(tg)\n",
    "      uf = R.monomial_quotient(t,tf)\n",
    "      ug = R.monomial_quotient(t,tg)\n",
    "      # normal pair?\n",
    "      siguf = (uf*Sf[0],Sf[1])\n",
    "      sigug = (ug*Sg[0],Sg[1])\n",
    "      if siguf != sigug:\n",
    "        if is_normal(f,Sf,uf,G,B) and is_normal(g,Sg,ug,G,B):\n",
    "          if sigsort(siguf,sigug) == 1:\n",
    "            sig = siguf\n",
    "          else:\n",
    "            sig = sigug\n",
    "          verbose(\"generating \"+str(sig)+\" from \"+str(Sf)+\" and \"+str(Sg),level=verbose_generation)\n",
    "          S = uf*f - ug*g\n",
    "          S *= S.lc()**(-1)\n",
    "          Bnew.add((S,sig))\n",
    "        else:\n",
    "          verbose(\"pair \"+str(Sf)+\", \"+str(Sg)+\" rejected: not normal\",level=verbose_rejection)\n",
    "      else:\n",
    "        verbose(\"pair \"+str(Sf)+\", \"+str(Sg)+\" rejected: equal signature\",level=verbose_rejection)\n",
    "  return Bnew\n",
    "  \n",
    "# prune_not_normal\n",
    "# prunes polynomials of signature that are not normal\n",
    "# inputs list of polynomials B, list of polynomials G\n",
    "# outputs: pruned version of B\n",
    "def prune_not_normal(B,G):\n",
    "  Bnew = set()\n",
    "  while len(B) != 0:\n",
    "    f,Sf = B.pop()\n",
    "    if is_normal(f,Sf,Integer(1),G,Bnew.union(B)):\n",
    "      Bnew.add((f,Sf))\n",
    "  return list(Bnew)\n",
    "\n",
    "# f5_arri\n",
    "# compute groebner basis\n",
    "# inputs: list of polynomials F\n",
    "# outputs: groebner basis (we hope) of ideal of F\n",
    "def f5_arri(F):\n",
    "  L = set()\n",
    "  G = set()\n",
    "  R = F[0].parent()\n",
    "  B = [(F[i]*F[i].lc()**(-1),(R(1),i)) for i in range(len(F))]\n",
    "  while len(B) != 0:\n",
    "    Bnew = set()\n",
    "    for (f,Sf) in B:\n",
    "      if not any(Sg[1]==Sf[1] and R.monomial_divides(Sg[0],Sf[0]) for Sg in L):\n",
    "        Bnew.add((f,Sf))\n",
    "    B = Bnew\n",
    "    #i = len(B)\n",
    "    B = prune_rewritables(R,G,B)\n",
    "    #if len(B) < i:\n",
    "    #  print \"pruned\", i - len(B)\n",
    "    B = prune_not_normal(B,G)\n",
    "    B.sort(key = polysort)\n",
    "    f,Sf = B.pop(0)\n",
    "    while len(B) != 0 and B[0][1] == Sf:\n",
    "      B.pop(0)\n",
    "    f = Sreduce(f,Sf,G,B)\n",
    "    verbose(\"reduced \"+str(Sf)+\" to \"+str(f.lm()),level=verbose_reduction)\n",
    "    if f != 0:\n",
    "      if is_primitive(f,Sf,G) and is_primitive(f,Sf,B):\n",
    "        B.extend(UpdatePairs(G,B,f,Sf))\n",
    "      G.add((f,Sf))\n",
    "    else:\n",
    "      L.add(Sf)\n",
    "      verbose(\"zero reduction: \"+str(Sf),level=verbose_zero_reduction)\n",
    "  print(\"There were\", len(L), \"reductions to zero.\")\n",
    "  return G\n"
   ]
  },
  {
   "cell_type": "code",
   "execution_count": null,
   "metadata": {},
   "outputs": [],
   "source": []
  },
  {
   "cell_type": "code",
   "execution_count": 1,
   "metadata": {},
   "outputs": [
    {
     "ename": "ModuleNotFoundError",
     "evalue": "No module named 'fgb_sage'",
     "output_type": "error",
     "traceback": [
      "\u001b[0;31m---------------------------------------------------------------------------\u001b[0m",
      "\u001b[0;31mModuleNotFoundError\u001b[0m                       Traceback (most recent call last)",
      "\u001b[0;32m<ipython-input-1-a31aa85d45a8>\u001b[0m in \u001b[0;36m<module>\u001b[0;34m()\u001b[0m\n\u001b[0;32m----> 1\u001b[0;31m \u001b[0mload\u001b[0m\u001b[0;34m(\u001b[0m\u001b[0;34m'minrankminor.sage'\u001b[0m\u001b[0;34m)\u001b[0m\u001b[0;34m\u001b[0m\u001b[0;34m\u001b[0m\u001b[0m\n\u001b[0m",
      "\u001b[0;32m/opt/sagemath-9.0/local/lib/python3.7/site-packages/sage/misc/persist.pyx\u001b[0m in \u001b[0;36msage.misc.persist.load (build/cythonized/sage/misc/persist.c:2538)\u001b[0;34m()\u001b[0m\n\u001b[1;32m    142\u001b[0m \u001b[0;34m\u001b[0m\u001b[0m\n\u001b[1;32m    143\u001b[0m     \u001b[0;32mif\u001b[0m \u001b[0msage\u001b[0m\u001b[0;34m.\u001b[0m\u001b[0mrepl\u001b[0m\u001b[0;34m.\u001b[0m\u001b[0mload\u001b[0m\u001b[0;34m.\u001b[0m\u001b[0mis_loadable_filename\u001b[0m\u001b[0;34m(\u001b[0m\u001b[0mfilename\u001b[0m\u001b[0;34m)\u001b[0m\u001b[0;34m:\u001b[0m\u001b[0;34m\u001b[0m\u001b[0;34m\u001b[0m\u001b[0m\n\u001b[0;32m--> 144\u001b[0;31m         \u001b[0msage\u001b[0m\u001b[0;34m.\u001b[0m\u001b[0mrepl\u001b[0m\u001b[0;34m.\u001b[0m\u001b[0mload\u001b[0m\u001b[0;34m.\u001b[0m\u001b[0mload\u001b[0m\u001b[0;34m(\u001b[0m\u001b[0mfilename\u001b[0m\u001b[0;34m,\u001b[0m \u001b[0mglobals\u001b[0m\u001b[0;34m(\u001b[0m\u001b[0;34m)\u001b[0m\u001b[0;34m)\u001b[0m\u001b[0;34m\u001b[0m\u001b[0;34m\u001b[0m\u001b[0m\n\u001b[0m\u001b[1;32m    145\u001b[0m         \u001b[0;32mreturn\u001b[0m\u001b[0;34m\u001b[0m\u001b[0;34m\u001b[0m\u001b[0m\n\u001b[1;32m    146\u001b[0m \u001b[0;34m\u001b[0m\u001b[0m\n",
      "\u001b[0;32m/opt/sagemath-9.0/local/lib/python3.7/site-packages/sage/repl/load.py\u001b[0m in \u001b[0;36mload\u001b[0;34m(filename, globals, attach)\u001b[0m\n\u001b[1;32m    270\u001b[0m                 \u001b[0madd_attached_file\u001b[0m\u001b[0;34m(\u001b[0m\u001b[0mfpath\u001b[0m\u001b[0;34m)\u001b[0m\u001b[0;34m\u001b[0m\u001b[0;34m\u001b[0m\u001b[0m\n\u001b[1;32m    271\u001b[0m             \u001b[0;32mwith\u001b[0m \u001b[0mopen\u001b[0m\u001b[0;34m(\u001b[0m\u001b[0mfpath\u001b[0m\u001b[0;34m)\u001b[0m \u001b[0;32mas\u001b[0m \u001b[0mf\u001b[0m\u001b[0;34m:\u001b[0m\u001b[0;34m\u001b[0m\u001b[0;34m\u001b[0m\u001b[0m\n\u001b[0;32m--> 272\u001b[0;31m                 \u001b[0mexec\u001b[0m\u001b[0;34m(\u001b[0m\u001b[0mpreparse_file\u001b[0m\u001b[0;34m(\u001b[0m\u001b[0mf\u001b[0m\u001b[0;34m.\u001b[0m\u001b[0mread\u001b[0m\u001b[0;34m(\u001b[0m\u001b[0;34m)\u001b[0m\u001b[0;34m)\u001b[0m \u001b[0;34m+\u001b[0m \u001b[0;34m\"\\n\"\u001b[0m\u001b[0;34m,\u001b[0m \u001b[0mglobals\u001b[0m\u001b[0;34m)\u001b[0m\u001b[0;34m\u001b[0m\u001b[0;34m\u001b[0m\u001b[0m\n\u001b[0m\u001b[1;32m    273\u001b[0m     \u001b[0;32melif\u001b[0m \u001b[0mext\u001b[0m \u001b[0;34m==\u001b[0m \u001b[0;34m'.spyx'\u001b[0m \u001b[0;32mor\u001b[0m \u001b[0mext\u001b[0m \u001b[0;34m==\u001b[0m \u001b[0;34m'.pyx'\u001b[0m\u001b[0;34m:\u001b[0m\u001b[0;34m\u001b[0m\u001b[0;34m\u001b[0m\u001b[0m\n\u001b[1;32m    274\u001b[0m         \u001b[0;32mif\u001b[0m \u001b[0mattach\u001b[0m\u001b[0;34m:\u001b[0m\u001b[0;34m\u001b[0m\u001b[0;34m\u001b[0m\u001b[0m\n",
      "\u001b[0;32m<string>\u001b[0m in \u001b[0;36m<module>\u001b[0;34m()\u001b[0m\n",
      "\u001b[0;31mModuleNotFoundError\u001b[0m: No module named 'fgb_sage'"
     ]
    }
   ],
   "source": [
    "load('minrankminor.sage')"
   ]
  },
  {
   "cell_type": "code",
   "execution_count": 2,
   "metadata": {},
   "outputs": [],
   "source": [
    "\n",
    "def minorAttack(q,k):\n",
    "    r = 2\n",
    "    basefield = GF(q)\n",
    "    rk = r*k\n",
    "    y, F, F_r, d, c = ConstructSidon2k(q, k)\n",
    "    matrixList, sidonbasis, mult_table, F_r_basis , origbasis = publicKey(y,q,F,F_r)\n",
    "    basefield = GF(q)\n",
    "\n",
    "    ##Construct a new random basis for F_r \n",
    "    F_r_basis_new = Matrix(basefield, rk, lambda i,j: basefield.random_element())\n",
    "    while F_r_basis_new.is_invertible() == False: \n",
    "         F_r_basis_new = Matrix(basefield, rk, lambda i,j: basefield.random_element())\n",
    "    cob_matrix = F_r_basis_new.inverse()\n",
    "    basiselements = []\n",
    "    ##represent the multiplication table of the new basis over that basis\n",
    "    for i in range(rk): \n",
    "        basiselements += [convertFromLong(F_r_basis_new[i], F, F_r)]\n",
    "    c_matrix = [[0 for i in range(rk)] for j in range(rk)]\n",
    "    new_mult_table = [[i*j for i in basiselements] for j in basiselements]\n",
    "    for i in range(rk): \n",
    "        for j in range(rk): \n",
    "            element = convertToLong(new_mult_table[i][j])\n",
    "            c_matrix[i][j] = element*cob_matrix\n",
    "    ##Construct the coefficient matrix for the system. Not efficient but works for small k \n",
    "    eqn_mat = Matrix(basefield, (k^3*(k-1)^2)/2, rk^4, lambda i,j: getLinearizedCoeff(i,j, k, r, matrixList, c_matrix))\n",
    "    R = PolynomialRing(GF(q),'x', 4*k*k, order = \"degrevlex\")\n",
    "    indeterminates = R.gens()\n",
    "    R.inject_variables()\n",
    "    pivot_cols = eqn_mat.transpose().pivot_rows()\n",
    "    eqn_mat = eqn_mat.matrix_from_rows(eqn_mat.pivot_rows())\n",
    "    indices = []\n",
    "    for i in range(eqn_mat.ncols()):\n",
    "        if eqn_mat.transpose()[i] == zero_vector(eqn_mat.nrows()):\n",
    "            continue\n",
    "        indices += [i]\n",
    "    eqn_mat = eqn_mat.transpose().matrix_from_rows(indices).transpose()\n",
    "    monomial_order = []\n",
    "    for i in indices:\n",
    "        t1,a1,t2,a2,d,lx,ly,jx,jy =  getIndices(0,i,k,r)\n",
    "        monomial_order += [indeterminates[t1*r*k + a1]*indeterminates[t2*r*k + a2]]\n",
    "    ideallist = list(eqn_mat*vector(monomial_order).column())\n",
    "    ideallist = [R(i) for i in ideallist]\n",
    "    I = ideal(ideallist)\n",
    "    return I"
   ]
  },
  {
   "cell_type": "code",
   "execution_count": 14,
   "metadata": {},
   "outputs": [
    {
     "name": "stdout",
     "output_type": "stream",
     "text": [
      "[0 1 2 1]\n",
      "[0 0 2 0]\n",
      "[0 0 2 1]\n",
      "[1 1 0 0]\n",
      "Defining x0, x1, x2, x3, x4, x5, x6, x7, x8, x9, x10, x11, x12, x13, x14, x15\n"
     ]
    }
   ],
   "source": [
    "I = minorAttack(3,2)"
   ]
  },
  {
   "cell_type": "code",
   "execution_count": 120,
   "metadata": {},
   "outputs": [],
   "source": [
    "I2 = I.subs(x1 = 0, x2 = 0, x4 = 1, x5 = 0, x6 = 0, x7 = 2,x8 = 2,x9 = 0, x10 = 0, x12 = 1, x13 = 0, x14 = 0)"
   ]
  },
  {
   "cell_type": "code",
   "execution_count": 122,
   "metadata": {},
   "outputs": [],
   "source": [
    "R2 = PolynomialRing(GF(3), 'x11,x15')"
   ]
  },
  {
   "cell_type": "code",
   "execution_count": 81,
   "metadata": {},
   "outputs": [
    {
     "data": {
      "text/plain": [
       "Ideal (-x7^2 + x7*x11 + x7*x15 + x15^2 + x8 + 1, -x7^2 - x7*x8 + x7*x11 + x7*x15 + x15^2 + x7 + x8 - x11 + 1, x7*x8 - x7 + x11, x7^2 - x7*x11 - x7*x15 - x15^2 + x8 + 1) of Multivariate Polynomial Ring in x0, x1, x2, x3, x4, x5, x6, x7, x8, x9, x10, x11, x12, x13, x14, x15 over Finite Field of size 3"
      ]
     },
     "execution_count": 81,
     "metadata": {},
     "output_type": "execute_result"
    }
   ],
   "source": [
    "I2"
   ]
  },
  {
   "cell_type": "code",
   "execution_count": 123,
   "metadata": {},
   "outputs": [
    {
     "data": {
      "text/plain": [
       "14"
      ]
     },
     "execution_count": 123,
     "metadata": {},
     "output_type": "execute_result"
    }
   ],
   "source": [
    "I2.dimension()"
   ]
  },
  {
   "cell_type": "code",
   "execution_count": 124,
   "metadata": {},
   "outputs": [],
   "source": [
    "system2 = [R2(x) for x in I2.gens()]"
   ]
  },
  {
   "cell_type": "code",
   "execution_count": 125,
   "metadata": {},
   "outputs": [],
   "source": [
    "I3 = ideal(system2)"
   ]
  },
  {
   "cell_type": "code",
   "execution_count": 126,
   "metadata": {},
   "outputs": [
    {
     "data": {
      "text/plain": [
       "0"
      ]
     },
     "execution_count": 126,
     "metadata": {},
     "output_type": "execute_result"
    }
   ],
   "source": [
    "I3.dimension()"
   ]
  },
  {
   "cell_type": "code",
   "execution_count": 118,
   "metadata": {},
   "outputs": [],
   "source": [
    "I3 = I3.subs(x7 = 2)"
   ]
  },
  {
   "cell_type": "code",
   "execution_count": 106,
   "metadata": {},
   "outputs": [
    {
     "data": {
      "text/plain": [
       "Ideal (-x7^2 + x7*x11 + x7*x15 + x15^2, -x7^2 + x7*x11 + x7*x15 + x15^2 - x7 - x11, x7 + x11, x7^2 - x7*x11 - x7*x15 - x15^2) of Multivariate Polynomial Ring in x7, x8, x11, x15 over Finite Field of size 3"
      ]
     },
     "execution_count": 106,
     "metadata": {},
     "output_type": "execute_result"
    }
   ],
   "source": [
    "I3"
   ]
  },
  {
   "cell_type": "code",
   "execution_count": 92,
   "metadata": {},
   "outputs": [
    {
     "ename": "AttributeError",
     "evalue": "'MPolynomialIdeal' object has no attribute 'varieties'",
     "output_type": "error",
     "traceback": [
      "\u001b[0;31m---------------------------------------------------------------------------\u001b[0m",
      "\u001b[0;31mAttributeError\u001b[0m                            Traceback (most recent call last)",
      "\u001b[0;32m<ipython-input-92-164cfc04cca4>\u001b[0m in \u001b[0;36m<module>\u001b[0;34m()\u001b[0m\n\u001b[0;32m----> 1\u001b[0;31m \u001b[0mI3\u001b[0m\u001b[0;34m.\u001b[0m\u001b[0mvarieties\u001b[0m\u001b[0;34m(\u001b[0m\u001b[0;34m)\u001b[0m\u001b[0;34m\u001b[0m\u001b[0;34m\u001b[0m\u001b[0m\n\u001b[0m",
      "\u001b[0;32m/opt/sagemath-9.0/local/lib/python3.7/site-packages/sage/structure/element.pyx\u001b[0m in \u001b[0;36msage.structure.element.Element.__getattr__ (build/cythonized/sage/structure/element.c:4609)\u001b[0;34m()\u001b[0m\n\u001b[1;32m    485\u001b[0m             \u001b[0mAttributeError\u001b[0m\u001b[0;34m:\u001b[0m \u001b[0;34m'LeftZeroSemigroup_with_category.element_class'\u001b[0m \u001b[0mobject\u001b[0m \u001b[0mhas\u001b[0m \u001b[0mno\u001b[0m \u001b[0mattribute\u001b[0m \u001b[0;34m'blah_blah'\u001b[0m\u001b[0;34m\u001b[0m\u001b[0;34m\u001b[0m\u001b[0m\n\u001b[1;32m    486\u001b[0m         \"\"\"\n\u001b[0;32m--> 487\u001b[0;31m         \u001b[0;32mreturn\u001b[0m \u001b[0mself\u001b[0m\u001b[0;34m.\u001b[0m\u001b[0mgetattr_from_category\u001b[0m\u001b[0;34m(\u001b[0m\u001b[0mname\u001b[0m\u001b[0;34m)\u001b[0m\u001b[0;34m\u001b[0m\u001b[0;34m\u001b[0m\u001b[0m\n\u001b[0m\u001b[1;32m    488\u001b[0m \u001b[0;34m\u001b[0m\u001b[0m\n\u001b[1;32m    489\u001b[0m     \u001b[0mcdef\u001b[0m \u001b[0mgetattr_from_category\u001b[0m\u001b[0;34m(\u001b[0m\u001b[0mself\u001b[0m\u001b[0;34m,\u001b[0m \u001b[0mname\u001b[0m\u001b[0;34m)\u001b[0m\u001b[0;34m:\u001b[0m\u001b[0;34m\u001b[0m\u001b[0;34m\u001b[0m\u001b[0m\n",
      "\u001b[0;32m/opt/sagemath-9.0/local/lib/python3.7/site-packages/sage/structure/element.pyx\u001b[0m in \u001b[0;36msage.structure.element.Element.getattr_from_category (build/cythonized/sage/structure/element.c:4718)\u001b[0;34m()\u001b[0m\n\u001b[1;32m    498\u001b[0m         \u001b[0;32melse\u001b[0m\u001b[0;34m:\u001b[0m\u001b[0;34m\u001b[0m\u001b[0;34m\u001b[0m\u001b[0m\n\u001b[1;32m    499\u001b[0m             \u001b[0mcls\u001b[0m \u001b[0;34m=\u001b[0m \u001b[0mP\u001b[0m\u001b[0;34m.\u001b[0m\u001b[0m_abstract_element_class\u001b[0m\u001b[0;34m\u001b[0m\u001b[0;34m\u001b[0m\u001b[0m\n\u001b[0;32m--> 500\u001b[0;31m         \u001b[0;32mreturn\u001b[0m \u001b[0mgetattr_from_other_class\u001b[0m\u001b[0;34m(\u001b[0m\u001b[0mself\u001b[0m\u001b[0;34m,\u001b[0m \u001b[0mcls\u001b[0m\u001b[0;34m,\u001b[0m \u001b[0mname\u001b[0m\u001b[0;34m)\u001b[0m\u001b[0;34m\u001b[0m\u001b[0;34m\u001b[0m\u001b[0m\n\u001b[0m\u001b[1;32m    501\u001b[0m \u001b[0;34m\u001b[0m\u001b[0m\n\u001b[1;32m    502\u001b[0m     \u001b[0;32mdef\u001b[0m \u001b[0m__dir__\u001b[0m\u001b[0;34m(\u001b[0m\u001b[0mself\u001b[0m\u001b[0;34m)\u001b[0m\u001b[0;34m:\u001b[0m\u001b[0;34m\u001b[0m\u001b[0;34m\u001b[0m\u001b[0m\n",
      "\u001b[0;32m/opt/sagemath-9.0/local/lib/python3.7/site-packages/sage/cpython/getattr.pyx\u001b[0m in \u001b[0;36msage.cpython.getattr.getattr_from_other_class (build/cythonized/sage/cpython/getattr.c:2614)\u001b[0;34m()\u001b[0m\n\u001b[1;32m    392\u001b[0m         \u001b[0mdummy_error_message\u001b[0m\u001b[0;34m.\u001b[0m\u001b[0mcls\u001b[0m \u001b[0;34m=\u001b[0m \u001b[0mtype\u001b[0m\u001b[0;34m(\u001b[0m\u001b[0mself\u001b[0m\u001b[0;34m)\u001b[0m\u001b[0;34m\u001b[0m\u001b[0;34m\u001b[0m\u001b[0m\n\u001b[1;32m    393\u001b[0m         \u001b[0mdummy_error_message\u001b[0m\u001b[0;34m.\u001b[0m\u001b[0mname\u001b[0m \u001b[0;34m=\u001b[0m \u001b[0mname\u001b[0m\u001b[0;34m\u001b[0m\u001b[0;34m\u001b[0m\u001b[0m\n\u001b[0;32m--> 394\u001b[0;31m         \u001b[0;32mraise\u001b[0m \u001b[0mAttributeError\u001b[0m\u001b[0;34m(\u001b[0m\u001b[0mdummy_error_message\u001b[0m\u001b[0;34m)\u001b[0m\u001b[0;34m\u001b[0m\u001b[0;34m\u001b[0m\u001b[0m\n\u001b[0m\u001b[1;32m    395\u001b[0m     \u001b[0mattribute\u001b[0m \u001b[0;34m=\u001b[0m \u001b[0;34m<\u001b[0m\u001b[0mobject\u001b[0m\u001b[0;34m>\u001b[0m\u001b[0mattr\u001b[0m\u001b[0;34m\u001b[0m\u001b[0;34m\u001b[0m\u001b[0m\n\u001b[1;32m    396\u001b[0m     \u001b[0;31m# Check for a descriptor (__get__ in Python)\u001b[0m\u001b[0;34m\u001b[0m\u001b[0;34m\u001b[0m\u001b[0;34m\u001b[0m\u001b[0m\n",
      "\u001b[0;31mAttributeError\u001b[0m: 'MPolynomialIdeal' object has no attribute 'varieties'"
     ]
    }
   ],
   "source": [
    "I3.varieties()"
   ]
  },
  {
   "cell_type": "code",
   "execution_count": 127,
   "metadata": {},
   "outputs": [
    {
     "data": {
      "text/plain": [
       "[{x15: 2, x11: 1}]"
      ]
     },
     "execution_count": 127,
     "metadata": {},
     "output_type": "execute_result"
    }
   ],
   "source": [
    "I3.variety()"
   ]
  },
  {
   "cell_type": "code",
   "execution_count": null,
   "metadata": {},
   "outputs": [],
   "source": []
  }
 ],
 "metadata": {
  "kernelspec": {
   "display_name": "SageMath 9.0",
   "language": "sage",
   "name": "sagemath"
  },
  "language_info": {
   "codemirror_mode": {
    "name": "ipython",
    "version": 3
   },
   "file_extension": ".py",
   "mimetype": "text/x-python",
   "name": "python",
   "nbconvert_exporter": "python",
   "pygments_lexer": "ipython3",
   "version": "3.7.3"
  }
 },
 "nbformat": 4,
 "nbformat_minor": 2
}
