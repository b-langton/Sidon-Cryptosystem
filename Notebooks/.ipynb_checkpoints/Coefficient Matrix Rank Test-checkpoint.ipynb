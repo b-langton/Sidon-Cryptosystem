{
 "cells": [
  {
   "cell_type": "code",
   "execution_count": 8,
   "metadata": {},
   "outputs": [],
   "source": [
    "load('../Sage Code/sidon_cryptosystem.sage')"
   ]
  },
  {
   "cell_type": "code",
   "execution_count": 18,
   "metadata": {},
   "outputs": [],
   "source": [
    "def testInvertibility(q,k):\n",
    "    #Tests for the number of invertible coefficient matrices in a randomly generated public key\n",
    "    basefield = GF(q)\n",
    "\n",
    "    r = 2\n",
    "    rk = r*k\n",
    "    y, F, F_r, d, c = ConstructSidon2k(q, k)\n",
    "    matrixList, sidonbasis, mult_table, F_r_basis , origbasis = publicKey(y,q,F,F_r)\n",
    "    invertiblecount = 0\n",
    "    for i in matrixList: \n",
    "        if i.rank() == k: \n",
    "            invertiblecount += 1\n",
    "    return float(invertiblecount/2/k)"
   ]
  },
  {
   "cell_type": "code",
   "execution_count": 23,
   "metadata": {},
   "outputs": [],
   "source": [
    "for q in [3,5,7,101,197,65521]:\n",
    "    for k in [3,5,7,9]:\n",
    "        for i in range(20): \n",
    "            if testInvertibility(q,k) == 0:\n",
    "                print('none invertible!')"
   ]
  },
  {
   "cell_type": "code",
   "execution_count": null,
   "metadata": {},
   "outputs": [],
   "source": []
  },
  {
   "cell_type": "code",
   "execution_count": null,
   "metadata": {},
   "outputs": [],
   "source": []
  },
  {
   "cell_type": "code",
   "execution_count": 9,
   "metadata": {},
   "outputs": [],
   "source": []
  },
  {
   "cell_type": "code",
   "execution_count": null,
   "metadata": {},
   "outputs": [],
   "source": []
  }
 ],
 "metadata": {
  "kernelspec": {
   "display_name": "SageMath 9.0",
   "language": "sage",
   "name": "sagemath"
  },
  "language_info": {
   "codemirror_mode": {
    "name": "ipython",
    "version": 3
   },
   "file_extension": ".py",
   "mimetype": "text/x-python",
   "name": "python",
   "nbconvert_exporter": "python",
   "pygments_lexer": "ipython3",
   "version": "3.7.3"
  }
 },
 "nbformat": 4,
 "nbformat_minor": 2
}
