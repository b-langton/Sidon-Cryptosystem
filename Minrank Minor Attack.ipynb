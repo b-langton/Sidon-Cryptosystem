{
 "cells": [
  {
   "cell_type": "code",
   "execution_count": 1,
   "metadata": {},
   "outputs": [],
   "source": [
    "load('sidon_cryptosystem.sage')\n",
    "##Function that returns the coeffiecient xth variable in the yth equation in the system\n",
    "def getLinearizedCoeff(y, x, k, r, matrixList, c_matrix):\n",
    "    if y % 100 == 0 and x == 0: \n",
    "        print(y)\n",
    "    t1,a1,t2,a2,d,lx,ly,jx,jy = getIndices(y,x,k,r)\n",
    "\n",
    "    if t1*r*k + a1 > t2*r*k + a2: \n",
    "      \n",
    "        return 0\n",
    "    c = c_matrix[a1][a2][d]\n",
    "    coeff = c*(matrixList[t1][jy][ly]*matrixList[t2][jx][lx] - matrixList[t1][jy][lx]*matrixList[t2][jx][ly])\n",
    "\n",
    "    coeff2 = 0\n",
    "    if t1*r*k + a1 != t2*r*k + a2:\n",
    "        \n",
    "        temp = t1\n",
    "        t1 = t2\n",
    "        t2 = temp\n",
    "\n",
    "        temp = a1\n",
    "        a1 = a2\n",
    "        a2 = temp\n",
    "        \n",
    "        c2 = c_matrix[a1][a2][d]\n",
    "        coeff2 = c2*(matrixList[t1][jy][ly]*matrixList[t2][jx][lx] - matrixList[t1][jy][lx]*matrixList[t2][jx][ly])\n",
    "           \n",
    "    return coeff + coeff2\n",
    "\n",
    "##Helper function that breaks y and x into the 9 indexes that specify an equation and variable in the system\n",
    "def getIndices(y,x, k, r): \n",
    "    y = int(y)\n",
    "    x = int(x)\n",
    "    \n",
    "    ##Get the variable, treating x like a base rk number\n",
    "    rk  = r*k\n",
    "    t1 = x//rk^3\n",
    "    rem = x% rk^3 \n",
    "    a1 = rem//rk^2\n",
    "    rem = rem%rk^2\n",
    "    t2 = rem//rk\n",
    "    rem = rem%rk\n",
    "    a2= rem \n",
    "    \n",
    "    \n",
    "    d = y//((k^2-k)*(k^2 - k)/4)\n",
    "    rem = y%((k^2-k)*(k^2 - k)/4)\n",
    "    l = rem//int(((k^2 - k)/2)) + 1\n",
    "    rem = rem%((k^2 - k)/2)\n",
    "    j = rem + 1 \n",
    "    \n",
    "    ##Get the equation. Indices must follow that lx > ly and jx > jy   \n",
    "    lx  = 1\n",
    "    jx = 1\n",
    "    ly = 0\n",
    "    jy = 0\n",
    "    continuel = True\n",
    "    continuej = True\n",
    "    startl = k*(k-1)/2\n",
    "    startj = k*(k-1)/2\n",
    "    for i in range(k-1):\n",
    "        if continuel == True:\n",
    "            startl -= k-1 - i\n",
    "            if l> startl:\n",
    "                lx = k-1 - i \n",
    "                ly = l - startl - 1\n",
    "                continuel = False\n",
    "        if continuej == True:\n",
    "            startj -= k-1 - i\n",
    "            if j> startj:\n",
    "                jx = k-1 - i \n",
    "                jy = j - startj - 1\n",
    "                continuej = False\n",
    "    return int(t1), int(a1), int(t2), int(a2), int(d), int(lx), int(ly), int(jx), int(jy)\n",
    "            "
   ]
  },
  {
   "cell_type": "code",
   "execution_count": 9,
   "metadata": {},
   "outputs": [],
   "source": [
    "##initialize parameters, and construct cryptosystem\n",
    "def minorAttack(q,k):\n",
    "    r = 2\n",
    "    basefield = GF(q)\n",
    "    rk = r*k\n",
    "    y, F, F_r, d, c = ConstructSidon2k(q, k)\n",
    "    matrixList, sidonbasis, mult_table, F_r_basis , origbasis = publicKey(y,q,F,F_r)\n",
    "    basefield = GF(q)\n",
    "\n",
    "    ##Construct a new random basis for F_r \n",
    "    F_r_basis_new = Matrix(basefield, rk, lambda i,j: basefield.random_element())\n",
    "    while F_r_basis_new.is_invertible() == False: \n",
    "         F_r_basis_new = Matrix(basefield, rk, lambda i,j: basefield.random_element())\n",
    "    cob_matrix = F_r_basis_new.inverse()\n",
    "    basiselements = []\n",
    "    ##represent the multiplication table of the new basis over that basis\n",
    "    for i in range(rk): \n",
    "        basiselements += [convertFromLong(F_r_basis_new[i], F, F_r)]\n",
    "    c_matrix = [[0 for i in range(rk)] for j in range(rk)]\n",
    "    new_mult_table = [[i*j for i in basiselements] for j in basiselements]\n",
    "    for i in range(rk): \n",
    "        for j in range(rk): \n",
    "            element = convertToLong(new_mult_table[i][j])\n",
    "            c_matrix[i][j] = element*cob_matrix\n",
    "    ##Construct the coefficient matrix for the system. Not efficient but works for small k \n",
    "    eqn_mat = Matrix(basefield, (k^3*(k-1)^2)/2, rk^4, lambda i,j: getLinearizedCoeff(i,j, k, r, matrixList, c_matrix))\n",
    "    R = PolynomialRing(GF(q),'x', 36, order = \"degrevlex\")\n",
    "    indeterminates = R.gens()\n",
    "    R.inject_variables()\n",
    "    pivot_cols = eqn_mat.transpose().pivot_rows()\n",
    "    eqn_mat = eqn_mat.matrix_from_rows(eqn_mat.pivot_rows())\n",
    "    indices = []\n",
    "    for i in range(eqn_mat.ncols()):\n",
    "        if eqn_mat.transpose()[i] == zero_vector(eqn_mat.nrows()):\n",
    "            continue\n",
    "        indices += [i]\n",
    "    eqn_mat = eqn_mat.transpose().matrix_from_rows(indices).transpose()\n",
    "    monomial_order = []\n",
    "    for i in indices:\n",
    "        t1,a1,t2,a2,d,lx,ly,jx,jy =  getIndices(0,i,k,r)\n",
    "        monomial_order += [indeterminates[t1*r*k + a1]*indeterminates[t2*r*k + a2]]\n",
    "    ideallist = list(eqn_mat*vector(monomial_order).column())\n",
    "    ideallist = [R(i) for i in ideallist]\n",
    "    I = ideal(ideallist)\n",
    "    return I"
   ]
  },
  {
   "cell_type": "code",
   "execution_count": 27,
   "metadata": {},
   "outputs": [
    {
     "name": "stdout",
     "output_type": "stream",
     "text": [
      "0\n"
     ]
    }
   ],
   "source": [
    "##Construct the coefficient matrix for the system. Not efficient but works for small k \n",
    "eqn_mat = Matrix(basefield, (k^3*(k-1)^2)/2, rk^4, lambda i,j: getLinearizedCoeff(i,j, k, r, matrixList, c_matrix))"
   ]
  },
  {
   "cell_type": "code",
   "execution_count": 29,
   "metadata": {},
   "outputs": [
    {
     "name": "stdout",
     "output_type": "stream",
     "text": [
      "Defining x0, x1, x2, x3, x4, x5, x6, x7, x8, x9, x10, x11, x12, x13, x14, x15, x16, x17, x18, x19, x20, x21, x22, x23, x24, x25, x26, x27, x28, x29, x30, x31, x32, x33, x34, x35\n"
     ]
    }
   ],
   "source": [
    "##Construct a multivariate polynomial ring in rk ^ 2 variables \n",
    "R = PolynomialRing(GF(q),'x', 36)\n",
    "indeterminates = R.gens()\n",
    "R.inject_variables()"
   ]
  },
  {
   "cell_type": "code",
   "execution_count": 30,
   "metadata": {},
   "outputs": [
    {
     "data": {
      "text/plain": [
       "36"
      ]
     },
     "execution_count": 30,
     "metadata": {},
     "output_type": "execute_result"
    }
   ],
   "source": [
    "eqn_mat.rank()"
   ]
  },
  {
   "cell_type": "code",
   "execution_count": 31,
   "metadata": {},
   "outputs": [],
   "source": [
    "##remove linearly dependent equations\n",
    "pivot_cols = eqn_mat.transpose().pivot_rows()\n",
    "eqn_mat = eqn_mat.matrix_from_rows(eqn_mat.pivot_rows())\n"
   ]
  },
  {
   "cell_type": "code",
   "execution_count": 32,
   "metadata": {},
   "outputs": [],
   "source": [
    "##remove the columns of 0s (where a monomial was repeated in constructing the matrix)\n",
    "indices = []\n",
    "for i in range(eqn_mat.ncols()):\n",
    "    if eqn_mat.transpose()[i] == zero_vector(eqn_mat.nrows()):\n",
    "        continue\n",
    "    indices += [i]\n",
    "eqn_mat = eqn_mat.transpose().matrix_from_rows(indices).transpose()"
   ]
  },
  {
   "cell_type": "code",
   "execution_count": 33,
   "metadata": {},
   "outputs": [],
   "source": [
    "##Order the monomials in the system as they are ordered in the coefficient matrix\n",
    "monomial_order = []\n",
    "for i in indices:\n",
    "    t1,a1,t2,a2,d,lx,ly,jx,jy =  getIndices(0,i,k,r)\n",
    "    monomial_order += [indeterminates[t1*r*k + a1]*indeterminates[t2*r*k + a2]]"
   ]
  },
  {
   "cell_type": "code",
   "execution_count": 34,
   "metadata": {},
   "outputs": [
    {
     "data": {
      "text/plain": [
       "[x0^2,\n",
       " x0*x1,\n",
       " x0*x2,\n",
       " x0*x3,\n",
       " x0*x4,\n",
       " x0*x5,\n",
       " x0*x6,\n",
       " x0*x7,\n",
       " x0*x8,\n",
       " x0*x9,\n",
       " x0*x10,\n",
       " x0*x11,\n",
       " x0*x12,\n",
       " x0*x13,\n",
       " x0*x14,\n",
       " x0*x15,\n",
       " x0*x16,\n",
       " x0*x17,\n",
       " x0*x18,\n",
       " x0*x19,\n",
       " x0*x20,\n",
       " x0*x21,\n",
       " x0*x22,\n",
       " x0*x23,\n",
       " x0*x24,\n",
       " x0*x25,\n",
       " x0*x26,\n",
       " x0*x27,\n",
       " x0*x28,\n",
       " x0*x29,\n",
       " x0*x30,\n",
       " x0*x31,\n",
       " x0*x32,\n",
       " x0*x33,\n",
       " x0*x34,\n",
       " x0*x35,\n",
       " x1^2,\n",
       " x1*x2,\n",
       " x1*x3,\n",
       " x1*x4,\n",
       " x1*x5,\n",
       " x1*x6,\n",
       " x1*x7,\n",
       " x1*x8,\n",
       " x1*x9,\n",
       " x1*x10,\n",
       " x1*x11,\n",
       " x1*x12,\n",
       " x1*x13,\n",
       " x1*x14,\n",
       " x1*x15,\n",
       " x1*x16,\n",
       " x1*x17,\n",
       " x1*x18,\n",
       " x1*x19,\n",
       " x1*x20,\n",
       " x1*x21,\n",
       " x1*x22,\n",
       " x1*x23,\n",
       " x1*x24,\n",
       " x1*x25,\n",
       " x1*x26,\n",
       " x1*x27,\n",
       " x1*x28,\n",
       " x1*x29,\n",
       " x1*x30,\n",
       " x1*x31,\n",
       " x1*x32,\n",
       " x1*x33,\n",
       " x1*x34,\n",
       " x1*x35,\n",
       " x2^2,\n",
       " x2*x3,\n",
       " x2*x4,\n",
       " x2*x5,\n",
       " x2*x6,\n",
       " x2*x7,\n",
       " x2*x8,\n",
       " x2*x9,\n",
       " x2*x10,\n",
       " x2*x11,\n",
       " x2*x12,\n",
       " x2*x13,\n",
       " x2*x14,\n",
       " x2*x15,\n",
       " x2*x16,\n",
       " x2*x17,\n",
       " x2*x18,\n",
       " x2*x19,\n",
       " x2*x20,\n",
       " x2*x21,\n",
       " x2*x22,\n",
       " x2*x23,\n",
       " x2*x24,\n",
       " x2*x25,\n",
       " x2*x26,\n",
       " x2*x27,\n",
       " x2*x28,\n",
       " x2*x29,\n",
       " x2*x30,\n",
       " x2*x31,\n",
       " x2*x32,\n",
       " x2*x33,\n",
       " x2*x34,\n",
       " x2*x35,\n",
       " x3^2,\n",
       " x3*x4,\n",
       " x3*x5,\n",
       " x3*x6,\n",
       " x3*x7,\n",
       " x3*x8,\n",
       " x3*x9,\n",
       " x3*x10,\n",
       " x3*x11,\n",
       " x3*x12,\n",
       " x3*x13,\n",
       " x3*x14,\n",
       " x3*x15,\n",
       " x3*x16,\n",
       " x3*x17,\n",
       " x3*x18,\n",
       " x3*x19,\n",
       " x3*x20,\n",
       " x3*x21,\n",
       " x3*x22,\n",
       " x3*x23,\n",
       " x3*x24,\n",
       " x3*x25,\n",
       " x3*x26,\n",
       " x3*x27,\n",
       " x3*x28,\n",
       " x3*x29,\n",
       " x3*x30,\n",
       " x3*x31,\n",
       " x3*x32,\n",
       " x3*x33,\n",
       " x3*x34,\n",
       " x3*x35,\n",
       " x4^2,\n",
       " x4*x5,\n",
       " x4*x6,\n",
       " x4*x7,\n",
       " x4*x8,\n",
       " x4*x9,\n",
       " x4*x10,\n",
       " x4*x11,\n",
       " x4*x12,\n",
       " x4*x13,\n",
       " x4*x14,\n",
       " x4*x15,\n",
       " x4*x16,\n",
       " x4*x17,\n",
       " x4*x18,\n",
       " x4*x19,\n",
       " x4*x20,\n",
       " x4*x21,\n",
       " x4*x22,\n",
       " x4*x23,\n",
       " x4*x24,\n",
       " x4*x25,\n",
       " x4*x26,\n",
       " x4*x27,\n",
       " x4*x28,\n",
       " x4*x29,\n",
       " x4*x30,\n",
       " x4*x31,\n",
       " x4*x32,\n",
       " x4*x33,\n",
       " x4*x34,\n",
       " x4*x35,\n",
       " x5^2,\n",
       " x5*x6,\n",
       " x5*x7,\n",
       " x5*x8,\n",
       " x5*x9,\n",
       " x5*x10,\n",
       " x5*x11,\n",
       " x5*x12,\n",
       " x5*x13,\n",
       " x5*x14,\n",
       " x5*x15,\n",
       " x5*x16,\n",
       " x5*x17,\n",
       " x5*x18,\n",
       " x5*x19,\n",
       " x5*x20,\n",
       " x5*x21,\n",
       " x5*x22,\n",
       " x5*x23,\n",
       " x5*x24,\n",
       " x5*x25,\n",
       " x5*x26,\n",
       " x5*x27,\n",
       " x5*x28,\n",
       " x5*x29,\n",
       " x5*x30,\n",
       " x5*x31,\n",
       " x5*x32,\n",
       " x5*x33,\n",
       " x5*x34,\n",
       " x5*x35,\n",
       " x6^2,\n",
       " x6*x7,\n",
       " x6*x8,\n",
       " x6*x9,\n",
       " x6*x10,\n",
       " x6*x11,\n",
       " x6*x12,\n",
       " x6*x13,\n",
       " x6*x14,\n",
       " x6*x15,\n",
       " x6*x16,\n",
       " x6*x17,\n",
       " x6*x18,\n",
       " x6*x19,\n",
       " x6*x20,\n",
       " x6*x21,\n",
       " x6*x22,\n",
       " x6*x23,\n",
       " x6*x24,\n",
       " x6*x25,\n",
       " x6*x26,\n",
       " x6*x27,\n",
       " x6*x28,\n",
       " x6*x29,\n",
       " x6*x30,\n",
       " x6*x31,\n",
       " x6*x32,\n",
       " x6*x33,\n",
       " x6*x34,\n",
       " x6*x35,\n",
       " x7^2,\n",
       " x7*x8,\n",
       " x7*x9,\n",
       " x7*x10,\n",
       " x7*x11,\n",
       " x7*x12,\n",
       " x7*x13,\n",
       " x7*x14,\n",
       " x7*x15,\n",
       " x7*x16,\n",
       " x7*x17,\n",
       " x7*x18,\n",
       " x7*x19,\n",
       " x7*x20,\n",
       " x7*x21,\n",
       " x7*x22,\n",
       " x7*x23,\n",
       " x7*x24,\n",
       " x7*x25,\n",
       " x7*x26,\n",
       " x7*x27,\n",
       " x7*x28,\n",
       " x7*x29,\n",
       " x7*x30,\n",
       " x7*x31,\n",
       " x7*x32,\n",
       " x7*x33,\n",
       " x7*x34,\n",
       " x7*x35,\n",
       " x8^2,\n",
       " x8*x9,\n",
       " x8*x10,\n",
       " x8*x11,\n",
       " x8*x12,\n",
       " x8*x13,\n",
       " x8*x14,\n",
       " x8*x15,\n",
       " x8*x16,\n",
       " x8*x17,\n",
       " x8*x18,\n",
       " x8*x19,\n",
       " x8*x20,\n",
       " x8*x21,\n",
       " x8*x22,\n",
       " x8*x23,\n",
       " x8*x24,\n",
       " x8*x25,\n",
       " x8*x26,\n",
       " x8*x27,\n",
       " x8*x28,\n",
       " x8*x29,\n",
       " x8*x30,\n",
       " x8*x31,\n",
       " x8*x32,\n",
       " x8*x33,\n",
       " x8*x34,\n",
       " x8*x35,\n",
       " x9^2,\n",
       " x9*x10,\n",
       " x9*x11,\n",
       " x9*x12,\n",
       " x9*x13,\n",
       " x9*x14,\n",
       " x9*x15,\n",
       " x9*x16,\n",
       " x9*x17,\n",
       " x9*x18,\n",
       " x9*x19,\n",
       " x9*x20,\n",
       " x9*x21,\n",
       " x9*x22,\n",
       " x9*x23,\n",
       " x9*x24,\n",
       " x9*x25,\n",
       " x9*x26,\n",
       " x9*x27,\n",
       " x9*x28,\n",
       " x9*x29,\n",
       " x9*x30,\n",
       " x9*x31,\n",
       " x9*x32,\n",
       " x9*x33,\n",
       " x9*x34,\n",
       " x9*x35,\n",
       " x10^2,\n",
       " x10*x11,\n",
       " x10*x12,\n",
       " x10*x13,\n",
       " x10*x14,\n",
       " x10*x15,\n",
       " x10*x16,\n",
       " x10*x17,\n",
       " x10*x18,\n",
       " x10*x19,\n",
       " x10*x20,\n",
       " x10*x21,\n",
       " x10*x22,\n",
       " x10*x23,\n",
       " x10*x24,\n",
       " x10*x25,\n",
       " x10*x26,\n",
       " x10*x27,\n",
       " x10*x28,\n",
       " x10*x29,\n",
       " x10*x30,\n",
       " x10*x31,\n",
       " x10*x32,\n",
       " x10*x33,\n",
       " x10*x34,\n",
       " x10*x35,\n",
       " x11^2,\n",
       " x11*x12,\n",
       " x11*x13,\n",
       " x11*x14,\n",
       " x11*x15,\n",
       " x11*x16,\n",
       " x11*x17,\n",
       " x11*x18,\n",
       " x11*x19,\n",
       " x11*x20,\n",
       " x11*x21,\n",
       " x11*x22,\n",
       " x11*x23,\n",
       " x11*x24,\n",
       " x11*x25,\n",
       " x11*x26,\n",
       " x11*x27,\n",
       " x11*x28,\n",
       " x11*x29,\n",
       " x11*x30,\n",
       " x11*x31,\n",
       " x11*x32,\n",
       " x11*x33,\n",
       " x11*x34,\n",
       " x11*x35,\n",
       " x12^2,\n",
       " x12*x13,\n",
       " x12*x14,\n",
       " x12*x15,\n",
       " x12*x16,\n",
       " x12*x17,\n",
       " x12*x18,\n",
       " x12*x19,\n",
       " x12*x20,\n",
       " x12*x21,\n",
       " x12*x22,\n",
       " x12*x23,\n",
       " x12*x24,\n",
       " x12*x25,\n",
       " x12*x26,\n",
       " x12*x27,\n",
       " x12*x28,\n",
       " x12*x29,\n",
       " x12*x30,\n",
       " x12*x31,\n",
       " x12*x32,\n",
       " x12*x33,\n",
       " x12*x34,\n",
       " x12*x35,\n",
       " x13^2,\n",
       " x13*x14,\n",
       " x13*x15,\n",
       " x13*x16,\n",
       " x13*x17,\n",
       " x13*x18,\n",
       " x13*x19,\n",
       " x13*x20,\n",
       " x13*x21,\n",
       " x13*x22,\n",
       " x13*x23,\n",
       " x13*x24,\n",
       " x13*x25,\n",
       " x13*x26,\n",
       " x13*x27,\n",
       " x13*x28,\n",
       " x13*x29,\n",
       " x13*x30,\n",
       " x13*x31,\n",
       " x13*x32,\n",
       " x13*x33,\n",
       " x13*x34,\n",
       " x13*x35,\n",
       " x14^2,\n",
       " x14*x15,\n",
       " x14*x16,\n",
       " x14*x17,\n",
       " x14*x18,\n",
       " x14*x19,\n",
       " x14*x20,\n",
       " x14*x21,\n",
       " x14*x22,\n",
       " x14*x23,\n",
       " x14*x24,\n",
       " x14*x25,\n",
       " x14*x26,\n",
       " x14*x27,\n",
       " x14*x28,\n",
       " x14*x29,\n",
       " x14*x30,\n",
       " x14*x31,\n",
       " x14*x32,\n",
       " x14*x33,\n",
       " x14*x34,\n",
       " x14*x35,\n",
       " x15^2,\n",
       " x15*x16,\n",
       " x15*x17,\n",
       " x15*x18,\n",
       " x15*x19,\n",
       " x15*x20,\n",
       " x15*x21,\n",
       " x15*x22,\n",
       " x15*x23,\n",
       " x15*x24,\n",
       " x15*x25,\n",
       " x15*x26,\n",
       " x15*x27,\n",
       " x15*x28,\n",
       " x15*x29,\n",
       " x15*x30,\n",
       " x15*x31,\n",
       " x15*x32,\n",
       " x15*x33,\n",
       " x15*x34,\n",
       " x15*x35,\n",
       " x16^2,\n",
       " x16*x17,\n",
       " x16*x18,\n",
       " x16*x19,\n",
       " x16*x20,\n",
       " x16*x21,\n",
       " x16*x22,\n",
       " x16*x23,\n",
       " x16*x24,\n",
       " x16*x25,\n",
       " x16*x26,\n",
       " x16*x27,\n",
       " x16*x28,\n",
       " x16*x29,\n",
       " x16*x30,\n",
       " x16*x31,\n",
       " x16*x32,\n",
       " x16*x33,\n",
       " x16*x34,\n",
       " x16*x35,\n",
       " x17^2,\n",
       " x17*x18,\n",
       " x17*x19,\n",
       " x17*x20,\n",
       " x17*x21,\n",
       " x17*x22,\n",
       " x17*x23,\n",
       " x17*x24,\n",
       " x17*x25,\n",
       " x17*x26,\n",
       " x17*x27,\n",
       " x17*x28,\n",
       " x17*x29,\n",
       " x17*x30,\n",
       " x17*x31,\n",
       " x17*x32,\n",
       " x17*x33,\n",
       " x17*x34,\n",
       " x17*x35,\n",
       " x18^2,\n",
       " x18*x19,\n",
       " x18*x20,\n",
       " x18*x21,\n",
       " x18*x22,\n",
       " x18*x23,\n",
       " x18*x24,\n",
       " x18*x25,\n",
       " x18*x26,\n",
       " x18*x27,\n",
       " x18*x28,\n",
       " x18*x29,\n",
       " x18*x30,\n",
       " x18*x31,\n",
       " x18*x32,\n",
       " x18*x33,\n",
       " x18*x34,\n",
       " x18*x35,\n",
       " x19^2,\n",
       " x19*x20,\n",
       " x19*x21,\n",
       " x19*x22,\n",
       " x19*x23,\n",
       " x19*x24,\n",
       " x19*x25,\n",
       " x19*x26,\n",
       " x19*x27,\n",
       " x19*x28,\n",
       " x19*x29,\n",
       " x19*x30,\n",
       " x19*x31,\n",
       " x19*x32,\n",
       " x19*x33,\n",
       " x19*x34,\n",
       " x19*x35,\n",
       " x20^2,\n",
       " x20*x21,\n",
       " x20*x22,\n",
       " x20*x23,\n",
       " x20*x24,\n",
       " x20*x25,\n",
       " x20*x26,\n",
       " x20*x27,\n",
       " x20*x28,\n",
       " x20*x29,\n",
       " x20*x30,\n",
       " x20*x31,\n",
       " x20*x32,\n",
       " x20*x33,\n",
       " x20*x34,\n",
       " x20*x35,\n",
       " x21^2,\n",
       " x21*x22,\n",
       " x21*x23,\n",
       " x21*x24,\n",
       " x21*x25,\n",
       " x21*x26,\n",
       " x21*x27,\n",
       " x21*x28,\n",
       " x21*x29,\n",
       " x21*x30,\n",
       " x21*x31,\n",
       " x21*x32,\n",
       " x21*x33,\n",
       " x21*x34,\n",
       " x21*x35,\n",
       " x22^2,\n",
       " x22*x23,\n",
       " x22*x24,\n",
       " x22*x25,\n",
       " x22*x26,\n",
       " x22*x27,\n",
       " x22*x28,\n",
       " x22*x29,\n",
       " x22*x30,\n",
       " x22*x31,\n",
       " x22*x32,\n",
       " x22*x33,\n",
       " x22*x34,\n",
       " x22*x35,\n",
       " x23^2,\n",
       " x23*x24,\n",
       " x23*x25,\n",
       " x23*x26,\n",
       " x23*x27,\n",
       " x23*x28,\n",
       " x23*x29,\n",
       " x23*x30,\n",
       " x23*x31,\n",
       " x23*x32,\n",
       " x23*x33,\n",
       " x23*x34,\n",
       " x23*x35,\n",
       " x24^2,\n",
       " x24*x25,\n",
       " x24*x26,\n",
       " x24*x27,\n",
       " x24*x28,\n",
       " x24*x29,\n",
       " x24*x30,\n",
       " x24*x31,\n",
       " x24*x32,\n",
       " x24*x33,\n",
       " x24*x34,\n",
       " x24*x35,\n",
       " x25^2,\n",
       " x25*x26,\n",
       " x25*x27,\n",
       " x25*x28,\n",
       " x25*x29,\n",
       " x25*x30,\n",
       " x25*x31,\n",
       " x25*x32,\n",
       " x25*x33,\n",
       " x25*x34,\n",
       " x25*x35,\n",
       " x26^2,\n",
       " x26*x27,\n",
       " x26*x28,\n",
       " x26*x29,\n",
       " x26*x30,\n",
       " x26*x31,\n",
       " x26*x32,\n",
       " x26*x33,\n",
       " x26*x34,\n",
       " x26*x35,\n",
       " x27^2,\n",
       " x27*x28,\n",
       " x27*x29,\n",
       " x27*x30,\n",
       " x27*x31,\n",
       " x27*x32,\n",
       " x27*x33,\n",
       " x27*x34,\n",
       " x27*x35,\n",
       " x28^2,\n",
       " x28*x29,\n",
       " x28*x30,\n",
       " x28*x31,\n",
       " x28*x32,\n",
       " x28*x33,\n",
       " x28*x34,\n",
       " x28*x35,\n",
       " x29^2,\n",
       " x29*x30,\n",
       " x29*x31,\n",
       " x29*x32,\n",
       " x29*x33,\n",
       " x29*x34,\n",
       " x29*x35,\n",
       " x30^2,\n",
       " x30*x31,\n",
       " x30*x32,\n",
       " x30*x33,\n",
       " x30*x34,\n",
       " x30*x35,\n",
       " x31^2,\n",
       " x31*x32,\n",
       " x31*x33,\n",
       " x31*x34,\n",
       " x31*x35,\n",
       " x32^2,\n",
       " x32*x33,\n",
       " x32*x34,\n",
       " x32*x35,\n",
       " x33^2,\n",
       " x33*x34,\n",
       " x33*x35,\n",
       " x34^2,\n",
       " x34*x35,\n",
       " x35^2]"
      ]
     },
     "execution_count": 34,
     "metadata": {},
     "output_type": "execute_result"
    }
   ],
   "source": [
    "monomial_order"
   ]
  },
  {
   "cell_type": "code",
   "execution_count": 35,
   "metadata": {},
   "outputs": [],
   "source": [
    "##Get the ideal corresponding to the system\n",
    "ideallist = list(eqn_mat*vector(monomial_order).column())\n",
    "ideallist = [R(i) for i in ideallist]\n",
    "I = ideal(ideallist)"
   ]
  },
  {
   "cell_type": "code",
   "execution_count": 36,
   "metadata": {
    "scrolled": true
   },
   "outputs": [
    {
     "ename": "ValueError",
     "evalue": "This function requires an overdefined system of polynomials.",
     "output_type": "error",
     "traceback": [
      "\u001b[0;31m---------------------------------------------------------------------------\u001b[0m",
      "\u001b[0;31mValueError\u001b[0m                                Traceback (most recent call last)",
      "\u001b[0;32m<ipython-input-36-32a30968f478>\u001b[0m in \u001b[0;36m<module>\u001b[0;34m()\u001b[0m\n\u001b[0;32m----> 1\u001b[0;31m \u001b[0mI\u001b[0m\u001b[0;34m.\u001b[0m\u001b[0mdegree_of_semi_regularity\u001b[0m\u001b[0;34m(\u001b[0m\u001b[0;34m)\u001b[0m\u001b[0;34m\u001b[0m\u001b[0;34m\u001b[0m\u001b[0m\n\u001b[0m",
      "\u001b[0;32m/opt/sagemath-9.0/local/lib/python3.7/site-packages/sage/rings/polynomial/multi_polynomial_ideal.py\u001b[0m in \u001b[0;36mdegree_of_semi_regularity\u001b[0;34m(self)\u001b[0m\n\u001b[1;32m   4606\u001b[0m         \u001b[0mm\u001b[0m\u001b[0;34m,\u001b[0m \u001b[0mn\u001b[0m \u001b[0;34m=\u001b[0m \u001b[0mself\u001b[0m\u001b[0;34m.\u001b[0m\u001b[0mngens\u001b[0m\u001b[0;34m(\u001b[0m\u001b[0;34m)\u001b[0m\u001b[0;34m,\u001b[0m \u001b[0mlen\u001b[0m\u001b[0;34m(\u001b[0m\u001b[0mset\u001b[0m\u001b[0;34m(\u001b[0m\u001b[0msum\u001b[0m\u001b[0;34m(\u001b[0m\u001b[0;34m[\u001b[0m\u001b[0mf\u001b[0m\u001b[0;34m.\u001b[0m\u001b[0mvariables\u001b[0m\u001b[0;34m(\u001b[0m\u001b[0;34m)\u001b[0m \u001b[0;32mfor\u001b[0m \u001b[0mf\u001b[0m \u001b[0;32min\u001b[0m \u001b[0mself\u001b[0m\u001b[0;34m.\u001b[0m\u001b[0mgens\u001b[0m\u001b[0;34m(\u001b[0m\u001b[0;34m)\u001b[0m\u001b[0;34m]\u001b[0m\u001b[0;34m,\u001b[0m\u001b[0;34m(\u001b[0m\u001b[0;34m)\u001b[0m\u001b[0;34m)\u001b[0m\u001b[0;34m)\u001b[0m\u001b[0;34m)\u001b[0m\u001b[0;34m\u001b[0m\u001b[0;34m\u001b[0m\u001b[0m\n\u001b[1;32m   4607\u001b[0m         \u001b[0;32mif\u001b[0m \u001b[0mm\u001b[0m \u001b[0;34m<=\u001b[0m \u001b[0mn\u001b[0m\u001b[0;34m:\u001b[0m\u001b[0;34m\u001b[0m\u001b[0;34m\u001b[0m\u001b[0m\n\u001b[0;32m-> 4608\u001b[0;31m             \u001b[0;32mraise\u001b[0m \u001b[0mValueError\u001b[0m\u001b[0;34m(\u001b[0m\u001b[0;34m\"This function requires an overdefined system of polynomials.\"\u001b[0m\u001b[0;34m)\u001b[0m\u001b[0;34m\u001b[0m\u001b[0;34m\u001b[0m\u001b[0m\n\u001b[0m\u001b[1;32m   4609\u001b[0m \u001b[0;34m\u001b[0m\u001b[0m\n\u001b[1;32m   4610\u001b[0m         \u001b[0;32mfrom\u001b[0m \u001b[0msage\u001b[0m\u001b[0;34m.\u001b[0m\u001b[0mrings\u001b[0m\u001b[0;34m.\u001b[0m\u001b[0mall\u001b[0m \u001b[0;32mimport\u001b[0m \u001b[0mQQ\u001b[0m\u001b[0;34m\u001b[0m\u001b[0;34m\u001b[0m\u001b[0m\n",
      "\u001b[0;31mValueError\u001b[0m: This function requires an overdefined system of polynomials."
     ]
    }
   ],
   "source": [
    "I.degree_of_semi_regularity()"
   ]
  },
  {
   "cell_type": "code",
   "execution_count": null,
   "metadata": {},
   "outputs": [],
   "source": [
    "##Try to calculate the groebner basis of the ideal. This is the hard part (uses lots of memory!!)\n",
    "##Need to replace with fGB library implementation \n",
    "gb = I.groebner_basis(prot = True)"
   ]
  },
  {
   "cell_type": "code",
   "execution_count": 61,
   "metadata": {},
   "outputs": [],
   "source": [
    "a, v = gb.coefficient_matrix()"
   ]
  },
  {
   "cell_type": "code",
   "execution_count": 49,
   "metadata": {},
   "outputs": [
    {
     "ename": "AttributeError",
     "evalue": "'list' object has no attribute 'ring'",
     "output_type": "error",
     "traceback": [
      "\u001b[0;31m---------------------------------------------------------------------------\u001b[0m",
      "\u001b[0;31mAttributeError\u001b[0m                            Traceback (most recent call last)",
      "\u001b[0;32m<ipython-input-49-aaa7dd6dcb49>\u001b[0m in \u001b[0;36m<module>\u001b[0;34m()\u001b[0m\n\u001b[0;32m----> 1\u001b[0;31m \u001b[0mideallist\u001b[0m\u001b[0;34m.\u001b[0m\u001b[0mring\u001b[0m\u001b[0;34m\u001b[0m\u001b[0;34m\u001b[0m\u001b[0m\n\u001b[0m",
      "\u001b[0;31mAttributeError\u001b[0m: 'list' object has no attribute 'ring'"
     ]
    }
   ],
   "source": [
    "ideallist."
   ]
  },
  {
   "cell_type": "code",
   "execution_count": 52,
   "metadata": {},
   "outputs": [
    {
     "ename": "TypeError",
     "evalue": "Could not find a mapping of the passed element to this ring.",
     "output_type": "error",
     "traceback": [
      "\u001b[0;31m---------------------------------------------------------------------------\u001b[0m",
      "\u001b[0;31mTypeError\u001b[0m                                 Traceback (most recent call last)",
      "\u001b[0;32m/opt/sagemath-9.0/local/lib/python3.7/site-packages/sage/rings/polynomial/multi_polynomial_libsingular.pyx\u001b[0m in \u001b[0;36msage.rings.polynomial.multi_polynomial_libsingular.MPolynomialRing_libsingular._element_constructor_ (build/cythonized/sage/rings/polynomial/multi_polynomial_libsingular.cpp:12266)\u001b[0;34m()\u001b[0m\n\u001b[1;32m   1041\u001b[0m             \u001b[0;31m# now try calling the base ring's __call__ methods\u001b[0m\u001b[0;34m\u001b[0m\u001b[0;34m\u001b[0m\u001b[0;34m\u001b[0m\u001b[0m\n\u001b[0;32m-> 1042\u001b[0;31m             \u001b[0melement\u001b[0m \u001b[0;34m=\u001b[0m \u001b[0mself\u001b[0m\u001b[0;34m.\u001b[0m\u001b[0mbase_ring\u001b[0m\u001b[0;34m(\u001b[0m\u001b[0;34m)\u001b[0m\u001b[0;34m(\u001b[0m\u001b[0melement\u001b[0m\u001b[0;34m)\u001b[0m\u001b[0;34m\u001b[0m\u001b[0;34m\u001b[0m\u001b[0m\n\u001b[0m\u001b[1;32m   1043\u001b[0m             \u001b[0m_p\u001b[0m \u001b[0;34m=\u001b[0m \u001b[0mp_NSet\u001b[0m\u001b[0;34m(\u001b[0m\u001b[0msa2si\u001b[0m\u001b[0;34m(\u001b[0m\u001b[0melement\u001b[0m\u001b[0;34m,\u001b[0m\u001b[0m_ring\u001b[0m\u001b[0;34m)\u001b[0m\u001b[0;34m,\u001b[0m \u001b[0m_ring\u001b[0m\u001b[0;34m)\u001b[0m\u001b[0;34m\u001b[0m\u001b[0;34m\u001b[0m\u001b[0m\n",
      "\u001b[0;32m/opt/sagemath-9.0/local/lib/python3.7/site-packages/sage/structure/parent.pyx\u001b[0m in \u001b[0;36msage.structure.parent.Parent.__call__ (build/cythonized/sage/structure/parent.c:9218)\u001b[0;34m()\u001b[0m\n\u001b[1;32m    899\u001b[0m             \u001b[0;32mif\u001b[0m \u001b[0mno_extra_args\u001b[0m\u001b[0;34m:\u001b[0m\u001b[0;34m\u001b[0m\u001b[0;34m\u001b[0m\u001b[0m\n\u001b[0;32m--> 900\u001b[0;31m                 \u001b[0;32mreturn\u001b[0m \u001b[0mmor\u001b[0m\u001b[0;34m.\u001b[0m\u001b[0m_call_\u001b[0m\u001b[0;34m(\u001b[0m\u001b[0mx\u001b[0m\u001b[0;34m)\u001b[0m\u001b[0;34m\u001b[0m\u001b[0;34m\u001b[0m\u001b[0m\n\u001b[0m\u001b[1;32m    901\u001b[0m             \u001b[0;32melse\u001b[0m\u001b[0;34m:\u001b[0m\u001b[0;34m\u001b[0m\u001b[0;34m\u001b[0m\u001b[0m\n",
      "\u001b[0;32m/opt/sagemath-9.0/local/lib/python3.7/site-packages/sage/structure/coerce_maps.pyx\u001b[0m in \u001b[0;36msage.structure.coerce_maps.DefaultConvertMap_unique._call_ (build/cythonized/sage/structure/coerce_maps.c:4556)\u001b[0;34m()\u001b[0m\n\u001b[1;32m    160\u001b[0m                 \u001b[0mprint\u001b[0m\u001b[0;34m(\u001b[0m\u001b[0mtype\u001b[0m\u001b[0;34m(\u001b[0m\u001b[0mC\u001b[0m\u001b[0;34m.\u001b[0m\u001b[0m_element_constructor\u001b[0m\u001b[0;34m)\u001b[0m\u001b[0;34m,\u001b[0m \u001b[0mC\u001b[0m\u001b[0;34m.\u001b[0m\u001b[0m_element_constructor\u001b[0m\u001b[0;34m)\u001b[0m\u001b[0;34m\u001b[0m\u001b[0;34m\u001b[0m\u001b[0m\n\u001b[0;32m--> 161\u001b[0;31m             \u001b[0;32mraise\u001b[0m\u001b[0;34m\u001b[0m\u001b[0;34m\u001b[0m\u001b[0m\n\u001b[0m\u001b[1;32m    162\u001b[0m \u001b[0;34m\u001b[0m\u001b[0m\n",
      "\u001b[0;32m/opt/sagemath-9.0/local/lib/python3.7/site-packages/sage/structure/coerce_maps.pyx\u001b[0m in \u001b[0;36msage.structure.coerce_maps.DefaultConvertMap_unique._call_ (build/cythonized/sage/structure/coerce_maps.c:4448)\u001b[0;34m()\u001b[0m\n\u001b[1;32m    155\u001b[0m         \u001b[0;32mtry\u001b[0m\u001b[0;34m:\u001b[0m\u001b[0;34m\u001b[0m\u001b[0;34m\u001b[0m\u001b[0m\n\u001b[0;32m--> 156\u001b[0;31m             \u001b[0;32mreturn\u001b[0m \u001b[0mC\u001b[0m\u001b[0;34m.\u001b[0m\u001b[0m_element_constructor\u001b[0m\u001b[0;34m(\u001b[0m\u001b[0mx\u001b[0m\u001b[0;34m)\u001b[0m\u001b[0;34m\u001b[0m\u001b[0;34m\u001b[0m\u001b[0m\n\u001b[0m\u001b[1;32m    157\u001b[0m         \u001b[0;32mexcept\u001b[0m \u001b[0mException\u001b[0m\u001b[0;34m:\u001b[0m\u001b[0;34m\u001b[0m\u001b[0;34m\u001b[0m\u001b[0m\n",
      "\u001b[0;32m/opt/sagemath-9.0/local/lib/python3.7/site-packages/sage/rings/finite_rings/integer_mod_ring.py\u001b[0m in \u001b[0;36m_element_constructor_\u001b[0;34m(self, x)\u001b[0m\n\u001b[1;32m   1161\u001b[0m         \u001b[0;32mtry\u001b[0m\u001b[0;34m:\u001b[0m\u001b[0;34m\u001b[0m\u001b[0;34m\u001b[0m\u001b[0m\n\u001b[0;32m-> 1162\u001b[0;31m             \u001b[0;32mreturn\u001b[0m \u001b[0minteger_mod\u001b[0m\u001b[0;34m.\u001b[0m\u001b[0mIntegerMod\u001b[0m\u001b[0;34m(\u001b[0m\u001b[0mself\u001b[0m\u001b[0;34m,\u001b[0m \u001b[0mx\u001b[0m\u001b[0;34m)\u001b[0m\u001b[0;34m\u001b[0m\u001b[0;34m\u001b[0m\u001b[0m\n\u001b[0m\u001b[1;32m   1163\u001b[0m         \u001b[0;32mexcept\u001b[0m \u001b[0;34m(\u001b[0m\u001b[0mNotImplementedError\u001b[0m\u001b[0;34m,\u001b[0m \u001b[0mPariError\u001b[0m\u001b[0;34m)\u001b[0m\u001b[0;34m:\u001b[0m\u001b[0;34m\u001b[0m\u001b[0;34m\u001b[0m\u001b[0m\n",
      "\u001b[0;32m/opt/sagemath-9.0/local/lib/python3.7/site-packages/sage/rings/finite_rings/integer_mod.pyx\u001b[0m in \u001b[0;36msage.rings.finite_rings.integer_mod.IntegerMod (build/cythonized/sage/rings/finite_rings/integer_mod.c:4671)\u001b[0;34m()\u001b[0m\n\u001b[1;32m    198\u001b[0m     \u001b[0mt\u001b[0m \u001b[0;34m=\u001b[0m \u001b[0mmodulus\u001b[0m\u001b[0;34m.\u001b[0m\u001b[0melement_class\u001b[0m\u001b[0;34m(\u001b[0m\u001b[0;34m)\u001b[0m\u001b[0;34m\u001b[0m\u001b[0;34m\u001b[0m\u001b[0m\n\u001b[0;32m--> 199\u001b[0;31m     \u001b[0;32mreturn\u001b[0m \u001b[0mt\u001b[0m\u001b[0;34m(\u001b[0m\u001b[0mparent\u001b[0m\u001b[0;34m,\u001b[0m \u001b[0mvalue\u001b[0m\u001b[0;34m)\u001b[0m\u001b[0;34m\u001b[0m\u001b[0;34m\u001b[0m\u001b[0m\n\u001b[0m\u001b[1;32m    200\u001b[0m \u001b[0;34m\u001b[0m\u001b[0m\n",
      "\u001b[0;32m/opt/sagemath-9.0/local/lib/python3.7/site-packages/sage/rings/finite_rings/integer_mod.pyx\u001b[0m in \u001b[0;36msage.rings.finite_rings.integer_mod.IntegerMod_abstract.__init__ (build/cythonized/sage/rings/finite_rings/integer_mod.c:6216)\u001b[0;34m()\u001b[0m\n\u001b[1;32m    388\u001b[0m                 \u001b[0;32melse\u001b[0m\u001b[0;34m:\u001b[0m\u001b[0;34m\u001b[0m\u001b[0;34m\u001b[0m\u001b[0m\n\u001b[0;32m--> 389\u001b[0;31m                     \u001b[0;32mraise\u001b[0m\u001b[0;34m\u001b[0m\u001b[0;34m\u001b[0m\u001b[0m\n\u001b[0m\u001b[1;32m    390\u001b[0m         \u001b[0mself\u001b[0m\u001b[0;34m.\u001b[0m\u001b[0mset_from_mpz\u001b[0m\u001b[0;34m(\u001b[0m\u001b[0mz\u001b[0m\u001b[0;34m.\u001b[0m\u001b[0mvalue\u001b[0m\u001b[0;34m)\u001b[0m\u001b[0;34m\u001b[0m\u001b[0;34m\u001b[0m\u001b[0m\n",
      "\u001b[0;32m/opt/sagemath-9.0/local/lib/python3.7/site-packages/sage/rings/finite_rings/integer_mod.pyx\u001b[0m in \u001b[0;36msage.rings.finite_rings.integer_mod.IntegerMod_abstract.__init__ (build/cythonized/sage/rings/finite_rings/integer_mod.c:5965)\u001b[0;34m()\u001b[0m\n\u001b[1;32m    377\u001b[0m             \u001b[0;32mtry\u001b[0m\u001b[0;34m:\u001b[0m\u001b[0;34m\u001b[0m\u001b[0;34m\u001b[0m\u001b[0m\n\u001b[0;32m--> 378\u001b[0;31m                 \u001b[0mz\u001b[0m \u001b[0;34m=\u001b[0m \u001b[0minteger_ring\u001b[0m\u001b[0;34m.\u001b[0m\u001b[0mZ\u001b[0m\u001b[0;34m(\u001b[0m\u001b[0mvalue\u001b[0m\u001b[0;34m)\u001b[0m\u001b[0;34m\u001b[0m\u001b[0;34m\u001b[0m\u001b[0m\n\u001b[0m\u001b[1;32m    379\u001b[0m             \u001b[0;32mexcept\u001b[0m \u001b[0;34m(\u001b[0m\u001b[0mTypeError\u001b[0m\u001b[0;34m,\u001b[0m \u001b[0mValueError\u001b[0m\u001b[0;34m)\u001b[0m\u001b[0;34m:\u001b[0m\u001b[0;34m\u001b[0m\u001b[0;34m\u001b[0m\u001b[0m\n",
      "\u001b[0;32m/opt/sagemath-9.0/local/lib/python3.7/site-packages/sage/structure/parent.pyx\u001b[0m in \u001b[0;36msage.structure.parent.Parent.__call__ (build/cythonized/sage/structure/parent.c:9218)\u001b[0;34m()\u001b[0m\n\u001b[1;32m    899\u001b[0m             \u001b[0;32mif\u001b[0m \u001b[0mno_extra_args\u001b[0m\u001b[0;34m:\u001b[0m\u001b[0;34m\u001b[0m\u001b[0;34m\u001b[0m\u001b[0m\n\u001b[0;32m--> 900\u001b[0;31m                 \u001b[0;32mreturn\u001b[0m \u001b[0mmor\u001b[0m\u001b[0;34m.\u001b[0m\u001b[0m_call_\u001b[0m\u001b[0;34m(\u001b[0m\u001b[0mx\u001b[0m\u001b[0;34m)\u001b[0m\u001b[0;34m\u001b[0m\u001b[0;34m\u001b[0m\u001b[0m\n\u001b[0m\u001b[1;32m    901\u001b[0m             \u001b[0;32melse\u001b[0m\u001b[0;34m:\u001b[0m\u001b[0;34m\u001b[0m\u001b[0;34m\u001b[0m\u001b[0m\n",
      "\u001b[0;32m/opt/sagemath-9.0/local/lib/python3.7/site-packages/sage/structure/coerce_maps.pyx\u001b[0m in \u001b[0;36msage.structure.coerce_maps.DefaultConvertMap_unique._call_ (build/cythonized/sage/structure/coerce_maps.c:4556)\u001b[0;34m()\u001b[0m\n\u001b[1;32m    160\u001b[0m                 \u001b[0mprint\u001b[0m\u001b[0;34m(\u001b[0m\u001b[0mtype\u001b[0m\u001b[0;34m(\u001b[0m\u001b[0mC\u001b[0m\u001b[0;34m.\u001b[0m\u001b[0m_element_constructor\u001b[0m\u001b[0;34m)\u001b[0m\u001b[0;34m,\u001b[0m \u001b[0mC\u001b[0m\u001b[0;34m.\u001b[0m\u001b[0m_element_constructor\u001b[0m\u001b[0;34m)\u001b[0m\u001b[0;34m\u001b[0m\u001b[0;34m\u001b[0m\u001b[0m\n\u001b[0;32m--> 161\u001b[0;31m             \u001b[0;32mraise\u001b[0m\u001b[0;34m\u001b[0m\u001b[0;34m\u001b[0m\u001b[0m\n\u001b[0m\u001b[1;32m    162\u001b[0m \u001b[0;34m\u001b[0m\u001b[0m\n",
      "\u001b[0;32m/opt/sagemath-9.0/local/lib/python3.7/site-packages/sage/structure/coerce_maps.pyx\u001b[0m in \u001b[0;36msage.structure.coerce_maps.DefaultConvertMap_unique._call_ (build/cythonized/sage/structure/coerce_maps.c:4448)\u001b[0;34m()\u001b[0m\n\u001b[1;32m    155\u001b[0m         \u001b[0;32mtry\u001b[0m\u001b[0;34m:\u001b[0m\u001b[0;34m\u001b[0m\u001b[0;34m\u001b[0m\u001b[0m\n\u001b[0;32m--> 156\u001b[0;31m             \u001b[0;32mreturn\u001b[0m \u001b[0mC\u001b[0m\u001b[0;34m.\u001b[0m\u001b[0m_element_constructor\u001b[0m\u001b[0;34m(\u001b[0m\u001b[0mx\u001b[0m\u001b[0;34m)\u001b[0m\u001b[0;34m\u001b[0m\u001b[0;34m\u001b[0m\u001b[0m\n\u001b[0m\u001b[1;32m    157\u001b[0m         \u001b[0;32mexcept\u001b[0m \u001b[0mException\u001b[0m\u001b[0;34m:\u001b[0m\u001b[0;34m\u001b[0m\u001b[0;34m\u001b[0m\u001b[0m\n",
      "\u001b[0;32m/opt/sagemath-9.0/local/lib/python3.7/site-packages/sage/rings/integer.pyx\u001b[0m in \u001b[0;36msage.rings.integer.Integer.__init__ (build/cythonized/sage/rings/integer.c:6967)\u001b[0;34m()\u001b[0m\n\u001b[1;32m    741\u001b[0m \u001b[0;34m\u001b[0m\u001b[0m\n\u001b[0;32m--> 742\u001b[0;31m                 \u001b[0;32mraise\u001b[0m \u001b[0mTypeError\u001b[0m\u001b[0;34m(\u001b[0m\u001b[0;34m\"unable to coerce %s to an integer\"\u001b[0m \u001b[0;34m%\u001b[0m \u001b[0mtype\u001b[0m\u001b[0;34m(\u001b[0m\u001b[0mx\u001b[0m\u001b[0;34m)\u001b[0m\u001b[0;34m)\u001b[0m\u001b[0;34m\u001b[0m\u001b[0;34m\u001b[0m\u001b[0m\n\u001b[0m\u001b[1;32m    743\u001b[0m \u001b[0;34m\u001b[0m\u001b[0m\n",
      "\u001b[0;31mTypeError\u001b[0m: unable to coerce <class 'list'> to an integer",
      "\nDuring handling of the above exception, another exception occurred:\n",
      "\u001b[0;31mTypeError\u001b[0m                                 Traceback (most recent call last)",
      "\u001b[0;32m<ipython-input-52-8444cf3fd2e9>\u001b[0m in \u001b[0;36m<module>\u001b[0;34m()\u001b[0m\n\u001b[0;32m----> 1\u001b[0;31m \u001b[0mR\u001b[0m\u001b[0;34m(\u001b[0m\u001b[0mideallist\u001b[0m\u001b[0;34m)\u001b[0m\u001b[0;34m\u001b[0m\u001b[0;34m\u001b[0m\u001b[0m\n\u001b[0m",
      "\u001b[0;32m/opt/sagemath-9.0/local/lib/python3.7/site-packages/sage/structure/parent.pyx\u001b[0m in \u001b[0;36msage.structure.parent.Parent.__call__ (build/cythonized/sage/structure/parent.c:9218)\u001b[0;34m()\u001b[0m\n\u001b[1;32m    898\u001b[0m         \u001b[0;32mif\u001b[0m \u001b[0mmor\u001b[0m \u001b[0;32mis\u001b[0m \u001b[0;32mnot\u001b[0m \u001b[0;32mNone\u001b[0m\u001b[0;34m:\u001b[0m\u001b[0;34m\u001b[0m\u001b[0;34m\u001b[0m\u001b[0m\n\u001b[1;32m    899\u001b[0m             \u001b[0;32mif\u001b[0m \u001b[0mno_extra_args\u001b[0m\u001b[0;34m:\u001b[0m\u001b[0;34m\u001b[0m\u001b[0;34m\u001b[0m\u001b[0m\n\u001b[0;32m--> 900\u001b[0;31m                 \u001b[0;32mreturn\u001b[0m \u001b[0mmor\u001b[0m\u001b[0;34m.\u001b[0m\u001b[0m_call_\u001b[0m\u001b[0;34m(\u001b[0m\u001b[0mx\u001b[0m\u001b[0;34m)\u001b[0m\u001b[0;34m\u001b[0m\u001b[0;34m\u001b[0m\u001b[0m\n\u001b[0m\u001b[1;32m    901\u001b[0m             \u001b[0;32melse\u001b[0m\u001b[0;34m:\u001b[0m\u001b[0;34m\u001b[0m\u001b[0;34m\u001b[0m\u001b[0m\n\u001b[1;32m    902\u001b[0m                 \u001b[0;32mreturn\u001b[0m \u001b[0mmor\u001b[0m\u001b[0;34m.\u001b[0m\u001b[0m_call_with_args\u001b[0m\u001b[0;34m(\u001b[0m\u001b[0mx\u001b[0m\u001b[0;34m,\u001b[0m \u001b[0margs\u001b[0m\u001b[0;34m,\u001b[0m \u001b[0mkwds\u001b[0m\u001b[0;34m)\u001b[0m\u001b[0;34m\u001b[0m\u001b[0;34m\u001b[0m\u001b[0m\n",
      "\u001b[0;32m/opt/sagemath-9.0/local/lib/python3.7/site-packages/sage/structure/coerce_maps.pyx\u001b[0m in \u001b[0;36msage.structure.coerce_maps.DefaultConvertMap_unique._call_ (build/cythonized/sage/structure/coerce_maps.c:4556)\u001b[0;34m()\u001b[0m\n\u001b[1;32m    159\u001b[0m                 \u001b[0mprint\u001b[0m\u001b[0;34m(\u001b[0m\u001b[0mtype\u001b[0m\u001b[0;34m(\u001b[0m\u001b[0mC\u001b[0m\u001b[0;34m)\u001b[0m\u001b[0;34m,\u001b[0m \u001b[0mC\u001b[0m\u001b[0;34m)\u001b[0m\u001b[0;34m\u001b[0m\u001b[0;34m\u001b[0m\u001b[0m\n\u001b[1;32m    160\u001b[0m                 \u001b[0mprint\u001b[0m\u001b[0;34m(\u001b[0m\u001b[0mtype\u001b[0m\u001b[0;34m(\u001b[0m\u001b[0mC\u001b[0m\u001b[0;34m.\u001b[0m\u001b[0m_element_constructor\u001b[0m\u001b[0;34m)\u001b[0m\u001b[0;34m,\u001b[0m \u001b[0mC\u001b[0m\u001b[0;34m.\u001b[0m\u001b[0m_element_constructor\u001b[0m\u001b[0;34m)\u001b[0m\u001b[0;34m\u001b[0m\u001b[0;34m\u001b[0m\u001b[0m\n\u001b[0;32m--> 161\u001b[0;31m             \u001b[0;32mraise\u001b[0m\u001b[0;34m\u001b[0m\u001b[0;34m\u001b[0m\u001b[0m\n\u001b[0m\u001b[1;32m    162\u001b[0m \u001b[0;34m\u001b[0m\u001b[0m\n\u001b[1;32m    163\u001b[0m     \u001b[0mcpdef\u001b[0m \u001b[0mElement\u001b[0m \u001b[0m_call_with_args\u001b[0m\u001b[0;34m(\u001b[0m\u001b[0mself\u001b[0m\u001b[0;34m,\u001b[0m \u001b[0mx\u001b[0m\u001b[0;34m,\u001b[0m \u001b[0margs\u001b[0m\u001b[0;34m=\u001b[0m\u001b[0;34m(\u001b[0m\u001b[0;34m)\u001b[0m\u001b[0;34m,\u001b[0m \u001b[0mkwds\u001b[0m\u001b[0;34m=\u001b[0m\u001b[0;34m{\u001b[0m\u001b[0;34m}\u001b[0m\u001b[0;34m)\u001b[0m\u001b[0;34m:\u001b[0m\u001b[0;34m\u001b[0m\u001b[0;34m\u001b[0m\u001b[0m\n",
      "\u001b[0;32m/opt/sagemath-9.0/local/lib/python3.7/site-packages/sage/structure/coerce_maps.pyx\u001b[0m in \u001b[0;36msage.structure.coerce_maps.DefaultConvertMap_unique._call_ (build/cythonized/sage/structure/coerce_maps.c:4448)\u001b[0;34m()\u001b[0m\n\u001b[1;32m    154\u001b[0m         \u001b[0mcdef\u001b[0m \u001b[0mParent\u001b[0m \u001b[0mC\u001b[0m \u001b[0;34m=\u001b[0m \u001b[0mself\u001b[0m\u001b[0;34m.\u001b[0m\u001b[0m_codomain\u001b[0m\u001b[0;34m\u001b[0m\u001b[0;34m\u001b[0m\u001b[0m\n\u001b[1;32m    155\u001b[0m         \u001b[0;32mtry\u001b[0m\u001b[0;34m:\u001b[0m\u001b[0;34m\u001b[0m\u001b[0;34m\u001b[0m\u001b[0m\n\u001b[0;32m--> 156\u001b[0;31m             \u001b[0;32mreturn\u001b[0m \u001b[0mC\u001b[0m\u001b[0;34m.\u001b[0m\u001b[0m_element_constructor\u001b[0m\u001b[0;34m(\u001b[0m\u001b[0mx\u001b[0m\u001b[0;34m)\u001b[0m\u001b[0;34m\u001b[0m\u001b[0;34m\u001b[0m\u001b[0m\n\u001b[0m\u001b[1;32m    157\u001b[0m         \u001b[0;32mexcept\u001b[0m \u001b[0mException\u001b[0m\u001b[0;34m:\u001b[0m\u001b[0;34m\u001b[0m\u001b[0;34m\u001b[0m\u001b[0m\n\u001b[1;32m    158\u001b[0m             \u001b[0;32mif\u001b[0m \u001b[0mprint_warnings\u001b[0m\u001b[0;34m:\u001b[0m\u001b[0;34m\u001b[0m\u001b[0;34m\u001b[0m\u001b[0m\n",
      "\u001b[0;32m/opt/sagemath-9.0/local/lib/python3.7/site-packages/sage/rings/polynomial/multi_polynomial_libsingular.pyx\u001b[0m in \u001b[0;36msage.rings.polynomial.multi_polynomial_libsingular.MPolynomialRing_libsingular._element_constructor_ (build/cythonized/sage/rings/polynomial/multi_polynomial_libsingular.cpp:12339)\u001b[0;34m()\u001b[0m\n\u001b[1;32m   1044\u001b[0m             \u001b[0;32mreturn\u001b[0m \u001b[0mnew_MP\u001b[0m\u001b[0;34m(\u001b[0m\u001b[0mself\u001b[0m\u001b[0;34m,\u001b[0m\u001b[0m_p\u001b[0m\u001b[0;34m)\u001b[0m\u001b[0;34m\u001b[0m\u001b[0;34m\u001b[0m\u001b[0m\n\u001b[1;32m   1045\u001b[0m         \u001b[0;32mexcept\u001b[0m \u001b[0;34m(\u001b[0m\u001b[0mTypeError\u001b[0m\u001b[0;34m,\u001b[0m \u001b[0mValueError\u001b[0m\u001b[0;34m)\u001b[0m\u001b[0;34m:\u001b[0m\u001b[0;34m\u001b[0m\u001b[0;34m\u001b[0m\u001b[0m\n\u001b[0;32m-> 1046\u001b[0;31m             \u001b[0;32mraise\u001b[0m \u001b[0mTypeError\u001b[0m\u001b[0;34m(\u001b[0m\u001b[0;34m\"Could not find a mapping of the passed element to this ring.\"\u001b[0m\u001b[0;34m)\u001b[0m\u001b[0;34m\u001b[0m\u001b[0;34m\u001b[0m\u001b[0m\n\u001b[0m\u001b[1;32m   1047\u001b[0m \u001b[0;34m\u001b[0m\u001b[0m\n\u001b[1;32m   1048\u001b[0m     \u001b[0;32mdef\u001b[0m \u001b[0m_repr_\u001b[0m\u001b[0;34m(\u001b[0m\u001b[0mself\u001b[0m\u001b[0;34m)\u001b[0m\u001b[0;34m:\u001b[0m\u001b[0;34m\u001b[0m\u001b[0;34m\u001b[0m\u001b[0m\n",
      "\u001b[0;31mTypeError\u001b[0m: Could not find a mapping of the passed element to this ring."
     ]
    }
   ],
   "source": [
    "R(ideallist)"
   ]
  },
  {
   "cell_type": "code",
   "execution_count": 64,
   "metadata": {},
   "outputs": [
    {
     "data": {
      "text/plain": [
       "'[  x0^2]\\n[ x0*x1]\\n[ x0*x2]\\n[ x0*x3]\\n[ x0*x4]\\n[ x0*x5]\\n[ x0*x6]\\n[ x0*x7]\\n[ x0*x8]\\n[ x0*x9]\\n[x0*x10]\\n[x0*x11]\\n[x0*x12]\\n[x0*x13]\\n[x0*x14]\\n[x0*x15]\\n[x0*x16]\\n[x0*x17]\\n[x0*x18]\\n[x0*x19]\\n[x0*x20]\\n[x0*x21]\\n[x0*x22]\\n[x0*x23]\\n[x0*x24]\\n[x0*x25]\\n[x0*x26]\\n[x0*x27]\\n[x0*x28]\\n[x0*x29]\\n[x0*x30]\\n[x0*x31]\\n[x0*x32]\\n[x0*x33]\\n[x0*x34]\\n[x0*x35]'"
      ]
     },
     "execution_count": 64,
     "metadata": {},
     "output_type": "execute_result"
    }
   ],
   "source": [
    "v.str()"
   ]
  },
  {
   "cell_type": "code",
   "execution_count": 67,
   "metadata": {},
   "outputs": [
    {
     "data": {
      "text/plain": [
       "(2, 1, 2, 2, 1, 5, 4, 1, 2, 2, 1, 5, 3, 6, 5, 5, 6, 2, 0, 0, 0, 0, 0, 0, 3, 6, 5, 5, 6, 2, 0, 0, 0, 0, 0, 0)"
      ]
     },
     "execution_count": 67,
     "metadata": {},
     "output_type": "execute_result"
    }
   ],
   "source": []
  },
  {
   "cell_type": "code",
   "execution_count": 68,
   "metadata": {},
   "outputs": [
    {
     "data": {
      "text/plain": [
       "(0, 0, 0)"
      ]
     },
     "execution_count": 68,
     "metadata": {},
     "output_type": "execute_result"
    }
   ],
   "source": []
  },
  {
   "cell_type": "code",
   "execution_count": null,
   "metadata": {},
   "outputs": [],
   "source": [
    "indices"
   ]
  },
  {
   "cell_type": "code",
   "execution_count": 135,
   "metadata": {},
   "outputs": [],
   "source": [
    "##experimental function \n",
    "\n",
    "def F_matrix_coeff(y,x,k,A, B = None): \n",
    "        ##print(y,x)\n",
    "        r = 1 \n",
    "        t1, a1, t2, a2, c, jx,jy, lx, ly = getIndices(y,x, k, r)\n",
    "        if( lx*k^2 + ly*k > jx * k^2 + jy*k): \n",
    "            return 0\n",
    "        if B == None: \n",
    "\n",
    "            if x < r*k:\n",
    "\n",
    "                return A[x][jy][ly]*A[x][jx][lx] - A[x][jy][lx]*A[x][jx][ly]\n",
    "            else: \n",
    "\n",
    "                x = (r*k+1)*(r*k)/2 - x\n",
    "                ##x = x - rk\n",
    "                start = r*k*(r*k-1)/2\n",
    "                x1 = 1\n",
    "                x2 = 0\n",
    "                for i in range(r*k-1):\n",
    "                    start -= r*k-1 - i\n",
    "                    if x> start:\n",
    "                        x1 = r*k-1 - i \n",
    "                        x2 = x - start - 1\n",
    "                        break\n",
    "                ##print(x1, x2)\n",
    "                return A[x1][jy][ly]*A[x2][jx][lx] - A[x1][jy][lx]*A[x2][jx][ly] + A[x2][jy][ly]*A[x1][jx][lx] - A[x2][jy][lx]*A[x1][jx][ly]\n",
    "\n",
    "\n",
    "        if B != None: \n",
    "            x1 = x // int(k)\n",
    "            x2 = x % int(k)\n",
    "            return A[x1][jy][ly]*B[x2][jx][lx] - A[x1][jy][lx]*B[x2][jx][ly] + B[x2][jy][ly]*A[x1][jx][lx] - B[x2][jy][lx]*A[x1][jx][ly]\n",
    "\n",
    "            \n"
   ]
  },
  {
   "cell_type": "code",
   "execution_count": 534,
   "metadata": {},
   "outputs": [
    {
     "name": "stdout",
     "output_type": "stream",
     "text": [
      "[0 3 3 5 4 3 1 0 5 4 4 1 2 6]\n",
      "[3 0 5 5 4 2 5 2 2 5 0 4 5 4]\n",
      "[2 3 3 3 3 4 1 1 1 3 3 6 6 0]\n",
      "[4 6 6 2 3 6 0 1 1 6 0 1 4 1]\n",
      "[6 3 1 3 4 1 6 1 0 3 1 1 6 6]\n",
      "[5 6 2 1 1 0 6 6 3 6 3 2 2 0]\n",
      "[3 0 2 4 6 5 5 5 0 6 4 0 6 4]\n",
      "[0 0 3 1 0 2 2 2 0 6 5 0 2 1]\n",
      "[2 6 1 3 1 2 5 3 6 2 6 1 1 0]\n",
      "[4 4 0 3 6 6 1 6 3 3 0 6 5 1]\n",
      "[0 2 0 6 4 0 5 4 0 6 4 5 0 6]\n",
      "[1 0 2 2 2 4 2 6 4 1 5 5 2 0]\n",
      "[1 0 4 1 6 5 2 0 6 6 3 4 4 0]\n",
      "[5 2 1 3 2 4 3 2 6 1 3 6 0 5]\n",
      "6*a + 5*z^6 + 4*z^5 + 2*z^4 + 3*z^2 + 5*z + 6\n"
     ]
    }
   ],
   "source": [
    "q = 7\n",
    "basefield = GF(q)\n",
    "k = 7\n",
    "r = 2\n",
    "rk = r*k\n",
    "y, F, F_r, c, d = ConstructSidon2k(q, k)\n",
    "matrixList, sidonbasis, mult_table, F_r_basis , origbasis = publicKey(y,q,F,F_r)\n",
    "basefield = GF(q)\n",
    "print(y)"
   ]
  },
  {
   "cell_type": "code",
   "execution_count": 536,
   "metadata": {},
   "outputs": [],
   "source": [
    "origbasis_q = [vector(F(origbasis[i])^q) for i in range(k)]\n",
    "origbasis_q = Matrix(origbasis_q)\n",
    "origbasis = Matrix([vector(F(origbasis[i])) for i in range(k)])\n",
    "origbasiselements = [F(origbasis[i]) for i in range(k)]\n",
    "E_ = (origbasis_q*origbasis.inverse()).transpose()"
   ]
  },
  {
   "cell_type": "code",
   "execution_count": 537,
   "metadata": {},
   "outputs": [],
   "source": [
    "mult_table = vector(origbasiselements).column()*vector(origbasiselements).row()"
   ]
  },
  {
   "cell_type": "code",
   "execution_count": 538,
   "metadata": {},
   "outputs": [],
   "source": [
    "cob_matrix = origbasis.inverse()\n",
    "\n",
    "vec_list = [[0 for i in range(k)] for j in range(k)]\n",
    "\n",
    "##Generate the public key M(V,B)\n",
    "for i in range(k): \n",
    "    for j in range(k):\n",
    "        element = mult_table[i][j]\n",
    "        long_representation = vector(element)\n",
    "        vec_list[i][j] = list(long_representation*cob_matrix) \n",
    "D = [0 for i in range(k)]\n",
    "\n",
    "##Return the public key \n",
    "for i in range(k): \n",
    "    D[i] = Matrix(basefield, k, lambda l,j: vec_list[l][j][i])"
   ]
  },
  {
   "cell_type": "code",
   "execution_count": 539,
   "metadata": {},
   "outputs": [],
   "source": [
    "F = [D[i]*E_ + E_.transpose()*D[i] for i in range(k)]\n",
    "G = [E_.transpose()*D[i]*E_ for i in range(k)]"
   ]
  },
  {
   "cell_type": "code",
   "execution_count": 515,
   "metadata": {},
   "outputs": [],
   "source": [
    "D_D = Matrix((k*(k-1)/2)^2, k*(k+1)/2, lambda y,x: F_matrix_coeff(y,x,k,D) )\n",
    "F_F = Matrix((k*(k-1)/2)^2, k*(k+1)/2, lambda y,x: F_matrix_coeff(y,x,k,F) )\n",
    "G_G = Matrix((k*(k-1)/2)^2, k*(k+1)/2, lambda y,x: F_matrix_coeff(y,x,k,G) )\n",
    "D_F = Matrix((k*(k-1)/2)^2, k^2, lambda y,x: F_matrix_coeff(y,x,k,D,F) )\n",
    "D_G = Matrix((k*(k-1)/2)^2, k^2, lambda y,x: F_matrix_coeff(y,x,k,D,G) )\n",
    "F_G = Matrix((k*(k-1)/2)^2, k^2, lambda y,x: F_matrix_coeff(y,x,k,F,G) )"
   ]
  },
  {
   "cell_type": "code",
   "execution_count": 37,
   "metadata": {},
   "outputs": [
    {
     "data": {
      "text/plain": [
       "[0 4 1]\n",
       "[0 1 1]\n",
       "[3 0 2]"
      ]
     },
     "execution_count": 37,
     "metadata": {},
     "output_type": "execute_result"
    }
   ],
   "source": []
  },
  {
   "cell_type": "code",
   "execution_count": 38,
   "metadata": {},
   "outputs": [
    {
     "data": {
      "text/plain": [
       "[4 3 3]\n",
       "[2 1 2]\n",
       "[4 4 0]"
      ]
     },
     "execution_count": 38,
     "metadata": {},
     "output_type": "execute_result"
    }
   ],
   "source": []
  },
  {
   "cell_type": "code",
   "execution_count": 411,
   "metadata": {},
   "outputs": [
    {
     "name": "stdout",
     "output_type": "stream",
     "text": [
      "15 21 15 24 15 24\n"
     ]
    }
   ],
   "source": [
    "print(D_D.rank(),F_F.rank(),G_G.rank(),D_F.rank(),D_G.rank(),F_G.rank())"
   ]
  },
  {
   "cell_type": "code",
   "execution_count": 412,
   "metadata": {},
   "outputs": [
    {
     "data": {
      "text/plain": [
       "54"
      ]
     },
     "execution_count": 412,
     "metadata": {},
     "output_type": "execute_result"
    }
   ],
   "source": [
    "short_stack = D_D.transpose().stack(F_F.transpose().stack(D_F.transpose()))\n",
    "short_stack.rank()"
   ]
  },
  {
   "cell_type": "code",
   "execution_count": 389,
   "metadata": {},
   "outputs": [],
   "source": [
    "full_stack = D_D.transpose().stack(G_G.transpose().stack(F_F.transpose().stack( D_F.transpose().stack(D_G.transpose().stack( F_G.transpose()))))).transpose()"
   ]
  },
  {
   "cell_type": "code",
   "execution_count": 390,
   "metadata": {},
   "outputs": [
    {
     "data": {
      "text/plain": [
       "54"
      ]
     },
     "execution_count": 390,
     "metadata": {},
     "output_type": "execute_result"
    }
   ],
   "source": [
    "full_stack.rank()"
   ]
  },
  {
   "cell_type": "code",
   "execution_count": 112,
   "metadata": {},
   "outputs": [],
   "source": [
    "def fakePublicKey(y,q, F, F_r): \n",
    "    ##Generates the public key (and associated private key) using info from the given sidon space \n",
    "    p = F.characteristic()\n",
    "    k = len(F.modulus().list()) - 1\n",
    "    print(k)\n",
    "    r = len(F_r.modulus().list()) - 1\n",
    "\n",
    "    rk = (len(F_r.modulus().list()) - 1)*k\n",
    "    basefield = GF(q)\n",
    "    iterations = 0\n",
    "    iterations2 = 0\n",
    "    \n",
    "    ##Construct bases for the sidon space as well as F_r\n",
    "    sidonbasis = Matrix(basefield, k, lambda i,j: basefield.random_element()*0)\n",
    "    while sidonbasis.is_invertible() == False and iterations < 500:\n",
    "        element = F.random_element()\n",
    "        sidonbasis = Matrix([list(vector(element^(q^i))) for i in range(k)])\n",
    "        iterations += 1\n",
    "   \n",
    "    \n",
    "    ##Get the multiplication table from the basis of the sidon space\n",
    "    print(sidonbasis[0])\n",
    "    v = [F(list(sidonbasis[i])) for i in range(k)]\n",
    "    origbasis = sidonbasis\n",
    "    ##sidonbasis = [j + j^q*y for  j in v]\n",
    "    sidonbasis = [j + j^q*y for  j in v]\n",
    "    \n",
    "    \n",
    "    mult_table = vector(sidonbasis).column()*vector(sidonbasis).row()\n",
    "\n",
    "   \n",
    "\n",
    "    extended_basis = [[j*y^i for j in v] for i in range(r)]\n",
    "    vec_extended_basis  = []\n",
    "    for j in extended_basis:\n",
    "        vec_extended_basis += j\n",
    "    extended_basis  = Matrix([convertToLong(i) for i in vec_extended_basis])\n",
    "    assert(extended_basis.is_invertible() == True)\n",
    "    print(extended_basis.nrows(), extended_basis.ncols())\n",
    "    F_r_basis = extended_basis\n",
    "    assert(iterations<500 and iterations2<500)\n",
    "    cob_matrix = F_r_basis.inverse()\n",
    "    print(cob_matrix)\n",
    "    vec_list = [[0 for i in range(k)] for j in range(k)]\n",
    "\n",
    "    ##Generate the public key M(V,B)\n",
    "    for i in range(k): \n",
    "        for j in range(k):\n",
    "            element = mult_table[i][j]\n",
    "            long_representation = convertToLong(element)\n",
    "            vec_list[i][j] = list(long_representation*cob_matrix) \n",
    "    matrixlist = [0 for i in range(rk)]\n",
    "    \n",
    "    ##Return the public key \n",
    "    for i in range(rk): \n",
    "        matrixlist[i] = Matrix(basefield, k, lambda l,j: vec_list[l][j][i])\n",
    "    return matrixlist, sidonbasis, mult_table, F_r_basis, origbasis"
   ]
  },
  {
   "cell_type": "code",
   "execution_count": 340,
   "metadata": {},
   "outputs": [
    {
     "data": {
      "text/plain": [
       "4*a"
      ]
     },
     "execution_count": 340,
     "metadata": {},
     "output_type": "execute_result"
    }
   ],
   "source": [
    "y"
   ]
  },
  {
   "cell_type": "code",
   "execution_count": 535,
   "metadata": {},
   "outputs": [],
   "source": [
    "origbasis_y = [convertToLong(F(origbasis[i])*y*y^-1) for i in range(k)] + [convertToLong(y*F(origbasis[i])) for i in range(k)] \n",
    "origbasis_y = Matrix(origbasis_y)\n",
    "origbasis_y2 = Matrix([convertToLong(F(origbasis[i])*y^2) for i in range(k)])\n",
    "origbasiselements = [F(origbasis[i])*y*y^-1 for i in range(k)] + [y*F(origbasis[i]) for i in range(k)] \n",
    "R_ = origbasis_y2*origbasis_y.inverse()"
   ]
  },
  {
   "cell_type": "code",
   "execution_count": 540,
   "metadata": {},
   "outputs": [],
   "source": [
    "R_ = R_.transpose()\n",
    "R1 = R_[0:k]\n",
    "R2 = R_[k:]"
   ]
  },
  {
   "cell_type": "code",
   "execution_count": 541,
   "metadata": {},
   "outputs": [],
   "source": [
    "W_ = [D[i] + sum([R1[i][j]*G[j] for j in range(k)]) for i in range(k)]"
   ]
  },
  {
   "cell_type": "code",
   "execution_count": 542,
   "metadata": {},
   "outputs": [],
   "source": [
    "Q_ = [F[i] + sum([R2[i][j]*G[j] for j in range(k)]) for i in range(k)]"
   ]
  },
  {
   "cell_type": "code",
   "execution_count": 519,
   "metadata": {},
   "outputs": [
    {
     "data": {
      "text/plain": [
       "[2 1 2 4 1]\n",
       "[1 4 4 3 4]\n",
       "[3 2 2 1 2]\n",
       "[3 0 3 0 1]\n",
       "[0 4 1 0 2]\n",
       "[0 0 0 0 0]\n",
       "[0 0 0 0 0]\n",
       "[0 0 0 0 0]\n",
       "[0 0 0 0 0]\n",
       "[0 0 0 0 0]"
      ]
     },
     "execution_count": 519,
     "metadata": {},
     "output_type": "execute_result"
    }
   ],
   "source": [
    "R_"
   ]
  },
  {
   "cell_type": "code",
   "execution_count": 335,
   "metadata": {},
   "outputs": [
    {
     "data": {
      "text/plain": [
       "2*z^4 + 4*z^3 + z^2 + 3*z"
      ]
     },
     "execution_count": 335,
     "metadata": {},
     "output_type": "execute_result"
    }
   ],
   "source": [
    "F(origbasis[i])"
   ]
  },
  {
   "cell_type": "code",
   "execution_count": 543,
   "metadata": {},
   "outputs": [],
   "source": [
    "W_W = Matrix((k*(k-1)/2)^2, k*(k+1)/2, lambda y,x: F_matrix_coeff(y,x,k,W_) )\n",
    "Q_Q = Matrix((k*(k-1)/2)^2, k*(k+1)/2, lambda y,x: F_matrix_coeff(y,x,k,Q_) )\n",
    "Q_W = Matrix((k*(k-1)/2)^2, k^2, lambda y,x: F_matrix_coeff(y,x,k,Q_,W_) )"
   ]
  },
  {
   "cell_type": "code",
   "execution_count": 544,
   "metadata": {},
   "outputs": [
    {
     "name": "stdout",
     "output_type": "stream",
     "text": [
      "21 28 42\n"
     ]
    },
    {
     "data": {
      "text/plain": [
       "77"
      ]
     },
     "execution_count": 544,
     "metadata": {},
     "output_type": "execute_result"
    }
   ],
   "source": [
    "print(W_W.rank(),Q_Q.rank(),Q_W.rank())\n",
    "short_stack = W_W.transpose().stack(Q_Q.transpose().stack(Q_W.transpose()))\n",
    "short_stack.rank()"
   ]
  },
  {
   "cell_type": "code",
   "execution_count": 447,
   "metadata": {},
   "outputs": [
    {
     "data": {
      "text/plain": [
       "55"
      ]
     },
     "execution_count": 447,
     "metadata": {},
     "output_type": "execute_result"
    }
   ],
   "source": [
    "W_W.ncols() + Q_Q.ncols() + Q_W.ncols()"
   ]
  },
  {
   "cell_type": "code",
   "execution_count": 382,
   "metadata": {},
   "outputs": [
    {
     "data": {
      "text/plain": [
       "[4 3 1 2 0 3 1 0 4 3 2 2]\n",
       "[1 3 1 3 2 3 3 1 4 2 3 4]\n",
       "[4 1 0 0 0 0 0 1 0 0 0 1]\n",
       "[1 0 0 1 3 4 1 3 4 3 2 2]\n",
       "[1 4 3 0 4 2 4 3 1 2 0 2]\n",
       "[1 3 4 1 4 4 4 2 3 1 3 4]"
      ]
     },
     "execution_count": 382,
     "metadata": {},
     "output_type": "execute_result"
    }
   ],
   "source": [
    "R_"
   ]
  },
  {
   "cell_type": "code",
   "execution_count": 430,
   "metadata": {},
   "outputs": [
    {
     "data": {
      "text/plain": [
       "21"
      ]
     },
     "execution_count": 430,
     "metadata": {},
     "output_type": "execute_result"
    }
   ],
   "source": [
    "Q_W.ncols()"
   ]
  },
  {
   "cell_type": "code",
   "execution_count": 7,
   "metadata": {},
   "outputs": [
    {
     "name": "stdout",
     "output_type": "stream",
     "text": [
      "[1 1 0 1 0 0]\n",
      "[2 1 1 1 0 0]\n",
      "[1 2 0 2 0 2]\n",
      "[0 1 0 0 2 0]\n",
      "[0 2 1 2 2 1]\n",
      "[2 0 0 2 2 2]\n",
      "0\n",
      "Defining x0, x1, x2, x3, x4, x5, x6, x7, x8, x9, x10, x11, x12, x13, x14, x15, x16, x17, x18, x19, x20, x21, x22, x23, x24, x25, x26, x27, x28, x29, x30, x31, x32, x33, x34, x35\n"
     ]
    }
   ],
   "source": [
    "I = minorAttack(3,3)"
   ]
  },
  {
   "cell_type": "code",
   "execution_count": 8,
   "metadata": {},
   "outputs": [
    {
     "data": {
      "text/plain": [
       "Ideal (x1^2 + x0*x2 - x1*x2 + x2^2 + x0*x3 + x1*x3 + x2*x3 - x3^2 + x0*x4 - x1*x4 - x3*x4 - x4^2 + x0*x5 + x1*x5 + x2*x5 + x4*x5 - x5^2 - x2*x6 - x3*x6 - x4*x6 - x5*x6 + x1*x7 + x2*x7 - x3*x7 + x4*x7 - x5*x7 - x0*x8 + x1*x8 + x2*x8 - x3*x8 - x5*x8 - x0*x9 - x1*x9 - x2*x9 - x3*x9 + x4*x9 - x0*x10 + x1*x10 + x3*x10 - x4*x10 - x5*x10 - x0*x11 - x1*x11 - x2*x11 - x4*x11 - x5*x11 - x13^2 - x12*x14 + x13*x14 - x14^2 - x12*x15 - x13*x15 - x14*x15 + x15^2 - x12*x16 + x13*x16 + x15*x16 + x16^2 - x12*x17 - x13*x17 - x14*x17 - x16*x17 + x17^2 + x2*x18 + x3*x18 + x4*x18 + x5*x18 + x14*x18 + x15*x18 + x16*x18 + x17*x18 - x1*x19 - x2*x19 + x3*x19 - x4*x19 + x5*x19 - x13*x19 - x14*x19 + x15*x19 - x16*x19 + x17*x19 - x19^2 + x0*x20 - x1*x20 - x2*x20 + x3*x20 + x5*x20 + x12*x20 - x13*x20 - x14*x20 + x15*x20 + x17*x20 - x18*x20 + x19*x20 - x20^2 + x0*x21 + x1*x21 + x2*x21 + x3*x21 - x4*x21 + x12*x21 + x13*x21 + x14*x21 + x15*x21 - x16*x21 - x18*x21 - x19*x21 - x20*x21 + x21^2 + x0*x22 - x1*x22 - x3*x22 + x4*x22 + x5*x22 + x12*x22 - x13*x22 - x15*x22 + x16*x22 + x17*x22 - x18*x22 + x19*x22 + x21*x22 + x22^2 + x0*x23 + x1*x23 + x2*x23 + x4*x23 + x5*x23 + x12*x23 + x13*x23 + x14*x23 + x16*x23 + x17*x23 - x18*x23 - x19*x23 - x20*x23 - x22*x23 + x23^2 + x8*x24 + x9*x24 + x10*x24 + x11*x24 - x20*x24 - x21*x24 - x22*x24 - x23*x24 - x7*x25 - x8*x25 + x9*x25 - x10*x25 + x11*x25 + x19*x25 + x20*x25 - x21*x25 + x22*x25 - x23*x25 - x25^2 + x6*x26 - x7*x26 - x8*x26 + x9*x26 + x11*x26 - x18*x26 + x19*x26 + x20*x26 - x21*x26 - x23*x26 - x24*x26 + x25*x26 - x26^2 + x6*x27 + x7*x27 + x8*x27 + x9*x27 - x10*x27 - x18*x27 - x19*x27 - x20*x27 - x21*x27 + x22*x27 - x24*x27 - x25*x27 - x26*x27 + x27^2 + x6*x28 - x7*x28 - x9*x28 + x10*x28 + x11*x28 - x18*x28 + x19*x28 + x21*x28 - x22*x28 - x23*x28 - x24*x28 + x25*x28 + x27*x28 + x28^2 + x6*x29 + x7*x29 + x8*x29 + x10*x29 + x11*x29 - x18*x29 - x19*x29 - x20*x29 - x22*x29 - x23*x29 - x24*x29 - x25*x29 - x26*x29 - x28*x29 + x29^2 + x2*x30 + x3*x30 + x4*x30 + x5*x30 + x14*x30 + x15*x30 + x16*x30 + x17*x30 - x20*x30 - x21*x30 - x22*x30 - x23*x30 - x26*x30 - x27*x30 - x28*x30 - x29*x30 - x1*x31 - x2*x31 + x3*x31 - x4*x31 + x5*x31 - x13*x31 - x14*x31 + x15*x31 - x16*x31 + x17*x31 + x19*x31 + x20*x31 - x21*x31 + x22*x31 - x23*x31 + x25*x31 + x26*x31 - x27*x31 + x28*x31 - x29*x31 - x31^2 + x0*x32 - x1*x32 - x2*x32 + x3*x32 + x5*x32 + x12*x32 - x13*x32 - x14*x32 + x15*x32 + x17*x32 - x18*x32 + x19*x32 + x20*x32 - x21*x32 - x23*x32 - x24*x32 + x25*x32 + x26*x32 - x27*x32 - x29*x32 - x30*x32 + x31*x32 - x32^2 + x0*x33 + x1*x33 + x2*x33 + x3*x33 - x4*x33 + x12*x33 + x13*x33 + x14*x33 + x15*x33 - x16*x33 - x18*x33 - x19*x33 - x20*x33 - x21*x33 + x22*x33 - x24*x33 - x25*x33 - x26*x33 - x27*x33 + x28*x33 - x30*x33 - x31*x33 - x32*x33 + x33^2 + x0*x34 - x1*x34 - x3*x34 + x4*x34 + x5*x34 + x12*x34 - x13*x34 - x15*x34 + x16*x34 + x17*x34 - x18*x34 + x19*x34 + x21*x34 - x22*x34 - x23*x34 - x24*x34 + x25*x34 + x27*x34 - x28*x34 - x29*x34 - x30*x34 + x31*x34 + x33*x34 + x34^2 + x0*x35 + x1*x35 + x2*x35 + x4*x35 + x5*x35 + x12*x35 + x13*x35 + x14*x35 + x16*x35 + x17*x35 - x18*x35 - x19*x35 - x20*x35 - x22*x35 - x23*x35 - x24*x35 - x25*x35 - x26*x35 - x28*x35 - x29*x35 - x30*x35 - x31*x35 - x32*x35 - x34*x35 + x35^2, -x1^2 - x0*x2 + x1*x2 - x2^2 - x0*x3 - x1*x3 - x2*x3 + x3^2 - x0*x4 + x1*x4 + x3*x4 + x4^2 - x0*x5 - x1*x5 - x2*x5 - x4*x5 + x5^2 + x7^2 + x6*x8 - x7*x8 + x8^2 + x6*x9 + x7*x9 + x8*x9 - x9^2 + x6*x10 - x7*x10 - x9*x10 - x10^2 + x6*x11 + x7*x11 + x8*x11 + x10*x11 - x11^2 - x2*x12 - x3*x12 - x4*x12 - x5*x12 + x1*x13 + x2*x13 - x3*x13 + x4*x13 - x5*x13 - x13^2 - x0*x14 + x1*x14 + x2*x14 - x3*x14 - x5*x14 - x12*x14 + x13*x14 - x14^2 - x0*x15 - x1*x15 - x2*x15 - x3*x15 + x4*x15 - x12*x15 - x13*x15 - x14*x15 + x15^2 - x0*x16 + x1*x16 + x3*x16 - x4*x16 - x5*x16 - x12*x16 + x13*x16 + x15*x16 + x16^2 - x0*x17 - x1*x17 - x2*x17 - x4*x17 - x5*x17 - x12*x17 - x13*x17 - x14*x17 - x16*x17 + x17^2 + x8*x18 + x9*x18 + x10*x18 + x11*x18 - x7*x19 - x8*x19 + x9*x19 - x10*x19 + x11*x19 + x19^2 + x6*x20 - x7*x20 - x8*x20 + x9*x20 + x11*x20 + x18*x20 - x19*x20 + x20^2 + x6*x21 + x7*x21 + x8*x21 + x9*x21 - x10*x21 + x18*x21 + x19*x21 + x20*x21 - x21^2 + x6*x22 - x7*x22 - x9*x22 + x10*x22 + x11*x22 + x18*x22 - x19*x22 - x21*x22 - x22^2 + x6*x23 + x7*x23 + x8*x23 + x10*x23 + x11*x23 + x18*x23 + x19*x23 + x20*x23 + x22*x23 - x23^2 + x2*x24 + x3*x24 + x4*x24 + x5*x24 - x8*x24 - x9*x24 - x10*x24 - x11*x24 - x1*x25 - x2*x25 + x3*x25 - x4*x25 + x5*x25 + x7*x25 + x8*x25 - x9*x25 + x10*x25 - x11*x25 + x0*x26 - x1*x26 - x2*x26 + x3*x26 + x5*x26 - x6*x26 + x7*x26 + x8*x26 - x9*x26 - x11*x26 + x0*x27 + x1*x27 + x2*x27 + x3*x27 - x4*x27 - x6*x27 - x7*x27 - x8*x27 - x9*x27 + x10*x27 + x0*x28 - x1*x28 - x3*x28 + x4*x28 + x5*x28 - x6*x28 + x7*x28 + x9*x28 - x10*x28 - x11*x28 + x0*x29 + x1*x29 + x2*x29 + x4*x29 + x5*x29 - x6*x29 - x7*x29 - x8*x29 - x10*x29 - x11*x29 + x2*x30 + x3*x30 + x4*x30 + x5*x30 - x8*x30 - x9*x30 - x10*x30 - x11*x30 - x14*x30 - x15*x30 - x16*x30 - x17*x30 + x20*x30 + x21*x30 + x22*x30 + x23*x30 + x26*x30 + x27*x30 + x28*x30 + x29*x30 - x1*x31 - x2*x31 + x3*x31 - x4*x31 + x5*x31 + x7*x31 + x8*x31 - x9*x31 + x10*x31 - x11*x31 + x13*x31 + x14*x31 - x15*x31 + x16*x31 - x17*x31 - x19*x31 - x20*x31 + x21*x31 - x22*x31 + x23*x31 - x25*x31 - x26*x31 + x27*x31 - x28*x31 + x29*x31 + x31^2 + x0*x32 - x1*x32 - x2*x32 + x3*x32 + x5*x32 - x6*x32 + x7*x32 + x8*x32 - x9*x32 - x11*x32 - x12*x32 + x13*x32 + x14*x32 - x15*x32 - x17*x32 + x18*x32 - x19*x32 - x20*x32 + x21*x32 + x23*x32 + x24*x32 - x25*x32 - x26*x32 + x27*x32 + x29*x32 + x30*x32 - x31*x32 + x32^2 + x0*x33 + x1*x33 + x2*x33 + x3*x33 - x4*x33 - x6*x33 - x7*x33 - x8*x33 - x9*x33 + x10*x33 - x12*x33 - x13*x33 - x14*x33 - x15*x33 + x16*x33 + x18*x33 + x19*x33 + x20*x33 + x21*x33 - x22*x33 + x24*x33 + x25*x33 + x26*x33 + x27*x33 - x28*x33 + x30*x33 + x31*x33 + x32*x33 - x33^2 + x0*x34 - x1*x34 - x3*x34 + x4*x34 + x5*x34 - x6*x34 + x7*x34 + x9*x34 - x10*x34 - x11*x34 - x12*x34 + x13*x34 + x15*x34 - x16*x34 - x17*x34 + x18*x34 - x19*x34 - x21*x34 + x22*x34 + x23*x34 + x24*x34 - x25*x34 - x27*x34 + x28*x34 + x29*x34 + x30*x34 - x31*x34 - x33*x34 - x34^2 + x0*x35 + x1*x35 + x2*x35 + x4*x35 + x5*x35 - x6*x35 - x7*x35 - x8*x35 - x10*x35 - x11*x35 - x12*x35 - x13*x35 - x14*x35 - x16*x35 - x17*x35 + x18*x35 + x19*x35 + x20*x35 + x22*x35 + x23*x35 + x24*x35 + x25*x35 + x26*x35 + x28*x35 + x29*x35 + x30*x35 + x31*x35 + x32*x35 + x34*x35 - x35^2, -x1^2 - x0*x2 + x1*x2 - x2^2 - x0*x3 - x1*x3 - x2*x3 + x3^2 - x0*x4 + x1*x4 + x3*x4 + x4^2 - x0*x5 - x1*x5 - x2*x5 - x4*x5 + x5^2 - x7^2 - x6*x8 + x7*x8 - x8^2 - x6*x9 - x7*x9 - x8*x9 + x9^2 - x6*x10 + x7*x10 + x9*x10 + x10^2 - x6*x11 - x7*x11 - x8*x11 - x10*x11 + x11^2 - x8*x12 - x9*x12 - x10*x12 - x11*x12 + x7*x13 + x8*x13 - x9*x13 + x10*x13 - x11*x13 + x13^2 - x6*x14 + x7*x14 + x8*x14 - x9*x14 - x11*x14 + x12*x14 - x13*x14 + x14^2 - x6*x15 - x7*x15 - x8*x15 - x9*x15 + x10*x15 + x12*x15 + x13*x15 + x14*x15 - x15^2 - x6*x16 + x7*x16 + x9*x16 - x10*x16 - x11*x16 + x12*x16 - x13*x16 - x15*x16 - x16^2 - x6*x17 - x7*x17 - x8*x17 - x10*x17 - x11*x17 + x12*x17 + x13*x17 + x14*x17 + x16*x17 - x17^2 - x19^2 - x18*x20 + x19*x20 - x20^2 - x18*x21 - x19*x21 - x20*x21 + x21^2 - x18*x22 + x19*x22 + x21*x22 + x22^2 - x18*x23 - x19*x23 - x20*x23 - x22*x23 + x23^2 + x8*x24 + x9*x24 + x10*x24 + x11*x24 - x14*x24 - x15*x24 - x16*x24 - x17*x24 - x20*x24 - x21*x24 - x22*x24 - x23*x24 - x7*x25 - x8*x25 + x9*x25 - x10*x25 + x11*x25 + x13*x25 + x14*x25 - x15*x25 + x16*x25 - x17*x25 + x19*x25 + x20*x25 - x21*x25 + x22*x25 - x23*x25 + x6*x26 - x7*x26 - x8*x26 + x9*x26 + x11*x26 - x12*x26 + x13*x26 + x14*x26 - x15*x26 - x17*x26 - x18*x26 + x19*x26 + x20*x26 - x21*x26 - x23*x26 + x6*x27 + x7*x27 + x8*x27 + x9*x27 - x10*x27 - x12*x27 - x13*x27 - x14*x27 - x15*x27 + x16*x27 - x18*x27 - x19*x27 - x20*x27 - x21*x27 + x22*x27 + x6*x28 - x7*x28 - x9*x28 + x10*x28 + x11*x28 - x12*x28 + x13*x28 + x15*x28 - x16*x28 - x17*x28 - x18*x28 + x19*x28 + x21*x28 - x22*x28 - x23*x28 + x6*x29 + x7*x29 + x8*x29 + x10*x29 + x11*x29 - x12*x29 - x13*x29 - x14*x29 - x16*x29 - x17*x29 - x18*x29 - x19*x29 - x20*x29 - x22*x29 - x23*x29 + x2*x30 + x3*x30 + x4*x30 + x5*x30 - x8*x30 - x9*x30 - x10*x30 - x11*x30 - x14*x30 - x15*x30 - x16*x30 - x17*x30 + x20*x30 + x21*x30 + x22*x30 + x23*x30 - x26*x30 - x27*x30 - x28*x30 - x29*x30 - x1*x31 - x2*x31 + x3*x31 - x4*x31 + x5*x31 + x7*x31 + x8*x31 - x9*x31 + x10*x31 - x11*x31 + x13*x31 + x14*x31 - x15*x31 + x16*x31 - x17*x31 - x19*x31 - x20*x31 + x21*x31 - x22*x31 + x23*x31 + x25*x31 + x26*x31 - x27*x31 + x28*x31 - x29*x31 + x0*x32 - x1*x32 - x2*x32 + x3*x32 + x5*x32 - x6*x32 + x7*x32 + x8*x32 - x9*x32 - x11*x32 - x12*x32 + x13*x32 + x14*x32 - x15*x32 - x17*x32 + x18*x32 - x19*x32 - x20*x32 + x21*x32 + x23*x32 - x24*x32 + x25*x32 + x26*x32 - x27*x32 - x29*x32 + x0*x33 + x1*x33 + x2*x33 + x3*x33 - x4*x33 - x6*x33 - x7*x33 - x8*x33 - x9*x33 + x10*x33 - x12*x33 - x13*x33 - x14*x33 - x15*x33 + x16*x33 + x18*x33 + x19*x33 + x20*x33 + x21*x33 - x22*x33 - x24*x33 - x25*x33 - x26*x33 - x27*x33 + x28*x33 + x0*x34 - x1*x34 - x3*x34 + x4*x34 + x5*x34 - x6*x34 + x7*x34 + x9*x34 - x10*x34 - x11*x34 - x12*x34 + x13*x34 + x15*x34 - x16*x34 - x17*x34 + x18*x34 - x19*x34 - x21*x34 + x22*x34 + x23*x34 - x24*x34 + x25*x34 + x27*x34 - x28*x34 - x29*x34 + x0*x35 + x1*x35 + x2*x35 + x4*x35 + x5*x35 - x6*x35 - x7*x35 - x8*x35 - x10*x35 - x11*x35 - x12*x35 - x13*x35 - x14*x35 - x16*x35 - x17*x35 + x18*x35 + x19*x35 + x20*x35 + x22*x35 + x23*x35 - x24*x35 - x25*x35 - x26*x35 - x28*x35 - x29*x35, x1^2 + x0*x2 - x1*x2 + x2^2 + x0*x3 + x1*x3 + x2*x3 - x3^2 + x0*x4 - x1*x4 - x3*x4 - x4^2 + x0*x5 + x1*x5 + x2*x5 + x4*x5 - x5^2 + x7^2 + x6*x8 - x7*x8 + x8^2 + x6*x9 + x7*x9 + x8*x9 - x9^2 + x6*x10 - x7*x10 - x9*x10 - x10^2 + x6*x11 + x7*x11 + x8*x11 + x10*x11 - x11^2 - x8*x12 - x9*x12 - x10*x12 - x11*x12 + x7*x13 + x8*x13 - x9*x13 + x10*x13 - x11*x13 - x13^2 - x6*x14 + x7*x14 + x8*x14 - x9*x14 - x11*x14 - x12*x14 + x13*x14 - x14^2 - x6*x15 - x7*x15 - x8*x15 - x9*x15 + x10*x15 - x12*x15 - x13*x15 - x14*x15 + x15^2 - x6*x16 + x7*x16 + x9*x16 - x10*x16 - x11*x16 - x12*x16 + x13*x16 + x15*x16 + x16^2 - x6*x17 - x7*x17 - x8*x17 - x10*x17 - x11*x17 - x12*x17 - x13*x17 - x14*x17 - x16*x17 + x17^2 + x2*x18 + x3*x18 + x4*x18 + x5*x18 - x8*x18 - x9*x18 - x10*x18 - x11*x18 - x1*x19 - x2*x19 + x3*x19 - x4*x19 + x5*x19 + x7*x19 + x8*x19 - x9*x19 + x10*x19 - x11*x19 + x0*x20 - x1*x20 - x2*x20 + x3*x20 + x5*x20 - x6*x20 + x7*x20 + x8*x20 - x9*x20 - x11*x20 + x0*x21 + x1*x21 + x2*x21 + x3*x21 - x4*x21 - x6*x21 - x7*x21 - x8*x21 - x9*x21 + x10*x21 + x0*x22 - x1*x22 - x3*x22 + x4*x22 + x5*x22 - x6*x22 + x7*x22 + x9*x22 - x10*x22 - x11*x22 + x0*x23 + x1*x23 + x2*x23 + x4*x23 + x5*x23 - x6*x23 - x7*x23 - x8*x23 - x10*x23 - x11*x23 - x2*x24 - x3*x24 - x4*x24 - x5*x24 - x14*x24 - x15*x24 - x16*x24 - x17*x24 + x1*x25 + x2*x25 - x3*x25 + x4*x25 - x5*x25 + x13*x25 + x14*x25 - x15*x25 + x16*x25 - x17*x25 - x25^2 - x0*x26 + x1*x26 + x2*x26 - x3*x26 - x5*x26 - x12*x26 + x13*x26 + x14*x26 - x15*x26 - x17*x26 - x24*x26 + x25*x26 - x26^2 - x0*x27 - x1*x27 - x2*x27 - x3*x27 + x4*x27 - x12*x27 - x13*x27 - x14*x27 - x15*x27 + x16*x27 - x24*x27 - x25*x27 - x26*x27 + x27^2 - x0*x28 + x1*x28 + x3*x28 - x4*x28 - x5*x28 - x12*x28 + x13*x28 + x15*x28 - x16*x28 - x17*x28 - x24*x28 + x25*x28 + x27*x28 + x28^2 - x0*x29 - x1*x29 - x2*x29 - x4*x29 - x5*x29 - x12*x29 - x13*x29 - x14*x29 - x16*x29 - x17*x29 - x24*x29 - x25*x29 - x26*x29 - x28*x29 + x29^2 + x2*x30 + x3*x30 + x4*x30 + x5*x30 + x14*x30 + x15*x30 + x16*x30 + x17*x30 + x26*x30 + x27*x30 + x28*x30 + x29*x30 - x1*x31 - x2*x31 + x3*x31 - x4*x31 + x5*x31 - x13*x31 - x14*x31 + x15*x31 - x16*x31 + x17*x31 - x25*x31 - x26*x31 + x27*x31 - x28*x31 + x29*x31 - x31^2 + x0*x32 - x1*x32 - x2*x32 + x3*x32 + x5*x32 + x12*x32 - x13*x32 - x14*x32 + x15*x32 + x17*x32 + x24*x32 - x25*x32 - x26*x32 + x27*x32 + x29*x32 - x30*x32 + x31*x32 - x32^2 + x0*x33 + x1*x33 + x2*x33 + x3*x33 - x4*x33 + x12*x33 + x13*x33 + x14*x33 + x15*x33 - x16*x33 + x24*x33 + x25*x33 + x26*x33 + x27*x33 - x28*x33 - x30*x33 - x31*x33 - x32*x33 + x33^2 + x0*x34 - x1*x34 - x3*x34 + x4*x34 + x5*x34 + x12*x34 - x13*x34 - x15*x34 + x16*x34 + x17*x34 + x24*x34 - x25*x34 - x27*x34 + x28*x34 + x29*x34 - x30*x34 + x31*x34 + x33*x34 + x34^2 + x0*x35 + x1*x35 + x2*x35 + x4*x35 + x5*x35 + x12*x35 + x13*x35 + x14*x35 + x16*x35 + x17*x35 + x24*x35 + x25*x35 + x26*x35 + x28*x35 + x29*x35 - x30*x35 - x31*x35 - x32*x35 - x34*x35 + x35^2, x1^2 + x0*x2 - x1*x2 + x2^2 + x0*x3 + x1*x3 + x2*x3 - x3^2 + x0*x4 - x1*x4 - x3*x4 - x4^2 + x0*x5 + x1*x5 + x2*x5 + x4*x5 - x5^2 - x2*x6 - x3*x6 - x4*x6 - x5*x6 + x1*x7 + x2*x7 - x3*x7 + x4*x7 - x5*x7 - x7^2 - x0*x8 + x1*x8 + x2*x8 - x3*x8 - x5*x8 - x6*x8 + x7*x8 - x8^2 - x0*x9 - x1*x9 - x2*x9 - x3*x9 + x4*x9 - x6*x9 - x7*x9 - x8*x9 + x9^2 - x0*x10 + x1*x10 + x3*x10 - x4*x10 - x5*x10 - x6*x10 + x7*x10 + x9*x10 + x10^2 - x0*x11 - x1*x11 - x2*x11 - x4*x11 - x5*x11 - x6*x11 - x7*x11 - x8*x11 - x10*x11 + x11^2 + x8*x12 + x9*x12 + x10*x12 + x11*x12 - x7*x13 - x8*x13 + x9*x13 - x10*x13 + x11*x13 - x13^2 + x6*x14 - x7*x14 - x8*x14 + x9*x14 + x11*x14 - x12*x14 + x13*x14 - x14^2 + x6*x15 + x7*x15 + x8*x15 + x9*x15 - x10*x15 - x12*x15 - x13*x15 - x14*x15 + x15^2 + x6*x16 - x7*x16 - x9*x16 + x10*x16 + x11*x16 - x12*x16 + x13*x16 + x15*x16 + x16^2 + x6*x17 + x7*x17 + x8*x17 + x10*x17 + x11*x17 - x12*x17 - x13*x17 - x14*x17 - x16*x17 + x17^2 - x14*x18 - x15*x18 - x16*x18 - x17*x18 + x13*x19 + x14*x19 - x15*x19 + x16*x19 - x17*x19 + x19^2 - x12*x20 + x13*x20 + x14*x20 - x15*x20 - x17*x20 + x18*x20 - x19*x20 + x20^2 - x12*x21 - x13*x21 - x14*x21 - x15*x21 + x16*x21 + x18*x21 + x19*x21 + x20*x21 - x21^2 - x12*x22 + x13*x22 + x15*x22 - x16*x22 - x17*x22 + x18*x22 - x19*x22 - x21*x22 - x22^2 - x12*x23 - x13*x23 - x14*x23 - x16*x23 - x17*x23 + x18*x23 + x19*x23 + x20*x23 + x22*x23 - x23^2 + x2*x24 + x3*x24 + x4*x24 + x5*x24 - x14*x24 - x15*x24 - x16*x24 - x17*x24 - x20*x24 - x21*x24 - x22*x24 - x23*x24 - x1*x25 - x2*x25 + x3*x25 - x4*x25 + x5*x25 + x13*x25 + x14*x25 - x15*x25 + x16*x25 - x17*x25 + x19*x25 + x20*x25 - x21*x25 + x22*x25 - x23*x25 + x25^2 + x0*x26 - x1*x26 - x2*x26 + x3*x26 + x5*x26 - x12*x26 + x13*x26 + x14*x26 - x15*x26 - x17*x26 - x18*x26 + x19*x26 + x20*x26 - x21*x26 - x23*x26 + x24*x26 - x25*x26 + x26^2 + x0*x27 + x1*x27 + x2*x27 + x3*x27 - x4*x27 - x12*x27 - x13*x27 - x14*x27 - x15*x27 + x16*x27 - x18*x27 - x19*x27 - x20*x27 - x21*x27 + x22*x27 + x24*x27 + x25*x27 + x26*x27 - x27^2 + x0*x28 - x1*x28 - x3*x28 + x4*x28 + x5*x28 - x12*x28 + x13*x28 + x15*x28 - x16*x28 - x17*x28 - x18*x28 + x19*x28 + x21*x28 - x22*x28 - x23*x28 + x24*x28 - x25*x28 - x27*x28 - x28^2 + x0*x29 + x1*x29 + x2*x29 + x4*x29 + x5*x29 - x12*x29 - x13*x29 - x14*x29 - x16*x29 - x17*x29 - x18*x29 - x19*x29 - x20*x29 - x22*x29 - x23*x29 + x24*x29 + x25*x29 + x26*x29 + x28*x29 - x29^2 - x2*x30 - x3*x30 - x4*x30 - x5*x30 + x8*x30 + x9*x30 + x10*x30 + x11*x30 + x14*x30 + x15*x30 + x16*x30 + x17*x30 - x20*x30 - x21*x30 - x22*x30 - x23*x30 + x26*x30 + x27*x30 + x28*x30 + x29*x30 + x1*x31 + x2*x31 - x3*x31 + x4*x31 - x5*x31 - x7*x31 - x8*x31 + x9*x31 - x10*x31 + x11*x31 - x13*x31 - x14*x31 + x15*x31 - x16*x31 + x17*x31 + x19*x31 + x20*x31 - x21*x31 + x22*x31 - x23*x31 - x25*x31 - x26*x31 + x27*x31 - x28*x31 + x29*x31 - x0*x32 + x1*x32 + x2*x32 - x3*x32 - x5*x32 + x6*x32 - x7*x32 - x8*x32 + x9*x32 + x11*x32 + x12*x32 - x13*x32 - x14*x32 + x15*x32 + x17*x32 - x18*x32 + x19*x32 + x20*x32 - x21*x32 - x23*x32 + x24*x32 - x25*x32 - x26*x32 + x27*x32 + x29*x32 - x0*x33 - x1*x33 - x2*x33 - x3*x33 + x4*x33 + x6*x33 + x7*x33 + x8*x33 + x9*x33 - x10*x33 + x12*x33 + x13*x33 + x14*x33 + x15*x33 - x16*x33 - x18*x33 - x19*x33 - x20*x33 - x21*x33 + x22*x33 + x24*x33 + x25*x33 + x26*x33 + x27*x33 - x28*x33 - x0*x34 + x1*x34 + x3*x34 - x4*x34 - x5*x34 + x6*x34 - x7*x34 - x9*x34 + x10*x34 + x11*x34 + x12*x34 - x13*x34 - x15*x34 + x16*x34 + x17*x34 - x18*x34 + x19*x34 + x21*x34 - x22*x34 - x23*x34 + x24*x34 - x25*x34 - x27*x34 + x28*x34 + x29*x34 - x0*x35 - x1*x35 - x2*x35 - x4*x35 - x5*x35 + x6*x35 + x7*x35 + x8*x35 + x10*x35 + x11*x35 + x12*x35 + x13*x35 + x14*x35 + x16*x35 + x17*x35 - x18*x35 - x19*x35 - x20*x35 - x22*x35 - x23*x35 + x24*x35 + x25*x35 + x26*x35 + x28*x35 + x29*x35, x1^2 + x0*x2 - x1*x2 + x2^2 + x0*x3 + x1*x3 + x2*x3 - x3^2 + x0*x4 - x1*x4 - x3*x4 - x4^2 + x0*x5 + x1*x5 + x2*x5 + x4*x5 - x5^2 - x2*x6 - x3*x6 - x4*x6 - x5*x6 + x1*x7 + x2*x7 - x3*x7 + x4*x7 - x5*x7 - x0*x8 + x1*x8 + x2*x8 - x3*x8 - x5*x8 - x0*x9 - x1*x9 - x2*x9 - x3*x9 + x4*x9 - x0*x10 + x1*x10 + x3*x10 - x4*x10 - x5*x10 - x0*x11 - x1*x11 - x2*x11 - x4*x11 - x5*x11 - x2*x12 - x3*x12 - x4*x12 - x5*x12 - x8*x12 - x9*x12 - x10*x12 - x11*x12 + x1*x13 + x2*x13 - x3*x13 + x4*x13 - x5*x13 + x7*x13 + x8*x13 - x9*x13 + x10*x13 - x11*x13 - x0*x14 + x1*x14 + x2*x14 - x3*x14 - x5*x14 - x6*x14 + x7*x14 + x8*x14 - x9*x14 - x11*x14 - x0*x15 - x1*x15 - x2*x15 - x3*x15 + x4*x15 - x6*x15 - x7*x15 - x8*x15 - x9*x15 + x10*x15 - x0*x16 + x1*x16 + x3*x16 - x4*x16 - x5*x16 - x6*x16 + x7*x16 + x9*x16 - x10*x16 - x11*x16 - x0*x17 - x1*x17 - x2*x17 - x4*x17 - x5*x17 - x6*x17 - x7*x17 - x8*x17 - x10*x17 - x11*x17 + x8*x18 + x9*x18 + x10*x18 + x11*x18 - x14*x18 - x15*x18 - x16*x18 - x17*x18 - x7*x19 - x8*x19 + x9*x19 - x10*x19 + x11*x19 + x13*x19 + x14*x19 - x15*x19 + x16*x19 - x17*x19 + x19^2 + x6*x20 - x7*x20 - x8*x20 + x9*x20 + x11*x20 - x12*x20 + x13*x20 + x14*x20 - x15*x20 - x17*x20 + x18*x20 - x19*x20 + x20^2 + x6*x21 + x7*x21 + x8*x21 + x9*x21 - x10*x21 - x12*x21 - x13*x21 - x14*x21 - x15*x21 + x16*x21 + x18*x21 + x19*x21 + x20*x21 - x21^2 + x6*x22 - x7*x22 - x9*x22 + x10*x22 + x11*x22 - x12*x22 + x13*x22 + x15*x22 - x16*x22 - x17*x22 + x18*x22 - x19*x22 - x21*x22 - x22^2 + x6*x23 + x7*x23 + x8*x23 + x10*x23 + x11*x23 - x12*x23 - x13*x23 - x14*x23 - x16*x23 - x17*x23 + x18*x23 + x19*x23 + x20*x23 + x22*x23 - x23^2 - x2*x24 - x3*x24 - x4*x24 - x5*x24 + x8*x24 + x9*x24 + x10*x24 + x11*x24 + x14*x24 + x15*x24 + x16*x24 + x17*x24 + x20*x24 + x21*x24 + x22*x24 + x23*x24 + x1*x25 + x2*x25 - x3*x25 + x4*x25 - x5*x25 - x7*x25 - x8*x25 + x9*x25 - x10*x25 + x11*x25 - x13*x25 - x14*x25 + x15*x25 - x16*x25 + x17*x25 - x19*x25 - x20*x25 + x21*x25 - x22*x25 + x23*x25 - x0*x26 + x1*x26 + x2*x26 - x3*x26 - x5*x26 + x6*x26 - x7*x26 - x8*x26 + x9*x26 + x11*x26 + x12*x26 - x13*x26 - x14*x26 + x15*x26 + x17*x26 + x18*x26 - x19*x26 - x20*x26 + x21*x26 + x23*x26 - x0*x27 - x1*x27 - x2*x27 - x3*x27 + x4*x27 + x6*x27 + x7*x27 + x8*x27 + x9*x27 - x10*x27 + x12*x27 + x13*x27 + x14*x27 + x15*x27 - x16*x27 + x18*x27 + x19*x27 + x20*x27 + x21*x27 - x22*x27 - x0*x28 + x1*x28 + x3*x28 - x4*x28 - x5*x28 + x6*x28 - x7*x28 - x9*x28 + x10*x28 + x11*x28 + x12*x28 - x13*x28 - x15*x28 + x16*x28 + x17*x28 + x18*x28 - x19*x28 - x21*x28 + x22*x28 + x23*x28 - x0*x29 - x1*x29 - x2*x29 - x4*x29 - x5*x29 + x6*x29 + x7*x29 + x8*x29 + x10*x29 + x11*x29 + x12*x29 + x13*x29 + x14*x29 + x16*x29 + x17*x29 + x18*x29 + x19*x29 + x20*x29 + x22*x29 + x23*x29 - x2*x30 - x3*x30 - x4*x30 - x5*x30 - x8*x30 - x9*x30 - x10*x30 - x11*x30 - x20*x30 - x21*x30 - x22*x30 - x23*x30 + x26*x30 + x27*x30 + x28*x30 + x29*x30 + x1*x31 + x2*x31 - x3*x31 + x4*x31 - x5*x31 + x7*x31 + x8*x31 - x9*x31 + x10*x31 - x11*x31 + x19*x31 + x20*x31 - x21*x31 + x22*x31 - x23*x31 - x25*x31 - x26*x31 + x27*x31 - x28*x31 + x29*x31 - x0*x32 + x1*x32 + x2*x32 - x3*x32 - x5*x32 - x6*x32 + x7*x32 + x8*x32 - x9*x32 - x11*x32 - x18*x32 + x19*x32 + x20*x32 - x21*x32 - x23*x32 + x24*x32 - x25*x32 - x26*x32 + x27*x32 + x29*x32 - x0*x33 - x1*x33 - x2*x33 - x3*x33 + x4*x33 - x6*x33 - x7*x33 - x8*x33 - x9*x33 + x10*x33 - x18*x33 - x19*x33 - x20*x33 - x21*x33 + x22*x33 + x24*x33 + x25*x33 + x26*x33 + x27*x33 - x28*x33 - x0*x34 + x1*x34 + x3*x34 - x4*x34 - x5*x34 - x6*x34 + x7*x34 + x9*x34 - x10*x34 - x11*x34 - x18*x34 + x19*x34 + x21*x34 - x22*x34 - x23*x34 + x24*x34 - x25*x34 - x27*x34 + x28*x34 + x29*x34 - x0*x35 - x1*x35 - x2*x35 - x4*x35 - x5*x35 - x6*x35 - x7*x35 - x8*x35 - x10*x35 - x11*x35 - x18*x35 - x19*x35 - x20*x35 - x22*x35 - x23*x35 + x24*x35 + x25*x35 + x26*x35 + x28*x35 + x29*x35, x0^2 - x0*x1 + x0*x2 + x1*x2 + x2^2 + x0*x3 + x1*x4 - x2*x4 - x3*x4 - x1*x5 - x2*x5 + x5^2 + x0*x6 + x1*x6 - x2*x6 - x3*x6 + x0*x7 - x2*x7 - x4*x7 + x5*x7 - x0*x8 - x1*x8 + x2*x8 + x4*x8 + x5*x8 - x0*x9 + x4*x9 - x1*x10 + x2*x10 + x3*x10 + x1*x11 + x2*x11 + x5*x11 - x12^2 + x12*x13 - x12*x14 - x13*x14 - x14^2 - x12*x15 - x13*x16 + x14*x16 + x15*x16 + x13*x17 + x14*x17 - x17^2 - x0*x18 - x1*x18 + x2*x18 + x3*x18 - x12*x18 - x13*x18 + x14*x18 + x15*x18 - x18^2 - x0*x19 + x2*x19 + x4*x19 - x5*x19 - x12*x19 + x14*x19 + x16*x19 - x17*x19 + x18*x19 + x0*x20 + x1*x20 - x2*x20 - x4*x20 - x5*x20 + x12*x20 + x13*x20 - x14*x20 - x16*x20 - x17*x20 - x18*x20 - x19*x20 - x20^2 + x0*x21 - x4*x21 + x12*x21 - x16*x21 - x18*x21 + x1*x22 - x2*x22 - x3*x22 + x13*x22 - x14*x22 - x15*x22 - x19*x22 + x20*x22 + x21*x22 - x1*x23 - x2*x23 - x5*x23 - x13*x23 - x14*x23 - x17*x23 + x19*x23 + x20*x23 - x23^2 - x6*x24 - x7*x24 + x8*x24 + x9*x24 + x18*x24 + x19*x24 - x20*x24 - x21*x24 - x24^2 - x6*x25 + x8*x25 + x10*x25 - x11*x25 + x18*x25 - x20*x25 - x22*x25 + x23*x25 + x24*x25 + x6*x26 + x7*x26 - x8*x26 - x10*x26 - x11*x26 - x18*x26 - x19*x26 + x20*x26 + x22*x26 + x23*x26 - x24*x26 - x25*x26 - x26^2 + x6*x27 - x10*x27 - x18*x27 + x22*x27 - x24*x27 + x7*x28 - x8*x28 - x9*x28 - x19*x28 + x20*x28 + x21*x28 - x25*x28 + x26*x28 + x27*x28 - x7*x29 - x8*x29 - x11*x29 + x19*x29 + x20*x29 + x23*x29 + x25*x29 + x26*x29 - x29^2 - x0*x30 - x1*x30 + x2*x30 + x3*x30 - x12*x30 - x13*x30 + x14*x30 + x15*x30 + x18*x30 + x19*x30 - x20*x30 - x21*x30 + x24*x30 + x25*x30 - x26*x30 - x27*x30 - x30^2 - x0*x31 + x2*x31 + x4*x31 - x5*x31 - x12*x31 + x14*x31 + x16*x31 - x17*x31 + x18*x31 - x20*x31 - x22*x31 + x23*x31 + x24*x31 - x26*x31 - x28*x31 + x29*x31 + x30*x31 + x0*x32 + x1*x32 - x2*x32 - x4*x32 - x5*x32 + x12*x32 + x13*x32 - x14*x32 - x16*x32 - x17*x32 - x18*x32 - x19*x32 + x20*x32 + x22*x32 + x23*x32 - x24*x32 - x25*x32 + x26*x32 + x28*x32 + x29*x32 - x30*x32 - x31*x32 - x32^2 + x0*x33 - x4*x33 + x12*x33 - x16*x33 - x18*x33 + x22*x33 - x24*x33 + x28*x33 - x30*x33 + x1*x34 - x2*x34 - x3*x34 + x13*x34 - x14*x34 - x15*x34 - x19*x34 + x20*x34 + x21*x34 - x25*x34 + x26*x34 + x27*x34 - x31*x34 + x32*x34 + x33*x34 - x1*x35 - x2*x35 - x5*x35 - x13*x35 - x14*x35 - x17*x35 + x19*x35 + x20*x35 + x23*x35 + x25*x35 + x26*x35 + x29*x35 + x31*x35 + x32*x35 - x35^2, -x0^2 + x0*x1 - x0*x2 - x1*x2 - x2^2 - x0*x3 - x1*x4 + x2*x4 + x3*x4 + x1*x5 + x2*x5 - x5^2 + x6^2 - x6*x7 + x6*x8 + x7*x8 + x8^2 + x6*x9 + x7*x10 - x8*x10 - x9*x10 - x7*x11 - x8*x11 + x11^2 + x0*x12 + x1*x12 - x2*x12 - x3*x12 - x12^2 + x0*x13 - x2*x13 - x4*x13 + x5*x13 + x12*x13 - x0*x14 - x1*x14 + x2*x14 + x4*x14 + x5*x14 - x12*x14 - x13*x14 - x14^2 - x0*x15 + x4*x15 - x12*x15 - x1*x16 + x2*x16 + x3*x16 - x13*x16 + x14*x16 + x15*x16 + x1*x17 + x2*x17 + x5*x17 + x13*x17 + x14*x17 - x17^2 - x6*x18 - x7*x18 + x8*x18 + x9*x18 + x18^2 - x6*x19 + x8*x19 + x10*x19 - x11*x19 - x18*x19 + x6*x20 + x7*x20 - x8*x20 - x10*x20 - x11*x20 + x18*x20 + x19*x20 + x20^2 + x6*x21 - x10*x21 + x18*x21 + x7*x22 - x8*x22 - x9*x22 + x19*x22 - x20*x22 - x21*x22 - x7*x23 - x8*x23 - x11*x23 - x19*x23 - x20*x23 + x23^2 - x0*x24 - x1*x24 + x2*x24 + x3*x24 + x6*x24 + x7*x24 - x8*x24 - x9*x24 - x0*x25 + x2*x25 + x4*x25 - x5*x25 + x6*x25 - x8*x25 - x10*x25 + x11*x25 + x0*x26 + x1*x26 - x2*x26 - x4*x26 - x5*x26 - x6*x26 - x7*x26 + x8*x26 + x10*x26 + x11*x26 + x0*x27 - x4*x27 - x6*x27 + x10*x27 + x1*x28 - x2*x28 - x3*x28 - x7*x28 + x8*x28 + x9*x28 - x1*x29 - x2*x29 - x5*x29 + x7*x29 + x8*x29 + x11*x29 - x0*x30 - x1*x30 + x2*x30 + x3*x30 + x6*x30 + x7*x30 - x8*x30 - x9*x30 + x12*x30 + x13*x30 - x14*x30 - x15*x30 - x18*x30 - x19*x30 + x20*x30 + x21*x30 - x24*x30 - x25*x30 + x26*x30 + x27*x30 + x30^2 - x0*x31 + x2*x31 + x4*x31 - x5*x31 + x6*x31 - x8*x31 - x10*x31 + x11*x31 + x12*x31 - x14*x31 - x16*x31 + x17*x31 - x18*x31 + x20*x31 + x22*x31 - x23*x31 - x24*x31 + x26*x31 + x28*x31 - x29*x31 - x30*x31 + x0*x32 + x1*x32 - x2*x32 - x4*x32 - x5*x32 - x6*x32 - x7*x32 + x8*x32 + x10*x32 + x11*x32 - x12*x32 - x13*x32 + x14*x32 + x16*x32 + x17*x32 + x18*x32 + x19*x32 - x20*x32 - x22*x32 - x23*x32 + x24*x32 + x25*x32 - x26*x32 - x28*x32 - x29*x32 + x30*x32 + x31*x32 + x32^2 + x0*x33 - x4*x33 - x6*x33 + x10*x33 - x12*x33 + x16*x33 + x18*x33 - x22*x33 + x24*x33 - x28*x33 + x30*x33 + x1*x34 - x2*x34 - x3*x34 - x7*x34 + x8*x34 + x9*x34 - x13*x34 + x14*x34 + x15*x34 + x19*x34 - x20*x34 - x21*x34 + x25*x34 - x26*x34 - x27*x34 + x31*x34 - x32*x34 - x33*x34 - x1*x35 - x2*x35 - x5*x35 + x7*x35 + x8*x35 + x11*x35 + x13*x35 + x14*x35 + x17*x35 - x19*x35 - x20*x35 - x23*x35 - x25*x35 - x26*x35 - x29*x35 - x31*x35 - x32*x35 + x35^2, -x0^2 + x0*x1 - x0*x2 - x1*x2 - x2^2 - x0*x3 - x1*x4 + x2*x4 + x3*x4 + x1*x5 + x2*x5 - x5^2 - x6^2 + x6*x7 - x6*x8 - x7*x8 - x8^2 - x6*x9 - x7*x10 + x8*x10 + x9*x10 + x7*x11 + x8*x11 - x11^2 + x6*x12 + x7*x12 - x8*x12 - x9*x12 + x12^2 + x6*x13 - x8*x13 - x10*x13 + x11*x13 - x12*x13 - x6*x14 - x7*x14 + x8*x14 + x10*x14 + x11*x14 + x12*x14 + x13*x14 + x14^2 - x6*x15 + x10*x15 + x12*x15 - x7*x16 + x8*x16 + x9*x16 + x13*x16 - x14*x16 - x15*x16 + x7*x17 + x8*x17 + x11*x17 - x13*x17 - x14*x17 + x17^2 - x18^2 + x18*x19 - x18*x20 - x19*x20 - x20^2 - x18*x21 - x19*x22 + x20*x22 + x21*x22 + x19*x23 + x20*x23 - x23^2 - x6*x24 - x7*x24 + x8*x24 + x9*x24 + x12*x24 + x13*x24 - x14*x24 - x15*x24 + x18*x24 + x19*x24 - x20*x24 - x21*x24 - x6*x25 + x8*x25 + x10*x25 - x11*x25 + x12*x25 - x14*x25 - x16*x25 + x17*x25 + x18*x25 - x20*x25 - x22*x25 + x23*x25 + x6*x26 + x7*x26 - x8*x26 - x10*x26 - x11*x26 - x12*x26 - x13*x26 + x14*x26 + x16*x26 + x17*x26 - x18*x26 - x19*x26 + x20*x26 + x22*x26 + x23*x26 + x6*x27 - x10*x27 - x12*x27 + x16*x27 - x18*x27 + x22*x27 + x7*x28 - x8*x28 - x9*x28 - x13*x28 + x14*x28 + x15*x28 - x19*x28 + x20*x28 + x21*x28 - x7*x29 - x8*x29 - x11*x29 + x13*x29 + x14*x29 + x17*x29 + x19*x29 + x20*x29 + x23*x29 - x0*x30 - x1*x30 + x2*x30 + x3*x30 + x6*x30 + x7*x30 - x8*x30 - x9*x30 + x12*x30 + x13*x30 - x14*x30 - x15*x30 - x18*x30 - x19*x30 + x20*x30 + x21*x30 + x24*x30 + x25*x30 - x26*x30 - x27*x30 - x0*x31 + x2*x31 + x4*x31 - x5*x31 + x6*x31 - x8*x31 - x10*x31 + x11*x31 + x12*x31 - x14*x31 - x16*x31 + x17*x31 - x18*x31 + x20*x31 + x22*x31 - x23*x31 + x24*x31 - x26*x31 - x28*x31 + x29*x31 + x0*x32 + x1*x32 - x2*x32 - x4*x32 - x5*x32 - x6*x32 - x7*x32 + x8*x32 + x10*x32 + x11*x32 - x12*x32 - x13*x32 + x14*x32 + x16*x32 + x17*x32 + x18*x32 + x19*x32 - x20*x32 - x22*x32 - x23*x32 - x24*x32 - x25*x32 + x26*x32 + x28*x32 + x29*x32 + x0*x33 - x4*x33 - x6*x33 + x10*x33 - x12*x33 + x16*x33 + x18*x33 - x22*x33 - x24*x33 + x28*x33 + x1*x34 - x2*x34 - x3*x34 - x7*x34 + x8*x34 + x9*x34 - x13*x34 + x14*x34 + x15*x34 + x19*x34 - x20*x34 - x21*x34 - x25*x34 + x26*x34 + x27*x34 - x1*x35 - x2*x35 - x5*x35 + x7*x35 + x8*x35 + x11*x35 + x13*x35 + x14*x35 + x17*x35 - x19*x35 - x20*x35 - x23*x35 + x25*x35 + x26*x35 + x29*x35, x0^2 - x0*x1 + x0*x2 + x1*x2 + x2^2 + x0*x3 + x1*x4 - x2*x4 - x3*x4 - x1*x5 - x2*x5 + x5^2 + x6^2 - x6*x7 + x6*x8 + x7*x8 + x8^2 + x6*x9 + x7*x10 - x8*x10 - x9*x10 - x7*x11 - x8*x11 + x11^2 + x6*x12 + x7*x12 - x8*x12 - x9*x12 - x12^2 + x6*x13 - x8*x13 - x10*x13 + x11*x13 + x12*x13 - x6*x14 - x7*x14 + x8*x14 + x10*x14 + x11*x14 - x12*x14 - x13*x14 - x14^2 - x6*x15 + x10*x15 - x12*x15 - x7*x16 + x8*x16 + x9*x16 - x13*x16 + x14*x16 + x15*x16 + x7*x17 + x8*x17 + x11*x17 + x13*x17 + x14*x17 - x17^2 - x0*x18 - x1*x18 + x2*x18 + x3*x18 + x6*x18 + x7*x18 - x8*x18 - x9*x18 - x0*x19 + x2*x19 + x4*x19 - x5*x19 + x6*x19 - x8*x19 - x10*x19 + x11*x19 + x0*x20 + x1*x20 - x2*x20 - x4*x20 - x5*x20 - x6*x20 - x7*x20 + x8*x20 + x10*x20 + x11*x20 + x0*x21 - x4*x21 - x6*x21 + x10*x21 + x1*x22 - x2*x22 - x3*x22 - x7*x22 + x8*x22 + x9*x22 - x1*x23 - x2*x23 - x5*x23 + x7*x23 + x8*x23 + x11*x23 + x0*x24 + x1*x24 - x2*x24 - x3*x24 + x12*x24 + x13*x24 - x14*x24 - x15*x24 - x24^2 + x0*x25 - x2*x25 - x4*x25 + x5*x25 + x12*x25 - x14*x25 - x16*x25 + x17*x25 + x24*x25 - x0*x26 - x1*x26 + x2*x26 + x4*x26 + x5*x26 - x12*x26 - x13*x26 + x14*x26 + x16*x26 + x17*x26 - x24*x26 - x25*x26 - x26^2 - x0*x27 + x4*x27 - x12*x27 + x16*x27 - x24*x27 - x1*x28 + x2*x28 + x3*x28 - x13*x28 + x14*x28 + x15*x28 - x25*x28 + x26*x28 + x27*x28 + x1*x29 + x2*x29 + x5*x29 + x13*x29 + x14*x29 + x17*x29 + x25*x29 + x26*x29 - x29^2 - x0*x30 - x1*x30 + x2*x30 + x3*x30 - x12*x30 - x13*x30 + x14*x30 + x15*x30 - x24*x30 - x25*x30 + x26*x30 + x27*x30 - x30^2 - x0*x31 + x2*x31 + x4*x31 - x5*x31 - x12*x31 + x14*x31 + x16*x31 - x17*x31 - x24*x31 + x26*x31 + x28*x31 - x29*x31 + x30*x31 + x0*x32 + x1*x32 - x2*x32 - x4*x32 - x5*x32 + x12*x32 + x13*x32 - x14*x32 - x16*x32 - x17*x32 + x24*x32 + x25*x32 - x26*x32 - x28*x32 - x29*x32 - x30*x32 - x31*x32 - x32^2 + x0*x33 - x4*x33 + x12*x33 - x16*x33 + x24*x33 - x28*x33 - x30*x33 + x1*x34 - x2*x34 - x3*x34 + x13*x34 - x14*x34 - x15*x34 + x25*x34 - x26*x34 - x27*x34 - x31*x34 + x32*x34 + x33*x34 - x1*x35 - x2*x35 - x5*x35 - x13*x35 - x14*x35 - x17*x35 - x25*x35 - x26*x35 - x29*x35 + x31*x35 + x32*x35 - x35^2, x0^2 - x0*x1 + x0*x2 + x1*x2 + x2^2 + x0*x3 + x1*x4 - x2*x4 - x3*x4 - x1*x5 - x2*x5 + x5^2 + x0*x6 + x1*x6 - x2*x6 - x3*x6 - x6^2 + x0*x7 - x2*x7 - x4*x7 + x5*x7 + x6*x7 - x0*x8 - x1*x8 + x2*x8 + x4*x8 + x5*x8 - x6*x8 - x7*x8 - x8^2 - x0*x9 + x4*x9 - x6*x9 - x1*x10 + x2*x10 + x3*x10 - x7*x10 + x8*x10 + x9*x10 + x1*x11 + x2*x11 + x5*x11 + x7*x11 + x8*x11 - x11^2 - x6*x12 - x7*x12 + x8*x12 + x9*x12 - x12^2 - x6*x13 + x8*x13 + x10*x13 - x11*x13 + x12*x13 + x6*x14 + x7*x14 - x8*x14 - x10*x14 - x11*x14 - x12*x14 - x13*x14 - x14^2 + x6*x15 - x10*x15 - x12*x15 + x7*x16 - x8*x16 - x9*x16 - x13*x16 + x14*x16 + x15*x16 - x7*x17 - x8*x17 - x11*x17 + x13*x17 + x14*x17 - x17^2 + x12*x18 + x13*x18 - x14*x18 - x15*x18 + x18^2 + x12*x19 - x14*x19 - x16*x19 + x17*x19 - x18*x19 - x12*x20 - x13*x20 + x14*x20 + x16*x20 + x17*x20 + x18*x20 + x19*x20 + x20^2 - x12*x21 + x16*x21 + x18*x21 - x13*x22 + x14*x22 + x15*x22 + x19*x22 - x20*x22 - x21*x22 + x13*x23 + x14*x23 + x17*x23 - x19*x23 - x20*x23 + x23^2 - x0*x24 - x1*x24 + x2*x24 + x3*x24 + x12*x24 + x13*x24 - x14*x24 - x15*x24 + x18*x24 + x19*x24 - x20*x24 - x21*x24 + x24^2 - x0*x25 + x2*x25 + x4*x25 - x5*x25 + x12*x25 - x14*x25 - x16*x25 + x17*x25 + x18*x25 - x20*x25 - x22*x25 + x23*x25 - x24*x25 + x0*x26 + x1*x26 - x2*x26 - x4*x26 - x5*x26 - x12*x26 - x13*x26 + x14*x26 + x16*x26 + x17*x26 - x18*x26 - x19*x26 + x20*x26 + x22*x26 + x23*x26 + x24*x26 + x25*x26 + x26^2 + x0*x27 - x4*x27 - x12*x27 + x16*x27 - x18*x27 + x22*x27 + x24*x27 + x1*x28 - x2*x28 - x3*x28 - x13*x28 + x14*x28 + x15*x28 - x19*x28 + x20*x28 + x21*x28 + x25*x28 - x26*x28 - x27*x28 - x1*x29 - x2*x29 - x5*x29 + x13*x29 + x14*x29 + x17*x29 + x19*x29 + x20*x29 + x23*x29 - x25*x29 - x26*x29 + x29^2 + x0*x30 + x1*x30 - x2*x30 - x3*x30 - x6*x30 - x7*x30 + x8*x30 + x9*x30 - x12*x30 - x13*x30 + x14*x30 + x15*x30 + x18*x30 + x19*x30 - x20*x30 - x21*x30 - x24*x30 - x25*x30 + x26*x30 + x27*x30 + x0*x31 - x2*x31 - x4*x31 + x5*x31 - x6*x31 + x8*x31 + x10*x31 - x11*x31 - x12*x31 + x14*x31 + x16*x31 - x17*x31 + x18*x31 - x20*x31 - x22*x31 + x23*x31 - x24*x31 + x26*x31 + x28*x31 - x29*x31 - x0*x32 - x1*x32 + x2*x32 + x4*x32 + x5*x32 + x6*x32 + x7*x32 - x8*x32 - x10*x32 - x11*x32 + x12*x32 + x13*x32 - x14*x32 - x16*x32 - x17*x32 - x18*x32 - x19*x32 + x20*x32 + x22*x32 + x23*x32 + x24*x32 + x25*x32 - x26*x32 - x28*x32 - x29*x32 - x0*x33 + x4*x33 + x6*x33 - x10*x33 + x12*x33 - x16*x33 - x18*x33 + x22*x33 + x24*x33 - x28*x33 - x1*x34 + x2*x34 + x3*x34 + x7*x34 - x8*x34 - x9*x34 + x13*x34 - x14*x34 - x15*x34 - x19*x34 + x20*x34 + x21*x34 + x25*x34 - x26*x34 - x27*x34 + x1*x35 + x2*x35 + x5*x35 - x7*x35 - x8*x35 - x11*x35 - x13*x35 - x14*x35 - x17*x35 + x19*x35 + x20*x35 + x23*x35 - x25*x35 - x26*x35 - x29*x35, x0^2 - x0*x1 + x0*x2 + x1*x2 + x2^2 + x0*x3 + x1*x4 - x2*x4 - x3*x4 - x1*x5 - x2*x5 + x5^2 + x0*x6 + x1*x6 - x2*x6 - x3*x6 + x0*x7 - x2*x7 - x4*x7 + x5*x7 - x0*x8 - x1*x8 + x2*x8 + x4*x8 + x5*x8 - x0*x9 + x4*x9 - x1*x10 + x2*x10 + x3*x10 + x1*x11 + x2*x11 + x5*x11 + x0*x12 + x1*x12 - x2*x12 - x3*x12 + x6*x12 + x7*x12 - x8*x12 - x9*x12 + x0*x13 - x2*x13 - x4*x13 + x5*x13 + x6*x13 - x8*x13 - x10*x13 + x11*x13 - x0*x14 - x1*x14 + x2*x14 + x4*x14 + x5*x14 - x6*x14 - x7*x14 + x8*x14 + x10*x14 + x11*x14 - x0*x15 + x4*x15 - x6*x15 + x10*x15 - x1*x16 + x2*x16 + x3*x16 - x7*x16 + x8*x16 + x9*x16 + x1*x17 + x2*x17 + x5*x17 + x7*x17 + x8*x17 + x11*x17 - x6*x18 - x7*x18 + x8*x18 + x9*x18 + x12*x18 + x13*x18 - x14*x18 - x15*x18 + x18^2 - x6*x19 + x8*x19 + x10*x19 - x11*x19 + x12*x19 - x14*x19 - x16*x19 + x17*x19 - x18*x19 + x6*x20 + x7*x20 - x8*x20 - x10*x20 - x11*x20 - x12*x20 - x13*x20 + x14*x20 + x16*x20 + x17*x20 + x18*x20 + x19*x20 + x20^2 + x6*x21 - x10*x21 - x12*x21 + x16*x21 + x18*x21 + x7*x22 - x8*x22 - x9*x22 - x13*x22 + x14*x22 + x15*x22 + x19*x22 - x20*x22 - x21*x22 - x7*x23 - x8*x23 - x11*x23 + x13*x23 + x14*x23 + x17*x23 - x19*x23 - x20*x23 + x23^2 + x0*x24 + x1*x24 - x2*x24 - x3*x24 - x6*x24 - x7*x24 + x8*x24 + x9*x24 - x12*x24 - x13*x24 + x14*x24 + x15*x24 - x18*x24 - x19*x24 + x20*x24 + x21*x24 + x0*x25 - x2*x25 - x4*x25 + x5*x25 - x6*x25 + x8*x25 + x10*x25 - x11*x25 - x12*x25 + x14*x25 + x16*x25 - x17*x25 - x18*x25 + x20*x25 + x22*x25 - x23*x25 - x0*x26 - x1*x26 + x2*x26 + x4*x26 + x5*x26 + x6*x26 + x7*x26 - x8*x26 - x10*x26 - x11*x26 + x12*x26 + x13*x26 - x14*x26 - x16*x26 - x17*x26 + x18*x26 + x19*x26 - x20*x26 - x22*x26 - x23*x26 - x0*x27 + x4*x27 + x6*x27 - x10*x27 + x12*x27 - x16*x27 + x18*x27 - x22*x27 - x1*x28 + x2*x28 + x3*x28 + x7*x28 - x8*x28 - x9*x28 + x13*x28 - x14*x28 - x15*x28 + x19*x28 - x20*x28 - x21*x28 + x1*x29 + x2*x29 + x5*x29 - x7*x29 - x8*x29 - x11*x29 - x13*x29 - x14*x29 - x17*x29 - x19*x29 - x20*x29 - x23*x29 + x0*x30 + x1*x30 - x2*x30 - x3*x30 + x6*x30 + x7*x30 - x8*x30 - x9*x30 + x18*x30 + x19*x30 - x20*x30 - x21*x30 - x24*x30 - x25*x30 + x26*x30 + x27*x30 + x0*x31 - x2*x31 - x4*x31 + x5*x31 + x6*x31 - x8*x31 - x10*x31 + x11*x31 + x18*x31 - x20*x31 - x22*x31 + x23*x31 - x24*x31 + x26*x31 + x28*x31 - x29*x31 - x0*x32 - x1*x32 + x2*x32 + x4*x32 + x5*x32 - x6*x32 - x7*x32 + x8*x32 + x10*x32 + x11*x32 - x18*x32 - x19*x32 + x20*x32 + x22*x32 + x23*x32 + x24*x32 + x25*x32 - x26*x32 - x28*x32 - x29*x32 - x0*x33 + x4*x33 - x6*x33 + x10*x33 - x18*x33 + x22*x33 + x24*x33 - x28*x33 - x1*x34 + x2*x34 + x3*x34 - x7*x34 + x8*x34 + x9*x34 - x19*x34 + x20*x34 + x21*x34 + x25*x34 - x26*x34 - x27*x34 + x1*x35 + x2*x35 + x5*x35 + x7*x35 + x8*x35 + x11*x35 + x19*x35 + x20*x35 + x23*x35 - x25*x35 - x26*x35 - x29*x35, -x0^2 + x0*x1 - x1^2 - x0*x2 + x2^2 + x0*x3 + x2*x3 - x3^2 + x0*x4 + x1*x4 + x3*x4 + x4^2 + x0*x5 - x2*x5 - x4*x5 + x5^2 - x0*x6 - x1*x6 + x2*x6 - x3*x6 - x4*x6 - x5*x6 - x0*x7 - x1*x7 - x4*x7 + x0*x8 + x2*x8 - x3*x8 + x5*x8 - x0*x9 - x2*x9 - x3*x9 - x4*x9 - x0*x10 - x1*x10 - x3*x10 + x4*x10 + x5*x10 - x0*x11 + x2*x11 + x4*x11 + x5*x11 + x12^2 - x12*x13 + x13^2 + x12*x14 - x14^2 - x12*x15 - x14*x15 + x15^2 - x12*x16 - x13*x16 - x15*x16 - x16^2 - x12*x17 + x14*x17 + x16*x17 - x17^2 + x0*x18 + x1*x18 - x2*x18 + x3*x18 + x4*x18 + x5*x18 + x12*x18 + x13*x18 - x14*x18 + x15*x18 + x16*x18 + x17*x18 + x18^2 + x0*x19 + x1*x19 + x4*x19 + x12*x19 + x13*x19 + x16*x19 - x18*x19 + x19^2 - x0*x20 - x2*x20 + x3*x20 - x5*x20 - x12*x20 - x14*x20 + x15*x20 - x17*x20 + x18*x20 - x20^2 + x0*x21 + x2*x21 + x3*x21 + x4*x21 + x12*x21 + x14*x21 + x15*x21 + x16*x21 - x18*x21 - x20*x21 + x21^2 + x0*x22 + x1*x22 + x3*x22 - x4*x22 - x5*x22 + x12*x22 + x13*x22 + x15*x22 - x16*x22 - x17*x22 - x18*x22 - x19*x22 - x21*x22 - x22^2 + x0*x23 - x2*x23 - x4*x23 - x5*x23 + x12*x23 - x14*x23 - x16*x23 - x17*x23 - x18*x23 + x20*x23 + x22*x23 - x23^2 + x6*x24 + x7*x24 - x8*x24 + x9*x24 + x10*x24 + x11*x24 - x18*x24 - x19*x24 + x20*x24 - x21*x24 - x22*x24 - x23*x24 + x24^2 + x6*x25 + x7*x25 + x10*x25 - x18*x25 - x19*x25 - x22*x25 - x24*x25 + x25^2 - x6*x26 - x8*x26 + x9*x26 - x11*x26 + x18*x26 + x20*x26 - x21*x26 + x23*x26 + x24*x26 - x26^2 + x6*x27 + x8*x27 + x9*x27 + x10*x27 - x18*x27 - x20*x27 - x21*x27 - x22*x27 - x24*x27 - x26*x27 + x27^2 + x6*x28 + x7*x28 + x9*x28 - x10*x28 - x11*x28 - x18*x28 - x19*x28 - x21*x28 + x22*x28 + x23*x28 - x24*x28 - x25*x28 - x27*x28 - x28^2 + x6*x29 - x8*x29 - x10*x29 - x11*x29 - x18*x29 + x20*x29 + x22*x29 + x23*x29 - x24*x29 + x26*x29 + x28*x29 - x29^2 + x0*x30 + x1*x30 - x2*x30 + x3*x30 + x4*x30 + x5*x30 + x12*x30 + x13*x30 - x14*x30 + x15*x30 + x16*x30 + x17*x30 - x18*x30 - x19*x30 + x20*x30 - x21*x30 - x22*x30 - x23*x30 - x24*x30 - x25*x30 + x26*x30 - x27*x30 - x28*x30 - x29*x30 + x30^2 + x0*x31 + x1*x31 + x4*x31 + x12*x31 + x13*x31 + x16*x31 - x18*x31 - x19*x31 - x22*x31 - x24*x31 - x25*x31 - x28*x31 - x30*x31 + x31^2 - x0*x32 - x2*x32 + x3*x32 - x5*x32 - x12*x32 - x14*x32 + x15*x32 - x17*x32 + x18*x32 + x20*x32 - x21*x32 + x23*x32 + x24*x32 + x26*x32 - x27*x32 + x29*x32 + x30*x32 - x32^2 + x0*x33 + x2*x33 + x3*x33 + x4*x33 + x12*x33 + x14*x33 + x15*x33 + x16*x33 - x18*x33 - x20*x33 - x21*x33 - x22*x33 - x24*x33 - x26*x33 - x27*x33 - x28*x33 - x30*x33 - x32*x33 + x33^2 + x0*x34 + x1*x34 + x3*x34 - x4*x34 - x5*x34 + x12*x34 + x13*x34 + x15*x34 - x16*x34 - x17*x34 - x18*x34 - x19*x34 - x21*x34 + x22*x34 + x23*x34 - x24*x34 - x25*x34 - x27*x34 + x28*x34 + x29*x34 - x30*x34 - x31*x34 - x33*x34 - x34^2 + x0*x35 - x2*x35 - x4*x35 - x5*x35 + x12*x35 - x14*x35 - x16*x35 - x17*x35 - x18*x35 + x20*x35 + x22*x35 + x23*x35 - x24*x35 + x26*x35 + x28*x35 + x29*x35 - x30*x35 + x32*x35 + x34*x35 - x35^2, x0^2 - x0*x1 + x1^2 + x0*x2 - x2^2 - x0*x3 - x2*x3 + x3^2 - x0*x4 - x1*x4 - x3*x4 - x4^2 - x0*x5 + x2*x5 + x4*x5 - x5^2 - x6^2 + x6*x7 - x7^2 - x6*x8 + x8^2 + x6*x9 + x8*x9 - x9^2 + x6*x10 + x7*x10 + x9*x10 + x10^2 + x6*x11 - x8*x11 - x10*x11 + x11^2 - x0*x12 - x1*x12 + x2*x12 - x3*x12 - x4*x12 - x5*x12 + x12^2 - x0*x13 - x1*x13 - x4*x13 - x12*x13 + x13^2 + x0*x14 + x2*x14 - x3*x14 + x5*x14 + x12*x14 - x14^2 - x0*x15 - x2*x15 - x3*x15 - x4*x15 - x12*x15 - x14*x15 + x15^2 - x0*x16 - x1*x16 - x3*x16 + x4*x16 + x5*x16 - x12*x16 - x13*x16 - x15*x16 - x16^2 - x0*x17 + x2*x17 + x4*x17 + x5*x17 - x12*x17 + x14*x17 + x16*x17 - x17^2 + x6*x18 + x7*x18 - x8*x18 + x9*x18 + x10*x18 + x11*x18 - x18^2 + x6*x19 + x7*x19 + x10*x19 + x18*x19 - x19^2 - x6*x20 - x8*x20 + x9*x20 - x11*x20 - x18*x20 + x20^2 + x6*x21 + x8*x21 + x9*x21 + x10*x21 + x18*x21 + x20*x21 - x21^2 + x6*x22 + x7*x22 + x9*x22 - x10*x22 - x11*x22 + x18*x22 + x19*x22 + x21*x22 + x22^2 + x6*x23 - x8*x23 - x10*x23 - x11*x23 + x18*x23 - x20*x23 - x22*x23 + x23^2 + x0*x24 + x1*x24 - x2*x24 + x3*x24 + x4*x24 + x5*x24 - x6*x24 - x7*x24 + x8*x24 - x9*x24 - x10*x24 - x11*x24 + x0*x25 + x1*x25 + x4*x25 - x6*x25 - x7*x25 - x10*x25 - x0*x26 - x2*x26 + x3*x26 - x5*x26 + x6*x26 + x8*x26 - x9*x26 + x11*x26 + x0*x27 + x2*x27 + x3*x27 + x4*x27 - x6*x27 - x8*x27 - x9*x27 - x10*x27 + x0*x28 + x1*x28 + x3*x28 - x4*x28 - x5*x28 - x6*x28 - x7*x28 - x9*x28 + x10*x28 + x11*x28 + x0*x29 - x2*x29 - x4*x29 - x5*x29 - x6*x29 + x8*x29 + x10*x29 + x11*x29 + x0*x30 + x1*x30 - x2*x30 + x3*x30 + x4*x30 + x5*x30 - x6*x30 - x7*x30 + x8*x30 - x9*x30 - x10*x30 - x11*x30 - x12*x30 - x13*x30 + x14*x30 - x15*x30 - x16*x30 - x17*x30 + x18*x30 + x19*x30 - x20*x30 + x21*x30 + x22*x30 + x23*x30 + x24*x30 + x25*x30 - x26*x30 + x27*x30 + x28*x30 + x29*x30 - x30^2 + x0*x31 + x1*x31 + x4*x31 - x6*x31 - x7*x31 - x10*x31 - x12*x31 - x13*x31 - x16*x31 + x18*x31 + x19*x31 + x22*x31 + x24*x31 + x25*x31 + x28*x31 + x30*x31 - x31^2 - x0*x32 - x2*x32 + x3*x32 - x5*x32 + x6*x32 + x8*x32 - x9*x32 + x11*x32 + x12*x32 + x14*x32 - x15*x32 + x17*x32 - x18*x32 - x20*x32 + x21*x32 - x23*x32 - x24*x32 - x26*x32 + x27*x32 - x29*x32 - x30*x32 + x32^2 + x0*x33 + x2*x33 + x3*x33 + x4*x33 - x6*x33 - x8*x33 - x9*x33 - x10*x33 - x12*x33 - x14*x33 - x15*x33 - x16*x33 + x18*x33 + x20*x33 + x21*x33 + x22*x33 + x24*x33 + x26*x33 + x27*x33 + x28*x33 + x30*x33 + x32*x33 - x33^2 + x0*x34 + x1*x34 + x3*x34 - x4*x34 - x5*x34 - x6*x34 - x7*x34 - x9*x34 + x10*x34 + x11*x34 - x12*x34 - x13*x34 - x15*x34 + x16*x34 + x17*x34 + x18*x34 + x19*x34 + x21*x34 - x22*x34 - x23*x34 + x24*x34 + x25*x34 + x27*x34 - x28*x34 - x29*x34 + x30*x34 + x31*x34 + x33*x34 + x34^2 + x0*x35 - x2*x35 - x4*x35 - x5*x35 - x6*x35 + x8*x35 + x10*x35 + x11*x35 - x12*x35 + x14*x35 + x16*x35 + x17*x35 + x18*x35 - x20*x35 - x22*x35 - x23*x35 + x24*x35 - x26*x35 - x28*x35 - x29*x35 + x30*x35 - x32*x35 - x34*x35 + x35^2, x0^2 - x0*x1 + x1^2 + x0*x2 - x2^2 - x0*x3 - x2*x3 + x3^2 - x0*x4 - x1*x4 - x3*x4 - x4^2 - x0*x5 + x2*x5 + x4*x5 - x5^2 + x6^2 - x6*x7 + x7^2 + x6*x8 - x8^2 - x6*x9 - x8*x9 + x9^2 - x6*x10 - x7*x10 - x9*x10 - x10^2 - x6*x11 + x8*x11 + x10*x11 - x11^2 - x6*x12 - x7*x12 + x8*x12 - x9*x12 - x10*x12 - x11*x12 - x12^2 - x6*x13 - x7*x13 - x10*x13 + x12*x13 - x13^2 + x6*x14 + x8*x14 - x9*x14 + x11*x14 - x12*x14 + x14^2 - x6*x15 - x8*x15 - x9*x15 - x10*x15 + x12*x15 + x14*x15 - x15^2 - x6*x16 - x7*x16 - x9*x16 + x10*x16 + x11*x16 + x12*x16 + x13*x16 + x15*x16 + x16^2 - x6*x17 + x8*x17 + x10*x17 + x11*x17 + x12*x17 - x14*x17 - x16*x17 + x17^2 + x18^2 - x18*x19 + x19^2 + x18*x20 - x20^2 - x18*x21 - x20*x21 + x21^2 - x18*x22 - x19*x22 - x21*x22 - x22^2 - x18*x23 + x20*x23 + x22*x23 - x23^2 + x6*x24 + x7*x24 - x8*x24 + x9*x24 + x10*x24 + x11*x24 - x12*x24 - x13*x24 + x14*x24 - x15*x24 - x16*x24 - x17*x24 - x18*x24 - x19*x24 + x20*x24 - x21*x24 - x22*x24 - x23*x24 + x6*x25 + x7*x25 + x10*x25 - x12*x25 - x13*x25 - x16*x25 - x18*x25 - x19*x25 - x22*x25 - x6*x26 - x8*x26 + x9*x26 - x11*x26 + x12*x26 + x14*x26 - x15*x26 + x17*x26 + x18*x26 + x20*x26 - x21*x26 + x23*x26 + x6*x27 + x8*x27 + x9*x27 + x10*x27 - x12*x27 - x14*x27 - x15*x27 - x16*x27 - x18*x27 - x20*x27 - x21*x27 - x22*x27 + x6*x28 + x7*x28 + x9*x28 - x10*x28 - x11*x28 - x12*x28 - x13*x28 - x15*x28 + x16*x28 + x17*x28 - x18*x28 - x19*x28 - x21*x28 + x22*x28 + x23*x28 + x6*x29 - x8*x29 - x10*x29 - x11*x29 - x12*x29 + x14*x29 + x16*x29 + x17*x29 - x18*x29 + x20*x29 + x22*x29 + x23*x29 + x0*x30 + x1*x30 - x2*x30 + x3*x30 + x4*x30 + x5*x30 - x6*x30 - x7*x30 + x8*x30 - x9*x30 - x10*x30 - x11*x30 - x12*x30 - x13*x30 + x14*x30 - x15*x30 - x16*x30 - x17*x30 + x18*x30 + x19*x30 - x20*x30 + x21*x30 + x22*x30 + x23*x30 - x24*x30 - x25*x30 + x26*x30 - x27*x30 - x28*x30 - x29*x30 + x0*x31 + x1*x31 + x4*x31 - x6*x31 - x7*x31 - x10*x31 - x12*x31 - x13*x31 - x16*x31 + x18*x31 + x19*x31 + x22*x31 - x24*x31 - x25*x31 - x28*x31 - x0*x32 - x2*x32 + x3*x32 - x5*x32 + x6*x32 + x8*x32 - x9*x32 + x11*x32 + x12*x32 + x14*x32 - x15*x32 + x17*x32 - x18*x32 - x20*x32 + x21*x32 - x23*x32 + x24*x32 + x26*x32 - x27*x32 + x29*x32 + x0*x33 + x2*x33 + x3*x33 + x4*x33 - x6*x33 - x8*x33 - x9*x33 - x10*x33 - x12*x33 - x14*x33 - x15*x33 - x16*x33 + x18*x33 + x20*x33 + x21*x33 + x22*x33 - x24*x33 - x26*x33 - x27*x33 - x28*x33 + x0*x34 + x1*x34 + x3*x34 - x4*x34 - x5*x34 - x6*x34 - x7*x34 - x9*x34 + x10*x34 + x11*x34 - x12*x34 - x13*x34 - x15*x34 + x16*x34 + x17*x34 + x18*x34 + x19*x34 + x21*x34 - x22*x34 - x23*x34 - x24*x34 - x25*x34 - x27*x34 + x28*x34 + x29*x34 + x0*x35 - x2*x35 - x4*x35 - x5*x35 - x6*x35 + x8*x35 + x10*x35 + x11*x35 - x12*x35 + x14*x35 + x16*x35 + x17*x35 + x18*x35 - x20*x35 - x22*x35 - x23*x35 - x24*x35 + x26*x35 + x28*x35 + x29*x35, -x0^2 + x0*x1 - x1^2 - x0*x2 + x2^2 + x0*x3 + x2*x3 - x3^2 + x0*x4 + x1*x4 + x3*x4 + x4^2 + x0*x5 - x2*x5 - x4*x5 + x5^2 - x6^2 + x6*x7 - x7^2 - x6*x8 + x8^2 + x6*x9 + x8*x9 - x9^2 + x6*x10 + x7*x10 + x9*x10 + x10^2 + x6*x11 - x8*x11 - x10*x11 + x11^2 - x6*x12 - x7*x12 + x8*x12 - x9*x12 - x10*x12 - x11*x12 + x12^2 - x6*x13 - x7*x13 - x10*x13 - x12*x13 + x13^2 + x6*x14 + x8*x14 - x9*x14 + x11*x14 + x12*x14 - x14^2 - x6*x15 - x8*x15 - x9*x15 - x10*x15 - x12*x15 - x14*x15 + x15^2 - x6*x16 - x7*x16 - x9*x16 + x10*x16 + x11*x16 - x12*x16 - x13*x16 - x15*x16 - x16^2 - x6*x17 + x8*x17 + x10*x17 + x11*x17 - x12*x17 + x14*x17 + x16*x17 - x17^2 + x0*x18 + x1*x18 - x2*x18 + x3*x18 + x4*x18 + x5*x18 - x6*x18 - x7*x18 + x8*x18 - x9*x18 - x10*x18 - x11*x18 + x0*x19 + x1*x19 + x4*x19 - x6*x19 - x7*x19 - x10*x19 - x0*x20 - x2*x20 + x3*x20 - x5*x20 + x6*x20 + x8*x20 - x9*x20 + x11*x20 + x0*x21 + x2*x21 + x3*x21 + x4*x21 - x6*x21 - x8*x21 - x9*x21 - x10*x21 + x0*x22 + x1*x22 + x3*x22 - x4*x22 - x5*x22 - x6*x22 - x7*x22 - x9*x22 + x10*x22 + x11*x22 + x0*x23 - x2*x23 - x4*x23 - x5*x23 - x6*x23 + x8*x23 + x10*x23 + x11*x23 - x0*x24 - x1*x24 + x2*x24 - x3*x24 - x4*x24 - x5*x24 - x12*x24 - x13*x24 + x14*x24 - x15*x24 - x16*x24 - x17*x24 + x24^2 - x0*x25 - x1*x25 - x4*x25 - x12*x25 - x13*x25 - x16*x25 - x24*x25 + x25^2 + x0*x26 + x2*x26 - x3*x26 + x5*x26 + x12*x26 + x14*x26 - x15*x26 + x17*x26 + x24*x26 - x26^2 - x0*x27 - x2*x27 - x3*x27 - x4*x27 - x12*x27 - x14*x27 - x15*x27 - x16*x27 - x24*x27 - x26*x27 + x27^2 - x0*x28 - x1*x28 - x3*x28 + x4*x28 + x5*x28 - x12*x28 - x13*x28 - x15*x28 + x16*x28 + x17*x28 - x24*x28 - x25*x28 - x27*x28 - x28^2 - x0*x29 + x2*x29 + x4*x29 + x5*x29 - x12*x29 + x14*x29 + x16*x29 + x17*x29 - x24*x29 + x26*x29 + x28*x29 - x29^2 + x0*x30 + x1*x30 - x2*x30 + x3*x30 + x4*x30 + x5*x30 + x12*x30 + x13*x30 - x14*x30 + x15*x30 + x16*x30 + x17*x30 + x24*x30 + x25*x30 - x26*x30 + x27*x30 + x28*x30 + x29*x30 + x30^2 + x0*x31 + x1*x31 + x4*x31 + x12*x31 + x13*x31 + x16*x31 + x24*x31 + x25*x31 + x28*x31 - x30*x31 + x31^2 - x0*x32 - x2*x32 + x3*x32 - x5*x32 - x12*x32 - x14*x32 + x15*x32 - x17*x32 - x24*x32 - x26*x32 + x27*x32 - x29*x32 + x30*x32 - x32^2 + x0*x33 + x2*x33 + x3*x33 + x4*x33 + x12*x33 + x14*x33 + x15*x33 + x16*x33 + x24*x33 + x26*x33 + x27*x33 + x28*x33 - x30*x33 - x32*x33 + x33^2 + x0*x34 + x1*x34 + x3*x34 - x4*x34 - x5*x34 + x12*x34 + x13*x34 + x15*x34 - x16*x34 - x17*x34 + x24*x34 + x25*x34 + x27*x34 - x28*x34 - x29*x34 - x30*x34 - x31*x34 - x33*x34 - x34^2 + x0*x35 - x2*x35 - x4*x35 - x5*x35 + x12*x35 - x14*x35 - x16*x35 - x17*x35 + x24*x35 - x26*x35 - x28*x35 - x29*x35 - x30*x35 + x32*x35 + x34*x35 - x35^2, -x0^2 + x0*x1 - x1^2 - x0*x2 + x2^2 + x0*x3 + x2*x3 - x3^2 + x0*x4 + x1*x4 + x3*x4 + x4^2 + x0*x5 - x2*x5 - x4*x5 + x5^2 - x0*x6 - x1*x6 + x2*x6 - x3*x6 - x4*x6 - x5*x6 + x6^2 - x0*x7 - x1*x7 - x4*x7 - x6*x7 + x7^2 + x0*x8 + x2*x8 - x3*x8 + x5*x8 + x6*x8 - x8^2 - x0*x9 - x2*x9 - x3*x9 - x4*x9 - x6*x9 - x8*x9 + x9^2 - x0*x10 - x1*x10 - x3*x10 + x4*x10 + x5*x10 - x6*x10 - x7*x10 - x9*x10 - x10^2 - x0*x11 + x2*x11 + x4*x11 + x5*x11 - x6*x11 + x8*x11 + x10*x11 - x11^2 + x6*x12 + x7*x12 - x8*x12 + x9*x12 + x10*x12 + x11*x12 + x12^2 + x6*x13 + x7*x13 + x10*x13 - x12*x13 + x13^2 - x6*x14 - x8*x14 + x9*x14 - x11*x14 + x12*x14 - x14^2 + x6*x15 + x8*x15 + x9*x15 + x10*x15 - x12*x15 - x14*x15 + x15^2 + x6*x16 + x7*x16 + x9*x16 - x10*x16 - x11*x16 - x12*x16 - x13*x16 - x15*x16 - x16^2 + x6*x17 - x8*x17 - x10*x17 - x11*x17 - x12*x17 + x14*x17 + x16*x17 - x17^2 - x12*x18 - x13*x18 + x14*x18 - x15*x18 - x16*x18 - x17*x18 - x18^2 - x12*x19 - x13*x19 - x16*x19 + x18*x19 - x19^2 + x12*x20 + x14*x20 - x15*x20 + x17*x20 - x18*x20 + x20^2 - x12*x21 - x14*x21 - x15*x21 - x16*x21 + x18*x21 + x20*x21 - x21^2 - x12*x22 - x13*x22 - x15*x22 + x16*x22 + x17*x22 + x18*x22 + x19*x22 + x21*x22 + x22^2 - x12*x23 + x14*x23 + x16*x23 + x17*x23 + x18*x23 - x20*x23 - x22*x23 + x23^2 + x0*x24 + x1*x24 - x2*x24 + x3*x24 + x4*x24 + x5*x24 - x12*x24 - x13*x24 + x14*x24 - x15*x24 - x16*x24 - x17*x24 - x18*x24 - x19*x24 + x20*x24 - x21*x24 - x22*x24 - x23*x24 - x24^2 + x0*x25 + x1*x25 + x4*x25 - x12*x25 - x13*x25 - x16*x25 - x18*x25 - x19*x25 - x22*x25 + x24*x25 - x25^2 - x0*x26 - x2*x26 + x3*x26 - x5*x26 + x12*x26 + x14*x26 - x15*x26 + x17*x26 + x18*x26 + x20*x26 - x21*x26 + x23*x26 - x24*x26 + x26^2 + x0*x27 + x2*x27 + x3*x27 + x4*x27 - x12*x27 - x14*x27 - x15*x27 - x16*x27 - x18*x27 - x20*x27 - x21*x27 - x22*x27 + x24*x27 + x26*x27 - x27^2 + x0*x28 + x1*x28 + x3*x28 - x4*x28 - x5*x28 - x12*x28 - x13*x28 - x15*x28 + x16*x28 + x17*x28 - x18*x28 - x19*x28 - x21*x28 + x22*x28 + x23*x28 + x24*x28 + x25*x28 + x27*x28 + x28^2 + x0*x29 - x2*x29 - x4*x29 - x5*x29 - x12*x29 + x14*x29 + x16*x29 + x17*x29 - x18*x29 + x20*x29 + x22*x29 + x23*x29 + x24*x29 - x26*x29 - x28*x29 + x29^2 - x0*x30 - x1*x30 + x2*x30 - x3*x30 - x4*x30 - x5*x30 + x6*x30 + x7*x30 - x8*x30 + x9*x30 + x10*x30 + x11*x30 + x12*x30 + x13*x30 - x14*x30 + x15*x30 + x16*x30 + x17*x30 - x18*x30 - x19*x30 + x20*x30 - x21*x30 - x22*x30 - x23*x30 + x24*x30 + x25*x30 - x26*x30 + x27*x30 + x28*x30 + x29*x30 - x0*x31 - x1*x31 - x4*x31 + x6*x31 + x7*x31 + x10*x31 + x12*x31 + x13*x31 + x16*x31 - x18*x31 - x19*x31 - x22*x31 + x24*x31 + x25*x31 + x28*x31 + x0*x32 + x2*x32 - x3*x32 + x5*x32 - x6*x32 - x8*x32 + x9*x32 - x11*x32 - x12*x32 - x14*x32 + x15*x32 - x17*x32 + x18*x32 + x20*x32 - x21*x32 + x23*x32 - x24*x32 - x26*x32 + x27*x32 - x29*x32 - x0*x33 - x2*x33 - x3*x33 - x4*x33 + x6*x33 + x8*x33 + x9*x33 + x10*x33 + x12*x33 + x14*x33 + x15*x33 + x16*x33 - x18*x33 - x20*x33 - x21*x33 - x22*x33 + x24*x33 + x26*x33 + x27*x33 + x28*x33 - x0*x34 - x1*x34 - x3*x34 + x4*x34 + x5*x34 + x6*x34 + x7*x34 + x9*x34 - x10*x34 - x11*x34 + x12*x34 + x13*x34 + x15*x34 - x16*x34 - x17*x34 - x18*x34 - x19*x34 - x21*x34 + x22*x34 + x23*x34 + x24*x34 + x25*x34 + x27*x34 - x28*x34 - x29*x34 - x0*x35 + x2*x35 + x4*x35 + x5*x35 + x6*x35 - x8*x35 - x10*x35 - x11*x35 + x12*x35 - x14*x35 - x16*x35 - x17*x35 - x18*x35 + x20*x35 + x22*x35 + x23*x35 + x24*x35 - x26*x35 - x28*x35 - x29*x35, -x0^2 + x0*x1 - x1^2 - x0*x2 + x2^2 + x0*x3 + x2*x3 - x3^2 + x0*x4 + x1*x4 + x3*x4 + x4^2 + x0*x5 - x2*x5 - x4*x5 + x5^2 - x0*x6 - x1*x6 + x2*x6 - x3*x6 - x4*x6 - x5*x6 - x0*x7 - x1*x7 - x4*x7 + x0*x8 + x2*x8 - x3*x8 + x5*x8 - x0*x9 - x2*x9 - x3*x9 - x4*x9 - x0*x10 - x1*x10 - x3*x10 + x4*x10 + x5*x10 - x0*x11 + x2*x11 + x4*x11 + x5*x11 - x0*x12 - x1*x12 + x2*x12 - x3*x12 - x4*x12 - x5*x12 - x6*x12 - x7*x12 + x8*x12 - x9*x12 - x10*x12 - x11*x12 - x0*x13 - x1*x13 - x4*x13 - x6*x13 - x7*x13 - x10*x13 + x0*x14 + x2*x14 - x3*x14 + x5*x14 + x6*x14 + x8*x14 - x9*x14 + x11*x14 - x0*x15 - x2*x15 - x3*x15 - x4*x15 - x6*x15 - x8*x15 - x9*x15 - x10*x15 - x0*x16 - x1*x16 - x3*x16 + x4*x16 + x5*x16 - x6*x16 - x7*x16 - x9*x16 + x10*x16 + x11*x16 - x0*x17 + x2*x17 + x4*x17 + x5*x17 - x6*x17 + x8*x17 + x10*x17 + x11*x17 + x6*x18 + x7*x18 - x8*x18 + x9*x18 + x10*x18 + x11*x18 - x12*x18 - x13*x18 + x14*x18 - x15*x18 - x16*x18 - x17*x18 - x18^2 + x6*x19 + x7*x19 + x10*x19 - x12*x19 - x13*x19 - x16*x19 + x18*x19 - x19^2 - x6*x20 - x8*x20 + x9*x20 - x11*x20 + x12*x20 + x14*x20 - x15*x20 + x17*x20 - x18*x20 + x20^2 + x6*x21 + x8*x21 + x9*x21 + x10*x21 - x12*x21 - x14*x21 - x15*x21 - x16*x21 + x18*x21 + x20*x21 - x21^2 + x6*x22 + x7*x22 + x9*x22 - x10*x22 - x11*x22 - x12*x22 - x13*x22 - x15*x22 + x16*x22 + x17*x22 + x18*x22 + x19*x22 + x21*x22 + x22^2 + x6*x23 - x8*x23 - x10*x23 - x11*x23 - x12*x23 + x14*x23 + x16*x23 + x17*x23 + x18*x23 - x20*x23 - x22*x23 + x23^2 - x0*x24 - x1*x24 + x2*x24 - x3*x24 - x4*x24 - x5*x24 + x6*x24 + x7*x24 - x8*x24 + x9*x24 + x10*x24 + x11*x24 + x12*x24 + x13*x24 - x14*x24 + x15*x24 + x16*x24 + x17*x24 + x18*x24 + x19*x24 - x20*x24 + x21*x24 + x22*x24 + x23*x24 - x0*x25 - x1*x25 - x4*x25 + x6*x25 + x7*x25 + x10*x25 + x12*x25 + x13*x25 + x16*x25 + x18*x25 + x19*x25 + x22*x25 + x0*x26 + x2*x26 - x3*x26 + x5*x26 - x6*x26 - x8*x26 + x9*x26 - x11*x26 - x12*x26 - x14*x26 + x15*x26 - x17*x26 - x18*x26 - x20*x26 + x21*x26 - x23*x26 - x0*x27 - x2*x27 - x3*x27 - x4*x27 + x6*x27 + x8*x27 + x9*x27 + x10*x27 + x12*x27 + x14*x27 + x15*x27 + x16*x27 + x18*x27 + x20*x27 + x21*x27 + x22*x27 - x0*x28 - x1*x28 - x3*x28 + x4*x28 + x5*x28 + x6*x28 + x7*x28 + x9*x28 - x10*x28 - x11*x28 + x12*x28 + x13*x28 + x15*x28 - x16*x28 - x17*x28 + x18*x28 + x19*x28 + x21*x28 - x22*x28 - x23*x28 - x0*x29 + x2*x29 + x4*x29 + x5*x29 + x6*x29 - x8*x29 - x10*x29 - x11*x29 + x12*x29 - x14*x29 - x16*x29 - x17*x29 + x18*x29 - x20*x29 - x22*x29 - x23*x29 - x0*x30 - x1*x30 + x2*x30 - x3*x30 - x4*x30 - x5*x30 - x6*x30 - x7*x30 + x8*x30 - x9*x30 - x10*x30 - x11*x30 - x18*x30 - x19*x30 + x20*x30 - x21*x30 - x22*x30 - x23*x30 + x24*x30 + x25*x30 - x26*x30 + x27*x30 + x28*x30 + x29*x30 - x0*x31 - x1*x31 - x4*x31 - x6*x31 - x7*x31 - x10*x31 - x18*x31 - x19*x31 - x22*x31 + x24*x31 + x25*x31 + x28*x31 + x0*x32 + x2*x32 - x3*x32 + x5*x32 + x6*x32 + x8*x32 - x9*x32 + x11*x32 + x18*x32 + x20*x32 - x21*x32 + x23*x32 - x24*x32 - x26*x32 + x27*x32 - x29*x32 - x0*x33 - x2*x33 - x3*x33 - x4*x33 - x6*x33 - x8*x33 - x9*x33 - x10*x33 - x18*x33 - x20*x33 - x21*x33 - x22*x33 + x24*x33 + x26*x33 + x27*x33 + x28*x33 - x0*x34 - x1*x34 - x3*x34 + x4*x34 + x5*x34 - x6*x34 - x7*x34 - x9*x34 + x10*x34 + x11*x34 - x18*x34 - x19*x34 - x21*x34 + x22*x34 + x23*x34 + x24*x34 + x25*x34 + x27*x34 - x28*x34 - x29*x34 - x0*x35 + x2*x35 + x4*x35 + x5*x35 - x6*x35 + x8*x35 + x10*x35 + x11*x35 - x18*x35 + x20*x35 + x22*x35 + x23*x35 + x24*x35 - x26*x35 - x28*x35 - x29*x35, x0^2 + x0*x1 - x1^2 + x0*x2 - x2^2 + x1*x3 + x2*x3 - x3^2 - x0*x4 - x1*x4 + x4^2 + x0*x5 - x1*x5 + x3*x5 + x5^2 + x0*x6 - x1*x6 - x2*x6 + x4*x6 - x5*x6 - x0*x7 - x1*x7 - x3*x7 + x4*x7 + x5*x7 - x0*x8 - x2*x8 - x3*x8 - x1*x9 - x2*x9 - x3*x9 - x5*x9 + x0*x10 + x1*x10 + x4*x10 - x0*x11 + x1*x11 - x3*x11 + x5*x11 - x12^2 - x12*x13 + x13^2 - x12*x14 + x14^2 - x13*x15 - x14*x15 + x15^2 + x12*x16 + x13*x16 - x16^2 - x12*x17 + x13*x17 - x15*x17 - x17^2 - x0*x18 + x1*x18 + x2*x18 - x4*x18 + x5*x18 - x12*x18 + x13*x18 + x14*x18 - x16*x18 + x17*x18 - x18^2 + x0*x19 + x1*x19 + x3*x19 - x4*x19 - x5*x19 + x12*x19 + x13*x19 + x15*x19 - x16*x19 - x17*x19 - x18*x19 + x19^2 + x0*x20 + x2*x20 + x3*x20 + x12*x20 + x14*x20 + x15*x20 - x18*x20 + x20^2 + x1*x21 + x2*x21 + x3*x21 + x5*x21 + x13*x21 + x14*x21 + x15*x21 + x17*x21 - x19*x21 - x20*x21 + x21^2 - x0*x22 - x1*x22 - x4*x22 - x12*x22 - x13*x22 - x16*x22 + x18*x22 + x19*x22 - x22^2 + x0*x23 - x1*x23 + x3*x23 - x5*x23 + x12*x23 - x13*x23 + x15*x23 - x17*x23 - x18*x23 + x19*x23 - x21*x23 - x23^2 - x6*x24 + x7*x24 + x8*x24 - x10*x24 + x11*x24 + x18*x24 - x19*x24 - x20*x24 + x22*x24 - x23*x24 - x24^2 + x6*x25 + x7*x25 + x9*x25 - x10*x25 - x11*x25 - x18*x25 - x19*x25 - x21*x25 + x22*x25 + x23*x25 - x24*x25 + x25^2 + x6*x26 + x8*x26 + x9*x26 - x18*x26 - x20*x26 - x21*x26 - x24*x26 + x26^2 + x7*x27 + x8*x27 + x9*x27 + x11*x27 - x19*x27 - x20*x27 - x21*x27 - x23*x27 - x25*x27 - x26*x27 + x27^2 - x6*x28 - x7*x28 - x10*x28 + x18*x28 + x19*x28 + x22*x28 + x24*x28 + x25*x28 - x28^2 + x6*x29 - x7*x29 + x9*x29 - x11*x29 - x18*x29 + x19*x29 - x21*x29 + x23*x29 - x24*x29 + x25*x29 - x27*x29 - x29^2 - x0*x30 + x1*x30 + x2*x30 - x4*x30 + x5*x30 - x12*x30 + x13*x30 + x14*x30 - x16*x30 + x17*x30 + x18*x30 - x19*x30 - x20*x30 + x22*x30 - x23*x30 + x24*x30 - x25*x30 - x26*x30 + x28*x30 - x29*x30 - x30^2 + x0*x31 + x1*x31 + x3*x31 - x4*x31 - x5*x31 + x12*x31 + x13*x31 + x15*x31 - x16*x31 - x17*x31 - x18*x31 - x19*x31 - x21*x31 + x22*x31 + x23*x31 - x24*x31 - x25*x31 - x27*x31 + x28*x31 + x29*x31 - x30*x31 + x31^2 + x0*x32 + x2*x32 + x3*x32 + x12*x32 + x14*x32 + x15*x32 - x18*x32 - x20*x32 - x21*x32 - x24*x32 - x26*x32 - x27*x32 - x30*x32 + x32^2 + x1*x33 + x2*x33 + x3*x33 + x5*x33 + x13*x33 + x14*x33 + x15*x33 + x17*x33 - x19*x33 - x20*x33 - x21*x33 - x23*x33 - x25*x33 - x26*x33 - x27*x33 - x29*x33 - x31*x33 - x32*x33 + x33^2 - x0*x34 - x1*x34 - x4*x34 - x12*x34 - x13*x34 - x16*x34 + x18*x34 + x19*x34 + x22*x34 + x24*x34 + x25*x34 + x28*x34 + x30*x34 + x31*x34 - x34^2 + x0*x35 - x1*x35 + x3*x35 - x5*x35 + x12*x35 - x13*x35 + x15*x35 - x17*x35 - x18*x35 + x19*x35 - x21*x35 + x23*x35 - x24*x35 + x25*x35 - x27*x35 + x29*x35 - x30*x35 + x31*x35 - x33*x35 - x35^2, -x0^2 - x0*x1 + x1^2 - x0*x2 + x2^2 - x1*x3 - x2*x3 + x3^2 + x0*x4 + x1*x4 - x4^2 - x0*x5 + x1*x5 - x3*x5 - x5^2 + x6^2 + x6*x7 - x7^2 + x6*x8 - x8^2 + x7*x9 + x8*x9 - x9^2 - x6*x10 - x7*x10 + x10^2 + x6*x11 - x7*x11 + x9*x11 + x11^2 + x0*x12 - x1*x12 - x2*x12 + x4*x12 - x5*x12 - x12^2 - x0*x13 - x1*x13 - x3*x13 + x4*x13 + x5*x13 - x12*x13 + x13^2 - x0*x14 - x2*x14 - x3*x14 - x12*x14 + x14^2 - x1*x15 - x2*x15 - x3*x15 - x5*x15 - x13*x15 - x14*x15 + x15^2 + x0*x16 + x1*x16 + x4*x16 + x12*x16 + x13*x16 - x16^2 - x0*x17 + x1*x17 - x3*x17 + x5*x17 - x12*x17 + x13*x17 - x15*x17 - x17^2 - x6*x18 + x7*x18 + x8*x18 - x10*x18 + x11*x18 + x18^2 + x6*x19 + x7*x19 + x9*x19 - x10*x19 - x11*x19 + x18*x19 - x19^2 + x6*x20 + x8*x20 + x9*x20 + x18*x20 - x20^2 + x7*x21 + x8*x21 + x9*x21 + x11*x21 + x19*x21 + x20*x21 - x21^2 - x6*x22 - x7*x22 - x10*x22 - x18*x22 - x19*x22 + x22^2 + x6*x23 - x7*x23 + x9*x23 - x11*x23 + x18*x23 - x19*x23 + x21*x23 + x23^2 - x0*x24 + x1*x24 + x2*x24 - x4*x24 + x5*x24 + x6*x24 - x7*x24 - x8*x24 + x10*x24 - x11*x24 + x0*x25 + x1*x25 + x3*x25 - x4*x25 - x5*x25 - x6*x25 - x7*x25 - x9*x25 + x10*x25 + x11*x25 + x0*x26 + x2*x26 + x3*x26 - x6*x26 - x8*x26 - x9*x26 + x1*x27 + x2*x27 + x3*x27 + x5*x27 - x7*x27 - x8*x27 - x9*x27 - x11*x27 - x0*x28 - x1*x28 - x4*x28 + x6*x28 + x7*x28 + x10*x28 + x0*x29 - x1*x29 + x3*x29 - x5*x29 - x6*x29 + x7*x29 - x9*x29 + x11*x29 - x0*x30 + x1*x30 + x2*x30 - x4*x30 + x5*x30 + x6*x30 - x7*x30 - x8*x30 + x10*x30 - x11*x30 + x12*x30 - x13*x30 - x14*x30 + x16*x30 - x17*x30 - x18*x30 + x19*x30 + x20*x30 - x22*x30 + x23*x30 - x24*x30 + x25*x30 + x26*x30 - x28*x30 + x29*x30 + x30^2 + x0*x31 + x1*x31 + x3*x31 - x4*x31 - x5*x31 - x6*x31 - x7*x31 - x9*x31 + x10*x31 + x11*x31 - x12*x31 - x13*x31 - x15*x31 + x16*x31 + x17*x31 + x18*x31 + x19*x31 + x21*x31 - x22*x31 - x23*x31 + x24*x31 + x25*x31 + x27*x31 - x28*x31 - x29*x31 + x30*x31 - x31^2 + x0*x32 + x2*x32 + x3*x32 - x6*x32 - x8*x32 - x9*x32 - x12*x32 - x14*x32 - x15*x32 + x18*x32 + x20*x32 + x21*x32 + x24*x32 + x26*x32 + x27*x32 + x30*x32 - x32^2 + x1*x33 + x2*x33 + x3*x33 + x5*x33 - x7*x33 - x8*x33 - x9*x33 - x11*x33 - x13*x33 - x14*x33 - x15*x33 - x17*x33 + x19*x33 + x20*x33 + x21*x33 + x23*x33 + x25*x33 + x26*x33 + x27*x33 + x29*x33 + x31*x33 + x32*x33 - x33^2 - x0*x34 - x1*x34 - x4*x34 + x6*x34 + x7*x34 + x10*x34 + x12*x34 + x13*x34 + x16*x34 - x18*x34 - x19*x34 - x22*x34 - x24*x34 - x25*x34 - x28*x34 - x30*x34 - x31*x34 + x34^2 + x0*x35 - x1*x35 + x3*x35 - x5*x35 - x6*x35 + x7*x35 - x9*x35 + x11*x35 - x12*x35 + x13*x35 - x15*x35 + x17*x35 + x18*x35 - x19*x35 + x21*x35 - x23*x35 + x24*x35 - x25*x35 + x27*x35 - x29*x35 + x30*x35 - x31*x35 + x33*x35 + x35^2, -x0^2 - x0*x1 + x1^2 - x0*x2 + x2^2 - x1*x3 - x2*x3 + x3^2 + x0*x4 + x1*x4 - x4^2 - x0*x5 + x1*x5 - x3*x5 - x5^2 - x6^2 - x6*x7 + x7^2 - x6*x8 + x8^2 - x7*x9 - x8*x9 + x9^2 + x6*x10 + x7*x10 - x10^2 - x6*x11 + x7*x11 - x9*x11 - x11^2 + x6*x12 - x7*x12 - x8*x12 + x10*x12 - x11*x12 + x12^2 - x6*x13 - x7*x13 - x9*x13 + x10*x13 + x11*x13 + x12*x13 - x13^2 - x6*x14 - x8*x14 - x9*x14 + x12*x14 - x14^2 - x7*x15 - x8*x15 - x9*x15 - x11*x15 + x13*x15 + x14*x15 - x15^2 + x6*x16 + x7*x16 + x10*x16 - x12*x16 - x13*x16 + x16^2 - x6*x17 + x7*x17 - x9*x17 + x11*x17 + x12*x17 - x13*x17 + x15*x17 + x17^2 - x18^2 - x18*x19 + x19^2 - x18*x20 + x20^2 - x19*x21 - x20*x21 + x21^2 + x18*x22 + x19*x22 - x22^2 - x18*x23 + x19*x23 - x21*x23 - x23^2 - x6*x24 + x7*x24 + x8*x24 - x10*x24 + x11*x24 + x12*x24 - x13*x24 - x14*x24 + x16*x24 - x17*x24 + x18*x24 - x19*x24 - x20*x24 + x22*x24 - x23*x24 + x6*x25 + x7*x25 + x9*x25 - x10*x25 - x11*x25 - x12*x25 - x13*x25 - x15*x25 + x16*x25 + x17*x25 - x18*x25 - x19*x25 - x21*x25 + x22*x25 + x23*x25 + x6*x26 + x8*x26 + x9*x26 - x12*x26 - x14*x26 - x15*x26 - x18*x26 - x20*x26 - x21*x26 + x7*x27 + x8*x27 + x9*x27 + x11*x27 - x13*x27 - x14*x27 - x15*x27 - x17*x27 - x19*x27 - x20*x27 - x21*x27 - x23*x27 - x6*x28 - x7*x28 - x10*x28 + x12*x28 + x13*x28 + x16*x28 + x18*x28 + x19*x28 + x22*x28 + x6*x29 - x7*x29 + x9*x29 - x11*x29 - x12*x29 + x13*x29 - x15*x29 + x17*x29 - x18*x29 + x19*x29 - x21*x29 + x23*x29 - x0*x30 + x1*x30 + x2*x30 - x4*x30 + x5*x30 + x6*x30 - x7*x30 - x8*x30 + x10*x30 - x11*x30 + x12*x30 - x13*x30 - x14*x30 + x16*x30 - x17*x30 - x18*x30 + x19*x30 + x20*x30 - x22*x30 + x23*x30 + x24*x30 - x25*x30 - x26*x30 + x28*x30 - x29*x30 + x0*x31 + x1*x31 + x3*x31 - x4*x31 - x5*x31 - x6*x31 - x7*x31 - x9*x31 + x10*x31 + x11*x31 - x12*x31 - x13*x31 - x15*x31 + x16*x31 + x17*x31 + x18*x31 + x19*x31 + x21*x31 - x22*x31 - x23*x31 - x24*x31 - x25*x31 - x27*x31 + x28*x31 + x29*x31 + x0*x32 + x2*x32 + x3*x32 - x6*x32 - x8*x32 - x9*x32 - x12*x32 - x14*x32 - x15*x32 + x18*x32 + x20*x32 + x21*x32 - x24*x32 - x26*x32 - x27*x32 + x1*x33 + x2*x33 + x3*x33 + x5*x33 - x7*x33 - x8*x33 - x9*x33 - x11*x33 - x13*x33 - x14*x33 - x15*x33 - x17*x33 + x19*x33 + x20*x33 + x21*x33 + x23*x33 - x25*x33 - x26*x33 - x27*x33 - x29*x33 - x0*x34 - x1*x34 - x4*x34 + x6*x34 + x7*x34 + x10*x34 + x12*x34 + x13*x34 + x16*x34 - x18*x34 - x19*x34 - x22*x34 + x24*x34 + x25*x34 + x28*x34 + x0*x35 - x1*x35 + x3*x35 - x5*x35 - x6*x35 + x7*x35 - x9*x35 + x11*x35 - x12*x35 + x13*x35 - x15*x35 + x17*x35 + x18*x35 - x19*x35 + x21*x35 - x23*x35 - x24*x35 + x25*x35 - x27*x35 + x29*x35, x0^2 + x0*x1 - x1^2 + x0*x2 - x2^2 + x1*x3 + x2*x3 - x3^2 - x0*x4 - x1*x4 + x4^2 + x0*x5 - x1*x5 + x3*x5 + x5^2 + x6^2 + x6*x7 - x7^2 + x6*x8 - x8^2 + x7*x9 + x8*x9 - x9^2 - x6*x10 - x7*x10 + x10^2 + x6*x11 - x7*x11 + x9*x11 + x11^2 + x6*x12 - x7*x12 - x8*x12 + x10*x12 - x11*x12 - x12^2 - x6*x13 - x7*x13 - x9*x13 + x10*x13 + x11*x13 - x12*x13 + x13^2 - x6*x14 - x8*x14 - x9*x14 - x12*x14 + x14^2 - x7*x15 - x8*x15 - x9*x15 - x11*x15 - x13*x15 - x14*x15 + x15^2 + x6*x16 + x7*x16 + x10*x16 + x12*x16 + x13*x16 - x16^2 - x6*x17 + x7*x17 - x9*x17 + x11*x17 - x12*x17 + x13*x17 - x15*x17 - x17^2 - x0*x18 + x1*x18 + x2*x18 - x4*x18 + x5*x18 + x6*x18 - x7*x18 - x8*x18 + x10*x18 - x11*x18 + x0*x19 + x1*x19 + x3*x19 - x4*x19 - x5*x19 - x6*x19 - x7*x19 - x9*x19 + x10*x19 + x11*x19 + x0*x20 + x2*x20 + x3*x20 - x6*x20 - x8*x20 - x9*x20 + x1*x21 + x2*x21 + x3*x21 + x5*x21 - x7*x21 - x8*x21 - x9*x21 - x11*x21 - x0*x22 - x1*x22 - x4*x22 + x6*x22 + x7*x22 + x10*x22 + x0*x23 - x1*x23 + x3*x23 - x5*x23 - x6*x23 + x7*x23 - x9*x23 + x11*x23 + x0*x24 - x1*x24 - x2*x24 + x4*x24 - x5*x24 + x12*x24 - x13*x24 - x14*x24 + x16*x24 - x17*x24 - x24^2 - x0*x25 - x1*x25 - x3*x25 + x4*x25 + x5*x25 - x12*x25 - x13*x25 - x15*x25 + x16*x25 + x17*x25 - x24*x25 + x25^2 - x0*x26 - x2*x26 - x3*x26 - x12*x26 - x14*x26 - x15*x26 - x24*x26 + x26^2 - x1*x27 - x2*x27 - x3*x27 - x5*x27 - x13*x27 - x14*x27 - x15*x27 - x17*x27 - x25*x27 - x26*x27 + x27^2 + x0*x28 + x1*x28 + x4*x28 + x12*x28 + x13*x28 + x16*x28 + x24*x28 + x25*x28 - x28^2 - x0*x29 + x1*x29 - x3*x29 + x5*x29 - x12*x29 + x13*x29 - x15*x29 + x17*x29 - x24*x29 + x25*x29 - x27*x29 - x29^2 - x0*x30 + x1*x30 + x2*x30 - x4*x30 + x5*x30 - x12*x30 + x13*x30 + x14*x30 - x16*x30 + x17*x30 - x24*x30 + x25*x30 + x26*x30 - x28*x30 + x29*x30 - x30^2 + x0*x31 + x1*x31 + x3*x31 - x4*x31 - x5*x31 + x12*x31 + x13*x31 + x15*x31 - x16*x31 - x17*x31 + x24*x31 + x25*x31 + x27*x31 - x28*x31 - x29*x31 - x30*x31 + x31^2 + x0*x32 + x2*x32 + x3*x32 + x12*x32 + x14*x32 + x15*x32 + x24*x32 + x26*x32 + x27*x32 - x30*x32 + x32^2 + x1*x33 + x2*x33 + x3*x33 + x5*x33 + x13*x33 + x14*x33 + x15*x33 + x17*x33 + x25*x33 + x26*x33 + x27*x33 + x29*x33 - x31*x33 - x32*x33 + x33^2 - x0*x34 - x1*x34 - x4*x34 - x12*x34 - x13*x34 - x16*x34 - x24*x34 - x25*x34 - x28*x34 + x30*x34 + x31*x34 - x34^2 + x0*x35 - x1*x35 + x3*x35 - x5*x35 + x12*x35 - x13*x35 + x15*x35 - x17*x35 + x24*x35 - x25*x35 + x27*x35 - x29*x35 - x30*x35 + x31*x35 - x33*x35 - x35^2, x0^2 + x0*x1 - x1^2 + x0*x2 - x2^2 + x1*x3 + x2*x3 - x3^2 - x0*x4 - x1*x4 + x4^2 + x0*x5 - x1*x5 + x3*x5 + x5^2 + x0*x6 - x1*x6 - x2*x6 + x4*x6 - x5*x6 - x6^2 - x0*x7 - x1*x7 - x3*x7 + x4*x7 + x5*x7 - x6*x7 + x7^2 - x0*x8 - x2*x8 - x3*x8 - x6*x8 + x8^2 - x1*x9 - x2*x9 - x3*x9 - x5*x9 - x7*x9 - x8*x9 + x9^2 + x0*x10 + x1*x10 + x4*x10 + x6*x10 + x7*x10 - x10^2 - x0*x11 + x1*x11 - x3*x11 + x5*x11 - x6*x11 + x7*x11 - x9*x11 - x11^2 - x6*x12 + x7*x12 + x8*x12 - x10*x12 + x11*x12 - x12^2 + x6*x13 + x7*x13 + x9*x13 - x10*x13 - x11*x13 - x12*x13 + x13^2 + x6*x14 + x8*x14 + x9*x14 - x12*x14 + x14^2 + x7*x15 + x8*x15 + x9*x15 + x11*x15 - x13*x15 - x14*x15 + x15^2 - x6*x16 - x7*x16 - x10*x16 + x12*x16 + x13*x16 - x16^2 + x6*x17 - x7*x17 + x9*x17 - x11*x17 - x12*x17 + x13*x17 - x15*x17 - x17^2 + x12*x18 - x13*x18 - x14*x18 + x16*x18 - x17*x18 + x18^2 - x12*x19 - x13*x19 - x15*x19 + x16*x19 + x17*x19 + x18*x19 - x19^2 - x12*x20 - x14*x20 - x15*x20 + x18*x20 - x20^2 - x13*x21 - x14*x21 - x15*x21 - x17*x21 + x19*x21 + x20*x21 - x21^2 + x12*x22 + x13*x22 + x16*x22 - x18*x22 - x19*x22 + x22^2 - x12*x23 + x13*x23 - x15*x23 + x17*x23 + x18*x23 - x19*x23 + x21*x23 + x23^2 - x0*x24 + x1*x24 + x2*x24 - x4*x24 + x5*x24 + x12*x24 - x13*x24 - x14*x24 + x16*x24 - x17*x24 + x18*x24 - x19*x24 - x20*x24 + x22*x24 - x23*x24 + x24^2 + x0*x25 + x1*x25 + x3*x25 - x4*x25 - x5*x25 - x12*x25 - x13*x25 - x15*x25 + x16*x25 + x17*x25 - x18*x25 - x19*x25 - x21*x25 + x22*x25 + x23*x25 + x24*x25 - x25^2 + x0*x26 + x2*x26 + x3*x26 - x12*x26 - x14*x26 - x15*x26 - x18*x26 - x20*x26 - x21*x26 + x24*x26 - x26^2 + x1*x27 + x2*x27 + x3*x27 + x5*x27 - x13*x27 - x14*x27 - x15*x27 - x17*x27 - x19*x27 - x20*x27 - x21*x27 - x23*x27 + x25*x27 + x26*x27 - x27^2 - x0*x28 - x1*x28 - x4*x28 + x12*x28 + x13*x28 + x16*x28 + x18*x28 + x19*x28 + x22*x28 - x24*x28 - x25*x28 + x28^2 + x0*x29 - x1*x29 + x3*x29 - x5*x29 - x12*x29 + x13*x29 - x15*x29 + x17*x29 - x18*x29 + x19*x29 - x21*x29 + x23*x29 + x24*x29 - x25*x29 + x27*x29 + x29^2 + x0*x30 - x1*x30 - x2*x30 + x4*x30 - x5*x30 - x6*x30 + x7*x30 + x8*x30 - x10*x30 + x11*x30 - x12*x30 + x13*x30 + x14*x30 - x16*x30 + x17*x30 + x18*x30 - x19*x30 - x20*x30 + x22*x30 - x23*x30 - x24*x30 + x25*x30 + x26*x30 - x28*x30 + x29*x30 - x0*x31 - x1*x31 - x3*x31 + x4*x31 + x5*x31 + x6*x31 + x7*x31 + x9*x31 - x10*x31 - x11*x31 + x12*x31 + x13*x31 + x15*x31 - x16*x31 - x17*x31 - x18*x31 - x19*x31 - x21*x31 + x22*x31 + x23*x31 + x24*x31 + x25*x31 + x27*x31 - x28*x31 - x29*x31 - x0*x32 - x2*x32 - x3*x32 + x6*x32 + x8*x32 + x9*x32 + x12*x32 + x14*x32 + x15*x32 - x18*x32 - x20*x32 - x21*x32 + x24*x32 + x26*x32 + x27*x32 - x1*x33 - x2*x33 - x3*x33 - x5*x33 + x7*x33 + x8*x33 + x9*x33 + x11*x33 + x13*x33 + x14*x33 + x15*x33 + x17*x33 - x19*x33 - x20*x33 - x21*x33 - x23*x33 + x25*x33 + x26*x33 + x27*x33 + x29*x33 + x0*x34 + x1*x34 + x4*x34 - x6*x34 - x7*x34 - x10*x34 - x12*x34 - x13*x34 - x16*x34 + x18*x34 + x19*x34 + x22*x34 - x24*x34 - x25*x34 - x28*x34 - x0*x35 + x1*x35 - x3*x35 + x5*x35 + x6*x35 - x7*x35 + x9*x35 - x11*x35 + x12*x35 - x13*x35 + x15*x35 - x17*x35 - x18*x35 + x19*x35 - x21*x35 + x23*x35 + x24*x35 - x25*x35 + x27*x35 - x29*x35, x0^2 + x0*x1 - x1^2 + x0*x2 - x2^2 + x1*x3 + x2*x3 - x3^2 - x0*x4 - x1*x4 + x4^2 + x0*x5 - x1*x5 + x3*x5 + x5^2 + x0*x6 - x1*x6 - x2*x6 + x4*x6 - x5*x6 - x0*x7 - x1*x7 - x3*x7 + x4*x7 + x5*x7 - x0*x8 - x2*x8 - x3*x8 - x1*x9 - x2*x9 - x3*x9 - x5*x9 + x0*x10 + x1*x10 + x4*x10 - x0*x11 + x1*x11 - x3*x11 + x5*x11 + x0*x12 - x1*x12 - x2*x12 + x4*x12 - x5*x12 + x6*x12 - x7*x12 - x8*x12 + x10*x12 - x11*x12 - x0*x13 - x1*x13 - x3*x13 + x4*x13 + x5*x13 - x6*x13 - x7*x13 - x9*x13 + x10*x13 + x11*x13 - x0*x14 - x2*x14 - x3*x14 - x6*x14 - x8*x14 - x9*x14 - x1*x15 - x2*x15 - x3*x15 - x5*x15 - x7*x15 - x8*x15 - x9*x15 - x11*x15 + x0*x16 + x1*x16 + x4*x16 + x6*x16 + x7*x16 + x10*x16 - x0*x17 + x1*x17 - x3*x17 + x5*x17 - x6*x17 + x7*x17 - x9*x17 + x11*x17 - x6*x18 + x7*x18 + x8*x18 - x10*x18 + x11*x18 + x12*x18 - x13*x18 - x14*x18 + x16*x18 - x17*x18 + x18^2 + x6*x19 + x7*x19 + x9*x19 - x10*x19 - x11*x19 - x12*x19 - x13*x19 - x15*x19 + x16*x19 + x17*x19 + x18*x19 - x19^2 + x6*x20 + x8*x20 + x9*x20 - x12*x20 - x14*x20 - x15*x20 + x18*x20 - x20^2 + x7*x21 + x8*x21 + x9*x21 + x11*x21 - x13*x21 - x14*x21 - x15*x21 - x17*x21 + x19*x21 + x20*x21 - x21^2 - x6*x22 - x7*x22 - x10*x22 + x12*x22 + x13*x22 + x16*x22 - x18*x22 - x19*x22 + x22^2 + x6*x23 - x7*x23 + x9*x23 - x11*x23 - x12*x23 + x13*x23 - x15*x23 + x17*x23 + x18*x23 - x19*x23 + x21*x23 + x23^2 + x0*x24 - x1*x24 - x2*x24 + x4*x24 - x5*x24 - x6*x24 + x7*x24 + x8*x24 - x10*x24 + x11*x24 - x12*x24 + x13*x24 + x14*x24 - x16*x24 + x17*x24 - x18*x24 + x19*x24 + x20*x24 - x22*x24 + x23*x24 - x0*x25 - x1*x25 - x3*x25 + x4*x25 + x5*x25 + x6*x25 + x7*x25 + x9*x25 - x10*x25 - x11*x25 + x12*x25 + x13*x25 + x15*x25 - x16*x25 - x17*x25 + x18*x25 + x19*x25 + x21*x25 - x22*x25 - x23*x25 - x0*x26 - x2*x26 - x3*x26 + x6*x26 + x8*x26 + x9*x26 + x12*x26 + x14*x26 + x15*x26 + x18*x26 + x20*x26 + x21*x26 - x1*x27 - x2*x27 - x3*x27 - x5*x27 + x7*x27 + x8*x27 + x9*x27 + x11*x27 + x13*x27 + x14*x27 + x15*x27 + x17*x27 + x19*x27 + x20*x27 + x21*x27 + x23*x27 + x0*x28 + x1*x28 + x4*x28 - x6*x28 - x7*x28 - x10*x28 - x12*x28 - x13*x28 - x16*x28 - x18*x28 - x19*x28 - x22*x28 - x0*x29 + x1*x29 - x3*x29 + x5*x29 + x6*x29 - x7*x29 + x9*x29 - x11*x29 + x12*x29 - x13*x29 + x15*x29 - x17*x29 + x18*x29 - x19*x29 + x21*x29 - x23*x29 + x0*x30 - x1*x30 - x2*x30 + x4*x30 - x5*x30 + x6*x30 - x7*x30 - x8*x30 + x10*x30 - x11*x30 + x18*x30 - x19*x30 - x20*x30 + x22*x30 - x23*x30 - x24*x30 + x25*x30 + x26*x30 - x28*x30 + x29*x30 - x0*x31 - x1*x31 - x3*x31 + x4*x31 + x5*x31 - x6*x31 - x7*x31 - x9*x31 + x10*x31 + x11*x31 - x18*x31 - x19*x31 - x21*x31 + x22*x31 + x23*x31 + x24*x31 + x25*x31 + x27*x31 - x28*x31 - x29*x31 - x0*x32 - x2*x32 - x3*x32 - x6*x32 - x8*x32 - x9*x32 - x18*x32 - x20*x32 - x21*x32 + x24*x32 + x26*x32 + x27*x32 - x1*x33 - x2*x33 - x3*x33 - x5*x33 - x7*x33 - x8*x33 - x9*x33 - x11*x33 - x19*x33 - x20*x33 - x21*x33 - x23*x33 + x25*x33 + x26*x33 + x27*x33 + x29*x33 + x0*x34 + x1*x34 + x4*x34 + x6*x34 + x7*x34 + x10*x34 + x18*x34 + x19*x34 + x22*x34 - x24*x34 - x25*x34 - x28*x34 - x0*x35 + x1*x35 - x3*x35 + x5*x35 - x6*x35 + x7*x35 - x9*x35 + x11*x35 - x18*x35 + x19*x35 - x21*x35 + x23*x35 + x24*x35 - x25*x35 + x27*x35 - x29*x35, -x0^2 + x1*x2 + x2^2 - x2*x3 - x3^2 + x0*x4 - x2*x4 + x3*x4 + x1*x5 + x3*x5 - x4*x5 + x5^2 - x0*x6 - x4*x6 - x2*x7 - x5*x7 - x1*x8 + x2*x8 + x3*x8 + x4*x8 + x2*x9 - x3*x9 - x4*x9 - x5*x9 - x0*x10 + x2*x10 - x3*x10 + x5*x10 - x1*x11 - x3*x11 + x4*x11 + x5*x11 + x12^2 - x13*x14 - x14^2 + x14*x15 + x15^2 - x12*x16 + x14*x16 - x15*x16 - x13*x17 - x15*x17 + x16*x17 - x17^2 + x0*x18 + x4*x18 + x12*x18 + x16*x18 + x18^2 + x2*x19 + x5*x19 + x14*x19 + x17*x19 + x1*x20 - x2*x20 - x3*x20 - x4*x20 + x13*x20 - x14*x20 - x15*x20 - x16*x20 - x19*x20 - x20^2 - x2*x21 + x3*x21 + x4*x21 + x5*x21 - x14*x21 + x15*x21 + x16*x21 + x17*x21 + x20*x21 + x21^2 + x0*x22 - x2*x22 + x3*x22 - x5*x22 + x12*x22 - x14*x22 + x15*x22 - x17*x22 - x18*x22 + x20*x22 - x21*x22 + x1*x23 + x3*x23 - x4*x23 - x5*x23 + x13*x23 + x15*x23 - x16*x23 - x17*x23 - x19*x23 - x21*x23 + x22*x23 - x23^2 + x6*x24 + x10*x24 - x18*x24 - x22*x24 + x24^2 + x8*x25 + x11*x25 - x20*x25 - x23*x25 + x7*x26 - x8*x26 - x9*x26 - x10*x26 - x19*x26 + x20*x26 + x21*x26 + x22*x26 - x25*x26 - x26^2 - x8*x27 + x9*x27 + x10*x27 + x11*x27 + x20*x27 - x21*x27 - x22*x27 - x23*x27 + x26*x27 + x27^2 + x6*x28 - x8*x28 + x9*x28 - x11*x28 - x18*x28 + x20*x28 - x21*x28 + x23*x28 - x24*x28 + x26*x28 - x27*x28 + x7*x29 + x9*x29 - x10*x29 - x11*x29 - x19*x29 - x21*x29 + x22*x29 + x23*x29 - x25*x29 - x27*x29 + x28*x29 - x29^2 + x0*x30 + x4*x30 + x12*x30 + x16*x30 - x18*x30 - x22*x30 - x24*x30 - x28*x30 + x30^2 + x2*x31 + x5*x31 + x14*x31 + x17*x31 - x20*x31 - x23*x31 - x26*x31 - x29*x31 + x1*x32 - x2*x32 - x3*x32 - x4*x32 + x13*x32 - x14*x32 - x15*x32 - x16*x32 - x19*x32 + x20*x32 + x21*x32 + x22*x32 - x25*x32 + x26*x32 + x27*x32 + x28*x32 - x31*x32 - x32^2 - x2*x33 + x3*x33 + x4*x33 + x5*x33 - x14*x33 + x15*x33 + x16*x33 + x17*x33 + x20*x33 - x21*x33 - x22*x33 - x23*x33 + x26*x33 - x27*x33 - x28*x33 - x29*x33 + x32*x33 + x33^2 + x0*x34 - x2*x34 + x3*x34 - x5*x34 + x12*x34 - x14*x34 + x15*x34 - x17*x34 - x18*x34 + x20*x34 - x21*x34 + x23*x34 - x24*x34 + x26*x34 - x27*x34 + x29*x34 - x30*x34 + x32*x34 - x33*x34 + x1*x35 + x3*x35 - x4*x35 - x5*x35 + x13*x35 + x15*x35 - x16*x35 - x17*x35 - x19*x35 - x21*x35 + x22*x35 + x23*x35 - x25*x35 - x27*x35 + x28*x35 + x29*x35 - x31*x35 - x33*x35 + x34*x35 - x35^2, x0^2 - x1*x2 - x2^2 + x2*x3 + x3^2 - x0*x4 + x2*x4 - x3*x4 - x1*x5 - x3*x5 + x4*x5 - x5^2 - x6^2 + x7*x8 + x8^2 - x8*x9 - x9^2 + x6*x10 - x8*x10 + x9*x10 + x7*x11 + x9*x11 - x10*x11 + x11^2 - x0*x12 - x4*x12 + x12^2 - x2*x13 - x5*x13 - x1*x14 + x2*x14 + x3*x14 + x4*x14 - x13*x14 - x14^2 + x2*x15 - x3*x15 - x4*x15 - x5*x15 + x14*x15 + x15^2 - x0*x16 + x2*x16 - x3*x16 + x5*x16 - x12*x16 + x14*x16 - x15*x16 - x1*x17 - x3*x17 + x4*x17 + x5*x17 - x13*x17 - x15*x17 + x16*x17 - x17^2 + x6*x18 + x10*x18 - x18^2 + x8*x19 + x11*x19 + x7*x20 - x8*x20 - x9*x20 - x10*x20 + x19*x20 + x20^2 - x8*x21 + x9*x21 + x10*x21 + x11*x21 - x20*x21 - x21^2 + x6*x22 - x8*x22 + x9*x22 - x11*x22 + x18*x22 - x20*x22 + x21*x22 + x7*x23 + x9*x23 - x10*x23 - x11*x23 + x19*x23 + x21*x23 - x22*x23 + x23^2 + x0*x24 + x4*x24 - x6*x24 - x10*x24 + x2*x25 + x5*x25 - x8*x25 - x11*x25 + x1*x26 - x2*x26 - x3*x26 - x4*x26 - x7*x26 + x8*x26 + x9*x26 + x10*x26 - x2*x27 + x3*x27 + x4*x27 + x5*x27 + x8*x27 - x9*x27 - x10*x27 - x11*x27 + x0*x28 - x2*x28 + x3*x28 - x5*x28 - x6*x28 + x8*x28 - x9*x28 + x11*x28 + x1*x29 + x3*x29 - x4*x29 - x5*x29 - x7*x29 - x9*x29 + x10*x29 + x11*x29 + x0*x30 + x4*x30 - x6*x30 - x10*x30 - x12*x30 - x16*x30 + x18*x30 + x22*x30 + x24*x30 + x28*x30 - x30^2 + x2*x31 + x5*x31 - x8*x31 - x11*x31 - x14*x31 - x17*x31 + x20*x31 + x23*x31 + x26*x31 + x29*x31 + x1*x32 - x2*x32 - x3*x32 - x4*x32 - x7*x32 + x8*x32 + x9*x32 + x10*x32 - x13*x32 + x14*x32 + x15*x32 + x16*x32 + x19*x32 - x20*x32 - x21*x32 - x22*x32 + x25*x32 - x26*x32 - x27*x32 - x28*x32 + x31*x32 + x32^2 - x2*x33 + x3*x33 + x4*x33 + x5*x33 + x8*x33 - x9*x33 - x10*x33 - x11*x33 + x14*x33 - x15*x33 - x16*x33 - x17*x33 - x20*x33 + x21*x33 + x22*x33 + x23*x33 - x26*x33 + x27*x33 + x28*x33 + x29*x33 - x32*x33 - x33^2 + x0*x34 - x2*x34 + x3*x34 - x5*x34 - x6*x34 + x8*x34 - x9*x34 + x11*x34 - x12*x34 + x14*x34 - x15*x34 + x17*x34 + x18*x34 - x20*x34 + x21*x34 - x23*x34 + x24*x34 - x26*x34 + x27*x34 - x29*x34 + x30*x34 - x32*x34 + x33*x34 + x1*x35 + x3*x35 - x4*x35 - x5*x35 - x7*x35 - x9*x35 + x10*x35 + x11*x35 - x13*x35 - x15*x35 + x16*x35 + x17*x35 + x19*x35 + x21*x35 - x22*x35 - x23*x35 + x25*x35 + x27*x35 - x28*x35 - x29*x35 + x31*x35 + x33*x35 - x34*x35 + x35^2, x0^2 - x1*x2 - x2^2 + x2*x3 + x3^2 - x0*x4 + x2*x4 - x3*x4 - x1*x5 - x3*x5 + x4*x5 - x5^2 + x6^2 - x7*x8 - x8^2 + x8*x9 + x9^2 - x6*x10 + x8*x10 - x9*x10 - x7*x11 - x9*x11 + x10*x11 - x11^2 - x6*x12 - x10*x12 - x12^2 - x8*x13 - x11*x13 - x7*x14 + x8*x14 + x9*x14 + x10*x14 + x13*x14 + x14^2 + x8*x15 - x9*x15 - x10*x15 - x11*x15 - x14*x15 - x15^2 - x6*x16 + x8*x16 - x9*x16 + x11*x16 + x12*x16 - x14*x16 + x15*x16 - x7*x17 - x9*x17 + x10*x17 + x11*x17 + x13*x17 + x15*x17 - x16*x17 + x17^2 + x18^2 - x19*x20 - x20^2 + x20*x21 + x21^2 - x18*x22 + x20*x22 - x21*x22 - x19*x23 - x21*x23 + x22*x23 - x23^2 + x6*x24 + x10*x24 - x12*x24 - x16*x24 - x18*x24 - x22*x24 + x8*x25 + x11*x25 - x14*x25 - x17*x25 - x20*x25 - x23*x25 + x7*x26 - x8*x26 - x9*x26 - x10*x26 - x13*x26 + x14*x26 + x15*x26 + x16*x26 - x19*x26 + x20*x26 + x21*x26 + x22*x26 - x8*x27 + x9*x27 + x10*x27 + x11*x27 + x14*x27 - x15*x27 - x16*x27 - x17*x27 + x20*x27 - x21*x27 - x22*x27 - x23*x27 + x6*x28 - x8*x28 + x9*x28 - x11*x28 - x12*x28 + x14*x28 - x15*x28 + x17*x28 - x18*x28 + x20*x28 - x21*x28 + x23*x28 + x7*x29 + x9*x29 - x10*x29 - x11*x29 - x13*x29 - x15*x29 + x16*x29 + x17*x29 - x19*x29 - x21*x29 + x22*x29 + x23*x29 + x0*x30 + x4*x30 - x6*x30 - x10*x30 - x12*x30 - x16*x30 + x18*x30 + x22*x30 - x24*x30 - x28*x30 + x2*x31 + x5*x31 - x8*x31 - x11*x31 - x14*x31 - x17*x31 + x20*x31 + x23*x31 - x26*x31 - x29*x31 + x1*x32 - x2*x32 - x3*x32 - x4*x32 - x7*x32 + x8*x32 + x9*x32 + x10*x32 - x13*x32 + x14*x32 + x15*x32 + x16*x32 + x19*x32 - x20*x32 - x21*x32 - x22*x32 - x25*x32 + x26*x32 + x27*x32 + x28*x32 - x2*x33 + x3*x33 + x4*x33 + x5*x33 + x8*x33 - x9*x33 - x10*x33 - x11*x33 + x14*x33 - x15*x33 - x16*x33 - x17*x33 - x20*x33 + x21*x33 + x22*x33 + x23*x33 + x26*x33 - x27*x33 - x28*x33 - x29*x33 + x0*x34 - x2*x34 + x3*x34 - x5*x34 - x6*x34 + x8*x34 - x9*x34 + x11*x34 - x12*x34 + x14*x34 - x15*x34 + x17*x34 + x18*x34 - x20*x34 + x21*x34 - x23*x34 - x24*x34 + x26*x34 - x27*x34 + x29*x34 + x1*x35 + x3*x35 - x4*x35 - x5*x35 - x7*x35 - x9*x35 + x10*x35 + x11*x35 - x13*x35 - x15*x35 + x16*x35 + x17*x35 + x19*x35 + x21*x35 - x22*x35 - x23*x35 - x25*x35 - x27*x35 + x28*x35 + x29*x35, -x0^2 + x1*x2 + x2^2 - x2*x3 - x3^2 + x0*x4 - x2*x4 + x3*x4 + x1*x5 + x3*x5 - x4*x5 + x5^2 - x6^2 + x7*x8 + x8^2 - x8*x9 - x9^2 + x6*x10 - x8*x10 + x9*x10 + x7*x11 + x9*x11 - x10*x11 + x11^2 - x6*x12 - x10*x12 + x12^2 - x8*x13 - x11*x13 - x7*x14 + x8*x14 + x9*x14 + x10*x14 - x13*x14 - x14^2 + x8*x15 - x9*x15 - x10*x15 - x11*x15 + x14*x15 + x15^2 - x6*x16 + x8*x16 - x9*x16 + x11*x16 - x12*x16 + x14*x16 - x15*x16 - x7*x17 - x9*x17 + x10*x17 + x11*x17 - x13*x17 - x15*x17 + x16*x17 - x17^2 + x0*x18 + x4*x18 - x6*x18 - x10*x18 + x2*x19 + x5*x19 - x8*x19 - x11*x19 + x1*x20 - x2*x20 - x3*x20 - x4*x20 - x7*x20 + x8*x20 + x9*x20 + x10*x20 - x2*x21 + x3*x21 + x4*x21 + x5*x21 + x8*x21 - x9*x21 - x10*x21 - x11*x21 + x0*x22 - x2*x22 + x3*x22 - x5*x22 - x6*x22 + x8*x22 - x9*x22 + x11*x22 + x1*x23 + x3*x23 - x4*x23 - x5*x23 - x7*x23 - x9*x23 + x10*x23 + x11*x23 - x0*x24 - x4*x24 - x12*x24 - x16*x24 + x24^2 - x2*x25 - x5*x25 - x14*x25 - x17*x25 - x1*x26 + x2*x26 + x3*x26 + x4*x26 - x13*x26 + x14*x26 + x15*x26 + x16*x26 - x25*x26 - x26^2 + x2*x27 - x3*x27 - x4*x27 - x5*x27 + x14*x27 - x15*x27 - x16*x27 - x17*x27 + x26*x27 + x27^2 - x0*x28 + x2*x28 - x3*x28 + x5*x28 - x12*x28 + x14*x28 - x15*x28 + x17*x28 - x24*x28 + x26*x28 - x27*x28 - x1*x29 - x3*x29 + x4*x29 + x5*x29 - x13*x29 - x15*x29 + x16*x29 + x17*x29 - x25*x29 - x27*x29 + x28*x29 - x29^2 + x0*x30 + x4*x30 + x12*x30 + x16*x30 + x24*x30 + x28*x30 + x30^2 + x2*x31 + x5*x31 + x14*x31 + x17*x31 + x26*x31 + x29*x31 + x1*x32 - x2*x32 - x3*x32 - x4*x32 + x13*x32 - x14*x32 - x15*x32 - x16*x32 + x25*x32 - x26*x32 - x27*x32 - x28*x32 - x31*x32 - x32^2 - x2*x33 + x3*x33 + x4*x33 + x5*x33 - x14*x33 + x15*x33 + x16*x33 + x17*x33 - x26*x33 + x27*x33 + x28*x33 + x29*x33 + x32*x33 + x33^2 + x0*x34 - x2*x34 + x3*x34 - x5*x34 + x12*x34 - x14*x34 + x15*x34 - x17*x34 + x24*x34 - x26*x34 + x27*x34 - x29*x34 - x30*x34 + x32*x34 - x33*x34 + x1*x35 + x3*x35 - x4*x35 - x5*x35 + x13*x35 + x15*x35 - x16*x35 - x17*x35 + x25*x35 + x27*x35 - x28*x35 - x29*x35 - x31*x35 - x33*x35 + x34*x35 - x35^2, -x0^2 + x1*x2 + x2^2 - x2*x3 - x3^2 + x0*x4 - x2*x4 + x3*x4 + x1*x5 + x3*x5 - x4*x5 + x5^2 - x0*x6 - x4*x6 + x6^2 - x2*x7 - x5*x7 - x1*x8 + x2*x8 + x3*x8 + x4*x8 - x7*x8 - x8^2 + x2*x9 - x3*x9 - x4*x9 - x5*x9 + x8*x9 + x9^2 - x0*x10 + x2*x10 - x3*x10 + x5*x10 - x6*x10 + x8*x10 - x9*x10 - x1*x11 - x3*x11 + x4*x11 + x5*x11 - x7*x11 - x9*x11 + x10*x11 - x11^2 + x6*x12 + x10*x12 + x12^2 + x8*x13 + x11*x13 + x7*x14 - x8*x14 - x9*x14 - x10*x14 - x13*x14 - x14^2 - x8*x15 + x9*x15 + x10*x15 + x11*x15 + x14*x15 + x15^2 + x6*x16 - x8*x16 + x9*x16 - x11*x16 - x12*x16 + x14*x16 - x15*x16 + x7*x17 + x9*x17 - x10*x17 - x11*x17 - x13*x17 - x15*x17 + x16*x17 - x17^2 - x12*x18 - x16*x18 - x18^2 - x14*x19 - x17*x19 - x13*x20 + x14*x20 + x15*x20 + x16*x20 + x19*x20 + x20^2 + x14*x21 - x15*x21 - x16*x21 - x17*x21 - x20*x21 - x21^2 - x12*x22 + x14*x22 - x15*x22 + x17*x22 + x18*x22 - x20*x22 + x21*x22 - x13*x23 - x15*x23 + x16*x23 + x17*x23 + x19*x23 + x21*x23 - x22*x23 + x23^2 + x0*x24 + x4*x24 - x12*x24 - x16*x24 - x18*x24 - x22*x24 - x24^2 + x2*x25 + x5*x25 - x14*x25 - x17*x25 - x20*x25 - x23*x25 + x1*x26 - x2*x26 - x3*x26 - x4*x26 - x13*x26 + x14*x26 + x15*x26 + x16*x26 - x19*x26 + x20*x26 + x21*x26 + x22*x26 + x25*x26 + x26^2 - x2*x27 + x3*x27 + x4*x27 + x5*x27 + x14*x27 - x15*x27 - x16*x27 - x17*x27 + x20*x27 - x21*x27 - x22*x27 - x23*x27 - x26*x27 - x27^2 + x0*x28 - x2*x28 + x3*x28 - x5*x28 - x12*x28 + x14*x28 - x15*x28 + x17*x28 - x18*x28 + x20*x28 - x21*x28 + x23*x28 + x24*x28 - x26*x28 + x27*x28 + x1*x29 + x3*x29 - x4*x29 - x5*x29 - x13*x29 - x15*x29 + x16*x29 + x17*x29 - x19*x29 - x21*x29 + x22*x29 + x23*x29 + x25*x29 + x27*x29 - x28*x29 + x29^2 - x0*x30 - x4*x30 + x6*x30 + x10*x30 + x12*x30 + x16*x30 - x18*x30 - x22*x30 + x24*x30 + x28*x30 - x2*x31 - x5*x31 + x8*x31 + x11*x31 + x14*x31 + x17*x31 - x20*x31 - x23*x31 + x26*x31 + x29*x31 - x1*x32 + x2*x32 + x3*x32 + x4*x32 + x7*x32 - x8*x32 - x9*x32 - x10*x32 + x13*x32 - x14*x32 - x15*x32 - x16*x32 - x19*x32 + x20*x32 + x21*x32 + x22*x32 + x25*x32 - x26*x32 - x27*x32 - x28*x32 + x2*x33 - x3*x33 - x4*x33 - x5*x33 - x8*x33 + x9*x33 + x10*x33 + x11*x33 - x14*x33 + x15*x33 + x16*x33 + x17*x33 + x20*x33 - x21*x33 - x22*x33 - x23*x33 - x26*x33 + x27*x33 + x28*x33 + x29*x33 - x0*x34 + x2*x34 - x3*x34 + x5*x34 + x6*x34 - x8*x34 + x9*x34 - x11*x34 + x12*x34 - x14*x34 + x15*x34 - x17*x34 - x18*x34 + x20*x34 - x21*x34 + x23*x34 + x24*x34 - x26*x34 + x27*x34 - x29*x34 - x1*x35 - x3*x35 + x4*x35 + x5*x35 + x7*x35 + x9*x35 - x10*x35 - x11*x35 + x13*x35 + x15*x35 - x16*x35 - x17*x35 - x19*x35 - x21*x35 + x22*x35 + x23*x35 + x25*x35 + x27*x35 - x28*x35 - x29*x35, -x0^2 + x1*x2 + x2^2 - x2*x3 - x3^2 + x0*x4 - x2*x4 + x3*x4 + x1*x5 + x3*x5 - x4*x5 + x5^2 - x0*x6 - x4*x6 - x2*x7 - x5*x7 - x1*x8 + x2*x8 + x3*x8 + x4*x8 + x2*x9 - x3*x9 - x4*x9 - x5*x9 - x0*x10 + x2*x10 - x3*x10 + x5*x10 - x1*x11 - x3*x11 + x4*x11 + x5*x11 - x0*x12 - x4*x12 - x6*x12 - x10*x12 - x2*x13 - x5*x13 - x8*x13 - x11*x13 - x1*x14 + x2*x14 + x3*x14 + x4*x14 - x7*x14 + x8*x14 + x9*x14 + x10*x14 + x2*x15 - x3*x15 - x4*x15 - x5*x15 + x8*x15 - x9*x15 - x10*x15 - x11*x15 - x0*x16 + x2*x16 - x3*x16 + x5*x16 - x6*x16 + x8*x16 - x9*x16 + x11*x16 - x1*x17 - x3*x17 + x4*x17 + x5*x17 - x7*x17 - x9*x17 + x10*x17 + x11*x17 + x6*x18 + x10*x18 - x12*x18 - x16*x18 - x18^2 + x8*x19 + x11*x19 - x14*x19 - x17*x19 + x7*x20 - x8*x20 - x9*x20 - x10*x20 - x13*x20 + x14*x20 + x15*x20 + x16*x20 + x19*x20 + x20^2 - x8*x21 + x9*x21 + x10*x21 + x11*x21 + x14*x21 - x15*x21 - x16*x21 - x17*x21 - x20*x21 - x21^2 + x6*x22 - x8*x22 + x9*x22 - x11*x22 - x12*x22 + x14*x22 - x15*x22 + x17*x22 + x18*x22 - x20*x22 + x21*x22 + x7*x23 + x9*x23 - x10*x23 - x11*x23 - x13*x23 - x15*x23 + x16*x23 + x17*x23 + x19*x23 + x21*x23 - x22*x23 + x23^2 - x0*x24 - x4*x24 + x6*x24 + x10*x24 + x12*x24 + x16*x24 + x18*x24 + x22*x24 - x2*x25 - x5*x25 + x8*x25 + x11*x25 + x14*x25 + x17*x25 + x20*x25 + x23*x25 - x1*x26 + x2*x26 + x3*x26 + x4*x26 + x7*x26 - x8*x26 - x9*x26 - x10*x26 + x13*x26 - x14*x26 - x15*x26 - x16*x26 + x19*x26 - x20*x26 - x21*x26 - x22*x26 + x2*x27 - x3*x27 - x4*x27 - x5*x27 - x8*x27 + x9*x27 + x10*x27 + x11*x27 - x14*x27 + x15*x27 + x16*x27 + x17*x27 - x20*x27 + x21*x27 + x22*x27 + x23*x27 - x0*x28 + x2*x28 - x3*x28 + x5*x28 + x6*x28 - x8*x28 + x9*x28 - x11*x28 + x12*x28 - x14*x28 + x15*x28 - x17*x28 + x18*x28 - x20*x28 + x21*x28 - x23*x28 - x1*x29 - x3*x29 + x4*x29 + x5*x29 + x7*x29 + x9*x29 - x10*x29 - x11*x29 + x13*x29 + x15*x29 - x16*x29 - x17*x29 + x19*x29 + x21*x29 - x22*x29 - x23*x29 - x0*x30 - x4*x30 - x6*x30 - x10*x30 - x18*x30 - x22*x30 + x24*x30 + x28*x30 - x2*x31 - x5*x31 - x8*x31 - x11*x31 - x20*x31 - x23*x31 + x26*x31 + x29*x31 - x1*x32 + x2*x32 + x3*x32 + x4*x32 - x7*x32 + x8*x32 + x9*x32 + x10*x32 - x19*x32 + x20*x32 + x21*x32 + x22*x32 + x25*x32 - x26*x32 - x27*x32 - x28*x32 + x2*x33 - x3*x33 - x4*x33 - x5*x33 + x8*x33 - x9*x33 - x10*x33 - x11*x33 + x20*x33 - x21*x33 - x22*x33 - x23*x33 - x26*x33 + x27*x33 + x28*x33 + x29*x33 - x0*x34 + x2*x34 - x3*x34 + x5*x34 - x6*x34 + x8*x34 - x9*x34 + x11*x34 - x18*x34 + x20*x34 - x21*x34 + x23*x34 + x24*x34 - x26*x34 + x27*x34 - x29*x34 - x1*x35 - x3*x35 + x4*x35 + x5*x35 - x7*x35 - x9*x35 + x10*x35 + x11*x35 - x19*x35 - x21*x35 + x22*x35 + x23*x35 + x25*x35 + x27*x35 - x28*x35 - x29*x35, x0^2 + x0*x1 + x0*x2 + x1*x2 - x2^2 + x2*x3 + x0*x4 + x1*x4 + x2*x4 + x3*x4 + x0*x5 + x1*x5 + x3*x5 + x0*x6 - x1*x6 - x2*x6 - x4*x6 - x5*x6 - x0*x7 - x2*x7 - x4*x7 - x5*x7 - x0*x8 - x1*x8 - x2*x8 - x3*x8 - x4*x8 - x2*x9 - x4*x9 - x5*x9 - x0*x10 - x1*x10 - x2*x10 - x3*x10 - x0*x11 - x1*x11 - x3*x11 - x12^2 - x12*x13 - x12*x14 - x13*x14 + x14^2 - x14*x15 - x12*x16 - x13*x16 - x14*x16 - x15*x16 - x12*x17 - x13*x17 - x15*x17 - x0*x18 + x1*x18 + x2*x18 + x4*x18 + x5*x18 - x12*x18 + x13*x18 + x14*x18 + x16*x18 + x17*x18 - x18^2 + x0*x19 + x2*x19 + x4*x19 + x5*x19 + x12*x19 + x14*x19 + x16*x19 + x17*x19 - x18*x19 + x0*x20 + x1*x20 + x2*x20 + x3*x20 + x4*x20 + x12*x20 + x13*x20 + x14*x20 + x15*x20 + x16*x20 - x18*x20 - x19*x20 + x20^2 + x2*x21 + x4*x21 + x5*x21 + x14*x21 + x16*x21 + x17*x21 - x20*x21 + x0*x22 + x1*x22 + x2*x22 + x3*x22 + x12*x22 + x13*x22 + x14*x22 + x15*x22 - x18*x22 - x19*x22 - x20*x22 - x21*x22 + x0*x23 + x1*x23 + x3*x23 + x12*x23 + x13*x23 + x15*x23 - x18*x23 - x19*x23 - x21*x23 - x6*x24 + x7*x24 + x8*x24 + x10*x24 + x11*x24 + x18*x24 - x19*x24 - x20*x24 - x22*x24 - x23*x24 - x24^2 + x6*x25 + x8*x25 + x10*x25 + x11*x25 - x18*x25 - x20*x25 - x22*x25 - x23*x25 - x24*x25 + x6*x26 + x7*x26 + x8*x26 + x9*x26 + x10*x26 - x18*x26 - x19*x26 - x20*x26 - x21*x26 - x22*x26 - x24*x26 - x25*x26 + x26^2 + x8*x27 + x10*x27 + x11*x27 - x20*x27 - x22*x27 - x23*x27 - x26*x27 + x6*x28 + x7*x28 + x8*x28 + x9*x28 - x18*x28 - x19*x28 - x20*x28 - x21*x28 - x24*x28 - x25*x28 - x26*x28 - x27*x28 + x6*x29 + x7*x29 + x9*x29 - x18*x29 - x19*x29 - x21*x29 - x24*x29 - x25*x29 - x27*x29 - x0*x30 + x1*x30 + x2*x30 + x4*x30 + x5*x30 - x12*x30 + x13*x30 + x14*x30 + x16*x30 + x17*x30 + x18*x30 - x19*x30 - x20*x30 - x22*x30 - x23*x30 + x24*x30 - x25*x30 - x26*x30 - x28*x30 - x29*x30 - x30^2 + x0*x31 + x2*x31 + x4*x31 + x5*x31 + x12*x31 + x14*x31 + x16*x31 + x17*x31 - x18*x31 - x20*x31 - x22*x31 - x23*x31 - x24*x31 - x26*x31 - x28*x31 - x29*x31 - x30*x31 + x0*x32 + x1*x32 + x2*x32 + x3*x32 + x4*x32 + x12*x32 + x13*x32 + x14*x32 + x15*x32 + x16*x32 - x18*x32 - x19*x32 - x20*x32 - x21*x32 - x22*x32 - x24*x32 - x25*x32 - x26*x32 - x27*x32 - x28*x32 - x30*x32 - x31*x32 + x32^2 + x2*x33 + x4*x33 + x5*x33 + x14*x33 + x16*x33 + x17*x33 - x20*x33 - x22*x33 - x23*x33 - x26*x33 - x28*x33 - x29*x33 - x32*x33 + x0*x34 + x1*x34 + x2*x34 + x3*x34 + x12*x34 + x13*x34 + x14*x34 + x15*x34 - x18*x34 - x19*x34 - x20*x34 - x21*x34 - x24*x34 - x25*x34 - x26*x34 - x27*x34 - x30*x34 - x31*x34 - x32*x34 - x33*x34 + x0*x35 + x1*x35 + x3*x35 + x12*x35 + x13*x35 + x15*x35 - x18*x35 - x19*x35 - x21*x35 - x24*x35 - x25*x35 - x27*x35 - x30*x35 - x31*x35 - x33*x35, -x0^2 - x0*x1 - x0*x2 - x1*x2 + x2^2 - x2*x3 - x0*x4 - x1*x4 - x2*x4 - x3*x4 - x0*x5 - x1*x5 - x3*x5 + x6^2 + x6*x7 + x6*x8 + x7*x8 - x8^2 + x8*x9 + x6*x10 + x7*x10 + x8*x10 + x9*x10 + x6*x11 + x7*x11 + x9*x11 + x0*x12 - x1*x12 - x2*x12 - x4*x12 - x5*x12 - x12^2 - x0*x13 - x2*x13 - x4*x13 - x5*x13 - x12*x13 - x0*x14 - x1*x14 - x2*x14 - x3*x14 - x4*x14 - x12*x14 - x13*x14 + x14^2 - x2*x15 - x4*x15 - x5*x15 - x14*x15 - x0*x16 - x1*x16 - x2*x16 - x3*x16 - x12*x16 - x13*x16 - x14*x16 - x15*x16 - x0*x17 - x1*x17 - x3*x17 - x12*x17 - x13*x17 - x15*x17 - x6*x18 + x7*x18 + x8*x18 + x10*x18 + x11*x18 + x18^2 + x6*x19 + x8*x19 + x10*x19 + x11*x19 + x18*x19 + x6*x20 + x7*x20 + x8*x20 + x9*x20 + x10*x20 + x18*x20 + x19*x20 - x20^2 + x8*x21 + x10*x21 + x11*x21 + x20*x21 + x6*x22 + x7*x22 + x8*x22 + x9*x22 + x18*x22 + x19*x22 + x20*x22 + x21*x22 + x6*x23 + x7*x23 + x9*x23 + x18*x23 + x19*x23 + x21*x23 - x0*x24 + x1*x24 + x2*x24 + x4*x24 + x5*x24 + x6*x24 - x7*x24 - x8*x24 - x10*x24 - x11*x24 + x0*x25 + x2*x25 + x4*x25 + x5*x25 - x6*x25 - x8*x25 - x10*x25 - x11*x25 + x0*x26 + x1*x26 + x2*x26 + x3*x26 + x4*x26 - x6*x26 - x7*x26 - x8*x26 - x9*x26 - x10*x26 + x2*x27 + x4*x27 + x5*x27 - x8*x27 - x10*x27 - x11*x27 + x0*x28 + x1*x28 + x2*x28 + x3*x28 - x6*x28 - x7*x28 - x8*x28 - x9*x28 + x0*x29 + x1*x29 + x3*x29 - x6*x29 - x7*x29 - x9*x29 - x0*x30 + x1*x30 + x2*x30 + x4*x30 + x5*x30 + x6*x30 - x7*x30 - x8*x30 - x10*x30 - x11*x30 + x12*x30 - x13*x30 - x14*x30 - x16*x30 - x17*x30 - x18*x30 + x19*x30 + x20*x30 + x22*x30 + x23*x30 - x24*x30 + x25*x30 + x26*x30 + x28*x30 + x29*x30 + x30^2 + x0*x31 + x2*x31 + x4*x31 + x5*x31 - x6*x31 - x8*x31 - x10*x31 - x11*x31 - x12*x31 - x14*x31 - x16*x31 - x17*x31 + x18*x31 + x20*x31 + x22*x31 + x23*x31 + x24*x31 + x26*x31 + x28*x31 + x29*x31 + x30*x31 + x0*x32 + x1*x32 + x2*x32 + x3*x32 + x4*x32 - x6*x32 - x7*x32 - x8*x32 - x9*x32 - x10*x32 - x12*x32 - x13*x32 - x14*x32 - x15*x32 - x16*x32 + x18*x32 + x19*x32 + x20*x32 + x21*x32 + x22*x32 + x24*x32 + x25*x32 + x26*x32 + x27*x32 + x28*x32 + x30*x32 + x31*x32 - x32^2 + x2*x33 + x4*x33 + x5*x33 - x8*x33 - x10*x33 - x11*x33 - x14*x33 - x16*x33 - x17*x33 + x20*x33 + x22*x33 + x23*x33 + x26*x33 + x28*x33 + x29*x33 + x32*x33 + x0*x34 + x1*x34 + x2*x34 + x3*x34 - x6*x34 - x7*x34 - x8*x34 - x9*x34 - x12*x34 - x13*x34 - x14*x34 - x15*x34 + x18*x34 + x19*x34 + x20*x34 + x21*x34 + x24*x34 + x25*x34 + x26*x34 + x27*x34 + x30*x34 + x31*x34 + x32*x34 + x33*x34 + x0*x35 + x1*x35 + x3*x35 - x6*x35 - x7*x35 - x9*x35 - x12*x35 - x13*x35 - x15*x35 + x18*x35 + x19*x35 + x21*x35 + x24*x35 + x25*x35 + x27*x35 + x30*x35 + x31*x35 + x33*x35, -x0^2 - x0*x1 - x0*x2 - x1*x2 + x2^2 - x2*x3 - x0*x4 - x1*x4 - x2*x4 - x3*x4 - x0*x5 - x1*x5 - x3*x5 - x6^2 - x6*x7 - x6*x8 - x7*x8 + x8^2 - x8*x9 - x6*x10 - x7*x10 - x8*x10 - x9*x10 - x6*x11 - x7*x11 - x9*x11 + x6*x12 - x7*x12 - x8*x12 - x10*x12 - x11*x12 + x12^2 - x6*x13 - x8*x13 - x10*x13 - x11*x13 + x12*x13 - x6*x14 - x7*x14 - x8*x14 - x9*x14 - x10*x14 + x12*x14 + x13*x14 - x14^2 - x8*x15 - x10*x15 - x11*x15 + x14*x15 - x6*x16 - x7*x16 - x8*x16 - x9*x16 + x12*x16 + x13*x16 + x14*x16 + x15*x16 - x6*x17 - x7*x17 - x9*x17 + x12*x17 + x13*x17 + x15*x17 - x18^2 - x18*x19 - x18*x20 - x19*x20 + x20^2 - x20*x21 - x18*x22 - x19*x22 - x20*x22 - x21*x22 - x18*x23 - x19*x23 - x21*x23 - x6*x24 + x7*x24 + x8*x24 + x10*x24 + x11*x24 + x12*x24 - x13*x24 - x14*x24 - x16*x24 - x17*x24 + x18*x24 - x19*x24 - x20*x24 - x22*x24 - x23*x24 + x6*x25 + x8*x25 + x10*x25 + x11*x25 - x12*x25 - x14*x25 - x16*x25 - x17*x25 - x18*x25 - x20*x25 - x22*x25 - x23*x25 + x6*x26 + x7*x26 + x8*x26 + x9*x26 + x10*x26 - x12*x26 - x13*x26 - x14*x26 - x15*x26 - x16*x26 - x18*x26 - x19*x26 - x20*x26 - x21*x26 - x22*x26 + x8*x27 + x10*x27 + x11*x27 - x14*x27 - x16*x27 - x17*x27 - x20*x27 - x22*x27 - x23*x27 + x6*x28 + x7*x28 + x8*x28 + x9*x28 - x12*x28 - x13*x28 - x14*x28 - x15*x28 - x18*x28 - x19*x28 - x20*x28 - x21*x28 + x6*x29 + x7*x29 + x9*x29 - x12*x29 - x13*x29 - x15*x29 - x18*x29 - x19*x29 - x21*x29 - x0*x30 + x1*x30 + x2*x30 + x4*x30 + x5*x30 + x6*x30 - x7*x30 - x8*x30 - x10*x30 - x11*x30 + x12*x30 - x13*x30 - x14*x30 - x16*x30 - x17*x30 - x18*x30 + x19*x30 + x20*x30 + x22*x30 + x23*x30 + x24*x30 - x25*x30 - x26*x30 - x28*x30 - x29*x30 + x0*x31 + x2*x31 + x4*x31 + x5*x31 - x6*x31 - x8*x31 - x10*x31 - x11*x31 - x12*x31 - x14*x31 - x16*x31 - x17*x31 + x18*x31 + x20*x31 + x22*x31 + x23*x31 - x24*x31 - x26*x31 - x28*x31 - x29*x31 + x0*x32 + x1*x32 + x2*x32 + x3*x32 + x4*x32 - x6*x32 - x7*x32 - x8*x32 - x9*x32 - x10*x32 - x12*x32 - x13*x32 - x14*x32 - x15*x32 - x16*x32 + x18*x32 + x19*x32 + x20*x32 + x21*x32 + x22*x32 - x24*x32 - x25*x32 - x26*x32 - x27*x32 - x28*x32 + x2*x33 + x4*x33 + x5*x33 - x8*x33 - x10*x33 - x11*x33 - x14*x33 - x16*x33 - x17*x33 + x20*x33 + x22*x33 + x23*x33 - x26*x33 - x28*x33 - x29*x33 + x0*x34 + x1*x34 + x2*x34 + x3*x34 - x6*x34 - x7*x34 - x8*x34 - x9*x34 - x12*x34 - x13*x34 - x14*x34 - x15*x34 + x18*x34 + x19*x34 + x20*x34 + x21*x34 - x24*x34 - x25*x34 - x26*x34 - x27*x34 + x0*x35 + x1*x35 + x3*x35 - x6*x35 - x7*x35 - x9*x35 - x12*x35 - x13*x35 - x15*x35 + x18*x35 + x19*x35 + x21*x35 - x24*x35 - x25*x35 - x27*x35, x0^2 + x0*x1 + x0*x2 + x1*x2 - x2^2 + x2*x3 + x0*x4 + x1*x4 + x2*x4 + x3*x4 + x0*x5 + x1*x5 + x3*x5 + x6^2 + x6*x7 + x6*x8 + x7*x8 - x8^2 + x8*x9 + x6*x10 + x7*x10 + x8*x10 + x9*x10 + x6*x11 + x7*x11 + x9*x11 + x6*x12 - x7*x12 - x8*x12 - x10*x12 - x11*x12 - x12^2 - x6*x13 - x8*x13 - x10*x13 - x11*x13 - x12*x13 - x6*x14 - x7*x14 - x8*x14 - x9*x14 - x10*x14 - x12*x14 - x13*x14 + x14^2 - x8*x15 - x10*x15 - x11*x15 - x14*x15 - x6*x16 - x7*x16 - x8*x16 - x9*x16 - x12*x16 - x13*x16 - x14*x16 - x15*x16 - x6*x17 - x7*x17 - x9*x17 - x12*x17 - x13*x17 - x15*x17 - x0*x18 + x1*x18 + x2*x18 + x4*x18 + x5*x18 + x6*x18 - x7*x18 - x8*x18 - x10*x18 - x11*x18 + x0*x19 + x2*x19 + x4*x19 + x5*x19 - x6*x19 - x8*x19 - x10*x19 - x11*x19 + x0*x20 + x1*x20 + x2*x20 + x3*x20 + x4*x20 - x6*x20 - x7*x20 - x8*x20 - x9*x20 - x10*x20 + x2*x21 + x4*x21 + x5*x21 - x8*x21 - x10*x21 - x11*x21 + x0*x22 + x1*x22 + x2*x22 + x3*x22 - x6*x22 - x7*x22 - x8*x22 - x9*x22 + x0*x23 + x1*x23 + x3*x23 - x6*x23 - x7*x23 - x9*x23 + x0*x24 - x1*x24 - x2*x24 - x4*x24 - x5*x24 + x12*x24 - x13*x24 - x14*x24 - x16*x24 - x17*x24 - x24^2 - x0*x25 - x2*x25 - x4*x25 - x5*x25 - x12*x25 - x14*x25 - x16*x25 - x17*x25 - x24*x25 - x0*x26 - x1*x26 - x2*x26 - x3*x26 - x4*x26 - x12*x26 - x13*x26 - x14*x26 - x15*x26 - x16*x26 - x24*x26 - x25*x26 + x26^2 - x2*x27 - x4*x27 - x5*x27 - x14*x27 - x16*x27 - x17*x27 - x26*x27 - x0*x28 - x1*x28 - x2*x28 - x3*x28 - x12*x28 - x13*x28 - x14*x28 - x15*x28 - x24*x28 - x25*x28 - x26*x28 - x27*x28 - x0*x29 - x1*x29 - x3*x29 - x12*x29 - x13*x29 - x15*x29 - x24*x29 - x25*x29 - x27*x29 - x0*x30 + x1*x30 + x2*x30 + x4*x30 + x5*x30 - x12*x30 + x13*x30 + x14*x30 + x16*x30 + x17*x30 - x24*x30 + x25*x30 + x26*x30 + x28*x30 + x29*x30 - x30^2 + x0*x31 + x2*x31 + x4*x31 + x5*x31 + x12*x31 + x14*x31 + x16*x31 + x17*x31 + x24*x31 + x26*x31 + x28*x31 + x29*x31 - x30*x31 + x0*x32 + x1*x32 + x2*x32 + x3*x32 + x4*x32 + x12*x32 + x13*x32 + x14*x32 + x15*x32 + x16*x32 + x24*x32 + x25*x32 + x26*x32 + x27*x32 + x28*x32 - x30*x32 - x31*x32 + x32^2 + x2*x33 + x4*x33 + x5*x33 + x14*x33 + x16*x33 + x17*x33 + x26*x33 + x28*x33 + x29*x33 - x32*x33 + x0*x34 + x1*x34 + x2*x34 + x3*x34 + x12*x34 + x13*x34 + x14*x34 + x15*x34 + x24*x34 + x25*x34 + x26*x34 + x27*x34 - x30*x34 - x31*x34 - x32*x34 - x33*x34 + x0*x35 + x1*x35 + x3*x35 + x12*x35 + x13*x35 + x15*x35 + x24*x35 + x25*x35 + x27*x35 - x30*x35 - x31*x35 - x33*x35, x0^2 + x0*x1 + x0*x2 + x1*x2 - x2^2 + x2*x3 + x0*x4 + x1*x4 + x2*x4 + x3*x4 + x0*x5 + x1*x5 + x3*x5 + x0*x6 - x1*x6 - x2*x6 - x4*x6 - x5*x6 - x6^2 - x0*x7 - x2*x7 - x4*x7 - x5*x7 - x6*x7 - x0*x8 - x1*x8 - x2*x8 - x3*x8 - x4*x8 - x6*x8 - x7*x8 + x8^2 - x2*x9 - x4*x9 - x5*x9 - x8*x9 - x0*x10 - x1*x10 - x2*x10 - x3*x10 - x6*x10 - x7*x10 - x8*x10 - x9*x10 - x0*x11 - x1*x11 - x3*x11 - x6*x11 - x7*x11 - x9*x11 - x6*x12 + x7*x12 + x8*x12 + x10*x12 + x11*x12 - x12^2 + x6*x13 + x8*x13 + x10*x13 + x11*x13 - x12*x13 + x6*x14 + x7*x14 + x8*x14 + x9*x14 + x10*x14 - x12*x14 - x13*x14 + x14^2 + x8*x15 + x10*x15 + x11*x15 - x14*x15 + x6*x16 + x7*x16 + x8*x16 + x9*x16 - x12*x16 - x13*x16 - x14*x16 - x15*x16 + x6*x17 + x7*x17 + x9*x17 - x12*x17 - x13*x17 - x15*x17 + x12*x18 - x13*x18 - x14*x18 - x16*x18 - x17*x18 + x18^2 - x12*x19 - x14*x19 - x16*x19 - x17*x19 + x18*x19 - x12*x20 - x13*x20 - x14*x20 - x15*x20 - x16*x20 + x18*x20 + x19*x20 - x20^2 - x14*x21 - x16*x21 - x17*x21 + x20*x21 - x12*x22 - x13*x22 - x14*x22 - x15*x22 + x18*x22 + x19*x22 + x20*x22 + x21*x22 - x12*x23 - x13*x23 - x15*x23 + x18*x23 + x19*x23 + x21*x23 - x0*x24 + x1*x24 + x2*x24 + x4*x24 + x5*x24 + x12*x24 - x13*x24 - x14*x24 - x16*x24 - x17*x24 + x18*x24 - x19*x24 - x20*x24 - x22*x24 - x23*x24 + x24^2 + x0*x25 + x2*x25 + x4*x25 + x5*x25 - x12*x25 - x14*x25 - x16*x25 - x17*x25 - x18*x25 - x20*x25 - x22*x25 - x23*x25 + x24*x25 + x0*x26 + x1*x26 + x2*x26 + x3*x26 + x4*x26 - x12*x26 - x13*x26 - x14*x26 - x15*x26 - x16*x26 - x18*x26 - x19*x26 - x20*x26 - x21*x26 - x22*x26 + x24*x26 + x25*x26 - x26^2 + x2*x27 + x4*x27 + x5*x27 - x14*x27 - x16*x27 - x17*x27 - x20*x27 - x22*x27 - x23*x27 + x26*x27 + x0*x28 + x1*x28 + x2*x28 + x3*x28 - x12*x28 - x13*x28 - x14*x28 - x15*x28 - x18*x28 - x19*x28 - x20*x28 - x21*x28 + x24*x28 + x25*x28 + x26*x28 + x27*x28 + x0*x29 + x1*x29 + x3*x29 - x12*x29 - x13*x29 - x15*x29 - x18*x29 - x19*x29 - x21*x29 + x24*x29 + x25*x29 + x27*x29 + x0*x30 - x1*x30 - x2*x30 - x4*x30 - x5*x30 - x6*x30 + x7*x30 + x8*x30 + x10*x30 + x11*x30 - x12*x30 + x13*x30 + x14*x30 + x16*x30 + x17*x30 + x18*x30 - x19*x30 - x20*x30 - x22*x30 - x23*x30 - x24*x30 + x25*x30 + x26*x30 + x28*x30 + x29*x30 - x0*x31 - x2*x31 - x4*x31 - x5*x31 + x6*x31 + x8*x31 + x10*x31 + x11*x31 + x12*x31 + x14*x31 + x16*x31 + x17*x31 - x18*x31 - x20*x31 - x22*x31 - x23*x31 + x24*x31 + x26*x31 + x28*x31 + x29*x31 - x0*x32 - x1*x32 - x2*x32 - x3*x32 - x4*x32 + x6*x32 + x7*x32 + x8*x32 + x9*x32 + x10*x32 + x12*x32 + x13*x32 + x14*x32 + x15*x32 + x16*x32 - x18*x32 - x19*x32 - x20*x32 - x21*x32 - x22*x32 + x24*x32 + x25*x32 + x26*x32 + x27*x32 + x28*x32 - x2*x33 - x4*x33 - x5*x33 + x8*x33 + x10*x33 + x11*x33 + x14*x33 + x16*x33 + x17*x33 - x20*x33 - x22*x33 - x23*x33 + x26*x33 + x28*x33 + x29*x33 - x0*x34 - x1*x34 - x2*x34 - x3*x34 + x6*x34 + x7*x34 + x8*x34 + x9*x34 + x12*x34 + x13*x34 + x14*x34 + x15*x34 - x18*x34 - x19*x34 - x20*x34 - x21*x34 + x24*x34 + x25*x34 + x26*x34 + x27*x34 - x0*x35 - x1*x35 - x3*x35 + x6*x35 + x7*x35 + x9*x35 + x12*x35 + x13*x35 + x15*x35 - x18*x35 - x19*x35 - x21*x35 + x24*x35 + x25*x35 + x27*x35, x0^2 + x0*x1 + x0*x2 + x1*x2 - x2^2 + x2*x3 + x0*x4 + x1*x4 + x2*x4 + x3*x4 + x0*x5 + x1*x5 + x3*x5 + x0*x6 - x1*x6 - x2*x6 - x4*x6 - x5*x6 - x0*x7 - x2*x7 - x4*x7 - x5*x7 - x0*x8 - x1*x8 - x2*x8 - x3*x8 - x4*x8 - x2*x9 - x4*x9 - x5*x9 - x0*x10 - x1*x10 - x2*x10 - x3*x10 - x0*x11 - x1*x11 - x3*x11 + x0*x12 - x1*x12 - x2*x12 - x4*x12 - x5*x12 + x6*x12 - x7*x12 - x8*x12 - x10*x12 - x11*x12 - x0*x13 - x2*x13 - x4*x13 - x5*x13 - x6*x13 - x8*x13 - x10*x13 - x11*x13 - x0*x14 - x1*x14 - x2*x14 - x3*x14 - x4*x14 - x6*x14 - x7*x14 - x8*x14 - x9*x14 - x10*x14 - x2*x15 - x4*x15 - x5*x15 - x8*x15 - x10*x15 - x11*x15 - x0*x16 - x1*x16 - x2*x16 - x3*x16 - x6*x16 - x7*x16 - x8*x16 - x9*x16 - x0*x17 - x1*x17 - x3*x17 - x6*x17 - x7*x17 - x9*x17 - x6*x18 + x7*x18 + x8*x18 + x10*x18 + x11*x18 + x12*x18 - x13*x18 - x14*x18 - x16*x18 - x17*x18 + x18^2 + x6*x19 + x8*x19 + x10*x19 + x11*x19 - x12*x19 - x14*x19 - x16*x19 - x17*x19 + x18*x19 + x6*x20 + x7*x20 + x8*x20 + x9*x20 + x10*x20 - x12*x20 - x13*x20 - x14*x20 - x15*x20 - x16*x20 + x18*x20 + x19*x20 - x20^2 + x8*x21 + x10*x21 + x11*x21 - x14*x21 - x16*x21 - x17*x21 + x20*x21 + x6*x22 + x7*x22 + x8*x22 + x9*x22 - x12*x22 - x13*x22 - x14*x22 - x15*x22 + x18*x22 + x19*x22 + x20*x22 + x21*x22 + x6*x23 + x7*x23 + x9*x23 - x12*x23 - x13*x23 - x15*x23 + x18*x23 + x19*x23 + x21*x23 + x0*x24 - x1*x24 - x2*x24 - x4*x24 - x5*x24 - x6*x24 + x7*x24 + x8*x24 + x10*x24 + x11*x24 - x12*x24 + x13*x24 + x14*x24 + x16*x24 + x17*x24 - x18*x24 + x19*x24 + x20*x24 + x22*x24 + x23*x24 - x0*x25 - x2*x25 - x4*x25 - x5*x25 + x6*x25 + x8*x25 + x10*x25 + x11*x25 + x12*x25 + x14*x25 + x16*x25 + x17*x25 + x18*x25 + x20*x25 + x22*x25 + x23*x25 - x0*x26 - x1*x26 - x2*x26 - x3*x26 - x4*x26 + x6*x26 + x7*x26 + x8*x26 + x9*x26 + x10*x26 + x12*x26 + x13*x26 + x14*x26 + x15*x26 + x16*x26 + x18*x26 + x19*x26 + x20*x26 + x21*x26 + x22*x26 - x2*x27 - x4*x27 - x5*x27 + x8*x27 + x10*x27 + x11*x27 + x14*x27 + x16*x27 + x17*x27 + x20*x27 + x22*x27 + x23*x27 - x0*x28 - x1*x28 - x2*x28 - x3*x28 + x6*x28 + x7*x28 + x8*x28 + x9*x28 + x12*x28 + x13*x28 + x14*x28 + x15*x28 + x18*x28 + x19*x28 + x20*x28 + x21*x28 - x0*x29 - x1*x29 - x3*x29 + x6*x29 + x7*x29 + x9*x29 + x12*x29 + x13*x29 + x15*x29 + x18*x29 + x19*x29 + x21*x29 + x0*x30 - x1*x30 - x2*x30 - x4*x30 - x5*x30 + x6*x30 - x7*x30 - x8*x30 - x10*x30 - x11*x30 + x18*x30 - x19*x30 - x20*x30 - x22*x30 - x23*x30 - x24*x30 + x25*x30 + x26*x30 + x28*x30 + x29*x30 - x0*x31 - x2*x31 - x4*x31 - x5*x31 - x6*x31 - x8*x31 - x10*x31 - x11*x31 - x18*x31 - x20*x31 - x22*x31 - x23*x31 + x24*x31 + x26*x31 + x28*x31 + x29*x31 - x0*x32 - x1*x32 - x2*x32 - x3*x32 - x4*x32 - x6*x32 - x7*x32 - x8*x32 - x9*x32 - x10*x32 - x18*x32 - x19*x32 - x20*x32 - x21*x32 - x22*x32 + x24*x32 + x25*x32 + x26*x32 + x27*x32 + x28*x32 - x2*x33 - x4*x33 - x5*x33 - x8*x33 - x10*x33 - x11*x33 - x20*x33 - x22*x33 - x23*x33 + x26*x33 + x28*x33 + x29*x33 - x0*x34 - x1*x34 - x2*x34 - x3*x34 - x6*x34 - x7*x34 - x8*x34 - x9*x34 - x18*x34 - x19*x34 - x20*x34 - x21*x34 + x24*x34 + x25*x34 + x26*x34 + x27*x34 - x0*x35 - x1*x35 - x3*x35 - x6*x35 - x7*x35 - x9*x35 - x18*x35 - x19*x35 - x21*x35 + x24*x35 + x25*x35 + x27*x35) of Multivariate Polynomial Ring in x0, x1, x2, x3, x4, x5, x6, x7, x8, x9, x10, x11, x12, x13, x14, x15, x16, x17, x18, x19, x20, x21, x22, x23, x24, x25, x26, x27, x28, x29, x30, x31, x32, x33, x34, x35 over Finite Field of size 3"
      ]
     },
     "execution_count": 8,
     "metadata": {},
     "output_type": "execute_result"
    }
   ],
   "source": [
    "I"
   ]
  },
  {
   "cell_type": "code",
   "execution_count": null,
   "metadata": {},
   "outputs": [],
   "source": []
  }
 ],
 "metadata": {
  "kernelspec": {
   "display_name": "SageMath 9.0",
   "language": "sage",
   "name": "sagemath"
  },
  "language_info": {
   "codemirror_mode": {
    "name": "ipython",
    "version": 3
   },
   "file_extension": ".py",
   "mimetype": "text/x-python",
   "name": "python",
   "nbconvert_exporter": "python",
   "pygments_lexer": "ipython3",
   "version": "3.7.3"
  }
 },
 "nbformat": 4,
 "nbformat_minor": 2
}
